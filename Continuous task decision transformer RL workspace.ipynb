{
 "cells": [
  {
   "cell_type": "markdown",
   "id": "7d807631",
   "metadata": {},
   "source": [
    "# Working up continuous task decision transformer RL models "
   ]
  },
  {
   "cell_type": "markdown",
   "id": "d7b1f02a",
   "metadata": {},
   "source": [
    "## The following two cells are from https://huggingface.co/edbeeching/decision-transformer-gym-halfcheetah-expert"
   ]
  },
  {
   "cell_type": "code",
   "execution_count": 5,
   "id": "cbc52d20",
   "metadata": {
    "scrolled": true
   },
   "outputs": [],
   "source": [
    "# Note from Andrew Feldman: not pipeline workflow not applicable\n",
    "# Use a pipeline as a high-level helper\n",
    "#from transformers import pipeline\n",
    "\n",
    "#pipe = pipeline(\"reinforcement-learning\", model=\"edbeeching/decision-transformer-gym-halfcheetah-expert\")"
   ]
  },
  {
   "cell_type": "code",
   "execution_count": 6,
   "id": "7914d2d2",
   "metadata": {},
   "outputs": [],
   "source": [
    "# Load model directly\n",
    "from transformers import AutoTokenizer, AutoModel\n",
    "\n",
    "model = AutoModel.from_pretrained(\"edbeeching/decision-transformer-gym-halfcheetah-expert\")\n",
    "# Note from Andrew Feldman: tokenizer not applicable\n",
    "#tokenizer = AutoTokenizer.from_pretrained(\"edbeeching/decision-transformer-gym-halfcheetah-expert\")\n"
   ]
  },
  {
   "cell_type": "markdown",
   "id": "e577ea54",
   "metadata": {},
   "source": [
    "### The authors note that the following normalizations must be employed\n",
    "\n",
    "mean = [ -0.04489148, 0.03232588, 0.06034835, -0.17081226, -0.19480659, -0.05751596, 0.09701628, 0.03239211, 11.047426, -0.07997331, -0.32363534, 0.36297753, 0.42322603, 0.40836546, 1.1085187, -0.4874403, -0.0737481 ]\n",
    "\n",
    "std = [0.04002118, 0.4107858, 0.54217845, 0.41522816, 0.23796624, 0.62036866, 0.30100912, 0.21737163, 2.2105937, 0.572586, 1.7255033, 11.844218, 12.06324, 7.0495934, 13.499867, 7.195647, 5.0264325]"
   ]
  },
  {
   "cell_type": "code",
   "execution_count": null,
   "id": "2e4bce5d",
   "metadata": {},
   "outputs": [],
   "source": []
  }
 ],
 "metadata": {
  "kernelspec": {
   "display_name": "Python 3 (ipykernel)",
   "language": "python",
   "name": "python3"
  },
  "language_info": {
   "codemirror_mode": {
    "name": "ipython",
    "version": 3
   },
   "file_extension": ".py",
   "mimetype": "text/x-python",
   "name": "python",
   "nbconvert_exporter": "python",
   "pygments_lexer": "ipython3",
   "version": "3.8.10"
  }
 },
 "nbformat": 4,
 "nbformat_minor": 5
}
