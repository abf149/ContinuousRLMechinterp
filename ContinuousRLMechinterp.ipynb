{
 "cells": [
  {
   "cell_type": "markdown",
   "metadata": {
    "id": "BrN4rJdoHtgF"
   },
   "source": [
    "# Continuous RL Mechinterp Experiments\n",
    "\n",
    "Andrew Feldman Alignment Jam project\n",
    "\n",
    "Derived from Nanda Mechinterp tutorial notebook\n",
    "\n",
    "<b style=\"color: red\">To use this notebook, go to Runtime > Change Runtime Type and select GPU as the hardware accelerator.</b>\n",
    "\n",
    "This is a reference notebook covering the main features of the [TransformerLens](https://github.com/neelnanda-io/TransformerLens) library for mechanistic interpretability. See [Callum McDougall's tutorial](https://transformerlens-intro.streamlit.app/TransformerLens_&_induction_circuits) for a more structured and gentler introduction to the library"
   ]
  },
  {
   "cell_type": "markdown",
   "metadata": {
    "id": "x_3wdKHFHtgH"
   },
   "source": [
    "**Tips for reading this Colab:**\n",
    "* You can run all this code for yourself!\n",
    "* The graphs are interactive!\n",
    "* Use the table of contents pane in the sidebar to navigate\n",
    "* Collapse irrelevant sections with the dropdown arrows\n",
    "* Search the page using the search in the sidebar, not CTRL+F"
   ]
  },
  {
   "cell_type": "markdown",
   "metadata": {
    "id": "HMRFPpC2HtgH"
   },
   "source": [
    "# Setup\n",
    "(No need to read)"
   ]
  },
  {
   "cell_type": "code",
   "execution_count": 40,
   "metadata": {},
   "outputs": [],
   "source": [
    "# Added by Andrew Feldman - necessary imports to run outside of google colab\n",
    "#!pip install plotly\n",
    "#!pip install circuitsvis\n",
    "#!pip install einops\n",
    "#!pip install fancy_einsum\n",
    "#!pip install jaxtyping\n",
    "#!pip install transformers transformer_lens\n",
    "\n",
    "import matplotlib.pyplot as plt\n",
    "from pylab import meshgrid,cm,imshow,contour,clabel,colorbar,axis,title,show"
   ]
  },
  {
   "cell_type": "code",
   "execution_count": 2,
   "metadata": {
    "colab": {
     "base_uri": "https://localhost:8080/"
    },
    "id": "_Xfkqt1GHtgH",
    "outputId": "8aee1550-a2bc-44f9-bdaf-2aba933d868b"
   },
   "outputs": [
    {
     "name": "stdout",
     "output_type": "stream",
     "text": [
      "Running as a Jupyter notebook - intended for development only!\n"
     ]
    },
    {
     "name": "stderr",
     "output_type": "stream",
     "text": [
      "/tmp/ipykernel_2545247/4282351627.py:21: DeprecationWarning: `magic(...)` is deprecated since IPython 0.13 (warning added in 8.1), use run_line_magic(magic_name, parameter_s).\n",
      "  ipython.magic(\"load_ext autoreload\")\n",
      "/tmp/ipykernel_2545247/4282351627.py:22: DeprecationWarning: `magic(...)` is deprecated since IPython 0.13 (warning added in 8.1), use run_line_magic(magic_name, parameter_s).\n",
      "  ipython.magic(\"autoreload 2\")\n"
     ]
    }
   ],
   "source": [
    "# Janky code to do different setup when run in a Colab notebook vs VSCode\n",
    "DEVELOPMENT_MODE = False\n",
    "try:\n",
    "    import google.colab\n",
    "    IN_COLAB = True\n",
    "    print(\"Running as a Colab notebook\")\n",
    "    %pip install git+https://github.com/neelnanda-io/TransformerLens.git\n",
    "    %pip install circuitsvis\n",
    "\n",
    "    # PySvelte is an unmaintained visualization library, use it as a backup if circuitsvis isn't working\n",
    "    # # Install another version of node that makes PySvelte work way faster\n",
    "    # !curl -fsSL https://deb.nodesource.com/setup_16.x | sudo -E bash -; sudo apt-get install -y nodejs\n",
    "    # %pip install git+https://github.com/neelnanda-io/PySvelte.git\n",
    "except:\n",
    "    IN_COLAB = False\n",
    "    print(\"Running as a Jupyter notebook - intended for development only!\")\n",
    "    from IPython import get_ipython\n",
    "\n",
    "    ipython = get_ipython()\n",
    "    # Code to automatically update the HookedTransformer code as its edited without restarting the kernel\n",
    "    ipython.magic(\"load_ext autoreload\")\n",
    "    ipython.magic(\"autoreload 2\")"
   ]
  },
  {
   "cell_type": "code",
   "execution_count": 3,
   "metadata": {
    "colab": {
     "base_uri": "https://localhost:8080/"
    },
    "id": "9n65h6oAHtgI",
    "outputId": "b308efb0-2570-43a3-dbb7-f86854ae147b"
   },
   "outputs": [
    {
     "name": "stdout",
     "output_type": "stream",
     "text": [
      "Using renderer: colab\n"
     ]
    }
   ],
   "source": [
    "# Plotly needs a different renderer for VSCode/Notebooks vs Colab argh\n",
    "import plotly.io as pio\n",
    "if IN_COLAB or not DEVELOPMENT_MODE:\n",
    "    pio.renderers.default = \"colab\"\n",
    "else:\n",
    "    pio.renderers.default = \"notebook_connected\"\n",
    "print(f\"Using renderer: {pio.renderers.default}\")"
   ]
  },
  {
   "cell_type": "code",
   "execution_count": 4,
   "metadata": {
    "colab": {
     "base_uri": "https://localhost:8080/",
     "height": 64
    },
    "id": "kyWDyoKAHtgI",
    "outputId": "f5281e02-3cff-4736-eb6d-57ea0ec8988a"
   },
   "outputs": [
    {
     "data": {
      "text/html": [
       "<div id=\"circuits-vis-80ff653e-576b\" style=\"margin: 15px 0;\"/>\n",
       "    <script crossorigin type=\"module\">\n",
       "    import { render, Hello } from \"https://unpkg.com/circuitsvis@1.40.0/dist/cdn/esm.js\";\n",
       "    render(\n",
       "      \"circuits-vis-80ff653e-576b\",\n",
       "      Hello,\n",
       "      {\"name\": \"Neel\"}\n",
       "    )\n",
       "    </script>"
      ],
      "text/plain": [
       "<circuitsvis.utils.render.RenderedHTML at 0x7fa4a00fb130>"
      ]
     },
     "execution_count": 4,
     "metadata": {},
     "output_type": "execute_result"
    }
   ],
   "source": [
    "import circuitsvis as cv\n",
    "# Testing that the library works\n",
    "cv.examples.hello(\"Neel\")"
   ]
  },
  {
   "cell_type": "code",
   "execution_count": 5,
   "metadata": {
    "id": "S7TglLMmKWzd"
   },
   "outputs": [],
   "source": [
    "# Andrew Feldman - hack for getting good GPU stack traces\n",
    "import os\n",
    "os.environ['CUDA_LAUNCH_BLOCKING'] = \"1\""
   ]
  },
  {
   "cell_type": "code",
   "execution_count": 6,
   "metadata": {
    "id": "xEDx_yVFHtgJ"
   },
   "outputs": [],
   "source": [
    "# Import stuff\n",
    "import torch\n",
    "import torch.nn as nn\n",
    "import torch.nn.functional as F\n",
    "import torch.optim as optim\n",
    "import numpy as np\n",
    "import einops\n",
    "from fancy_einsum import einsum\n",
    "import tqdm.auto as tqdm\n",
    "import random\n",
    "from pathlib import Path\n",
    "import plotly.express as px\n",
    "from torch.utils.data import DataLoader\n",
    "\n",
    "from jaxtyping import Float, Int\n",
    "from typing import List, Union, Optional\n",
    "from functools import partial\n",
    "import copy\n",
    "\n",
    "import itertools\n",
    "from transformers import AutoModelForCausalLM, AutoConfig, AutoTokenizer\n",
    "import dataclasses\n",
    "import datasets\n",
    "from IPython.display import HTML"
   ]
  },
  {
   "cell_type": "code",
   "execution_count": 7,
   "metadata": {
    "id": "bO87NqXWHtgJ"
   },
   "outputs": [],
   "source": [
    "import transformer_lens\n",
    "import transformer_lens.utils as utils\n",
    "from transformer_lens.hook_points import (\n",
    "    HookedRootModule,\n",
    "    HookPoint,\n",
    ")  # Hooking utilities\n",
    "from transformer_lens import HookedTransformer, HookedTransformerConfig, FactoredMatrix, ActivationCache"
   ]
  },
  {
   "cell_type": "markdown",
   "metadata": {
    "id": "wMa5UdaFHtgJ"
   },
   "source": [
    "We turn automatic differentiation off, to save GPU memory, as this notebook focuses on model inference not model training."
   ]
  },
  {
   "cell_type": "code",
   "execution_count": 8,
   "metadata": {
    "colab": {
     "base_uri": "https://localhost:8080/"
    },
    "id": "m0c8gQOmHtgJ",
    "outputId": "9e20cd0a-f58f-4fe7-e6bf-a858ee3d26d0"
   },
   "outputs": [
    {
     "data": {
      "text/plain": [
       "<torch.autograd.grad_mode.set_grad_enabled at 0x7fa3b70a5190>"
      ]
     },
     "execution_count": 8,
     "metadata": {},
     "output_type": "execute_result"
    }
   ],
   "source": [
    "torch.set_grad_enabled(False)"
   ]
  },
  {
   "cell_type": "markdown",
   "metadata": {
    "id": "o75Vat2tHtgJ"
   },
   "source": [
    "Plotting helper functions:"
   ]
  },
  {
   "cell_type": "code",
   "execution_count": 9,
   "metadata": {
    "id": "oWSnx05CHtgJ"
   },
   "outputs": [],
   "source": [
    "def imshow(tensor, renderer=None, xaxis=\"\", yaxis=\"\", **kwargs):\n",
    "    px.imshow(utils.to_numpy(tensor), color_continuous_midpoint=0.0, color_continuous_scale=\"RdBu\", labels={\"x\":xaxis, \"y\":yaxis}, **kwargs).show(renderer)\n",
    "\n",
    "def line(tensor, renderer=None, xaxis=\"\", yaxis=\"\", **kwargs):\n",
    "    px.line(utils.to_numpy(tensor), labels={\"x\":xaxis, \"y\":yaxis}, **kwargs).show(renderer)\n",
    "\n",
    "def scatter(x, y, xaxis=\"\", yaxis=\"\", caxis=\"\", renderer=None, **kwargs):\n",
    "    x = utils.to_numpy(x)\n",
    "    y = utils.to_numpy(y)\n",
    "    px.scatter(y=y, x=x, labels={\"x\":xaxis, \"y\":yaxis, \"color\":caxis}, **kwargs).show(renderer)"
   ]
  },
  {
   "cell_type": "markdown",
   "metadata": {
    "id": "GrgkvmvdHtgK"
   },
   "source": [
    "# Introduction"
   ]
  },
  {
   "cell_type": "markdown",
   "metadata": {
    "id": "bfvzk2pHHtgK"
   },
   "source": [
    "This is a demo notebook for [TransformerLens](https://github.com/neelnanda-io/TransformerLens), **a library I ([Neel Nanda](neelnanda.io)) wrote for doing [mechanistic interpretability](https://distill.pub/2020/circuits/zoom-in/) of GPT-2 Style language models.** The goal of mechanistic interpretability is to take a trained model and reverse engineer the algorithms the model learned during training from its weights. It is a fact about the world today that we have computer programs that can essentially speak English at a human level (GPT-3, PaLM, etc), yet we have no idea how they work nor how to write one ourselves. This offends me greatly, and I would like to solve this! Mechanistic interpretability is a very young and small field, and there are a *lot* of open problems - if you would like to help, please try working on one! **If you want to skill up, check out [my guide to getting started](https://neelnanda.io/getting-started), and if you want to jump into an open problem check out my sequence [200 Concrete Open Problems in Mechanistic Interpretability](https://neelnanda.io/concrete-open-problems).**\n",
    "\n",
    "I wrote this library because after I left the Anthropic interpretability team and started doing independent research, I got extremely frustrated by the state of open source tooling. There's a lot of excellent infrastructure like HuggingFace and DeepSpeed to *use* or *train* models, but very little to dig into their internals and reverse engineer how they work. **This library tries to solve that**, and to make it easy to get into the field even if you don't work at an industry org with real infrastructure! The core features were heavily inspired by [Anthropic's excellent Garcon tool](https://transformer-circuits.pub/2021/garcon/index.html). Credit to Nelson Elhage and Chris Olah for building Garcon and showing me the value of good infrastructure for accelerating exploratory research!\n",
    "\n",
    "The core design principle I've followed is to enable exploratory analysis - one of the most fun parts of mechanistic interpretability compared to normal ML is the extremely short feedback loops! The point of this library is to keep the gap between having an experiment idea and seeing the results as small as possible, to make it easy for **research to feel like play** and to enter a flow state. This notebook demonstrates how the library works and how to use it, but if you want to see how well it works for exploratory research, check out [my notebook analysing Indirect Objection Identification](https://neelnanda.io/exploratory-analysis-demo) or [my recording of myself doing research](https://www.youtube.com/watch?v=yo4QvDn-vsU)!"
   ]
  },
  {
   "cell_type": "markdown",
   "metadata": {
    "id": "Oc8pySrFHtgK"
   },
   "source": [
    "## Loading and Running Models\n",
    "\n",
    "TransformerLens comes loaded with >40 open source GPT-style models. You can load any of them in with `HookedTransformer.from_pretrained(MODEL_NAME)`. For this demo notebook we'll look at GPT-2 Small, an 80M parameter model, see the Available Models section for info on the rest."
   ]
  },
  {
   "cell_type": "code",
   "execution_count": 10,
   "metadata": {
    "id": "rZ7yUCvVHtgL"
   },
   "outputs": [],
   "source": [
    "device = \"cuda\" if torch.cuda.is_available() else \"cpu\""
   ]
  },
  {
   "cell_type": "code",
   "execution_count": 11,
   "metadata": {
    "colab": {
     "base_uri": "https://localhost:8080/"
    },
    "id": "yKvjsc2WHtgL",
    "outputId": "a79dbc9e-0567-488a-81c8-f531bb341709"
   },
   "outputs": [
    {
     "name": "stderr",
     "output_type": "stream",
     "text": [
      "Using pad_token, but it is not set yet.\n"
     ]
    },
    {
     "name": "stdout",
     "output_type": "stream",
     "text": [
      "Loaded pretrained model gpt2-small into HookedTransformer\n"
     ]
    }
   ],
   "source": [
    "model = HookedTransformer.from_pretrained(\"gpt2-small\", device=device)"
   ]
  },
  {
   "cell_type": "markdown",
   "metadata": {
    "id": "4ik4wM2LHtgL"
   },
   "source": [
    "To try the model out, let's find the loss on this text! Models can be run on a single string or a tensor of tokens (shape: [batch, position], all integers), and the possible return types are:\n",
    "* \"logits\" (shape [batch, position, d_vocab], floats),\n",
    "* \"loss\" (the cross-entropy loss when predicting the next token),\n",
    "* \"both\" (a tuple of (logits, loss))\n",
    "* None (run the model, but don't calculate the logits - this is faster when we only want to use intermediate activations)"
   ]
  },
  {
   "cell_type": "code",
   "execution_count": 12,
   "metadata": {
    "colab": {
     "base_uri": "https://localhost:8080/"
    },
    "id": "GGdL790ZHtgL",
    "outputId": "4f14fb5d-8377-4517-971b-aa86b162485b"
   },
   "outputs": [
    {
     "name": "stdout",
     "output_type": "stream",
     "text": [
      "Model loss: tensor(4.1307, device='cuda:0')\n"
     ]
    }
   ],
   "source": [
    "model_description_text = \"\"\"## Loading Models\n",
    "\n",
    "HookedTransformer comes loaded with >40 open source GPT-style models. You can load any of them in with `HookedTransformer.from_pretrained(MODEL_NAME)`. See my explainer for documentation of all supported models, and this table for hyper-parameters and the name used to load them. Each model is loaded into the consistent HookedTransformer architecture, designed to be clean, consistent and interpretability-friendly.\n",
    "\n",
    "For this demo notebook we'll look at GPT-2 Small, an 80M parameter model. To try the model the model out, let's find the loss on this paragraph!\"\"\"\n",
    "loss = model(model_description_text, return_type=\"loss\")\n",
    "print(\"Model loss:\", loss)"
   ]
  },
  {
   "cell_type": "markdown",
   "metadata": {
    "id": "HPoYMbZfHtgL"
   },
   "source": [
    "## Caching all Activations\n",
    "\n",
    "The first basic operation when doing mechanistic interpretability is to break open the black box of the model and look at all of the internal activations of a model. This can be done with `logits, cache = model.run_with_cache(tokens)`. Let's try this out on the first line of the abstract of the GPT-2 paper.\n",
    "\n",
    "<details><summary>On `remove_batch_dim`</summary>\n",
    "\n",
    "Every activation inside the model begins with a batch dimension. Here, because we only entered a single batch dimension, that dimension is always length 1 and kinda annoying, so passing in the `remove_batch_dim=True` keyword removes it. `gpt2_cache_no_batch_dim = gpt2_cache.remove_batch_dim()` would have achieved the same effect.\n",
    "</details?>"
   ]
  },
  {
   "cell_type": "code",
   "execution_count": 13,
   "metadata": {
    "colab": {
     "base_uri": "https://localhost:8080/"
    },
    "id": "zZDn5LUDHtgM",
    "outputId": "a5ac294d-221b-4307-d512-531eb29986a8"
   },
   "outputs": [
    {
     "name": "stdout",
     "output_type": "stream",
     "text": [
      "cuda:0\n"
     ]
    }
   ],
   "source": [
    "gpt2_text = \"Natural language processing tasks, such as question answering, machine translation, reading comprehension, and summarization, are typically approached with supervised learning on taskspecific datasets.\"\n",
    "gpt2_tokens = model.to_tokens(gpt2_text)\n",
    "print(gpt2_tokens.device)\n",
    "gpt2_logits, gpt2_cache = model.run_with_cache(gpt2_tokens, remove_batch_dim=True)"
   ]
  },
  {
   "cell_type": "markdown",
   "metadata": {
    "id": "tmBn2lPoHtgM"
   },
   "source": [
    "Let's visualize the attention pattern of all the heads in layer 0, using [Alan Cooney's CircuitsVis library](https://github.com/alan-cooney/CircuitsVis) (based on [Anthropic's PySvelte library](https://github.com/anthropics/PySvelte)).\n",
    "\n",
    "We look this the attention pattern in `gpt2_cache`, an `ActivationCache` object, by entering in the name of the activation, followed by the layer index (here, the activation is called \"attn\" and the layer index is 0). This has shape [head_index, destination_position, source_position], and we use the `model.to_str_tokens` method to convert the text to a list of tokens as strings, since there is an attention weight between each pair of tokens.\n",
    "\n",
    "This visualization is interactive! Try hovering over a token or head, and click to lock. The grid on the top left and for each head is the attention pattern as a destination position by source position grid. It's lower triangular because GPT-2 has **causal attention**, attention can only look backwards, so information can only move forwards in the network.\n",
    "\n",
    "See the ActivationCache section for more on what `gpt2_cache` can do."
   ]
  },
  {
   "cell_type": "code",
   "execution_count": 14,
   "metadata": {
    "colab": {
     "base_uri": "https://localhost:8080/"
    },
    "id": "jjoqYHf4HtgM",
    "outputId": "fd29619f-a22d-4b21-fd24-97af7202ba0c"
   },
   "outputs": [
    {
     "name": "stdout",
     "output_type": "stream",
     "text": [
      "<class 'transformer_lens.ActivationCache.ActivationCache'>\n",
      "torch.Size([12, 33, 33])\n"
     ]
    }
   ],
   "source": [
    "print(type(gpt2_cache))\n",
    "attention_pattern = gpt2_cache[\"pattern\", 0, \"attn\"]\n",
    "print(attention_pattern.shape)\n",
    "gpt2_str_tokens = model.to_str_tokens(gpt2_text)"
   ]
  },
  {
   "cell_type": "code",
   "execution_count": 15,
   "metadata": {
    "colab": {
     "base_uri": "https://localhost:8080/",
     "height": 375
    },
    "id": "D-XGL9_ZHtgM",
    "outputId": "c5cbd574-dac9-4cf9-e19f-ef647ccdb418"
   },
   "outputs": [
    {
     "name": "stdout",
     "output_type": "stream",
     "text": [
      "Layer 0 Head Attention Patterns:\n"
     ]
    },
    {
     "data": {
      "text/html": [
       "<div id=\"circuits-vis-f5c621cd-f8ed\" style=\"margin: 15px 0;\"/>\n",
       "    <script crossorigin type=\"module\">\n",
       "    import { render, AttentionPatterns } from \"https://unpkg.com/circuitsvis@1.40.0/dist/cdn/esm.js\";\n",
       "    render(\n",
       "      \"circuits-vis-f5c621cd-f8ed\",\n",
       "      AttentionPatterns,\n",
       "      {\"tokens\": [\"<|endoftext|>\", \"Natural\", \" language\", \" processing\", \" tasks\", \",\", \" such\", \" as\", \" question\", \" answering\", \",\", \" machine\", \" translation\", \",\", \" reading\", \" comprehension\", \",\", \" and\", \" summar\", \"ization\", \",\", \" are\", \" typically\", \" approached\", \" with\", \" supervised\", \" learning\", \" on\", \" tasks\", \"pe\", \"cific\", \" datasets\", \".\"], \"attention\": [[[1.0, 0.0, 0.0, 0.0, 0.0, 0.0, 0.0, 0.0, 0.0, 0.0, 0.0, 0.0, 0.0, 0.0, 0.0, 0.0, 0.0, 0.0, 0.0, 0.0, 0.0, 0.0, 0.0, 0.0, 0.0, 0.0, 0.0, 0.0, 0.0, 0.0, 0.0, 0.0, 0.0], [0.9639418125152588, 0.03605815768241882, 0.0, 0.0, 0.0, 0.0, 0.0, 0.0, 0.0, 0.0, 0.0, 0.0, 0.0, 0.0, 0.0, 0.0, 0.0, 0.0, 0.0, 0.0, 0.0, 0.0, 0.0, 0.0, 0.0, 0.0, 0.0, 0.0, 0.0, 0.0, 0.0, 0.0, 0.0], [0.8389372825622559, 0.11828787624835968, 0.042774833738803864, 0.0, 0.0, 0.0, 0.0, 0.0, 0.0, 0.0, 0.0, 0.0, 0.0, 0.0, 0.0, 0.0, 0.0, 0.0, 0.0, 0.0, 0.0, 0.0, 0.0, 0.0, 0.0, 0.0, 0.0, 0.0, 0.0, 0.0, 0.0, 0.0, 0.0], [0.4743611216545105, 0.13382023572921753, 0.27371740341186523, 0.11810114234685898, 0.0, 0.0, 0.0, 0.0, 0.0, 0.0, 0.0, 0.0, 0.0, 0.0, 0.0, 0.0, 0.0, 0.0, 0.0, 0.0, 0.0, 0.0, 0.0, 0.0, 0.0, 0.0, 0.0, 0.0, 0.0, 0.0, 0.0, 0.0, 0.0], [0.35606446862220764, 0.10184910148382187, 0.2305421531200409, 0.20397402346134186, 0.10757026821374893, 0.0, 0.0, 0.0, 0.0, 0.0, 0.0, 0.0, 0.0, 0.0, 0.0, 0.0, 0.0, 0.0, 0.0, 0.0, 0.0, 0.0, 0.0, 0.0, 0.0, 0.0, 0.0, 0.0, 0.0, 0.0, 0.0, 0.0, 0.0], [0.6660143733024597, 0.16866381466388702, 0.04535672441124916, 0.03885501250624657, 0.06775479763746262, 0.013355255126953125, 0.0, 0.0, 0.0, 0.0, 0.0, 0.0, 0.0, 0.0, 0.0, 0.0, 0.0, 0.0, 0.0, 0.0, 0.0, 0.0, 0.0, 0.0, 0.0, 0.0, 0.0, 0.0, 0.0, 0.0, 0.0, 0.0, 0.0], [0.3862694799900055, 0.28510934114456177, 0.07609009742736816, 0.05908382683992386, 0.07223352044820786, 0.0397963710129261, 0.08141735941171646, 0.0, 0.0, 0.0, 0.0, 0.0, 0.0, 0.0, 0.0, 0.0, 0.0, 0.0, 0.0, 0.0, 0.0, 0.0, 0.0, 0.0, 0.0, 0.0, 0.0, 0.0, 0.0, 0.0, 0.0, 0.0, 0.0], [0.3775394856929779, 0.18838824331760406, 0.11723992973566055, 0.08685599267482758, 0.06669183075428009, 0.03500014916062355, 0.09693002700805664, 0.0313543900847435, 0.0, 0.0, 0.0, 0.0, 0.0, 0.0, 0.0, 0.0, 0.0, 0.0, 0.0, 0.0, 0.0, 0.0, 0.0, 0.0, 0.0, 0.0, 0.0, 0.0, 0.0, 0.0, 0.0, 0.0, 0.0], [0.4869753420352936, 0.06781314313411713, 0.07952874898910522, 0.0848078653216362, 0.1590261161327362, 0.029577812179923058, 0.025685925036668777, 0.016474610194563866, 0.050110410898923874, 0.0, 0.0, 0.0, 0.0, 0.0, 0.0, 0.0, 0.0, 0.0, 0.0, 0.0, 0.0, 0.0, 0.0, 0.0, 0.0, 0.0, 0.0, 0.0, 0.0, 0.0, 0.0, 0.0, 0.0], [0.2906549572944641, 0.0401349812746048, 0.14614859223365784, 0.09940596669912338, 0.15389195084571838, 0.03900161758065224, 0.024988986551761627, 0.03184129297733307, 0.10222819447517395, 0.07170350104570389, 0.0, 0.0, 0.0, 0.0, 0.0, 0.0, 0.0, 0.0, 0.0, 0.0, 0.0, 0.0, 0.0, 0.0, 0.0, 0.0, 0.0, 0.0, 0.0, 0.0, 0.0, 0.0, 0.0], [0.39624103903770447, 0.09694181382656097, 0.02727065607905388, 0.023551367223262787, 0.03723450377583504, 0.006502412259578705, 0.08118752390146255, 0.013088468462228775, 0.06990591436624527, 0.240431010723114, 0.007645335514098406, 0.0, 0.0, 0.0, 0.0, 0.0, 0.0, 0.0, 0.0, 0.0, 0.0, 0.0, 0.0, 0.0, 0.0, 0.0, 0.0, 0.0, 0.0, 0.0, 0.0, 0.0, 0.0], [0.24864794313907623, 0.1380205899477005, 0.09235323220491409, 0.08676133304834366, 0.1381969451904297, 0.05914194881916046, 0.032238587737083435, 0.03158240020275116, 0.03048943169414997, 0.03873484954237938, 0.06671835482120514, 0.0371144562959671, 0.0, 0.0, 0.0, 0.0, 0.0, 0.0, 0.0, 0.0, 0.0, 0.0, 0.0, 0.0, 0.0, 0.0, 0.0, 0.0, 0.0, 0.0, 0.0, 0.0, 0.0], [0.19148440659046173, 0.1617259383201599, 0.07445937395095825, 0.0774095430970192, 0.021961115300655365, 0.033921293914318085, 0.05125020071864128, 0.019519230350852013, 0.031324464827775955, 0.04020151495933533, 0.03874268755316734, 0.21578854322433472, 0.04221170023083687, 0.0, 0.0, 0.0, 0.0, 0.0, 0.0, 0.0, 0.0, 0.0, 0.0, 0.0, 0.0, 0.0, 0.0, 0.0, 0.0, 0.0, 0.0, 0.0, 0.0], [0.3704318702220917, 0.08681420236825943, 0.024584660306572914, 0.021616317331790924, 0.032388731837272644, 0.005422733258455992, 0.07275217026472092, 0.0112727927044034, 0.06329692155122757, 0.21726815402507782, 0.006367161870002747, 0.029603812843561172, 0.050998445600271225, 0.007182058412581682, 0.0, 0.0, 0.0, 0.0, 0.0, 0.0, 0.0, 0.0, 0.0, 0.0, 0.0, 0.0, 0.0, 0.0, 0.0, 0.0, 0.0, 0.0, 0.0], [0.19737641513347626, 0.046039972454309464, 0.04399982467293739, 0.13373461365699768, 0.054248228669166565, 0.025475719943642616, 0.02756350487470627, 0.02157093770802021, 0.05171823874115944, 0.064580999314785, 0.028064627200365067, 0.23551586270332336, 0.019129816442728043, 0.02996351197361946, 0.021017679944634438, 0.0, 0.0, 0.0, 0.0, 0.0, 0.0, 0.0, 0.0, 0.0, 0.0, 0.0, 0.0, 0.0, 0.0, 0.0, 0.0, 0.0, 0.0], [0.08907238394021988, 0.01928834803402424, 0.1665354073047638, 0.07281263172626495, 0.04738643020391464, 0.024487914517521858, 0.028987322002649307, 0.019370371475815773, 0.02667301520705223, 0.07316634804010391, 0.025704586878418922, 0.04242357611656189, 0.05869462341070175, 0.02893269620835781, 0.18119071424007416, 0.0952736884355545, 0.0, 0.0, 0.0, 0.0, 0.0, 0.0, 0.0, 0.0, 0.0, 0.0, 0.0, 0.0, 0.0, 0.0, 0.0, 0.0, 0.0], [0.281672865152359, 0.0644129291176796, 0.018008539453148842, 0.01616962067782879, 0.02318388968706131, 0.003753294702619314, 0.05472239479422569, 0.00790976732969284, 0.04616469144821167, 0.169472798705101, 0.004361644387245178, 0.021011341363191605, 0.03549070656299591, 0.004932572599500418, 0.0955522358417511, 0.1472632735967636, 0.005917453207075596, 0.0, 0.0, 0.0, 0.0, 0.0, 0.0, 0.0, 0.0, 0.0, 0.0, 0.0, 0.0, 0.0, 0.0, 0.0, 0.0], [0.2130548506975174, 0.059123702347278595, 0.033820878714323044, 0.027476884424686432, 0.0283935759216547, 0.008422903716564178, 0.040085285902023315, 0.011629263870418072, 0.052951879799366, 0.1540464162826538, 0.009831813164055347, 0.03610192611813545, 0.04737288877367973, 0.011069197207689285, 0.09972476959228516, 0.13971349596977234, 0.013185347430408001, 0.013994945213198662, 0.0, 0.0, 0.0, 0.0, 0.0, 0.0, 0.0, 0.0, 0.0, 0.0, 0.0, 0.0, 0.0, 0.0, 0.0], [0.15871699154376984, 0.04387890174984932, 0.08712148666381836, 0.08998465538024902, 0.030738569796085358, 0.034148938953876495, 0.0249172393232584, 0.031391941010951996, 0.024823850020766258, 0.019790321588516235, 0.03625483065843582, 0.02069440856575966, 0.04284070432186127, 0.038208991289138794, 0.06234658136963844, 0.10919704288244247, 0.04137600213289261, 0.049167610704898834, 0.05440091714262962, 0.0, 0.0, 0.0, 0.0, 0.0, 0.0, 0.0, 0.0, 0.0, 0.0, 0.0, 0.0, 0.0, 0.0], [0.10485512018203735, 0.12122289091348648, 0.0648748055100441, 0.08768719434738159, 0.03434053808450699, 0.01748392917215824, 0.03415178135037422, 0.015289138071238995, 0.023312101140618324, 0.028306517750024796, 0.018720459192991257, 0.028111932799220085, 0.041905343532562256, 0.020989563316106796, 0.04678507521748543, 0.08659637719392776, 0.023631826043128967, 0.02427317015826702, 0.16702403128147125, 0.01043821219354868, 0.0, 0.0, 0.0, 0.0, 0.0, 0.0, 0.0, 0.0, 0.0, 0.0, 0.0, 0.0, 0.0], [0.22901976108551025, 0.05184386670589447, 0.01358517911285162, 0.012337243184447289, 0.018005425110459328, 0.0027703610248863697, 0.04238125681877136, 0.005856252741068602, 0.036144863814115524, 0.13039225339889526, 0.0031534258741885424, 0.015672577545046806, 0.027800409123301506, 0.003554327879101038, 0.07460817694664001, 0.11298274248838425, 0.0042722648940980434, 0.006832208018749952, 0.18569746613502502, 0.018073642626404762, 0.005016351118683815, 0.0, 0.0, 0.0, 0.0, 0.0, 0.0, 0.0, 0.0, 0.0, 0.0, 0.0, 0.0], [0.18869924545288086, 0.03438713774085045, 0.022344741970300674, 0.01997274160385132, 0.0163540281355381, 0.006856550928205252, 0.020859036594629288, 0.005695999134331942, 0.03415917605161667, 0.07260987907648087, 0.007857214659452438, 0.018040228635072708, 0.026904461905360222, 0.009020404890179634, 0.06876447796821594, 0.1757873147726059, 0.010720068588852882, 0.009284544736146927, 0.1925639808177948, 0.025180336087942123, 0.012639069929718971, 0.021299343556165695, 0.0, 0.0, 0.0, 0.0, 0.0, 0.0, 0.0, 0.0, 0.0, 0.0, 0.0], [0.11958316713571548, 0.02225942350924015, 0.03294714167714119, 0.02017022855579853, 0.03565330058336258, 0.01345989853143692, 0.017516465857625008, 0.010057874955236912, 0.02585642598569393, 0.059559572488069534, 0.015084504149854183, 0.0150087159126997, 0.05317467823624611, 0.016597608104348183, 0.04155528172850609, 0.13129334151744843, 0.019296662881970406, 0.01585504226386547, 0.17925095558166504, 0.016183823347091675, 0.022295543923974037, 0.015463383868336678, 0.10187701880931854, 0.0, 0.0, 0.0, 0.0, 0.0, 0.0, 0.0, 0.0, 0.0, 0.0], [0.14615528285503387, 0.02672751061618328, 0.016624562442302704, 0.018987687304615974, 0.06278640776872635, 0.015317169949412346, 0.019792238250374794, 0.014227771200239658, 0.025458164513111115, 0.045303523540496826, 0.016364354640245438, 0.0374930314719677, 0.013288652524352074, 0.017496544867753983, 0.03994584456086159, 0.05881751701235771, 0.01926097460091114, 0.024616045877337456, 0.03821970149874687, 0.021577805280685425, 0.020949913188815117, 0.07973220944404602, 0.05017608031630516, 0.17068099975585938, 0.0, 0.0, 0.0, 0.0, 0.0, 0.0, 0.0, 0.0, 0.0], [0.11321666836738586, 0.03674638271331787, 0.01178658101707697, 0.010274877771735191, 0.020370660349726677, 0.005243882071226835, 0.01591883972287178, 0.005266786552965641, 0.024891724810004234, 0.06593260169029236, 0.005933660082519054, 0.018209034577012062, 0.021020201966166496, 0.006667505484074354, 0.03482880815863609, 0.13742123544216156, 0.007927050814032555, 0.008618665859103203, 0.11377197504043579, 0.0135574359446764, 0.009277831763029099, 0.026121370494365692, 0.08499342203140259, 0.19073906540870667, 0.011263745836913586, 0.0, 0.0, 0.0, 0.0, 0.0, 0.0, 0.0, 0.0], [0.1333771049976349, 0.02621660940349102, 0.03827149420976639, 0.07152575254440308, 0.053177688270807266, 0.013925844803452492, 0.007084185257554054, 0.013450157828629017, 0.009841452352702618, 0.011789768002927303, 0.013537585735321045, 0.038154978305101395, 0.04193306714296341, 0.013882293365895748, 0.03707146272063255, 0.13838455080986023, 0.014846332371234894, 0.03156954050064087, 0.055981770157814026, 0.015536699444055557, 0.015956364572048187, 0.045455560088157654, 0.016699664294719696, 0.02532576583325863, 0.03671894967556, 0.08028540760278702, 0.0, 0.0, 0.0, 0.0, 0.0, 0.0, 0.0], [0.10608967393636703, 0.019107714295387268, 0.024468643590807915, 0.027496378868818283, 0.016365807503461838, 0.005011420231312513, 0.010413099080324173, 0.006081140600144863, 0.00530106108635664, 0.011143156327307224, 0.004565387964248657, 0.018969904631376266, 0.004321119748055935, 0.004814977757632732, 0.02940937876701355, 0.028682008385658264, 0.005097249057143927, 0.007234347518533468, 0.034125927835702896, 0.010370589792728424, 0.005643262527883053, 0.007283581420779228, 0.02938954159617424, 0.010038796812295914, 0.009134511463344097, 0.5466634035110474, 0.012777912430465221, 0.0, 0.0, 0.0, 0.0, 0.0, 0.0], [0.10467305779457092, 0.033219434320926666, 0.015341250225901604, 0.009373555891215801, 0.026595456525683403, 0.005787803791463375, 0.013571344316005707, 0.004554883111268282, 0.028058895841240883, 0.026107221841812134, 0.006353440694510937, 0.013315826654434204, 0.026628246530890465, 0.006888877134770155, 0.062047481536865234, 0.05890706181526184, 0.008068053983151913, 0.007557095494121313, 0.0852278470993042, 0.01707574725151062, 0.009256887249648571, 0.019695762544870377, 0.1261781007051468, 0.13061514496803284, 0.011351031251251698, 0.08984371274709702, 0.046381521970033646, 0.0073253014124929905, 0.0, 0.0, 0.0, 0.0, 0.0], [0.0856190174818039, 0.021438948810100555, 0.05641254410147667, 0.057066649198532104, 0.01980219967663288, 0.006727493833750486, 0.005809159949421883, 0.004516263026744127, 0.0031647486612200737, 0.017615195363759995, 0.00617459649220109, 0.08767972886562347, 0.01229986920952797, 0.006350459065288305, 0.017522132024168968, 0.14295221865177155, 0.006585484836250544, 0.007875689305365086, 0.030078930780291557, 0.013907493092119694, 0.007376689929515123, 0.007684784941375256, 0.022160841152071953, 0.012385029345750809, 0.01189006119966507, 0.08669775724411011, 0.19902533292770386, 0.013594492338597775, 0.029586229473352432, 0.0, 0.0, 0.0, 0.0], [0.1406458467245102, 0.013298719190061092, 0.015702957287430763, 0.017357870936393738, 0.022331519052386284, 0.02967226505279541, 0.04172082245349884, 0.018995430320501328, 0.03827711194753647, 0.04863562807440758, 0.030946899205446243, 0.016023894771933556, 0.020880913361907005, 0.0324382409453392, 0.03055814653635025, 0.022808345034718513, 0.03537757694721222, 0.03145160526037216, 0.034971121698617935, 0.01867911033332348, 0.03821907192468643, 0.022578855976462364, 0.06819559633731842, 0.04214097559452057, 0.028620854020118713, 0.03775002434849739, 0.01857805624604225, 0.03376871347427368, 0.03641696646809578, 0.01295684278011322, 0.0, 0.0, 0.0], [0.07168618589639664, 0.06924449652433395, 0.019306903705000877, 0.014161980710923672, 0.01682320050895214, 0.019380604848265648, 0.01925741694867611, 0.022003671154379845, 0.013706520199775696, 0.03578377142548561, 0.018465179949998856, 0.05207166075706482, 0.02008519507944584, 0.019862139597535133, 0.02066212333738804, 0.0472516193985939, 0.02107669785618782, 0.036787234246730804, 0.02432408183813095, 0.003827546490356326, 0.023920688778162003, 0.008533223532140255, 0.026241615414619446, 0.02738007716834545, 0.03461198881268501, 0.022884152829647064, 0.10047909617424011, 0.06913501024246216, 0.02547456882894039, 0.06495603919029236, 0.030615350231528282, 0.0, 0.0], [0.069107785820961, 0.03701227530837059, 0.03862114995718002, 0.059333231300115585, 0.015923548489809036, 0.007918561808764935, 0.010371043346822262, 0.006615668069571257, 0.0025200769305229187, 0.026019366458058357, 0.007905234582722187, 0.029652021825313568, 0.04000623896718025, 0.008451346307992935, 0.010741159319877625, 0.05027560889720917, 0.009428855031728745, 0.013601028360426426, 0.05036924034357071, 0.031767141073942184, 0.010793029330670834, 0.007216806523501873, 0.006478431634604931, 0.01480061188340187, 0.021585965529084206, 0.15769487619400024, 0.08884759247303009, 0.01901695318520069, 0.029729356989264488, 0.03316135331988335, 0.05088364705443382, 0.0341508612036705, 0.0], [0.14375518262386322, 0.01681104116141796, 0.00938666146248579, 0.006830316036939621, 0.01165685523301363, 0.0015672273002564907, 0.019711466506123543, 0.0023980417754501104, 0.021235883235931396, 0.04683683067560196, 0.001690514967776835, 0.005827190820127726, 0.01198000367730856, 0.001825142651796341, 0.04231332987546921, 0.05491369962692261, 0.002178655005991459, 0.0024170137476176023, 0.0960407555103302, 0.005752877332270145, 0.002557790605351329, 0.00712122768163681, 0.08889930695295334, 0.10852079838514328, 0.005179053172469139, 0.03657732158899307, 0.024719925597310066, 0.003734765574336052, 0.031077083200216293, 0.016887929290533066, 0.094508595764637, 0.07171522825956345, 0.0033723246306180954]], [[1.0, 0.0, 0.0, 0.0, 0.0, 0.0, 0.0, 0.0, 0.0, 0.0, 0.0, 0.0, 0.0, 0.0, 0.0, 0.0, 0.0, 0.0, 0.0, 0.0, 0.0, 0.0, 0.0, 0.0, 0.0, 0.0, 0.0, 0.0, 0.0, 0.0, 0.0, 0.0, 0.0], [0.0004246659518685192, 0.9995753169059753, 0.0, 0.0, 0.0, 0.0, 0.0, 0.0, 0.0, 0.0, 0.0, 0.0, 0.0, 0.0, 0.0, 0.0, 0.0, 0.0, 0.0, 0.0, 0.0, 0.0, 0.0, 0.0, 0.0, 0.0, 0.0, 0.0, 0.0, 0.0, 0.0, 0.0, 0.0], [0.0005621903110295534, 0.01640726439654827, 0.9830306172370911, 0.0, 0.0, 0.0, 0.0, 0.0, 0.0, 0.0, 0.0, 0.0, 0.0, 0.0, 0.0, 0.0, 0.0, 0.0, 0.0, 0.0, 0.0, 0.0, 0.0, 0.0, 0.0, 0.0, 0.0, 0.0, 0.0, 0.0, 0.0, 0.0, 0.0], [0.0011627553030848503, 0.021681996062397957, 0.003762038890272379, 0.9733933210372925, 0.0, 0.0, 0.0, 0.0, 0.0, 0.0, 0.0, 0.0, 0.0, 0.0, 0.0, 0.0, 0.0, 0.0, 0.0, 0.0, 0.0, 0.0, 0.0, 0.0, 0.0, 0.0, 0.0, 0.0, 0.0, 0.0, 0.0, 0.0, 0.0], [3.7244368286337703e-05, 0.00017202284652739763, 0.0002814395702444017, 0.00274214381352067, 0.9967671632766724, 0.0, 0.0, 0.0, 0.0, 0.0, 0.0, 0.0, 0.0, 0.0, 0.0, 0.0, 0.0, 0.0, 0.0, 0.0, 0.0, 0.0, 0.0, 0.0, 0.0, 0.0, 0.0, 0.0, 0.0, 0.0, 0.0, 0.0, 0.0], [0.008268454112112522, 0.0002398560318397358, 7.361903408309445e-05, 6.437722186092287e-05, 0.00017566375026945025, 0.9911779761314392, 0.0, 0.0, 0.0, 0.0, 0.0, 0.0, 0.0, 0.0, 0.0, 0.0, 0.0, 0.0, 0.0, 0.0, 0.0, 0.0, 0.0, 0.0, 0.0, 0.0, 0.0, 0.0, 0.0, 0.0, 0.0, 0.0, 0.0], [0.0012215052265673876, 0.005400446243584156, 0.0016716326354071498, 0.00040775633533485234, 0.0006163663347251713, 0.00109311961568892, 0.9895892143249512, 0.0, 0.0, 0.0, 0.0, 0.0, 0.0, 0.0, 0.0, 0.0, 0.0, 0.0, 0.0, 0.0, 0.0, 0.0, 0.0, 0.0, 0.0, 0.0, 0.0, 0.0, 0.0, 0.0, 0.0, 0.0, 0.0], [0.0012459782883524895, 0.0009121224284172058, 0.0005976720713078976, 0.00013656883675139397, 0.0003304113633930683, 0.001572279492393136, 0.003880818374454975, 0.9913240671157837, 0.0, 0.0, 0.0, 0.0, 0.0, 0.0, 0.0, 0.0, 0.0, 0.0, 0.0, 0.0, 0.0, 0.0, 0.0, 0.0, 0.0, 0.0, 0.0, 0.0, 0.0, 0.0, 0.0, 0.0, 0.0], [0.00028217487852089107, 0.004068179056048393, 0.002660516882315278, 0.0013093100860714912, 0.0080304816365242, 0.00028790938085876405, 0.00022922920470591635, 0.0003948425000999123, 0.9827372431755066, 0.0, 0.0, 0.0, 0.0, 0.0, 0.0, 0.0, 0.0, 0.0, 0.0, 0.0, 0.0, 0.0, 0.0, 0.0, 0.0, 0.0, 0.0, 0.0, 0.0, 0.0, 0.0, 0.0, 0.0], [3.4739397960947827e-05, 0.00039538511191494763, 0.0001327274803770706, 0.00025852362159639597, 0.0010855612345039845, 9.19806188903749e-05, 0.0003267084830440581, 0.0005427470314316452, 0.0061059449799358845, 0.9910256266593933, 0.0, 0.0, 0.0, 0.0, 0.0, 0.0, 0.0, 0.0, 0.0, 0.0, 0.0, 0.0, 0.0, 0.0, 0.0, 0.0, 0.0, 0.0, 0.0, 0.0, 0.0, 0.0, 0.0], [0.003378510707989335, 5.0908744015032426e-05, 1.6452069758088328e-05, 1.6926142052398063e-05, 4.181417534709908e-05, 0.4939407408237457, 0.00012981270265299827, 0.0008837346103973687, 3.2212017686106265e-05, 2.7252111976849847e-05, 0.5014816522598267, 0.0, 0.0, 0.0, 0.0, 0.0, 0.0, 0.0, 0.0, 0.0, 0.0, 0.0, 0.0, 0.0, 0.0, 0.0, 0.0, 0.0, 0.0, 0.0, 0.0, 0.0, 0.0], [8.416071796091273e-05, 0.001341726048849523, 0.0012613632716238499, 0.002145079430192709, 0.004042376298457384, 0.0004830545512959361, 0.00011582677689148113, 0.00015203624207060784, 2.6925383281195536e-05, 0.00012675173638854176, 0.0003128999669570476, 0.9899077415466309, 0.0, 0.0, 0.0, 0.0, 0.0, 0.0, 0.0, 0.0, 0.0, 0.0, 0.0, 0.0, 0.0, 0.0, 0.0, 0.0, 0.0, 0.0, 0.0, 0.0, 0.0], [0.0003782226995099336, 0.000983756734058261, 0.039341188967227936, 0.0027322459500283003, 0.003668016055598855, 0.00011039170931326225, 0.0001293100940529257, 0.00021743460092693567, 0.00010623285925248638, 0.0007748187053948641, 6.647653935942799e-05, 0.0003148662217427045, 0.9511770009994507, 0.0, 0.0, 0.0, 0.0, 0.0, 0.0, 0.0, 0.0, 0.0, 0.0, 0.0, 0.0, 0.0, 0.0, 0.0, 0.0, 0.0, 0.0, 0.0, 0.0], [0.0021017224062234163, 2.4436889361822978e-05, 7.788778930262197e-06, 8.651620191812981e-06, 2.014005440287292e-05, 0.29971352219581604, 7.525268301833421e-05, 0.0004898314946331084, 1.8459480997989886e-05, 1.5344585335697047e-05, 0.3283388912677765, 4.175803405814804e-05, 6.469199433922768e-06, 0.3691377341747284, 0.0, 0.0, 0.0, 0.0, 0.0, 0.0, 0.0, 0.0, 0.0, 0.0, 0.0, 0.0, 0.0, 0.0, 0.0, 0.0, 0.0, 0.0, 0.0], [0.00014968357572797686, 0.00011296640150249004, 0.00036294921301305294, 0.0001859124022303149, 0.00016460922779515386, 4.143241312704049e-05, 2.876477265090216e-05, 7.786966307321563e-05, 0.0009201010689139366, 0.010340201668441296, 2.757241963990964e-05, 1.7833272067946382e-05, 0.00033054559025913477, 2.4375776774832048e-05, 0.9872152805328369, 0.0, 0.0, 0.0, 0.0, 0.0, 0.0, 0.0, 0.0, 0.0, 0.0, 0.0, 0.0, 0.0, 0.0, 0.0, 0.0, 0.0, 0.0], [0.00010753815149655566, 0.002178188879042864, 0.0020426111295819283, 0.004251927137374878, 0.006989894434809685, 2.5118793928413652e-05, 0.0007779028965160251, 0.0005783544038422406, 0.002937845652922988, 0.03322535753250122, 1.719924694043584e-05, 0.000893646851181984, 0.001523857470601797, 1.4656804523838218e-05, 0.006222635041922331, 0.9382132887840271, 0.0, 0.0, 0.0, 0.0, 0.0, 0.0, 0.0, 0.0, 0.0, 0.0, 0.0, 0.0, 0.0, 0.0, 0.0, 0.0, 0.0], [0.0013634884962812066, 1.3226049304648768e-05, 4.013935267721536e-06, 4.803052433999255e-06, 1.0257452231599018e-05, 0.19665966928005219, 4.527259443420917e-05, 0.00027762624085880816, 1.1714412721630652e-05, 9.473303180129733e-06, 0.22919631004333496, 2.6430603611515835e-05, 4.1018483898369595e-06, 0.26576098799705505, 8.51534878165694e-06, 4.536021606327267e-06, 0.306599497795105, 0.0, 0.0, 0.0, 0.0, 0.0, 0.0, 0.0, 0.0, 0.0, 0.0, 0.0, 0.0, 0.0, 0.0, 0.0, 0.0], [0.0008924755966290832, 0.0001349080994259566, 4.779845767188817e-05, 5.8037036069436e-05, 0.00010480175114935264, 0.012799091637134552, 0.00071682408452034, 0.03257951885461807, 2.644993583089672e-05, 0.00011185064067831263, 0.011884262785315514, 4.01027464249637e-05, 5.5554100981680676e-05, 0.012377863749861717, 0.00010783471952890977, 5.4043663112679496e-05, 0.013122114352881908, 0.914886474609375, 0.0, 0.0, 0.0, 0.0, 0.0, 0.0, 0.0, 0.0, 0.0, 0.0, 0.0, 0.0, 0.0, 0.0, 0.0], [5.075309672974981e-06, 4.396131043904461e-05, 3.398498665774241e-05, 7.94028674135916e-05, 5.477912418427877e-05, 7.921536280264263e-07, 9.313316695624962e-06, 7.727072443231009e-06, 8.597254782216623e-05, 0.00012274020991753787, 5.141479846315633e-07, 1.7027906551447813e-06, 3.8341757317539304e-05, 4.4509675944937044e-07, 0.00013928224507253617, 0.00032757953158579767, 3.9947977370502485e-07, 3.948126959585352e-06, 0.9990440011024475, 0.0, 0.0, 0.0, 0.0, 0.0, 0.0, 0.0, 0.0, 0.0, 0.0, 0.0, 0.0, 0.0, 0.0], [9.34619820327498e-05, 0.0018395762890577316, 0.002523312345147133, 0.018087271600961685, 0.002936380449682474, 0.00027335836784914136, 4.872979116044007e-05, 0.00042127803317271173, 0.00015624375373590738, 0.0009748337906785309, 0.00020533603674266487, 0.0010228834580630064, 0.0019548051059246063, 0.00019470363622531295, 0.0011294210562482476, 0.0016656116349622607, 0.00018734057084657252, 0.0009503461769782007, 0.0004455178859643638, 0.9648895859718323, 0.0, 0.0, 0.0, 0.0, 0.0, 0.0, 0.0, 0.0, 0.0, 0.0, 0.0, 0.0, 0.0], [0.0010859717149287462, 8.512330168741755e-06, 2.530727670091437e-06, 3.0625194540334633e-06, 5.975126896373695e-06, 0.13292628526687622, 3.345325239934027e-05, 0.00018891259969677776, 8.477768460579682e-06, 6.540437880175887e-06, 0.164459228515625, 1.8130065654986538e-05, 3.0627472824562574e-06, 0.19719168543815613, 6.429845598177053e-06, 3.4447414236637997e-06, 0.23317116498947144, 0.002279628301039338, 3.7134316244191723e-06, 3.528804882080294e-05, 0.26855847239494324, 0.0, 0.0, 0.0, 0.0, 0.0, 0.0, 0.0, 0.0, 0.0, 0.0, 0.0, 0.0], [0.00041979626985266805, 0.00011805047688540071, 0.00014240530435927212, 3.796791861532256e-05, 0.00019043218344449997, 0.0017651250818744302, 0.0005709833349101245, 0.0005008862353861332, 8.840770897222683e-05, 0.0001420871849404648, 0.0016639858949929476, 3.348114114487544e-05, 2.441400647512637e-05, 0.0017546521266922355, 6.520324677694589e-05, 2.414269511064049e-05, 0.001829915796406567, 0.0015691048465669155, 3.9748883864376694e-05, 0.00015712430467829108, 0.0018554502166807652, 0.9870065450668335, 0.0, 0.0, 0.0, 0.0, 0.0, 0.0, 0.0, 0.0, 0.0, 0.0, 0.0], [7.501784421037883e-05, 0.0014379819622263312, 6.345145811792463e-05, 0.0001086482880054973, 0.0001563316909596324, 3.21012294079992e-06, 0.0022032777778804302, 0.00022076575260143727, 5.240297468844801e-05, 4.8815836635185406e-05, 2.2644612727162894e-06, 1.5327250366681255e-05, 4.157140665483894e-06, 2.0228389985277317e-06, 6.2968033489596564e-06, 4.848669414059259e-05, 1.9928970687033143e-06, 3.2470077712787315e-05, 0.0012695103650912642, 1.9632627299870364e-05, 1.8090950106852688e-06, 0.0005810293951071799, 0.9936450719833374, 0.0, 0.0, 0.0, 0.0, 0.0, 0.0, 0.0, 0.0, 0.0, 0.0], [7.450165139744058e-05, 0.0006139397737570107, 0.0009361213305965066, 0.0008487815503031015, 0.0028506382368505, 1.0365070920670405e-05, 0.00021614297293126583, 0.00017397564079146832, 0.002050843322649598, 0.005805305205285549, 8.055246325966436e-06, 8.086615707725286e-05, 0.0007702458533458412, 7.288198503374588e-06, 0.001057616900652647, 0.0022756007965654135, 6.663267868134426e-06, 0.00011621051089605317, 0.0005972464568912983, 8.73631433933042e-05, 6.3323500398837496e-06, 6.096464494476095e-05, 6.090589158702642e-05, 0.9812840819358826, 0.0, 0.0, 0.0, 0.0, 0.0, 0.0, 0.0, 0.0, 0.0], [0.0005848741275258362, 0.0001590918836882338, 1.0836472029041033e-05, 7.365462806774303e-05, 0.00011349525448167697, 0.0008256652508862317, 0.0003191101422999054, 0.018529973924160004, 1.0226591257378459e-05, 4.9587179091759026e-05, 0.0007716418476775289, 4.45481164206285e-05, 9.86502618616214e-06, 0.0008067164453677833, 2.267386662424542e-05, 1.2464129213185515e-05, 0.0008449088782072067, 0.008790096268057823, 3.5792309063253924e-05, 3.662855669972487e-05, 0.0008917525410652161, 0.001079176552593708, 0.00037084578070789576, 0.00010837127774721012, 0.9654980301856995, 0.0, 0.0, 0.0, 0.0, 0.0, 0.0, 0.0, 0.0], [1.6459880498587154e-05, 0.00017152390500996262, 3.2083124096971005e-05, 0.00010234154615318403, 0.002631871262565255, 9.886157386063132e-06, 3.250839654356241e-05, 3.741747059393674e-05, 0.00012631491699721664, 4.991202149540186e-05, 8.302517017000355e-06, 8.443398837698624e-05, 3.127960371784866e-05, 7.63334992370801e-06, 1.010133473755559e-05, 5.667365257977508e-05, 7.442115474987077e-06, 2.7689606213243678e-05, 1.8418288163957186e-05, 2.87942384602502e-06, 6.840415153419599e-06, 4.279867425793782e-06, 0.00043176495819352567, 0.00017617452249396592, 8.995583630166948e-05, 0.9958258867263794, 0.0, 0.0, 0.0, 0.0, 0.0, 0.0, 0.0], [2.63680012722034e-05, 0.00018008674669545144, 0.00018082918541040272, 0.0003046466736122966, 0.00039390852907672524, 4.674835872719996e-05, 2.7231642889091745e-05, 4.873481884715147e-05, 0.0002913158677984029, 0.0004206156881991774, 3.804629159276374e-05, 0.0002524509036447853, 5.606722697848454e-05, 3.820361598627642e-05, 0.0015365071594715118, 0.0012537199072539806, 3.593415021896362e-05, 2.3036598577164114e-05, 0.00018036190886050463, 0.00012266065459698439, 3.517777440720238e-05, 6.924665649421513e-05, 0.00011267272202530876, 0.0008507365128025413, 0.00014361848297994584, 0.00023527914891019464, 0.9930958151817322, 0.0, 0.0, 0.0, 0.0, 0.0, 0.0], [0.0007048267871141434, 5.6753993703750893e-05, 3.35129539053014e-06, 7.472663583030226e-06, 1.7859490981209092e-05, 0.0008156534750014544, 4.952957169734873e-05, 0.001353099592961371, 3.7417627027025446e-05, 0.00014378019841387868, 0.0007639342802576721, 9.991694241762161e-06, 2.8844438020314556e-06, 0.0007552236202172935, 0.0001015961097436957, 3.120549763480085e-06, 0.000806095136795193, 0.001140677253715694, 1.4343116163217928e-05, 9.910175322147552e-06, 0.0008649193914607167, 8.663281914778054e-05, 3.4695469366852194e-05, 0.00010265829769195989, 0.007663477677851915, 4.187898593954742e-05, 3.490865992716863e-06, 0.9844047427177429, 0.0, 0.0, 0.0, 0.0, 0.0], [2.0288314772187732e-05, 2.9542698030127212e-05, 5.037502705818042e-05, 0.0009778328239917755, 0.37282595038414, 6.661318366241176e-06, 1.5733641703263856e-05, 3.981247209594585e-05, 0.0002235321735497564, 0.00012674332538153976, 5.118439730722457e-06, 0.00024116173153743148, 1.297384915233124e-05, 4.800690931006102e-06, 2.33216596825514e-05, 7.723540329607204e-05, 4.5934370973554906e-06, 1.964714283531066e-05, 0.00021129952801857144, 1.145351052400656e-05, 4.380493464850588e-06, 1.444268309569452e-05, 3.6767462006537244e-05, 0.0001184533248306252, 3.797719182330184e-05, 0.0007802761974744499, 0.0004048370465170592, 1.0429553185531404e-05, 0.6236643195152283, 0.0, 0.0, 0.0, 0.0], [2.0582947399816476e-05, 8.831268496578559e-05, 0.00020454921468626708, 0.0003018907445948571, 8.223910845117643e-05, 1.9704451915458776e-05, 0.00014085140719544142, 2.8963204385945573e-05, 7.669399565202184e-06, 3.7246205465635285e-05, 1.673678525548894e-05, 6.404715531971306e-05, 0.0006910591619089246, 1.6027615856728517e-05, 0.00015603710198774934, 0.00014825955440755934, 1.570009953866247e-05, 9.155408042715862e-05, 8.525107114110142e-05, 4.904527031612815e-06, 1.5784426068421453e-05, 5.293117283144966e-05, 0.0005298372125253081, 0.0005658410955220461, 6.167335959617049e-05, 6.729504821123555e-05, 0.00030774486367590725, 1.0369179108238313e-05, 6.799356197007e-05, 0.9960988759994507, 0.0, 0.0, 0.0], [1.3371306522458326e-05, 0.0009821531130000949, 0.00041548110311850905, 0.00011442315735621378, 0.00038730751839466393, 5.6608546401548665e-06, 0.0012746263528242707, 0.0005708056851290166, 0.0006383624859154224, 0.0005776660400442779, 4.127729425817961e-06, 9.161734851659276e-06, 9.142825001617894e-05, 3.7748570775875123e-06, 1.3575281627709046e-05, 0.0002916177036240697, 3.4474858239263995e-06, 7.899185584392399e-05, 0.003189116483554244, 4.885079306404805e-06, 3.1652839425078128e-06, 1.4087428098719101e-05, 0.00015671414439566433, 0.0003544889041222632, 0.00017265439964830875, 0.00130506232380867, 0.00021867667965125293, 2.6776693630381487e-05, 0.0002646018110681325, 1.3334529285202734e-05, 0.9888005256652832, 0.0, 0.0], [2.7455113013274968e-05, 0.0001643829164095223, 7.996430213097483e-05, 0.0011914987117052078, 0.0007883636862970889, 2.658421635715058e-06, 3.0057644835324027e-05, 7.4579888860171195e-06, 0.0001494100724812597, 2.8857184588559903e-05, 1.8738309108812246e-06, 0.00033288096892647445, 5.1608698413474485e-05, 1.7577513062860817e-06, 0.00012656612670980394, 0.00014267038204707205, 1.6954469401753158e-06, 2.1952635506750084e-05, 0.00023040821542963386, 4.429342516232282e-05, 1.6103351754281903e-06, 2.700807453948073e-05, 0.00023884885013103485, 0.00019046032684855163, 9.496163329458795e-06, 0.00044664437882602215, 0.00022095807071309537, 5.379190952226054e-06, 0.0006956412689760327, 0.00015470794460270554, 0.00025485435617156327, 0.9943285584449768, 0.0], [0.006231046747416258, 9.722806862555444e-05, 6.87158990331227e-06, 2.1151097826077603e-05, 5.828053690493107e-05, 0.007238902151584625, 2.098789809679147e-05, 0.0002545907336752862, 6.243853567866609e-05, 2.0924664568156004e-05, 0.007872136309742928, 5.5853193771326914e-05, 9.868757842923515e-06, 0.009169396944344044, 7.202996494015679e-05, 7.068687409628183e-06, 0.01034595724195242, 0.0013096537441015244, 3.803673462243751e-05, 8.022689144127071e-05, 0.01205324474722147, 4.071999137522653e-05, 3.6860683394479565e-06, 3.471342279226519e-05, 0.0005061818519607186, 8.918942330637947e-05, 2.9112034098943695e-05, 0.0012772810878232121, 8.489640458719805e-05, 0.00018447374168317765, 0.00013425717770587653, 6.813055370002985e-05, 0.9425214529037476]], [[1.0, 0.0, 0.0, 0.0, 0.0, 0.0, 0.0, 0.0, 0.0, 0.0, 0.0, 0.0, 0.0, 0.0, 0.0, 0.0, 0.0, 0.0, 0.0, 0.0, 0.0, 0.0, 0.0, 0.0, 0.0, 0.0, 0.0, 0.0, 0.0, 0.0, 0.0, 0.0, 0.0], [0.943029522895813, 0.05697048455476761, 0.0, 0.0, 0.0, 0.0, 0.0, 0.0, 0.0, 0.0, 0.0, 0.0, 0.0, 0.0, 0.0, 0.0, 0.0, 0.0, 0.0, 0.0, 0.0, 0.0, 0.0, 0.0, 0.0, 0.0, 0.0, 0.0, 0.0, 0.0, 0.0, 0.0, 0.0], [0.9185556173324585, 0.03280002623796463, 0.048644356429576874, 0.0, 0.0, 0.0, 0.0, 0.0, 0.0, 0.0, 0.0, 0.0, 0.0, 0.0, 0.0, 0.0, 0.0, 0.0, 0.0, 0.0, 0.0, 0.0, 0.0, 0.0, 0.0, 0.0, 0.0, 0.0, 0.0, 0.0, 0.0, 0.0, 0.0], [0.8779287338256836, 0.05643429979681969, 0.042711954563856125, 0.02292502112686634, 0.0, 0.0, 0.0, 0.0, 0.0, 0.0, 0.0, 0.0, 0.0, 0.0, 0.0, 0.0, 0.0, 0.0, 0.0, 0.0, 0.0, 0.0, 0.0, 0.0, 0.0, 0.0, 0.0, 0.0, 0.0, 0.0, 0.0, 0.0, 0.0], [0.804131805896759, 0.02909819595515728, 0.07556731253862381, 0.056435927748680115, 0.03476677089929581, 0.0, 0.0, 0.0, 0.0, 0.0, 0.0, 0.0, 0.0, 0.0, 0.0, 0.0, 0.0, 0.0, 0.0, 0.0, 0.0, 0.0, 0.0, 0.0, 0.0, 0.0, 0.0, 0.0, 0.0, 0.0, 0.0, 0.0, 0.0], [0.49431052803993225, 0.02018355391919613, 0.027966558933258057, 0.018319059163331985, 0.03144204244017601, 0.40777823328971863, 0.0, 0.0, 0.0, 0.0, 0.0, 0.0, 0.0, 0.0, 0.0, 0.0, 0.0, 0.0, 0.0, 0.0, 0.0, 0.0, 0.0, 0.0, 0.0, 0.0, 0.0, 0.0, 0.0, 0.0, 0.0, 0.0, 0.0], [0.6057477593421936, 0.029242446646094322, 0.09491509199142456, 0.07609349489212036, 0.0661466047167778, 0.08705788850784302, 0.0407966747879982, 0.0, 0.0, 0.0, 0.0, 0.0, 0.0, 0.0, 0.0, 0.0, 0.0, 0.0, 0.0, 0.0, 0.0, 0.0, 0.0, 0.0, 0.0, 0.0, 0.0, 0.0, 0.0, 0.0, 0.0, 0.0, 0.0], [0.44838207960128784, 0.045424316078424454, 0.07401483505964279, 0.06864848732948303, 0.09376626461744308, 0.08774265646934509, 0.0653427392244339, 0.11667867004871368, 0.0, 0.0, 0.0, 0.0, 0.0, 0.0, 0.0, 0.0, 0.0, 0.0, 0.0, 0.0, 0.0, 0.0, 0.0, 0.0, 0.0, 0.0, 0.0, 0.0, 0.0, 0.0, 0.0, 0.0, 0.0], [0.49169260263442993, 0.13782069087028503, 0.03955018147826195, 0.06153320148587227, 0.04539963975548744, 0.04073145613074303, 0.06228704750537872, 0.05861867591738701, 0.062366463243961334, 0.0, 0.0, 0.0, 0.0, 0.0, 0.0, 0.0, 0.0, 0.0, 0.0, 0.0, 0.0, 0.0, 0.0, 0.0, 0.0, 0.0, 0.0, 0.0, 0.0, 0.0, 0.0, 0.0, 0.0], [0.540412425994873, 0.04442666843533516, 0.03957854211330414, 0.04188811033964157, 0.07529859244823456, 0.04669506847858429, 0.04847525432705879, 0.055005207657814026, 0.08293063193559647, 0.025289522483944893, 0.0, 0.0, 0.0, 0.0, 0.0, 0.0, 0.0, 0.0, 0.0, 0.0, 0.0, 0.0, 0.0, 0.0, 0.0, 0.0, 0.0, 0.0, 0.0, 0.0, 0.0, 0.0, 0.0], [0.28273558616638184, 0.01423417404294014, 0.0176477562636137, 0.011433069594204426, 0.021741705015301704, 0.2666538953781128, 0.015403536148369312, 0.04734928905963898, 0.017767537385225296, 0.013926075771450996, 0.2911074161529541, 0.0, 0.0, 0.0, 0.0, 0.0, 0.0, 0.0, 0.0, 0.0, 0.0, 0.0, 0.0, 0.0, 0.0, 0.0, 0.0, 0.0, 0.0, 0.0, 0.0, 0.0, 0.0], [0.3449661433696747, 0.04611678794026375, 0.05771550536155701, 0.11131864786148071, 0.11289363354444504, 0.02793034166097641, 0.0385918952524662, 0.056565314531326294, 0.05864056944847107, 0.06648596376180649, 0.026114370673894882, 0.05266086384654045, 0.0, 0.0, 0.0, 0.0, 0.0, 0.0, 0.0, 0.0, 0.0, 0.0, 0.0, 0.0, 0.0, 0.0, 0.0, 0.0, 0.0, 0.0, 0.0, 0.0, 0.0], [0.4699215292930603, 0.03201569244265556, 0.1077289804816246, 0.027006788179278374, 0.0446588359773159, 0.02277355268597603, 0.023117095232009888, 0.025491533800959587, 0.04950270801782608, 0.02657395973801613, 0.019708871841430664, 0.06337960064411163, 0.08812081068754196, 0.0, 0.0, 0.0, 0.0, 0.0, 0.0, 0.0, 0.0, 0.0, 0.0, 0.0, 0.0, 0.0, 0.0, 0.0, 0.0, 0.0, 0.0, 0.0, 0.0], [0.20661766827106476, 0.010379290208220482, 0.012261933647096157, 0.008319098502397537, 0.0160070713609457, 0.1952774077653885, 0.011453291401267052, 0.03475670889019966, 0.013073589652776718, 0.010938983410596848, 0.21602486073970795, 0.005866495426744223, 0.02364230901002884, 0.23538129031658173, 0.0, 0.0, 0.0, 0.0, 0.0, 0.0, 0.0, 0.0, 0.0, 0.0, 0.0, 0.0, 0.0, 0.0, 0.0, 0.0, 0.0, 0.0, 0.0], [0.3399348855018616, 0.029161645099520683, 0.09540711343288422, 0.033951885998249054, 0.08440453559160233, 0.012559543363749981, 0.029358673840761185, 0.024564169347286224, 0.10622432827949524, 0.04689215123653412, 0.011469602584838867, 0.006369197275489569, 0.11145275831222534, 0.011317994445562363, 0.0569315180182457, 0.0, 0.0, 0.0, 0.0, 0.0, 0.0, 0.0, 0.0, 0.0, 0.0, 0.0, 0.0, 0.0, 0.0, 0.0, 0.0, 0.0, 0.0], [0.4040881097316742, 0.02419567108154297, 0.038910046219825745, 0.014727435074746609, 0.0244565661996603, 0.03844999521970749, 0.03923037275671959, 0.037171371281147, 0.06030002608895302, 0.04198549687862396, 0.03716716915369034, 0.016391238197684288, 0.039289671927690506, 0.03772980347275734, 0.13448570668697357, 0.01142130047082901, 0.0, 0.0, 0.0, 0.0, 0.0, 0.0, 0.0, 0.0, 0.0, 0.0, 0.0, 0.0, 0.0, 0.0, 0.0, 0.0, 0.0], [0.15876442193984985, 0.008203902281820774, 0.009295260533690453, 0.00622171675786376, 0.011793195270001888, 0.1506979614496231, 0.008851955644786358, 0.026313522830605507, 0.010186925530433655, 0.008433726616203785, 0.16762234270572662, 0.004420032259076834, 0.018211789429187775, 0.18350812792778015, 0.020927339792251587, 0.0064477878622710705, 0.20009998977184296, 0.0, 0.0, 0.0, 0.0, 0.0, 0.0, 0.0, 0.0, 0.0, 0.0, 0.0, 0.0, 0.0, 0.0, 0.0, 0.0], [0.1753920614719391, 0.020569657906889915, 0.018291447311639786, 0.009298030287027359, 0.01737789995968342, 0.04253476485610008, 0.020701587200164795, 0.050443943589925766, 0.025438034906983376, 0.017218230292201042, 0.04311533644795418, 0.013349829241633415, 0.02852860651910305, 0.045972567051649094, 0.03408820927143097, 0.019834209233522415, 0.049928367137908936, 0.36791718006134033, 0.0, 0.0, 0.0, 0.0, 0.0, 0.0, 0.0, 0.0, 0.0, 0.0, 0.0, 0.0, 0.0, 0.0, 0.0], [0.2603333294391632, 0.017148371785879135, 0.03745277225971222, 0.07594800740480423, 0.04674699530005455, 0.01806854084134102, 0.03134647756814957, 0.03741515055298805, 0.07175809890031815, 0.058725371956825256, 0.01707872375845909, 0.04030591994524002, 0.05706359073519707, 0.017113592475652695, 0.1049133837223053, 0.046705372631549835, 0.01723020151257515, 0.024682164192199707, 0.019963974133133888, 0.0, 0.0, 0.0, 0.0, 0.0, 0.0, 0.0, 0.0, 0.0, 0.0, 0.0, 0.0, 0.0, 0.0], [0.30547070503234863, 0.05190498009324074, 0.043469011783599854, 0.021846866235136986, 0.021017178893089294, 0.03390474244952202, 0.04190472513437271, 0.03909287229180336, 0.028871968388557434, 0.023003442212939262, 0.032058000564575195, 0.023334497585892677, 0.07110598683357239, 0.03290090337395668, 0.061641957610845566, 0.03183262050151825, 0.03376762568950653, 0.04571487754583359, 0.03501521795988083, 0.022141890600323677, 0.0, 0.0, 0.0, 0.0, 0.0, 0.0, 0.0, 0.0, 0.0, 0.0, 0.0, 0.0, 0.0], [0.12242951989173889, 0.006105302833020687, 0.006670300383120775, 0.00458177924156189, 0.009337788447737694, 0.11381798982620239, 0.006783356424421072, 0.019719894975423813, 0.007580861449241638, 0.00661364383995533, 0.12765923142433167, 0.0035026567056775093, 0.014002322219312191, 0.14000990986824036, 0.015684889629483223, 0.005092611536383629, 0.15336205065250397, 0.035274162888526917, 0.022465629503130913, 0.006954458076506853, 0.1723516285419464, 0.0, 0.0, 0.0, 0.0, 0.0, 0.0, 0.0, 0.0, 0.0, 0.0, 0.0, 0.0], [0.20538486540317535, 0.03477851301431656, 0.014682911336421967, 0.03118331916630268, 0.03093123622238636, 0.021952778100967407, 0.032908666878938675, 0.05740533396601677, 0.05587518960237503, 0.048642776906490326, 0.02352076955139637, 0.015108538791537285, 0.027386318892240524, 0.024518463760614395, 0.060604557394981384, 0.03477614372968674, 0.026137804612517357, 0.05168435722589493, 0.06281401962041855, 0.020291462540626526, 0.02860173024237156, 0.09081021696329117, 0.0, 0.0, 0.0, 0.0, 0.0, 0.0, 0.0, 0.0, 0.0, 0.0, 0.0], [0.2397860288619995, 0.031323499977588654, 0.05037752911448479, 0.015869438648223877, 0.03901459276676178, 0.02280554547905922, 0.042853567749261856, 0.028882313519716263, 0.04046265780925751, 0.0341072641313076, 0.022644521668553352, 0.039230700582265854, 0.07238573580980301, 0.022345522418618202, 0.04958103597164154, 0.031933363527059555, 0.02332558110356331, 0.045213568955659866, 0.030554337427020073, 0.02287651225924492, 0.024732302874326706, 0.055494844913482666, 0.014199563302099705, 0.0, 0.0, 0.0, 0.0, 0.0, 0.0, 0.0, 0.0, 0.0, 0.0], [0.23581689596176147, 0.020558301359415054, 0.043750058859586716, 0.029704876244068146, 0.037038758397102356, 0.014953456819057465, 0.040043070912361145, 0.027184369042515755, 0.0457618422806263, 0.03809259459376335, 0.014181891456246376, 0.03789152204990387, 0.06518243253231049, 0.014182929880917072, 0.05489492788910866, 0.023720962926745415, 0.014592771418392658, 0.02557002566754818, 0.07356180250644684, 0.039182357490062714, 0.014925520867109299, 0.04628866910934448, 0.027801068499684334, 0.015118857845664024, 0.0, 0.0, 0.0, 0.0, 0.0, 0.0, 0.0, 0.0, 0.0], [0.14254970848560333, 0.012010163627564907, 0.01688130758702755, 0.020742563530802727, 0.03245176374912262, 0.029626017436385155, 0.03029520809650421, 0.05620872229337692, 0.029608750715851784, 0.02948184311389923, 0.03263984993100166, 0.01003822311758995, 0.040786195546388626, 0.03462786599993706, 0.033916376531124115, 0.020155739039182663, 0.03684313967823982, 0.06064688786864281, 0.04744711145758629, 0.03252529725432396, 0.04040036350488663, 0.05947762727737427, 0.03129400312900543, 0.04792548343539238, 0.07141980528831482, 0.0, 0.0, 0.0, 0.0, 0.0, 0.0, 0.0, 0.0], [0.22229069471359253, 0.05911136418581009, 0.03702675923705101, 0.04059014841914177, 0.027254493907094002, 0.019174780696630478, 0.03171536698937416, 0.020462146028876305, 0.038113296031951904, 0.019927890971302986, 0.01853891834616661, 0.015436702407896519, 0.04536493122577667, 0.01935577765107155, 0.05035828426480293, 0.03328140079975128, 0.020179755985736847, 0.03679436072707176, 0.04331385716795921, 0.028476404026150703, 0.02131732739508152, 0.04771285876631737, 0.01310703344643116, 0.026336072012782097, 0.030211344361305237, 0.034548014402389526, 0.0, 0.0, 0.0, 0.0, 0.0, 0.0, 0.0], [0.28438130021095276, 0.02387009561061859, 0.04641882702708244, 0.010260091163218021, 0.03390985727310181, 0.018301472067832947, 0.023708878085017204, 0.024766823276877403, 0.02576775662600994, 0.022968808189034462, 0.016735460609197617, 0.013406946323812008, 0.04598664864897728, 0.01667323336005211, 0.08106394112110138, 0.05033262073993683, 0.016726162284612656, 0.019904812797904015, 0.030325332656502724, 0.010146318934857845, 0.017318228259682655, 0.019040973857045174, 0.011081116273999214, 0.05204646289348602, 0.03335351496934891, 0.03880883380770683, 0.01269550807774067, 0.0, 0.0, 0.0, 0.0, 0.0, 0.0], [0.11854352056980133, 0.01335094589740038, 0.013422022573649883, 0.03027322143316269, 0.026162929832935333, 0.020776215940713882, 0.021280206739902496, 0.03798937052488327, 0.03536441549658775, 0.03665180876851082, 0.0220040176063776, 0.01538002397865057, 0.030023111030459404, 0.02329968474805355, 0.030007552355527878, 0.014861373230814934, 0.024521932005882263, 0.03999801725149155, 0.03900156542658806, 0.03600769117474556, 0.0268512275069952, 0.06795871257781982, 0.038931313902139664, 0.05725808069109917, 0.0665983334183693, 0.03075684979557991, 0.023343203589320183, 0.05938272178173065, 0.0, 0.0, 0.0, 0.0, 0.0], [0.25091853737831116, 0.011351888999342918, 0.02303396724164486, 0.01884978450834751, 0.01320883072912693, 0.01643039658665657, 0.03763698786497116, 0.021519415080547333, 0.038231465965509415, 0.031223099678754807, 0.01608109287917614, 0.017179016023874283, 0.08239647001028061, 0.015775414183735847, 0.04969311133027077, 0.03397902473807335, 0.016469132155179977, 0.025656118988990784, 0.05326930060982704, 0.024380972608923912, 0.017032913863658905, 0.031062578782439232, 0.014834268018603325, 0.04310780018568039, 0.027818357571959496, 0.015127940103411674, 0.012749838642776012, 0.02685270458459854, 0.014129591174423695, 0.0, 0.0, 0.0, 0.0], [0.19256946444511414, 0.022833677008748055, 0.014495880343019962, 0.02805502898991108, 0.03290426731109619, 0.01857709512114525, 0.023776715621352196, 0.014988920651376247, 0.027755480259656906, 0.01995215378701687, 0.018426893278956413, 0.0268084853887558, 0.04026196897029877, 0.01895734667778015, 0.01998024433851242, 0.03905029594898224, 0.019494332373142242, 0.030714336782693863, 0.07932323217391968, 0.036197684705257416, 0.020379599183797836, 0.023319324478507042, 0.01872384361922741, 0.05692772939801216, 0.02392754703760147, 0.039243247359991074, 0.021783510223031044, 0.02037421613931656, 0.041788291186094284, 0.00840924121439457, 0.0, 0.0, 0.0], [0.18919385969638824, 0.01435206737369299, 0.02782936953008175, 0.018936054781079292, 0.05455232039093971, 0.024302419275045395, 0.020752564072608948, 0.030501801520586014, 0.01690041646361351, 0.029904043301939964, 0.023111799731850624, 0.021664848551154137, 0.033359818160533905, 0.02305050566792488, 0.027927018702030182, 0.0262534748762846, 0.024257954210042953, 0.024394989013671875, 0.01766667142510414, 0.022081075236201286, 0.02544150874018669, 0.02399672195315361, 0.015941407531499863, 0.021863481029868126, 0.0487627312541008, 0.010234065353870392, 0.025762973353266716, 0.061923302710056305, 0.06737110763788223, 0.018184121698141098, 0.009525511413812637, 0.0, 0.0], [0.27111950516700745, 0.05460575222969055, 0.03970598801970482, 0.03512897342443466, 0.020313750952482224, 0.008183855563402176, 0.02255663275718689, 0.014036435633897781, 0.026198478415608406, 0.03235534951090813, 0.007185028865933418, 0.010813487693667412, 0.05162610113620758, 0.007057542447000742, 0.04232776537537575, 0.01850598305463791, 0.006952993106096983, 0.012550846673548222, 0.03785517066717148, 0.014787383377552032, 0.0071307700127363205, 0.018956730142235756, 0.010758969001471996, 0.023540524765849113, 0.016256200149655342, 0.007915410213172436, 0.036523111164569855, 0.014562279917299747, 0.01925145648419857, 0.010911814868450165, 0.0343967005610466, 0.06592904031276703, 0.0], [0.14836542308330536, 0.014506902545690536, 0.007646289188414812, 0.011038755066692829, 0.02630247175693512, 0.013194824568927288, 0.027184875681996346, 0.01739218831062317, 0.016122132539749146, 0.03288080170750618, 0.014050284400582314, 0.0071673463098704815, 0.016120050102472305, 0.014647024683654308, 0.018450891599059105, 0.013102115131914616, 0.015283217653632164, 0.014542987570166588, 0.05961218476295471, 0.022383885458111763, 0.016796989366412163, 0.10928263515233994, 0.07263999432325363, 0.08393708616495132, 0.025249000638723373, 0.03774848207831383, 0.016226930543780327, 0.02495388872921467, 0.042165808379650116, 0.004525806754827499, 0.014491361565887928, 0.019145706668496132, 0.02284165658056736]], [[1.0, 0.0, 0.0, 0.0, 0.0, 0.0, 0.0, 0.0, 0.0, 0.0, 0.0, 0.0, 0.0, 0.0, 0.0, 0.0, 0.0, 0.0, 0.0, 0.0, 0.0, 0.0, 0.0, 0.0, 0.0, 0.0, 0.0, 0.0, 0.0, 0.0, 0.0, 0.0, 0.0], [0.09646996110677719, 0.9035300612449646, 0.0, 0.0, 0.0, 0.0, 0.0, 0.0, 0.0, 0.0, 0.0, 0.0, 0.0, 0.0, 0.0, 0.0, 0.0, 0.0, 0.0, 0.0, 0.0, 0.0, 0.0, 0.0, 0.0, 0.0, 0.0, 0.0, 0.0, 0.0, 0.0, 0.0, 0.0], [0.0432523749768734, 0.08177748322486877, 0.8749701380729675, 0.0, 0.0, 0.0, 0.0, 0.0, 0.0, 0.0, 0.0, 0.0, 0.0, 0.0, 0.0, 0.0, 0.0, 0.0, 0.0, 0.0, 0.0, 0.0, 0.0, 0.0, 0.0, 0.0, 0.0, 0.0, 0.0, 0.0, 0.0, 0.0, 0.0], [0.09995391964912415, 0.02531273290514946, 0.02010805904865265, 0.8546252846717834, 0.0, 0.0, 0.0, 0.0, 0.0, 0.0, 0.0, 0.0, 0.0, 0.0, 0.0, 0.0, 0.0, 0.0, 0.0, 0.0, 0.0, 0.0, 0.0, 0.0, 0.0, 0.0, 0.0, 0.0, 0.0, 0.0, 0.0, 0.0, 0.0], [0.02488936111330986, 0.0032073596958070993, 0.0018421602435410023, 0.02236150950193405, 0.9476996660232544, 0.0, 0.0, 0.0, 0.0, 0.0, 0.0, 0.0, 0.0, 0.0, 0.0, 0.0, 0.0, 0.0, 0.0, 0.0, 0.0, 0.0, 0.0, 0.0, 0.0, 0.0, 0.0, 0.0, 0.0, 0.0, 0.0, 0.0, 0.0], [0.1073237806558609, 0.017841672524809837, 0.019553344696760178, 0.04333319142460823, 0.10211498290300369, 0.709833025932312, 0.0, 0.0, 0.0, 0.0, 0.0, 0.0, 0.0, 0.0, 0.0, 0.0, 0.0, 0.0, 0.0, 0.0, 0.0, 0.0, 0.0, 0.0, 0.0, 0.0, 0.0, 0.0, 0.0, 0.0, 0.0, 0.0, 0.0], [0.006426365114748478, 0.00044797908049076796, 0.0001475661847507581, 0.00046936768922023475, 0.001441190135665238, 0.0038596985395997763, 0.98720782995224, 0.0, 0.0, 0.0, 0.0, 0.0, 0.0, 0.0, 0.0, 0.0, 0.0, 0.0, 0.0, 0.0, 0.0, 0.0, 0.0, 0.0, 0.0, 0.0, 0.0, 0.0, 0.0, 0.0, 0.0, 0.0, 0.0], [0.001035458641126752, 0.00019901859923265874, 0.00016020381008274853, 6.937279249541461e-05, 0.000386741099646315, 0.005171585828065872, 0.896405816078186, 0.09657177329063416, 0.0, 0.0, 0.0, 0.0, 0.0, 0.0, 0.0, 0.0, 0.0, 0.0, 0.0, 0.0, 0.0, 0.0, 0.0, 0.0, 0.0, 0.0, 0.0, 0.0, 0.0, 0.0, 0.0, 0.0, 0.0], [0.0012883328599855304, 0.00032334565185010433, 0.000265272130491212, 0.0002549063938204199, 0.00020129863696638495, 0.00010049015691038221, 0.0005700891488231719, 0.0004091299488209188, 0.9965871572494507, 0.0, 0.0, 0.0, 0.0, 0.0, 0.0, 0.0, 0.0, 0.0, 0.0, 0.0, 0.0, 0.0, 0.0, 0.0, 0.0, 0.0, 0.0, 0.0, 0.0, 0.0, 0.0, 0.0, 0.0], [0.00018741624080576003, 1.619657632545568e-05, 4.2281203604943585e-06, 0.00028758938424289227, 1.1125726814498194e-05, 9.805684385355562e-06, 0.0001556722418172285, 7.632957567693666e-05, 0.0034869108349084854, 0.9957647323608398, 0.0, 0.0, 0.0, 0.0, 0.0, 0.0, 0.0, 0.0, 0.0, 0.0, 0.0, 0.0, 0.0, 0.0, 0.0, 0.0, 0.0, 0.0, 0.0, 0.0, 0.0, 0.0, 0.0], [0.015741534531116486, 0.0006393621442839503, 0.00045715313171967864, 0.0009912536479532719, 0.002114035887643695, 0.01808978244662285, 0.04712036997079849, 0.07010908424854279, 0.06152833625674248, 0.27690404653549194, 0.5063050389289856, 0.0, 0.0, 0.0, 0.0, 0.0, 0.0, 0.0, 0.0, 0.0, 0.0, 0.0, 0.0, 0.0, 0.0, 0.0, 0.0, 0.0, 0.0, 0.0, 0.0, 0.0, 0.0], [0.0006166603998281062, 0.0005207087961025536, 4.611528493114747e-05, 0.0014613015810027719, 0.0005623764591291547, 4.44760407845024e-05, 0.0003653971361927688, 0.0002860163222067058, 0.0045061311684548855, 0.0058165183290839195, 0.0007244551088660955, 0.9850499033927917, 0.0, 0.0, 0.0, 0.0, 0.0, 0.0, 0.0, 0.0, 0.0, 0.0, 0.0, 0.0, 0.0, 0.0, 0.0, 0.0, 0.0, 0.0, 0.0, 0.0, 0.0], [0.0010478608310222626, 3.0628263630205765e-05, 0.0001734506367938593, 5.4231401009019464e-05, 6.388442125171423e-05, 1.12611596705392e-05, 1.716904080240056e-05, 1.3931334251537919e-05, 0.0020760460756719112, 0.00026926910504698753, 0.0001526854612166062, 0.0036844408605247736, 0.992405116558075, 0.0, 0.0, 0.0, 0.0, 0.0, 0.0, 0.0, 0.0, 0.0, 0.0, 0.0, 0.0, 0.0, 0.0, 0.0, 0.0, 0.0, 0.0, 0.0, 0.0], [0.010746289975941181, 0.00025354375247843564, 0.00015322963008657098, 0.0002928704780060798, 0.0005376797053031623, 0.00442354753613472, 0.009884347207844257, 0.012843028642237186, 0.012738613411784172, 0.059668585658073425, 0.1077299565076828, 0.024745726957917213, 0.07808703929185867, 0.6778954863548279, 0.0, 0.0, 0.0, 0.0, 0.0, 0.0, 0.0, 0.0, 0.0, 0.0, 0.0, 0.0, 0.0, 0.0, 0.0, 0.0, 0.0, 0.0, 0.0], [0.00041218037949874997, 2.6218713173875585e-05, 1.7755939552444033e-05, 0.00019181902462150902, 3.2979462503135437e-06, 3.912671218131436e-06, 1.0438087883812841e-05, 4.906839876639424e-06, 0.000586855923756957, 0.0030381453689187765, 3.6931178328813985e-05, 0.00077243015402928, 0.009622609242796898, 0.00016094396414700896, 0.9851114153862, 0.0, 0.0, 0.0, 0.0, 0.0, 0.0, 0.0, 0.0, 0.0, 0.0, 0.0, 0.0, 0.0, 0.0, 0.0, 0.0, 0.0, 0.0], [0.00010886622476391494, 3.5845548609358957e-06, 5.191666787141003e-06, 3.083845876972191e-05, 1.8408796677249484e-05, 7.954780016916629e-07, 3.35321647071396e-06, 6.574377039214596e-06, 0.000727095000911504, 0.0018232506699860096, 7.853287570469547e-06, 0.00030627535306848586, 0.006975061260163784, 3.485096385702491e-05, 0.028292803093791008, 0.9616551399230957, 0.0, 0.0, 0.0, 0.0, 0.0, 0.0, 0.0, 0.0, 0.0, 0.0, 0.0, 0.0, 0.0, 0.0, 0.0, 0.0, 0.0], [0.006073980126529932, 8.815188630251214e-05, 4.583778718370013e-05, 8.250479731941596e-05, 0.00012720435915980488, 0.0009312516776844859, 0.0016699988627806306, 0.0019381936872377992, 0.0021016953978687525, 0.010131659917533398, 0.016047297045588493, 0.0038353826384991407, 0.012242134660482407, 0.10037065297365189, 0.07853125035762787, 0.10997343063354492, 0.6558094620704651, 0.0, 0.0, 0.0, 0.0, 0.0, 0.0, 0.0, 0.0, 0.0, 0.0, 0.0, 0.0, 0.0, 0.0, 0.0, 0.0], [0.002186303259804845, 1.1892955626535695e-05, 1.67359958140878e-05, 2.081543607346248e-05, 2.1162559278309345e-05, 0.0007714934181421995, 0.0008652111864648759, 0.0005560293211601675, 0.0001565588900120929, 0.001949991681613028, 0.010891204699873924, 0.00039543124148622155, 0.0015144736971706152, 0.06916319578886032, 0.004308104980736971, 0.0040351627394557, 0.4939705431461334, 0.4091655910015106, 0.0, 0.0, 0.0, 0.0, 0.0, 0.0, 0.0, 0.0, 0.0, 0.0, 0.0, 0.0, 0.0, 0.0, 0.0], [1.9797989807557315e-05, 4.972383749191067e-07, 9.165694869750496e-09, 1.32304037947506e-07, 5.60181163677953e-08, 1.1903853902595074e-08, 6.153105687189964e-07, 4.068542480695214e-08, 4.51744244855945e-06, 1.4017764442542102e-05, 1.6456868934255908e-07, 1.086380279957666e-06, 7.444047241733642e-06, 1.0056664905278012e-06, 2.759499693638645e-05, 0.00031377977575175464, 6.201119504112285e-06, 8.2133310570498e-06, 0.9995948672294617, 0.0, 0.0, 0.0, 0.0, 0.0, 0.0, 0.0, 0.0, 0.0, 0.0, 0.0, 0.0, 0.0, 0.0], [6.497167760244338e-06, 8.692019264344708e-07, 1.405139187227178e-06, 3.7704828059759166e-07, 3.3291723866568645e-07, 6.104961869368708e-08, 2.5430050953900718e-08, 1.1067748317827864e-07, 3.670877413242124e-05, 5.704808927475824e-07, 6.172335247356386e-07, 0.00015627934772055596, 0.00014737927995156497, 3.010378577528172e-06, 6.130665133241564e-05, 0.0017769911792129278, 1.8545921193435788e-05, 3.426316470722668e-05, 0.923351526260376, 0.07440311461687088, 0.0, 0.0, 0.0, 0.0, 0.0, 0.0, 0.0, 0.0, 0.0, 0.0, 0.0, 0.0, 0.0], [0.003649007063359022, 3.749442475964315e-05, 1.7470798411522992e-05, 2.8449270757846534e-05, 3.312429544166662e-05, 0.00019569248252082616, 0.000264759553829208, 0.00024690438294783235, 0.00028033152921125293, 0.0013949194690212607, 0.0017910308670252562, 0.0004246803291607648, 0.0014623713213950396, 0.009717767126858234, 0.008053953759372234, 0.013200580142438412, 0.06315974146127701, 0.07152791321277618, 0.07523121684789658, 0.02420511469244957, 0.7250774502754211, 0.0, 0.0, 0.0, 0.0, 0.0, 0.0, 0.0, 0.0, 0.0, 0.0, 0.0, 0.0], [0.0006410918431356549, 3.925723376596579e-06, 1.1607417036429979e-06, 1.5375538851003512e-06, 9.072667808140977e-07, 8.05823401606176e-06, 1.3224007489043288e-05, 4.6199365897336975e-06, 3.6788464058190584e-05, 4.565192648442462e-05, 7.577837823191658e-05, 2.2741818611393683e-05, 5.668473750120029e-05, 0.00047375200665555894, 0.0003640780341811478, 0.00042400366510264575, 0.0037573440931737423, 0.004363134503364563, 0.007395245600491762, 0.005022640805691481, 0.05575628951191902, 0.9215313792228699, 0.0, 0.0, 0.0, 0.0, 0.0, 0.0, 0.0, 0.0, 0.0, 0.0, 0.0], [0.0005377690540626645, 8.122568715407397e-07, 2.3018628780846484e-06, 1.4700387964694528e-06, 1.8703665318753337e-06, 6.024511662872101e-07, 4.127837655687472e-06, 1.6705749885659316e-06, 2.0471961761359125e-06, 7.43004129617475e-05, 3.5942298381996807e-06, 7.171509423642419e-06, 3.052823740290478e-05, 1.8927737983176485e-05, 0.00025438779266551137, 0.00019496388267725706, 0.0001262653968296945, 0.00018230521527584642, 0.0037352307699620724, 0.0006727116415277123, 0.0015798303065821528, 0.011177665553987026, 0.981389582157135, 0.0, 0.0, 0.0, 0.0, 0.0, 0.0, 0.0, 0.0, 0.0, 0.0], [8.512816566508263e-05, 4.870876182394568e-07, 1.2458970104489708e-06, 2.0811260981190571e-07, 1.9242899895743903e-07, 3.7040319256220755e-08, 4.555248267479328e-07, 5.5045465074954336e-08, 1.5320352986236685e-06, 5.0832959459512495e-06, 2.140094181868335e-07, 1.4595295851904666e-06, 1.4768347682547756e-05, 1.0635014859872172e-06, 2.9461512895068154e-05, 5.7288114476250485e-05, 6.615687652811175e-06, 7.844203537388239e-06, 0.0001506384287495166, 0.0002263696223963052, 7.973588799359277e-05, 0.000130408356199041, 0.010868421755731106, 0.9883313775062561, 0.0, 0.0, 0.0, 0.0, 0.0, 0.0, 0.0, 0.0, 0.0], [0.0004166329454164952, 2.2503777472593356e-06, 5.270546807878418e-06, 2.7549192964215763e-05, 3.963056587963365e-05, 7.5147563620703295e-06, 8.100939339783508e-06, 1.158137274615001e-05, 1.3205988580011763e-05, 6.750735337845981e-05, 2.5212761102011427e-05, 1.4860725968901534e-05, 7.521714724134654e-05, 0.00011457483924459666, 0.00025745309540070593, 0.0003666856209747493, 0.0006904753972776234, 0.0014518486568704247, 0.0032460172660648823, 0.0006353409262374043, 0.008745566010475159, 0.0151908528059721, 0.018150176852941513, 0.13303311169147491, 0.817403256893158, 0.0, 0.0, 0.0, 0.0, 0.0, 0.0, 0.0, 0.0], [1.673925362410955e-05, 8.245302751674899e-08, 3.257380498666862e-08, 2.873734494812652e-08, 1.6217666143347742e-07, 1.5275386511248712e-09, 2.3278559524442244e-08, 5.576707984289442e-09, 1.2825742601307866e-07, 1.342944955240455e-07, 6.160561838441936e-09, 2.5232480993508943e-07, 3.205745088052936e-06, 2.627728079573899e-08, 7.619955795235001e-07, 7.901938261056785e-06, 1.3940388043920393e-07, 1.95525970525523e-07, 0.00032022528466768563, 8.173655601240171e-07, 1.5629990457455278e-06, 3.763156655622879e-06, 0.0007450500852428377, 0.003715218510478735, 3.93441368942149e-05, 0.9951443076133728, 0.0, 0.0, 0.0, 0.0, 0.0, 0.0, 0.0], [0.00023842244991101325, 5.040096311859088e-06, 1.3208579048296087e-06, 8.59982810652582e-06, 5.166059054317884e-06, 1.3470912563207094e-07, 6.710797606501728e-07, 2.69969319788288e-07, 6.345725523715373e-06, 4.417822856339626e-05, 2.7444932015896484e-07, 2.0171175492578186e-05, 1.6526626495760866e-05, 8.12277562545205e-07, 0.0001077100241673179, 0.00012397429964039475, 3.50758546119323e-06, 8.50583273859229e-06, 6.98026196914725e-05, 0.00026813638396561146, 2.879286876122933e-05, 0.00011957895185332745, 0.0001296166592510417, 0.007425930816680193, 0.0007109706057235599, 0.005815013311803341, 0.9848405718803406, 0.0, 0.0, 0.0, 0.0, 0.0, 0.0], [0.00040899537270888686, 6.095390290283831e-07, 1.9963918020948768e-06, 9.310342647950165e-06, 3.7690579119953327e-06, 1.9876606529578567e-06, 4.5765571599076793e-07, 1.0690736189644667e-06, 3.087180857619387e-06, 9.211408723786008e-06, 4.72436204290716e-06, 1.207005993819621e-06, 5.095626875117887e-06, 1.8047125195153058e-05, 4.8578665882814676e-05, 4.16938382841181e-05, 0.00010537497291807085, 0.00022466812515631318, 0.00011528628238011152, 0.0002492899657227099, 0.0013673120411112905, 0.0016190302558243275, 0.0013275123201310635, 0.003491778392344713, 0.06305639445781708, 0.006469059735536575, 0.09512647241353989, 0.8262879848480225, 0.0, 0.0, 0.0, 0.0, 0.0], [0.0003180472704116255, 1.418184069734707e-06, 3.1855034876571153e-07, 2.782313231364242e-06, 5.388598219724372e-05, 4.3006188832350745e-08, 5.386270345297817e-07, 8.497839587562339e-08, 5.999708605486376e-07, 4.11033352065715e-06, 7.099411902800057e-08, 8.454339308627823e-07, 2.52661743616045e-06, 2.1983925080348854e-07, 6.0982515606156085e-06, 2.1130004824954085e-05, 9.411783139512409e-07, 9.950414323611767e-07, 3.041368654521648e-05, 2.9769919365207897e-06, 8.453859663859475e-06, 2.6007039195974357e-05, 0.00023055826022755355, 0.0013383408077061176, 0.0002175825648009777, 0.00701440405100584, 0.01792406104505062, 0.0005302681238390505, 0.9722621440887451, 0.0, 0.0, 0.0, 0.0], [1.85052627443838e-07, 5.565671479246248e-09, 7.262683232589495e-10, 7.745968311212437e-09, 1.507945235346142e-08, 8.228521197750638e-10, 1.7915348093922034e-09, 1.7345613834152118e-09, 1.096253576804429e-08, 5.003284897497906e-08, 3.9228162940219136e-09, 1.0013906148742535e-07, 2.3337790366895206e-08, 1.6555224746639396e-08, 5.1713200832637085e-08, 1.6145995118677092e-07, 9.827902403003463e-08, 2.707449482386437e-07, 5.411977326730266e-06, 2.508379566279473e-07, 1.1805944950538105e-06, 2.80042331723962e-06, 4.61038098364952e-06, 0.00022679209359921515, 5.7942310377256945e-05, 0.000451954867457971, 0.00011976478708675131, 0.00023980808327905834, 0.0018740012310445309, 0.9970145225524902, 0.0, 0.0, 0.0], [4.347453432274051e-05, 2.9688692393392557e-06, 3.919357709492033e-07, 9.117056265495194e-07, 4.3644854486046825e-07, 4.686591115188321e-09, 9.240360299145323e-08, 1.2419302031219104e-08, 7.18895023510413e-08, 6.304537691903533e-07, 6.108888506162202e-09, 1.9987122357179032e-07, 1.4578646414520335e-06, 1.4727371322464933e-08, 1.7957326292616926e-07, 2.642266008479055e-05, 5.112647372129686e-08, 4.710673806584964e-08, 0.0015761165414005518, 2.1989392280374886e-06, 3.333975939767697e-07, 2.181479203500203e-06, 0.00016240360855590552, 0.001777761965058744, 1.1749207260436378e-05, 0.0036160817835479975, 6.199465860845521e-05, 3.5168231988791376e-05, 0.0011488667223602533, 0.01608557440340519, 0.9754422307014465, 0.0, 0.0], [0.00115629390347749, 6.1990413087187335e-06, 6.137777290859958e-07, 3.102660230069887e-06, 8.228416277233919e-07, 4.3660193682626414e-08, 9.363272823748048e-08, 2.7735492125202654e-08, 5.109519634061144e-07, 1.2355308172118384e-06, 3.825297412163309e-08, 1.1272296660536085e-06, 1.9008917888641008e-06, 8.71407408453706e-08, 5.398188022809336e-06, 7.393430678348523e-06, 3.1288666946238664e-07, 3.0146256335683574e-07, 0.00013595363998319954, 1.33438479679171e-05, 2.399640607109177e-06, 3.871272929245606e-05, 0.0008219628361985087, 0.0006131271948106587, 2.1518419089261442e-05, 0.0041407253593206406, 0.0008760846103541553, 0.00011684626224450767, 0.002159066265448928, 0.0275252815335989, 0.044349756091833115, 0.9179997444152832, 0.0], [0.003194287186488509, 4.681669088313356e-05, 3.4991255233762786e-05, 2.7043068257626146e-05, 1.4000314877193887e-05, 1.7085138097172603e-05, 8.051889381022193e-06, 3.909833139914554e-06, 1.0716932592913508e-05, 1.793078627088107e-05, 1.4207475942384917e-05, 2.691126792342402e-05, 2.6412008082843386e-05, 3.110021134489216e-05, 1.119858461606782e-05, 5.485486690304242e-05, 0.00011474483471829444, 0.0001049366983352229, 0.0002806299598887563, 0.00020839062926825136, 0.0009329257882200181, 0.0018989979289472103, 0.0011267575901001692, 0.0019257247913628817, 0.003917152062058449, 0.0074994489550590515, 0.010695920325815678, 0.023199867457151413, 0.030398108065128326, 0.1272934526205063, 0.043253183364868164, 0.17668060958385468, 0.5669295787811279]], [[1.0, 0.0, 0.0, 0.0, 0.0, 0.0, 0.0, 0.0, 0.0, 0.0, 0.0, 0.0, 0.0, 0.0, 0.0, 0.0, 0.0, 0.0, 0.0, 0.0, 0.0, 0.0, 0.0, 0.0, 0.0, 0.0, 0.0, 0.0, 0.0, 0.0, 0.0, 0.0, 0.0], [0.2530861794948578, 0.7469137907028198, 0.0, 0.0, 0.0, 0.0, 0.0, 0.0, 0.0, 0.0, 0.0, 0.0, 0.0, 0.0, 0.0, 0.0, 0.0, 0.0, 0.0, 0.0, 0.0, 0.0, 0.0, 0.0, 0.0, 0.0, 0.0, 0.0, 0.0, 0.0, 0.0, 0.0, 0.0], [0.3067157566547394, 0.32906395196914673, 0.36422035098075867, 0.0, 0.0, 0.0, 0.0, 0.0, 0.0, 0.0, 0.0, 0.0, 0.0, 0.0, 0.0, 0.0, 0.0, 0.0, 0.0, 0.0, 0.0, 0.0, 0.0, 0.0, 0.0, 0.0, 0.0, 0.0, 0.0, 0.0, 0.0, 0.0, 0.0], [0.07416974753141403, 0.16189678013324738, 0.054325953125953674, 0.7096074819564819, 0.0, 0.0, 0.0, 0.0, 0.0, 0.0, 0.0, 0.0, 0.0, 0.0, 0.0, 0.0, 0.0, 0.0, 0.0, 0.0, 0.0, 0.0, 0.0, 0.0, 0.0, 0.0, 0.0, 0.0, 0.0, 0.0, 0.0, 0.0, 0.0], [0.1668822318315506, 0.039017874747514725, 0.038224611431360245, 0.21398359537124634, 0.5418916344642639, 0.0, 0.0, 0.0, 0.0, 0.0, 0.0, 0.0, 0.0, 0.0, 0.0, 0.0, 0.0, 0.0, 0.0, 0.0, 0.0, 0.0, 0.0, 0.0, 0.0, 0.0, 0.0, 0.0, 0.0, 0.0, 0.0, 0.0, 0.0], [0.19483637809753418, 0.2111925184726715, 0.05150563642382622, 0.08703833818435669, 0.22999541461467743, 0.22543178498744965, 0.0, 0.0, 0.0, 0.0, 0.0, 0.0, 0.0, 0.0, 0.0, 0.0, 0.0, 0.0, 0.0, 0.0, 0.0, 0.0, 0.0, 0.0, 0.0, 0.0, 0.0, 0.0, 0.0, 0.0, 0.0, 0.0, 0.0], [0.13900135457515717, 0.029748642817139626, 0.038606978952884674, 0.051332708448171616, 0.19284240901470184, 0.08012369275093079, 0.4683442711830139, 0.0, 0.0, 0.0, 0.0, 0.0, 0.0, 0.0, 0.0, 0.0, 0.0, 0.0, 0.0, 0.0, 0.0, 0.0, 0.0, 0.0, 0.0, 0.0, 0.0, 0.0, 0.0, 0.0, 0.0, 0.0, 0.0], [0.08969778567552567, 0.040806010365486145, 0.03473309427499771, 0.08414530754089355, 0.09911046922206879, 0.07059448212385178, 0.1361657828092575, 0.44474709033966064, 0.0, 0.0, 0.0, 0.0, 0.0, 0.0, 0.0, 0.0, 0.0, 0.0, 0.0, 0.0, 0.0, 0.0, 0.0, 0.0, 0.0, 0.0, 0.0, 0.0, 0.0, 0.0, 0.0, 0.0, 0.0], [0.05986517295241356, 0.020190458744764328, 0.018785320222377777, 0.10584727674722672, 0.05794879421591759, 0.02751770243048668, 0.05666310340166092, 0.0822676420211792, 0.5709145069122314, 0.0, 0.0, 0.0, 0.0, 0.0, 0.0, 0.0, 0.0, 0.0, 0.0, 0.0, 0.0, 0.0, 0.0, 0.0, 0.0, 0.0, 0.0, 0.0, 0.0, 0.0, 0.0, 0.0, 0.0], [0.010379276238381863, 0.004698256030678749, 0.004143988247960806, 0.0072914063930511475, 0.0062566958367824554, 0.0033180471509695053, 0.009175022132694721, 0.018754417076706886, 0.03393149748444557, 0.9020513892173767, 0.0, 0.0, 0.0, 0.0, 0.0, 0.0, 0.0, 0.0, 0.0, 0.0, 0.0, 0.0, 0.0, 0.0, 0.0, 0.0, 0.0, 0.0, 0.0, 0.0, 0.0, 0.0, 0.0], [0.0727011188864708, 0.04776483774185181, 0.010500337928533554, 0.01615939661860466, 0.04617815092206001, 0.05249456688761711, 0.05184568092226982, 0.211895152926445, 0.03515816479921341, 0.1726718246936798, 0.2826307415962219, 0.0, 0.0, 0.0, 0.0, 0.0, 0.0, 0.0, 0.0, 0.0, 0.0, 0.0, 0.0, 0.0, 0.0, 0.0, 0.0, 0.0, 0.0, 0.0, 0.0, 0.0, 0.0], [0.015126891434192657, 0.004731185734272003, 0.0023226304911077023, 0.006575732957571745, 0.018362442031502724, 0.0033396605867892504, 0.008784219622612, 0.007409738842397928, 0.006289802026003599, 0.07638940215110779, 0.012003479525446892, 0.838664710521698, 0.0, 0.0, 0.0, 0.0, 0.0, 0.0, 0.0, 0.0, 0.0, 0.0, 0.0, 0.0, 0.0, 0.0, 0.0, 0.0, 0.0, 0.0, 0.0, 0.0, 0.0], [0.0323319286108017, 0.010628961026668549, 0.0026151614729315042, 0.0011762913782149553, 0.003093282226473093, 0.0015055524418130517, 0.007079718634486198, 0.002834467915818095, 0.005003879778087139, 0.012032583355903625, 0.0039877742528915405, 0.051872361451387405, 0.8658380508422852, 0.0, 0.0, 0.0, 0.0, 0.0, 0.0, 0.0, 0.0, 0.0, 0.0, 0.0, 0.0, 0.0, 0.0, 0.0, 0.0, 0.0, 0.0, 0.0, 0.0], [0.05045589804649353, 0.026538854464888573, 0.005783275701105595, 0.008087298832833767, 0.021799374371767044, 0.025670358911156654, 0.022779027000069618, 0.09139902889728546, 0.015017373487353325, 0.07093925029039383, 0.12448640167713165, 0.12668336927890778, 0.0610213503241539, 0.349339097738266, 0.0, 0.0, 0.0, 0.0, 0.0, 0.0, 0.0, 0.0, 0.0, 0.0, 0.0, 0.0, 0.0, 0.0, 0.0, 0.0, 0.0, 0.0, 0.0], [0.054741229861974716, 0.05296845734119415, 0.0039881253615021706, 0.01235161442309618, 0.004415616858750582, 0.003596276743337512, 0.011385711841285229, 0.00982806459069252, 0.014749733731150627, 0.07078830152750015, 0.011209188029170036, 0.05164060741662979, 0.19734393060207367, 0.02712928131222725, 0.4738638997077942, 0.0, 0.0, 0.0, 0.0, 0.0, 0.0, 0.0, 0.0, 0.0, 0.0, 0.0, 0.0, 0.0, 0.0, 0.0, 0.0, 0.0, 0.0], [0.0071630715392529964, 0.004963846877217293, 0.0027692250441759825, 0.0019424415659159422, 0.010544744320213795, 0.001414487138390541, 0.003663662588223815, 0.0031499515753239393, 0.0054812985472381115, 0.021614059805870056, 0.003922200761735439, 0.07935086637735367, 0.22477909922599792, 0.009166955947875977, 0.02740265429019928, 0.5926714539527893, 0.0, 0.0, 0.0, 0.0, 0.0, 0.0, 0.0, 0.0, 0.0, 0.0, 0.0, 0.0, 0.0, 0.0, 0.0, 0.0, 0.0], [0.03461103513836861, 0.015296327881515026, 0.003095123218372464, 0.0038990885950624943, 0.009989386424422264, 0.011446869000792503, 0.009189357049763203, 0.03356511890888214, 0.0057612075470387936, 0.025581002235412598, 0.04384690523147583, 0.04521358758211136, 0.020553382113575935, 0.1196233406662941, 0.1567324548959732, 0.13173450529575348, 0.32986119389533997, 0.0, 0.0, 0.0, 0.0, 0.0, 0.0, 0.0, 0.0, 0.0, 0.0, 0.0, 0.0, 0.0, 0.0, 0.0, 0.0], [0.01725388690829277, 0.004397527780383825, 0.004968692548573017, 0.007064315490424633, 0.006634896621108055, 0.006910955533385277, 0.011386913247406483, 0.016178512945771217, 0.020317763090133667, 0.020396821200847626, 0.0234221201390028, 0.0189091507345438, 0.040242038667201996, 0.06200673058629036, 0.11645365506410599, 0.07975108921527863, 0.1686447560787201, 0.37506017088890076, 0.0, 0.0, 0.0, 0.0, 0.0, 0.0, 0.0, 0.0, 0.0, 0.0, 0.0, 0.0, 0.0, 0.0, 0.0], [0.002459117444232106, 0.00024919764837250113, 3.400466084713116e-05, 0.0002113294176524505, 0.00020066798606421798, 0.00012589257676154375, 0.0003650685539469123, 0.0003735983627848327, 0.00013798550935462117, 0.00047022191574797034, 0.000271518510999158, 0.003417080035433173, 0.0006049812072888017, 0.0005454609054140747, 0.000893767864909023, 0.0015852140495553613, 0.001215076306834817, 0.0028212708421051502, 0.9840186238288879, 0.0, 0.0, 0.0, 0.0, 0.0, 0.0, 0.0, 0.0, 0.0, 0.0, 0.0, 0.0, 0.0, 0.0], [0.00015282478125300258, 0.03892362117767334, 0.00047152015031315386, 0.00037318177055567503, 3.2717998692533e-05, 1.0635602848196868e-05, 3.82458756575943e-06, 1.3244706678960938e-05, 6.418924022000283e-05, 2.73444256890798e-05, 2.8319956982159056e-05, 0.0022295680828392506, 0.0013866389635950327, 7.163517875596881e-05, 0.00014025568088982254, 0.008246436715126038, 0.00019678637909237295, 0.00020546668383758515, 0.8976381421089172, 0.04978378489613533, 0.0, 0.0, 0.0, 0.0, 0.0, 0.0, 0.0, 0.0, 0.0, 0.0, 0.0, 0.0, 0.0], [0.026458080857992172, 0.010410880669951439, 0.002133255125954747, 0.0024560147430747747, 0.005542585626244545, 0.00595457199960947, 0.00419582799077034, 0.013451527804136276, 0.002351947594434023, 0.009471961297094822, 0.015433437190949917, 0.014804961159825325, 0.0068657598458230495, 0.03787313029170036, 0.047449350357055664, 0.04547283425927162, 0.10199163854122162, 0.08666390180587769, 0.06470178812742233, 0.10160758346319199, 0.39470890164375305, 0.0, 0.0, 0.0, 0.0, 0.0, 0.0, 0.0, 0.0, 0.0, 0.0, 0.0, 0.0], [0.0211578868329525, 0.003548432607203722, 0.0017441129311919212, 0.003509307047352195, 0.004201889503747225, 0.002577780745923519, 0.0040158540941774845, 0.0045989989303052425, 0.003955155145376921, 0.0064558410085737705, 0.005907896440476179, 0.0037331588100641966, 0.009013406932353973, 0.013927984051406384, 0.029895801097154617, 0.020082315430045128, 0.03804442659020424, 0.06883091479539871, 0.08152896165847778, 0.038340236991643906, 0.1516026109457016, 0.4833270013332367, 0.0, 0.0, 0.0, 0.0, 0.0, 0.0, 0.0, 0.0, 0.0, 0.0, 0.0], [0.001421166816726327, 0.0004069007409270853, 0.0002714421134442091, 0.0014869219157844782, 0.0006475145346485078, 0.0002567149931564927, 0.00027297608903609216, 0.0005059848190285265, 0.00017537473468109965, 0.001205958891659975, 0.0005902890698052943, 0.00043073896085843444, 0.0003699958324432373, 0.0013322824379429221, 0.0007594262715429068, 0.002518304856494069, 0.003599976422265172, 0.004756714217364788, 0.011892925016582012, 0.003410214791074395, 0.013851100578904152, 0.05907329544425011, 0.8907636404037476, 0.0, 0.0, 0.0, 0.0, 0.0, 0.0, 0.0, 0.0, 0.0, 0.0], [0.005058866925537586, 0.0008823543903417885, 0.0015358272939920425, 0.0016909881960600615, 0.0013438743771985173, 0.0004949710564687848, 0.0006572257843799889, 0.000552159093786031, 0.0005812101881019771, 0.0020545616280287504, 0.000838087173178792, 0.0010067486437037587, 0.0011300848564133048, 0.001613992266356945, 0.005022872239351273, 0.014576885849237442, 0.003714333288371563, 0.0046814787201583385, 0.007913826033473015, 0.006778391543775797, 0.012291377410292625, 0.027733029797673225, 0.10214646905660629, 0.7957004308700562, 0.0, 0.0, 0.0, 0.0, 0.0, 0.0, 0.0, 0.0, 0.0], [0.004004700109362602, 0.00045769757707603276, 0.0015645218081772327, 0.003137205494567752, 0.001993743935599923, 0.0003789263719227165, 0.0004957785713486373, 0.000569801835808903, 0.0010052061406895518, 0.0023432245943695307, 0.0005772152217105031, 0.0016756145050749183, 0.0030787393916398287, 0.0012285256525501609, 0.005278327967971563, 0.006328058894723654, 0.003151731565594673, 0.00531931035220623, 0.0213831327855587, 0.006147712003439665, 0.012332228943705559, 0.07402167469263077, 0.12114015966653824, 0.561111569404602, 0.16127516329288483, 0.0, 0.0, 0.0, 0.0, 0.0, 0.0, 0.0, 0.0], [0.001128654694184661, 4.988915679859929e-05, 4.129118315177038e-05, 9.249602589989081e-05, 5.513622454600409e-05, 3.8617217796854675e-05, 5.592027082457207e-05, 0.00014896265929564834, 5.509220045496477e-06, 6.817433313699439e-05, 3.620445204433054e-05, 4.6239569201134145e-05, 0.0010655028745532036, 5.919874456594698e-05, 7.787252980051562e-05, 0.0003842120058834553, 0.00011692436964949593, 0.00022428238298743963, 0.0005083985743112862, 0.0001562812103657052, 0.0003233148599974811, 0.0007086832192726433, 0.0009207411203533411, 0.0008559706620872021, 0.0044144499115645885, 0.9884169697761536, 0.0, 0.0, 0.0, 0.0, 0.0, 0.0, 0.0], [0.002429966814815998, 0.0036596308927983046, 0.0006344970315694809, 0.0006202646181918681, 0.0029876732733100653, 0.00034763640724122524, 0.0005059156101197004, 0.00041149710887111723, 0.00021321565145626664, 0.0006509346421808004, 0.0003955693682655692, 0.16986437141895294, 0.002188896993175149, 0.0006812367937527597, 0.0008683752384968102, 0.008905129507184029, 0.0014638517750427127, 0.0013394559500738978, 0.006495121866464615, 0.007638707756996155, 0.0046193962916731834, 0.003161791479215026, 0.014200885780155659, 0.04639656841754913, 0.02278606779873371, 0.2193925827741623, 0.47714072465896606, 0.0, 0.0, 0.0, 0.0, 0.0, 0.0], [0.015610343776643276, 0.0009648080449551344, 0.001028184313327074, 0.007148518692702055, 0.005316650494933128, 0.000543268455658108, 0.0007839889149181545, 0.00047082954552024603, 0.002298034494742751, 0.005463096778839827, 0.0005483077256940305, 0.0008661500178277493, 0.0009035557741299272, 0.000925196916796267, 0.008375938050448895, 0.0014478132361546159, 0.002061492530629039, 0.0036933838855475187, 0.01700887642800808, 0.006138677708804607, 0.007041901350021362, 0.04128706455230713, 0.06922481209039688, 0.26617175340652466, 0.05024213716387749, 0.11445152014493942, 0.1376490443944931, 0.23233459889888763, 0.0, 0.0, 0.0, 0.0, 0.0], [0.021895283833146095, 0.0013514530146494508, 0.0013727955520153046, 0.005157715640962124, 0.01093278918415308, 0.00044522181269712746, 0.0016178286168724298, 0.0005713264690712094, 0.0007700263522565365, 0.0030935381073504686, 0.00036163447657600045, 0.0009329019812867045, 0.0019032396376132965, 0.0005254389252513647, 0.0007036194438114762, 0.001578063820488751, 0.001020047115162015, 0.0009346723672933877, 0.0051675778813660145, 0.0007855421281419694, 0.002879685489460826, 0.006337151397019625, 0.04951415956020355, 0.02188689634203911, 0.030046874657273293, 0.06941600888967514, 0.02995389699935913, 0.06111621856689453, 0.6677283644676208, 0.0, 0.0, 0.0, 0.0], [0.00029466586420312524, 8.085117588052526e-05, 0.00011992661893600598, 0.00017154007218778133, 0.00038990043685771525, 8.630250522401184e-05, 5.253725976217538e-05, 6.616373866563663e-05, 0.00011378390627214685, 6.200079951668158e-05, 0.0001123804395319894, 0.0005867327563464642, 9.784998837858438e-05, 0.0002133486996171996, 0.0004044432716909796, 0.00047262388397939503, 0.00047307394561357796, 0.0005199525039643049, 0.0008571157231926918, 0.00022720209381077439, 0.0015976795693859458, 0.001478066435083747, 0.001650143531151116, 0.009339646436274052, 0.012792709283530712, 0.012606971897184849, 0.021659603342413902, 0.028867483139038086, 0.07784789055585861, 0.8267574310302734, 0.0, 0.0, 0.0], [0.0006396531243808568, 0.00019920204067602754, 0.0003378454130142927, 0.0003228610730729997, 0.00038839777698740363, 2.2511419956572354e-05, 0.00011559645645320415, 1.96836881514173e-05, 8.749761036597192e-05, 0.000166757294209674, 2.135317845386453e-05, 0.00018257646297570318, 0.0028796184342354536, 3.270837987656705e-05, 6.355971709126607e-05, 0.0009078498114831746, 6.314194615697488e-05, 4.954512769472785e-05, 0.005010179243981838, 0.00021555746207013726, 0.0001892330910777673, 0.0002357983321417123, 0.0021191705018281937, 0.0034752420615404844, 0.0004957507480867207, 0.012673023156821728, 0.0026274591218680143, 0.0011926379520446062, 0.028011504560709, 0.1421457678079605, 0.7951083183288574, 0.0, 0.0], [0.005492151249200106, 0.0014179629506543279, 6.310049502644688e-05, 0.0009282371029257774, 0.00046758734970353544, 9.70122855505906e-05, 5.678706293110736e-05, 6.824066076660529e-05, 4.05481769121252e-05, 0.00021011504577472806, 6.534710701089352e-05, 0.00011957799870288, 9.082347241928801e-05, 9.077359572984278e-05, 0.00013827493239659816, 0.00041228410555049777, 0.00016900600166991353, 0.00013570704322773963, 0.002428325591608882, 0.00020654841500800103, 0.0004959606449119747, 0.0001656200474826619, 0.0018254040041938424, 0.0016808179207146168, 0.0010187356965616345, 0.015071497298777103, 0.003408377757295966, 0.003384194104000926, 0.01886552758514881, 0.010037435218691826, 0.008259573951363564, 0.9230883717536926, 0.0], [0.009386103600263596, 0.0017380556091666222, 0.0018091680249199271, 0.001435023732483387, 0.0016812813701108098, 0.0019791291560977697, 0.0014143435982987285, 0.002112781861796975, 0.0012016961118206382, 0.001046764082275331, 0.001253248075954616, 0.0012125693028792739, 0.0006952424300834537, 0.001685016555711627, 0.001290497719310224, 0.0014949404867365956, 0.003052462823688984, 0.006176406051963568, 0.0039931535720825195, 0.0029945180285722017, 0.008827605284750462, 0.009542400017380714, 0.010477348230779171, 0.021451428532600403, 0.06221357733011246, 0.0268610417842865, 0.03390643373131752, 0.11987606436014175, 0.05027467757463455, 0.02679685316979885, 0.031165683642029762, 0.10728632658720016, 0.44366806745529175]], [[1.0, 0.0, 0.0, 0.0, 0.0, 0.0, 0.0, 0.0, 0.0, 0.0, 0.0, 0.0, 0.0, 0.0, 0.0, 0.0, 0.0, 0.0, 0.0, 0.0, 0.0, 0.0, 0.0, 0.0, 0.0, 0.0, 0.0, 0.0, 0.0, 0.0, 0.0, 0.0, 0.0], [0.10520488768815994, 0.8947951793670654, 0.0, 0.0, 0.0, 0.0, 0.0, 0.0, 0.0, 0.0, 0.0, 0.0, 0.0, 0.0, 0.0, 0.0, 0.0, 0.0, 0.0, 0.0, 0.0, 0.0, 0.0, 0.0, 0.0, 0.0, 0.0, 0.0, 0.0, 0.0, 0.0, 0.0, 0.0], [0.03907203674316406, 0.0020172232761979103, 0.9589106440544128, 0.0, 0.0, 0.0, 0.0, 0.0, 0.0, 0.0, 0.0, 0.0, 0.0, 0.0, 0.0, 0.0, 0.0, 0.0, 0.0, 0.0, 0.0, 0.0, 0.0, 0.0, 0.0, 0.0, 0.0, 0.0, 0.0, 0.0, 0.0, 0.0, 0.0], [0.015578597784042358, 0.000839252199511975, 0.0006979755708016455, 0.9828841686248779, 0.0, 0.0, 0.0, 0.0, 0.0, 0.0, 0.0, 0.0, 0.0, 0.0, 0.0, 0.0, 0.0, 0.0, 0.0, 0.0, 0.0, 0.0, 0.0, 0.0, 0.0, 0.0, 0.0, 0.0, 0.0, 0.0, 0.0, 0.0, 0.0], [0.00885644182562828, 9.934277841239236e-06, 1.1174821338499896e-05, 0.0003024697070941329, 0.9908198714256287, 0.0, 0.0, 0.0, 0.0, 0.0, 0.0, 0.0, 0.0, 0.0, 0.0, 0.0, 0.0, 0.0, 0.0, 0.0, 0.0, 0.0, 0.0, 0.0, 0.0, 0.0, 0.0, 0.0, 0.0, 0.0, 0.0, 0.0, 0.0], [0.3544500470161438, 0.030589284375309944, 0.05988958477973938, 0.022903528064489365, 0.047475893050432205, 0.48469164967536926, 0.0, 0.0, 0.0, 0.0, 0.0, 0.0, 0.0, 0.0, 0.0, 0.0, 0.0, 0.0, 0.0, 0.0, 0.0, 0.0, 0.0, 0.0, 0.0, 0.0, 0.0, 0.0, 0.0, 0.0, 0.0, 0.0, 0.0], [0.044769033789634705, 0.0015664690872654319, 0.0003773854987230152, 0.00025073293363675475, 0.00040889729280024767, 0.0002606563502922654, 0.952366828918457, 0.0, 0.0, 0.0, 0.0, 0.0, 0.0, 0.0, 0.0, 0.0, 0.0, 0.0, 0.0, 0.0, 0.0, 0.0, 0.0, 0.0, 0.0, 0.0, 0.0, 0.0, 0.0, 0.0, 0.0, 0.0, 0.0], [0.09058350324630737, 0.001147075672633946, 0.006027346942573786, 0.0005468474118970335, 0.0017094230279326439, 0.003785087028518319, 0.0026845415122807026, 0.8935161232948303, 0.0, 0.0, 0.0, 0.0, 0.0, 0.0, 0.0, 0.0, 0.0, 0.0, 0.0, 0.0, 0.0, 0.0, 0.0, 0.0, 0.0, 0.0, 0.0, 0.0, 0.0, 0.0, 0.0, 0.0, 0.0], [0.0060107228346168995, 2.4289049179060385e-05, 0.0003126671945210546, 1.868291656137444e-05, 0.0002979242999572307, 9.90451644611312e-06, 6.61954254610464e-06, 7.912191222203546e-07, 0.9933184385299683, 0.0, 0.0, 0.0, 0.0, 0.0, 0.0, 0.0, 0.0, 0.0, 0.0, 0.0, 0.0, 0.0, 0.0, 0.0, 0.0, 0.0, 0.0, 0.0, 0.0, 0.0, 0.0, 0.0, 0.0], [0.004546821117401123, 0.00020019379735458642, 0.0002992021618410945, 0.001336395158432424, 0.0003267661377321929, 8.741366173126153e-07, 1.7415719412383623e-05, 2.783414174700738e-07, 0.00029665272450074553, 0.9929754734039307, 0.0, 0.0, 0.0, 0.0, 0.0, 0.0, 0.0, 0.0, 0.0, 0.0, 0.0, 0.0, 0.0, 0.0, 0.0, 0.0, 0.0, 0.0, 0.0, 0.0, 0.0, 0.0, 0.0], [0.12262553721666336, 0.023926572874188423, 0.03827650472521782, 0.016171952709555626, 0.03036622703075409, 0.293759286403656, 0.10661352425813675, 0.0705995112657547, 0.04190005734562874, 0.017833096906542778, 0.23792767524719238, 0.0, 0.0, 0.0, 0.0, 0.0, 0.0, 0.0, 0.0, 0.0, 0.0, 0.0, 0.0, 0.0, 0.0, 0.0, 0.0, 0.0, 0.0, 0.0, 0.0, 0.0, 0.0], [0.0008121050195768476, 0.00011546649329829961, 0.00013500907516572624, 5.539292760659009e-05, 0.0001317415590165183, 1.0027187045125174e-06, 1.3799102589473478e-06, 1.6001600045001396e-07, 1.8972989437315846e-06, 5.419665853878541e-07, 4.7530966185149737e-07, 0.9987448453903198, 0.0, 0.0, 0.0, 0.0, 0.0, 0.0, 0.0, 0.0, 0.0, 0.0, 0.0, 0.0, 0.0, 0.0, 0.0, 0.0, 0.0, 0.0, 0.0, 0.0, 0.0], [0.0013333001406863332, 0.00010533037857385352, 0.0007669590995647013, 0.0009021887090057135, 3.570828994270414e-06, 8.120475172290753e-07, 1.403806351163439e-07, 9.5612755046659e-08, 1.6865054703885107e-06, 2.9789011023240164e-05, 4.3813361116917804e-07, 1.196578750750632e-06, 0.9968544840812683, 0.0, 0.0, 0.0, 0.0, 0.0, 0.0, 0.0, 0.0, 0.0, 0.0, 0.0, 0.0, 0.0, 0.0, 0.0, 0.0, 0.0, 0.0, 0.0, 0.0], [0.08159803599119186, 0.021388864144682884, 0.02887715771794319, 0.01267579197883606, 0.024931594729423523, 0.22996489703655243, 0.10401226580142975, 0.0647210106253624, 0.03460093215107918, 0.015198715031147003, 0.1856415718793869, 0.02052805759012699, 0.005003849044442177, 0.1708572804927826, 0.0, 0.0, 0.0, 0.0, 0.0, 0.0, 0.0, 0.0, 0.0, 0.0, 0.0, 0.0, 0.0, 0.0, 0.0, 0.0, 0.0, 0.0, 0.0], [0.0013488869881257415, 8.92121170181781e-05, 0.0006859954446554184, 0.0006963216583244503, 2.1248642951832153e-05, 3.7633941474268795e-07, 6.2267383782455e-07, 4.307220820010116e-07, 7.091880888765445e-06, 0.0013103676028549671, 1.6113767742353957e-07, 9.548754178467789e-07, 0.00016453608986921608, 1.1531948018728144e-07, 0.9956737160682678, 0.0, 0.0, 0.0, 0.0, 0.0, 0.0, 0.0, 0.0, 0.0, 0.0, 0.0, 0.0, 0.0, 0.0, 0.0, 0.0, 0.0, 0.0], [0.0010867511155083776, 0.0004072486190125346, 0.00010700311395339668, 0.0006782717537134886, 0.00011028505105059594, 1.3184263991661282e-07, 2.660271150034532e-07, 4.619576543518633e-07, 8.409722795477137e-06, 0.0007784884073771536, 5.1094499298187657e-08, 8.792078460828634e-07, 4.934295066050254e-05, 3.4893233191723994e-08, 0.00011441220704000443, 0.9966580867767334, 0.0, 0.0, 0.0, 0.0, 0.0, 0.0, 0.0, 0.0, 0.0, 0.0, 0.0, 0.0, 0.0, 0.0, 0.0, 0.0, 0.0], [0.05868086218833923, 0.018785739317536354, 0.024067310616374016, 0.011013143695890903, 0.02145637571811676, 0.19110563397407532, 0.09902719408273697, 0.06065869703888893, 0.03016272373497486, 0.014801912009716034, 0.15370340645313263, 0.016615156084299088, 0.004385380540043116, 0.14085334539413452, 0.015014994889497757, 0.005390208214521408, 0.13427793979644775, 0.0, 0.0, 0.0, 0.0, 0.0, 0.0, 0.0, 0.0, 0.0, 0.0, 0.0, 0.0, 0.0, 0.0, 0.0, 0.0], [0.07323038578033447, 0.028374601155519485, 0.02105826511979103, 0.007611880078911781, 0.010053584352135658, 0.06553950905799866, 0.1455976963043213, 0.08620847016572952, 0.010241268202662468, 0.0074257394298911095, 0.045262694358825684, 0.006621458567678928, 0.0011621775338426232, 0.03923854976892471, 0.008256878703832626, 0.00306568737141788, 0.0361226424574852, 0.40492844581604004, 0.0, 0.0, 0.0, 0.0, 0.0, 0.0, 0.0, 0.0, 0.0, 0.0, 0.0, 0.0, 0.0, 0.0, 0.0], [7.9444631410297e-05, 1.8382123698756914e-06, 3.713425300588824e-08, 1.5575249562971294e-05, 3.4723659609880997e-06, 1.3165072365595165e-09, 2.7038657535172206e-08, 1.718662190342002e-08, 9.232245190560207e-08, 1.3506378309102729e-05, 4.4787801245504966e-10, 2.0416692780855783e-09, 5.542018399751214e-08, 3.0638608317090643e-10, 4.2177114778496616e-07, 7.06585433363216e-06, 2.424434542014353e-10, 1.4397331105087119e-09, 0.9998784065246582, 0.0, 0.0, 0.0, 0.0, 0.0, 0.0, 0.0, 0.0, 0.0, 0.0, 0.0, 0.0, 0.0, 0.0], [0.002934493590146303, 0.0005883843987248838, 0.004250306636095047, 0.004028463736176491, 0.00011592944792937487, 4.3316258597769774e-06, 6.773899713152787e-06, 7.076461042743176e-05, 0.00024952698731794953, 0.0003159338375553489, 2.082441824313719e-06, 4.4092208554502577e-05, 0.00030446963501162827, 1.4702574162583915e-06, 0.00019761378644034266, 0.0013599256053566933, 1.2478662938519847e-06, 6.875187864352483e-06, 0.000192611274542287, 0.9853246808052063, 0.0, 0.0, 0.0, 0.0, 0.0, 0.0, 0.0, 0.0, 0.0, 0.0, 0.0, 0.0, 0.0], [0.04056532680988312, 0.01789833791553974, 0.02060098387300968, 0.00982110109180212, 0.0178828202188015, 0.15653996169567108, 0.09208227694034576, 0.05628826469182968, 0.026661334559321404, 0.014471280388534069, 0.12537625432014465, 0.013986771926283836, 0.003927926067262888, 0.11453614383935928, 0.013395383022725582, 0.004846666473895311, 0.10880249738693237, 0.049533966928720474, 0.005186410155147314, 0.004420872777700424, 0.10317537188529968, 0.0, 0.0, 0.0, 0.0, 0.0, 0.0, 0.0, 0.0, 0.0, 0.0, 0.0, 0.0], [0.02453639917075634, 0.0031243418343365192, 0.0009699322399683297, 4.631550837075338e-05, 0.000134348010760732, 0.0006453952519223094, 0.011668868362903595, 0.00032713526161387563, 0.00045730493729934096, 2.3976139345904812e-05, 0.00034454246633686125, 4.996437201043591e-05, 2.5757426556083374e-05, 0.00028217825456522405, 6.525329354190035e-06, 4.981817710358882e-06, 0.0002355406468268484, 0.0002664515923243016, 2.531117388571147e-05, 2.976114410557784e-05, 0.00018809281755238771, 0.9566067457199097, 0.0, 0.0, 0.0, 0.0, 0.0, 0.0, 0.0, 0.0, 0.0, 0.0, 0.0], [0.0020759939216077328, 0.00014591772924177349, 5.28989803569857e-05, 4.218077447148971e-05, 4.738710049423389e-05, 4.142326872624835e-07, 0.000129642867250368, 2.4250974092865363e-05, 1.8034006643574685e-06, 1.48392655319185e-06, 1.4489978639176115e-07, 4.19993239120231e-06, 4.10683291818259e-08, 1.0260480820534212e-07, 8.285455805889796e-07, 5.781897129963909e-07, 7.69515864362802e-08, 6.669608865195187e-08, 6.472608947660774e-05, 1.5700886706326855e-06, 5.6418308247430105e-08, 4.403031653055223e-06, 0.997401237487793, 0.0, 0.0, 0.0, 0.0, 0.0, 0.0, 0.0, 0.0, 0.0, 0.0], [0.0005159124848432839, 0.00011814653407782316, 3.270570596214384e-05, 0.0002118876000167802, 4.5635333663085476e-05, 2.9248920441204973e-07, 3.057945605178247e-06, 7.60737606242401e-08, 0.000137536961119622, 0.0005283543141558766, 1.1576047143080359e-07, 4.028589046356501e-06, 2.0793006569874706e-06, 8.805442064385716e-08, 0.00010051696881419048, 4.431627894518897e-05, 6.963725240893837e-08, 9.3730577077622e-08, 3.3377782528987154e-05, 1.5888903362792917e-05, 5.61069697369021e-08, 7.052668138385343e-08, 9.389296792505775e-06, 0.9981963038444519, 0.0, 0.0, 0.0, 0.0, 0.0, 0.0, 0.0, 0.0, 0.0], [0.06915223598480225, 0.014032105915248394, 0.005599094554781914, 0.0012576853623613715, 0.0008468000451102853, 0.009601173922419548, 0.008965769782662392, 0.052476927638053894, 0.0002502836869098246, 0.0009063853067345917, 0.005419905763119459, 0.0007309208158403635, 0.00019187937141396105, 0.004396580159664154, 0.005964716896414757, 0.00035585410660132766, 0.0038770148530602455, 0.009727220982313156, 0.0011023489059880376, 0.0003644288226496428, 0.003413958940654993, 0.0030523540917783976, 0.005698250140994787, 0.000295573117909953, 0.7923205494880676, 0.0, 0.0, 0.0, 0.0, 0.0, 0.0, 0.0, 0.0], [0.0010461558122187853, 1.9557141058612615e-05, 1.7358943296130747e-06, 3.103043491137214e-05, 2.7307954951538704e-05, 1.0180679410609628e-08, 4.815763077203883e-07, 1.7494214432645094e-07, 7.31240987761339e-08, 7.983068712746899e-07, 3.4643037327697357e-09, 4.9067134568758775e-06, 1.0718933651787665e-07, 2.352543937433893e-09, 2.3834050466575718e-07, 1.3731307717534946e-06, 1.8288600633908914e-09, 6.24759799450203e-09, 9.208320989273489e-06, 1.6384241234845831e-06, 1.2523876380399201e-09, 8.271258122860559e-10, 8.456761861452833e-06, 3.118676431768108e-06, 9.241404086424154e-09, 0.9988435506820679, 0.0, 0.0, 0.0, 0.0, 0.0, 0.0, 0.0], [0.0010544898686930537, 0.00021373172057792544, 0.00028157138149254024, 0.0011373338056728244, 0.00014783896040171385, 2.006845534197055e-06, 4.8313409024558496e-06, 3.482324700598838e-06, 5.100324869999895e-06, 0.00012420436542015523, 9.301492127633537e-07, 1.058259113051463e-05, 1.1688240192597732e-05, 7.077491659401858e-07, 0.0034115868620574474, 0.00019905219960492104, 5.995594847263419e-07, 4.6430281486209424e-07, 1.9585022528190166e-05, 0.0001108774813474156, 4.7500350319751306e-07, 3.2808750916046847e-07, 4.535345397016499e-06, 5.161693843547255e-05, 3.2474670774718106e-07, 1.3071320609014947e-05, 0.9931888580322266, 0.0, 0.0, 0.0, 0.0, 0.0, 0.0], [0.024200791493058205, 0.002820133464410901, 0.0043193018063902855, 0.0009108308586291969, 0.0017753965221345425, 0.003809919347986579, 0.0029533246997743845, 0.016714798286557198, 0.0013931752182543278, 0.005003186874091625, 0.002276090905070305, 0.0005876421928405762, 0.0009901635348796844, 0.001806695363484323, 0.0031312413047999144, 0.00023389386478811502, 0.001608272548764944, 0.009910304099321365, 0.0028539549093693495, 0.00020495180797297508, 0.0013712667860090733, 0.006919007748365402, 0.0010336590930819511, 0.0001452840951969847, 0.017489802092313766, 0.00046553154243156314, 0.00030240873456932604, 0.8847689628601074, 0.0, 0.0, 0.0, 0.0, 0.0], [0.0005256079602986574, 3.5286500406073174e-06, 1.703766429272946e-06, 9.408176993019879e-05, 0.6647974252700806, 1.6531473079339776e-07, 9.51110109781439e-07, 8.886880209502124e-07, 1.7016676792991348e-05, 3.742178523680195e-05, 6.832264176637182e-08, 9.810886695049703e-06, 7.548720759587013e-08, 4.963250077594239e-08, 2.039384526142385e-06, 7.686537173867691e-06, 4.0668499678986336e-08, 2.6744308101456227e-08, 3.3431810152251273e-05, 4.341073065461387e-07, 3.007987459113792e-08, 3.2060558652347027e-08, 4.900573912891559e-06, 3.0609385248681065e-06, 1.460319065671456e-08, 2.2145513867144473e-05, 9.211150427290704e-06, 3.1642709785728584e-08, 0.3344281315803528, 0.0, 0.0, 0.0, 0.0], [0.004676995798945427, 0.00028021298930980265, 8.346078539034352e-05, 3.157012542942539e-06, 4.0653432620274543e-07, 1.3343502303087007e-07, 2.6423564122524112e-05, 1.1439967551041264e-07, 2.787234905099467e-07, 3.749602910829708e-06, 4.652897800383471e-08, 1.7213967566931387e-06, 1.8165602000408398e-07, 3.148470284486393e-08, 1.83342322657154e-07, 5.2147374418609616e-08, 2.5215809884571172e-08, 3.078435284464831e-08, 7.142030256090948e-08, 1.6640143485346925e-08, 1.7768190474498624e-08, 8.634525983097774e-08, 2.800961965476745e-06, 8.454144904135319e-07, 3.098357481690073e-08, 2.927860691670503e-07, 5.676223508999101e-07, 5.055422303001933e-09, 2.914098118367292e-08, 0.9949181079864502, 0.0, 0.0, 0.0], [5.6367927754763514e-05, 0.00020023732213303447, 1.6319125961672398e-06, 1.5089342468854738e-06, 1.7779733752831817e-05, 5.95644145118257e-10, 6.940369075891795e-06, 5.034010541749012e-09, 2.1682872386463714e-07, 1.7164305745609454e-06, 1.9326229505622905e-10, 1.8911425314627195e-08, 9.538840117784275e-08, 1.2946883842790413e-10, 8.07715050399338e-09, 4.386607542983256e-05, 9.768683778554887e-11, 5.256079460558283e-10, 6.93216934450902e-05, 7.505880716962565e-08, 7.069291679817624e-11, 3.988046870517792e-08, 1.0610276149236597e-05, 2.212077106378274e-06, 8.688633701403603e-10, 9.928487088473048e-06, 5.390095036972298e-09, 1.1354458345769203e-10, 3.060040626223781e-06, 3.894562325967854e-07, 0.9995738863945007, 0.0, 0.0], [0.0003556977608241141, 1.9489494661684148e-05, 9.160975423583295e-06, 1.3085263162793126e-05, 2.3808897822164e-05, 2.971901658099796e-08, 4.160602475167252e-05, 1.775652407332018e-07, 6.896241870890663e-07, 1.0506249736863538e-06, 1.2230788826173011e-08, 4.290551714802859e-06, 3.2958334372779063e-07, 9.211106544171344e-09, 1.7466394410803332e-06, 4.68278949483647e-06, 7.4427393137455056e-09, 9.673818190947259e-09, 3.9665097574470565e-05, 7.324898660954204e-07, 5.543701053767336e-09, 1.0396725258488004e-07, 1.4401589396584313e-05, 8.873356819094624e-06, 5.989427620534116e-09, 1.5627814718754962e-05, 2.9811244530719705e-06, 6.8743553072181385e-09, 4.854669441556325e-06, 7.072272182995221e-06, 6.210697392816655e-06, 0.999423623085022, 0.0], [0.05455271527171135, 0.01642906665802002, 0.016008341684937477, 0.006986881140619516, 0.024884158745408058, 0.07376927882432938, 0.07933782786130905, 0.055945537984371185, 0.02726820483803749, 0.013368782587349415, 0.05590308830142021, 0.007223028689622879, 0.005426578689366579, 0.05012327432632446, 0.00827906746417284, 0.003060964634642005, 0.04682296887040138, 0.047518469393253326, 0.0028449452947825193, 0.007037973962724209, 0.04282715916633606, 0.051381900906562805, 0.027282383292913437, 0.026375344023108482, 0.026159191504120827, 0.011997985653579235, 0.006220122799277306, 0.036487795412540436, 0.01112470030784607, 0.005218565464019775, 0.002559199696406722, 0.0026040279772132635, 0.1469704657793045]], [[1.0, 0.0, 0.0, 0.0, 0.0, 0.0, 0.0, 0.0, 0.0, 0.0, 0.0, 0.0, 0.0, 0.0, 0.0, 0.0, 0.0, 0.0, 0.0, 0.0, 0.0, 0.0, 0.0, 0.0, 0.0, 0.0, 0.0, 0.0, 0.0, 0.0, 0.0, 0.0, 0.0], [0.9192656874656677, 0.08073435723781586, 0.0, 0.0, 0.0, 0.0, 0.0, 0.0, 0.0, 0.0, 0.0, 0.0, 0.0, 0.0, 0.0, 0.0, 0.0, 0.0, 0.0, 0.0, 0.0, 0.0, 0.0, 0.0, 0.0, 0.0, 0.0, 0.0, 0.0, 0.0, 0.0, 0.0, 0.0], [0.4543737769126892, 0.42650437355041504, 0.11912182718515396, 0.0, 0.0, 0.0, 0.0, 0.0, 0.0, 0.0, 0.0, 0.0, 0.0, 0.0, 0.0, 0.0, 0.0, 0.0, 0.0, 0.0, 0.0, 0.0, 0.0, 0.0, 0.0, 0.0, 0.0, 0.0, 0.0, 0.0, 0.0, 0.0, 0.0], [0.5267520546913147, 0.22321638464927673, 0.1242062970995903, 0.12582530081272125, 0.0, 0.0, 0.0, 0.0, 0.0, 0.0, 0.0, 0.0, 0.0, 0.0, 0.0, 0.0, 0.0, 0.0, 0.0, 0.0, 0.0, 0.0, 0.0, 0.0, 0.0, 0.0, 0.0, 0.0, 0.0, 0.0, 0.0, 0.0, 0.0], [0.39034873247146606, 0.1709941327571869, 0.06872709840536118, 0.1837182492017746, 0.18621180951595306, 0.0, 0.0, 0.0, 0.0, 0.0, 0.0, 0.0, 0.0, 0.0, 0.0, 0.0, 0.0, 0.0, 0.0, 0.0, 0.0, 0.0, 0.0, 0.0, 0.0, 0.0, 0.0, 0.0, 0.0, 0.0, 0.0, 0.0, 0.0], [0.19744230806827545, 0.25436851382255554, 0.14488451182842255, 0.18925854563713074, 0.20821933448314667, 0.0058267912827432156, 0.0, 0.0, 0.0, 0.0, 0.0, 0.0, 0.0, 0.0, 0.0, 0.0, 0.0, 0.0, 0.0, 0.0, 0.0, 0.0, 0.0, 0.0, 0.0, 0.0, 0.0, 0.0, 0.0, 0.0, 0.0, 0.0, 0.0], [0.19473570585250854, 0.13241828978061676, 0.14391925930976868, 0.15120737254619598, 0.3002447187900543, 0.020584644749760628, 0.05688999220728874, 0.0, 0.0, 0.0, 0.0, 0.0, 0.0, 0.0, 0.0, 0.0, 0.0, 0.0, 0.0, 0.0, 0.0, 0.0, 0.0, 0.0, 0.0, 0.0, 0.0, 0.0, 0.0, 0.0, 0.0, 0.0, 0.0], [0.126966655254364, 0.21597379446029663, 0.1608932465314865, 0.1969883143901825, 0.18844623863697052, 0.013544943183660507, 0.07520709186792374, 0.021979697048664093, 0.0, 0.0, 0.0, 0.0, 0.0, 0.0, 0.0, 0.0, 0.0, 0.0, 0.0, 0.0, 0.0, 0.0, 0.0, 0.0, 0.0, 0.0, 0.0, 0.0, 0.0, 0.0, 0.0, 0.0, 0.0], [0.2912122905254364, 0.05954226851463318, 0.1107940524816513, 0.09717853367328644, 0.22345614433288574, 0.016262579709291458, 0.08719439804553986, 0.02476227842271328, 0.0895974189043045, 0.0, 0.0, 0.0, 0.0, 0.0, 0.0, 0.0, 0.0, 0.0, 0.0, 0.0, 0.0, 0.0, 0.0, 0.0, 0.0, 0.0, 0.0, 0.0, 0.0, 0.0, 0.0, 0.0, 0.0], [0.22981949150562286, 0.038026753813028336, 0.160138338804245, 0.11780407279729843, 0.161811962723732, 0.03552817180752754, 0.07561112195253372, 0.020756030455231667, 0.10670628398656845, 0.05379772558808327, 0.0, 0.0, 0.0, 0.0, 0.0, 0.0, 0.0, 0.0, 0.0, 0.0, 0.0, 0.0, 0.0, 0.0, 0.0, 0.0, 0.0, 0.0, 0.0, 0.0, 0.0, 0.0, 0.0], [0.1331442892551422, 0.18858645856380463, 0.10808099061250687, 0.15994970500469208, 0.17739209532737732, 0.003598019015043974, 0.025062093511223793, 0.01286292728036642, 0.07453101128339767, 0.11275244504213333, 0.00403998140245676, 0.0, 0.0, 0.0, 0.0, 0.0, 0.0, 0.0, 0.0, 0.0, 0.0, 0.0, 0.0, 0.0, 0.0, 0.0, 0.0, 0.0, 0.0, 0.0, 0.0, 0.0, 0.0], [0.1674640029668808, 0.14355234801769257, 0.061185695230960846, 0.17358067631721497, 0.10113830864429474, 0.017553463578224182, 0.03239530697464943, 0.00799549650400877, 0.05453447625041008, 0.0788320004940033, 0.017258211970329285, 0.14450997114181519, 0.0, 0.0, 0.0, 0.0, 0.0, 0.0, 0.0, 0.0, 0.0, 0.0, 0.0, 0.0, 0.0, 0.0, 0.0, 0.0, 0.0, 0.0, 0.0, 0.0, 0.0], [0.26996827125549316, 0.1302906721830368, 0.06605685502290726, 0.061561428010463715, 0.08437131345272064, 0.019846614450216293, 0.01631278172135353, 0.01296591479331255, 0.032314639538526535, 0.05254792422056198, 0.019868602976202965, 0.13695640861988068, 0.0969386175274849, 0.0, 0.0, 0.0, 0.0, 0.0, 0.0, 0.0, 0.0, 0.0, 0.0, 0.0, 0.0, 0.0, 0.0, 0.0, 0.0, 0.0, 0.0, 0.0, 0.0], [0.09820352494716644, 0.13618645071983337, 0.080057792365551, 0.12152864038944244, 0.1357937902212143, 0.0024323586840182543, 0.01778949424624443, 0.009086486883461475, 0.056375302374362946, 0.08521637320518494, 0.002753336913883686, 0.1520378142595291, 0.0994672179222107, 0.0030714019667357206, 0.0, 0.0, 0.0, 0.0, 0.0, 0.0, 0.0, 0.0, 0.0, 0.0, 0.0, 0.0, 0.0, 0.0, 0.0, 0.0, 0.0, 0.0, 0.0], [0.17012891173362732, 0.08885714411735535, 0.09089688956737518, 0.08085789531469345, 0.11427341401576996, 0.01090148650109768, 0.014788422733545303, 0.005497370380908251, 0.05151255801320076, 0.05330684408545494, 0.010595818050205708, 0.0944228321313858, 0.13098111748695374, 0.01115367654711008, 0.07182560861110687, 0.0, 0.0, 0.0, 0.0, 0.0, 0.0, 0.0, 0.0, 0.0, 0.0, 0.0, 0.0, 0.0, 0.0, 0.0, 0.0, 0.0, 0.0], [0.10365860909223557, 0.035885415971279144, 0.08803565800189972, 0.060879386961460114, 0.08348330855369568, 0.030805746093392372, 0.02961593307554722, 0.01091870665550232, 0.04049993306398392, 0.042886074632406235, 0.03219295293092728, 0.15008129179477692, 0.12658776342868805, 0.034902170300483704, 0.05825429782271385, 0.0713128075003624, 0.0, 0.0, 0.0, 0.0, 0.0, 0.0, 0.0, 0.0, 0.0, 0.0, 0.0, 0.0, 0.0, 0.0, 0.0, 0.0, 0.0], [0.07047098875045776, 0.09600995481014252, 0.056215766817331314, 0.08699887990951538, 0.09934129565954208, 0.0016298794653266668, 0.012408619746565819, 0.006380434613674879, 0.04101402685046196, 0.06348714232444763, 0.0018482186133041978, 0.11387642472982407, 0.07328978180885315, 0.002071295864880085, 0.07246168702840805, 0.20012779533863068, 0.0023677770514041185, 0.0, 0.0, 0.0, 0.0, 0.0, 0.0, 0.0, 0.0, 0.0, 0.0, 0.0, 0.0, 0.0, 0.0, 0.0, 0.0], [0.05659444257616997, 0.08906211704015732, 0.04703241214156151, 0.09457873553037643, 0.08793891221284866, 0.001972166821360588, 0.017767688259482384, 0.005990438628941774, 0.06014862656593323, 0.08834964036941528, 0.002263768343254924, 0.10461519658565521, 0.06079369783401489, 0.0025566257536411285, 0.07818625122308731, 0.19496023654937744, 0.002929988084360957, 0.0042590610682964325, 0.0, 0.0, 0.0, 0.0, 0.0, 0.0, 0.0, 0.0, 0.0, 0.0, 0.0, 0.0, 0.0, 0.0, 0.0], [0.1597062349319458, 0.026096448302268982, 0.04515179619193077, 0.034975819289684296, 0.080306775867939, 0.05469034984707832, 0.04078545421361923, 0.026513032615184784, 0.02725192718207836, 0.03919816389679909, 0.053514350205659866, 0.048429228365421295, 0.0626426488161087, 0.055582091212272644, 0.055596642196178436, 0.047929611057043076, 0.05676325410604477, 0.04892301186919212, 0.03594321385025978, 0.0, 0.0, 0.0, 0.0, 0.0, 0.0, 0.0, 0.0, 0.0, 0.0, 0.0, 0.0, 0.0, 0.0], [0.08663123846054077, 0.09557430446147919, 0.03673810511827469, 0.06946708261966705, 0.05681457743048668, 0.008190211839973927, 0.02219584211707115, 0.007642825599759817, 0.03146827593445778, 0.0755520686507225, 0.0089652668684721, 0.052634820342063904, 0.044911064207553864, 0.009935058653354645, 0.044813793152570724, 0.15198467671871185, 0.010933401063084602, 0.007993681356310844, 0.16402563452720642, 0.013528088107705116, 0.0, 0.0, 0.0, 0.0, 0.0, 0.0, 0.0, 0.0, 0.0, 0.0, 0.0, 0.0, 0.0], [0.047834545373916626, 0.06669352203607559, 0.03798919543623924, 0.060403671115636826, 0.06899042427539825, 0.0010267305187880993, 0.008172682486474514, 0.004158169962465763, 0.02826826646924019, 0.04407242313027382, 0.001158648170530796, 0.07832913100719452, 0.05082903429865837, 0.0013004967477172613, 0.04904301464557648, 0.14145001769065857, 0.001493434072472155, 0.002556686522439122, 0.17534084618091583, 0.12910205125808716, 0.0017870554002001882, 0.0, 0.0, 0.0, 0.0, 0.0, 0.0, 0.0, 0.0, 0.0, 0.0, 0.0, 0.0], [0.04114092141389847, 0.04766074940562248, 0.035869989544153214, 0.0666610598564148, 0.07969272881746292, 0.0023650771472603083, 0.02034018747508526, 0.004854496568441391, 0.06436207890510559, 0.06737152487039566, 0.002707370091229677, 0.05596053600311279, 0.05648661404848099, 0.003076724475249648, 0.05354386940598488, 0.1516592651605606, 0.00353971472941339, 0.004673932213336229, 0.16402719914913177, 0.059681545943021774, 0.0041549429297447205, 0.010169520042836666, 0.0, 0.0, 0.0, 0.0, 0.0, 0.0, 0.0, 0.0, 0.0, 0.0, 0.0], [0.06628807634115219, 0.040925417095422745, 0.02732268162071705, 0.045053694397211075, 0.06575218588113785, 0.015657564625144005, 0.027881884947419167, 0.01371125876903534, 0.03174296021461487, 0.052807457745075226, 0.015447773970663548, 0.03218112140893936, 0.03290105611085892, 0.01629885844886303, 0.0266366396099329, 0.09772849828004837, 0.017114195972681046, 0.0169194508343935, 0.09847070276737213, 0.047879062592983246, 0.01841253787279129, 0.01533160824328661, 0.17753538489341736, 0.0, 0.0, 0.0, 0.0, 0.0, 0.0, 0.0, 0.0, 0.0, 0.0], [0.09801431745290756, 0.02632881887257099, 0.035868141800165176, 0.0571306012570858, 0.06943877041339874, 0.012128959409892559, 0.020909085869789124, 0.008747957646846771, 0.02699965611100197, 0.037266772240400314, 0.01171634066849947, 0.08499537408351898, 0.055013351142406464, 0.01219671405851841, 0.035639096051454544, 0.08789658546447754, 0.012970102950930595, 0.01085102278739214, 0.06408389657735825, 0.05963917076587677, 0.014492178335785866, 0.006093737203627825, 0.09761440753936768, 0.05396496132016182, 0.0, 0.0, 0.0, 0.0, 0.0, 0.0, 0.0, 0.0, 0.0], [0.027693243697285652, 0.04073770344257355, 0.03122352994978428, 0.058790381997823715, 0.05601823702454567, 0.0015714785549789667, 0.011908040381968021, 0.0033397888764739037, 0.05176551640033722, 0.05291244015097618, 0.0018259831704199314, 0.060300346463918686, 0.028357181698083878, 0.00208780774846673, 0.050864800810813904, 0.07898835837841034, 0.002398701384663582, 0.0029048235155642033, 0.11135737597942352, 0.0458601675927639, 0.0028849171940237284, 0.011431251652538776, 0.1234055683016777, 0.134884774684906, 0.006487559527158737, 0.0, 0.0, 0.0, 0.0, 0.0, 0.0, 0.0, 0.0], [0.1539076715707779, 0.023786786943674088, 0.05320245772600174, 0.039638862013816833, 0.05711062252521515, 0.01562894694507122, 0.020206080749630928, 0.009252368472516537, 0.02131185121834278, 0.02902996353805065, 0.014741898514330387, 0.06123838946223259, 0.10112594068050385, 0.015157829038798809, 0.04335401579737663, 0.040907200425863266, 0.0157326627522707, 0.020073430612683296, 0.05374933406710625, 0.03468615934252739, 0.01698937639594078, 0.006368500180542469, 0.04042017087340355, 0.031060408800840378, 0.013937164098024368, 0.06738190352916718, 0.0, 0.0, 0.0, 0.0, 0.0, 0.0, 0.0], [0.08555091917514801, 0.035057418048381805, 0.058852579444646835, 0.034979090094566345, 0.05178743973374367, 0.002511991886422038, 0.004151215311139822, 0.0020859173964709044, 0.014081122353672981, 0.024491360411047935, 0.0023760050535202026, 0.09535117447376251, 0.07766132056713104, 0.00249088229611516, 0.04572674259543419, 0.05774117261171341, 0.0026603778824210167, 0.003347757738083601, 0.04799826443195343, 0.026788823306560516, 0.0029587140306830406, 0.004655791446566582, 0.036070991307497025, 0.021599195897579193, 0.004788635298609734, 0.22052206099033356, 0.03371303901076317, 0.0, 0.0, 0.0, 0.0, 0.0, 0.0], [0.020706716924905777, 0.03719405084848404, 0.019723715260624886, 0.03894224390387535, 0.03182697296142578, 0.0012253683526068926, 0.008815760724246502, 0.002405293518677354, 0.034579552710056305, 0.047298066318035126, 0.001395376049913466, 0.05148203670978546, 0.020486727356910706, 0.0015608390094712377, 0.03826117143034935, 0.048637546598911285, 0.0017825289396569133, 0.0025446100626140833, 0.06541350483894348, 0.041885633021593094, 0.0020960604306310415, 0.00940138939768076, 0.0846002846956253, 0.09019993245601654, 0.005403277929872274, 0.22932568192481995, 0.056922681629657745, 0.005882928613573313, 0.0, 0.0, 0.0, 0.0, 0.0], [0.08582807332277298, 0.03967173025012016, 0.01484182570129633, 0.056536171585321426, 0.0596061535179615, 0.00698751350864768, 0.010110097005963326, 0.0028877260629087687, 0.015322845429182053, 0.02592875249683857, 0.006830440368503332, 0.03354893624782562, 0.021093526855111122, 0.0072131529450416565, 0.019323386251926422, 0.05298227816820145, 0.007658607792109251, 0.005157846491783857, 0.0652318224310875, 0.018170004710555077, 0.008534700609743595, 0.004368170630186796, 0.026912424713373184, 0.04962795600295067, 0.004404330626130104, 0.19388672709465027, 0.03933223336935043, 0.005363553762435913, 0.11263898760080338, 0.0, 0.0, 0.0, 0.0], [0.07040351629257202, 0.05926163122057915, 0.015334843657910824, 0.024139029905200005, 0.015728842467069626, 0.01949211210012436, 0.017311519011855125, 0.017303062602877617, 0.020563239231705666, 0.045155830681324005, 0.021815836429595947, 0.07079728692770004, 0.03006395325064659, 0.023540614172816277, 0.020684486255049706, 0.021163664758205414, 0.026445120573043823, 0.023540053516626358, 0.05663726106286049, 0.0336947925388813, 0.030707288533449173, 0.015993360430002213, 0.015474086627364159, 0.030803624540567398, 0.03180558606982231, 0.07969610393047333, 0.03437485918402672, 0.03453715145587921, 0.0306243859231472, 0.062906913459301, 0.0, 0.0, 0.0], [0.053384993225336075, 0.029621535912156105, 0.021030079573392868, 0.023695707321166992, 0.03343641012907028, 0.01839381642639637, 0.024060726165771484, 0.022810013964772224, 0.01397236343473196, 0.028813552111387253, 0.01905973255634308, 0.01537196896970272, 0.025335313752293587, 0.01997196301817894, 0.014075733721256256, 0.0388445146381855, 0.021346215158700943, 0.01932143233716488, 0.05632661655545235, 0.021359996870160103, 0.023394575342535973, 0.02313666231930256, 0.06416382640600204, 0.06724689900875092, 0.034695107489824295, 0.0434902049601078, 0.03032725118100643, 0.03285713493824005, 0.053275078535079956, 0.0659981295466423, 0.041182465851306915, 0.0, 0.0], [0.1817709058523178, 0.019533153623342514, 0.028002914041280746, 0.02911018393933773, 0.04134833440184593, 0.018019473180174828, 0.010471725836396217, 0.008382907137274742, 0.015335790812969208, 0.02183946780860424, 0.016893336549401283, 0.03806137293577194, 0.03643865883350372, 0.017464257776737213, 0.02612905018031597, 0.04011503607034683, 0.01831720769405365, 0.012488228268921375, 0.05136968940496445, 0.019443828612565994, 0.01988975517451763, 0.003576458664610982, 0.026232972741127014, 0.018429195508360863, 0.011723740957677364, 0.0327298641204834, 0.0348082110285759, 0.01203504204750061, 0.06030293181538582, 0.00787330698221922, 0.04227292910218239, 0.07959002256393433, 0.0], [0.015003405511379242, 0.02033485472202301, 0.00781343039125204, 0.01655358448624611, 0.01646609604358673, 0.00023809661797713488, 0.0019598952494561672, 0.00068982521770522, 0.006483219098299742, 0.010734072886407375, 0.00024435293744318187, 0.014634675346314907, 0.009247617796063423, 0.0002605919144116342, 0.009339917451143265, 0.04272657632827759, 0.00028863910119980574, 0.00038116698851808906, 0.05474938824772835, 0.09452773630619049, 0.00034211314050480723, 0.001727021997794509, 0.047459330409765244, 0.02661380171775818, 0.0010238655377179384, 0.1653798222541809, 0.014187097549438477, 0.001309235580265522, 0.04770656302571297, 0.01119849644601345, 0.22050759196281433, 0.1394260674715042, 0.00044186259037815034]], [[1.0, 0.0, 0.0, 0.0, 0.0, 0.0, 0.0, 0.0, 0.0, 0.0, 0.0, 0.0, 0.0, 0.0, 0.0, 0.0, 0.0, 0.0, 0.0, 0.0, 0.0, 0.0, 0.0, 0.0, 0.0, 0.0, 0.0, 0.0, 0.0, 0.0, 0.0, 0.0, 0.0], [0.9333657622337341, 0.06663423776626587, 0.0, 0.0, 0.0, 0.0, 0.0, 0.0, 0.0, 0.0, 0.0, 0.0, 0.0, 0.0, 0.0, 0.0, 0.0, 0.0, 0.0, 0.0, 0.0, 0.0, 0.0, 0.0, 0.0, 0.0, 0.0, 0.0, 0.0, 0.0, 0.0, 0.0, 0.0], [0.3245234191417694, 0.5923720002174377, 0.08310456573963165, 0.0, 0.0, 0.0, 0.0, 0.0, 0.0, 0.0, 0.0, 0.0, 0.0, 0.0, 0.0, 0.0, 0.0, 0.0, 0.0, 0.0, 0.0, 0.0, 0.0, 0.0, 0.0, 0.0, 0.0, 0.0, 0.0, 0.0, 0.0, 0.0, 0.0], [0.1415976583957672, 0.5143808722496033, 0.2814413011074066, 0.06258020550012589, 0.0, 0.0, 0.0, 0.0, 0.0, 0.0, 0.0, 0.0, 0.0, 0.0, 0.0, 0.0, 0.0, 0.0, 0.0, 0.0, 0.0, 0.0, 0.0, 0.0, 0.0, 0.0, 0.0, 0.0, 0.0, 0.0, 0.0, 0.0, 0.0], [0.25262272357940674, 0.058340635150671005, 0.10458867251873016, 0.44111600518226624, 0.14333193004131317, 0.0, 0.0, 0.0, 0.0, 0.0, 0.0, 0.0, 0.0, 0.0, 0.0, 0.0, 0.0, 0.0, 0.0, 0.0, 0.0, 0.0, 0.0, 0.0, 0.0, 0.0, 0.0, 0.0, 0.0, 0.0, 0.0, 0.0, 0.0], [0.18051572144031525, 0.09828908741474152, 0.10873965919017792, 0.12262694537639618, 0.0999554768204689, 0.3898731470108032, 0.0, 0.0, 0.0, 0.0, 0.0, 0.0, 0.0, 0.0, 0.0, 0.0, 0.0, 0.0, 0.0, 0.0, 0.0, 0.0, 0.0, 0.0, 0.0, 0.0, 0.0, 0.0, 0.0, 0.0, 0.0, 0.0, 0.0], [0.17192304134368896, 0.023320944979786873, 0.12332698702812195, 0.06076503545045853, 0.059717193245887756, 0.3475917875766754, 0.21335509419441223, 0.0, 0.0, 0.0, 0.0, 0.0, 0.0, 0.0, 0.0, 0.0, 0.0, 0.0, 0.0, 0.0, 0.0, 0.0, 0.0, 0.0, 0.0, 0.0, 0.0, 0.0, 0.0, 0.0, 0.0, 0.0, 0.0], [0.09627039730548859, 0.04683611914515495, 0.028257308527827263, 0.03239250183105469, 0.058650460094213486, 0.1582934409379959, 0.30996474623680115, 0.269335001707077, 0.0, 0.0, 0.0, 0.0, 0.0, 0.0, 0.0, 0.0, 0.0, 0.0, 0.0, 0.0, 0.0, 0.0, 0.0, 0.0, 0.0, 0.0, 0.0, 0.0, 0.0, 0.0, 0.0, 0.0, 0.0], [0.09948243945837021, 0.06464182585477829, 0.028671851381659508, 0.07305686175823212, 0.029787208884954453, 0.13960033655166626, 0.20754699409008026, 0.26580190658569336, 0.0914105698466301, 0.0, 0.0, 0.0, 0.0, 0.0, 0.0, 0.0, 0.0, 0.0, 0.0, 0.0, 0.0, 0.0, 0.0, 0.0, 0.0, 0.0, 0.0, 0.0, 0.0, 0.0, 0.0, 0.0, 0.0], [0.056320447474718094, 0.029885904863476753, 0.01341992523521185, 0.002407554304227233, 0.013245503418147564, 0.04564545676112175, 0.055225715041160583, 0.10027105361223221, 0.6579983234405518, 0.025580130517482758, 0.0, 0.0, 0.0, 0.0, 0.0, 0.0, 0.0, 0.0, 0.0, 0.0, 0.0, 0.0, 0.0, 0.0, 0.0, 0.0, 0.0, 0.0, 0.0, 0.0, 0.0, 0.0, 0.0], [0.04266993701457977, 0.010426466353237629, 0.010652204975485802, 0.013446638360619545, 0.00935313943773508, 0.04015982523560524, 0.07105176150798798, 0.137376606464386, 0.104232557117939, 0.21736623346805573, 0.3432646095752716, 0.0, 0.0, 0.0, 0.0, 0.0, 0.0, 0.0, 0.0, 0.0, 0.0, 0.0, 0.0, 0.0, 0.0, 0.0, 0.0, 0.0, 0.0, 0.0, 0.0, 0.0, 0.0], [0.0296839140355587, 0.0025616453494876623, 0.0044074896723032, 0.03424867242574692, 0.014238729141652584, 0.028001833707094193, 0.02228802628815174, 0.07105960696935654, 0.040262311697006226, 0.5543044209480286, 0.1733303815126419, 0.025612985715270042, 0.0, 0.0, 0.0, 0.0, 0.0, 0.0, 0.0, 0.0, 0.0, 0.0, 0.0, 0.0, 0.0, 0.0, 0.0, 0.0, 0.0, 0.0, 0.0, 0.0, 0.0], [0.040395885705947876, 0.008631573989987373, 0.00549421226605773, 0.0038641367573291063, 0.023363087326288223, 0.027206989005208015, 0.02567732334136963, 0.05048518627882004, 0.05105605721473694, 0.05041779950261116, 0.1416434496641159, 0.511528730392456, 0.0602356381714344, 0.0, 0.0, 0.0, 0.0, 0.0, 0.0, 0.0, 0.0, 0.0, 0.0, 0.0, 0.0, 0.0, 0.0, 0.0, 0.0, 0.0, 0.0, 0.0, 0.0], [0.028706403449177742, 0.004808460827916861, 0.004723650868982077, 0.005382602568715811, 0.0034560400526970625, 0.014470170252025127, 0.02403736673295498, 0.041626207530498505, 0.03567291051149368, 0.07060734182596207, 0.10831008106470108, 0.05811616778373718, 0.2062123864889145, 0.3938702344894409, 0.0, 0.0, 0.0, 0.0, 0.0, 0.0, 0.0, 0.0, 0.0, 0.0, 0.0, 0.0, 0.0, 0.0, 0.0, 0.0, 0.0, 0.0, 0.0], [0.05342649668455124, 0.011923286132514477, 0.015572266653180122, 0.0021123250480741262, 0.005851046182215214, 0.02217094413936138, 0.03818470984697342, 0.027411557734012604, 0.054642848670482635, 0.0491083599627018, 0.1232837662100792, 0.052871737629175186, 0.07545651495456696, 0.37015300989151, 0.09783116728067398, 0.0, 0.0, 0.0, 0.0, 0.0, 0.0, 0.0, 0.0, 0.0, 0.0, 0.0, 0.0, 0.0, 0.0, 0.0, 0.0, 0.0, 0.0], [0.00834672711789608, 0.00027852767379954457, 0.0011786019895225763, 0.0021395492367446423, 0.0024761720560491085, 0.0029182906728237867, 0.004576901905238628, 0.0039655971340835094, 0.004973025992512703, 0.011347781866788864, 0.013014079071581364, 0.005545970983803272, 0.020895594730973244, 0.03838544338941574, 0.8750315308570862, 0.0049261967651546, 0.0, 0.0, 0.0, 0.0, 0.0, 0.0, 0.0, 0.0, 0.0, 0.0, 0.0, 0.0, 0.0, 0.0, 0.0, 0.0, 0.0], [0.021700289100408554, 0.0026786630041897297, 0.0023839224595576525, 0.002815625397488475, 0.0015562311746180058, 0.006139401812106371, 0.009039805270731449, 0.013740861788392067, 0.01241219975054264, 0.024686502292752266, 0.03406904637813568, 0.017561478540301323, 0.060829561203718185, 0.12004038691520691, 0.11516813188791275, 0.12663698196411133, 0.4285409152507782, 0.0, 0.0, 0.0, 0.0, 0.0, 0.0, 0.0, 0.0, 0.0, 0.0, 0.0, 0.0, 0.0, 0.0, 0.0, 0.0], [0.01968143694102764, 0.0028661941178143024, 0.0027528663631528616, 0.002364202868193388, 0.0022205759305506945, 0.004776974208652973, 0.005015396047383547, 0.007020778022706509, 0.006602996028959751, 0.01582488790154457, 0.021779131144285202, 0.022375892847776413, 0.03905550390481949, 0.07342631369829178, 0.07227570563554764, 0.08103640377521515, 0.25563186407089233, 0.36529287695884705, 0.0, 0.0, 0.0, 0.0, 0.0, 0.0, 0.0, 0.0, 0.0, 0.0, 0.0, 0.0, 0.0, 0.0, 0.0], [0.03443867713212967, 0.002429508836939931, 0.0027038794942200184, 0.0010108936112374067, 0.0028212429024279118, 0.009310652501881123, 0.00747407041490078, 0.010526392608880997, 0.019342590123414993, 0.006583395414054394, 0.03052528016269207, 0.008166550658643246, 0.023945657536387444, 0.08047980815172195, 0.04428930953145027, 0.048865098506212234, 0.2326630800962448, 0.38709738850593567, 0.047326456755399704, 0.0, 0.0, 0.0, 0.0, 0.0, 0.0, 0.0, 0.0, 0.0, 0.0, 0.0, 0.0, 0.0, 0.0], [0.0036976775154471397, 0.006450952030718327, 0.0004921716754324734, 0.00030695926398038864, 0.0001240077253896743, 0.0010727359913289547, 0.0008858786895871162, 0.0013806350762024522, 0.000820015964563936, 0.0002731183485593647, 0.0027830624021589756, 0.035294272005558014, 0.00356137752532959, 0.007148320786654949, 0.0016474088188260794, 0.01673167571425438, 0.019172828644514084, 0.022339222952723503, 0.8733667135238647, 0.002450960921123624, 0.0, 0.0, 0.0, 0.0, 0.0, 0.0, 0.0, 0.0, 0.0, 0.0, 0.0, 0.0, 0.0], [0.013628778979182243, 0.0014384436653926969, 0.0012188636464998126, 0.0012915859697386622, 0.0006118022138252854, 0.002140037715435028, 0.0027469599153846502, 0.0033360447268933058, 0.003091870341449976, 0.005988910794258118, 0.007237223442643881, 0.0035477434284985065, 0.012891962192952633, 0.022229177877306938, 0.02082424983382225, 0.026295337826013565, 0.07648167014122009, 0.16261470317840576, 0.12638655304908752, 0.10034432262182236, 0.4056537449359894, 0.0, 0.0, 0.0, 0.0, 0.0, 0.0, 0.0, 0.0, 0.0, 0.0, 0.0, 0.0], [0.021432999521493912, 0.0007291654474101961, 0.001088967896066606, 0.000855962629429996, 0.0010556632187217474, 0.0023542498238384724, 0.001863333978690207, 0.0024869947228580713, 0.004011373966932297, 0.003645625663921237, 0.006636627484112978, 0.0024591705296188593, 0.008106646127998829, 0.01950135827064514, 0.01394552830606699, 0.016831612214446068, 0.0672786608338356, 0.10203750431537628, 0.07506179064512253, 0.037855058908462524, 0.3474155068397522, 0.26334619522094727, 0.0, 0.0, 0.0, 0.0, 0.0, 0.0, 0.0, 0.0, 0.0, 0.0, 0.0], [0.01837444305419922, 0.0016340138390660286, 0.00026486607384867966, 0.0006277100765146315, 0.0007212891359813511, 0.0022947126999497414, 0.001437575789168477, 0.00243357103317976, 0.0010225046426057816, 0.002173100132495165, 0.005665977951139212, 0.0005857074866071343, 0.004730314016342163, 0.015789635479450226, 0.00912107340991497, 0.006447893101722002, 0.0496518649160862, 0.07221102714538574, 0.045304279774427414, 0.022536274045705795, 0.23380492627620697, 0.28100934624671936, 0.222157821059227, 0.0, 0.0, 0.0, 0.0, 0.0, 0.0, 0.0, 0.0, 0.0, 0.0], [0.016010304912924767, 0.00041907778359018266, 0.0016793161630630493, 0.002033164957538247, 0.0011126043973490596, 0.0023041239473968744, 0.001641486887820065, 0.002045231871306896, 0.0008826457196846604, 0.003531822469085455, 0.004660750739276409, 0.001146127237007022, 0.00402528652921319, 0.011729463003575802, 0.006906027905642986, 0.005978983361274004, 0.03413616493344307, 0.05391993746161461, 0.07536923885345459, 0.015544179826974869, 0.1530728042125702, 0.2167249619960785, 0.2326733022928238, 0.15245302021503448, 0.0, 0.0, 0.0, 0.0, 0.0, 0.0, 0.0, 0.0, 0.0], [0.016415519639849663, 0.0010881004855036736, 0.0013027044478803873, 0.0012335639912635088, 0.001032522995956242, 0.001360527821816504, 0.0011352739529684186, 0.0009713197941891849, 0.0017580230487510562, 0.0023549997713416815, 0.0022677984088659286, 0.0026170071214437485, 0.003284966107457876, 0.005564453080296516, 0.007287741173058748, 0.006582662928849459, 0.0169110968708992, 0.023348163813352585, 0.03336377069354057, 0.012060853652656078, 0.08410519361495972, 0.1077699065208435, 0.1274130791425705, 0.25009599328041077, 0.28867480158805847, 0.0, 0.0, 0.0, 0.0, 0.0, 0.0, 0.0, 0.0], [0.031117726117372513, 0.0015063044847920537, 0.0010839331662282348, 0.002421522280201316, 0.0013826871290802956, 0.003793720854446292, 0.0016339283902198076, 0.003119521075859666, 0.001281260745599866, 0.0020685256458818913, 0.004760116338729858, 0.0008757314062677324, 0.00859212689101696, 0.009353629313409328, 0.011993260122835636, 0.005962997674942017, 0.022028185427188873, 0.03411330655217171, 0.009586760774254799, 0.01368179451674223, 0.08417044579982758, 0.08917814493179321, 0.10806840658187866, 0.15560774505138397, 0.372368723154068, 0.020249472931027412, 0.0, 0.0, 0.0, 0.0, 0.0, 0.0, 0.0], [0.01483849436044693, 0.0005757315666414797, 0.004743661265820265, 0.0004567739088088274, 0.000741228461265564, 0.0015000009443610907, 0.0008866073912940919, 0.0008452082402072847, 0.00010359253792557865, 0.0009065150516107678, 0.0018096823478117585, 0.06029108166694641, 0.0015377574600279331, 0.003307942533865571, 0.0013713681837543845, 0.0020826770924031734, 0.008643990382552147, 0.009088869206607342, 0.007760954089462757, 0.0058083306066691875, 0.033865127712488174, 0.039871830493211746, 0.05374554172158241, 0.03694773465394974, 0.12259446829557419, 0.5718703866004944, 0.013804459013044834, 0.0, 0.0, 0.0, 0.0, 0.0, 0.0], [0.01857001520693302, 0.0012143192579969764, 0.001288043800741434, 0.0010612572077661753, 0.0007490042480640113, 0.0010485622333362699, 0.0008687879890203476, 0.0005973860388621688, 0.0012938276631757617, 0.0014042517868801951, 0.0011055100476369262, 0.0005003457772545516, 0.0020262631587684155, 0.0021463127341121435, 0.0028737946413457394, 0.0026413695886731148, 0.005802986212074757, 0.008191361092031002, 0.008339076302945614, 0.005543305538594723, 0.026558708399534225, 0.033089227974414825, 0.032507408410310745, 0.09199854731559753, 0.10410474240779877, 0.16861779987812042, 0.208954319357872, 0.26690351963043213, 0.0, 0.0, 0.0, 0.0, 0.0], [0.016654429957270622, 0.0007248653564602137, 0.0008980656275525689, 0.003161687171086669, 0.0005522820865735412, 0.001660725218243897, 0.0007486125105060637, 0.0009652780718170106, 0.000384279788704589, 0.0022577785421162844, 0.0015545643400400877, 0.0007036988390609622, 0.001468819216825068, 0.002799877431243658, 0.003013979410752654, 0.005369040183722973, 0.0065523297525942326, 0.008701566606760025, 0.007138860411942005, 0.006516316905617714, 0.02618555910885334, 0.03929195925593376, 0.03155006468296051, 0.024343056604266167, 0.10670772939920425, 0.1515979766845703, 0.13674211502075195, 0.3201397657394409, 0.091614730656147, 0.0, 0.0, 0.0, 0.0], [0.037226855754852295, 0.0007442748174071312, 0.0019180331146344543, 0.0014290619874373078, 0.0025597354397177696, 0.0032928334549069405, 0.0009007258340716362, 0.0015445133903995156, 0.00035572113119997084, 0.0004492741427384317, 0.0026688207872211933, 0.0014046675059944391, 0.0017281025648117065, 0.004542735870927572, 0.0012941056629642844, 0.004677670542150736, 0.009138206019997597, 0.008992963470518589, 0.0053436593152582645, 0.0020318387541919947, 0.030930940061807632, 0.02121528796851635, 0.03639977425336838, 0.056794606149196625, 0.11195956915616989, 0.011458108201622963, 0.03353295475244522, 0.2658853828907013, 0.24695393443107605, 0.09262565523386002, 0.0, 0.0, 0.0], [0.04408876970410347, 0.0011082958662882447, 0.003387587144970894, 0.004853191319853067, 0.0028643182013183832, 0.004500853829085827, 0.0014518102398142219, 0.0021924953907728195, 0.0007902363431639969, 0.0006717380019836128, 0.003577157389372587, 0.0005131770158186555, 0.012861732393503189, 0.005116843152791262, 0.0030142515897750854, 0.005887466017156839, 0.0104534225538373, 0.013818349689245224, 0.008691046386957169, 0.011229274794459343, 0.03140083700418472, 0.023181650787591934, 0.030444402247667313, 0.0352068655192852, 0.09999872744083405, 0.006090166512876749, 0.1471422016620636, 0.1639304906129837, 0.1274951547384262, 0.19357748329639435, 0.0004599900566972792, 0.0, 0.0], [0.0371740460395813, 0.005006896331906319, 0.001611232990399003, 0.0028301491402089596, 0.0005118503468111157, 0.002707125386223197, 0.0020970297046005726, 0.0012328765587881207, 0.0006310889148153365, 0.001763249165378511, 0.0017868791474029422, 0.0002528334443923086, 0.0010720747523009777, 0.002644830849021673, 0.001566160237416625, 0.003808408509939909, 0.005276739597320557, 0.006930261850357056, 0.013310844078660011, 0.0035816440358757973, 0.018304504454135895, 0.026684746146202087, 0.019971519708633423, 0.032155800610780716, 0.07432039827108383, 0.023922255262732506, 0.0876147598028183, 0.1800754815340042, 0.027492590248584747, 0.05972244217991829, 0.19122685492038727, 0.1627124547958374, 0.0], [0.00811693537980318, 0.0008723049541004002, 0.000370729569112882, 0.00047348623047582805, 0.00017832980665843934, 0.0003994708531536162, 0.0002951173228211701, 0.00018311954045202583, 0.00016714585945010185, 0.00023702470934949815, 0.0002533361839596182, 0.00012855041131842881, 0.0002021317632170394, 0.0003994499274995178, 0.00016511822468601167, 0.0004622872802428901, 0.0008780229254625738, 0.0011140480637550354, 0.0020708816591650248, 0.0019636766519397497, 0.003527858993038535, 0.004475228954106569, 0.004463486839085817, 0.007312550209462643, 0.014446240849792957, 0.03503050655126572, 0.020014172419905663, 0.043885815888643265, 0.01943674311041832, 0.11325740814208984, 0.07277623564004898, 0.1619683802127838, 0.4804742634296417]], [[1.0, 0.0, 0.0, 0.0, 0.0, 0.0, 0.0, 0.0, 0.0, 0.0, 0.0, 0.0, 0.0, 0.0, 0.0, 0.0, 0.0, 0.0, 0.0, 0.0, 0.0, 0.0, 0.0, 0.0, 0.0, 0.0, 0.0, 0.0, 0.0, 0.0, 0.0, 0.0, 0.0], [0.947374701499939, 0.05262523889541626, 0.0, 0.0, 0.0, 0.0, 0.0, 0.0, 0.0, 0.0, 0.0, 0.0, 0.0, 0.0, 0.0, 0.0, 0.0, 0.0, 0.0, 0.0, 0.0, 0.0, 0.0, 0.0, 0.0, 0.0, 0.0, 0.0, 0.0, 0.0, 0.0, 0.0, 0.0], [0.8785885572433472, 0.05539463832974434, 0.06601687520742416, 0.0, 0.0, 0.0, 0.0, 0.0, 0.0, 0.0, 0.0, 0.0, 0.0, 0.0, 0.0, 0.0, 0.0, 0.0, 0.0, 0.0, 0.0, 0.0, 0.0, 0.0, 0.0, 0.0, 0.0, 0.0, 0.0, 0.0, 0.0, 0.0, 0.0], [0.727077066898346, 0.1370987445116043, 0.04866090789437294, 0.0871632918715477, 0.0, 0.0, 0.0, 0.0, 0.0, 0.0, 0.0, 0.0, 0.0, 0.0, 0.0, 0.0, 0.0, 0.0, 0.0, 0.0, 0.0, 0.0, 0.0, 0.0, 0.0, 0.0, 0.0, 0.0, 0.0, 0.0, 0.0, 0.0, 0.0], [0.4651746451854706, 0.13429315388202667, 0.15358160436153412, 0.1747254878282547, 0.07222511619329453, 0.0, 0.0, 0.0, 0.0, 0.0, 0.0, 0.0, 0.0, 0.0, 0.0, 0.0, 0.0, 0.0, 0.0, 0.0, 0.0, 0.0, 0.0, 0.0, 0.0, 0.0, 0.0, 0.0, 0.0, 0.0, 0.0, 0.0, 0.0], [0.17035971581935883, 0.011841945350170135, 0.02365085668861866, 0.0217458326369524, 0.02585633099079132, 0.7465452551841736, 0.0, 0.0, 0.0, 0.0, 0.0, 0.0, 0.0, 0.0, 0.0, 0.0, 0.0, 0.0, 0.0, 0.0, 0.0, 0.0, 0.0, 0.0, 0.0, 0.0, 0.0, 0.0, 0.0, 0.0, 0.0, 0.0, 0.0], [0.1421457827091217, 0.04383275657892227, 0.050211820751428604, 0.045165032148361206, 0.05872130021452904, 0.5111533999443054, 0.14876997470855713, 0.0, 0.0, 0.0, 0.0, 0.0, 0.0, 0.0, 0.0, 0.0, 0.0, 0.0, 0.0, 0.0, 0.0, 0.0, 0.0, 0.0, 0.0, 0.0, 0.0, 0.0, 0.0, 0.0, 0.0, 0.0, 0.0], [0.0847335010766983, 0.020369814708828926, 0.03746162727475166, 0.031959112733602524, 0.03419601172208786, 0.4350067675113678, 0.11894059181213379, 0.2373325675725937, 0.0, 0.0, 0.0, 0.0, 0.0, 0.0, 0.0, 0.0, 0.0, 0.0, 0.0, 0.0, 0.0, 0.0, 0.0, 0.0, 0.0, 0.0, 0.0, 0.0, 0.0, 0.0, 0.0, 0.0, 0.0], [0.34230804443359375, 0.03593633696436882, 0.0725921019911766, 0.10352760553359985, 0.08196532726287842, 0.07694560289382935, 0.14196324348449707, 0.09896717220544815, 0.04579458385705948, 0.0, 0.0, 0.0, 0.0, 0.0, 0.0, 0.0, 0.0, 0.0, 0.0, 0.0, 0.0, 0.0, 0.0, 0.0, 0.0, 0.0, 0.0, 0.0, 0.0, 0.0, 0.0, 0.0, 0.0], [0.3711485266685486, 0.06278739124536514, 0.05806950852274895, 0.055662766098976135, 0.1312483847141266, 0.07535631209611893, 0.10726630687713623, 0.07924021780490875, 0.03010733611881733, 0.02911325730383396, 0.0, 0.0, 0.0, 0.0, 0.0, 0.0, 0.0, 0.0, 0.0, 0.0, 0.0, 0.0, 0.0, 0.0, 0.0, 0.0, 0.0, 0.0, 0.0, 0.0, 0.0, 0.0, 0.0], [0.06430106610059738, 0.005169108975678682, 0.011012989096343517, 0.009054883383214474, 0.011748072691261768, 0.3188503086566925, 0.036849457770586014, 0.08319548517465591, 0.012068135663866997, 0.014676221646368504, 0.4330742359161377, 0.0, 0.0, 0.0, 0.0, 0.0, 0.0, 0.0, 0.0, 0.0, 0.0, 0.0, 0.0, 0.0, 0.0, 0.0, 0.0, 0.0, 0.0, 0.0, 0.0, 0.0, 0.0], [0.23777928948402405, 0.03813000023365021, 0.01974334567785263, 0.0750802606344223, 0.14420795440673828, 0.06244926154613495, 0.07018385082483292, 0.06523606181144714, 0.048832185566425323, 0.034600336104631424, 0.06439769268035889, 0.13935984671115875, 0.0, 0.0, 0.0, 0.0, 0.0, 0.0, 0.0, 0.0, 0.0, 0.0, 0.0, 0.0, 0.0, 0.0, 0.0, 0.0, 0.0, 0.0, 0.0, 0.0, 0.0], [0.29014477133750916, 0.04085769131779671, 0.06965624541044235, 0.06467736512422562, 0.11515600234270096, 0.07279440015554428, 0.05406039580702782, 0.04095999523997307, 0.0364612378180027, 0.03709697723388672, 0.08112156391143799, 0.062494415789842606, 0.034518953412771225, 0.0, 0.0, 0.0, 0.0, 0.0, 0.0, 0.0, 0.0, 0.0, 0.0, 0.0, 0.0, 0.0, 0.0, 0.0, 0.0, 0.0, 0.0, 0.0, 0.0], [0.041916050016880035, 0.003388072131201625, 0.007082358933985233, 0.005899212788790464, 0.007586191408336163, 0.20389793813228607, 0.023296762257814407, 0.05173071473836899, 0.00781681016087532, 0.009731382131576538, 0.27760177850723267, 0.008386772125959396, 0.016172710806131363, 0.33549320697784424, 0.0, 0.0, 0.0, 0.0, 0.0, 0.0, 0.0, 0.0, 0.0, 0.0, 0.0, 0.0, 0.0, 0.0, 0.0, 0.0, 0.0, 0.0, 0.0], [0.1512935757637024, 0.042407941073179245, 0.04383382946252823, 0.09706760197877884, 0.14943547546863556, 0.044398847967386246, 0.06174498423933983, 0.04199517145752907, 0.018608801066875458, 0.03141246363520622, 0.050926461815834045, 0.06660284101963043, 0.09416218101978302, 0.057612910866737366, 0.04849696159362793, 0.0, 0.0, 0.0, 0.0, 0.0, 0.0, 0.0, 0.0, 0.0, 0.0, 0.0, 0.0, 0.0, 0.0, 0.0, 0.0, 0.0, 0.0], [0.29958024621009827, 0.07432068139314651, 0.030061965808272362, 0.016736481338739395, 0.038564808666706085, 0.05106880143284798, 0.09408662468194962, 0.056067951023578644, 0.05458229407668114, 0.04522043094038963, 0.05638068541884422, 0.015378028154373169, 0.04082849994301796, 0.06084693595767021, 0.03081105835735798, 0.03546450287103653, 0.0, 0.0, 0.0, 0.0, 0.0, 0.0, 0.0, 0.0, 0.0, 0.0, 0.0, 0.0, 0.0, 0.0, 0.0, 0.0, 0.0], [0.030439967289566994, 0.0024933910463005304, 0.0052982051856815815, 0.004223388619720936, 0.005517448764294386, 0.14508454501628876, 0.016034143045544624, 0.035986483097076416, 0.005758045706897974, 0.007398171350359917, 0.19613461196422577, 0.006090888287872076, 0.011465114541351795, 0.23738010227680206, 0.008031780831515789, 0.005861481186002493, 0.2768022119998932, 0.0, 0.0, 0.0, 0.0, 0.0, 0.0, 0.0, 0.0, 0.0, 0.0, 0.0, 0.0, 0.0, 0.0, 0.0, 0.0], [0.015668943524360657, 0.0019133496098220348, 0.00674793403595686, 0.005610877647995949, 0.006710363551974297, 0.10858530551195145, 0.013436979614198208, 0.03067481331527233, 0.008698045276105404, 0.005958771798759699, 0.15696404874324799, 0.006401263177394867, 0.014357203617691994, 0.19220471382141113, 0.009938816539943218, 0.00815456174314022, 0.228613942861557, 0.17936010658740997, 0.0, 0.0, 0.0, 0.0, 0.0, 0.0, 0.0, 0.0, 0.0, 0.0, 0.0, 0.0, 0.0, 0.0, 0.0], [0.2751207947731018, 0.04635611176490784, 0.025782722979784012, 0.020371096208691597, 0.04519129917025566, 0.04741504043340683, 0.0580083392560482, 0.054494597017765045, 0.021855851635336876, 0.02867419458925724, 0.05054795742034912, 0.03578944876790047, 0.01434399839490652, 0.05505191162228584, 0.01997091807425022, 0.025070656090974808, 0.05983668193221092, 0.1059127002954483, 0.010205714963376522, 0.0, 0.0, 0.0, 0.0, 0.0, 0.0, 0.0, 0.0, 0.0, 0.0, 0.0, 0.0, 0.0, 0.0], [0.12210462242364883, 0.029006365686655045, 0.02792612463235855, 0.03076370619237423, 0.06431958824396133, 0.050758685916662216, 0.057467151433229446, 0.03854452446103096, 0.028814472258090973, 0.036410342901945114, 0.055306918919086456, 0.027555672451853752, 0.05062384903430939, 0.060396816581487656, 0.03790909796953201, 0.034162603318691254, 0.06550318747758865, 0.08224605768918991, 0.08903136104345322, 0.011148837395012379, 0.0, 0.0, 0.0, 0.0, 0.0, 0.0, 0.0, 0.0, 0.0, 0.0, 0.0, 0.0, 0.0], [0.019922727718949318, 0.0015991274267435074, 0.003536270232871175, 0.0027606096118688583, 0.0036747537087649107, 0.09198573976755142, 0.009868195280432701, 0.02176273986697197, 0.0036746219266206026, 0.004800301510840654, 0.12327173352241516, 0.003948225639760494, 0.007727709598839283, 0.14901944994926453, 0.005094505846500397, 0.003849551547318697, 0.17433808743953705, 0.14503762125968933, 0.003139179665595293, 0.0039015670772641897, 0.21708731353282928, 0.0, 0.0, 0.0, 0.0, 0.0, 0.0, 0.0, 0.0, 0.0, 0.0, 0.0, 0.0], [0.02516915090382099, 0.002589146140962839, 0.0079044783487916, 0.0028181772213429213, 0.008317493833601475, 0.06284766644239426, 0.01609737053513527, 0.02483357861638069, 0.007658035960048437, 0.011317076161503792, 0.08451001346111298, 0.012135396711528301, 0.02204838953912258, 0.10017252713441849, 0.015103286132216454, 0.020152246579527855, 0.11906801909208298, 0.14148969948291779, 0.006576651707291603, 0.007074060849845409, 0.1485065519809723, 0.1536109745502472, 0.0, 0.0, 0.0, 0.0, 0.0, 0.0, 0.0, 0.0, 0.0, 0.0, 0.0], [0.08679643273353577, 0.01581868715584278, 0.00991315022110939, 0.005941126961261034, 0.01174911018460989, 0.04402252659201622, 0.049411576241254807, 0.04721158742904663, 0.022448496893048286, 0.02814416214823723, 0.05249372869729996, 0.013664893805980682, 0.03804454579949379, 0.0585649237036705, 0.016008727252483368, 0.028531765565276146, 0.06752396374940872, 0.10004051774740219, 0.026074498891830444, 0.01816527172923088, 0.08061439543962479, 0.1458839625120163, 0.032931987196207047, 0.0, 0.0, 0.0, 0.0, 0.0, 0.0, 0.0, 0.0, 0.0, 0.0], [0.12203321605920792, 0.02679692953824997, 0.03471270948648453, 0.016600845381617546, 0.05098600313067436, 0.03362346068024635, 0.03376289829611778, 0.032894376665353775, 0.022763587534427643, 0.03469543159008026, 0.03710823133587837, 0.02750304713845253, 0.03050805814564228, 0.04070492088794708, 0.019409826025366783, 0.033388108015060425, 0.04603787139058113, 0.081419438123703, 0.025792911648750305, 0.01771334931254387, 0.05326375365257263, 0.0695522278547287, 0.07340093702077866, 0.03532777354121208, 0.0, 0.0, 0.0, 0.0, 0.0, 0.0, 0.0, 0.0, 0.0], [0.012632705271244049, 0.003196731675416231, 0.008999623358249664, 0.0037871079985052347, 0.005590222775936127, 0.0601874440908432, 0.010173019953072071, 0.026063399389386177, 0.008280325680971146, 0.005998441483825445, 0.08480241149663925, 0.007755735889077187, 0.014807668514549732, 0.10079345107078552, 0.011636028066277504, 0.007885103113949299, 0.12061363458633423, 0.12819868326187134, 0.006487112492322922, 0.0032305712811648846, 0.15047502517700195, 0.10557695478200912, 0.015480606816709042, 0.019026324152946472, 0.07832162082195282, 0.0, 0.0, 0.0, 0.0, 0.0, 0.0, 0.0, 0.0], [0.11176053434610367, 0.018635567277669907, 0.05622371286153793, 0.046772781759500504, 0.037364933639764786, 0.022993406280875206, 0.0313652902841568, 0.026408880949020386, 0.043359242379665375, 0.05663560703396797, 0.021786395460367203, 0.023822132498025894, 0.03064168617129326, 0.02328924462199211, 0.05430491641163826, 0.06881186366081238, 0.024489376693964005, 0.0477709136903286, 0.03627174347639084, 0.022222530096769333, 0.026998942717909813, 0.02176610566675663, 0.03442488983273506, 0.0282402653247118, 0.05891920626163483, 0.024719834327697754, 0.0, 0.0, 0.0, 0.0, 0.0, 0.0, 0.0], [0.10639803111553192, 0.03710794821381569, 0.08273959159851074, 0.017856858670711517, 0.020950008183717728, 0.01830524578690529, 0.022620096802711487, 0.018192272633314133, 0.021851180121302605, 0.012518538162112236, 0.0192140843719244, 0.03034008853137493, 0.07187618315219879, 0.020788012072443962, 0.03963524475693703, 0.06151589751243591, 0.023179279640316963, 0.043980441987514496, 0.04619220644235611, 0.020667966455221176, 0.02708088420331478, 0.04386553168296814, 0.03276737034320831, 0.04369064420461655, 0.05080844834446907, 0.04029490798711777, 0.025562990456819534, 0.0, 0.0, 0.0, 0.0, 0.0, 0.0], [0.015084552578628063, 0.0038223860319703817, 0.005877265706658363, 0.004971853923052549, 0.005370152648538351, 0.05223644897341728, 0.01612767018377781, 0.03182990849018097, 0.008211132138967514, 0.011473825201392174, 0.06704680621623993, 0.010528392158448696, 0.01059823390096426, 0.07938899844884872, 0.007211728021502495, 0.0062714628875255585, 0.09142370522022247, 0.1086650937795639, 0.003973818849772215, 0.005621668417006731, 0.10983319580554962, 0.09237759560346603, 0.02296048030257225, 0.01931491121649742, 0.08864139020442963, 0.018464701250195503, 0.011022249236702919, 0.0916503369808197, 0.0, 0.0, 0.0, 0.0, 0.0], [0.09854131937026978, 0.03967059403657913, 0.05052138492465019, 0.047943923622369766, 0.01953187771141529, 0.015683425590395927, 0.02507474273443222, 0.01499791257083416, 0.027723446488380432, 0.016418179497122765, 0.016389016062021255, 0.026316577568650246, 0.034359294921159744, 0.01775800809264183, 0.023362666368484497, 0.03763514384627342, 0.019405599683523178, 0.03442167863249779, 0.04902302473783493, 0.030190540477633476, 0.022159073501825333, 0.03754068911075592, 0.03879312425851822, 0.0403241366147995, 0.04231260344386101, 0.06829196214675903, 0.02531411498785019, 0.04330071806907654, 0.03699524328112602, 0.0, 0.0, 0.0, 0.0], [0.10688816756010056, 0.036595772951841354, 0.005083088763058186, 0.01016042847186327, 0.013297365978360176, 0.04175209254026413, 0.0262468084692955, 0.03012855537235737, 0.01348240114748478, 0.018223177641630173, 0.045826252549886703, 0.025558795779943466, 0.015618842095136642, 0.05039891600608826, 0.011657018214464188, 0.011659136973321438, 0.05515517666935921, 0.0509166494011879, 0.019206801429390907, 0.013998410664498806, 0.06383472681045532, 0.02908891998231411, 0.016710421070456505, 0.026095248758792877, 0.05484982579946518, 0.03806670010089874, 0.03896070271730423, 0.05375233292579651, 0.023679140955209732, 0.0531080923974514, 0.0, 0.0, 0.0], [0.10871610790491104, 0.06286418437957764, 0.023045100271701813, 0.012493222020566463, 0.009688260033726692, 0.023720791563391685, 0.025617342442274094, 0.028282877057790756, 0.01952311024069786, 0.015187129378318787, 0.024615760892629623, 0.018855798989534378, 0.013071923516690731, 0.025697479024529457, 0.010639796033501625, 0.007336433976888657, 0.028488242998719215, 0.040875136852264404, 0.023693932220339775, 0.028460832312703133, 0.031781136989593506, 0.03399213030934334, 0.016904490068554878, 0.04699745401740074, 0.05480918288230896, 0.06048165261745453, 0.021137816831469536, 0.051477741450071335, 0.015304320491850376, 0.0786885917186737, 0.03755195438861847, 0.0, 0.0], [0.16510626673698425, 0.013307342305779457, 0.02282034046947956, 0.03222496435046196, 0.028327830135822296, 0.011912129819393158, 0.02175910584628582, 0.012591331265866756, 0.025371335446834564, 0.015923485159873962, 0.011745059862732887, 0.021340157836675644, 0.02265852317214012, 0.012097012251615524, 0.0587739422917366, 0.04114295914769173, 0.012866142205893993, 0.021896716207265854, 0.027385752648115158, 0.015412706881761551, 0.014822268858551979, 0.013198774307966232, 0.02906009927392006, 0.040313057601451874, 0.02303694747388363, 0.05035785958170891, 0.04650064557790756, 0.03221074491739273, 0.04574136063456535, 0.011448170058429241, 0.05148479714989662, 0.04716223105788231, 0.0], [0.01986272819340229, 0.0006941378815099597, 0.0017670646775513887, 0.001903822529129684, 0.0023115798830986023, 0.059243883937597275, 0.005164949223399162, 0.008714546449482441, 0.0024906692560762167, 0.0030579608865082264, 0.07585155218839645, 0.0023905502166599035, 0.0031773527152836323, 0.08945122361183167, 0.0030652983114123344, 0.0016209172317758203, 0.10312028229236603, 0.06259158253669739, 0.0020582962315529585, 0.00223221885971725, 0.12742045521736145, 0.024703867733478546, 0.003510191570967436, 0.004994179122149944, 0.028317106887698174, 0.005874196067452431, 0.006215322762727737, 0.03686564415693283, 0.005438113119453192, 0.0040618679486215115, 0.004735514987260103, 0.004534381907433271, 0.2925585210323334]], [[1.0, 0.0, 0.0, 0.0, 0.0, 0.0, 0.0, 0.0, 0.0, 0.0, 0.0, 0.0, 0.0, 0.0, 0.0, 0.0, 0.0, 0.0, 0.0, 0.0, 0.0, 0.0, 0.0, 0.0, 0.0, 0.0, 0.0, 0.0, 0.0, 0.0, 0.0, 0.0, 0.0], [0.9726406335830688, 0.02735935151576996, 0.0, 0.0, 0.0, 0.0, 0.0, 0.0, 0.0, 0.0, 0.0, 0.0, 0.0, 0.0, 0.0, 0.0, 0.0, 0.0, 0.0, 0.0, 0.0, 0.0, 0.0, 0.0, 0.0, 0.0, 0.0, 0.0, 0.0, 0.0, 0.0, 0.0, 0.0], [0.8850566744804382, 0.08160645514726639, 0.03333684429526329, 0.0, 0.0, 0.0, 0.0, 0.0, 0.0, 0.0, 0.0, 0.0, 0.0, 0.0, 0.0, 0.0, 0.0, 0.0, 0.0, 0.0, 0.0, 0.0, 0.0, 0.0, 0.0, 0.0, 0.0, 0.0, 0.0, 0.0, 0.0, 0.0, 0.0], [0.7844979166984558, 0.09045999497175217, 0.1072097048163414, 0.017832353711128235, 0.0, 0.0, 0.0, 0.0, 0.0, 0.0, 0.0, 0.0, 0.0, 0.0, 0.0, 0.0, 0.0, 0.0, 0.0, 0.0, 0.0, 0.0, 0.0, 0.0, 0.0, 0.0, 0.0, 0.0, 0.0, 0.0, 0.0, 0.0, 0.0], [0.6679065227508545, 0.10135097801685333, 0.10997922718524933, 0.0699087604880333, 0.05085447430610657, 0.0, 0.0, 0.0, 0.0, 0.0, 0.0, 0.0, 0.0, 0.0, 0.0, 0.0, 0.0, 0.0, 0.0, 0.0, 0.0, 0.0, 0.0, 0.0, 0.0, 0.0, 0.0, 0.0, 0.0, 0.0, 0.0, 0.0, 0.0], [0.5862790942192078, 0.06960928440093994, 0.06798027455806732, 0.060589633882045746, 0.08339763432741165, 0.13214412331581116, 0.0, 0.0, 0.0, 0.0, 0.0, 0.0, 0.0, 0.0, 0.0, 0.0, 0.0, 0.0, 0.0, 0.0, 0.0, 0.0, 0.0, 0.0, 0.0, 0.0, 0.0, 0.0, 0.0, 0.0, 0.0, 0.0, 0.0], [0.5015711188316345, 0.06227874383330345, 0.07209989428520203, 0.05590921267867088, 0.08146879822015762, 0.12033166736364365, 0.10634062439203262, 0.0, 0.0, 0.0, 0.0, 0.0, 0.0, 0.0, 0.0, 0.0, 0.0, 0.0, 0.0, 0.0, 0.0, 0.0, 0.0, 0.0, 0.0, 0.0, 0.0, 0.0, 0.0, 0.0, 0.0, 0.0, 0.0], [0.4001609683036804, 0.055253975093364716, 0.06347684562206268, 0.05413786694407463, 0.07119616121053696, 0.11230532824993134, 0.12489717453718185, 0.11857163906097412, 0.0, 0.0, 0.0, 0.0, 0.0, 0.0, 0.0, 0.0, 0.0, 0.0, 0.0, 0.0, 0.0, 0.0, 0.0, 0.0, 0.0, 0.0, 0.0, 0.0, 0.0, 0.0, 0.0, 0.0, 0.0], [0.40185338258743286, 0.08579415082931519, 0.05644882097840309, 0.07181121408939362, 0.08318912237882614, 0.07845646888017654, 0.09191883355379105, 0.07768874615430832, 0.052839264273643494, 0.0, 0.0, 0.0, 0.0, 0.0, 0.0, 0.0, 0.0, 0.0, 0.0, 0.0, 0.0, 0.0, 0.0, 0.0, 0.0, 0.0, 0.0, 0.0, 0.0, 0.0, 0.0, 0.0, 0.0], [0.38271597027778625, 0.07976948469877243, 0.06207752972841263, 0.06360232830047607, 0.08211023360490799, 0.07804954797029495, 0.08597435802221298, 0.07506486028432846, 0.063278429210186, 0.027357229962944984, 0.0, 0.0, 0.0, 0.0, 0.0, 0.0, 0.0, 0.0, 0.0, 0.0, 0.0, 0.0, 0.0, 0.0, 0.0, 0.0, 0.0, 0.0, 0.0, 0.0, 0.0, 0.0, 0.0], [0.3404167592525482, 0.04535195976495743, 0.04658912494778633, 0.0403917096555233, 0.05489041283726692, 0.08179008215665817, 0.08906514942646027, 0.09645894914865494, 0.05564970523118973, 0.06398677080869675, 0.08540937304496765, 0.0, 0.0, 0.0, 0.0, 0.0, 0.0, 0.0, 0.0, 0.0, 0.0, 0.0, 0.0, 0.0, 0.0, 0.0, 0.0, 0.0, 0.0, 0.0, 0.0, 0.0, 0.0], [0.31186187267303467, 0.09539990872144699, 0.07292015850543976, 0.06976877897977829, 0.07777828723192215, 0.06735039502382278, 0.061614081263542175, 0.05481073260307312, 0.05252014100551605, 0.050225187093019485, 0.07299349457025528, 0.01275695487856865, 0.0, 0.0, 0.0, 0.0, 0.0, 0.0, 0.0, 0.0, 0.0, 0.0, 0.0, 0.0, 0.0, 0.0, 0.0, 0.0, 0.0, 0.0, 0.0, 0.0, 0.0], [0.36652860045433044, 0.06308673322200775, 0.03947844356298447, 0.04609527066349983, 0.057407524436712265, 0.0634833574295044, 0.052384648472070694, 0.0550161749124527, 0.04584015533328056, 0.06228695437312126, 0.0658990889787674, 0.05806359648704529, 0.02442951127886772, 0.0, 0.0, 0.0, 0.0, 0.0, 0.0, 0.0, 0.0, 0.0, 0.0, 0.0, 0.0, 0.0, 0.0, 0.0, 0.0, 0.0, 0.0, 0.0, 0.0], [0.28564438223838806, 0.038040269166231155, 0.039423901587724686, 0.034238625317811966, 0.0463939905166626, 0.06771662086248398, 0.07328072190284729, 0.07855431735515594, 0.04789664223790169, 0.0559365451335907, 0.07124946266412735, 0.03568924963474274, 0.04956043139100075, 0.0763748288154602, 0.0, 0.0, 0.0, 0.0, 0.0, 0.0, 0.0, 0.0, 0.0, 0.0, 0.0, 0.0, 0.0, 0.0, 0.0, 0.0, 0.0, 0.0, 0.0], [0.2977542579174042, 0.052595485001802444, 0.04347940534353256, 0.058458633720874786, 0.045687273144721985, 0.05259404703974724, 0.04456197842955589, 0.04597470909357071, 0.0631614625453949, 0.0776875838637352, 0.05499144643545151, 0.03466471657156944, 0.05020098015666008, 0.05886144936084747, 0.019326545298099518, 0.0, 0.0, 0.0, 0.0, 0.0, 0.0, 0.0, 0.0, 0.0, 0.0, 0.0, 0.0, 0.0, 0.0, 0.0, 0.0, 0.0, 0.0], [0.28853151202201843, 0.046169087290763855, 0.028233055025339127, 0.0382423959672451, 0.043306201696395874, 0.051749154925346375, 0.04318273440003395, 0.04393118619918823, 0.05616341158747673, 0.06773822009563446, 0.05490176007151604, 0.0813930481672287, 0.043256912380456924, 0.059048160910606384, 0.03989902883768082, 0.014254068024456501, 0.0, 0.0, 0.0, 0.0, 0.0, 0.0, 0.0, 0.0, 0.0, 0.0, 0.0, 0.0, 0.0, 0.0, 0.0, 0.0, 0.0], [0.23721373081207275, 0.03161582350730896, 0.03324565663933754, 0.02923194132745266, 0.03861811012029648, 0.05549168959259987, 0.05966496840119362, 0.06321784108877182, 0.04073698818683624, 0.04752674698829651, 0.05837821587920189, 0.030399657785892487, 0.04287157580256462, 0.06284618377685547, 0.053212907165288925, 0.047368962317705154, 0.06835898756980896, 0.0, 0.0, 0.0, 0.0, 0.0, 0.0, 0.0, 0.0, 0.0, 0.0, 0.0, 0.0, 0.0, 0.0, 0.0, 0.0], [0.20986966788768768, 0.027291269972920418, 0.031156616285443306, 0.026615004986524582, 0.031651128083467484, 0.05273226648569107, 0.052745021879673004, 0.05635902285575867, 0.04076547175645828, 0.04278235882520676, 0.056191232055425644, 0.03067827969789505, 0.04398961737751961, 0.06091475114226341, 0.0501369833946228, 0.04157314449548721, 0.0665285736322403, 0.07801956683397293, 0.0, 0.0, 0.0, 0.0, 0.0, 0.0, 0.0, 0.0, 0.0, 0.0, 0.0, 0.0, 0.0, 0.0, 0.0], [0.2385382503271103, 0.04414582625031471, 0.04643506184220314, 0.0345127172768116, 0.0357217974960804, 0.043693289160728455, 0.04304973781108856, 0.03498825430870056, 0.043718066066503525, 0.0395219586789608, 0.04457854852080345, 0.024599453434348106, 0.0625118613243103, 0.04753485694527626, 0.04375608637928963, 0.04995930939912796, 0.05090802162885666, 0.05266242474317551, 0.019164463505148888, 0.0, 0.0, 0.0, 0.0, 0.0, 0.0, 0.0, 0.0, 0.0, 0.0, 0.0, 0.0, 0.0, 0.0], [0.17729151248931885, 0.042214613407850266, 0.03081871196627617, 0.030886085703969002, 0.03386848047375679, 0.04521185904741287, 0.04290102422237396, 0.03221559152007103, 0.040188636630773544, 0.04926900193095207, 0.04801620915532112, 0.03814244270324707, 0.05126514285802841, 0.05206844210624695, 0.047441184520721436, 0.03924533352255821, 0.05630473792552948, 0.05462944880127907, 0.059918589890003204, 0.028102930635213852, 0.0, 0.0, 0.0, 0.0, 0.0, 0.0, 0.0, 0.0, 0.0, 0.0, 0.0, 0.0, 0.0], [0.19048289954662323, 0.02520349808037281, 0.026787469163537025, 0.023672690615057945, 0.031104043126106262, 0.043453432619571686, 0.046493299305438995, 0.04820644482970238, 0.03323278948664665, 0.03892752528190613, 0.04549149423837662, 0.02444274164736271, 0.035701580345630646, 0.04907768592238426, 0.04303565248847008, 0.03905562683939934, 0.05371742323040962, 0.0665895938873291, 0.04320824146270752, 0.03176470845937729, 0.060351256281137466, 0.0, 0.0, 0.0, 0.0, 0.0, 0.0, 0.0, 0.0, 0.0, 0.0, 0.0, 0.0], [0.14975367486476898, 0.02347457967698574, 0.025508403778076172, 0.02894243784248829, 0.03517157956957817, 0.03880191594362259, 0.045942794531583786, 0.03962726891040802, 0.03708779439330101, 0.038723014295101166, 0.0419071763753891, 0.021688055247068405, 0.04328257218003273, 0.04592543840408325, 0.03893952816724777, 0.040076110512018204, 0.05060017108917236, 0.06083051860332489, 0.043721579015254974, 0.030235225334763527, 0.05728613957762718, 0.06247401982545853, 0.0, 0.0, 0.0, 0.0, 0.0, 0.0, 0.0, 0.0, 0.0, 0.0, 0.0], [0.1751340627670288, 0.02751927077770233, 0.029514018446207047, 0.020715337246656418, 0.02687351405620575, 0.034546129405498505, 0.038530800491571426, 0.033037807792425156, 0.04181557521224022, 0.04010029882192612, 0.03696895018219948, 0.030468931421637535, 0.03995396941900253, 0.04023704677820206, 0.0448262058198452, 0.037082623690366745, 0.04420142248272896, 0.04931042343378067, 0.04125743731856346, 0.028610682114958763, 0.049973420798778534, 0.052692849189043045, 0.036629192531108856, 0.0, 0.0, 0.0, 0.0, 0.0, 0.0, 0.0, 0.0, 0.0, 0.0], [0.13285993039608002, 0.040708042681217194, 0.04111678898334503, 0.034844253212213516, 0.04087606072425842, 0.027567211538553238, 0.02829369530081749, 0.022520415484905243, 0.038754191249608994, 0.04037802666425705, 0.029089419171214104, 0.029609208926558495, 0.0567011721432209, 0.031181884929537773, 0.03766117990016937, 0.05688637122511864, 0.03396705910563469, 0.03781307488679886, 0.04951411113142967, 0.03194557502865791, 0.03759903833270073, 0.04326637461781502, 0.043056681752204895, 0.033790238201618195, 0.0, 0.0, 0.0, 0.0, 0.0, 0.0, 0.0, 0.0, 0.0], [0.1470937281847, 0.01821870543062687, 0.022143615409731865, 0.02162138931453228, 0.027072899043560028, 0.03385418280959129, 0.037876129150390625, 0.03801964223384857, 0.027932511642575264, 0.030901847407221794, 0.03606924042105675, 0.019023137167096138, 0.03465801477432251, 0.039169877767562866, 0.0337555967271328, 0.02613661251962185, 0.04297829791903496, 0.05313745513558388, 0.034635044634342194, 0.02014029398560524, 0.04878360033035278, 0.049908023327589035, 0.046243902295827866, 0.04715671017765999, 0.06346961110830307, 0.0, 0.0, 0.0, 0.0, 0.0, 0.0, 0.0, 0.0], [0.1760278344154358, 0.014882152900099754, 0.026751166209578514, 0.02408806048333645, 0.035667482763528824, 0.027094289660453796, 0.024984262883663177, 0.021471867337822914, 0.026359375566244125, 0.023845124989748, 0.027566978707909584, 0.01686953566968441, 0.0777743011713028, 0.029109222814440727, 0.04799695312976837, 0.029002506285905838, 0.03132333979010582, 0.03615600988268852, 0.03959561139345169, 0.017007999122142792, 0.03483906015753746, 0.03443717956542969, 0.04149220138788223, 0.09124385565519333, 0.0405229888856411, 0.0038906014524400234, 0.0, 0.0, 0.0, 0.0, 0.0, 0.0, 0.0], [0.18501751124858856, 0.027787018567323685, 0.025097621604800224, 0.027019010856747627, 0.02919919602572918, 0.030337011441588402, 0.032221779227256775, 0.023015065118670464, 0.026792874559760094, 0.02279384806752205, 0.030674848705530167, 0.021220847964286804, 0.05388805642724037, 0.032593026757240295, 0.030737660825252533, 0.02572524920105934, 0.03486603498458862, 0.03793584182858467, 0.02867201343178749, 0.026148958131670952, 0.038753341883420944, 0.041795045137405396, 0.03863156959414482, 0.05337151512503624, 0.03982072323560715, 0.025711622089147568, 0.010172732174396515, 0.0, 0.0, 0.0, 0.0, 0.0, 0.0], [0.1244632825255394, 0.01676890254020691, 0.020105106756091118, 0.01926703006029129, 0.02445780299603939, 0.030203357338905334, 0.03127393126487732, 0.03254605457186699, 0.023186003789305687, 0.023508405312895775, 0.031733203679323196, 0.017080511897802353, 0.029082050547003746, 0.03428218513727188, 0.03579128906130791, 0.02582055702805519, 0.03753114119172096, 0.04618251323699951, 0.029499998316168785, 0.017913799732923508, 0.042747292667627335, 0.0424346998333931, 0.03900241106748581, 0.04141836613416672, 0.059495002031326294, 0.03595735877752304, 0.03098486177623272, 0.05726282671093941, 0.0, 0.0, 0.0, 0.0, 0.0], [0.14491021633148193, 0.02584398351609707, 0.031176960095763206, 0.01946275494992733, 0.012575725093483925, 0.02527458779513836, 0.022020693868398666, 0.021267283707857132, 0.031655408442020416, 0.027664178982377052, 0.02625158615410328, 0.022091034799814224, 0.03851797431707382, 0.028266899287700653, 0.028877604752779007, 0.03686536103487015, 0.03069992922246456, 0.03204505145549774, 0.034116264432668686, 0.020355399698019028, 0.03446314483880997, 0.03542867675423622, 0.030728401616215706, 0.044418979436159134, 0.03793596103787422, 0.05734866484999657, 0.03889697417616844, 0.04111206531524658, 0.019728193059563637, 0.0, 0.0, 0.0, 0.0], [0.1316843181848526, 0.025460124015808105, 0.02796241268515587, 0.024109840393066406, 0.01686880923807621, 0.03140677884221077, 0.02324734441936016, 0.02207169122993946, 0.027362512424588203, 0.026370469480752945, 0.03204535320401192, 0.028775814920663834, 0.04614201560616493, 0.03455979749560356, 0.03132108226418495, 0.02943774312734604, 0.03749067336320877, 0.035974256694316864, 0.030671002343297005, 0.026778316125273705, 0.04166236147284508, 0.032743971794843674, 0.03034878335893154, 0.03265198692679405, 0.03805650398135185, 0.03457561880350113, 0.022936122491955757, 0.0369032621383667, 0.02596617490053177, 0.014414903707802296, 0.0, 0.0, 0.0], [0.1656370609998703, 0.022809255868196487, 0.029107756912708282, 0.024944674223661423, 0.024352876469492912, 0.02503182925283909, 0.018486667424440384, 0.01857367716729641, 0.028443632647395134, 0.029199935495853424, 0.025318222120404243, 0.03220498934388161, 0.025753285735845566, 0.02689054235816002, 0.03127395361661911, 0.033051490783691406, 0.028835434466600418, 0.029910437762737274, 0.027558814734220505, 0.024624638259410858, 0.03205361217260361, 0.026493778452277184, 0.021709609776735306, 0.03164015710353851, 0.03707475960254669, 0.04799468815326691, 0.027932148426771164, 0.03475610911846161, 0.03804942965507507, 0.021535679697990417, 0.008750852197408676, 0.0, 0.0], [0.16794219613075256, 0.025983458384871483, 0.03222336992621422, 0.019469385966658592, 0.023735269904136658, 0.02311573177576065, 0.019973624497652054, 0.016550207510590553, 0.029796786606311798, 0.02849467098712921, 0.0231088288128376, 0.022087063640356064, 0.04216556251049042, 0.024390200152993202, 0.020749151706695557, 0.038735855370759964, 0.02626977488398552, 0.027289122343063354, 0.019617389887571335, 0.0202428437769413, 0.02920321188867092, 0.03041335567831993, 0.025762634351849556, 0.04084981232881546, 0.0333266407251358, 0.02179528959095478, 0.026310516521334648, 0.031013496220111847, 0.0368926003575325, 0.019377175718545914, 0.043556053191423416, 0.009558655321598053, 0.0], [0.11396829038858414, 0.017752883955836296, 0.01606195606291294, 0.015585056506097317, 0.01839611865580082, 0.024367084726691246, 0.02605387754738331, 0.023999100551009178, 0.021919483318924904, 0.02625112235546112, 0.024730538949370384, 0.01532301027327776, 0.025614572688937187, 0.02633788250386715, 0.024982871487736702, 0.024642623960971832, 0.028590289875864983, 0.03295151889324188, 0.02756861038506031, 0.01848755031824112, 0.03220851346850395, 0.03191470727324486, 0.036307256668806076, 0.034154023975133896, 0.03678559511899948, 0.032977718859910965, 0.02627890184521675, 0.03809889778494835, 0.02980194427073002, 0.018183251842856407, 0.03632069006562233, 0.035680949687957764, 0.05770311504602432]], [[1.0, 0.0, 0.0, 0.0, 0.0, 0.0, 0.0, 0.0, 0.0, 0.0, 0.0, 0.0, 0.0, 0.0, 0.0, 0.0, 0.0, 0.0, 0.0, 0.0, 0.0, 0.0, 0.0, 0.0, 0.0, 0.0, 0.0, 0.0, 0.0, 0.0, 0.0, 0.0, 0.0], [0.8058416247367859, 0.1941583901643753, 0.0, 0.0, 0.0, 0.0, 0.0, 0.0, 0.0, 0.0, 0.0, 0.0, 0.0, 0.0, 0.0, 0.0, 0.0, 0.0, 0.0, 0.0, 0.0, 0.0, 0.0, 0.0, 0.0, 0.0, 0.0, 0.0, 0.0, 0.0, 0.0, 0.0, 0.0], [0.6373864412307739, 0.09672046452760696, 0.2658930718898773, 0.0, 0.0, 0.0, 0.0, 0.0, 0.0, 0.0, 0.0, 0.0, 0.0, 0.0, 0.0, 0.0, 0.0, 0.0, 0.0, 0.0, 0.0, 0.0, 0.0, 0.0, 0.0, 0.0, 0.0, 0.0, 0.0, 0.0, 0.0, 0.0, 0.0], [0.5870265364646912, 0.09922719746828079, 0.07913831621408463, 0.234607994556427, 0.0, 0.0, 0.0, 0.0, 0.0, 0.0, 0.0, 0.0, 0.0, 0.0, 0.0, 0.0, 0.0, 0.0, 0.0, 0.0, 0.0, 0.0, 0.0, 0.0, 0.0, 0.0, 0.0, 0.0, 0.0, 0.0, 0.0, 0.0, 0.0], [0.41947388648986816, 0.06312590837478638, 0.08123064041137695, 0.08381500840187073, 0.3523545563220978, 0.0, 0.0, 0.0, 0.0, 0.0, 0.0, 0.0, 0.0, 0.0, 0.0, 0.0, 0.0, 0.0, 0.0, 0.0, 0.0, 0.0, 0.0, 0.0, 0.0, 0.0, 0.0, 0.0, 0.0, 0.0, 0.0, 0.0, 0.0], [0.5308531522750854, 0.09590733051300049, 0.07779340445995331, 0.0666155144572258, 0.07293298095464706, 0.15589766204357147, 0.0, 0.0, 0.0, 0.0, 0.0, 0.0, 0.0, 0.0, 0.0, 0.0, 0.0, 0.0, 0.0, 0.0, 0.0, 0.0, 0.0, 0.0, 0.0, 0.0, 0.0, 0.0, 0.0, 0.0, 0.0, 0.0, 0.0], [0.38503074645996094, 0.0747809112071991, 0.06978147476911545, 0.04760652035474777, 0.05144915357232094, 0.08776704221963882, 0.2835841178894043, 0.0, 0.0, 0.0, 0.0, 0.0, 0.0, 0.0, 0.0, 0.0, 0.0, 0.0, 0.0, 0.0, 0.0, 0.0, 0.0, 0.0, 0.0, 0.0, 0.0, 0.0, 0.0, 0.0, 0.0, 0.0, 0.0], [0.29629573225975037, 0.05328269675374031, 0.06944748014211655, 0.04097547382116318, 0.06660831719636917, 0.1021856889128685, 0.10869503766298294, 0.2625095844268799, 0.0, 0.0, 0.0, 0.0, 0.0, 0.0, 0.0, 0.0, 0.0, 0.0, 0.0, 0.0, 0.0, 0.0, 0.0, 0.0, 0.0, 0.0, 0.0, 0.0, 0.0, 0.0, 0.0, 0.0, 0.0], [0.304749995470047, 0.06337986141443253, 0.057534221559762955, 0.040577203035354614, 0.073001429438591, 0.07375828176736832, 0.07239890843629837, 0.056936055421829224, 0.25766411423683167, 0.0, 0.0, 0.0, 0.0, 0.0, 0.0, 0.0, 0.0, 0.0, 0.0, 0.0, 0.0, 0.0, 0.0, 0.0, 0.0, 0.0, 0.0, 0.0, 0.0, 0.0, 0.0, 0.0, 0.0], [0.2988075911998749, 0.05552825704216957, 0.05443597957491875, 0.05285302922129631, 0.06568752229213715, 0.07554223388433456, 0.06968104094266891, 0.05411388725042343, 0.09120789915323257, 0.18214254081249237, 0.0, 0.0, 0.0, 0.0, 0.0, 0.0, 0.0, 0.0, 0.0, 0.0, 0.0, 0.0, 0.0, 0.0, 0.0, 0.0, 0.0, 0.0, 0.0, 0.0, 0.0, 0.0, 0.0], [0.26933014392852783, 0.06352432072162628, 0.05952122062444687, 0.05242471396923065, 0.06052158400416374, 0.12185832113027573, 0.07608655840158463, 0.09753073006868362, 0.042326074093580246, 0.05058327317237854, 0.10629309713840485, 0.0, 0.0, 0.0, 0.0, 0.0, 0.0, 0.0, 0.0, 0.0, 0.0, 0.0, 0.0, 0.0, 0.0, 0.0, 0.0, 0.0, 0.0, 0.0, 0.0, 0.0, 0.0], [0.22074303030967712, 0.06960076838731766, 0.048723481595516205, 0.06675717234611511, 0.06954210251569748, 0.06483787298202515, 0.046523746103048325, 0.039300840348005295, 0.018016096204519272, 0.035806313157081604, 0.053022872656583786, 0.2671256959438324, 0.0, 0.0, 0.0, 0.0, 0.0, 0.0, 0.0, 0.0, 0.0, 0.0, 0.0, 0.0, 0.0, 0.0, 0.0, 0.0, 0.0, 0.0, 0.0, 0.0, 0.0], [0.1508007049560547, 0.04732475057244301, 0.12551115453243256, 0.062400806695222855, 0.05354632809758186, 0.0557839460670948, 0.045426130294799805, 0.03888601064682007, 0.030199816450476646, 0.03337055817246437, 0.046459540724754333, 0.023437919095158577, 0.2868523597717285, 0.0, 0.0, 0.0, 0.0, 0.0, 0.0, 0.0, 0.0, 0.0, 0.0, 0.0, 0.0, 0.0, 0.0, 0.0, 0.0, 0.0, 0.0, 0.0, 0.0], [0.2044883519411087, 0.049720510840415955, 0.04838547110557556, 0.04385359585285187, 0.05115719139575958, 0.1007489413022995, 0.06420683860778809, 0.08302561193704605, 0.03880452364683151, 0.04795774444937706, 0.09582380205392838, 0.03239700570702553, 0.04441105201840401, 0.0950193703174591, 0.0, 0.0, 0.0, 0.0, 0.0, 0.0, 0.0, 0.0, 0.0, 0.0, 0.0, 0.0, 0.0, 0.0, 0.0, 0.0, 0.0, 0.0, 0.0], [0.1623673141002655, 0.028519170358777046, 0.047843087464571, 0.041354816406965256, 0.040284883230924606, 0.0520053468644619, 0.04226507246494293, 0.03821169212460518, 0.05986882746219635, 0.06849399209022522, 0.04734278842806816, 0.019715167582035065, 0.06202227622270584, 0.04572193697094917, 0.243983656167984, 0.0, 0.0, 0.0, 0.0, 0.0, 0.0, 0.0, 0.0, 0.0, 0.0, 0.0, 0.0, 0.0, 0.0, 0.0, 0.0, 0.0, 0.0], [0.13128933310508728, 0.03962811082601547, 0.05951940640807152, 0.039663225412368774, 0.04406356066465378, 0.04348496347665787, 0.037265483289957047, 0.032400358468294144, 0.037205733358860016, 0.06481602042913437, 0.040474530309438705, 0.025914233177900314, 0.06507597118616104, 0.03922512009739876, 0.07744194567203522, 0.2225319743156433, 0.0, 0.0, 0.0, 0.0, 0.0, 0.0, 0.0, 0.0, 0.0, 0.0, 0.0, 0.0, 0.0, 0.0, 0.0, 0.0, 0.0], [0.1581333875656128, 0.03911251947283745, 0.038564957678318024, 0.03587969020009041, 0.04187794029712677, 0.08161000907421112, 0.05245806649327278, 0.0681268572807312, 0.03444806858897209, 0.04342752695083618, 0.08275996893644333, 0.029333394020795822, 0.041573792695999146, 0.08478688448667526, 0.0488160066306591, 0.03235284611582756, 0.08673813194036484, 0.0, 0.0, 0.0, 0.0, 0.0, 0.0, 0.0, 0.0, 0.0, 0.0, 0.0, 0.0, 0.0, 0.0, 0.0, 0.0], [0.13890594244003296, 0.03169633448123932, 0.03251555934548378, 0.03538899123668671, 0.038000334054231644, 0.06974424421787262, 0.05942455306649208, 0.06768239289522171, 0.02784380502998829, 0.03905468061566353, 0.07273103296756744, 0.03010985627770424, 0.04163092374801636, 0.07565011084079742, 0.04018832743167877, 0.027483614161610603, 0.0779590830206871, 0.09399019181728363, 0.0, 0.0, 0.0, 0.0, 0.0, 0.0, 0.0, 0.0, 0.0, 0.0, 0.0, 0.0, 0.0, 0.0, 0.0], [0.0969129130244255, 0.030687306076288223, 0.03081795573234558, 0.044734321534633636, 0.04171941801905632, 0.03603675588965416, 0.04101702943444252, 0.03210475295782089, 0.043440621346235275, 0.04885553568601608, 0.03457901254296303, 0.01602509431540966, 0.04994165152311325, 0.0346352681517601, 0.060656871646642685, 0.03497787564992905, 0.034543417394161224, 0.03782793506979942, 0.25048622488975525, 0.0, 0.0, 0.0, 0.0, 0.0, 0.0, 0.0, 0.0, 0.0, 0.0, 0.0, 0.0, 0.0, 0.0], [0.12059212476015091, 0.04121065139770508, 0.0509851798415184, 0.05289151892066002, 0.02886129543185234, 0.04706200212240219, 0.029212836176156998, 0.03817000985145569, 0.021046482026576996, 0.029787806794047356, 0.04406720772385597, 0.026503343135118484, 0.04127003252506256, 0.044307366013526917, 0.030801543965935707, 0.04064902663230896, 0.04474509879946709, 0.04212244972586632, 0.02844228222966194, 0.19727174937725067, 0.0, 0.0, 0.0, 0.0, 0.0, 0.0, 0.0, 0.0, 0.0, 0.0, 0.0, 0.0, 0.0], [0.11388303339481354, 0.0282554030418396, 0.028351284563541412, 0.026958676055073738, 0.03131087124347687, 0.05977547541260719, 0.0391821414232254, 0.050720397382974625, 0.027684012427926064, 0.03556423261761665, 0.06452133506536484, 0.02426709048449993, 0.03616494685411453, 0.06838168948888779, 0.04139300808310509, 0.0290946364402771, 0.072300486266613, 0.07349380105733871, 0.037000205367803574, 0.0352863185107708, 0.07641095668077469, 0.0, 0.0, 0.0, 0.0, 0.0, 0.0, 0.0, 0.0, 0.0, 0.0, 0.0, 0.0], [0.08453850448131561, 0.01741660200059414, 0.018949145451188087, 0.016560643911361694, 0.022296123206615448, 0.041740600019693375, 0.05894864350557327, 0.03893361613154411, 0.030214643105864525, 0.034642335027456284, 0.0483190156519413, 0.016358429566025734, 0.025674551725387573, 0.05309673771262169, 0.020546523854136467, 0.020469821989536285, 0.05704641342163086, 0.06604909896850586, 0.03774644434452057, 0.02141387201845646, 0.06129929795861244, 0.20773889124393463, 0.0, 0.0, 0.0, 0.0, 0.0, 0.0, 0.0, 0.0, 0.0, 0.0, 0.0], [0.11248442530632019, 0.024394841864705086, 0.02452315017580986, 0.02748955972492695, 0.02610466256737709, 0.03731505572795868, 0.06748532503843307, 0.038903750479221344, 0.017981430515646935, 0.02845439501106739, 0.03756531700491905, 0.018326066434383392, 0.02008865773677826, 0.038651712238788605, 0.023285651579499245, 0.024226615205407143, 0.03960611671209335, 0.048331886529922485, 0.045000940561294556, 0.017362145707011223, 0.04009139910340309, 0.05208287388086319, 0.19024404883384705, 0.0, 0.0, 0.0, 0.0, 0.0, 0.0, 0.0, 0.0, 0.0, 0.0], [0.08183357119560242, 0.019828448072075844, 0.026873379945755005, 0.029252557083964348, 0.02518443763256073, 0.031927723437547684, 0.029049793258309364, 0.02497251331806183, 0.033506255596876144, 0.040074288845062256, 0.03351731225848198, 0.016035988926887512, 0.03204454109072685, 0.034480638802051544, 0.028517095372080803, 0.03532731160521507, 0.035832274705171585, 0.04058394953608513, 0.029941091313958168, 0.02109791524708271, 0.03671329468488693, 0.039212584495544434, 0.03543240204453468, 0.23876062035560608, 0.0, 0.0, 0.0, 0.0, 0.0, 0.0, 0.0, 0.0, 0.0], [0.10145691782236099, 0.014237051829695702, 0.01698417402803898, 0.018636569380760193, 0.028536252677440643, 0.036538027226924896, 0.029570510610938072, 0.04198319837450981, 0.014166036620736122, 0.03008139878511429, 0.040166404098272324, 0.020075026899576187, 0.030370136722922325, 0.04353441670536995, 0.030393028631806374, 0.020717335864901543, 0.046771109104156494, 0.0549510158598423, 0.02880917862057686, 0.020043686032295227, 0.05092542991042137, 0.040844667702913284, 0.041858017444610596, 0.038489777594804764, 0.15986065566539764, 0.0, 0.0, 0.0, 0.0, 0.0, 0.0, 0.0, 0.0], [0.07937925308942795, 0.020674310624599457, 0.020799752324819565, 0.027988232672214508, 0.045654766261577606, 0.02656259387731552, 0.025396713986992836, 0.021243249997496605, 0.01776379905641079, 0.02520064450800419, 0.027576463297009468, 0.030607089400291443, 0.034380000084638596, 0.028568314388394356, 0.022726934403181076, 0.01605195552110672, 0.02971273474395275, 0.03276180103421211, 0.025702400133013725, 0.012878884561359882, 0.03062613308429718, 0.020369650796055794, 0.037413906306028366, 0.027850383892655373, 0.035718515515327454, 0.27639153599739075, 0.0, 0.0, 0.0, 0.0, 0.0, 0.0, 0.0], [0.09605436027050018, 0.023092886433005333, 0.024199651554226875, 0.024974139407277107, 0.0368296317756176, 0.030014391988515854, 0.021069219335913658, 0.018117520958185196, 0.022569265216588974, 0.028343217447400093, 0.030505135655403137, 0.021707676351070404, 0.02821178548038006, 0.031639423221349716, 0.03916611894965172, 0.03627365082502365, 0.03311571106314659, 0.035143956542015076, 0.02574523724615574, 0.01588900201022625, 0.03467546030879021, 0.026770081371068954, 0.02714345045387745, 0.0404508039355278, 0.037603843957185745, 0.03232335299253464, 0.17837102711200714, 0.0, 0.0, 0.0, 0.0, 0.0, 0.0], [0.07476938515901566, 0.011021516285836697, 0.01070655882358551, 0.015325463376939297, 0.01990356855094433, 0.03285866975784302, 0.021936070173978806, 0.029454143717885017, 0.016421500593423843, 0.022476596757769585, 0.0372234471142292, 0.01758023165166378, 0.021954143419861794, 0.04046213626861572, 0.03141540661454201, 0.010417777113616467, 0.044297389686107635, 0.05118126422166824, 0.029565559700131416, 0.015394332818686962, 0.049064263701438904, 0.032021939754486084, 0.030905116349458694, 0.04132053256034851, 0.06578272581100464, 0.03978404030203819, 0.020499689504504204, 0.16625653207302094, 0.0, 0.0, 0.0, 0.0, 0.0], [0.05124204233288765, 0.01139003038406372, 0.02026580274105072, 0.02452964521944523, 0.1273244023323059, 0.02008391171693802, 0.017692746594548225, 0.020381979644298553, 0.018548617139458656, 0.023206070065498352, 0.021026061847805977, 0.02052122913300991, 0.025210727006196976, 0.021994244307279587, 0.017190471291542053, 0.02080591209232807, 0.023035308346152306, 0.026458045467734337, 0.03108612634241581, 0.011454470455646515, 0.0243579912930727, 0.022524958476424217, 0.024600781500339508, 0.024588005617260933, 0.02838081866502762, 0.04660610482096672, 0.043627072125673294, 0.02030046097934246, 0.2115659862756729, 0.0, 0.0, 0.0, 0.0], [0.07929293066263199, 0.023537376895546913, 0.022847287356853485, 0.019936038181185722, 0.01546288188546896, 0.025110289454460144, 0.02142905443906784, 0.015073493123054504, 0.009924100711941719, 0.015724748373031616, 0.027188707143068314, 0.020747287198901176, 0.034976352006196976, 0.029102331027388573, 0.021219028159976006, 0.01814761385321617, 0.03105819784104824, 0.033809490501880646, 0.020137563347816467, 0.012323124334216118, 0.033692628145217896, 0.02433612570166588, 0.031084518879652023, 0.03377702087163925, 0.04355442896485329, 0.03296351805329323, 0.033149294555187225, 0.025364907458424568, 0.02216368354856968, 0.2228659689426422, 0.0, 0.0, 0.0], [0.10059654712677002, 0.030963758006691933, 0.02557850442826748, 0.020224062725901604, 0.027132989838719368, 0.02949076145887375, 0.0407448448240757, 0.021403618156909943, 0.01639261096715927, 0.022520694881677628, 0.02755516953766346, 0.01359920110553503, 0.027306705713272095, 0.027806581929326057, 0.011214186437427998, 0.023586532101035118, 0.02839917503297329, 0.03066890873014927, 0.021664202213287354, 0.017032314091920853, 0.029051588848233223, 0.02654993161559105, 0.03297555074095726, 0.026790328323841095, 0.032060656696558, 0.027298346161842346, 0.017307184636592865, 0.01876881718635559, 0.028226511552929878, 0.017085107043385506, 0.18000464141368866, 0.0, 0.0], [0.08361608535051346, 0.016581891104578972, 0.015823297202587128, 0.022005164995789528, 0.024062547832727432, 0.021028297021985054, 0.022811289876699448, 0.014412393793463707, 0.015572089701890945, 0.01510483119636774, 0.020917728543281555, 0.021798159927129745, 0.025985978543758392, 0.02201320417225361, 0.022025058045983315, 0.018091214820742607, 0.02311510592699051, 0.02545180171728134, 0.025943521410226822, 0.011241883970797062, 0.024466171860694885, 0.02286989614367485, 0.03161344304680824, 0.029542678967118263, 0.02381790615618229, 0.029349014163017273, 0.025922635570168495, 0.017268190160393715, 0.03184458985924721, 0.012037737295031548, 0.027524925768375397, 0.2561413049697876, 0.0], [0.052584413439035416, 0.01250837929546833, 0.012737675569951534, 0.012144201435148716, 0.014467819593846798, 0.024812445044517517, 0.01710914447903633, 0.02516256272792816, 0.016298966482281685, 0.015160084702074528, 0.029820039868354797, 0.014290270395576954, 0.02409479208290577, 0.03374277427792549, 0.02163226157426834, 0.018924104049801826, 0.03819216415286064, 0.04115181788802147, 0.02416577935218811, 0.020635632798075676, 0.0441853329539299, 0.03793710097670555, 0.02963634952902794, 0.031528402119874954, 0.045423075556755066, 0.03596360236406326, 0.03048253245651722, 0.04609916731715202, 0.03206763416528702, 0.017662934958934784, 0.03169599547982216, 0.044629115611314774, 0.10305343568325043]], [[1.0, 0.0, 0.0, 0.0, 0.0, 0.0, 0.0, 0.0, 0.0, 0.0, 0.0, 0.0, 0.0, 0.0, 0.0, 0.0, 0.0, 0.0, 0.0, 0.0, 0.0, 0.0, 0.0, 0.0, 0.0, 0.0, 0.0, 0.0, 0.0, 0.0, 0.0, 0.0, 0.0], [0.770771324634552, 0.22922863066196442, 0.0, 0.0, 0.0, 0.0, 0.0, 0.0, 0.0, 0.0, 0.0, 0.0, 0.0, 0.0, 0.0, 0.0, 0.0, 0.0, 0.0, 0.0, 0.0, 0.0, 0.0, 0.0, 0.0, 0.0, 0.0, 0.0, 0.0, 0.0, 0.0, 0.0, 0.0], [0.7813624739646912, 0.10978531837463379, 0.10885230451822281, 0.0, 0.0, 0.0, 0.0, 0.0, 0.0, 0.0, 0.0, 0.0, 0.0, 0.0, 0.0, 0.0, 0.0, 0.0, 0.0, 0.0, 0.0, 0.0, 0.0, 0.0, 0.0, 0.0, 0.0, 0.0, 0.0, 0.0, 0.0, 0.0, 0.0], [0.5350390672683716, 0.11194942891597748, 0.15013688802719116, 0.20287461578845978, 0.0, 0.0, 0.0, 0.0, 0.0, 0.0, 0.0, 0.0, 0.0, 0.0, 0.0, 0.0, 0.0, 0.0, 0.0, 0.0, 0.0, 0.0, 0.0, 0.0, 0.0, 0.0, 0.0, 0.0, 0.0, 0.0, 0.0, 0.0, 0.0], [0.41803595423698425, 0.16036377847194672, 0.10740306228399277, 0.10625774413347244, 0.20793944597244263, 0.0, 0.0, 0.0, 0.0, 0.0, 0.0, 0.0, 0.0, 0.0, 0.0, 0.0, 0.0, 0.0, 0.0, 0.0, 0.0, 0.0, 0.0, 0.0, 0.0, 0.0, 0.0, 0.0, 0.0, 0.0, 0.0, 0.0, 0.0], [0.4349866509437561, 0.09579858183860779, 0.08251801133155823, 0.10028500109910965, 0.15332910418510437, 0.13308259844779968, 0.0, 0.0, 0.0, 0.0, 0.0, 0.0, 0.0, 0.0, 0.0, 0.0, 0.0, 0.0, 0.0, 0.0, 0.0, 0.0, 0.0, 0.0, 0.0, 0.0, 0.0, 0.0, 0.0, 0.0, 0.0, 0.0, 0.0], [0.44621357321739197, 0.05624215304851532, 0.05040302127599716, 0.07084289938211441, 0.09360906481742859, 0.114726223051548, 0.16796304285526276, 0.0, 0.0, 0.0, 0.0, 0.0, 0.0, 0.0, 0.0, 0.0, 0.0, 0.0, 0.0, 0.0, 0.0, 0.0, 0.0, 0.0, 0.0, 0.0, 0.0, 0.0, 0.0, 0.0, 0.0, 0.0, 0.0], [0.3609195351600647, 0.07294462621212006, 0.051910094916820526, 0.07159044593572617, 0.09321668744087219, 0.09543667733669281, 0.14539915323257446, 0.10858277976512909, 0.0, 0.0, 0.0, 0.0, 0.0, 0.0, 0.0, 0.0, 0.0, 0.0, 0.0, 0.0, 0.0, 0.0, 0.0, 0.0, 0.0, 0.0, 0.0, 0.0, 0.0, 0.0, 0.0, 0.0, 0.0], [0.31714075803756714, 0.07683128118515015, 0.05552283301949501, 0.06445363909006119, 0.08586591482162476, 0.10643254220485687, 0.14521129429340363, 0.09439337998628616, 0.05414830520749092, 0.0, 0.0, 0.0, 0.0, 0.0, 0.0, 0.0, 0.0, 0.0, 0.0, 0.0, 0.0, 0.0, 0.0, 0.0, 0.0, 0.0, 0.0, 0.0, 0.0, 0.0, 0.0, 0.0, 0.0], [0.192886084318161, 0.11343871057033539, 0.04530505836009979, 0.08361202478408813, 0.05763271078467369, 0.11914202570915222, 0.11441225558519363, 0.12364514917135239, 0.07640957087278366, 0.07351641356945038, 0.0, 0.0, 0.0, 0.0, 0.0, 0.0, 0.0, 0.0, 0.0, 0.0, 0.0, 0.0, 0.0, 0.0, 0.0, 0.0, 0.0, 0.0, 0.0, 0.0, 0.0, 0.0, 0.0], [0.251740962266922, 0.06019410863518715, 0.049302101135253906, 0.05922321975231171, 0.08453335613012314, 0.07307682186365128, 0.12308558821678162, 0.08293970674276352, 0.06380268186330795, 0.07185834646224976, 0.0802430734038353, 0.0, 0.0, 0.0, 0.0, 0.0, 0.0, 0.0, 0.0, 0.0, 0.0, 0.0, 0.0, 0.0, 0.0, 0.0, 0.0, 0.0, 0.0, 0.0, 0.0, 0.0, 0.0], [0.24793611466884613, 0.048557721078395844, 0.061716947704553604, 0.06616783142089844, 0.08788597583770752, 0.059203870594501495, 0.09128589928150177, 0.06866814941167831, 0.060628630220890045, 0.08399353176355362, 0.06569414585828781, 0.058261170983314514, 0.0, 0.0, 0.0, 0.0, 0.0, 0.0, 0.0, 0.0, 0.0, 0.0, 0.0, 0.0, 0.0, 0.0, 0.0, 0.0, 0.0, 0.0, 0.0, 0.0, 0.0], [0.15039604902267456, 0.07072298228740692, 0.0361880362033844, 0.03812886029481888, 0.05496574565768242, 0.0955280065536499, 0.1278020143508911, 0.09101752191781998, 0.041339460760354996, 0.06619425117969513, 0.11493081599473953, 0.035268157720565796, 0.07751808315515518, 0.0, 0.0, 0.0, 0.0, 0.0, 0.0, 0.0, 0.0, 0.0, 0.0, 0.0, 0.0, 0.0, 0.0, 0.0, 0.0, 0.0, 0.0, 0.0, 0.0], [0.21730753779411316, 0.05224873125553131, 0.042796868830919266, 0.05130989849567413, 0.07021072506904602, 0.060848649591207504, 0.10094168782234192, 0.06729139387607574, 0.053472671657800674, 0.05803241580724716, 0.0638660117983818, 0.041436824947595596, 0.054298121482133865, 0.06593842804431915, 0.0, 0.0, 0.0, 0.0, 0.0, 0.0, 0.0, 0.0, 0.0, 0.0, 0.0, 0.0, 0.0, 0.0, 0.0, 0.0, 0.0, 0.0, 0.0], [0.1415899097919464, 0.08735612779855728, 0.041096288710832596, 0.07771316915750504, 0.0664159283041954, 0.06084614619612694, 0.07890866696834564, 0.06467180699110031, 0.04156752675771713, 0.05314025655388832, 0.06033194065093994, 0.04990345984697342, 0.06147689372301102, 0.06152055040001869, 0.053461313247680664, 0.0, 0.0, 0.0, 0.0, 0.0, 0.0, 0.0, 0.0, 0.0, 0.0, 0.0, 0.0, 0.0, 0.0, 0.0, 0.0, 0.0, 0.0], [0.11277396976947784, 0.05140271037817001, 0.034800734370946884, 0.04410991072654724, 0.049271032214164734, 0.08066023141145706, 0.09371133148670197, 0.07634282112121582, 0.034600723534822464, 0.05556501820683479, 0.09000369161367416, 0.027950910851359367, 0.05808687582612038, 0.09759880602359772, 0.0585305392742157, 0.03459077328443527, 0.0, 0.0, 0.0, 0.0, 0.0, 0.0, 0.0, 0.0, 0.0, 0.0, 0.0, 0.0, 0.0, 0.0, 0.0, 0.0, 0.0], [0.1913679540157318, 0.04588799551129341, 0.037184204906225204, 0.04478845372796059, 0.05845539644360542, 0.05162312462925911, 0.0845179632306099, 0.05661730468273163, 0.044779229909181595, 0.04681583121418953, 0.05177522823214531, 0.034743089228868484, 0.043655913323163986, 0.052577562630176544, 0.04571909084916115, 0.05523937568068504, 0.054252248257398605, 0.0, 0.0, 0.0, 0.0, 0.0, 0.0, 0.0, 0.0, 0.0, 0.0, 0.0, 0.0, 0.0, 0.0, 0.0, 0.0], [0.17809870839118958, 0.03651317209005356, 0.03537803888320923, 0.046600591391325, 0.056067463010549545, 0.05542531982064247, 0.06580901145935059, 0.058695919811725616, 0.044602081179618835, 0.03845333680510521, 0.05522067844867706, 0.028129279613494873, 0.03887630254030228, 0.05635211244225502, 0.04307202994823456, 0.04859212040901184, 0.05801299214363098, 0.056100837886333466, 0.0, 0.0, 0.0, 0.0, 0.0, 0.0, 0.0, 0.0, 0.0, 0.0, 0.0, 0.0, 0.0, 0.0, 0.0], [0.11277125775814056, 0.044163405895233154, 0.016790850088000298, 0.03922898322343826, 0.03057023137807846, 0.08429384231567383, 0.05829831212759018, 0.0798557847738266, 0.027740219607949257, 0.024607930332422256, 0.08568024635314941, 0.012135535478591919, 0.02122361958026886, 0.08979953825473785, 0.024395624175667763, 0.018000075593590736, 0.09797864407300949, 0.08564860373735428, 0.04681730270385742, 0.0, 0.0, 0.0, 0.0, 0.0, 0.0, 0.0, 0.0, 0.0, 0.0, 0.0, 0.0, 0.0, 0.0], [0.15648680925369263, 0.043593358248472214, 0.02946913242340088, 0.023382773622870445, 0.039893925189971924, 0.06601448357105255, 0.07239896059036255, 0.04959878697991371, 0.025720052421092987, 0.028729885816574097, 0.07268748432397842, 0.020104363560676575, 0.03894992545247078, 0.0779348835349083, 0.03185016289353371, 0.02957260049879551, 0.08162926882505417, 0.04983028024435043, 0.047570835798978806, 0.014582021161913872, 0.0, 0.0, 0.0, 0.0, 0.0, 0.0, 0.0, 0.0, 0.0, 0.0, 0.0, 0.0, 0.0], [0.16675159335136414, 0.04021674022078514, 0.031946275383234024, 0.03915552794933319, 0.048679742962121964, 0.04351935535669327, 0.07027734816074371, 0.04676979407668114, 0.037370454519987106, 0.03785950690507889, 0.041853491216897964, 0.02943878434598446, 0.03496701642870903, 0.041871555149555206, 0.0366595983505249, 0.0441894605755806, 0.042447008192539215, 0.043090008199214935, 0.05540823936462402, 0.024029981344938278, 0.04349851235747337, 0.0, 0.0, 0.0, 0.0, 0.0, 0.0, 0.0, 0.0, 0.0, 0.0, 0.0, 0.0], [0.2131170779466629, 0.034521475434303284, 0.026512041687965393, 0.037284672260284424, 0.04200231656432152, 0.053780730813741684, 0.06410717964172363, 0.04019588977098465, 0.029513953253626823, 0.03056207299232483, 0.04814048856496811, 0.01964573934674263, 0.02385598234832287, 0.04712359607219696, 0.027805237099528313, 0.025632821023464203, 0.04690320044755936, 0.04211500659584999, 0.04245341569185257, 0.016209976747632027, 0.04720152169466019, 0.04131559282541275, 0.0, 0.0, 0.0, 0.0, 0.0, 0.0, 0.0, 0.0, 0.0, 0.0, 0.0], [0.16099107265472412, 0.031492121517658234, 0.02550600655376911, 0.03203628957271576, 0.0381193533539772, 0.05386463552713394, 0.052892010658979416, 0.06297365576028824, 0.03872941806912422, 0.030703017488121986, 0.0486149936914444, 0.016964133828878403, 0.020984871312975883, 0.04743489995598793, 0.02617856301367283, 0.03281703591346741, 0.04874098673462868, 0.03702306002378464, 0.050284430384635925, 0.014425945468246937, 0.04926921799778938, 0.027485141530632973, 0.052469123154878616, 0.0, 0.0, 0.0, 0.0, 0.0, 0.0, 0.0, 0.0, 0.0, 0.0], [0.13924191892147064, 0.04732194542884827, 0.02292008139193058, 0.03782673180103302, 0.037331584841012955, 0.05628197267651558, 0.06773105263710022, 0.06383746862411499, 0.02882455661892891, 0.028368618339300156, 0.05008404701948166, 0.014775179326534271, 0.021058909595012665, 0.04819713532924652, 0.017685117200016975, 0.015456230379641056, 0.048427991569042206, 0.03709954395890236, 0.04247327521443367, 0.018426816910505295, 0.0486132986843586, 0.0226739589124918, 0.05998959764838219, 0.025352945551276207, 0.0, 0.0, 0.0, 0.0, 0.0, 0.0, 0.0, 0.0, 0.0], [0.19562356173992157, 0.03233327344059944, 0.02287409082055092, 0.03839075192809105, 0.034498780965805054, 0.04616905376315117, 0.05553748086094856, 0.03960667923092842, 0.02309838868677616, 0.02424929104745388, 0.04043305292725563, 0.01607854664325714, 0.021624943241477013, 0.03903057426214218, 0.026520876213908195, 0.028113437816500664, 0.038236282765865326, 0.03542610630393028, 0.04174574837088585, 0.021097131073474884, 0.037679556757211685, 0.03728692606091499, 0.04423922300338745, 0.02292153239250183, 0.0371846929192543, 0.0, 0.0, 0.0, 0.0, 0.0, 0.0, 0.0, 0.0], [0.0581965409219265, 0.038897398859262466, 0.02600523643195629, 0.02356790192425251, 0.022979972884058952, 0.05384150892496109, 0.05806104838848114, 0.06858772039413452, 0.037459846585989, 0.029159104451537132, 0.05474672093987465, 0.013592950068414211, 0.027647051960229874, 0.055754031985998154, 0.030779870226979256, 0.01613735593855381, 0.05745427682995796, 0.03968727961182594, 0.03406553715467453, 0.01311096828430891, 0.05977655202150345, 0.01604376919567585, 0.029699280858039856, 0.020566539838910103, 0.08347288519144058, 0.03070860728621483, 0.0, 0.0, 0.0, 0.0, 0.0, 0.0, 0.0], [0.15561483800411224, 0.03032318688929081, 0.021067576482892036, 0.038600414991378784, 0.02508925274014473, 0.047195207327604294, 0.04255647584795952, 0.051662594079971313, 0.03036811389029026, 0.020133620128035545, 0.04255695268511772, 0.018511774018406868, 0.018671737983822823, 0.04143030568957329, 0.022022107616066933, 0.02106102742254734, 0.0416661836206913, 0.02724921889603138, 0.04048159345984459, 0.015536422841250896, 0.042196206748485565, 0.01700735278427601, 0.062209486961364746, 0.01570315845310688, 0.05443188175559044, 0.040924105793237686, 0.015729233622550964, 0.0, 0.0, 0.0, 0.0, 0.0, 0.0], [0.1521887630224228, 0.03232046961784363, 0.026277609169483185, 0.03215135633945465, 0.03708053007721901, 0.03843332827091217, 0.0421852171421051, 0.034409210085868835, 0.02929617278277874, 0.024752270430326462, 0.03461230546236038, 0.021795084699988365, 0.023419693112373352, 0.03386644273996353, 0.02858060970902443, 0.03440327197313309, 0.033156950026750565, 0.026710405945777893, 0.04213564097881317, 0.019021354615688324, 0.0327858068048954, 0.026840006932616234, 0.03304456174373627, 0.02330263890326023, 0.03390035778284073, 0.039449241012334824, 0.021334229037165642, 0.04254643991589546, 0.0, 0.0, 0.0, 0.0, 0.0], [0.10210397839546204, 0.048305314034223557, 0.027957914397120476, 0.028134861961007118, 0.04368894174695015, 0.037659622728824615, 0.04012181982398033, 0.03589579835534096, 0.024491775780916214, 0.019768044352531433, 0.03467407450079918, 0.015431455336511135, 0.03261655941605568, 0.03414339944720268, 0.027461359277367592, 0.02032320387661457, 0.03445839881896973, 0.01582758128643036, 0.030705822631716728, 0.020360926166176796, 0.03558044135570526, 0.0347902812063694, 0.035181477665901184, 0.028572585433721542, 0.04333387687802315, 0.03896387666463852, 0.017587676644325256, 0.04553379490971565, 0.04632510617375374, 0.0, 0.0, 0.0, 0.0], [0.11841742694377899, 0.026689782738685608, 0.02854764834046364, 0.03516457602381706, 0.03519093245267868, 0.03070487268269062, 0.04254688322544098, 0.023103507235646248, 0.025463121011853218, 0.02967853471636772, 0.028395213186740875, 0.019178250804543495, 0.02383357658982277, 0.027640026062726974, 0.03381752595305443, 0.0396401509642601, 0.027574429288506508, 0.021856173872947693, 0.039667658507823944, 0.039418306201696396, 0.02711561881005764, 0.030498087406158447, 0.034932833164930344, 0.0323205403983593, 0.027840549126267433, 0.03877577558159828, 0.021124782040715218, 0.03861142322421074, 0.03277178853750229, 0.019479982554912567, 0.0, 0.0, 0.0], [0.05433793365955353, 0.019247835502028465, 0.011686453595757484, 0.014118611812591553, 0.0139097785577178, 0.05736803635954857, 0.0345463789999485, 0.04665059968829155, 0.013026449829339981, 0.01327129639685154, 0.05952772498130798, 0.00906314142048359, 0.017364198341965675, 0.061355624347925186, 0.012634649872779846, 0.015145535580813885, 0.06425533443689346, 0.04627063870429993, 0.01955636404454708, 0.012543466873466969, 0.06913556903600693, 0.03482368215918541, 0.030005956068634987, 0.012261821888387203, 0.07985592633485794, 0.01899643987417221, 0.010722929611802101, 0.0865454226732254, 0.017174087464809418, 0.022144166752696037, 0.022453971207141876, 0.0, 0.0], [0.05849647521972656, 0.03437737002968788, 0.013603095896542072, 0.02417042665183544, 0.019005851820111275, 0.065464086830616, 0.03062298148870468, 0.035732053220272064, 0.01885944977402687, 0.012241484597325325, 0.06282185763120651, 0.01183574739843607, 0.009552356787025928, 0.06431793421506882, 0.021589573472738266, 0.01091296598315239, 0.06665909290313721, 0.023997457697987556, 0.02659675106406212, 0.006153560243546963, 0.06984324753284454, 0.037238702178001404, 0.030046723783016205, 0.021686824038624763, 0.0436406135559082, 0.02120962366461754, 0.013490453362464905, 0.04632721468806267, 0.020434493198990822, 0.013362261466681957, 0.018568992614746094, 0.04714023694396019, 0.0], [0.13528689742088318, 0.029733378440141678, 0.026111334562301636, 0.03753574565052986, 0.038881558924913406, 0.033166784793138504, 0.04824390634894371, 0.030468298122286797, 0.02603820152580738, 0.02412370778620243, 0.027892732992768288, 0.022709934040904045, 0.02418528124690056, 0.0261145681142807, 0.023209664970636368, 0.025175288319587708, 0.024614788591861725, 0.02112315595149994, 0.02968505769968033, 0.018167482689023018, 0.02306438609957695, 0.02059808187186718, 0.034411415457725525, 0.021083403378725052, 0.022538835182785988, 0.03228156268596649, 0.013987245038151741, 0.024144938215613365, 0.027002299204468727, 0.012929447926580906, 0.03616537153720856, 0.026840222999453545, 0.03248501569032669]]]}\n",
       "    )\n",
       "    </script>"
      ],
      "text/plain": [
       "<circuitsvis.utils.render.RenderedHTML at 0x7fa3b70a5070>"
      ]
     },
     "execution_count": 15,
     "metadata": {},
     "output_type": "execute_result"
    }
   ],
   "source": [
    "print(\"Layer 0 Head Attention Patterns:\")\n",
    "cv.attention.attention_patterns(tokens=gpt2_str_tokens, attention=attention_pattern)"
   ]
  },
  {
   "cell_type": "markdown",
   "metadata": {
    "id": "BblyB3vQHtgM"
   },
   "source": [
    "## Hooks: Intervening on Activations"
   ]
  },
  {
   "cell_type": "markdown",
   "metadata": {
    "id": "jzZemyvvHtgM"
   },
   "source": [
    "One of the great things about interpreting neural networks is that we have *full control* over our system. From a computational perspective, we know exactly what operations are going on inside (even if we don't know what they mean!). And we can make precise, surgical edits and see how the model's behaviour and other internals change. This is an extremely powerful tool, because it can let us eg set up careful counterfactuals and causal intervention to easily understand model behaviour.\n",
    "\n",
    "Accordingly, being able to do this is a pretty core operation, and this is one of the main things TransformerLens supports! The key feature here is **hook points**. Every activation inside the transformer is surrounded by a hook point, which allows us to edit or intervene on it.\n",
    "\n",
    "We do this by adding a **hook function** to that activation. The hook function maps `current_activation_value, hook_point` to `new_activation_value`. As the model is run, it computes that activation as normal, and then the hook function is applied to compute a replacement, and that is substituted in for the activation. The hook function can be an arbitrary Python function, so long as it returns a tensor of the correct shape.\n",
    "\n",
    "<details><summary>Relationship to PyTorch hooks</summary>\n",
    "\n",
    "[PyTorch hooks](https://blog.paperspace.com/pytorch-hooks-gradient-clipping-debugging/) are a great and underrated, yet incredibly janky, feature. They can act on a layer, and edit the input or output of that layer, or the gradient when applying autodiff. The key difference is that **Hook points** act on *activations* not layers. This means that you can intervene within a layer on each activation, and don't need to care about the precise layer structure of the transformer. And it's immediately clear exactly how the hook's effect is applied. This adjustment was shamelessly inspired by [Garcon's use of ProbePoints](https://transformer-circuits.pub/2021/garcon/index.html).\n",
    "\n",
    "They also come with a range of other quality of life improvements, like the model having a `model.reset_hooks()` method to remove all hooks, or helper methods to temporarily add hooks for a single forward pass - it is *incredibly* easy to shoot yourself in the foot with standard PyTorch hooks!\n",
    "</details>"
   ]
  },
  {
   "cell_type": "markdown",
   "metadata": {
    "id": "SV0gAawvHtgM"
   },
   "source": [
    "As a basic example, let's [ablate](https://dynalist.io/d/n2ZWtnoYHrU1s4vnFSAQ519J#z=fh-HJyz1CgUVrXuoiban6bYx) head 7 in layer 0 on the text above.\n",
    "\n",
    "We define a `head_ablation_hook` function. This takes the value tensor for attention layer 0, and sets the component with `head_index==7` to zero and returns it (Note - we return by convention, but since we're editing the activation in-place, we don't strictly *need* to).\n",
    "\n",
    "We then use the `run_with_hooks` helper function to run the model and *temporarily* add in the hook for just this run. We enter in the hook as a tuple of the activation name (also the hook point name - found with `utils.get_act_name`) and the hook function."
   ]
  },
  {
   "cell_type": "code",
   "execution_count": 16,
   "metadata": {
    "colab": {
     "base_uri": "https://localhost:8080/"
    },
    "id": "H_QZs1HKHtgN",
    "outputId": "e1362a29-a106-465e-d038-a753bc8b2e90"
   },
   "outputs": [
    {
     "name": "stdout",
     "output_type": "stream",
     "text": [
      "Shape of the value tensor: torch.Size([1, 33, 12, 64])\n",
      "Original Loss: 3.999\n",
      "Ablated Loss: 5.453\n"
     ]
    }
   ],
   "source": [
    "layer_to_ablate = 0\n",
    "head_index_to_ablate = 8\n",
    "\n",
    "# We define a head ablation hook\n",
    "# The type annotations are NOT necessary, they're just a useful guide to the reader\n",
    "#\n",
    "def head_ablation_hook(\n",
    "    value: Float[torch.Tensor, \"batch pos head_index d_head\"],\n",
    "    hook: HookPoint\n",
    ") -> Float[torch.Tensor, \"batch pos head_index d_head\"]:\n",
    "    print(f\"Shape of the value tensor: {value.shape}\")\n",
    "    value[:, :, head_index_to_ablate, :] = 0.\n",
    "    return value\n",
    "\n",
    "original_loss = model(gpt2_tokens, return_type=\"loss\")\n",
    "ablated_loss = model.run_with_hooks(\n",
    "    gpt2_tokens,\n",
    "    return_type=\"loss\",\n",
    "    fwd_hooks=[(\n",
    "        utils.get_act_name(\"v\", layer_to_ablate),\n",
    "        head_ablation_hook\n",
    "        )]\n",
    "    )\n",
    "print(f\"Original Loss: {original_loss.item():.3f}\")\n",
    "print(f\"Ablated Loss: {ablated_loss.item():.3f}\")"
   ]
  },
  {
   "cell_type": "markdown",
   "metadata": {
    "id": "BYPwIGLyHtgN"
   },
   "source": [
    "**Gotcha:** Hooks are global state - they're added in as part of the model, and stay there until removed. `run_with_hooks` tries to create an abstraction where these are local state, by removing all hooks at the end of the function. But you can easily shoot yourself in the foot if there's, eg, an error in one of your hooks so the function never finishes. If you start getting bugs, try `model.reset_hooks()` to clean things up. Further, if you *do* add hooks of your own that you want to keep, which you can do with `add_perma_hook` on the relevant HookPoint"
   ]
  },
  {
   "cell_type": "markdown",
   "metadata": {
    "id": "qYDSN88dHtgN"
   },
   "source": [
    "### Activation Patching on the Indirect Object Identification Task"
   ]
  },
  {
   "cell_type": "markdown",
   "metadata": {
    "id": "qs2HxAPAHtgN"
   },
   "source": [
    "For a somewhat more involved example, let's use hooks to apply **[activation patching](https://dynalist.io/d/n2ZWtnoYHrU1s4vnFSAQ519J#z=qeWBvs-R-taFfcCq-S_hgMqx)** on the **[Indirect Object Identification](https://dynalist.io/d/n2ZWtnoYHrU1s4vnFSAQ519J#z=iWsV3s5Kdd2ca3zNgXr5UPHa)** (IOI) task.\n",
    "\n",
    "The IOI task is the task of identifying that a sentence like \"After John and Mary went to the store, Mary gave a bottle of milk to\" continues with \" John\" rather than \" Mary\" (ie, finding the indirect object), and Redwood Research have [an excellent paper studying the underlying circuit in GPT-2 Small](https://arxiv.org/abs/2211.00593).\n",
    "\n",
    "**[Activation patching](https://dynalist.io/d/n2ZWtnoYHrU1s4vnFSAQ519J#z=qeWBvs-R-taFfcCq-S_hgMqx)** is a technique from [Kevin Meng and David Bau's excellent ROME paper](https://rome.baulab.info/). The goal is to identify which model activations are important for completing a task. We do this by setting up a **clean prompt** and a **corrupted prompt** and a **metric** for performance on the task. We then pick a specific model activation, run the model on the corrupted prompt, but then *intervene* on that activation and patch in its value when run on the clean prompt. We then apply the metric, and see how much this patch has recovered the clean performance.\n",
    "(See [a more detailed demonstration of activation patching here](https://colab.research.google.com/github.com/neelnanda-io/TransformerLens/blob/main/demos/Exploratory_Analysis_Demo.ipynb))"
   ]
  },
  {
   "cell_type": "markdown",
   "metadata": {
    "id": "kMo8wY32HtgN"
   },
   "source": [
    "Here, our clean prompt is \"After John and Mary went to the store, **Mary** gave a bottle of milk to\", our corrupted prompt is \"After John and Mary went to the store, **John** gave a bottle of milk to\", and our metric is the difference between the correct logit ( John) and the incorrect logit ( Mary) on the final token.\n",
    "\n",
    "We see that the logit difference is significantly positive on the clean prompt, and significantly negative on the corrupted prompt, showing that the model is capable of doing the task!"
   ]
  },
  {
   "cell_type": "code",
   "execution_count": 17,
   "metadata": {
    "colab": {
     "base_uri": "https://localhost:8080/"
    },
    "id": "Q3Z2NPOCHtgN",
    "outputId": "be369705-ead4-43f5-c8b0-80d7e74343c1"
   },
   "outputs": [
    {
     "name": "stdout",
     "output_type": "stream",
     "text": [
      "Clean logit difference: 4.276\n",
      "Corrupted logit difference: -2.738\n"
     ]
    }
   ],
   "source": [
    "clean_prompt = \"After John and Mary went to the store, Mary gave a bottle of milk to\"\n",
    "corrupted_prompt = \"After John and Mary went to the store, John gave a bottle of milk to\"\n",
    "\n",
    "clean_tokens = model.to_tokens(clean_prompt)\n",
    "corrupted_tokens = model.to_tokens(corrupted_prompt)\n",
    "\n",
    "def logits_to_logit_diff(logits, correct_answer=\" John\", incorrect_answer=\" Mary\"):\n",
    "    # model.to_single_token maps a string value of a single token to the token index for that token\n",
    "    # If the string is not a single token, it raises an error.\n",
    "    correct_index = model.to_single_token(correct_answer)\n",
    "    incorrect_index = model.to_single_token(incorrect_answer)\n",
    "    return logits[0, -1, correct_index] - logits[0, -1, incorrect_index]\n",
    "\n",
    "# We run on the clean prompt with the cache so we store activations to patch in later.\n",
    "clean_logits, clean_cache = model.run_with_cache(clean_tokens)\n",
    "clean_logit_diff = logits_to_logit_diff(clean_logits)\n",
    "print(f\"Clean logit difference: {clean_logit_diff.item():.3f}\")\n",
    "\n",
    "# We don't need to cache on the corrupted prompt.\n",
    "corrupted_logits = model(corrupted_tokens)\n",
    "corrupted_logit_diff = logits_to_logit_diff(corrupted_logits)\n",
    "print(f\"Corrupted logit difference: {corrupted_logit_diff.item():.3f}\")"
   ]
  },
  {
   "cell_type": "markdown",
   "metadata": {
    "id": "sr7zre5PHtgN"
   },
   "source": [
    "We now setup the hook function to do activation patching. Here, we'll patch in the [residual stream](https://dynalist.io/d/n2ZWtnoYHrU1s4vnFSAQ519J#z=DHp9vZ0h9lA9OCrzG2Y3rrzH) at the start of a specific layer and at a specific position. This will let us see how much the model is using the residual stream at that layer and position to represent the key information for the task.\n",
    "\n",
    "We want to iterate over all layers and positions, so we write the hook to take in an position parameter. Hook functions must have the input signature (activation, hook), but we can use `functools.partial` to set the position parameter before passing it to `run_with_hooks`"
   ]
  },
  {
   "cell_type": "code",
   "execution_count": 18,
   "metadata": {
    "colab": {
     "base_uri": "https://localhost:8080/",
     "height": 49,
     "referenced_widgets": [
      "dbd65f77f255464e92b787a2894dab6a",
      "dfcc07ffacfe49779d7d0b7335c57962",
      "916335de2cbd47828f9aae4cefe1fced",
      "6193f787c84d4f378aa03be401a0839d",
      "507a9293c7c048138980bf2810154e00",
      "5aeffa6d0459417aa51a7222c95e0a1a",
      "d40f4e52ad79421fb2196bcb87d9003b",
      "4b5569b857f84acf9a8bdb46d58a672a",
      "4101c7a0d82d4c79817e6e910be41a13",
      "b7cb407cfb56443ca1cb119d88ccf6d4",
      "db2cacec957c4fb38dabc926dbf011e5"
     ]
    },
    "id": "0CLCuLP_HtgN",
    "outputId": "3a1624b6-fc8b-4544-da17-6356190610a7"
   },
   "outputs": [
    {
     "data": {
      "application/vnd.jupyter.widget-view+json": {
       "model_id": "ff1aca22e3864f1e8c029e24ed4c474c",
       "version_major": 2,
       "version_minor": 0
      },
      "text/plain": [
       "  0%|          | 0/12 [00:00<?, ?it/s]"
      ]
     },
     "metadata": {},
     "output_type": "display_data"
    }
   ],
   "source": [
    "# We define a residual stream patching hook\n",
    "# We choose to act on the residual stream at the start of the layer, so we call it resid_pre\n",
    "# The type annotations are a guide to the reader and are not necessary\n",
    "def residual_stream_patching_hook(\n",
    "    resid_pre: Float[torch.Tensor, \"batch pos d_model\"],\n",
    "    hook: HookPoint,\n",
    "    position: int\n",
    ") -> Float[torch.Tensor, \"batch pos d_model\"]:\n",
    "    # Each HookPoint has a name attribute giving the name of the hook.\n",
    "    clean_resid_pre = clean_cache[hook.name]\n",
    "    resid_pre[:, position, :] = clean_resid_pre[:, position, :]\n",
    "    return resid_pre\n",
    "\n",
    "# We make a tensor to store the results for each patching run. We put it on the model's device to avoid needing to move things between the GPU and CPU, which can be slow.\n",
    "num_positions = len(clean_tokens[0])\n",
    "ioi_patching_result = torch.zeros((model.cfg.n_layers, num_positions), device=model.cfg.device)\n",
    "\n",
    "for layer in tqdm.tqdm(range(model.cfg.n_layers)):\n",
    "    for position in range(num_positions):\n",
    "        # Use functools.partial to create a temporary hook function with the position fixed\n",
    "        temp_hook_fn = partial(residual_stream_patching_hook, position=position)\n",
    "        # Run the model with the patching hook\n",
    "        patched_logits = model.run_with_hooks(corrupted_tokens, fwd_hooks=[\n",
    "            (utils.get_act_name(\"resid_pre\", layer), temp_hook_fn)\n",
    "        ])\n",
    "        # Calculate the logit difference\n",
    "        patched_logit_diff = logits_to_logit_diff(patched_logits).detach()\n",
    "        # Store the result, normalizing by the clean and corrupted logit difference so it's between 0 and 1 (ish)\n",
    "        ioi_patching_result[layer, position] = (patched_logit_diff - corrupted_logit_diff)/(clean_logit_diff - corrupted_logit_diff)"
   ]
  },
  {
   "cell_type": "markdown",
   "metadata": {
    "id": "hWtWkG6hHtgO"
   },
   "source": [
    "We can now visualize the results, and see that this computation is extremely localised within the model. Initially, the second subject (Mary) token is all that matters (naturally, as it's the only different token), and all relevant information remains here until heads in layer 7 and 8 move this to the final token where it's used to predict the indirect object.\n",
    "(Note - the heads are in layer 7 and 8, not 8 and 9, because we patched in the residual stream at the *start* of each layer)"
   ]
  },
  {
   "cell_type": "code",
   "execution_count": 34,
   "metadata": {
    "colab": {
     "base_uri": "https://localhost:8080/",
     "height": 542
    },
    "id": "m4C0dL6IHtgO",
    "outputId": "c1c9190f-7dbd-41bb-91a9-6b77540781bb"
   },
   "outputs": [
    {
     "ename": "AttributeError",
     "evalue": "AxesImage.set() got an unexpected keyword argument 'x'",
     "output_type": "error",
     "traceback": [
      "\u001b[0;31m---------------------------------------------------------------------------\u001b[0m",
      "\u001b[0;31mAttributeError\u001b[0m                            Traceback (most recent call last)",
      "Cell \u001b[0;32mIn[34], line 4\u001b[0m\n\u001b[1;32m      2\u001b[0m \u001b[38;5;66;03m# Add the index to the end of the label, because plotly doesn't like duplicate labels\u001b[39;00m\n\u001b[1;32m      3\u001b[0m token_labels \u001b[38;5;241m=\u001b[39m [\u001b[38;5;124mf\u001b[39m\u001b[38;5;124m\"\u001b[39m\u001b[38;5;132;01m{\u001b[39;00mtoken\u001b[38;5;132;01m}\u001b[39;00m\u001b[38;5;124m_\u001b[39m\u001b[38;5;132;01m{\u001b[39;00mindex\u001b[38;5;132;01m}\u001b[39;00m\u001b[38;5;124m\"\u001b[39m \u001b[38;5;28;01mfor\u001b[39;00m index, token \u001b[38;5;129;01min\u001b[39;00m \u001b[38;5;28menumerate\u001b[39m(model\u001b[38;5;241m.\u001b[39mto_str_tokens(clean_tokens))]\n\u001b[0;32m----> 4\u001b[0m \u001b[43mplt\u001b[49m\u001b[38;5;241;43m.\u001b[39;49m\u001b[43mimshow\u001b[49m\u001b[43m(\u001b[49m\u001b[43mioi_patching_result\u001b[49m\u001b[43m,\u001b[49m\u001b[43m \u001b[49m\u001b[43mx\u001b[49m\u001b[38;5;241;43m=\u001b[39;49m\u001b[43mtoken_labels\u001b[49m\u001b[43m,\u001b[49m\u001b[43m \u001b[49m\u001b[43mxaxis\u001b[49m\u001b[38;5;241;43m=\u001b[39;49m\u001b[38;5;124;43m\"\u001b[39;49m\u001b[38;5;124;43mPosition\u001b[39;49m\u001b[38;5;124;43m\"\u001b[39;49m\u001b[43m,\u001b[49m\u001b[43m \u001b[49m\u001b[43myaxis\u001b[49m\u001b[38;5;241;43m=\u001b[39;49m\u001b[38;5;124;43m\"\u001b[39;49m\u001b[38;5;124;43mLayer\u001b[39;49m\u001b[38;5;124;43m\"\u001b[39;49m\u001b[43m,\u001b[49m\u001b[43m \u001b[49m\u001b[43mtitle\u001b[49m\u001b[38;5;241;43m=\u001b[39;49m\u001b[38;5;124;43m\"\u001b[39;49m\u001b[38;5;124;43mNormalized Logit Difference After Patching Residual Stream on the IOI Task\u001b[39;49m\u001b[38;5;124;43m\"\u001b[39;49m\u001b[43m)\u001b[49m\n",
      "File \u001b[0;32m~/.local/lib/python3.8/site-packages/matplotlib/pyplot.py:2695\u001b[0m, in \u001b[0;36mimshow\u001b[0;34m(X, cmap, norm, aspect, interpolation, alpha, vmin, vmax, origin, extent, interpolation_stage, filternorm, filterrad, resample, url, data, **kwargs)\u001b[0m\n\u001b[1;32m   2689\u001b[0m \u001b[38;5;129m@_copy_docstring_and_deprecators\u001b[39m(Axes\u001b[38;5;241m.\u001b[39mimshow)\n\u001b[1;32m   2690\u001b[0m \u001b[38;5;28;01mdef\u001b[39;00m \u001b[38;5;21mimshow\u001b[39m(\n\u001b[1;32m   2691\u001b[0m         X, cmap\u001b[38;5;241m=\u001b[39m\u001b[38;5;28;01mNone\u001b[39;00m, norm\u001b[38;5;241m=\u001b[39m\u001b[38;5;28;01mNone\u001b[39;00m, \u001b[38;5;241m*\u001b[39m, aspect\u001b[38;5;241m=\u001b[39m\u001b[38;5;28;01mNone\u001b[39;00m, interpolation\u001b[38;5;241m=\u001b[39m\u001b[38;5;28;01mNone\u001b[39;00m,\n\u001b[1;32m   2692\u001b[0m         alpha\u001b[38;5;241m=\u001b[39m\u001b[38;5;28;01mNone\u001b[39;00m, vmin\u001b[38;5;241m=\u001b[39m\u001b[38;5;28;01mNone\u001b[39;00m, vmax\u001b[38;5;241m=\u001b[39m\u001b[38;5;28;01mNone\u001b[39;00m, origin\u001b[38;5;241m=\u001b[39m\u001b[38;5;28;01mNone\u001b[39;00m, extent\u001b[38;5;241m=\u001b[39m\u001b[38;5;28;01mNone\u001b[39;00m,\n\u001b[1;32m   2693\u001b[0m         interpolation_stage\u001b[38;5;241m=\u001b[39m\u001b[38;5;28;01mNone\u001b[39;00m, filternorm\u001b[38;5;241m=\u001b[39m\u001b[38;5;28;01mTrue\u001b[39;00m, filterrad\u001b[38;5;241m=\u001b[39m\u001b[38;5;241m4.0\u001b[39m,\n\u001b[1;32m   2694\u001b[0m         resample\u001b[38;5;241m=\u001b[39m\u001b[38;5;28;01mNone\u001b[39;00m, url\u001b[38;5;241m=\u001b[39m\u001b[38;5;28;01mNone\u001b[39;00m, data\u001b[38;5;241m=\u001b[39m\u001b[38;5;28;01mNone\u001b[39;00m, \u001b[38;5;241m*\u001b[39m\u001b[38;5;241m*\u001b[39mkwargs):\n\u001b[0;32m-> 2695\u001b[0m     __ret \u001b[38;5;241m=\u001b[39m \u001b[43mgca\u001b[49m\u001b[43m(\u001b[49m\u001b[43m)\u001b[49m\u001b[38;5;241;43m.\u001b[39;49m\u001b[43mimshow\u001b[49m\u001b[43m(\u001b[49m\n\u001b[1;32m   2696\u001b[0m \u001b[43m        \u001b[49m\u001b[43mX\u001b[49m\u001b[43m,\u001b[49m\u001b[43m \u001b[49m\u001b[43mcmap\u001b[49m\u001b[38;5;241;43m=\u001b[39;49m\u001b[43mcmap\u001b[49m\u001b[43m,\u001b[49m\u001b[43m \u001b[49m\u001b[43mnorm\u001b[49m\u001b[38;5;241;43m=\u001b[39;49m\u001b[43mnorm\u001b[49m\u001b[43m,\u001b[49m\u001b[43m \u001b[49m\u001b[43maspect\u001b[49m\u001b[38;5;241;43m=\u001b[39;49m\u001b[43maspect\u001b[49m\u001b[43m,\u001b[49m\n\u001b[1;32m   2697\u001b[0m \u001b[43m        \u001b[49m\u001b[43minterpolation\u001b[49m\u001b[38;5;241;43m=\u001b[39;49m\u001b[43minterpolation\u001b[49m\u001b[43m,\u001b[49m\u001b[43m \u001b[49m\u001b[43malpha\u001b[49m\u001b[38;5;241;43m=\u001b[39;49m\u001b[43malpha\u001b[49m\u001b[43m,\u001b[49m\u001b[43m \u001b[49m\u001b[43mvmin\u001b[49m\u001b[38;5;241;43m=\u001b[39;49m\u001b[43mvmin\u001b[49m\u001b[43m,\u001b[49m\n\u001b[1;32m   2698\u001b[0m \u001b[43m        \u001b[49m\u001b[43mvmax\u001b[49m\u001b[38;5;241;43m=\u001b[39;49m\u001b[43mvmax\u001b[49m\u001b[43m,\u001b[49m\u001b[43m \u001b[49m\u001b[43morigin\u001b[49m\u001b[38;5;241;43m=\u001b[39;49m\u001b[43morigin\u001b[49m\u001b[43m,\u001b[49m\u001b[43m \u001b[49m\u001b[43mextent\u001b[49m\u001b[38;5;241;43m=\u001b[39;49m\u001b[43mextent\u001b[49m\u001b[43m,\u001b[49m\n\u001b[1;32m   2699\u001b[0m \u001b[43m        \u001b[49m\u001b[43minterpolation_stage\u001b[49m\u001b[38;5;241;43m=\u001b[39;49m\u001b[43minterpolation_stage\u001b[49m\u001b[43m,\u001b[49m\n\u001b[1;32m   2700\u001b[0m \u001b[43m        \u001b[49m\u001b[43mfilternorm\u001b[49m\u001b[38;5;241;43m=\u001b[39;49m\u001b[43mfilternorm\u001b[49m\u001b[43m,\u001b[49m\u001b[43m \u001b[49m\u001b[43mfilterrad\u001b[49m\u001b[38;5;241;43m=\u001b[39;49m\u001b[43mfilterrad\u001b[49m\u001b[43m,\u001b[49m\u001b[43m \u001b[49m\u001b[43mresample\u001b[49m\u001b[38;5;241;43m=\u001b[39;49m\u001b[43mresample\u001b[49m\u001b[43m,\u001b[49m\n\u001b[1;32m   2701\u001b[0m \u001b[43m        \u001b[49m\u001b[43murl\u001b[49m\u001b[38;5;241;43m=\u001b[39;49m\u001b[43murl\u001b[49m\u001b[43m,\u001b[49m\u001b[43m \u001b[49m\u001b[38;5;241;43m*\u001b[39;49m\u001b[38;5;241;43m*\u001b[39;49m\u001b[43m(\u001b[49m\u001b[43m{\u001b[49m\u001b[38;5;124;43m\"\u001b[39;49m\u001b[38;5;124;43mdata\u001b[39;49m\u001b[38;5;124;43m\"\u001b[39;49m\u001b[43m:\u001b[49m\u001b[43m \u001b[49m\u001b[43mdata\u001b[49m\u001b[43m}\u001b[49m\u001b[43m \u001b[49m\u001b[38;5;28;43;01mif\u001b[39;49;00m\u001b[43m \u001b[49m\u001b[43mdata\u001b[49m\u001b[43m \u001b[49m\u001b[38;5;129;43;01mis\u001b[39;49;00m\u001b[43m \u001b[49m\u001b[38;5;129;43;01mnot\u001b[39;49;00m\u001b[43m \u001b[49m\u001b[38;5;28;43;01mNone\u001b[39;49;00m\u001b[43m \u001b[49m\u001b[38;5;28;43;01melse\u001b[39;49;00m\u001b[43m \u001b[49m\u001b[43m{\u001b[49m\u001b[43m}\u001b[49m\u001b[43m)\u001b[49m\u001b[43m,\u001b[49m\n\u001b[1;32m   2702\u001b[0m \u001b[43m        \u001b[49m\u001b[38;5;241;43m*\u001b[39;49m\u001b[38;5;241;43m*\u001b[39;49m\u001b[43mkwargs\u001b[49m\u001b[43m)\u001b[49m\n\u001b[1;32m   2703\u001b[0m     sci(__ret)\n\u001b[1;32m   2704\u001b[0m     \u001b[38;5;28;01mreturn\u001b[39;00m __ret\n",
      "File \u001b[0;32m~/.local/lib/python3.8/site-packages/matplotlib/__init__.py:1442\u001b[0m, in \u001b[0;36m_preprocess_data.<locals>.inner\u001b[0;34m(ax, data, *args, **kwargs)\u001b[0m\n\u001b[1;32m   1439\u001b[0m \u001b[38;5;129m@functools\u001b[39m\u001b[38;5;241m.\u001b[39mwraps(func)\n\u001b[1;32m   1440\u001b[0m \u001b[38;5;28;01mdef\u001b[39;00m \u001b[38;5;21minner\u001b[39m(ax, \u001b[38;5;241m*\u001b[39margs, data\u001b[38;5;241m=\u001b[39m\u001b[38;5;28;01mNone\u001b[39;00m, \u001b[38;5;241m*\u001b[39m\u001b[38;5;241m*\u001b[39mkwargs):\n\u001b[1;32m   1441\u001b[0m     \u001b[38;5;28;01mif\u001b[39;00m data \u001b[38;5;129;01mis\u001b[39;00m \u001b[38;5;28;01mNone\u001b[39;00m:\n\u001b[0;32m-> 1442\u001b[0m         \u001b[38;5;28;01mreturn\u001b[39;00m \u001b[43mfunc\u001b[49m\u001b[43m(\u001b[49m\u001b[43max\u001b[49m\u001b[43m,\u001b[49m\u001b[43m \u001b[49m\u001b[38;5;241;43m*\u001b[39;49m\u001b[38;5;28;43mmap\u001b[39;49m\u001b[43m(\u001b[49m\u001b[43msanitize_sequence\u001b[49m\u001b[43m,\u001b[49m\u001b[43m \u001b[49m\u001b[43margs\u001b[49m\u001b[43m)\u001b[49m\u001b[43m,\u001b[49m\u001b[43m \u001b[49m\u001b[38;5;241;43m*\u001b[39;49m\u001b[38;5;241;43m*\u001b[39;49m\u001b[43mkwargs\u001b[49m\u001b[43m)\u001b[49m\n\u001b[1;32m   1444\u001b[0m     bound \u001b[38;5;241m=\u001b[39m new_sig\u001b[38;5;241m.\u001b[39mbind(ax, \u001b[38;5;241m*\u001b[39margs, \u001b[38;5;241m*\u001b[39m\u001b[38;5;241m*\u001b[39mkwargs)\n\u001b[1;32m   1445\u001b[0m     auto_label \u001b[38;5;241m=\u001b[39m (bound\u001b[38;5;241m.\u001b[39marguments\u001b[38;5;241m.\u001b[39mget(label_namer)\n\u001b[1;32m   1446\u001b[0m                   \u001b[38;5;129;01mor\u001b[39;00m bound\u001b[38;5;241m.\u001b[39mkwargs\u001b[38;5;241m.\u001b[39mget(label_namer))\n",
      "File \u001b[0;32m~/.local/lib/python3.8/site-packages/matplotlib/axes/_axes.py:5658\u001b[0m, in \u001b[0;36mAxes.imshow\u001b[0;34m(self, X, cmap, norm, aspect, interpolation, alpha, vmin, vmax, origin, extent, interpolation_stage, filternorm, filterrad, resample, url, **kwargs)\u001b[0m\n\u001b[1;32m   5656\u001b[0m     aspect \u001b[38;5;241m=\u001b[39m mpl\u001b[38;5;241m.\u001b[39mrcParams[\u001b[38;5;124m'\u001b[39m\u001b[38;5;124mimage.aspect\u001b[39m\u001b[38;5;124m'\u001b[39m]\n\u001b[1;32m   5657\u001b[0m \u001b[38;5;28mself\u001b[39m\u001b[38;5;241m.\u001b[39mset_aspect(aspect)\n\u001b[0;32m-> 5658\u001b[0m im \u001b[38;5;241m=\u001b[39m \u001b[43mmimage\u001b[49m\u001b[38;5;241;43m.\u001b[39;49m\u001b[43mAxesImage\u001b[49m\u001b[43m(\u001b[49m\u001b[38;5;28;43mself\u001b[39;49m\u001b[43m,\u001b[49m\u001b[43m \u001b[49m\u001b[43mcmap\u001b[49m\u001b[38;5;241;43m=\u001b[39;49m\u001b[43mcmap\u001b[49m\u001b[43m,\u001b[49m\u001b[43m \u001b[49m\u001b[43mnorm\u001b[49m\u001b[38;5;241;43m=\u001b[39;49m\u001b[43mnorm\u001b[49m\u001b[43m,\u001b[49m\n\u001b[1;32m   5659\u001b[0m \u001b[43m                      \u001b[49m\u001b[43minterpolation\u001b[49m\u001b[38;5;241;43m=\u001b[39;49m\u001b[43minterpolation\u001b[49m\u001b[43m,\u001b[49m\u001b[43m \u001b[49m\u001b[43morigin\u001b[49m\u001b[38;5;241;43m=\u001b[39;49m\u001b[43morigin\u001b[49m\u001b[43m,\u001b[49m\n\u001b[1;32m   5660\u001b[0m \u001b[43m                      \u001b[49m\u001b[43mextent\u001b[49m\u001b[38;5;241;43m=\u001b[39;49m\u001b[43mextent\u001b[49m\u001b[43m,\u001b[49m\u001b[43m \u001b[49m\u001b[43mfilternorm\u001b[49m\u001b[38;5;241;43m=\u001b[39;49m\u001b[43mfilternorm\u001b[49m\u001b[43m,\u001b[49m\n\u001b[1;32m   5661\u001b[0m \u001b[43m                      \u001b[49m\u001b[43mfilterrad\u001b[49m\u001b[38;5;241;43m=\u001b[39;49m\u001b[43mfilterrad\u001b[49m\u001b[43m,\u001b[49m\u001b[43m \u001b[49m\u001b[43mresample\u001b[49m\u001b[38;5;241;43m=\u001b[39;49m\u001b[43mresample\u001b[49m\u001b[43m,\u001b[49m\n\u001b[1;32m   5662\u001b[0m \u001b[43m                      \u001b[49m\u001b[43minterpolation_stage\u001b[49m\u001b[38;5;241;43m=\u001b[39;49m\u001b[43minterpolation_stage\u001b[49m\u001b[43m,\u001b[49m\n\u001b[1;32m   5663\u001b[0m \u001b[43m                      \u001b[49m\u001b[38;5;241;43m*\u001b[39;49m\u001b[38;5;241;43m*\u001b[39;49m\u001b[43mkwargs\u001b[49m\u001b[43m)\u001b[49m\n\u001b[1;32m   5665\u001b[0m im\u001b[38;5;241m.\u001b[39mset_data(X)\n\u001b[1;32m   5666\u001b[0m im\u001b[38;5;241m.\u001b[39mset_alpha(alpha)\n",
      "File \u001b[0;32m~/.local/lib/python3.8/site-packages/matplotlib/_api/deprecation.py:454\u001b[0m, in \u001b[0;36mmake_keyword_only.<locals>.wrapper\u001b[0;34m(*args, **kwargs)\u001b[0m\n\u001b[1;32m    448\u001b[0m \u001b[38;5;28;01mif\u001b[39;00m \u001b[38;5;28mlen\u001b[39m(args) \u001b[38;5;241m>\u001b[39m name_idx:\n\u001b[1;32m    449\u001b[0m     warn_deprecated(\n\u001b[1;32m    450\u001b[0m         since, message\u001b[38;5;241m=\u001b[39m\u001b[38;5;124m\"\u001b[39m\u001b[38;5;124mPassing the \u001b[39m\u001b[38;5;132;01m%(name)s\u001b[39;00m\u001b[38;5;124m \u001b[39m\u001b[38;5;132;01m%(obj_type)s\u001b[39;00m\u001b[38;5;124m \u001b[39m\u001b[38;5;124m\"\u001b[39m\n\u001b[1;32m    451\u001b[0m         \u001b[38;5;124m\"\u001b[39m\u001b[38;5;124mpositionally is deprecated since Matplotlib \u001b[39m\u001b[38;5;132;01m%(since)s\u001b[39;00m\u001b[38;5;124m; the \u001b[39m\u001b[38;5;124m\"\u001b[39m\n\u001b[1;32m    452\u001b[0m         \u001b[38;5;124m\"\u001b[39m\u001b[38;5;124mparameter will become keyword-only \u001b[39m\u001b[38;5;132;01m%(removal)s\u001b[39;00m\u001b[38;5;124m.\u001b[39m\u001b[38;5;124m\"\u001b[39m,\n\u001b[1;32m    453\u001b[0m         name\u001b[38;5;241m=\u001b[39mname, obj_type\u001b[38;5;241m=\u001b[39m\u001b[38;5;124mf\u001b[39m\u001b[38;5;124m\"\u001b[39m\u001b[38;5;124mparameter of \u001b[39m\u001b[38;5;132;01m{\u001b[39;00mfunc\u001b[38;5;241m.\u001b[39m\u001b[38;5;18m__name__\u001b[39m\u001b[38;5;132;01m}\u001b[39;00m\u001b[38;5;124m()\u001b[39m\u001b[38;5;124m\"\u001b[39m)\n\u001b[0;32m--> 454\u001b[0m \u001b[38;5;28;01mreturn\u001b[39;00m \u001b[43mfunc\u001b[49m\u001b[43m(\u001b[49m\u001b[38;5;241;43m*\u001b[39;49m\u001b[43margs\u001b[49m\u001b[43m,\u001b[49m\u001b[43m \u001b[49m\u001b[38;5;241;43m*\u001b[39;49m\u001b[38;5;241;43m*\u001b[39;49m\u001b[43mkwargs\u001b[49m\u001b[43m)\u001b[49m\n",
      "File \u001b[0;32m~/.local/lib/python3.8/site-packages/matplotlib/image.py:922\u001b[0m, in \u001b[0;36mAxesImage.__init__\u001b[0;34m(self, ax, cmap, norm, interpolation, origin, extent, filternorm, filterrad, resample, interpolation_stage, **kwargs)\u001b[0m\n\u001b[1;32m    905\u001b[0m \u001b[38;5;129m@_api\u001b[39m\u001b[38;5;241m.\u001b[39mmake_keyword_only(\u001b[38;5;124m\"\u001b[39m\u001b[38;5;124m3.6\u001b[39m\u001b[38;5;124m\"\u001b[39m, name\u001b[38;5;241m=\u001b[39m\u001b[38;5;124m\"\u001b[39m\u001b[38;5;124mcmap\u001b[39m\u001b[38;5;124m\"\u001b[39m)\n\u001b[1;32m    906\u001b[0m \u001b[38;5;28;01mdef\u001b[39;00m \u001b[38;5;21m__init__\u001b[39m(\u001b[38;5;28mself\u001b[39m, ax,\n\u001b[1;32m    907\u001b[0m              cmap\u001b[38;5;241m=\u001b[39m\u001b[38;5;28;01mNone\u001b[39;00m,\n\u001b[0;32m   (...)\u001b[0m\n\u001b[1;32m    917\u001b[0m              \u001b[38;5;241m*\u001b[39m\u001b[38;5;241m*\u001b[39mkwargs\n\u001b[1;32m    918\u001b[0m              ):\n\u001b[1;32m    920\u001b[0m     \u001b[38;5;28mself\u001b[39m\u001b[38;5;241m.\u001b[39m_extent \u001b[38;5;241m=\u001b[39m extent\n\u001b[0;32m--> 922\u001b[0m     \u001b[38;5;28;43msuper\u001b[39;49m\u001b[43m(\u001b[49m\u001b[43m)\u001b[49m\u001b[38;5;241;43m.\u001b[39;49m\u001b[38;5;21;43m__init__\u001b[39;49m\u001b[43m(\u001b[49m\n\u001b[1;32m    923\u001b[0m \u001b[43m        \u001b[49m\u001b[43max\u001b[49m\u001b[43m,\u001b[49m\n\u001b[1;32m    924\u001b[0m \u001b[43m        \u001b[49m\u001b[43mcmap\u001b[49m\u001b[38;5;241;43m=\u001b[39;49m\u001b[43mcmap\u001b[49m\u001b[43m,\u001b[49m\n\u001b[1;32m    925\u001b[0m \u001b[43m        \u001b[49m\u001b[43mnorm\u001b[49m\u001b[38;5;241;43m=\u001b[39;49m\u001b[43mnorm\u001b[49m\u001b[43m,\u001b[49m\n\u001b[1;32m    926\u001b[0m \u001b[43m        \u001b[49m\u001b[43minterpolation\u001b[49m\u001b[38;5;241;43m=\u001b[39;49m\u001b[43minterpolation\u001b[49m\u001b[43m,\u001b[49m\n\u001b[1;32m    927\u001b[0m \u001b[43m        \u001b[49m\u001b[43morigin\u001b[49m\u001b[38;5;241;43m=\u001b[39;49m\u001b[43morigin\u001b[49m\u001b[43m,\u001b[49m\n\u001b[1;32m    928\u001b[0m \u001b[43m        \u001b[49m\u001b[43mfilternorm\u001b[49m\u001b[38;5;241;43m=\u001b[39;49m\u001b[43mfilternorm\u001b[49m\u001b[43m,\u001b[49m\n\u001b[1;32m    929\u001b[0m \u001b[43m        \u001b[49m\u001b[43mfilterrad\u001b[49m\u001b[38;5;241;43m=\u001b[39;49m\u001b[43mfilterrad\u001b[49m\u001b[43m,\u001b[49m\n\u001b[1;32m    930\u001b[0m \u001b[43m        \u001b[49m\u001b[43mresample\u001b[49m\u001b[38;5;241;43m=\u001b[39;49m\u001b[43mresample\u001b[49m\u001b[43m,\u001b[49m\n\u001b[1;32m    931\u001b[0m \u001b[43m        \u001b[49m\u001b[43minterpolation_stage\u001b[49m\u001b[38;5;241;43m=\u001b[39;49m\u001b[43minterpolation_stage\u001b[49m\u001b[43m,\u001b[49m\n\u001b[1;32m    932\u001b[0m \u001b[43m        \u001b[49m\u001b[38;5;241;43m*\u001b[39;49m\u001b[38;5;241;43m*\u001b[39;49m\u001b[43mkwargs\u001b[49m\n\u001b[1;32m    933\u001b[0m \u001b[43m    \u001b[49m\u001b[43m)\u001b[49m\n",
      "File \u001b[0;32m~/.local/lib/python3.8/site-packages/matplotlib/image.py:274\u001b[0m, in \u001b[0;36m_ImageBase.__init__\u001b[0;34m(self, ax, cmap, norm, interpolation, origin, filternorm, filterrad, resample, interpolation_stage, **kwargs)\u001b[0m\n\u001b[1;32m    270\u001b[0m \u001b[38;5;28mself\u001b[39m\u001b[38;5;241m.\u001b[39maxes \u001b[38;5;241m=\u001b[39m ax\n\u001b[1;32m    272\u001b[0m \u001b[38;5;28mself\u001b[39m\u001b[38;5;241m.\u001b[39m_imcache \u001b[38;5;241m=\u001b[39m \u001b[38;5;28;01mNone\u001b[39;00m\n\u001b[0;32m--> 274\u001b[0m \u001b[38;5;28;43mself\u001b[39;49m\u001b[38;5;241;43m.\u001b[39;49m\u001b[43m_internal_update\u001b[49m\u001b[43m(\u001b[49m\u001b[43mkwargs\u001b[49m\u001b[43m)\u001b[49m\n",
      "File \u001b[0;32m~/.local/lib/python3.8/site-packages/matplotlib/artist.py:1223\u001b[0m, in \u001b[0;36mArtist._internal_update\u001b[0;34m(self, kwargs)\u001b[0m\n\u001b[1;32m   1216\u001b[0m \u001b[38;5;28;01mdef\u001b[39;00m \u001b[38;5;21m_internal_update\u001b[39m(\u001b[38;5;28mself\u001b[39m, kwargs):\n\u001b[1;32m   1217\u001b[0m \u001b[38;5;250m    \u001b[39m\u001b[38;5;124;03m\"\"\"\u001b[39;00m\n\u001b[1;32m   1218\u001b[0m \u001b[38;5;124;03m    Update artist properties without prenormalizing them, but generating\u001b[39;00m\n\u001b[1;32m   1219\u001b[0m \u001b[38;5;124;03m    errors as if calling `set`.\u001b[39;00m\n\u001b[1;32m   1220\u001b[0m \n\u001b[1;32m   1221\u001b[0m \u001b[38;5;124;03m    The lack of prenormalization is to maintain backcompatibility.\u001b[39;00m\n\u001b[1;32m   1222\u001b[0m \u001b[38;5;124;03m    \"\"\"\u001b[39;00m\n\u001b[0;32m-> 1223\u001b[0m     \u001b[38;5;28;01mreturn\u001b[39;00m \u001b[38;5;28;43mself\u001b[39;49m\u001b[38;5;241;43m.\u001b[39;49m\u001b[43m_update_props\u001b[49m\u001b[43m(\u001b[49m\n\u001b[1;32m   1224\u001b[0m \u001b[43m        \u001b[49m\u001b[43mkwargs\u001b[49m\u001b[43m,\u001b[49m\u001b[43m \u001b[49m\u001b[38;5;124;43m\"\u001b[39;49m\u001b[38;5;132;43;01m{cls.__name__}\u001b[39;49;00m\u001b[38;5;124;43m.set() got an unexpected keyword argument \u001b[39;49m\u001b[38;5;124;43m\"\u001b[39;49m\n\u001b[1;32m   1225\u001b[0m \u001b[43m        \u001b[49m\u001b[38;5;124;43m\"\u001b[39;49m\u001b[38;5;132;43;01m{prop_name!r}\u001b[39;49;00m\u001b[38;5;124;43m\"\u001b[39;49m\u001b[43m)\u001b[49m\n",
      "File \u001b[0;32m~/.local/lib/python3.8/site-packages/matplotlib/artist.py:1197\u001b[0m, in \u001b[0;36mArtist._update_props\u001b[0;34m(self, props, errfmt)\u001b[0m\n\u001b[1;32m   1195\u001b[0m             func \u001b[38;5;241m=\u001b[39m \u001b[38;5;28mgetattr\u001b[39m(\u001b[38;5;28mself\u001b[39m, \u001b[38;5;124mf\u001b[39m\u001b[38;5;124m\"\u001b[39m\u001b[38;5;124mset_\u001b[39m\u001b[38;5;132;01m{\u001b[39;00mk\u001b[38;5;132;01m}\u001b[39;00m\u001b[38;5;124m\"\u001b[39m, \u001b[38;5;28;01mNone\u001b[39;00m)\n\u001b[1;32m   1196\u001b[0m             \u001b[38;5;28;01mif\u001b[39;00m \u001b[38;5;129;01mnot\u001b[39;00m \u001b[38;5;28mcallable\u001b[39m(func):\n\u001b[0;32m-> 1197\u001b[0m                 \u001b[38;5;28;01mraise\u001b[39;00m \u001b[38;5;167;01mAttributeError\u001b[39;00m(\n\u001b[1;32m   1198\u001b[0m                     errfmt\u001b[38;5;241m.\u001b[39mformat(\u001b[38;5;28mcls\u001b[39m\u001b[38;5;241m=\u001b[39m\u001b[38;5;28mtype\u001b[39m(\u001b[38;5;28mself\u001b[39m), prop_name\u001b[38;5;241m=\u001b[39mk))\n\u001b[1;32m   1199\u001b[0m             ret\u001b[38;5;241m.\u001b[39mappend(func(v))\n\u001b[1;32m   1200\u001b[0m \u001b[38;5;28;01mif\u001b[39;00m ret:\n",
      "\u001b[0;31mAttributeError\u001b[0m: AxesImage.set() got an unexpected keyword argument 'x'"
     ]
    },
    {
     "data": {
      "image/png": "[encoded data removed]",
      "text/plain": [
       "<Figure size 640x480 with 1 Axes>"
      ]
     },
     "metadata": {},
     "output_type": "display_data"
    }
   ],
   "source": [
    "%matplotlib inline\n",
    "# Add the index to the end of the label, because plotly doesn't like duplicate labels\n",
    "token_labels = [f\"{token}_{index}\" for index, token in enumerate(model.to_str_tokens(clean_tokens))]\n",
    "plt.imshow(ioi_patching_result, x=token_labels, xaxis=\"Position\", yaxis=\"Layer\", title=\"Normalized Logit Difference After Patching Residual Stream on the IOI Task\")"
   ]
  },
  {
   "cell_type": "markdown",
   "metadata": {
    "id": "h5yQyBWpHtgO"
   },
   "source": [
    "## Hooks: Accessing Activations"
   ]
  },
  {
   "cell_type": "markdown",
   "metadata": {
    "id": "WahbJbagHtgO"
   },
   "source": [
    "Hooks can also be used to just **access** an activation - to run some function using that activation value, *without* changing the activation value. This can be achieved by just having the hook return nothing, and not editing the activation in place.\n",
    "\n",
    "This is useful for eg extracting activations for a specific task, or for doing some long-running calculation across many inputs, eg finding the text that most activates a specific neuron. (Note - everything this can do *could* be done with `run_with_cache` and post-processing, but this workflow can be more intuitive and memory efficient.)"
   ]
  },
  {
   "cell_type": "markdown",
   "metadata": {
    "id": "9MCxHRiGHtgR"
   },
   "source": [
    "To demonstrate this, let's look for **[induction heads](https://transformer-circuits.pub/2022/in-context-learning-and-induction-heads/index.html)** in GPT-2 Small.\n",
    "\n",
    "Induction circuits are a very important circuit in generative language models, which are used to detect and continue repeated subsequences. They consist of two heads in separate layers that compose together, a **previous token head** which always attends to the previous token, and an **induction head** which attends to the token *after* an earlier copy of the current token.\n",
    "\n",
    "To see why this is important, let's say that the model is trying to predict the next token in a news article about Michael Jordan. The token \" Michael\", in general, could be followed by many surnames. But an induction head will look from that occurence of \" Michael\" to the token after previous occurences of \" Michael\", ie \" Jordan\" and can confidently predict that that will come next."
   ]
  },
  {
   "cell_type": "markdown",
   "metadata": {
    "id": "yHJQ2ThoHtgR"
   },
   "source": [
    "An interesting fact about induction heads is that they generalise to arbitrary sequences of repeated tokens. We can see this by generating sequences of 50 random tokens, repeated twice, and plotting the average loss at predicting the next token, by position. We see that the model goes from terrible to very good at the halfway point."
   ]
  },
  {
   "cell_type": "markdown",
   "metadata": {
    "colab": {
     "base_uri": "https://localhost:8080/"
    },
    "id": "rhail_CdGls5",
    "outputId": "a6559515-4205-451a-e73f-a65ef2237220"
   },
   "source": [
    "batch_size = 10\n",
    "seq_len = 5\n",
    "random_tokens = torch.randint(1000, 10000, (batch_size, seq_len)).to(model.cfg.device)\n",
    "random_tokens1 = (random_tokens/2).to(random_tokens.dtype)\n",
    "random_tokens2 = (random_tokens/3).to(random_tokens.dtype)\n",
    "random_tokens3 = (random_tokens/4).to(random_tokens.dtype)\n",
    "repeated_tokens = torch.cat((random_tokens,random_tokens2,random_tokens4,random_tokens8),1)\n",
    "repeated_tokens.shape"
   ]
  },
  {
   "cell_type": "code",
   "execution_count": 20,
   "metadata": {
    "colab": {
     "base_uri": "https://localhost:8080/"
    },
    "id": "eb2ZsaLKM8rN",
    "outputId": "c1ab919e-9a8b-4938-a09a-73aba24cb7c1"
   },
   "outputs": [],
   "source": [
    "#print(repeated_tokens)"
   ]
  },
  {
   "cell_type": "code",
   "execution_count": 32,
   "metadata": {
    "colab": {
     "base_uri": "https://localhost:8080/",
     "height": 542
    },
    "id": "qOW8WAl6HtgR",
    "outputId": "aae45bc8-a10d-43c8-ff8f-9cf69a1e8e03"
   },
   "outputs": [
    {
     "data": {
      "text/plain": [
       "tensor([1.1569e+01, 1.2975e+01, 1.3477e+01, 1.4617e+01, 1.3974e+01, 1.3989e+01,\n",
       "        1.2458e+01, 1.2165e+01, 1.3033e+01, 1.2388e+01, 1.2889e+01, 1.1553e+01,\n",
       "        1.3233e+01, 1.2278e+01, 1.2293e+01, 1.1375e+01, 1.1595e+01, 1.1717e+01,\n",
       "        1.3365e+01, 1.3111e+01, 1.1666e+01, 1.1886e+01, 1.2722e+01, 1.2127e+01,\n",
       "        1.2675e+01, 1.2868e+01, 1.1304e+01, 1.1266e+01, 1.1779e+01, 1.0526e+01,\n",
       "        1.1805e+01, 1.4596e+01, 1.0694e+01, 1.1710e+01, 1.0210e+01, 1.2862e+01,\n",
       "        1.1500e+01, 1.0656e+01, 1.2559e+01, 1.0849e+01, 1.1878e+01, 1.0508e+01,\n",
       "        1.1203e+01, 1.1967e+01, 1.2014e+01, 1.1378e+01, 1.1617e+01, 1.1638e+01,\n",
       "        1.1533e+01, 1.0777e+01, 1.8621e+00, 1.7930e+00, 5.6382e-01, 4.5658e-01,\n",
       "        8.5031e-01, 2.1815e-01, 2.5807e-01, 1.1143e-01, 3.8832e-01, 2.5207e-01,\n",
       "        1.1205e+00, 3.7061e-02, 2.2530e-01, 8.7441e-02, 4.8189e-02, 8.6083e-02,\n",
       "        2.8574e-01, 1.1512e-01, 1.0773e-01, 1.0128e-01, 9.0191e-03, 4.9478e-02,\n",
       "        1.5697e-01, 8.6714e-02, 2.0701e-02, 1.6719e-02, 1.2021e-02, 5.8455e-03,\n",
       "        5.7148e-02, 1.6464e-02, 5.1746e-02, 1.1311e+00, 3.0567e-02, 3.1381e-02,\n",
       "        2.2114e-02, 3.2622e-02, 8.0153e-02, 1.0894e-02, 3.2944e-02, 7.3833e-03,\n",
       "        9.5044e-02, 5.2417e-02, 3.3418e-02, 6.2820e-02, 4.2393e-01, 2.9897e-02,\n",
       "        2.1131e+00, 1.6053e+00, 1.1189e-01], device='cuda:0')"
      ]
     },
     "execution_count": 32,
     "metadata": {},
     "output_type": "execute_result"
    },
    {
     "data": {
      "image/png": "[encoded data removed]",
      "text/plain": [
       "<Figure size 640x480 with 1 Axes>"
      ]
     },
     "metadata": {},
     "output_type": "display_data"
    }
   ],
   "source": [
    "\n",
    "batch_size = 10\n",
    "seq_len = 50\n",
    "random_tokens = torch.randint(1000, 10000, (batch_size, seq_len)).to(model.cfg.device)\n",
    "repeated_tokens = einops.repeat(random_tokens, \"batch seq_len -> batch (2 seq_len)\")\n",
    "#print(repeated_tokens.shape)\n",
    "repeated_logits = model(repeated_tokens)\n",
    "correct_log_probs = model.loss_fn(repeated_logits, repeated_tokens, per_token=True)\n",
    "loss_by_position = einops.reduce(correct_log_probs, \"batch position -> position\", \"mean\")\n",
    "plt.plot(loss_by_position.cpu())\n",
    "plt.title(\"Loss by position on random repeated tokens\")\n",
    "plt.xlabel(\"Position\")\n",
    "plt.ylabel(\"Loss\")\n",
    "loss_by_position.cuda()"
   ]
  },
  {
   "cell_type": "markdown",
   "metadata": {
    "id": "08-As9rmHtgR"
   },
   "source": [
    "The induction heads will be attending from the second occurence of each token to the token *after* its first occurence, ie the token `50-1==49` places back. So by looking at the average attention paid 49 tokens back, we can identify induction heads! Let's define a hook to do this!\n",
    "\n",
    "<details><summary>Technical details</summary>\n",
    "\n",
    "* We attach the hook to the attention pattern activation. There's one big pattern activation per layer, stacked across all heads, so we need to do some tensor manipulation to get a per-head score.\n",
    "* Hook functions can access global state, so we make a big tensor to store the induction head score for each head, and then we just add the score for each head to the appropriate position in the tensor.\n",
    "* To get a single hook function that works for each layer, we use the `hook.layer()` method to get the layer index (internally this is just inferred from the hook names).\n",
    "* As we want to add this to *every* activation pattern hook point, rather than giving the string for an activation name, this time we give a **name filter**. This is a Boolean function on hook point names, and it adds the hook function to every hook point where the function evaluates as true.\n",
    "    * `run_with_hooks` allows us to enter a list of (act_name, hook_function) pairs to all be added at once, so we could also have done this by inputting a list with a hook for each layer.\n",
    "</details>"
   ]
  },
  {
   "cell_type": "code",
   "execution_count": 42,
   "metadata": {
    "colab": {
     "base_uri": "https://localhost:8080/",
     "height": 542
    },
    "id": "euALzW2QHtgS",
    "outputId": "02e507c7-5df0-4258-faf9-06be8c34abf3"
   },
   "outputs": [
    {
     "data": {
      "text/plain": [
       "tensor([[1.0063e-02, 9.3337e-05, 1.0915e-02, 7.3806e-07, 1.4103e-04, 1.4896e-04,\n",
       "         9.6061e-03, 7.8417e-04, 8.5725e-03, 9.1359e-03, 6.8598e-03, 1.5073e-02],\n",
       "        [7.5051e-04, 4.8192e-04, 2.0631e-03, 1.4270e-02, 5.0107e-03, 1.0294e-02,\n",
       "         1.6686e-02, 1.3087e-02, 1.2959e-02, 1.5640e-02, 6.3851e-03, 5.5452e-04],\n",
       "        [4.6418e-03, 1.7952e-02, 3.1872e-03, 1.3594e-03, 1.5605e-02, 2.1412e-03,\n",
       "         5.0826e-03, 8.3533e-03, 4.0781e-03, 2.0482e-03, 6.7442e-04, 1.0537e-02],\n",
       "        [1.4997e-02, 7.9191e-03, 2.5391e-03, 1.1976e-02, 2.1244e-02, 1.1588e-02,\n",
       "         1.6467e-03, 1.1165e-03, 5.7602e-03, 1.2972e-02, 8.4763e-03, 6.8138e-03],\n",
       "        [1.4474e-02, 1.3953e-02, 1.4858e-02, 9.8572e-03, 1.8302e-02, 1.2962e-02,\n",
       "         8.9281e-03, 1.7229e-03, 1.5748e-02, 1.3494e-02, 1.8656e-02, 3.4990e-08],\n",
       "        [4.6638e-01, 9.0592e-01, 1.5069e-02, 7.7775e-03, 1.1398e-02, 9.2876e-01,\n",
       "         8.7496e-03, 1.8292e-02, 2.6725e-02, 2.8894e-02, 1.9910e-02, 1.7460e-02],\n",
       "        [8.8212e-03, 1.7677e-02, 1.8215e-02, 1.4280e-02, 2.2620e-02, 1.1709e-02,\n",
       "         2.9619e-02, 1.0388e-02, 9.4859e-03, 9.1080e-01, 3.5116e-02, 1.2539e-02],\n",
       "        [9.4629e-03, 1.8018e-01, 8.5382e-01, 1.7983e-02, 1.8566e-02, 1.7736e-02,\n",
       "         4.3711e-02, 9.0249e-02, 1.5734e-02, 1.9046e-02, 9.1940e-01, 5.4942e-02],\n",
       "        [1.6289e-02, 4.0899e-01, 1.2991e-02, 4.6155e-02, 1.7172e-02, 1.1902e-02,\n",
       "         1.5081e-01, 1.1805e-02, 3.1547e-02, 3.2581e-02, 7.0331e-02, 2.0158e-02],\n",
       "        [2.5510e-01, 1.8871e-01, 1.0422e-01, 1.2590e-02, 8.9672e-02, 2.6839e-02,\n",
       "         4.6179e-01, 2.8801e-02, 5.1620e-02, 4.6984e-01, 1.6710e-02, 4.0068e-02],\n",
       "        [3.5266e-01, 5.1318e-01, 3.6148e-02, 1.4691e-01, 5.8702e-02, 1.5192e-02,\n",
       "         3.1422e-01, 4.5418e-01, 5.2448e-02, 1.4911e-02, 1.7173e-01, 2.6676e-01],\n",
       "        [1.7111e-02, 5.3443e-02, 3.5790e-02, 9.4545e-03, 3.8132e-02, 1.0475e-01,\n",
       "         5.2561e-02, 6.9990e-02, 8.1353e-03, 3.2121e-01, 4.0877e-01, 2.1989e-02]],\n",
       "       device='cuda:0')"
      ]
     },
     "execution_count": 42,
     "metadata": {},
     "output_type": "execute_result"
    },
    {
     "data": {
      "image/png": "[encoded data removed]",
      "text/plain": [
       "<Figure size 640x480 with 2 Axes>"
      ]
     },
     "metadata": {},
     "output_type": "display_data"
    }
   ],
   "source": [
    "# We make a tensor to store the induction score for each head. We put it on the model's device to avoid needing to move things between the GPU and CPU, which can be slow.\n",
    "induction_score_store = torch.zeros((model.cfg.n_layers, model.cfg.n_heads), device=model.cfg.device)\n",
    "def induction_score_hook(\n",
    "    pattern: Float[torch.Tensor, \"batch head_index dest_pos source_pos\"],\n",
    "    hook: HookPoint,\n",
    "):\n",
    "    # We take the diagonal of attention paid from each destination position to source positions seq_len-1 tokens back\n",
    "    # (This only has entries for tokens with index>=seq_len)\n",
    "    induction_stripe = pattern.diagonal(dim1=-2, dim2=-1, offset=1-seq_len)\n",
    "    # Get an average score per head\n",
    "    induction_score = einops.reduce(induction_stripe, \"batch head_index position -> head_index\", \"mean\")\n",
    "    # Store the result.\n",
    "    induction_score_store[hook.layer(), :] = induction_score\n",
    "\n",
    "# We make a boolean filter on activation names, that's true only on attention pattern names.\n",
    "pattern_hook_names_filter = lambda name: name.endswith(\"pattern\")\n",
    "\n",
    "model.run_with_hooks(\n",
    "    repeated_tokens,\n",
    "    return_type=None, # For efficiency, we don't need to calculate the logits\n",
    "    fwd_hooks=[(\n",
    "        pattern_hook_names_filter,\n",
    "        induction_score_hook\n",
    "    )]\n",
    ")\n",
    "\n",
    "im=plt.imshow(induction_score_store.cpu(),cmap=\"Blues\")\n",
    "plt.xlabel(\"Head\")\n",
    "plt.ylabel(\"Layer\")\n",
    "plt.title(\"Induction Score by Head\")\n",
    "colorbar(im)\n",
    "#plt.imshow(induction_score_store, xaxis=\"Head\", yaxis=\"Layer\", title=\"Induction Score by Head\")\n",
    "induction_score_store.cuda()"
   ]
  },
  {
   "cell_type": "markdown",
   "metadata": {
    "id": "Eo_-TrP8HtgS"
   },
   "source": [
    "Head 5 in Layer 5 scores extremely highly on this score, and we can feed in a shorter repeated random sequence, visualize the attention pattern for it and see this directly - including the \"induction stripe\" at `seq_len-1` tokens back.\n",
    "\n",
    "This time we put in a hook on the attention pattern activation to visualize the pattern of the relevant head."
   ]
  },
  {
   "cell_type": "code",
   "execution_count": 23,
   "metadata": {
    "id": "VfD1UjRgOoDM"
   },
   "outputs": [],
   "source": [
    "#batch_size = 10\n",
    "#seq_len = 50\n",
    "#random_tokens = torch.randint(1000, 10000, (1, seq_len)).to(model.cfg.device)\n",
    "#random_tokens2 = (random_tokens/2).to(random_tokens.dtype)\n",
    "#random_tokens4 = (random_tokens/4).to(random_tokens.dtype)\n",
    "#random_tokens8 = (random_tokens/8).to(random_tokens.dtype)\n",
    "#repeated_tokens_2 = torch.cat((random_tokens,random_tokens2,random_tokens4,random_tokens8),1)\n",
    "#repeated_random_sequence=repeated_tokens_2\n",
    "\n",
    "repeated_random_sequence = repeated_tokens[0,:]"
   ]
  },
  {
   "cell_type": "code",
   "execution_count": 24,
   "metadata": {
    "colab": {
     "base_uri": "https://localhost:8080/",
     "height": 455
    },
    "id": "LINndcgdHtgS",
    "outputId": "6e86fa2f-2c63-4e71-a048-07e0b8223638"
   },
   "outputs": [
    {
     "data": {
      "text/html": [
       "<div id=\"circuits-vis-633c5de4-4765\" style=\"margin: 15px 0;\"/>\n",
       "    <script crossorigin type=\"module\">\n",
       "    import { render, AttentionPatterns } from \"https://unpkg.com/circuitsvis@1.40.0/dist/cdn/esm.js\";\n",
       "    render(\n",
       "      \"circuits-vis-633c5de4-4765\",\n",
       "      AttentionPatterns,\n",
       "      {\"tokens\": [\" Rus\", \"friend\", \"========\", \"ifest\", \"atus\", \" adults\", \" ;\", \"95\", \" construction\", \"ologies\", \" related\", \"mm\", \" understanding\", \" Stone\", \"pir\", \" myth\", \" accurate\", \" hitting\", \" strateg\", \"Sec\", \" Rus\", \"friend\", \"========\", \"ifest\", \"atus\", \" adults\", \" ;\", \"95\", \" construction\", \"ologies\", \" related\", \"mm\", \" understanding\", \" Stone\", \"pir\", \" myth\", \" accurate\", \" hitting\", \" strateg\", \"Sec\"], \"attention\": [[[1.0, 0.0, 0.0, 0.0, 0.0, 0.0, 0.0, 0.0, 0.0, 0.0, 0.0, 0.0, 0.0, 0.0, 0.0, 0.0, 0.0, 0.0, 0.0, 0.0, 0.0, 0.0, 0.0, 0.0, 0.0, 0.0, 0.0, 0.0, 0.0, 0.0, 0.0, 0.0, 0.0, 0.0, 0.0, 0.0, 0.0, 0.0, 0.0, 0.0], [0.999531626701355, 0.0004683698352891952, 0.0, 0.0, 0.0, 0.0, 0.0, 0.0, 0.0, 0.0, 0.0, 0.0, 0.0, 0.0, 0.0, 0.0, 0.0, 0.0, 0.0, 0.0, 0.0, 0.0, 0.0, 0.0, 0.0, 0.0, 0.0, 0.0, 0.0, 0.0, 0.0, 0.0, 0.0, 0.0, 0.0, 0.0, 0.0, 0.0, 0.0, 0.0], [0.9945359230041504, 0.0005124010494910181, 0.0049517410807311535, 0.0, 0.0, 0.0, 0.0, 0.0, 0.0, 0.0, 0.0, 0.0, 0.0, 0.0, 0.0, 0.0, 0.0, 0.0, 0.0, 0.0, 0.0, 0.0, 0.0, 0.0, 0.0, 0.0, 0.0, 0.0, 0.0, 0.0, 0.0, 0.0, 0.0, 0.0, 0.0, 0.0, 0.0, 0.0, 0.0, 0.0], [0.9959306120872498, 2.2821754100732505e-05, 0.0015706598060205579, 0.0024759790394455194, 0.0, 0.0, 0.0, 0.0, 0.0, 0.0, 0.0, 0.0, 0.0, 0.0, 0.0, 0.0, 0.0, 0.0, 0.0, 0.0, 0.0, 0.0, 0.0, 0.0, 0.0, 0.0, 0.0, 0.0, 0.0, 0.0, 0.0, 0.0, 0.0, 0.0, 0.0, 0.0, 0.0, 0.0, 0.0, 0.0], [0.9969348907470703, 0.00084249849896878, 0.0018128835363313556, 3.210978684364818e-05, 0.00037769740447402, 0.0, 0.0, 0.0, 0.0, 0.0, 0.0, 0.0, 0.0, 0.0, 0.0, 0.0, 0.0, 0.0, 0.0, 0.0, 0.0, 0.0, 0.0, 0.0, 0.0, 0.0, 0.0, 0.0, 0.0, 0.0, 0.0, 0.0, 0.0, 0.0, 0.0, 0.0, 0.0, 0.0, 0.0, 0.0], [0.9759830236434937, 0.0002224074851255864, 0.0022661290131509304, 1.99361820705235e-05, 0.020107250660657883, 0.001401259913109243, 0.0, 0.0, 0.0, 0.0, 0.0, 0.0, 0.0, 0.0, 0.0, 0.0, 0.0, 0.0, 0.0, 0.0, 0.0, 0.0, 0.0, 0.0, 0.0, 0.0, 0.0, 0.0, 0.0, 0.0, 0.0, 0.0, 0.0, 0.0, 0.0, 0.0, 0.0, 0.0, 0.0, 0.0], [0.9118958115577698, 4.979078312317142e-06, 0.000639859470538795, 0.0004943323438055813, 0.0013012835988774896, 0.0002050077309831977, 0.08545868843793869, 0.0, 0.0, 0.0, 0.0, 0.0, 0.0, 0.0, 0.0, 0.0, 0.0, 0.0, 0.0, 0.0, 0.0, 0.0, 0.0, 0.0, 0.0, 0.0, 0.0, 0.0, 0.0, 0.0, 0.0, 0.0, 0.0, 0.0, 0.0, 0.0, 0.0, 0.0, 0.0, 0.0], [0.9794561266899109, 0.0002511628845240921, 0.00011786911636590958, 1.6660671462886967e-05, 0.00010963174281641841, 0.001868568011559546, 0.0056022461503744125, 0.012577790766954422, 0.0, 0.0, 0.0, 0.0, 0.0, 0.0, 0.0, 0.0, 0.0, 0.0, 0.0, 0.0, 0.0, 0.0, 0.0, 0.0, 0.0, 0.0, 0.0, 0.0, 0.0, 0.0, 0.0, 0.0, 0.0, 0.0, 0.0, 0.0, 0.0, 0.0, 0.0, 0.0], [0.9795641303062439, 0.003184791887179017, 0.001216272241435945, 5.57171406398993e-05, 0.006441529840230942, 0.0007015278097242117, 0.0010321482550352812, 0.0006271311431191862, 0.00717662600800395, 0.0, 0.0, 0.0, 0.0, 0.0, 0.0, 0.0, 0.0, 0.0, 0.0, 0.0, 0.0, 0.0, 0.0, 0.0, 0.0, 0.0, 0.0, 0.0, 0.0, 0.0, 0.0, 0.0, 0.0, 0.0, 0.0, 0.0, 0.0, 0.0, 0.0, 0.0], [0.8738850355148315, 0.0004443569923751056, 0.0006933371187187731, 0.00019923558284062892, 0.0008070627227425575, 0.08079636096954346, 0.02684304490685463, 0.003503781743347645, 0.00637997267767787, 0.006447724066674709, 0.0, 0.0, 0.0, 0.0, 0.0, 0.0, 0.0, 0.0, 0.0, 0.0, 0.0, 0.0, 0.0, 0.0, 0.0, 0.0, 0.0, 0.0, 0.0, 0.0, 0.0, 0.0, 0.0, 0.0, 0.0, 0.0, 0.0, 0.0, 0.0, 0.0], [0.9826864004135132, 0.00011571875074878335, 0.005924446973949671, 0.0021335443016141653, 0.0019932505674660206, 0.0007158084772527218, 0.0014243549667298794, 0.0011163450544700027, 0.0003295087371952832, 0.00010332756937714294, 0.003457253333181143, 0.0, 0.0, 0.0, 0.0, 0.0, 0.0, 0.0, 0.0, 0.0, 0.0, 0.0, 0.0, 0.0, 0.0, 0.0, 0.0, 0.0, 0.0, 0.0, 0.0, 0.0, 0.0, 0.0, 0.0, 0.0, 0.0, 0.0, 0.0, 0.0], [0.9829480051994324, 0.0004774077679030597, 0.001237555523402989, 0.00022836487914901227, 0.001624073600396514, 0.0008318226900883019, 0.008830483071506023, 0.002365980762988329, 0.0010382934706285596, 1.8422899472625431e-07, 0.0001737833663355559, 0.00024405783915426582, 0.0, 0.0, 0.0, 0.0, 0.0, 0.0, 0.0, 0.0, 0.0, 0.0, 0.0, 0.0, 0.0, 0.0, 0.0, 0.0, 0.0, 0.0, 0.0, 0.0, 0.0, 0.0, 0.0, 0.0, 0.0, 0.0, 0.0, 0.0], [0.942933201789856, 0.00011762846406782046, 0.007225393783301115, 0.002464683959260583, 0.005623658187687397, 0.0014877177309244871, 0.0035461389925330877, 0.008145174942910671, 0.0010342616587877274, 0.0002593779645394534, 0.008469633758068085, 0.011321728117763996, 0.007371383719146252, 0.0, 0.0, 0.0, 0.0, 0.0, 0.0, 0.0, 0.0, 0.0, 0.0, 0.0, 0.0, 0.0, 0.0, 0.0, 0.0, 0.0, 0.0, 0.0, 0.0, 0.0, 0.0, 0.0, 0.0, 0.0, 0.0, 0.0], [0.995697021484375, 0.0005945206503383815, 0.0001814057322917506, 0.00011184824688825756, 0.00016898378089535981, 6.369968468789011e-05, 0.00022964221716392785, 0.0002012627519434318, 0.0005352709558792412, 0.0014230486704036593, 0.0002307761606061831, 2.6916497972706566e-06, 9.281960956286639e-05, 0.00046699479571543634, 0.0, 0.0, 0.0, 0.0, 0.0, 0.0, 0.0, 0.0, 0.0, 0.0, 0.0, 0.0, 0.0, 0.0, 0.0, 0.0, 0.0, 0.0, 0.0, 0.0, 0.0, 0.0, 0.0, 0.0, 0.0, 0.0], [0.8601844906806946, 0.10891255736351013, 0.020015724003314972, 0.003055770182982087, 0.0010641394183039665, 0.003808029927313328, 0.00011539115075720474, 6.684816980850883e-06, 2.4603577912785113e-05, 0.0002849749871529639, 0.00041924201650545, 3.0470559067907743e-05, 0.0019229166209697723, 0.00013041494821663946, 2.458345261402428e-05, 0.0, 0.0, 0.0, 0.0, 0.0, 0.0, 0.0, 0.0, 0.0, 0.0, 0.0, 0.0, 0.0, 0.0, 0.0, 0.0, 0.0, 0.0, 0.0, 0.0, 0.0, 0.0, 0.0, 0.0, 0.0], [0.9055620431900024, 0.0023061074316501617, 0.004300756845623255, 0.0017177935224026442, 0.003730005817487836, 0.020920081064105034, 0.0030182995833456516, 0.000652186805382371, 0.00033749573049135506, 8.752494977670722e-06, 0.000239322820561938, 0.00020612272783182561, 0.03692479059100151, 0.014035874046385288, 4.535076368483715e-05, 0.005995016545057297, 0.0, 0.0, 0.0, 0.0, 0.0, 0.0, 0.0, 0.0, 0.0, 0.0, 0.0, 0.0, 0.0, 0.0, 0.0, 0.0, 0.0, 0.0, 0.0, 0.0, 0.0, 0.0, 0.0, 0.0], [0.8872156739234924, 0.0003382490831427276, 0.00034443329786881804, 0.0006536052096635103, 0.008358689956367016, 0.002762316493317485, 0.0014644914772361517, 0.012812337838113308, 0.030420808121562004, 0.0001510349102318287, 0.0007329504005610943, 0.000335259479470551, 0.009108162485063076, 0.03523790463805199, 1.3254666555440053e-06, 0.0002050600596703589, 0.00985775887966156, 0.0, 0.0, 0.0, 0.0, 0.0, 0.0, 0.0, 0.0, 0.0, 0.0, 0.0, 0.0, 0.0, 0.0, 0.0, 0.0, 0.0, 0.0, 0.0, 0.0, 0.0, 0.0, 0.0], [0.9828285574913025, 0.004228048026561737, 0.001635305117815733, 0.00037014030385762453, 1.879127012216486e-05, 0.00032121260301209986, 7.682680006837472e-05, 0.0001787016080925241, 7.311266381293535e-05, 4.244977026246488e-05, 9.323571248387452e-06, 1.8179684047936462e-05, 0.0001269525964744389, 0.0030834099743515253, 5.382382823881926e-06, 0.005743286106735468, 0.000738946779165417, 0.0005013361806049943, 0.0, 0.0, 0.0, 0.0, 0.0, 0.0, 0.0, 0.0, 0.0, 0.0, 0.0, 0.0, 0.0, 0.0, 0.0, 0.0, 0.0, 0.0, 0.0, 0.0, 0.0, 0.0], [0.697114109992981, 0.06721457839012146, 0.023615816608071327, 0.010065888054668903, 0.002987184561789036, 0.018066564574837685, 0.0002881472755689174, 0.00021394090435933322, 0.0005771743599325418, 0.08905162662267685, 0.013998064212501049, 0.0032063990365713835, 0.002891694428399205, 0.01014646701514721, 0.0004374582495074719, 0.03901875391602516, 0.017701134085655212, 0.00022911743144504726, 0.0031758747063577175, 0.0, 0.0, 0.0, 0.0, 0.0, 0.0, 0.0, 0.0, 0.0, 0.0, 0.0, 0.0, 0.0, 0.0, 0.0, 0.0, 0.0, 0.0, 0.0, 0.0, 0.0], [0.9109858274459839, 0.027223065495491028, 0.0021458102855831385, 0.01865161396563053, 0.0010640390682965517, 0.0002773342130240053, 0.0001020772397168912, 5.453904304886237e-05, 0.001922618132084608, 0.000683041347656399, 0.007879309356212616, 0.00019302165310364217, 0.0006814949447289109, 0.004180543124675751, 2.4523289539502002e-05, 0.001996238948777318, 0.0008594666724093258, 0.000642186205368489, 6.64018034512992e-06, 0.020426638424396515, 0.0, 0.0, 0.0, 0.0, 0.0, 0.0, 0.0, 0.0, 0.0, 0.0, 0.0, 0.0, 0.0, 0.0, 0.0, 0.0, 0.0, 0.0, 0.0, 0.0], [0.020127277821302414, 0.9653438329696655, 0.00011197541607543826, 2.3208231141325086e-05, 1.0593694810268062e-08, 4.715994145954028e-05, 7.529031336162006e-07, 1.5463788827219105e-07, 3.7730180338257924e-05, 1.4403502063942142e-05, 3.962091068387963e-05, 1.2269409126020037e-05, 8.55373127706116e-06, 2.3725766368443146e-05, 1.3884835503574777e-08, 0.0024295116309076548, 9.91451906884322e-06, 2.7285086616757326e-06, 2.410416072962107e-06, 0.008496394380927086, 0.0032683718018233776, 0.0, 0.0, 0.0, 0.0, 0.0, 0.0, 0.0, 0.0, 0.0, 0.0, 0.0, 0.0, 0.0, 0.0, 0.0, 0.0, 0.0, 0.0, 0.0], [0.041178587824106216, 0.0008129655616357923, 0.9372797608375549, 0.013365907594561577, 4.0609589632367715e-05, 2.090125417453237e-05, 4.9085618229582906e-05, 8.605440962128341e-05, 7.860295590944588e-05, 1.7899991462400067e-06, 1.2160048754594754e-06, 0.0002825649280566722, 0.00045216147555038333, 0.0005463692359626293, 1.949740635609487e-07, 0.004352740943431854, 3.9669437683187425e-05, 3.156151797156781e-05, 1.3562585081672296e-05, 0.0010802539763972163, 0.00022093343432061374, 6.450207729358226e-05, 0.0, 0.0, 0.0, 0.0, 0.0, 0.0, 0.0, 0.0, 0.0, 0.0, 0.0, 0.0, 0.0, 0.0, 0.0, 0.0, 0.0, 0.0], [0.0752733051776886, 0.000879055995028466, 0.0010334973921999335, 0.9035037159919739, 0.0004084440297447145, 2.7649211915559135e-06, 3.5767911867878865e-06, 9.259886428480968e-05, 6.843706069048494e-05, 5.860579790351039e-07, 2.4712467165954877e-06, 1.6132356904563494e-05, 0.0003332575724925846, 0.0008644092595204711, 4.096889938409731e-08, 0.0007043798104859889, 7.074361201375723e-05, 3.7738958781119436e-05, 2.3967511879163794e-05, 0.0011426841374486685, 0.010593453422188759, 3.440725777181797e-05, 0.004910383839160204, 0.0, 0.0, 0.0, 0.0, 0.0, 0.0, 0.0, 0.0, 0.0, 0.0, 0.0, 0.0, 0.0, 0.0, 0.0, 0.0, 0.0], [0.005788819864392281, 4.963727405993268e-06, 7.032821304164827e-05, 8.708312088856474e-05, 0.9903843402862549, 0.00017424256657250226, 0.00035863029188476503, 0.000413202156778425, 0.0001572438341099769, 0.0005697553278878331, 4.5631830289494246e-05, 4.049134440720081e-05, 0.0003691882302518934, 0.0004738653660751879, 3.2672144811840553e-07, 5.6129767472157255e-05, 0.00020505489374045283, 0.0006629506242461503, 1.5752135595903383e-06, 6.950781244086102e-05, 5.564698949456215e-05, 2.5348376730960354e-09, 4.620732397597749e-06, 6.476983344327891e-06, 0.0, 0.0, 0.0, 0.0, 0.0, 0.0, 0.0, 0.0, 0.0, 0.0, 0.0, 0.0, 0.0, 0.0, 0.0, 0.0], [0.025654446333646774, 0.00014680928143206984, 0.00021126952196937054, 8.178647476597689e-06, 4.223876021569595e-05, 0.9663442373275757, 0.0008637027349323034, 0.00018148697563447058, 0.0012565344804897904, 1.2561426046886481e-05, 0.0029413667507469654, 6.970023150643101e-06, 0.00014965859008952975, 0.0004057204641867429, 3.0798319450298095e-09, 0.00014250713866204023, 0.0005304969963617623, 0.0001685710158199072, 9.939763003785629e-07, 0.00041447472176514566, 2.2868214728077874e-05, 1.2755097031913465e-06, 1.6822548786876723e-05, 4.758295290230308e-06, 0.0004720692231785506, 0.0, 0.0, 0.0, 0.0, 0.0, 0.0, 0.0, 0.0, 0.0, 0.0, 0.0, 0.0, 0.0, 0.0, 0.0], [0.05875638872385025, 3.821599966613576e-05, 0.00032250041840597987, 2.824111334120971e-06, 0.0038031870499253273, 0.0005269921384751797, 0.867560863494873, 0.031454626470804214, 0.017227113246917725, 0.00032485800329595804, 0.001605296041816473, 0.00012378855899441987, 0.003141656517982483, 0.0031664492562413216, 8.316391131302225e-07, 2.125907121808268e-05, 0.00044451034045778215, 0.0009325573337264359, 3.7679083106922917e-06, 0.0007692905492149293, 4.5530407078331336e-05, 7.568893067855242e-08, 4.030390118714422e-05, 7.004819622125069e-07, 0.007899894379079342, 0.001786501961760223, 0.0, 0.0, 0.0, 0.0, 0.0, 0.0, 0.0, 0.0, 0.0, 0.0, 0.0, 0.0, 0.0, 0.0], [0.07431084662675858, 1.737146703817416e-06, 3.4788987250067294e-05, 1.8647451724973507e-05, 6.994645809754729e-05, 1.0146925887966063e-05, 0.006864291150122881, 0.8979796767234802, 0.004949525464326143, 3.6668738175649196e-05, 6.419724377337843e-05, 4.6728910092497244e-05, 0.0005009681335650384, 0.0031091715209186077, 6.284428764047334e-07, 2.3923200842546066e-06, 7.812114927219227e-05, 0.00028859919984824955, 1.5337498552980833e-05, 0.00010856106382561848, 3.821185146080097e-06, 6.2570206793566285e-09, 2.0979605324100703e-06, 1.468126697545813e-06, 0.00011192879173904657, 2.8829808798036538e-05, 0.011360823176801205, 0.0, 0.0, 0.0, 0.0, 0.0, 0.0, 0.0, 0.0, 0.0, 0.0, 0.0, 0.0, 0.0], [0.07585705816745758, 2.446125836286228e-05, 6.309182481345488e-06, 7.684324714318791e-07, 6.793235570512479e-06, 3.887673301505856e-05, 0.0003225056279916316, 0.0007704817689955235, 0.9210354685783386, 6.521036266349256e-05, 2.327017136849463e-05, 9.398968359164428e-08, 2.677846532606054e-05, 4.638599057216197e-05, 2.108788477173107e-09, 8.980699703897699e-07, 4.1549392335582525e-06, 0.0002942316932603717, 9.61710640012825e-08, 0.00017973985814023763, 2.0690546080004424e-05, 3.308232976451109e-08, 3.9560492837154015e-07, 2.8429698772924894e-07, 1.4365433344210032e-05, 8.265372889582068e-05, 0.0003564294020179659, 0.0008214392582885921, 0.0, 0.0, 0.0, 0.0, 0.0, 0.0, 0.0, 0.0, 0.0, 0.0, 0.0, 0.0], [0.03126876428723335, 0.00020581642456818372, 2.0546625819406472e-05, 1.4445269016505335e-06, 9.825851157074794e-05, 6.749863132426981e-06, 3.014848698512651e-05, 4.2134099203394726e-05, 0.0015551841352134943, 0.9584863185882568, 0.0013866487424820662, 3.1810930067877052e-06, 8.692553024047811e-07, 0.00010899349581450224, 2.8847779276475194e-07, 2.641239552758634e-05, 3.7234785850159824e-06, 1.4620570254919585e-05, 9.60796910476347e-07, 0.00481541408225894, 4.1396455344511196e-05, 1.104639409277297e-06, 2.145888629456749e-06, 6.95231790359685e-07, 0.0007526542176492512, 4.6598892367910594e-05, 2.939728983619716e-05, 9.963029879145324e-05, 0.0009498365689069033, 0.0, 0.0, 0.0, 0.0, 0.0, 0.0, 0.0, 0.0, 0.0, 0.0, 0.0], [0.08184467256069183, 0.00013071164721623063, 3.182327054673806e-05, 5.110957135912031e-05, 0.0001664020528551191, 0.002974813338369131, 0.002701692283153534, 0.0007326817722059786, 0.002735632937401533, 0.0005282596102915704, 0.8837767243385315, 0.0005809141439385712, 0.0005886567523702979, 0.007296388503164053, 1.2109234148738324e-07, 4.7780817112652585e-05, 0.0001544065889902413, 0.0004802380863111466, 7.694180226280878e-07, 0.0020850696600973606, 0.00037752094794996083, 4.9506556933920365e-06, 4.209500730212312e-06, 9.407030120200943e-06, 0.00045708296238444746, 0.005747310817241669, 0.0024174742866307497, 0.0014101063134148717, 0.0005026287981308997, 0.002160480013117194, 0.0, 0.0, 0.0, 0.0, 0.0, 0.0, 0.0, 0.0, 0.0, 0.0], [0.039240360260009766, 6.055500307411421e-06, 7.086592813720927e-05, 5.591262743109837e-05, 5.557929034694098e-05, 5.54987082068692e-06, 2.0991526980651543e-05, 3.0910592613508925e-05, 2.1544276023632847e-05, 2.5459683001827216e-06, 0.00012148887617513537, 0.9532162547111511, 0.0016228180611506104, 0.004987903404980898, 1.4334064490917342e-10, 4.859510340793349e-07, 1.4323170034913346e-05, 1.4363877198775299e-05, 2.3554520112156752e-07, 0.00018688339332584292, 5.316525857779197e-06, 2.7110104383609723e-07, 7.749204087303951e-06, 2.533201222831849e-05, 0.0001367325457977131, 8.122389772324823e-06, 4.725005055661313e-06, 4.130460001761094e-05, 1.8241316013245523e-07, 3.272837602708023e-06, 9.193385631078854e-05, 0.0, 0.0, 0.0, 0.0, 0.0, 0.0, 0.0, 0.0, 0.0], [0.0832647755742073, 3.8818136090412736e-05, 6.306005525402725e-05, 5.214244083617814e-05, 0.0002786551776807755, 1.8062888557324186e-05, 0.000555255392100662, 0.0005904206191189587, 0.00025007681688293815, 1.546511008143625e-08, 5.9874400903936476e-06, 9.654781752033159e-05, 0.9051847457885742, 0.001804491737857461, 9.512783094578481e-08, 1.7105319784604944e-05, 0.003479799721390009, 0.0023025311529636383, 1.0517333066673018e-06, 0.00010922766523435712, 9.651828440837562e-05, 3.5740431059139155e-08, 6.2825133682054e-06, 9.765594768396113e-06, 0.00030723988311365247, 1.0439233847137075e-05, 0.0003127203672192991, 0.0011114319786429405, 1.3538869097828865e-05, 4.1202316225508184e-08, 2.7131013666803483e-06, 1.6373083781218156e-05, 0.0, 0.0, 0.0, 0.0, 0.0, 0.0, 0.0, 0.0], [0.1005738154053688, 1.58901766553754e-05, 0.0005443802801892161, 0.00035640300484374166, 0.001172102871350944, 9.206914546666667e-05, 0.0004951389855705202, 0.0025823067408055067, 0.00027354160556569695, 6.650976956734667e-06, 0.0007620690157637, 0.0020206545013934374, 0.005361518356949091, 0.8683354258537292, 2.0452256777048206e-08, 5.315491307555931e-06, 0.0009567515808157623, 0.008636732585728168, 1.5548303053947166e-05, 0.0008461193647235632, 0.00021243390801828355, 1.3874218041109998e-07, 0.00012727442663162947, 0.00012836420501116663, 0.0018799970857799053, 0.00022723207075614482, 0.0002886729489546269, 0.0018224329687654972, 2.0508910893113352e-05, 7.565174655610463e-06, 0.0004211517807561904, 0.0007496505859307945, 0.001062100287526846, 0.0, 0.0, 0.0, 0.0, 0.0, 0.0, 0.0], [0.060984931886196136, 3.5600256524048746e-05, 9.447146112506744e-06, 7.624420049978653e-06, 8.986110515252221e-06, 1.3992440699439612e-06, 1.2841159332310781e-05, 3.6131441447651014e-05, 4.023095971206203e-05, 1.866479215095751e-05, 3.215164724679198e-06, 1.444990687105019e-07, 1.0796235983434599e-05, 8.020667883101851e-05, 0.9344705939292908, 0.0036295780446380377, 0.0002469941391609609, 5.900014366488904e-05, 9.657445843913592e-06, 7.53368585719727e-05, 6.087109068175778e-05, 1.0146637805519276e-06, 9.942117685568519e-06, 1.4727461348229554e-05, 9.785847214516252e-05, 4.040939074911876e-06, 5.104096544528147e-06, 4.750221341964789e-05, 1.13729652184702e-06, 1.1536522833921481e-05, 3.0574207698919054e-07, 9.044645921107985e-09, 1.6973106653495051e-07, 4.2975962060154416e-06, 0.0, 0.0, 0.0, 0.0, 0.0, 0.0], [0.07177092880010605, 0.04178592190146446, 0.0027280861977487803, 0.0007242852007038891, 7.393572013825178e-05, 0.0002674506395123899, 1.1726065167749766e-05, 1.8739794995781267e-06, 1.1043839549529366e-05, 2.2053929569665343e-05, 1.8604188880999573e-05, 1.7394168025930412e-06, 0.00029471522429957986, 2.9887865821365267e-05, 8.484556929033715e-06, 0.8506177663803101, 0.0009758971282280982, 3.913749969797209e-05, 0.0002784608514048159, 0.017535703256726265, 0.0009768357267603278, 0.002419719472527504, 0.005283472128212452, 0.003178045619279146, 0.0005999131826683879, 0.000255339517025277, 3.2757304779806873e-06, 2.466299065417843e-06, 4.163968299053522e-07, 2.4812623450998217e-05, 9.083662007469684e-06, 1.661881583459035e-07, 1.5116793292691e-05, 2.504946678527631e-06, 3.096999353147112e-05, 0.0, 0.0, 0.0, 0.0, 0.0], [0.03055703081190586, 0.0001686478208284825, 0.00011226772767258808, 9.797359234653413e-05, 5.286140731186606e-05, 0.00035478509380482137, 5.959503323538229e-05, 3.240920341340825e-05, 7.67126493883552e-06, 4.971534295350466e-08, 2.5590654786356026e-06, 3.1986949124984676e-06, 0.00157866720110178, 0.0009954763809219003, 3.636310452748148e-07, 0.0003120088658761233, 0.9631531238555908, 0.0013631738256663084, 3.3128962968476117e-06, 0.00013935641618445516, 7.105353870429099e-05, 1.3766542394932912e-07, 3.5221967209508875e-06, 2.584544927231036e-05, 4.571934186969884e-05, 9.728980512591079e-05, 3.346664470882388e-06, 2.5933100914699025e-05, 1.3870149473405036e-07, 3.429450856629046e-08, 1.6393262569636136e-07, 1.508870468569512e-07, 0.00023642336600460112, 0.00022779084974899888, 1.9186741155863274e-06, 0.0002661169564817101, 0.0, 0.0, 0.0, 0.0], [0.01529682893306017, 6.075076271372382e-06, 2.1627167825499782e-06, 1.081386290024966e-05, 0.00013801094610244036, 3.177555845468305e-05, 2.0251274690963328e-05, 0.00034475387656129897, 0.0005133590311743319, 4.2499107166804606e-07, 4.898043243883876e-06, 1.7623574422032107e-06, 0.00017469492740929127, 0.0015922964084893465, 5.032758210177235e-09, 3.1650815799366683e-06, 0.0007983164978213608, 0.9797311425209045, 1.903427801153157e-05, 1.5324592823162675e-05, 1.3638476957567036e-05, 4.179224077915933e-09, 8.869725576232668e-08, 1.9374194835108938e-06, 5.2542596677085385e-05, 1.3754413885180838e-05, 2.481092678863206e-06, 0.00024350376043003052, 2.8051299523212947e-05, 1.9431621467447258e-07, 1.352908384433249e-06, 1.1856559467560146e-07, 3.197167825419456e-05, 0.0006946021458134055, 5.136762837310016e-08, 1.952566663021571e-06, 0.00020881583623122424, 0.0, 0.0, 0.0], [0.0086985407397151, 1.8015896785072982e-05, 1.4062427453609416e-06, 2.127532752638217e-06, 7.254926970290398e-08, 3.589222217215138e-07, 1.9228531300541363e-07, 2.1709104203182505e-06, 7.15881981250277e-07, 6.123353557541122e-08, 9.969709502399837e-09, 1.7046218658833823e-08, 3.539391002504999e-07, 3.27345151163172e-05, 6.295256316235509e-09, 2.1844727598363534e-05, 5.6888238759711385e-06, 8.540840099158231e-06, 0.9911050200462341, 7.40318137104623e-05, 4.112593643412765e-08, 6.120666995457213e-08, 2.1355651824706e-07, 4.643658030545339e-06, 3.1941354450282233e-07, 3.7676943520636996e-07, 1.0855757182071102e-08, 1.3625823385154945e-06, 1.3512964081030532e-08, 1.580895592212528e-08, 1.3284264799295897e-09, 2.0403147227288088e-10, 2.5536537329173825e-09, 1.883836489469104e-06, 7.667613033390808e-08, 1.7967133317142725e-05, 4.945088676322484e-07, 5.625756784866098e-07, 0.0, 0.0], [0.05739389359951019, 0.017643718048930168, 0.0009697361383587122, 0.0012141678016632795, 0.00014435795310419053, 0.0004684129962697625, 1.5130510291783139e-05, 3.1875148124527186e-05, 0.00015938789874780923, 0.0039947559125721455, 0.0002457024238537997, 5.2442635933402926e-05, 0.00013727130135521293, 0.0013069850392639637, 1.797808909032028e-05, 0.006229330785572529, 0.0020561956334859133, 3.464005931164138e-05, 0.0004392279079183936, 0.8812685608863831, 0.00399865722283721, 0.0021526790224015713, 0.0012271269224584103, 0.0026830050628632307, 0.0017487105214968324, 0.0007114668260328472, 2.6410798454890028e-06, 1.493741638114443e-05, 1.863731085904874e-05, 0.007755743805319071, 5.2956271247239783e-05, 5.79825064050965e-06, 2.1083451429149136e-06, 0.00016970168508123606, 4.0728013118496165e-05, 0.005246682558208704, 0.00028136628679931164, 1.143984150075994e-06, 6.222083902684972e-05, 0.0], [0.002496832050383091, 0.00015105516649782658, 2.6176796836807625e-06, 6.536558794323355e-05, 1.7832713865573169e-06, 3.0390455663109606e-07, 1.2761340428824042e-07, 1.4721464935973927e-07, 1.0154037227039225e-05, 6.451563194787013e-07, 4.882467692368664e-06, 9.310326731792884e-08, 1.3564111895902897e-06, 1.4695148820464965e-05, 1.6022090321143878e-08, 8.560118658351712e-06, 2.548836164351087e-06, 2.2022145458322484e-06, 1.1785523668095266e-08, 9.55024515860714e-05, 0.9961864352226257, 0.00019115442410111427, 8.748191612539813e-05, 0.0005468151648528874, 9.226964721165132e-06, 4.3532770632737083e-07, 4.012540699704914e-08, 1.1496324958670812e-07, 3.2900918540690327e-06, 2.694933073144057e-06, 6.064849003450945e-06, 2.4644041474175538e-08, 6.499022475736638e-08, 3.3157889447466005e-06, 3.004176463150543e-08, 2.261238478240557e-06, 4.035102847410599e-07, 2.657541529060836e-07, 3.9696332332361806e-10, 0.00010107445996254683]]]}\n",
       "    )\n",
       "    </script>"
      ],
      "text/plain": [
       "<circuitsvis.utils.render.RenderedHTML at 0x7fa370a03640>"
      ]
     },
     "metadata": {},
     "output_type": "display_data"
    }
   ],
   "source": [
    "induction_head_layer = 5 #5\n",
    "induction_head_index = 5 #5\n",
    "single_random_sequence = torch.randint(1000, 10000, (1, 20)).to(model.cfg.device)\n",
    "#single_random_sequence2 = (single_random_sequence/2).to(single_random_sequence.dtype)\n",
    "#repeated_random_sequence = torch.cat((single_random_sequence,single_random_sequence2),1)\n",
    "\n",
    "#random_tokens2 = (random_tokens/2).to(random_tokens.dtype)\n",
    "#random_tokens4 = (random_tokens/4).to(random_tokens.dtype)\n",
    "#random_tokens8 = (random_tokens/8).to(random_tokens.dtype)\n",
    "#repeated_tokens = torch.cat((random_tokens,random_tokens2,random_tokens4,random_tokens8),1)\n",
    "\n",
    "repeated_random_sequence = einops.repeat(single_random_sequence, \"batch seq_len -> batch (2 seq_len)\")\n",
    "def visualize_pattern_hook(\n",
    "    pattern: Float[torch.Tensor, \"batch head_index dest_pos source_pos\"],\n",
    "    hook: HookPoint,\n",
    "):\n",
    "    display(\n",
    "        cv.attention.attention_patterns(\n",
    "            tokens=model.to_str_tokens(repeated_random_sequence),\n",
    "            attention=pattern[0, induction_head_index, :, :][None, :, :] # Add a dummy axis, as CircuitsVis expects 3D patterns.\n",
    "        )\n",
    "    )\n",
    "\n",
    "model.run_with_hooks(\n",
    "    repeated_random_sequence,\n",
    "    return_type=None,\n",
    "    fwd_hooks=[(\n",
    "        utils.get_act_name(\"pattern\", induction_head_layer),\n",
    "        visualize_pattern_hook\n",
    "    )]\n",
    ")"
   ]
  },
  {
   "cell_type": "markdown",
   "metadata": {
    "id": "dOm0kiieHtgS"
   },
   "source": [
    "## Available Models"
   ]
  },
  {
   "cell_type": "markdown",
   "metadata": {
    "id": "DRyxnNOiHtgS"
   },
   "source": [
    "TransformerLens comes with over 40 open source models available, all of which can be loaded into a consistent(-ish) architecture by just changing the name in `from_pretrained`. The open source models available are [documented here](https://dynalist.io/d/n2ZWtnoYHrU1s4vnFSAQ519J#z=jHj79Pj58cgJKdq4t-ygK-4h), and a set of interpretability friendly models I've trained are [documented here](https://dynalist.io/d/n2ZWtnoYHrU1s4vnFSAQ519J#z=NCJ6zH_Okw_mUYAwGnMKsj2m), including a set of toy language models (tiny one to four layer models) and a set of [SoLU models](https://dynalist.io/d/n2ZWtnoYHrU1s4vnFSAQ519J#z=FZ5W6GGcy6OitPEaO733JLqf) up to GPT-2 Medium size (300M parameters). You can see [a table of the official alias and hyper-parameters of available models here](https://github.com/neelnanda-io/TransformerLens/blob/main/transformer_lens/model_properties_table.md).\n",
    "\n",
    "**Note:** TransformerLens does not currently support multi-GPU models (which you want for models above eg 7B parameters), but this feature is coming soon!"
   ]
  },
  {
   "cell_type": "markdown",
   "metadata": {
    "id": "hxj7x9dJHtgS"
   },
   "source": [
    "\n",
    "Notably, this means that analysis can be near immediately re-run on a different model by just changing the name - to see this, let's load in DistilGPT-2 (a distilled version of GPT-2, with half as many layers) and copy the code from above to see the induction heads in that model."
   ]
  },
  {
   "cell_type": "code",
   "execution_count": 25,
   "metadata": {
    "colab": {
     "base_uri": "https://localhost:8080/",
     "height": 769,
     "referenced_widgets": [
      "6ac40b6e795542c3a2c7446bf5e2a50b",
      "2cb7ee4f883a46cdbcd507664c81c6fc",
      "52fd5282d8d849e396767297e65cc27a",
      "17a6af69f58c4e6a943b0f66cbd523dc",
      "0e2e04c9d88140eabfa8ae59a1af29c7",
      "2e7a009bd1ba439f9773a8a3bb08d76c",
      "dab14c7ae47a4069afe947aa2e60ffc6",
      "22a34f1f3d7f4bdcacc37d3496f8001e",
      "39289e84fcb04e5e8b9ada300f36b9e7",
      "7235495678d04b57ad017a2bd36ccb51",
      "a21fcf3d86894bb9b58cb708fe3c30e6",
      "8b92786d7c654951ac442a88b98636d5",
      "df43b8d21806405d801c7b20d75166c8",
      "403185cd1d8348968eeddb13e89cd809",
      "f935d9ce46b04408b4784a73ec6cf90f",
      "5961ae20f2c84f20979a117c3967e2ec",
      "1269e01bf4194614a1019f9c9f4a8f02",
      "e7e664024fa34fa1a82b20fa6a96d6bf",
      "03fe9892ab934d4692f44b04d560cd68",
      "4667bbbada824e609211d81c35d42543",
      "7b522340dd884311ae35112a13d7e379",
      "62822330588248a3b568bd686541656d",
      "c0fef71bfc964de9a426d2cc3f65226c",
      "35f2bae35b234526bfd8a4bb663c26b7",
      "19fe76e1e87d410b8776fe35d84fe05d",
      "4833ce1cced84c3586c3583fa5910105",
      "306af263209e4d13a70f6807461910fa",
      "5a7326d6658d4a598aca84cf3561c2b7",
      "168799932aad460fa33df1c892d16ac9",
      "e4efe8ce5d1a401580347dccca3a01f4",
      "581c1f8bc6b84c8783906946836f1ecd",
      "5c5d9da626ba43a0ba1b42dccedae03a",
      "798d895255544782baf378538de39f70",
      "c75b25519f0d4a96b913315750e5296f",
      "9e2b2d1264e44da38835c12aeb7d9ceb",
      "e16dd3e1e2b04a80a8d5aee6f2f6b6ed",
      "5d91537e170b467b8cc899ef446057a7",
      "ee83b698a58b4033a4238290050d707c",
      "3dee40b28cb041db814919990e0ba640",
      "0e7a77a2ff63483c87bfc0da47039766",
      "16975fdf494a4a9fb0d118ef13212260",
      "a420b36b477a4ef5bc6eefff88be7550",
      "1790e9531aff46a39a5829b21412d748",
      "ba4314d5b5564a0a81d5129599448f2d",
      "cf21da6e0522425683885a3a412c4dde",
      "01af42f1af174302b30945884422f5dc",
      "989bde8e399f4be2b0fd98ba59401927",
      "5a1055b8e2124e0daab3c67ba2958297",
      "3f9e5708942c46568a04dfec55e238f7",
      "f3142dd3f2144f4a86ce2441bda78553",
      "e60d7d68f9744e13976347f1b2f80131",
      "5ab85cd3c4484df5b1e041edd1c1298d",
      "2be1145356c74ef1a474382cc4075775",
      "36f3dc38d10b43f1a55c498c40b63187",
      "8e64f65a405d4c01bc2c0946067ac9b4",
      "ceda71e78f4e46399d38d8ad3c2a34e1",
      "29cf51ae355f4ef5962b739b8b75b59b",
      "a429acd06c724cfeb8cbfedafff0b9cd",
      "7f0f1b1c5cc34696a86b82036649182c",
      "9ea8bda0af564af1a5cbad9c3a79346c",
      "0acc92423b164755b293206ce74ec3ee",
      "c6d823ba5c414f899b4f6289ee612bc0",
      "c1d1a7db064240d2997ca40173410f1e",
      "e3d6ee23114a42a0ba1ecabae9f08c34",
      "4e68110f58d740a280b92998aeaeece2",
      "48c6f44ebd4f42dc9c4c95d87fe34f5b"
     ]
    },
    "id": "HZ1DtdLPHtgS",
    "outputId": "1f355327-8b9e-40fd-c21b-d29d06dc49b8"
   },
   "outputs": [
    {
     "name": "stderr",
     "output_type": "stream",
     "text": [
      "Using pad_token, but it is not set yet.\n"
     ]
    },
    {
     "name": "stdout",
     "output_type": "stream",
     "text": [
      "Loaded pretrained model distilgpt2 into HookedTransformer\n"
     ]
    },
    {
     "data": {
      "text/html": [
       "<html>\n",
       "<head><meta charset=\"utf-8\" /></head>\n",
       "<body>\n",
       "    <div>            <script src=\"https://cdnjs.cloudflare.com/ajax/libs/mathjax/2.7.5/MathJax.js?config=TeX-AMS-MML_SVG\"></script><script type=\"text/javascript\">if (window.MathJax && window.MathJax.Hub && window.MathJax.Hub.Config) {window.MathJax.Hub.Config({SVG: {font: \"STIX-Web\"}});}</script>                <script type=\"text/javascript\">window.PlotlyConfig = {MathJaxConfig: 'local'};</script>\n",
       "        <script charset=\"utf-8\" src=\"https://cdn.plot.ly/plotly-2.24.1.min.js\"></script>                <div id=\"cb09db13-97d3-49ae-80e2-a038fdb772ce\" class=\"plotly-graph-div\" style=\"height:525px; width:100%;\"></div>            <script type=\"text/javascript\">                                    window.PLOTLYENV=window.PLOTLYENV || {};                                    if (document.getElementById(\"cb09db13-97d3-49ae-80e2-a038fdb772ce\")) {                    Plotly.newPlot(                        \"cb09db13-97d3-49ae-80e2-a038fdb772ce\",                        [{\"coloraxis\":\"coloraxis\",\"name\":\"0\",\"z\":[[0.00989213865250349,0.0001104551411117427,0.011764314956963062,8.51904223964084e-06,0.0007485419046133757,5.625692665489623e-06,0.008465978316962719,0.001781922415830195,0.008610386401414871,0.00958702526986599,0.009094729088246822,0.015359167009592056],[0.0028598394710570574,0.017312563955783844,0.002323104999959469,0.00016845465870574117,0.012926158495247364,0.001553057343699038,0.0055590127594769,0.015427677892148495,0.0019074230222031474,8.233040716731921e-05,0.003828426357358694,0.014967015013098717],[0.009079420939087868,0.0065361373126506805,0.012282957322895527,0.0014656526036560535,0.019438007846474648,0.004597428720444441,0.009133347310125828,0.001315918518230319,0.01704586297273636,0.0138170151039958,0.02038956619799137,9.86822915050034e-11],[0.008719689212739468,0.23065923154354095,0.8597828149795532,0.01706419326364994,0.017772028222680092,0.013834696263074875,0.019099397584795952,0.19459013640880585,0.017123347148299217,0.017475983127951622,0.9343845248222351,0.4763733148574829],[0.2779778838157654,0.2236822247505188,0.09110025316476822,0.011570763774216175,0.08581750839948654,0.025819944217801094,0.6407551765441895,0.025232303887605667,0.07173042744398117,0.6486713886260986,0.016857881098985672,0.055932629853487015],[0.019989294931292534,0.07661847025156021,0.0506097786128521,0.012213011272251606,0.03204253688454628,0.1795044094324112,0.07441598176956177,0.09906932711601257,0.007893500849604607,0.4510490298271179,0.17967568337917328,0.03004472889006138]],\"type\":\"heatmap\",\"xaxis\":\"x\",\"yaxis\":\"y\",\"hovertemplate\":\"Head: %{x}\\u003cbr\\u003eLayer: %{y}\\u003cbr\\u003ecolor: %{z}\\u003cextra\\u003e\\u003c\\u002fextra\\u003e\"}],                        {\"template\":{\"data\":{\"histogram2dcontour\":[{\"type\":\"histogram2dcontour\",\"colorbar\":{\"outlinewidth\":0,\"ticks\":\"\"},\"colorscale\":[[0.0,\"#0d0887\"],[0.1111111111111111,\"#46039f\"],[0.2222222222222222,\"#7201a8\"],[0.3333333333333333,\"#9c179e\"],[0.4444444444444444,\"#bd3786\"],[0.5555555555555556,\"#d8576b\"],[0.6666666666666666,\"#ed7953\"],[0.7777777777777778,\"#fb9f3a\"],[0.8888888888888888,\"#fdca26\"],[1.0,\"#f0f921\"]]}],\"choropleth\":[{\"type\":\"choropleth\",\"colorbar\":{\"outlinewidth\":0,\"ticks\":\"\"}}],\"histogram2d\":[{\"type\":\"histogram2d\",\"colorbar\":{\"outlinewidth\":0,\"ticks\":\"\"},\"colorscale\":[[0.0,\"#0d0887\"],[0.1111111111111111,\"#46039f\"],[0.2222222222222222,\"#7201a8\"],[0.3333333333333333,\"#9c179e\"],[0.4444444444444444,\"#bd3786\"],[0.5555555555555556,\"#d8576b\"],[0.6666666666666666,\"#ed7953\"],[0.7777777777777778,\"#fb9f3a\"],[0.8888888888888888,\"#fdca26\"],[1.0,\"#f0f921\"]]}],\"heatmap\":[{\"type\":\"heatmap\",\"colorbar\":{\"outlinewidth\":0,\"ticks\":\"\"},\"colorscale\":[[0.0,\"#0d0887\"],[0.1111111111111111,\"#46039f\"],[0.2222222222222222,\"#7201a8\"],[0.3333333333333333,\"#9c179e\"],[0.4444444444444444,\"#bd3786\"],[0.5555555555555556,\"#d8576b\"],[0.6666666666666666,\"#ed7953\"],[0.7777777777777778,\"#fb9f3a\"],[0.8888888888888888,\"#fdca26\"],[1.0,\"#f0f921\"]]}],\"heatmapgl\":[{\"type\":\"heatmapgl\",\"colorbar\":{\"outlinewidth\":0,\"ticks\":\"\"},\"colorscale\":[[0.0,\"#0d0887\"],[0.1111111111111111,\"#46039f\"],[0.2222222222222222,\"#7201a8\"],[0.3333333333333333,\"#9c179e\"],[0.4444444444444444,\"#bd3786\"],[0.5555555555555556,\"#d8576b\"],[0.6666666666666666,\"#ed7953\"],[0.7777777777777778,\"#fb9f3a\"],[0.8888888888888888,\"#fdca26\"],[1.0,\"#f0f921\"]]}],\"contourcarpet\":[{\"type\":\"contourcarpet\",\"colorbar\":{\"outlinewidth\":0,\"ticks\":\"\"}}],\"contour\":[{\"type\":\"contour\",\"colorbar\":{\"outlinewidth\":0,\"ticks\":\"\"},\"colorscale\":[[0.0,\"#0d0887\"],[0.1111111111111111,\"#46039f\"],[0.2222222222222222,\"#7201a8\"],[0.3333333333333333,\"#9c179e\"],[0.4444444444444444,\"#bd3786\"],[0.5555555555555556,\"#d8576b\"],[0.6666666666666666,\"#ed7953\"],[0.7777777777777778,\"#fb9f3a\"],[0.8888888888888888,\"#fdca26\"],[1.0,\"#f0f921\"]]}],\"surface\":[{\"type\":\"surface\",\"colorbar\":{\"outlinewidth\":0,\"ticks\":\"\"},\"colorscale\":[[0.0,\"#0d0887\"],[0.1111111111111111,\"#46039f\"],[0.2222222222222222,\"#7201a8\"],[0.3333333333333333,\"#9c179e\"],[0.4444444444444444,\"#bd3786\"],[0.5555555555555556,\"#d8576b\"],[0.6666666666666666,\"#ed7953\"],[0.7777777777777778,\"#fb9f3a\"],[0.8888888888888888,\"#fdca26\"],[1.0,\"#f0f921\"]]}],\"mesh3d\":[{\"type\":\"mesh3d\",\"colorbar\":{\"outlinewidth\":0,\"ticks\":\"\"}}],\"scatter\":[{\"fillpattern\":{\"fillmode\":\"overlay\",\"size\":10,\"solidity\":0.2},\"type\":\"scatter\"}],\"parcoords\":[{\"type\":\"parcoords\",\"line\":{\"colorbar\":{\"outlinewidth\":0,\"ticks\":\"\"}}}],\"scatterpolargl\":[{\"type\":\"scatterpolargl\",\"marker\":{\"colorbar\":{\"outlinewidth\":0,\"ticks\":\"\"}}}],\"bar\":[{\"error_x\":{\"color\":\"#2a3f5f\"},\"error_y\":{\"color\":\"#2a3f5f\"},\"marker\":{\"line\":{\"color\":\"#E5ECF6\",\"width\":0.5},\"pattern\":{\"fillmode\":\"overlay\",\"size\":10,\"solidity\":0.2}},\"type\":\"bar\"}],\"scattergeo\":[{\"type\":\"scattergeo\",\"marker\":{\"colorbar\":{\"outlinewidth\":0,\"ticks\":\"\"}}}],\"scatterpolar\":[{\"type\":\"scatterpolar\",\"marker\":{\"colorbar\":{\"outlinewidth\":0,\"ticks\":\"\"}}}],\"histogram\":[{\"marker\":{\"pattern\":{\"fillmode\":\"overlay\",\"size\":10,\"solidity\":0.2}},\"type\":\"histogram\"}],\"scattergl\":[{\"type\":\"scattergl\",\"marker\":{\"colorbar\":{\"outlinewidth\":0,\"ticks\":\"\"}}}],\"scatter3d\":[{\"type\":\"scatter3d\",\"line\":{\"colorbar\":{\"outlinewidth\":0,\"ticks\":\"\"}},\"marker\":{\"colorbar\":{\"outlinewidth\":0,\"ticks\":\"\"}}}],\"scattermapbox\":[{\"type\":\"scattermapbox\",\"marker\":{\"colorbar\":{\"outlinewidth\":0,\"ticks\":\"\"}}}],\"scatterternary\":[{\"type\":\"scatterternary\",\"marker\":{\"colorbar\":{\"outlinewidth\":0,\"ticks\":\"\"}}}],\"scattercarpet\":[{\"type\":\"scattercarpet\",\"marker\":{\"colorbar\":{\"outlinewidth\":0,\"ticks\":\"\"}}}],\"carpet\":[{\"aaxis\":{\"endlinecolor\":\"#2a3f5f\",\"gridcolor\":\"white\",\"linecolor\":\"white\",\"minorgridcolor\":\"white\",\"startlinecolor\":\"#2a3f5f\"},\"baxis\":{\"endlinecolor\":\"#2a3f5f\",\"gridcolor\":\"white\",\"linecolor\":\"white\",\"minorgridcolor\":\"white\",\"startlinecolor\":\"#2a3f5f\"},\"type\":\"carpet\"}],\"table\":[{\"cells\":{\"fill\":{\"color\":\"#EBF0F8\"},\"line\":{\"color\":\"white\"}},\"header\":{\"fill\":{\"color\":\"#C8D4E3\"},\"line\":{\"color\":\"white\"}},\"type\":\"table\"}],\"barpolar\":[{\"marker\":{\"line\":{\"color\":\"#E5ECF6\",\"width\":0.5},\"pattern\":{\"fillmode\":\"overlay\",\"size\":10,\"solidity\":0.2}},\"type\":\"barpolar\"}],\"pie\":[{\"automargin\":true,\"type\":\"pie\"}]},\"layout\":{\"autotypenumbers\":\"strict\",\"colorway\":[\"#636efa\",\"#EF553B\",\"#00cc96\",\"#ab63fa\",\"#FFA15A\",\"#19d3f3\",\"#FF6692\",\"#B6E880\",\"#FF97FF\",\"#FECB52\"],\"font\":{\"color\":\"#2a3f5f\"},\"hovermode\":\"closest\",\"hoverlabel\":{\"align\":\"left\"},\"paper_bgcolor\":\"white\",\"plot_bgcolor\":\"#E5ECF6\",\"polar\":{\"bgcolor\":\"#E5ECF6\",\"angularaxis\":{\"gridcolor\":\"white\",\"linecolor\":\"white\",\"ticks\":\"\"},\"radialaxis\":{\"gridcolor\":\"white\",\"linecolor\":\"white\",\"ticks\":\"\"}},\"ternary\":{\"bgcolor\":\"#E5ECF6\",\"aaxis\":{\"gridcolor\":\"white\",\"linecolor\":\"white\",\"ticks\":\"\"},\"baxis\":{\"gridcolor\":\"white\",\"linecolor\":\"white\",\"ticks\":\"\"},\"caxis\":{\"gridcolor\":\"white\",\"linecolor\":\"white\",\"ticks\":\"\"}},\"coloraxis\":{\"colorbar\":{\"outlinewidth\":0,\"ticks\":\"\"}},\"colorscale\":{\"sequential\":[[0.0,\"#0d0887\"],[0.1111111111111111,\"#46039f\"],[0.2222222222222222,\"#7201a8\"],[0.3333333333333333,\"#9c179e\"],[0.4444444444444444,\"#bd3786\"],[0.5555555555555556,\"#d8576b\"],[0.6666666666666666,\"#ed7953\"],[0.7777777777777778,\"#fb9f3a\"],[0.8888888888888888,\"#fdca26\"],[1.0,\"#f0f921\"]],\"sequentialminus\":[[0.0,\"#0d0887\"],[0.1111111111111111,\"#46039f\"],[0.2222222222222222,\"#7201a8\"],[0.3333333333333333,\"#9c179e\"],[0.4444444444444444,\"#bd3786\"],[0.5555555555555556,\"#d8576b\"],[0.6666666666666666,\"#ed7953\"],[0.7777777777777778,\"#fb9f3a\"],[0.8888888888888888,\"#fdca26\"],[1.0,\"#f0f921\"]],\"diverging\":[[0,\"#8e0152\"],[0.1,\"#c51b7d\"],[0.2,\"#de77ae\"],[0.3,\"#f1b6da\"],[0.4,\"#fde0ef\"],[0.5,\"#f7f7f7\"],[0.6,\"#e6f5d0\"],[0.7,\"#b8e186\"],[0.8,\"#7fbc41\"],[0.9,\"#4d9221\"],[1,\"#276419\"]]},\"xaxis\":{\"gridcolor\":\"white\",\"linecolor\":\"white\",\"ticks\":\"\",\"title\":{\"standoff\":15},\"zerolinecolor\":\"white\",\"automargin\":true,\"zerolinewidth\":2},\"yaxis\":{\"gridcolor\":\"white\",\"linecolor\":\"white\",\"ticks\":\"\",\"title\":{\"standoff\":15},\"zerolinecolor\":\"white\",\"automargin\":true,\"zerolinewidth\":2},\"scene\":{\"xaxis\":{\"backgroundcolor\":\"#E5ECF6\",\"gridcolor\":\"white\",\"linecolor\":\"white\",\"showbackground\":true,\"ticks\":\"\",\"zerolinecolor\":\"white\",\"gridwidth\":2},\"yaxis\":{\"backgroundcolor\":\"#E5ECF6\",\"gridcolor\":\"white\",\"linecolor\":\"white\",\"showbackground\":true,\"ticks\":\"\",\"zerolinecolor\":\"white\",\"gridwidth\":2},\"zaxis\":{\"backgroundcolor\":\"#E5ECF6\",\"gridcolor\":\"white\",\"linecolor\":\"white\",\"showbackground\":true,\"ticks\":\"\",\"zerolinecolor\":\"white\",\"gridwidth\":2}},\"shapedefaults\":{\"line\":{\"color\":\"#2a3f5f\"}},\"annotationdefaults\":{\"arrowcolor\":\"#2a3f5f\",\"arrowhead\":0,\"arrowwidth\":1},\"geo\":{\"bgcolor\":\"white\",\"landcolor\":\"#E5ECF6\",\"subunitcolor\":\"white\",\"showland\":true,\"showlakes\":true,\"lakecolor\":\"white\"},\"title\":{\"x\":0.05},\"mapbox\":{\"style\":\"light\"}}},\"xaxis\":{\"anchor\":\"y\",\"domain\":[0.0,1.0],\"scaleanchor\":\"y\",\"constrain\":\"domain\",\"title\":{\"text\":\"Head\"}},\"yaxis\":{\"anchor\":\"x\",\"domain\":[0.0,1.0],\"autorange\":\"reversed\",\"constrain\":\"domain\",\"title\":{\"text\":\"Layer\"}},\"coloraxis\":{\"colorscale\":[[0.0,\"rgb(103,0,31)\"],[0.1,\"rgb(178,24,43)\"],[0.2,\"rgb(214,96,77)\"],[0.3,\"rgb(244,165,130)\"],[0.4,\"rgb(253,219,199)\"],[0.5,\"rgb(247,247,247)\"],[0.6,\"rgb(209,229,240)\"],[0.7,\"rgb(146,197,222)\"],[0.8,\"rgb(67,147,195)\"],[0.9,\"rgb(33,102,172)\"],[1.0,\"rgb(5,48,97)\"]],\"cmid\":0.0},\"title\":{\"text\":\"Induction Score by Head in Distil GPT-2\"}},                        {\"responsive\": true}                    ).then(function(){\n",
       "                            \n",
       "var gd = document.getElementById('cb09db13-97d3-49ae-80e2-a038fdb772ce');\n",
       "var x = new MutationObserver(function (mutations, observer) {{\n",
       "        var display = window.getComputedStyle(gd).display;\n",
       "        if (!display || display === 'none') {{\n",
       "            console.log([gd, 'removed!']);\n",
       "            Plotly.purge(gd);\n",
       "            observer.disconnect();\n",
       "        }}\n",
       "}});\n",
       "\n",
       "// Listen for the removal of the full notebook cells\n",
       "var notebookContainer = gd.closest('#notebook-container');\n",
       "if (notebookContainer) {{\n",
       "    x.observe(notebookContainer, {childList: true});\n",
       "}}\n",
       "\n",
       "// Listen for the clearing of the current output cell\n",
       "var outputEl = gd.closest('.output');\n",
       "if (outputEl) {{\n",
       "    x.observe(outputEl, {childList: true});\n",
       "}}\n",
       "\n",
       "                        })                };                            </script>        </div>\n",
       "</body>\n",
       "</html>"
      ]
     },
     "metadata": {},
     "output_type": "display_data"
    }
   ],
   "source": [
    "distilgpt2 = HookedTransformer.from_pretrained(\"distilgpt2\")\n",
    "# We make a tensor to store the induction score for each head. We put it on the model's device to avoid needing to move things between the GPU and CPU, which can be slow.\n",
    "distilgpt2_induction_score_store = torch.zeros((distilgpt2.cfg.n_layers, distilgpt2.cfg.n_heads), device=distilgpt2.cfg.device)\n",
    "def induction_score_hook(\n",
    "    pattern: Float[torch.Tensor, \"batch head_index dest_pos source_pos\"],\n",
    "    hook: HookPoint,\n",
    "):\n",
    "    # We take the diagonal of attention paid from each destination position to source positions seq_len-1 tokens back\n",
    "    # (This only has entries for tokens with index>=seq_len)\n",
    "    induction_stripe = pattern.diagonal(dim1=-2, dim2=-1, offset=1-seq_len)\n",
    "    # Get an average score per head\n",
    "    induction_score = einops.reduce(induction_stripe, \"batch head_index position -> head_index\", \"mean\")\n",
    "    # Store the result.\n",
    "    distilgpt2_induction_score_store[hook.layer(), :] = induction_score\n",
    "\n",
    "# We make a boolean filter on activation names, that's true only on attention pattern names.\n",
    "pattern_hook_names_filter = lambda name: name.endswith(\"pattern\")\n",
    "\n",
    "distilgpt2.run_with_hooks(\n",
    "    repeated_tokens,\n",
    "    return_type=None, # For efficiency, we don't need to calculate the logits\n",
    "    fwd_hooks=[(\n",
    "        pattern_hook_names_filter,\n",
    "        induction_score_hook\n",
    "    )]\n",
    ")\n",
    "\n",
    "imshow(distilgpt2_induction_score_store, xaxis=\"Head\", yaxis=\"Layer\", title=\"Induction Score by Head in Distil GPT-2\")"
   ]
  },
  {
   "cell_type": "markdown",
   "metadata": {
    "id": "ptmDWFbqHtgT"
   },
   "source": [
    "\n",
    "### An overview of the important open source models in the library\n",
    "\n",
    "* **GPT-2** - the classic generative pre-trained models from OpenAI\n",
    "    * Sizes Small (85M), Medium (300M), Large (700M) and XL (1.5B).\n",
    "    * Trained on ~22B tokens of internet text. ([Open source replication](https://huggingface.co/datasets/openwebtext))\n",
    "* **GPT-Neo** - Eleuther's replication of GPT-2\n",
    "    * Sizes 125M, 1.3B, 2.7B\n",
    "    * Trained on 300B(ish?) tokens of [the Pile](https://pile.eleuther.ai/) a large and diverse dataset including a bunch of code (and weird stuff)\n",
    "* **[OPT](https://ai.facebook.com/blog/democratizing-access-to-large-scale-language-models-with-opt-175b/)** - Meta AI's series of open source models\n",
    "    * Trained on 180B tokens of diverse text.\n",
    "    * 125M, 1.3B, 2.7B, 6.7B, 13B, 30B, 66B\n",
    "* **GPT-J** - Eleuther's 6B parameter model, trained on the Pile\n",
    "* **GPT-NeoX** - Eleuther's 20B parameter model, trained on the Pile\n",
    "* **Stanford CRFM models** - a replication of GPT-2 Small and GPT-2 Medium, trained on 5 different random seeds.\n",
    "    * Notably, 600 checkpoints were taken during training per model, and these are available in the library with eg `HookedTransformer.from_pretrained(\"stanford-gpt2-small-a\", checkpoint_index=265)`.\n",
    "- **BERT** - Google's bidirectional encoder-only transformer.\n",
    "    - Size Base (108M), trained on English Wikipedia and BooksCorpus.\n",
    "\n",
    "</details>"
   ]
  },
  {
   "cell_type": "markdown",
   "metadata": {
    "id": "4Bp7HBZ8HtgT"
   },
   "source": [
    "\n",
    "### An overview of some interpretability-friendly models I've trained and included\n",
    "\n",
    "(Feel free to [reach out](mailto:neelnanda27@gmail.com) if you want more details on any of these models)\n",
    "\n",
    "Each of these models has about ~200 checkpoints taken during training that can also be loaded from TransformerLens, with the `checkpoint_index` argument to `from_pretrained`.\n",
    "\n",
    "Note that all models are trained with a Beginning of Sequence token, and will likely break if given inputs without that!\n",
    "\n",
    "* **Toy Models**: Inspired by [A Mathematical Framework](https://transformer-circuits.pub/2021/framework/index.html), I've trained 12 tiny language models, of 1-4L and each of width 512. I think that interpreting these is likely to be far more tractable than larger models, and both serve as good practice and will likely contain motifs and circuits that generalise to far larger models (like induction heads):\n",
    "    * Attention-Only models (ie without MLPs): attn-only-1l, attn-only-2l, attn-only-3l, attn-only-4l\n",
    "    * GELU models (ie with MLP, and the standard GELU activations): gelu-1l, gelu-2l, gelu-3l, gelu-4l\n",
    "    * SoLU models (ie with MLP, and [Anthropic's SoLU activation](https://transformer-circuits.pub/2022/solu/index.html), designed to make MLP neurons more interpretable): solu-1l, solu-2l, solu-3l, solu-4l\n",
    "    * All models are trained on 22B tokens of data, 80% from C4 (web text) and 20% from Python Code\n",
    "    * Models of the same layer size were trained with the same weight initialization and data shuffle, to more directly compare the effect of different activation functions.\n",
    "* **SoLU** models: A larger scan of models trained with [Anthropic's SoLU activation](https://transformer-circuits.pub/2022/solu/index.html), in the hopes that it makes the MLP neuron interpretability easier.\n",
    "    * A scan up to GPT-2 Medium size, trained on 30B tokens of the same data as toy models, 80% from C4 and 20% from Python code.\n",
    "        * solu-6l (40M), solu-8l (100M), solu-10l (200M), solu-12l (340M)\n",
    "    * An older scan up to GPT-2 Medium size, trained on 15B tokens of [the Pile](https://pile.eleuther.ai/)\n",
    "        * solu-1l-pile (13M), solu-2l-pile (13M), solu-4l-pile (13M), solu-6l-pile (40M), solu-8l-pile (100M), solu-10l-pile (200M), solu-12l-pile (340M)"
   ]
  },
  {
   "cell_type": "markdown",
   "metadata": {
    "id": "-B0g6Eu5HtgT"
   },
   "source": [
    "## Other Resources:\n",
    "\n",
    "* [Concrete Steps to Get Started in Mechanistic Interpretability](https://neelnanda.io/getting-started): A guide I wrote for how to get involved in mechanistic interpretability, and how to learn the basic skills\n",
    "* [A Comprehensive Mechanistic Interpretability Explainer](https://neelnanda.io/glossary): An overview of concepts in the field and surrounding ideas in ML and transformers, with long digressions to give context and build intuitions.\n",
    "* [Concrete Open Problems in Mechanistic Interpretability](https://neelnanda.io/concrete-open-problems), a doc I wrote giving a long list of open problems in mechanistic interpretability, and thoughts on how to get started on trying to work on them.\n",
    "    * There's a lot of low-hanging fruit in the field, and I expect that many people reading this could use TransformerLens to usefully make progress on some of these!\n",
    "* Other demos:\n",
    "    * **[Exploratory Analysis Demo](https://neelnanda.io/exploratory-analysis-demo)**, a demonstration of my standard toolkit for how to use TransformerLens to explore a mysterious behaviour in a language model.\n",
    "    * [Interpretability in the Wild](https://github.com/redwoodresearch/Easy-Transformer) a codebase from Arthur Conmy and Alex Variengien at Redwood research using this library to do a detailed and rigorous reverse engineering of the Indirect Object Identification circuit, to accompany their paper\n",
    "        * Note - this was based on an earlier version of this library, called EasyTransformer. It's pretty similar, but several breaking changes have been made since.\n",
    "    * A [recorded walkthrough](https://www.youtube.com/watch?v=yo4QvDn-vsU) of me doing research with TransformerLens on whether a tiny model can re-derive positional information, with [an accompanying Colab](https://colab.research.google.com/github/neelnanda-io/TransformerLens/blob/main/No_Position_Experiment.ipynb)\n",
    "* [Neuroscope](https://neuroscope.io), a website showing the text in the dataset that most activates each neuron in some selected models. Good to explore to get a sense for what kind of features the model tends to represent, and as a \"wiki\" to get some info\n",
    "    * A tutorial on how to make an [Interactive Neuroscope](https://github.com/neelnanda-io/TransformerLens/blob/main/Hacky-Interactive-Lexoscope.ipynb), where you type in text and see the neuron activations over the text update live."
   ]
  },
  {
   "cell_type": "markdown",
   "metadata": {
    "id": "vPqA2UM2HtgT"
   },
   "source": [
    "## Transformer architecture\n",
    "\n",
    "HookedTransformer is a somewhat adapted GPT-2 architecture, but is computationally identical. The most significant changes are to the internal structure of the attention heads:\n",
    "* The weights (W_K, W_Q, W_V) mapping the residual stream to queries, keys and values are 3 separate matrices, rather than big concatenated one.\n",
    "* The weight matrices (W_K, W_Q, W_V, W_O) and activations (keys, queries, values, z (values mixed by attention pattern)) have separate head_index and d_head axes, rather than flattening them into one big axis.\n",
    "    * The activations all have shape `[batch, position, head_index, d_head]`\n",
    "    * W_K, W_Q, W_V have shape `[head_index, d_model, d_head]` and W_O has shape `[head_index, d_head, d_model]`\n",
    "\n",
    "The actual code is a bit of a mess, as there's a variety of Boolean flags to make it consistent with the various different model families in TransformerLens - to understand it and the internal structure, I instead recommend reading the code in [CleanTransformerDemo](https://colab.research.google.com/github/neelnanda-io/TransformerLens/blob/clean-transformer-demo/Clean_Transformer_Demo.ipynb)"
   ]
  },
  {
   "cell_type": "markdown",
   "metadata": {
    "id": "TNGbeLf4HtgT"
   },
   "source": [
    "### Parameter Names\n",
    "\n",
    "Here is a list of the parameters and shapes in the model. By convention, all weight matrices multiply on the right (ie `new_activation = old_activation @ weights + bias`).\n",
    "\n",
    "Reminder of the key hyper-params:\n",
    "* `n_layers`: 12. The number of transformer blocks in the model (a block contains an attention layer and an MLP layer)\n",
    "* `n_heads`: 12. The number of attention heads per attention layer\n",
    "* `d_model`: 768. The residual stream width.\n",
    "* `d_head`: 64. The internal dimension of an attention head activation.\n",
    "* `d_mlp`: 3072. The internal dimension of the MLP layers (ie the number of neurons).\n",
    "* `d_vocab`: 50267. The number of tokens in the vocabulary.\n",
    "* `n_ctx`: 1024. The maximum number of tokens in an input prompt.\n"
   ]
  },
  {
   "cell_type": "markdown",
   "metadata": {
    "id": "csDF3zgUHtgT"
   },
   "source": [
    "**Transformer Block parameters:**\n",
    "Replace 0 with the relevant layer index."
   ]
  },
  {
   "cell_type": "code",
   "execution_count": 26,
   "metadata": {
    "colab": {
     "base_uri": "https://localhost:8080/"
    },
    "id": "UnDoAwklHtgT",
    "outputId": "25c06a14-04d6-4e34-f113-a8f727b2d172"
   },
   "outputs": [
    {
     "name": "stdout",
     "output_type": "stream",
     "text": [
      "blocks.0.attn.W_Q torch.Size([12, 768, 64])\n",
      "blocks.0.attn.W_K torch.Size([12, 768, 64])\n",
      "blocks.0.attn.W_V torch.Size([12, 768, 64])\n",
      "blocks.0.attn.W_O torch.Size([12, 64, 768])\n",
      "blocks.0.attn.b_Q torch.Size([12, 64])\n",
      "blocks.0.attn.b_K torch.Size([12, 64])\n",
      "blocks.0.attn.b_V torch.Size([12, 64])\n",
      "blocks.0.attn.b_O torch.Size([768])\n",
      "blocks.0.mlp.W_in torch.Size([768, 3072])\n",
      "blocks.0.mlp.b_in torch.Size([3072])\n",
      "blocks.0.mlp.W_out torch.Size([3072, 768])\n",
      "blocks.0.mlp.b_out torch.Size([768])\n"
     ]
    }
   ],
   "source": [
    "for name, param in model.named_parameters():\n",
    "    if name.startswith(\"blocks.0.\"):\n",
    "        print(name, param.shape)"
   ]
  },
  {
   "cell_type": "markdown",
   "metadata": {
    "id": "ntBBBBbxHtgT"
   },
   "source": [
    "**Embedding & Unembedding parameters:**"
   ]
  },
  {
   "cell_type": "code",
   "execution_count": 27,
   "metadata": {
    "colab": {
     "base_uri": "https://localhost:8080/"
    },
    "id": "kyA6MHBSHtgU",
    "outputId": "668b8c13-01f1-44ff-9674-20718a6b0985"
   },
   "outputs": [
    {
     "name": "stdout",
     "output_type": "stream",
     "text": [
      "embed.W_E torch.Size([50257, 768])\n",
      "pos_embed.W_pos torch.Size([1024, 768])\n",
      "unembed.W_U torch.Size([768, 50257])\n",
      "unembed.b_U torch.Size([50257])\n"
     ]
    }
   ],
   "source": [
    "for name, param in model.named_parameters():\n",
    "    if not name.startswith(\"blocks\"):\n",
    "        print(name, param.shape)"
   ]
  },
  {
   "cell_type": "markdown",
   "metadata": {
    "id": "EYlFVEjAHtgU"
   },
   "source": [
    "### Activation + Hook Names\n",
    "\n",
    "Lets get out a list of the activation/hook names in the model and their shapes. In practice, I recommend using the `utils.get_act_name` function to get the names, but this is a useful fallback, and necessary to eg write a name filter function.\n",
    "\n",
    "Let's do this by entering in a short, 10 token prompt, and add a hook function to each activations to print its name and shape. To avoid spam, let's just add this to activations in the first block or not in a block.\n",
    "\n",
    "Note 1: Each LayerNorm has a hook for the scale factor (ie the standard deviation of the input activations for each token position & batch element) and for the normalized output (ie the input activation with mean 0 and standard deviation 1, but *before* applying scaling or translating with learned weights). LayerNorm is applied every time a layer reads from the residual stream: `ln1` is the LayerNorm before the attention layer in a block, `ln2` the one before the MLP layer, and `ln_final` is the LayerNorm before the unembed.\n",
    "\n",
    "Note 2: *Every* activation apart from the attention pattern and attention scores has shape beginning with `[batch, position]`. The attention pattern and scores have shape `[batch, head_index, dest_position, source_position]` (the numbers are the same, unless we're using caching)."
   ]
  },
  {
   "cell_type": "code",
   "execution_count": 28,
   "metadata": {
    "colab": {
     "base_uri": "https://localhost:8080/"
    },
    "id": "5TCVDaUGHtgU",
    "outputId": "e68e6e56-6250-4e26-d090-b0665ff02d6d"
   },
   "outputs": [
    {
     "name": "stdout",
     "output_type": "stream",
     "text": [
      "Num tokens: 10\n",
      "hook_embed torch.Size([1, 10, 768])\n",
      "hook_pos_embed torch.Size([1, 10, 768])\n",
      "blocks.0.hook_resid_pre torch.Size([1, 10, 768])\n",
      "blocks.0.ln1.hook_scale torch.Size([1, 10, 1])\n",
      "blocks.0.ln1.hook_normalized torch.Size([1, 10, 768])\n",
      "blocks.0.ln1.hook_scale torch.Size([1, 10, 1])\n",
      "blocks.0.ln1.hook_normalized torch.Size([1, 10, 768])\n",
      "blocks.0.ln1.hook_scale torch.Size([1, 10, 1])\n",
      "blocks.0.ln1.hook_normalized torch.Size([1, 10, 768])\n",
      "blocks.0.attn.hook_q torch.Size([1, 10, 12, 64])\n",
      "blocks.0.attn.hook_k torch.Size([1, 10, 12, 64])\n",
      "blocks.0.attn.hook_v torch.Size([1, 10, 12, 64])\n",
      "blocks.0.attn.hook_attn_scores torch.Size([1, 12, 10, 10])\n",
      "blocks.0.attn.hook_pattern torch.Size([1, 12, 10, 10])\n",
      "blocks.0.attn.hook_z torch.Size([1, 10, 12, 64])\n",
      "blocks.0.hook_attn_out torch.Size([1, 10, 768])\n",
      "blocks.0.hook_resid_mid torch.Size([1, 10, 768])\n",
      "blocks.0.hook_mlp_in torch.Size([1, 10, 768])\n",
      "blocks.0.ln2.hook_scale torch.Size([1, 10, 1])\n",
      "blocks.0.ln2.hook_normalized torch.Size([1, 10, 768])\n",
      "blocks.0.mlp.hook_pre torch.Size([1, 10, 3072])\n",
      "blocks.0.mlp.hook_post torch.Size([1, 10, 3072])\n",
      "blocks.0.hook_mlp_out torch.Size([1, 10, 768])\n",
      "blocks.0.hook_resid_post torch.Size([1, 10, 768])\n",
      "ln_final.hook_scale torch.Size([1, 10, 1])\n",
      "ln_final.hook_normalized torch.Size([1, 10, 768])\n"
     ]
    }
   ],
   "source": [
    "test_prompt = \"The quick brown fox jumped over the lazy dog\"\n",
    "print(\"Num tokens:\", len(model.to_tokens(test_prompt)[0]))\n",
    "\n",
    "def print_name_shape_hook_function(activation, hook):\n",
    "    print(hook.name, activation.shape)\n",
    "\n",
    "not_in_late_block_filter = lambda name: name.startswith(\"blocks.0.\") or not name.startswith(\"blocks\")\n",
    "\n",
    "model.run_with_hooks(\n",
    "    test_prompt,\n",
    "    return_type=None,\n",
    "    fwd_hooks=[(not_in_late_block_filter, print_name_shape_hook_function)],\n",
    ")"
   ]
  },
  {
   "cell_type": "markdown",
   "metadata": {
    "id": "jCNX_52rHtgU"
   },
   "source": [
    "### Folding LayerNorm (For the Curious)"
   ]
  },
  {
   "cell_type": "markdown",
   "metadata": {
    "id": "H7UQNSvGHtgU"
   },
   "source": [
    "(For the curious - this is an important technical detail that's worth understanding, especially if you have preconceptions about how transformers work, but not necessary to use TransformerLens)\n",
    "\n",
    "LayerNorm is a normalization technique used by transformers, analogous to BatchNorm but more friendly to massive parallelisation. No one *really* knows why it works, but it seems to improve model numerical stability. Unlike BatchNorm, LayerNorm actually changes the functional form of the model, which makes it a massive pain for interpretability!\n",
    "\n",
    "Folding LayerNorm is a technique to make it lower overhead to deal with, and the flags `center_writing_weights` and `fold_ln` in `HookedTransformer.from_pretrained` apply this automatically (they default to True). These simplify the internal structure without changing the weights.\n",
    "\n",
    "Intuitively, LayerNorm acts on each residual stream vector (ie for each batch element and token position) independently, sets their mean to 0 (centering) and standard deviation to 1 (normalizing) (*across* the residual stream dimension - very weird!), and then applies a learned elementwise scaling and translation to each vector.\n",
    "\n",
    "Mathematically, centering is a linear map, normalizing is *not* a linear map, and scaling and translation are linear maps.\n",
    "* **Centering:** LayerNorm is applied every time a layer reads from the residual stream, so the mean of any residual stream vector can never matter - `center_writing_weights` set every weight matrix writing to the residual to have zero mean.\n",
    "* **Normalizing:** Normalizing is not a linear map, and cannot be factored out. The `hook_scale` hook point lets you access and control for this.\n",
    "* **Scaling and Translation:** Scaling and translation are linear maps, and are always followed by another linear map. The composition of two linear maps is another linear map, so we can *fold* the scaling and translation weights into the weights of the subsequent layer, and simplify things without changing the underlying computation.\n",
    "\n",
    "[See the docs for more details](https://github.com/neelnanda-io/TransformerLens/blob/main/further_comments.md#what-is-layernorm-folding-fold_ln)"
   ]
  },
  {
   "cell_type": "markdown",
   "metadata": {
    "id": "ieQbvwuxHtgU"
   },
   "source": [
    "A fun consequence of LayerNorm folding is that it creates a bias across the unembed, a `d_vocab` length vector that is added to the output logits - GPT-2 is not trained with this, but it *is* trained with a final LayerNorm that contains a bias.\n",
    "\n",
    "Turns out, this LayerNorm bias learns structure of the data that we can only see after folding! In particular, it essentially learns **unigram statistics** - rare tokens get suppressed, common tokens get boosted, by pretty dramatic degrees! Let's list the top and bottom 20 - at the top we see common punctuation and words like \" the\" and \" and\", at the bottom we see weird-ass tokens like \" RandomRedditor\":"
   ]
  },
  {
   "cell_type": "code",
   "execution_count": 29,
   "metadata": {
    "id": "JeKOtgyAHtgU"
   },
   "outputs": [],
   "source": [
    "unembed_bias = model.unembed.b_U\n",
    "bias_values, bias_indices = unembed_bias.sort(descending=True)"
   ]
  },
  {
   "cell_type": "code",
   "execution_count": 30,
   "metadata": {
    "colab": {
     "base_uri": "https://localhost:8080/"
    },
    "id": "2_4Y45xPHtgU",
    "outputId": "0a3f3344-b6cb-4385-f6b2-9c64ddd94d89"
   },
   "outputs": [
    {
     "name": "stdout",
     "output_type": "stream",
     "text": [
      "Top 20 values\n",
      "7.03 ','\n",
      "6.98 ' the'\n",
      "6.68 ' and'\n",
      "6.49 '.'\n",
      "6.48 '\\n'\n",
      "6.47 ' a'\n",
      "6.41 ' in'\n",
      "6.25 ' to'\n",
      "6.16 ' of'\n",
      "6.04 '-'\n",
      "6.03 ' ('\n",
      "5.88 ' \"'\n",
      "5.80 ' for'\n",
      "5.72 ' that'\n",
      "5.64 ' on'\n",
      "5.59 ' is'\n",
      "5.52 ' as'\n",
      "5.49 ' at'\n",
      "5.45 ' with'\n",
      "5.44 ' or'\n",
      "...\n",
      "Bottom 20 values\n",
      "-3.82 ' サーティ'\n",
      "-3.83 '\\x18'\n",
      "-3.83 '\\x14'\n",
      "-3.83 ' RandomRedditor'\n",
      "-3.83 '龍�'\n",
      "-3.83 '�'\n",
      "-3.83 '\\x1b'\n",
      "-3.83 '�'\n",
      "-3.83 '\\x05'\n",
      "-3.83 '\\x00'\n",
      "-3.83 '\\x06'\n",
      "-3.83 '\\x07'\n",
      "-3.83 '\\x0c'\n",
      "-3.83 '\\x02'\n",
      "-3.83 'oreAndOnline'\n",
      "-3.84 '\\x11'\n",
      "-3.84 '�'\n",
      "-3.84 '\\x10'\n",
      "-3.84 '�'\n",
      "-3.84 '�'\n"
     ]
    }
   ],
   "source": [
    "top_k = 20\n",
    "print(f\"Top {top_k} values\")\n",
    "for i in range(top_k):\n",
    "    print(f\"{bias_values[i].item():.2f} {repr(model.to_string(bias_indices[i]))}\")\n",
    "\n",
    "print(\"...\")\n",
    "print(f\"Bottom {top_k} values\")\n",
    "for i in range(top_k, 0, -1):\n",
    "    print(f\"{bias_values[-i].item():.2f} {repr(model.to_string(bias_indices[-i]))}\")"
   ]
  },
  {
   "cell_type": "markdown",
   "metadata": {
    "id": "0o3YkULMHtgV"
   },
   "source": [
    "This can have real consequences for interpretability - for example, this bias favours \" John\" over \" Mary\" by about 1.2, about 1/3 of the effect size of the Indirect Object Identification Circuit! All other things being the same, this makes the John token 3.6x times more likely than the Mary token."
   ]
  },
  {
   "cell_type": "code",
   "execution_count": 31,
   "metadata": {
    "colab": {
     "base_uri": "https://localhost:8080/"
    },
    "id": "knSN_pqaHtgV",
    "outputId": "2f2e16a0-81db-4ff9-b08c-4c40a6ed8f4a"
   },
   "outputs": [
    {
     "name": "stdout",
     "output_type": "stream",
     "text": [
      "John bias: 2.8995\n",
      "Mary bias: 1.6034\n",
      "Prob ratio bias: 3.6550x\n"
     ]
    }
   ],
   "source": [
    "john_bias = model.unembed.b_U[model.to_single_token(' John')]\n",
    "mary_bias = model.unembed.b_U[model.to_single_token(' Mary')]\n",
    "\n",
    "print(f\"John bias: {john_bias.item():.4f}\")\n",
    "print(f\"Mary bias: {mary_bias.item():.4f}\")\n",
    "print(f\"Prob ratio bias: {torch.exp(john_bias - mary_bias).item():.4f}x\")"
   ]
  },
  {
   "cell_type": "markdown",
   "metadata": {
    "id": "5gO2D4sJHtgV"
   },
   "source": [
    "# Features\n",
    "\n",
    "An overview of some other important features of the library. I recommend checking out the [Exploratory Analysis Demo](https://colab.research.google.com/github/neelnanda-io/Easy-Transformer/blob/main/Exploratory_Analysis_Demo.ipynb) for some other important features not mentioned here, and for a demo of what using the library in practice looks like."
   ]
  },
  {
   "cell_type": "markdown",
   "metadata": {
    "id": "6Ip-PfSiHtgV"
   },
   "source": [
    "## Dealing with tokens\n",
    "\n",
    "**Tokenization** is one of the most annoying features of studying language models. We want language models to be able to take in arbitrary text as input, but the transformer architecture needs the inputs to be elements of a fixed, finite vocabulary. The solution to this is **tokens**, a fixed vocabulary of \"sub-words\", that any natural language can be broken down into with a **tokenizer**. This is invertible, and we can recover the original text, called **de-tokenization**.\n",
    "\n",
    "TransformerLens comes with a range of utility functions to deal with tokenization. Different models can have different tokenizers, so these are all methods on the model.\n",
    "\n",
    "get_token_position, to_tokens, to_string, to_str_tokens, prepend_bos, to_single_token"
   ]
  },
  {
   "cell_type": "markdown",
   "metadata": {
    "id": "qcIMaJXyHtgV"
   },
   "source": [
    "The first thing you need to figure out is *how* things are tokenized. `model.to_str_tokens` splits a string into the tokens *as a list of substrings*, and so lets you explore what the text looks like. To demonstrate this, let's use it on this paragraph.\n",
    "\n",
    "Some observations - there are a lot of arbitrary-ish details in here!\n",
    "* The tokenizer splits on spaces, so no token contains two words.\n",
    "* Tokens include the preceding space, and whether the first token is a capital letter. `how` and ` how` are different tokens!\n",
    "* Common words are single tokens, even if fairly long (` paragraph`) while uncommon words are split into multiple tokens (` token|ized`).\n",
    "* Tokens *mostly* split on punctuation characters (eg `*` and `.`), but eg `'s` is a single token."
   ]
  },
  {
   "cell_type": "code",
   "execution_count": 32,
   "metadata": {
    "colab": {
     "base_uri": "https://localhost:8080/"
    },
    "id": "wqmxwOlFHtgV",
    "outputId": "610248a0-038c-4db3-b0e1-b8317a9b2682"
   },
   "outputs": [
    {
     "name": "stdout",
     "output_type": "stream",
     "text": [
      "['<|endoftext|>', 'The', ' first', ' thing', ' you', ' need', ' to', ' figure', ' out', ' is', ' *', 'how', '*', ' things', ' are', ' token', 'ized', '.', ' `', 'model', '.', 'to', '_', 'str', '_', 't', 'ok', 'ens', '`', ' splits', ' a', ' string', ' into', ' the', ' tokens', ' *', 'as', ' a', ' list', ' of', ' sub', 'strings', '*,', ' and', ' so', ' lets', ' you', ' explore', ' what', ' the', ' text', ' looks', ' like', '.', ' To', ' demonstrate', ' this', ',', ' let', \"'s\", ' use', ' it', ' on', ' this', ' paragraph', '.']\n"
     ]
    }
   ],
   "source": [
    "example_text = \"The first thing you need to figure out is *how* things are tokenized. `model.to_str_tokens` splits a string into the tokens *as a list of substrings*, and so lets you explore what the text looks like. To demonstrate this, let's use it on this paragraph.\"\n",
    "example_text_str_tokens = model.to_str_tokens(example_text)\n",
    "print(example_text_str_tokens)"
   ]
  },
  {
   "cell_type": "markdown",
   "metadata": {
    "id": "O4kOtz2xHtgV"
   },
   "source": [
    "The transformer needs to take in a sequence of integers, not strings, so we need to convert these tokens into integers. `model.to_tokens` does this, and returns a tensor of integers on the model's device (shape `[batch, position]`). It maps a string to a batch of size 1."
   ]
  },
  {
   "cell_type": "code",
   "execution_count": 33,
   "metadata": {
    "colab": {
     "base_uri": "https://localhost:8080/"
    },
    "id": "WBGpcIF9HtgW",
    "outputId": "6d8d6811-debe-4937-d1db-ac637dc7e127"
   },
   "outputs": [
    {
     "name": "stdout",
     "output_type": "stream",
     "text": [
      "tensor([[50256,   464,   717,  1517,   345,   761,   284,  3785,   503,   318,\n",
      "          1635,  4919,     9,  1243,   389, 11241,  1143,    13,  4600, 19849,\n",
      "            13,  1462,    62,  2536,    62,    83,   482,   641,    63, 30778,\n",
      "           257,  4731,   656,   262, 16326,  1635,   292,   257,  1351,   286,\n",
      "           850, 37336, 25666,   290,   523,  8781,   345,  7301,   644,   262,\n",
      "          2420,  3073,   588,    13,  1675, 10176,   428,    11,  1309,   338,\n",
      "           779,   340,   319,   428,  7322,    13]], device='cuda:0')\n"
     ]
    }
   ],
   "source": [
    "example_text_tokens = model.to_tokens(example_text)\n",
    "print(example_text_tokens)"
   ]
  },
  {
   "cell_type": "markdown",
   "metadata": {
    "id": "BGHmQydfHtgW"
   },
   "source": [
    "`to_tokens` can also take in a list of strings, and return a batch of size `len(strings)`. If the strings are different numbers of tokens, it adds a PAD token to the end of the shorter strings to make them the same length.\n",
    "\n",
    "(Note: In GPT-2, 50256 signifies both the beginning of sequence, end of sequence and padding token - see the `prepend_bos` section for details)"
   ]
  },
  {
   "cell_type": "code",
   "execution_count": 34,
   "metadata": {
    "colab": {
     "base_uri": "https://localhost:8080/"
    },
    "id": "nf9VMEjhHtgW",
    "outputId": "eefb8d1a-318e-4d71-8c0f-28045b1046c8"
   },
   "outputs": [
    {
     "name": "stdout",
     "output_type": "stream",
     "text": [
      "tensor([[50256,   464,  3797,  3332,   319,   262,  2603,    13, 50256, 50256],\n",
      "        [50256,   464,  3797,  3332,   319,   262,  2603,  1107,  1327,    13]],\n",
      "       device='cuda:0')\n"
     ]
    }
   ],
   "source": [
    "example_multi_text = [\"The cat sat on the mat.\", \"The cat sat on the mat really hard.\"]\n",
    "example_multi_text_tokens = model.to_tokens(example_multi_text)\n",
    "print(example_multi_text_tokens)"
   ]
  },
  {
   "cell_type": "markdown",
   "metadata": {
    "id": "pUYGYHUrHtgW"
   },
   "source": [
    "`model.to_single_token` is a convenience function that takes in a string corresponding to a *single* token and returns the corresponding integer. This is useful for eg looking up the logit corresponding to a single token.\n",
    "\n",
    "For example, let's input `The cat sat on the mat.` to GPT-2, and look at the log prob predicting that the next token is ` The`.\n",
    "\n",
    "<details><summary>Technical notes</summary>\n",
    "\n",
    "Note that if we input a string to the model, it's implicitly converted to a string with `to_tokens`.\n",
    "\n",
    "Note further that the log probs have shape `[batch, position, d_vocab]==[1, 8, 50257]`, with a vector of log probs predicting the next token for *every* token position. GPT-2 uses causal attention which means heads can only look backwards (equivalently, information can only move forwards in the model.), so the log probs at position k are only a function of the first k tokens, and it can't just cheat and look at the k+1 th token. This structure lets it generate text more efficiently, and lets it treat every *token* as a training example, rather than every *sequence*.\n",
    "</details>"
   ]
  },
  {
   "cell_type": "code",
   "execution_count": 35,
   "metadata": {
    "colab": {
     "base_uri": "https://localhost:8080/"
    },
    "id": "ocAks_YeHtgW",
    "outputId": "87351b19-0347-41ee-f99e-28cdfbfc235b"
   },
   "outputs": [
    {
     "name": "stdout",
     "output_type": "stream",
     "text": [
      "Probability tensor shape [batch, position, d_vocab] == torch.Size([1, 8, 50257])\n",
      "| The| probability: 11.98%\n"
     ]
    }
   ],
   "source": [
    "cat_text = \"The cat sat on the mat.\"\n",
    "cat_logits = model(cat_text)\n",
    "cat_probs = cat_logits.softmax(dim=-1)\n",
    "print(f\"Probability tensor shape [batch, position, d_vocab] == {cat_probs.shape}\")\n",
    "\n",
    "capital_the_token_index = model.to_single_token(\" The\")\n",
    "print(f\"| The| probability: {cat_probs[0, -1, capital_the_token_index].item():.2%}\")"
   ]
  },
  {
   "cell_type": "markdown",
   "metadata": {
    "id": "oPr3_nONHtgW"
   },
   "source": [
    "`model.to_string` is the inverse of `to_tokens` and maps a tensor of integers to a string or list of strings. It also works on integers and lists of integers.\n",
    "\n",
    "For example, let's look up token 256 (due to technical details of tokenization, this will be the most common pair of ASCII characters!), and also verify that our tokens above map back to a string."
   ]
  },
  {
   "cell_type": "code",
   "execution_count": 36,
   "metadata": {
    "colab": {
     "base_uri": "https://localhost:8080/"
    },
    "id": "PHzzTK4WHtgW",
    "outputId": "90423b34-bfaa-4289-c308-5168cedc8981"
   },
   "outputs": [
    {
     "name": "stdout",
     "output_type": "stream",
     "text": [
      "Token 256 - the most common pair of ASCII characters: | t|\n",
      "De-Tokenizing the example tokens: <|endoftext|>The first thing you need to figure out is *how* things are tokenized. `model.to_str_tokens` splits a string into the tokens *as a list of substrings*, and so lets you explore what the text looks like. To demonstrate this, let's use it on this paragraph.\n"
     ]
    }
   ],
   "source": [
    "print(f\"Token 256 - the most common pair of ASCII characters: |{model.to_string(256)}|\")\n",
    "# Squeeze means to remove dimensions of length 1.\n",
    "# Here, that removes the dummy batch dimension so it's a rank 1 tensor and returns a string\n",
    "# Rank 2 tensors map to a list of strings\n",
    "print(f\"De-Tokenizing the example tokens: {model.to_string(example_text_tokens.squeeze())}\")"
   ]
  },
  {
   "cell_type": "markdown",
   "metadata": {
    "id": "UTjuHlRHHtgW"
   },
   "source": [
    "A related annoyance of tokenization is that it's hard to figure out how many tokens a string will break into. `model.get_token_position(single_token, tokens)` returns the position of `single_token` in `tokens`. `tokens` can be either a string or a tensor of tokens.\n",
    "\n",
    "Note that position is zero-indexed, it's two (ie third) because there's a beginning of sequence token automatically prepended (see the next section for details)"
   ]
  },
  {
   "cell_type": "code",
   "execution_count": 37,
   "metadata": {
    "colab": {
     "base_uri": "https://localhost:8080/"
    },
    "id": "kYKD0VYYHtgX",
    "outputId": "afaaaafb-a8eb-4572-e9e9-b0d151439753"
   },
   "outputs": [
    {
     "name": "stdout",
     "output_type": "stream",
     "text": [
      "With BOS: 2\n",
      "Without BOS: 1\n"
     ]
    }
   ],
   "source": [
    "print(\"With BOS:\", model.get_token_position(\" cat\", \"The cat sat on the mat\"))\n",
    "print(\"Without BOS:\", model.get_token_position(\" cat\", \"The cat sat on the mat\", prepend_bos=False))"
   ]
  },
  {
   "cell_type": "markdown",
   "metadata": {
    "id": "Dx30lIJRHtgX"
   },
   "source": [
    "If there are multiple copies of the token, we can set `mode=\"first\"` to find the first occurence's position and `mode=\"last\"` to find the last"
   ]
  },
  {
   "cell_type": "code",
   "execution_count": 38,
   "metadata": {
    "colab": {
     "base_uri": "https://localhost:8080/"
    },
    "id": "8ZJzw9uBHtgX",
    "outputId": "0c8d73a6-d410-4fa2-8845-66e476eff16e"
   },
   "outputs": [
    {
     "name": "stdout",
     "output_type": "stream",
     "text": [
      "First occurence 2\n",
      "Final occurence 13\n"
     ]
    }
   ],
   "source": [
    "print(\"First occurence\", model.get_token_position(\n",
    "    \" cat\",\n",
    "    \"The cat sat on the mat. The mat sat on the cat.\",\n",
    "    mode=\"first\"))\n",
    "print(\"Final occurence\", model.get_token_position(\n",
    "    \" cat\",\n",
    "    \"The cat sat on the mat. The mat sat on the cat.\",\n",
    "    mode=\"last\"))"
   ]
  },
  {
   "cell_type": "markdown",
   "metadata": {
    "id": "tjqF_cm1HtgX"
   },
   "source": [
    "In general, tokenization is a pain, and full of gotchas. I highly recommend just playing around with different inputs and their tokenization and getting a feel for it. As another \"fun\" example, let's look at the tokenization of arithmetic expressions - tokens do *not* contain consistent numbers of digits. (This makes it even more impressive that GPT-3 can do arithmetic!)"
   ]
  },
  {
   "cell_type": "code",
   "execution_count": 39,
   "metadata": {
    "colab": {
     "base_uri": "https://localhost:8080/"
    },
    "id": "c0mjSOzgHtgX",
    "outputId": "15f02339-67f7-4f73-caee-5554e430c111"
   },
   "outputs": [
    {
     "name": "stdout",
     "output_type": "stream",
     "text": [
      "['<|endoftext|>', '23', '42', '+', '2017', '=', '214', '45']\n",
      "['<|endoftext|>', '1000', '+', '1', '000000', '=', '9999', '99']\n"
     ]
    }
   ],
   "source": [
    "print(model.to_str_tokens(\"2342+2017=21445\"))\n",
    "print(model.to_str_tokens(\"1000+1000000=999999\"))"
   ]
  },
  {
   "cell_type": "markdown",
   "metadata": {
    "id": "C9eSdnqiHtgX"
   },
   "source": [
    "I also *highly* recommend investigating prompts with easy tokenization when starting out - ideally key words should form a single token, be in the same position in different prompts, have the same total length, etc. Eg study Indirect Object Identification with common English names like ` Tim` rather than ` Ne|el`. Transformers need to spend some parameters in early layers converting multi-token words to a single feature, and then de-converting this in the late layers, and unless this is what you're explicitly investigating, this will make the behaviour you're investigating be messier."
   ]
  },
  {
   "cell_type": "markdown",
   "metadata": {
    "id": "cvVu3DFXHtgX"
   },
   "source": [
    "### Gotcha: `prepend_bos`\n",
    "\n",
    "Key Takeaway: **If you get weird off-by-one errors, check whether there's an unexpected `prepend_bos`!**"
   ]
  },
  {
   "cell_type": "markdown",
   "metadata": {
    "id": "pCHXdlCoHtgX"
   },
   "source": [
    "A weirdness you may have noticed in the above is that `to_tokens` and `to_str_tokens` added a weird `<|endoftext|>` to the start of each prompt. TransformerLens does this by default, and it can easily trip up new users. Notably, **this includes `model.forward`** (which is what's implicitly used when you do eg `model(\"Hello World\")`). This is called a **Beginning of Sequence (BOS)** token, and it's a special token used to mark the beginning of the sequence. Confusingly, in GPT-2, the End of Sequence (EOS), Beginning of Sequence (BOS) and Padding (PAD) tokens are all the same, `<|endoftext|>` with index `50256`.\n",
    "\n",
    "You can disable this behaviour by setting the flag `prepend_bos=False` in `to_tokens`, `to_str_tokens`, `model.forward` and any other function that converts strings to multi-token tensors.\n",
    "\n",
    "**Gotcha:** You only want to do this at the *start* of a prompt. If you, eg, want to input a question followed by an answer, and want to tokenize these separately, you do *not* want to prepend_bos on the answer."
   ]
  },
  {
   "cell_type": "code",
   "execution_count": 40,
   "metadata": {
    "colab": {
     "base_uri": "https://localhost:8080/"
    },
    "id": "Fbw4P41nHtgY",
    "outputId": "e0ddefb0-89f3-4a6f-8315-7c36950dbc4d"
   },
   "outputs": [
    {
     "name": "stdout",
     "output_type": "stream",
     "text": [
      "Logits shape by default (with BOS) torch.Size([1, 3, 50257])\n",
      "Logits shape with BOS torch.Size([1, 3, 50257])\n",
      "Logits shape without BOS - only 2 positions! torch.Size([1, 2, 50257])\n"
     ]
    }
   ],
   "source": [
    "print(\"Logits shape by default (with BOS)\", model(\"Hello World\").shape)\n",
    "print(\"Logits shape with BOS\", model(\"Hello World\", prepend_bos=True).shape)\n",
    "print(\"Logits shape without BOS - only 2 positions!\", model(\"Hello World\", prepend_bos=False).shape)"
   ]
  },
  {
   "cell_type": "markdown",
   "metadata": {
    "id": "VtSW7eG0HtgY"
   },
   "source": [
    "`prepend_bos` is a bit of a hack, and I've gone back and forth on what the correct default here is. The reason I do this is that transformers tend to treat the first token weirdly - this doesn't really matter in training (where all inputs are >1000 tokens), but this can be a big issue when investigating short prompts! The reason for this is that attention patterns are a probability distribution and so need to add up to one, so to simulate being \"off\" they normally look at the first token. Giving them a BOS token lets the heads rest by looking at that, preserving the information in the first \"real\" token.\n",
    "\n",
    "Further, *some* models are trained to need a BOS token (OPT and my interpretability-friendly models are, GPT-2 and GPT-Neo are not). But despite GPT-2 not being trained with this, empirically it seems to make interpretability easier.\n",
    "\n",
    "For example, the model can get much worse at Indirect Object Identification without a BOS (and with a name as the first token):"
   ]
  },
  {
   "cell_type": "code",
   "execution_count": 41,
   "metadata": {
    "colab": {
     "base_uri": "https://localhost:8080/"
    },
    "id": "gD4Prp6XHtgY",
    "outputId": "650e18ae-982b-4c19-9b5b-688a7ae426ab"
   },
   "outputs": [
    {
     "name": "stdout",
     "output_type": "stream",
     "text": [
      "Logit difference with BOS: 6.754\n",
      "Logit difference without BOS: 2.782\n"
     ]
    }
   ],
   "source": [
    "ioi_logits_with_bos = model(\"Claire and Mary went to the shops, then Mary gave a bottle of milk to\", prepend_bos=True)\n",
    "mary_logit_with_bos = ioi_logits_with_bos[0, -1, model.to_single_token(\" Mary\")].item()\n",
    "claire_logit_with_bos = ioi_logits_with_bos[0, -1, model.to_single_token(\" Claire\")].item()\n",
    "print(f\"Logit difference with BOS: {(claire_logit_with_bos - mary_logit_with_bos):.3f}\")\n",
    "\n",
    "ioi_logits_without_bos = model(\"Claire and Mary went to the shops, then Mary gave a bottle of milk to\", prepend_bos=False)\n",
    "mary_logit_without_bos = ioi_logits_without_bos[0, -1, model.to_single_token(\" Mary\")].item()\n",
    "claire_logit_without_bos = ioi_logits_without_bos[0, -1, model.to_single_token(\" Claire\")].item()\n",
    "print(f\"Logit difference without BOS: {(claire_logit_without_bos - mary_logit_without_bos):.3f}\")"
   ]
  },
  {
   "cell_type": "markdown",
   "metadata": {
    "id": "9f42NSSiHtgY"
   },
   "source": [
    "Though, note that this also illustrates another gotcha - when `Claire` is at the start of a sentence (no preceding space), it's actually *two* tokens, not one, which probably confuses the relevant circuit. (Note - in this test we put `prepend_bos=False`, because we want to analyse the tokenization of a specific string, not to give an input to the model!)"
   ]
  },
  {
   "cell_type": "code",
   "execution_count": 42,
   "metadata": {
    "colab": {
     "base_uri": "https://localhost:8080/"
    },
    "id": "-hrPTXcJHtga",
    "outputId": "8aab4b4c-4c03-4abc-809b-6c923df4d8ba"
   },
   "outputs": [
    {
     "name": "stdout",
     "output_type": "stream",
     "text": [
      "| Claire| -> [' Claire']\n",
      "|Claire| -> ['Cl', 'aire']\n"
     ]
    }
   ],
   "source": [
    "print(f\"| Claire| -> {model.to_str_tokens(' Claire', prepend_bos=False)}\")\n",
    "print(f\"|Claire| -> {model.to_str_tokens('Claire', prepend_bos=False)}\")"
   ]
  },
  {
   "cell_type": "markdown",
   "metadata": {
    "id": "BGjQIkDcHtgb"
   },
   "source": [
    "## Factored Matrix Class\n",
    "\n",
    "In transformer interpretability, we often need to analyse low rank factorized matrices - a matrix $M = AB$, where M is `[large, large]`, but A is `[large, small]` and B is `[small, large]`. This is a common structure in transformers, and the `FactoredMatrix` class is a convenient way to work with these. It implements efficient algorithms for various operations on these, such as computing the trace, eigenvalues, Frobenius norm, singular value decomposition, and products with other matrices. It can (approximately) act as a drop-in replacement for the original matrix, and supports leading batch dimensions to the factored matrix.\n",
    "\n",
    "<details><summary>Why are low-rank factorized matrices useful for transformer interpretability?</summary>\n",
    "\n",
    "As argued in [A Mathematical Framework](https://transformer-circuits.pub/2021/framework/index.html), an unexpected fact about transformer attention heads is that rather than being best understood as keys, queries and values (and the requisite weight matrices), they're actually best understood as two low rank factorized matrices.\n",
    "* **Where to move information from:** $W_QK = W_Q W_K^T$, used for determining the attention pattern - what source positions to move information from and what destination positions to move them to.\n",
    "    * Intuitively, residual stream -> query and residual stream -> key are linear maps, *and* `attention_score = query @ key.T` is a linear map, so the whole thing can be factored into one big bilinear form `residual @ W_QK @ residual.T`\n",
    "* **What information to move:** $W_OV = W_V W_O$, used to determine what information to copy from the source position to the destination position (weighted by the attention pattern weight from that destination to that source).\n",
    "    * Intuitively, the residual stream is a `[position, d_model]` tensor (ignoring batch). The attention pattern acts on the *position* dimension (where to move information from and to) and the value and output weights act on the *d_model* dimension - ie *what* information is contained at that source position. So we can factor it all into `attention_pattern @ residual @ W_V @ W_O`, and so only need to care about `W_OV = W_V @ W_O`\n",
    "* Note - the internal head dimension is smaller than the residual stream dimension, so the factorization is low rank. (here, `d_model=768` and `d_head=64`)\n",
    "</details>"
   ]
  },
  {
   "cell_type": "markdown",
   "metadata": {
    "id": "sKNy1aIXHtgb"
   },
   "source": [
    "### Basic Examples"
   ]
  },
  {
   "cell_type": "markdown",
   "metadata": {
    "id": "19mXCXxKHtgb"
   },
   "source": [
    "We can use the basic class directly - let's make a factored matrix directly and look at the basic operations:"
   ]
  },
  {
   "cell_type": "code",
   "execution_count": 43,
   "metadata": {
    "colab": {
     "base_uri": "https://localhost:8080/"
    },
    "id": "URokX8cwHtgb",
    "outputId": "ab32bc0a-1519-421d-a869-2222e30e81ca"
   },
   "outputs": [
    {
     "name": "stdout",
     "output_type": "stream",
     "text": [
      "Norms:\n",
      "tensor(6.0828)\n",
      "tensor(6.0828)\n",
      "Right dimension: 5, Left dimension: 5, Hidden dimension: 2\n"
     ]
    }
   ],
   "source": [
    "A = torch.randn(5, 2)\n",
    "B = torch.randn(2, 5)\n",
    "AB = A @ B\n",
    "AB_factor = FactoredMatrix(A, B)\n",
    "print(\"Norms:\")\n",
    "print(AB.norm())\n",
    "print(AB_factor.norm())\n",
    "\n",
    "print(f\"Right dimension: {AB_factor.rdim}, Left dimension: {AB_factor.ldim}, Hidden dimension: {AB_factor.mdim}\")"
   ]
  },
  {
   "cell_type": "markdown",
   "metadata": {
    "id": "EHhmj_slHtgb"
   },
   "source": [
    "We can also look at the eigenvalues and singular values of the matrix. Note that, because the matrix is rank 2 but 5 by 5, the final 3 eigenvalues and singular values are zero - the factored class omits the zeros."
   ]
  },
  {
   "cell_type": "code",
   "execution_count": 44,
   "metadata": {
    "colab": {
     "base_uri": "https://localhost:8080/"
    },
    "id": "cLLcvRfFHtgb",
    "outputId": "6ed39b51-b2dc-4c9d-e327-86751991c10a"
   },
   "outputs": [
    {
     "name": "stdout",
     "output_type": "stream",
     "text": [
      "Eigenvalues:\n",
      "tensor([ 4.2896e+00+0.j, -1.0101e+00+0.j,  4.0938e-08+0.j, -1.3008e-07+0.j,\n",
      "        -2.0273e-07+0.j])\n",
      "tensor([ 4.2896+0.j, -1.0101+0.j])\n",
      "\n",
      "Singular Values:\n",
      "tensor([4.9135e+00, 3.5858e+00, 1.8984e-07, 8.9742e-08, 1.1485e-08])\n",
      "tensor([4.9135, 3.5858])\n"
     ]
    }
   ],
   "source": [
    "print(\"Eigenvalues:\")\n",
    "print(torch.linalg.eig(AB).eigenvalues)\n",
    "print(AB_factor.eigenvalues)\n",
    "print()\n",
    "print(\"Singular Values:\")\n",
    "print(torch.linalg.svd(AB).S)\n",
    "print(AB_factor.S)"
   ]
  },
  {
   "cell_type": "markdown",
   "metadata": {
    "id": "LrAoHo9_Htgc"
   },
   "source": [
    "We can multiply with other matrices - it automatically chooses the smallest possible dimension to factor along (here it's 2, rather than 5)"
   ]
  },
  {
   "cell_type": "code",
   "execution_count": 45,
   "metadata": {
    "colab": {
     "base_uri": "https://localhost:8080/"
    },
    "id": "8R-bhPhBHtgc",
    "outputId": "9462b8ca-e1e8-43d3-e167-4ab7713d7830"
   },
   "outputs": [
    {
     "name": "stdout",
     "output_type": "stream",
     "text": [
      "Unfactored: torch.Size([5, 300]) tensor(105.7041)\n",
      "Factored: torch.Size([5, 300]) tensor(105.7041)\n",
      "Right dimension: 300, Left dimension: 5, Hidden dimension: 2\n"
     ]
    }
   ],
   "source": [
    "C = torch.randn(5, 300)\n",
    "ABC = AB @ C\n",
    "ABC_factor = AB_factor @ C\n",
    "print(\"Unfactored:\", ABC.shape, ABC.norm())\n",
    "print(\"Factored:\", ABC_factor.shape, ABC_factor.norm())\n",
    "print(f\"Right dimension: {ABC_factor.rdim}, Left dimension: {ABC_factor.ldim}, Hidden dimension: {ABC_factor.mdim}\")"
   ]
  },
  {
   "cell_type": "markdown",
   "metadata": {
    "id": "YKoJl3CHHtgc"
   },
   "source": [
    "If we want to collapse this back to an unfactored matrix, we can use the AB property to get the product:"
   ]
  },
  {
   "cell_type": "code",
   "execution_count": 46,
   "metadata": {
    "colab": {
     "base_uri": "https://localhost:8080/"
    },
    "id": "ZFxIPHCEHtgc",
    "outputId": "8ef57667-29f3-4fdf-f532-a5e0fd10eb76"
   },
   "outputs": [
    {
     "name": "stdout",
     "output_type": "stream",
     "text": [
      "tensor(True)\n"
     ]
    }
   ],
   "source": [
    "AB_unfactored = AB_factor.AB\n",
    "print(torch.isclose(AB_unfactored, AB).all())"
   ]
  },
  {
   "cell_type": "markdown",
   "metadata": {
    "id": "I7y6PAdXHtgc"
   },
   "source": [
    "### Medium Example: Eigenvalue Copying Scores\n",
    "\n",
    "(This is a more involved example of how to use the factored matrix class, skip it if you aren't following)\n",
    "\n",
    "For a more involved example, let's look at the eigenvalue copying score from [A Mathematical Framework](https://transformer-circuits.pub/2021/framework/index.html) of the OV circuit for various heads. The OV Circuit for a head (the factorised matrix $W_OV = W_V W_O$) is a linear map that determines what information is moved from the source position to the destination position. Because this is low rank, it can be thought of as *reading in* some low rank subspace of the source residual stream and *writing to* some low rank subspace of the destination residual stream (with maybe some processing happening in the middle).\n",
    "\n",
    "A common operation for this will just be to *copy*, ie to have the same reading and writing subspace, and to do minimal processing in the middle. Empirically, this tends to coincide with the OV Circuit having (approximately) positive real eigenvalues. I mostly assert this as an empirical fact, but intuitively, operations that involve mapping eigenvectors to different directions (eg rotations) tend to have complex eigenvalues. And operations that preserve eigenvector direction but negate it tend to have negative real eigenvalues. And \"what happens to the eigenvectors\" is a decent proxy for what happens to an arbitrary vector.\n",
    "\n",
    "We can get a score for \"how positive real the OV circuit eigenvalues are\" with $\\frac{\\sum \\lambda_i}{\\sum |\\lambda_i|}$, where $\\lambda_i$ are the eigenvalues of the OV circuit. This is a bit of a hack, but it seems to work well in practice."
   ]
  },
  {
   "cell_type": "markdown",
   "metadata": {
    "id": "ktAI8yGRHtgc"
   },
   "source": [
    "Let's use FactoredMatrix to compute this for every head in the model! We use the helper `model.OV` to get the concatenated OV circuits for all heads across all layers in the model. This has the shape `[n_layers, n_heads, d_model, d_model]`, where `n_layers` and `n_heads` are batch dimensions and the final two dimensions are factorised as `[n_layers, n_heads, d_model, d_head]` and `[n_layers, n_heads, d_head, d_model]` matrices.\n",
    "\n",
    "We can then get the eigenvalues for this, where there are separate eigenvalues for each element of the batch (a `[n_layers, n_heads, d_head]` tensor of complex numbers), and calculate the copying score."
   ]
  },
  {
   "cell_type": "code",
   "execution_count": 47,
   "metadata": {
    "colab": {
     "base_uri": "https://localhost:8080/"
    },
    "id": "bkDJNQ_RHtgc",
    "outputId": "c139c382-c941-422b-b294-b3ea4bc00638"
   },
   "outputs": [
    {
     "name": "stdout",
     "output_type": "stream",
     "text": [
      "FactoredMatrix: Shape(torch.Size([12, 12, 768, 768])), Hidden Dim(64)\n"
     ]
    }
   ],
   "source": [
    "OV_circuit_all_heads = model.OV\n",
    "print(OV_circuit_all_heads)"
   ]
  },
  {
   "cell_type": "code",
   "execution_count": 48,
   "metadata": {
    "colab": {
     "base_uri": "https://localhost:8080/"
    },
    "id": "cJEJniiiHtgc",
    "outputId": "47dd64f5-cdf8-4943-8c1b-9180ad1b51ac"
   },
   "outputs": [
    {
     "name": "stdout",
     "output_type": "stream",
     "text": [
      "torch.Size([12, 12, 64])\n",
      "torch.complex64\n"
     ]
    }
   ],
   "source": [
    "OV_circuit_all_heads_eigenvalues = OV_circuit_all_heads.eigenvalues\n",
    "print(OV_circuit_all_heads_eigenvalues.shape)\n",
    "print(OV_circuit_all_heads_eigenvalues.dtype)"
   ]
  },
  {
   "cell_type": "code",
   "execution_count": 49,
   "metadata": {
    "colab": {
     "base_uri": "https://localhost:8080/",
     "height": 542
    },
    "id": "X5f3gSTMHtgc",
    "outputId": "fcb5f324-534d-47be-8695-67e01d8a5a0b"
   },
   "outputs": [
    {
     "data": {
      "text/html": [
       "<html>\n",
       "<head><meta charset=\"utf-8\" /></head>\n",
       "<body>\n",
       "    <div>            <script src=\"https://cdnjs.cloudflare.com/ajax/libs/mathjax/2.7.5/MathJax.js?config=TeX-AMS-MML_SVG\"></script><script type=\"text/javascript\">if (window.MathJax && window.MathJax.Hub && window.MathJax.Hub.Config) {window.MathJax.Hub.Config({SVG: {font: \"STIX-Web\"}});}</script>                <script type=\"text/javascript\">window.PlotlyConfig = {MathJaxConfig: 'local'};</script>\n",
       "        <script charset=\"utf-8\" src=\"https://cdn.plot.ly/plotly-2.24.1.min.js\"></script>                <div id=\"29e4090f-8c47-4287-9565-66b831004e1a\" class=\"plotly-graph-div\" style=\"height:525px; width:100%;\"></div>            <script type=\"text/javascript\">                                    window.PLOTLYENV=window.PLOTLYENV || {};                                    if (document.getElementById(\"29e4090f-8c47-4287-9565-66b831004e1a\")) {                    Plotly.newPlot(                        \"29e4090f-8c47-4287-9565-66b831004e1a\",                        [{\"coloraxis\":\"coloraxis\",\"name\":\"0\",\"z\":[[0.7775010466575623,0.3527267873287201,0.25961846113204956,0.6670256853103638,0.838425874710083,0.558443009853363,0.8444746136665344,0.41379091143608093,0.24488945305347443,0.02815747819840908,0.35840973258018494,0.16288262605667114],[-0.45419126749038696,-0.6529326438903809,-0.5484569072723389,-0.7990369200706482,-0.7736425399780273,-0.8522580862045288,0.977432370185852,0.6626250743865967,-0.7303223609924316,-0.7007021903991699,-0.69466233253479,-0.9996723532676697],[-0.7837163209915161,0.8967757225036621,0.47509536147117615,-0.6671972870826721,0.7881463766098022,-0.8547749519348145,-0.9054183959960938,-0.5749383568763733,-0.3217511475086212,-0.028593694791197777,-0.9247616529464722,-0.9699268341064453],[0.5864036679267883,-0.7614348530769348,0.5971696376800537,0.7854393720626831,-0.8788883686065674,0.39087462425231934,0.04473845660686493,0.11028008162975311,-0.8169987797737122,0.22129526734352112,-0.9939577579498291,0.5774402022361755],[0.5254791975021362,0.30490127205848694,-0.1072913259267807,0.9433151483535767,-0.9314429759979248,0.5273632407188416,-0.42647117376327515,-0.9984428882598877,0.5296754837036133,0.8604294657707214,-0.88950514793396,0.9556970000267029],[0.6629188060760498,0.4295697510242462,0.9736858010292053,0.6555481553077698,0.12201876938343048,0.7442768216133118,0.5037954449653625,0.95253586769104,-0.6507166624069214,-0.9316278100013733,0.9791510701179504,-0.9972586035728455],[0.9613032937049866,0.7501777410507202,-0.38066616654396057,0.6429786086082458,0.9557769298553467,-0.9428837895393372,-0.99480801820755,0.7852987051010132,0.9657301306724548,0.7073015570640564,0.36872273683547974,0.8128010034561157],[0.9659484028816223,0.9730120897293091,0.3190062940120697,-0.3029051423072815,0.9790952801704407,0.9357923865318298,-0.5550315380096436,-0.005466550122946501,0.9867776036262512,0.8249568343162537,0.566429853439331,0.10005278885364532],[-0.9464487433433533,-0.25471994280815125,0.6522324681282043,0.14152516424655914,0.9884141683578491,0.9860584735870361,0.6949270963668823,0.9901810884475708,0.9791203141212463,-0.2359551340341568,-0.9820711016654968,0.6506687998771667],[0.9895945191383362,-0.29178154468536377,0.9714024066925049,0.9951602816581726,0.187837615609169,-0.946093738079071,0.4780190885066986,-0.24891921877861023,0.9437099695205688,0.11866209656000137,0.9941242933273315,-0.38088202476501465],[0.9564487338066101,0.5542721748352051,0.4211805462837219,0.6628789901733398,0.8659592866897583,0.9937118887901306,0.9069075584411621,0.39811083674430847,-0.4134219288825989,0.9971914887428284,0.34596654772758484,0.9938657283782959],[0.5891267657279968,0.9313739538192749,0.9268401265144348,0.9993563890457153,0.6227541565895081,0.8463948965072632,0.6584345102310181,0.8423122763633728,0.2978495657444,0.8728678226470947,0.9963144659996033,0.9867526292800903]],\"type\":\"heatmap\",\"xaxis\":\"x\",\"yaxis\":\"y\",\"hovertemplate\":\"Head: %{x}\\u003cbr\\u003eLayer: %{y}\\u003cbr\\u003ecolor: %{z}\\u003cextra\\u003e\\u003c\\u002fextra\\u003e\"}],                        {\"template\":{\"data\":{\"histogram2dcontour\":[{\"type\":\"histogram2dcontour\",\"colorbar\":{\"outlinewidth\":0,\"ticks\":\"\"},\"colorscale\":[[0.0,\"#0d0887\"],[0.1111111111111111,\"#46039f\"],[0.2222222222222222,\"#7201a8\"],[0.3333333333333333,\"#9c179e\"],[0.4444444444444444,\"#bd3786\"],[0.5555555555555556,\"#d8576b\"],[0.6666666666666666,\"#ed7953\"],[0.7777777777777778,\"#fb9f3a\"],[0.8888888888888888,\"#fdca26\"],[1.0,\"#f0f921\"]]}],\"choropleth\":[{\"type\":\"choropleth\",\"colorbar\":{\"outlinewidth\":0,\"ticks\":\"\"}}],\"histogram2d\":[{\"type\":\"histogram2d\",\"colorbar\":{\"outlinewidth\":0,\"ticks\":\"\"},\"colorscale\":[[0.0,\"#0d0887\"],[0.1111111111111111,\"#46039f\"],[0.2222222222222222,\"#7201a8\"],[0.3333333333333333,\"#9c179e\"],[0.4444444444444444,\"#bd3786\"],[0.5555555555555556,\"#d8576b\"],[0.6666666666666666,\"#ed7953\"],[0.7777777777777778,\"#fb9f3a\"],[0.8888888888888888,\"#fdca26\"],[1.0,\"#f0f921\"]]}],\"heatmap\":[{\"type\":\"heatmap\",\"colorbar\":{\"outlinewidth\":0,\"ticks\":\"\"},\"colorscale\":[[0.0,\"#0d0887\"],[0.1111111111111111,\"#46039f\"],[0.2222222222222222,\"#7201a8\"],[0.3333333333333333,\"#9c179e\"],[0.4444444444444444,\"#bd3786\"],[0.5555555555555556,\"#d8576b\"],[0.6666666666666666,\"#ed7953\"],[0.7777777777777778,\"#fb9f3a\"],[0.8888888888888888,\"#fdca26\"],[1.0,\"#f0f921\"]]}],\"heatmapgl\":[{\"type\":\"heatmapgl\",\"colorbar\":{\"outlinewidth\":0,\"ticks\":\"\"},\"colorscale\":[[0.0,\"#0d0887\"],[0.1111111111111111,\"#46039f\"],[0.2222222222222222,\"#7201a8\"],[0.3333333333333333,\"#9c179e\"],[0.4444444444444444,\"#bd3786\"],[0.5555555555555556,\"#d8576b\"],[0.6666666666666666,\"#ed7953\"],[0.7777777777777778,\"#fb9f3a\"],[0.8888888888888888,\"#fdca26\"],[1.0,\"#f0f921\"]]}],\"contourcarpet\":[{\"type\":\"contourcarpet\",\"colorbar\":{\"outlinewidth\":0,\"ticks\":\"\"}}],\"contour\":[{\"type\":\"contour\",\"colorbar\":{\"outlinewidth\":0,\"ticks\":\"\"},\"colorscale\":[[0.0,\"#0d0887\"],[0.1111111111111111,\"#46039f\"],[0.2222222222222222,\"#7201a8\"],[0.3333333333333333,\"#9c179e\"],[0.4444444444444444,\"#bd3786\"],[0.5555555555555556,\"#d8576b\"],[0.6666666666666666,\"#ed7953\"],[0.7777777777777778,\"#fb9f3a\"],[0.8888888888888888,\"#fdca26\"],[1.0,\"#f0f921\"]]}],\"surface\":[{\"type\":\"surface\",\"colorbar\":{\"outlinewidth\":0,\"ticks\":\"\"},\"colorscale\":[[0.0,\"#0d0887\"],[0.1111111111111111,\"#46039f\"],[0.2222222222222222,\"#7201a8\"],[0.3333333333333333,\"#9c179e\"],[0.4444444444444444,\"#bd3786\"],[0.5555555555555556,\"#d8576b\"],[0.6666666666666666,\"#ed7953\"],[0.7777777777777778,\"#fb9f3a\"],[0.8888888888888888,\"#fdca26\"],[1.0,\"#f0f921\"]]}],\"mesh3d\":[{\"type\":\"mesh3d\",\"colorbar\":{\"outlinewidth\":0,\"ticks\":\"\"}}],\"scatter\":[{\"fillpattern\":{\"fillmode\":\"overlay\",\"size\":10,\"solidity\":0.2},\"type\":\"scatter\"}],\"parcoords\":[{\"type\":\"parcoords\",\"line\":{\"colorbar\":{\"outlinewidth\":0,\"ticks\":\"\"}}}],\"scatterpolargl\":[{\"type\":\"scatterpolargl\",\"marker\":{\"colorbar\":{\"outlinewidth\":0,\"ticks\":\"\"}}}],\"bar\":[{\"error_x\":{\"color\":\"#2a3f5f\"},\"error_y\":{\"color\":\"#2a3f5f\"},\"marker\":{\"line\":{\"color\":\"#E5ECF6\",\"width\":0.5},\"pattern\":{\"fillmode\":\"overlay\",\"size\":10,\"solidity\":0.2}},\"type\":\"bar\"}],\"scattergeo\":[{\"type\":\"scattergeo\",\"marker\":{\"colorbar\":{\"outlinewidth\":0,\"ticks\":\"\"}}}],\"scatterpolar\":[{\"type\":\"scatterpolar\",\"marker\":{\"colorbar\":{\"outlinewidth\":0,\"ticks\":\"\"}}}],\"histogram\":[{\"marker\":{\"pattern\":{\"fillmode\":\"overlay\",\"size\":10,\"solidity\":0.2}},\"type\":\"histogram\"}],\"scattergl\":[{\"type\":\"scattergl\",\"marker\":{\"colorbar\":{\"outlinewidth\":0,\"ticks\":\"\"}}}],\"scatter3d\":[{\"type\":\"scatter3d\",\"line\":{\"colorbar\":{\"outlinewidth\":0,\"ticks\":\"\"}},\"marker\":{\"colorbar\":{\"outlinewidth\":0,\"ticks\":\"\"}}}],\"scattermapbox\":[{\"type\":\"scattermapbox\",\"marker\":{\"colorbar\":{\"outlinewidth\":0,\"ticks\":\"\"}}}],\"scatterternary\":[{\"type\":\"scatterternary\",\"marker\":{\"colorbar\":{\"outlinewidth\":0,\"ticks\":\"\"}}}],\"scattercarpet\":[{\"type\":\"scattercarpet\",\"marker\":{\"colorbar\":{\"outlinewidth\":0,\"ticks\":\"\"}}}],\"carpet\":[{\"aaxis\":{\"endlinecolor\":\"#2a3f5f\",\"gridcolor\":\"white\",\"linecolor\":\"white\",\"minorgridcolor\":\"white\",\"startlinecolor\":\"#2a3f5f\"},\"baxis\":{\"endlinecolor\":\"#2a3f5f\",\"gridcolor\":\"white\",\"linecolor\":\"white\",\"minorgridcolor\":\"white\",\"startlinecolor\":\"#2a3f5f\"},\"type\":\"carpet\"}],\"table\":[{\"cells\":{\"fill\":{\"color\":\"#EBF0F8\"},\"line\":{\"color\":\"white\"}},\"header\":{\"fill\":{\"color\":\"#C8D4E3\"},\"line\":{\"color\":\"white\"}},\"type\":\"table\"}],\"barpolar\":[{\"marker\":{\"line\":{\"color\":\"#E5ECF6\",\"width\":0.5},\"pattern\":{\"fillmode\":\"overlay\",\"size\":10,\"solidity\":0.2}},\"type\":\"barpolar\"}],\"pie\":[{\"automargin\":true,\"type\":\"pie\"}]},\"layout\":{\"autotypenumbers\":\"strict\",\"colorway\":[\"#636efa\",\"#EF553B\",\"#00cc96\",\"#ab63fa\",\"#FFA15A\",\"#19d3f3\",\"#FF6692\",\"#B6E880\",\"#FF97FF\",\"#FECB52\"],\"font\":{\"color\":\"#2a3f5f\"},\"hovermode\":\"closest\",\"hoverlabel\":{\"align\":\"left\"},\"paper_bgcolor\":\"white\",\"plot_bgcolor\":\"#E5ECF6\",\"polar\":{\"bgcolor\":\"#E5ECF6\",\"angularaxis\":{\"gridcolor\":\"white\",\"linecolor\":\"white\",\"ticks\":\"\"},\"radialaxis\":{\"gridcolor\":\"white\",\"linecolor\":\"white\",\"ticks\":\"\"}},\"ternary\":{\"bgcolor\":\"#E5ECF6\",\"aaxis\":{\"gridcolor\":\"white\",\"linecolor\":\"white\",\"ticks\":\"\"},\"baxis\":{\"gridcolor\":\"white\",\"linecolor\":\"white\",\"ticks\":\"\"},\"caxis\":{\"gridcolor\":\"white\",\"linecolor\":\"white\",\"ticks\":\"\"}},\"coloraxis\":{\"colorbar\":{\"outlinewidth\":0,\"ticks\":\"\"}},\"colorscale\":{\"sequential\":[[0.0,\"#0d0887\"],[0.1111111111111111,\"#46039f\"],[0.2222222222222222,\"#7201a8\"],[0.3333333333333333,\"#9c179e\"],[0.4444444444444444,\"#bd3786\"],[0.5555555555555556,\"#d8576b\"],[0.6666666666666666,\"#ed7953\"],[0.7777777777777778,\"#fb9f3a\"],[0.8888888888888888,\"#fdca26\"],[1.0,\"#f0f921\"]],\"sequentialminus\":[[0.0,\"#0d0887\"],[0.1111111111111111,\"#46039f\"],[0.2222222222222222,\"#7201a8\"],[0.3333333333333333,\"#9c179e\"],[0.4444444444444444,\"#bd3786\"],[0.5555555555555556,\"#d8576b\"],[0.6666666666666666,\"#ed7953\"],[0.7777777777777778,\"#fb9f3a\"],[0.8888888888888888,\"#fdca26\"],[1.0,\"#f0f921\"]],\"diverging\":[[0,\"#8e0152\"],[0.1,\"#c51b7d\"],[0.2,\"#de77ae\"],[0.3,\"#f1b6da\"],[0.4,\"#fde0ef\"],[0.5,\"#f7f7f7\"],[0.6,\"#e6f5d0\"],[0.7,\"#b8e186\"],[0.8,\"#7fbc41\"],[0.9,\"#4d9221\"],[1,\"#276419\"]]},\"xaxis\":{\"gridcolor\":\"white\",\"linecolor\":\"white\",\"ticks\":\"\",\"title\":{\"standoff\":15},\"zerolinecolor\":\"white\",\"automargin\":true,\"zerolinewidth\":2},\"yaxis\":{\"gridcolor\":\"white\",\"linecolor\":\"white\",\"ticks\":\"\",\"title\":{\"standoff\":15},\"zerolinecolor\":\"white\",\"automargin\":true,\"zerolinewidth\":2},\"scene\":{\"xaxis\":{\"backgroundcolor\":\"#E5ECF6\",\"gridcolor\":\"white\",\"linecolor\":\"white\",\"showbackground\":true,\"ticks\":\"\",\"zerolinecolor\":\"white\",\"gridwidth\":2},\"yaxis\":{\"backgroundcolor\":\"#E5ECF6\",\"gridcolor\":\"white\",\"linecolor\":\"white\",\"showbackground\":true,\"ticks\":\"\",\"zerolinecolor\":\"white\",\"gridwidth\":2},\"zaxis\":{\"backgroundcolor\":\"#E5ECF6\",\"gridcolor\":\"white\",\"linecolor\":\"white\",\"showbackground\":true,\"ticks\":\"\",\"zerolinecolor\":\"white\",\"gridwidth\":2}},\"shapedefaults\":{\"line\":{\"color\":\"#2a3f5f\"}},\"annotationdefaults\":{\"arrowcolor\":\"#2a3f5f\",\"arrowhead\":0,\"arrowwidth\":1},\"geo\":{\"bgcolor\":\"white\",\"landcolor\":\"#E5ECF6\",\"subunitcolor\":\"white\",\"showland\":true,\"showlakes\":true,\"lakecolor\":\"white\"},\"title\":{\"x\":0.05},\"mapbox\":{\"style\":\"light\"}}},\"xaxis\":{\"anchor\":\"y\",\"domain\":[0.0,1.0],\"scaleanchor\":\"y\",\"constrain\":\"domain\",\"title\":{\"text\":\"Head\"}},\"yaxis\":{\"anchor\":\"x\",\"domain\":[0.0,1.0],\"autorange\":\"reversed\",\"constrain\":\"domain\",\"title\":{\"text\":\"Layer\"}},\"coloraxis\":{\"colorscale\":[[0.0,\"rgb(103,0,31)\"],[0.1,\"rgb(178,24,43)\"],[0.2,\"rgb(214,96,77)\"],[0.3,\"rgb(244,165,130)\"],[0.4,\"rgb(253,219,199)\"],[0.5,\"rgb(247,247,247)\"],[0.6,\"rgb(209,229,240)\"],[0.7,\"rgb(146,197,222)\"],[0.8,\"rgb(67,147,195)\"],[0.9,\"rgb(33,102,172)\"],[1.0,\"rgb(5,48,97)\"]],\"cmid\":0.0,\"cmin\":-1.0,\"cmax\":1.0},\"title\":{\"text\":\"OV Copying Score for each head in GPT-2 Small\"}},                        {\"responsive\": true}                    ).then(function(){\n",
       "                            \n",
       "var gd = document.getElementById('29e4090f-8c47-4287-9565-66b831004e1a');\n",
       "var x = new MutationObserver(function (mutations, observer) {{\n",
       "        var display = window.getComputedStyle(gd).display;\n",
       "        if (!display || display === 'none') {{\n",
       "            console.log([gd, 'removed!']);\n",
       "            Plotly.purge(gd);\n",
       "            observer.disconnect();\n",
       "        }}\n",
       "}});\n",
       "\n",
       "// Listen for the removal of the full notebook cells\n",
       "var notebookContainer = gd.closest('#notebook-container');\n",
       "if (notebookContainer) {{\n",
       "    x.observe(notebookContainer, {childList: true});\n",
       "}}\n",
       "\n",
       "// Listen for the clearing of the current output cell\n",
       "var outputEl = gd.closest('.output');\n",
       "if (outputEl) {{\n",
       "    x.observe(outputEl, {childList: true});\n",
       "}}\n",
       "\n",
       "                        })                };                            </script>        </div>\n",
       "</body>\n",
       "</html>"
      ]
     },
     "metadata": {},
     "output_type": "display_data"
    }
   ],
   "source": [
    "OV_copying_score = OV_circuit_all_heads_eigenvalues.sum(dim=-1).real / OV_circuit_all_heads_eigenvalues.abs().sum(dim=-1)\n",
    "imshow(utils.to_numpy(OV_copying_score), xaxis=\"Head\", yaxis=\"Layer\", title=\"OV Copying Score for each head in GPT-2 Small\", zmax=1.0, zmin=-1.0)"
   ]
  },
  {
   "cell_type": "markdown",
   "metadata": {
    "id": "s2i-bQCiHtgc"
   },
   "source": [
    "Head 11 in Layer 11 (L11H11) has a high copying score, and if we plot the eigenvalues they look approximately as expected."
   ]
  },
  {
   "cell_type": "code",
   "execution_count": 50,
   "metadata": {
    "colab": {
     "base_uri": "https://localhost:8080/",
     "height": 542
    },
    "id": "QkHy2Rt7Htgd",
    "outputId": "32afd023-da89-4432-d9fb-8095f4bdeab5"
   },
   "outputs": [
    {
     "data": {
      "text/html": [
       "<html>\n",
       "<head><meta charset=\"utf-8\" /></head>\n",
       "<body>\n",
       "    <div>            <script src=\"https://cdnjs.cloudflare.com/ajax/libs/mathjax/2.7.5/MathJax.js?config=TeX-AMS-MML_SVG\"></script><script type=\"text/javascript\">if (window.MathJax && window.MathJax.Hub && window.MathJax.Hub.Config) {window.MathJax.Hub.Config({SVG: {font: \"STIX-Web\"}});}</script>                <script type=\"text/javascript\">window.PlotlyConfig = {MathJaxConfig: 'local'};</script>\n",
       "        <script charset=\"utf-8\" src=\"https://cdn.plot.ly/plotly-2.24.1.min.js\"></script>                <div id=\"0d78d429-f4ea-488d-adcf-8a08219b606d\" class=\"plotly-graph-div\" style=\"height:525px; width:100%;\"></div>            <script type=\"text/javascript\">                                    window.PLOTLYENV=window.PLOTLYENV || {};                                    if (document.getElementById(\"0d78d429-f4ea-488d-adcf-8a08219b606d\")) {                    Plotly.newPlot(                        \"0d78d429-f4ea-488d-adcf-8a08219b606d\",                        [{\"hovertemplate\":\"Real=%{x}\\u003cbr\\u003eImaginary=%{y}\\u003cextra\\u003e\\u003c\\u002fextra\\u003e\",\"legendgroup\":\"\",\"marker\":{\"color\":\"#636efa\",\"symbol\":\"circle\"},\"mode\":\"markers\",\"name\":\"\",\"orientation\":\"v\",\"showlegend\":false,\"x\":[-2.139728546142578,1.4152663946151733,3.444453716278076,4.027665138244629,8.88265323638916,4.866779327392578,4.866779327392578,4.843705654144287,4.843705654144287,8.477529525756836,8.216804504394531,8.216804504394531,5.078606605529785,7.855450630187988,7.855450630187988,5.365769386291504,5.365769386291504,5.563431739807129,5.563431739807129,5.421731472015381,7.7691144943237305,7.7691144943237305,7.042286396026611,7.042286396026611,5.675140380859375,5.675140380859375,7.678600311279297,7.678600311279297,6.573335647583008,6.573335647583008,7.672944068908691,7.172207832336426,7.172207832336426,7.423617839813232,7.423617839813232,7.470808506011963,6.089092254638672,6.089092254638672,6.306841850280762,6.306841850280762,6.511747360229492,6.511747360229492,5.955245018005371,5.955245018005371,5.8588080406188965,5.8588080406188965,7.147891998291016,7.147891998291016,7.1857171058654785,7.1857171058654785,6.67060661315918,6.67060661315918,6.7359843254089355,6.7359843254089355,6.149757385253906,6.149757385253906,6.288791656494141,6.288791656494141,6.344786167144775,6.625569820404053,6.625569820404053,6.899184226989746,6.899184226989746,6.856411457061768],\"xaxis\":\"x\",\"y\":[0.0,0.0,0.0,0.0,0.0,0.4185212254524231,-0.4185212254524231,0.09078993648290634,-0.09078993648290634,0.0,0.4086894094944,-0.4086894094944,0.0,0.7007221579551697,-0.7007221579551697,0.4642171859741211,-0.4642171859741211,0.5558271408081055,-0.5558271408081055,0.0,0.47056567668914795,-0.47056567668914795,1.0298744440078735,-1.0298744440078735,0.482530802488327,-0.482530802488327,0.33565109968185425,-0.33565109968185425,0.9988700151443481,-0.9988700151443481,0.0,0.7531818151473999,-0.7531818151473999,0.42575696110725403,-0.42575696110725403,0.0,0.6436298489570618,-0.6436298489570618,0.7701679468154907,-0.7701679468154907,0.7557985782623291,-0.7557985782623291,0.2591104805469513,-0.2591104805469513,0.01304122805595398,-0.01304122805595398,0.40166640281677246,-0.40166640281677246,0.281923770904541,-0.281923770904541,0.6146278381347656,-0.6146278381347656,0.5391286611557007,-0.5391286611557007,0.2823350727558136,-0.2823350727558136,0.35283589363098145,-0.35283589363098145,0.0,0.24867962300777435,-0.24867962300777435,0.15546026825904846,-0.15546026825904846,0.0],\"yaxis\":\"y\",\"type\":\"scatter\"}],                        {\"template\":{\"data\":{\"histogram2dcontour\":[{\"type\":\"histogram2dcontour\",\"colorbar\":{\"outlinewidth\":0,\"ticks\":\"\"},\"colorscale\":[[0.0,\"#0d0887\"],[0.1111111111111111,\"#46039f\"],[0.2222222222222222,\"#7201a8\"],[0.3333333333333333,\"#9c179e\"],[0.4444444444444444,\"#bd3786\"],[0.5555555555555556,\"#d8576b\"],[0.6666666666666666,\"#ed7953\"],[0.7777777777777778,\"#fb9f3a\"],[0.8888888888888888,\"#fdca26\"],[1.0,\"#f0f921\"]]}],\"choropleth\":[{\"type\":\"choropleth\",\"colorbar\":{\"outlinewidth\":0,\"ticks\":\"\"}}],\"histogram2d\":[{\"type\":\"histogram2d\",\"colorbar\":{\"outlinewidth\":0,\"ticks\":\"\"},\"colorscale\":[[0.0,\"#0d0887\"],[0.1111111111111111,\"#46039f\"],[0.2222222222222222,\"#7201a8\"],[0.3333333333333333,\"#9c179e\"],[0.4444444444444444,\"#bd3786\"],[0.5555555555555556,\"#d8576b\"],[0.6666666666666666,\"#ed7953\"],[0.7777777777777778,\"#fb9f3a\"],[0.8888888888888888,\"#fdca26\"],[1.0,\"#f0f921\"]]}],\"heatmap\":[{\"type\":\"heatmap\",\"colorbar\":{\"outlinewidth\":0,\"ticks\":\"\"},\"colorscale\":[[0.0,\"#0d0887\"],[0.1111111111111111,\"#46039f\"],[0.2222222222222222,\"#7201a8\"],[0.3333333333333333,\"#9c179e\"],[0.4444444444444444,\"#bd3786\"],[0.5555555555555556,\"#d8576b\"],[0.6666666666666666,\"#ed7953\"],[0.7777777777777778,\"#fb9f3a\"],[0.8888888888888888,\"#fdca26\"],[1.0,\"#f0f921\"]]}],\"heatmapgl\":[{\"type\":\"heatmapgl\",\"colorbar\":{\"outlinewidth\":0,\"ticks\":\"\"},\"colorscale\":[[0.0,\"#0d0887\"],[0.1111111111111111,\"#46039f\"],[0.2222222222222222,\"#7201a8\"],[0.3333333333333333,\"#9c179e\"],[0.4444444444444444,\"#bd3786\"],[0.5555555555555556,\"#d8576b\"],[0.6666666666666666,\"#ed7953\"],[0.7777777777777778,\"#fb9f3a\"],[0.8888888888888888,\"#fdca26\"],[1.0,\"#f0f921\"]]}],\"contourcarpet\":[{\"type\":\"contourcarpet\",\"colorbar\":{\"outlinewidth\":0,\"ticks\":\"\"}}],\"contour\":[{\"type\":\"contour\",\"colorbar\":{\"outlinewidth\":0,\"ticks\":\"\"},\"colorscale\":[[0.0,\"#0d0887\"],[0.1111111111111111,\"#46039f\"],[0.2222222222222222,\"#7201a8\"],[0.3333333333333333,\"#9c179e\"],[0.4444444444444444,\"#bd3786\"],[0.5555555555555556,\"#d8576b\"],[0.6666666666666666,\"#ed7953\"],[0.7777777777777778,\"#fb9f3a\"],[0.8888888888888888,\"#fdca26\"],[1.0,\"#f0f921\"]]}],\"surface\":[{\"type\":\"surface\",\"colorbar\":{\"outlinewidth\":0,\"ticks\":\"\"},\"colorscale\":[[0.0,\"#0d0887\"],[0.1111111111111111,\"#46039f\"],[0.2222222222222222,\"#7201a8\"],[0.3333333333333333,\"#9c179e\"],[0.4444444444444444,\"#bd3786\"],[0.5555555555555556,\"#d8576b\"],[0.6666666666666666,\"#ed7953\"],[0.7777777777777778,\"#fb9f3a\"],[0.8888888888888888,\"#fdca26\"],[1.0,\"#f0f921\"]]}],\"mesh3d\":[{\"type\":\"mesh3d\",\"colorbar\":{\"outlinewidth\":0,\"ticks\":\"\"}}],\"scatter\":[{\"fillpattern\":{\"fillmode\":\"overlay\",\"size\":10,\"solidity\":0.2},\"type\":\"scatter\"}],\"parcoords\":[{\"type\":\"parcoords\",\"line\":{\"colorbar\":{\"outlinewidth\":0,\"ticks\":\"\"}}}],\"scatterpolargl\":[{\"type\":\"scatterpolargl\",\"marker\":{\"colorbar\":{\"outlinewidth\":0,\"ticks\":\"\"}}}],\"bar\":[{\"error_x\":{\"color\":\"#2a3f5f\"},\"error_y\":{\"color\":\"#2a3f5f\"},\"marker\":{\"line\":{\"color\":\"#E5ECF6\",\"width\":0.5},\"pattern\":{\"fillmode\":\"overlay\",\"size\":10,\"solidity\":0.2}},\"type\":\"bar\"}],\"scattergeo\":[{\"type\":\"scattergeo\",\"marker\":{\"colorbar\":{\"outlinewidth\":0,\"ticks\":\"\"}}}],\"scatterpolar\":[{\"type\":\"scatterpolar\",\"marker\":{\"colorbar\":{\"outlinewidth\":0,\"ticks\":\"\"}}}],\"histogram\":[{\"marker\":{\"pattern\":{\"fillmode\":\"overlay\",\"size\":10,\"solidity\":0.2}},\"type\":\"histogram\"}],\"scattergl\":[{\"type\":\"scattergl\",\"marker\":{\"colorbar\":{\"outlinewidth\":0,\"ticks\":\"\"}}}],\"scatter3d\":[{\"type\":\"scatter3d\",\"line\":{\"colorbar\":{\"outlinewidth\":0,\"ticks\":\"\"}},\"marker\":{\"colorbar\":{\"outlinewidth\":0,\"ticks\":\"\"}}}],\"scattermapbox\":[{\"type\":\"scattermapbox\",\"marker\":{\"colorbar\":{\"outlinewidth\":0,\"ticks\":\"\"}}}],\"scatterternary\":[{\"type\":\"scatterternary\",\"marker\":{\"colorbar\":{\"outlinewidth\":0,\"ticks\":\"\"}}}],\"scattercarpet\":[{\"type\":\"scattercarpet\",\"marker\":{\"colorbar\":{\"outlinewidth\":0,\"ticks\":\"\"}}}],\"carpet\":[{\"aaxis\":{\"endlinecolor\":\"#2a3f5f\",\"gridcolor\":\"white\",\"linecolor\":\"white\",\"minorgridcolor\":\"white\",\"startlinecolor\":\"#2a3f5f\"},\"baxis\":{\"endlinecolor\":\"#2a3f5f\",\"gridcolor\":\"white\",\"linecolor\":\"white\",\"minorgridcolor\":\"white\",\"startlinecolor\":\"#2a3f5f\"},\"type\":\"carpet\"}],\"table\":[{\"cells\":{\"fill\":{\"color\":\"#EBF0F8\"},\"line\":{\"color\":\"white\"}},\"header\":{\"fill\":{\"color\":\"#C8D4E3\"},\"line\":{\"color\":\"white\"}},\"type\":\"table\"}],\"barpolar\":[{\"marker\":{\"line\":{\"color\":\"#E5ECF6\",\"width\":0.5},\"pattern\":{\"fillmode\":\"overlay\",\"size\":10,\"solidity\":0.2}},\"type\":\"barpolar\"}],\"pie\":[{\"automargin\":true,\"type\":\"pie\"}]},\"layout\":{\"autotypenumbers\":\"strict\",\"colorway\":[\"#636efa\",\"#EF553B\",\"#00cc96\",\"#ab63fa\",\"#FFA15A\",\"#19d3f3\",\"#FF6692\",\"#B6E880\",\"#FF97FF\",\"#FECB52\"],\"font\":{\"color\":\"#2a3f5f\"},\"hovermode\":\"closest\",\"hoverlabel\":{\"align\":\"left\"},\"paper_bgcolor\":\"white\",\"plot_bgcolor\":\"#E5ECF6\",\"polar\":{\"bgcolor\":\"#E5ECF6\",\"angularaxis\":{\"gridcolor\":\"white\",\"linecolor\":\"white\",\"ticks\":\"\"},\"radialaxis\":{\"gridcolor\":\"white\",\"linecolor\":\"white\",\"ticks\":\"\"}},\"ternary\":{\"bgcolor\":\"#E5ECF6\",\"aaxis\":{\"gridcolor\":\"white\",\"linecolor\":\"white\",\"ticks\":\"\"},\"baxis\":{\"gridcolor\":\"white\",\"linecolor\":\"white\",\"ticks\":\"\"},\"caxis\":{\"gridcolor\":\"white\",\"linecolor\":\"white\",\"ticks\":\"\"}},\"coloraxis\":{\"colorbar\":{\"outlinewidth\":0,\"ticks\":\"\"}},\"colorscale\":{\"sequential\":[[0.0,\"#0d0887\"],[0.1111111111111111,\"#46039f\"],[0.2222222222222222,\"#7201a8\"],[0.3333333333333333,\"#9c179e\"],[0.4444444444444444,\"#bd3786\"],[0.5555555555555556,\"#d8576b\"],[0.6666666666666666,\"#ed7953\"],[0.7777777777777778,\"#fb9f3a\"],[0.8888888888888888,\"#fdca26\"],[1.0,\"#f0f921\"]],\"sequentialminus\":[[0.0,\"#0d0887\"],[0.1111111111111111,\"#46039f\"],[0.2222222222222222,\"#7201a8\"],[0.3333333333333333,\"#9c179e\"],[0.4444444444444444,\"#bd3786\"],[0.5555555555555556,\"#d8576b\"],[0.6666666666666666,\"#ed7953\"],[0.7777777777777778,\"#fb9f3a\"],[0.8888888888888888,\"#fdca26\"],[1.0,\"#f0f921\"]],\"diverging\":[[0,\"#8e0152\"],[0.1,\"#c51b7d\"],[0.2,\"#de77ae\"],[0.3,\"#f1b6da\"],[0.4,\"#fde0ef\"],[0.5,\"#f7f7f7\"],[0.6,\"#e6f5d0\"],[0.7,\"#b8e186\"],[0.8,\"#7fbc41\"],[0.9,\"#4d9221\"],[1,\"#276419\"]]},\"xaxis\":{\"gridcolor\":\"white\",\"linecolor\":\"white\",\"ticks\":\"\",\"title\":{\"standoff\":15},\"zerolinecolor\":\"white\",\"automargin\":true,\"zerolinewidth\":2},\"yaxis\":{\"gridcolor\":\"white\",\"linecolor\":\"white\",\"ticks\":\"\",\"title\":{\"standoff\":15},\"zerolinecolor\":\"white\",\"automargin\":true,\"zerolinewidth\":2},\"scene\":{\"xaxis\":{\"backgroundcolor\":\"#E5ECF6\",\"gridcolor\":\"white\",\"linecolor\":\"white\",\"showbackground\":true,\"ticks\":\"\",\"zerolinecolor\":\"white\",\"gridwidth\":2},\"yaxis\":{\"backgroundcolor\":\"#E5ECF6\",\"gridcolor\":\"white\",\"linecolor\":\"white\",\"showbackground\":true,\"ticks\":\"\",\"zerolinecolor\":\"white\",\"gridwidth\":2},\"zaxis\":{\"backgroundcolor\":\"#E5ECF6\",\"gridcolor\":\"white\",\"linecolor\":\"white\",\"showbackground\":true,\"ticks\":\"\",\"zerolinecolor\":\"white\",\"gridwidth\":2}},\"shapedefaults\":{\"line\":{\"color\":\"#2a3f5f\"}},\"annotationdefaults\":{\"arrowcolor\":\"#2a3f5f\",\"arrowhead\":0,\"arrowwidth\":1},\"geo\":{\"bgcolor\":\"white\",\"landcolor\":\"#E5ECF6\",\"subunitcolor\":\"white\",\"showland\":true,\"showlakes\":true,\"lakecolor\":\"white\"},\"title\":{\"x\":0.05},\"mapbox\":{\"style\":\"light\"}}},\"xaxis\":{\"anchor\":\"y\",\"domain\":[0.0,1.0],\"title\":{\"text\":\"Real\"}},\"yaxis\":{\"anchor\":\"x\",\"domain\":[0.0,1.0],\"title\":{\"text\":\"Imaginary\"}},\"legend\":{\"tracegroupgap\":0},\"title\":{\"text\":\"Eigenvalues of Head L11H11 of GPT-2 Small\"}},                        {\"responsive\": true}                    ).then(function(){\n",
       "                            \n",
       "var gd = document.getElementById('0d78d429-f4ea-488d-adcf-8a08219b606d');\n",
       "var x = new MutationObserver(function (mutations, observer) {{\n",
       "        var display = window.getComputedStyle(gd).display;\n",
       "        if (!display || display === 'none') {{\n",
       "            console.log([gd, 'removed!']);\n",
       "            Plotly.purge(gd);\n",
       "            observer.disconnect();\n",
       "        }}\n",
       "}});\n",
       "\n",
       "// Listen for the removal of the full notebook cells\n",
       "var notebookContainer = gd.closest('#notebook-container');\n",
       "if (notebookContainer) {{\n",
       "    x.observe(notebookContainer, {childList: true});\n",
       "}}\n",
       "\n",
       "// Listen for the clearing of the current output cell\n",
       "var outputEl = gd.closest('.output');\n",
       "if (outputEl) {{\n",
       "    x.observe(outputEl, {childList: true});\n",
       "}}\n",
       "\n",
       "                        })                };                            </script>        </div>\n",
       "</body>\n",
       "</html>"
      ]
     },
     "metadata": {},
     "output_type": "display_data"
    }
   ],
   "source": [
    "scatter(x=OV_circuit_all_heads_eigenvalues[-1, -1, :].real, y=OV_circuit_all_heads_eigenvalues[-1, -1, :].imag, title=\"Eigenvalues of Head L11H11 of GPT-2 Small\", xaxis=\"Real\", yaxis=\"Imaginary\")"
   ]
  },
  {
   "cell_type": "markdown",
   "metadata": {
    "id": "R5VMcfnfHtgd"
   },
   "source": [
    "We can even look at the full OV circuit, from the input tokens to output tokens: $W_E W_V W_O W_U$. This is a `[d_vocab, d_vocab]==[50257, 50257]` matrix, so absolutely enormous, even for a single head. But with the FactoredMatrix class, we can compute the full eigenvalue copying score of every head in a few seconds."
   ]
  },
  {
   "cell_type": "code",
   "execution_count": 51,
   "metadata": {
    "colab": {
     "base_uri": "https://localhost:8080/"
    },
    "id": "DY7cMYRQHtgd",
    "outputId": "aaff26b7-4539-42b5-be9b-af20e8cdf203"
   },
   "outputs": [
    {
     "name": "stdout",
     "output_type": "stream",
     "text": [
      "FactoredMatrix: Shape(torch.Size([12, 12, 50257, 50257])), Hidden Dim(64)\n"
     ]
    }
   ],
   "source": [
    "full_OV_circuit = model.embed.W_E @ OV_circuit_all_heads @ model.unembed.W_U\n",
    "print(full_OV_circuit)"
   ]
  },
  {
   "cell_type": "code",
   "execution_count": 52,
   "metadata": {
    "colab": {
     "base_uri": "https://localhost:8080/"
    },
    "id": "oAGiJjhCHtgd",
    "outputId": "a8fee699-cb6e-4dd1-d9c2-cd2ef8f60d46"
   },
   "outputs": [
    {
     "name": "stdout",
     "output_type": "stream",
     "text": [
      "torch.Size([12, 12, 64])\n",
      "torch.complex64\n"
     ]
    }
   ],
   "source": [
    "full_OV_circuit_eigenvalues = full_OV_circuit.eigenvalues\n",
    "print(full_OV_circuit_eigenvalues.shape)\n",
    "print(full_OV_circuit_eigenvalues.dtype)"
   ]
  },
  {
   "cell_type": "code",
   "execution_count": 53,
   "metadata": {
    "colab": {
     "base_uri": "https://localhost:8080/",
     "height": 542
    },
    "id": "BEFSwPWeHtgd",
    "outputId": "40b2e0ac-7ca4-4af2-f031-537c0c99d563"
   },
   "outputs": [
    {
     "data": {
      "text/html": [
       "<html>\n",
       "<head><meta charset=\"utf-8\" /></head>\n",
       "<body>\n",
       "    <div>            <script src=\"https://cdnjs.cloudflare.com/ajax/libs/mathjax/2.7.5/MathJax.js?config=TeX-AMS-MML_SVG\"></script><script type=\"text/javascript\">if (window.MathJax && window.MathJax.Hub && window.MathJax.Hub.Config) {window.MathJax.Hub.Config({SVG: {font: \"STIX-Web\"}});}</script>                <script type=\"text/javascript\">window.PlotlyConfig = {MathJaxConfig: 'local'};</script>\n",
       "        <script charset=\"utf-8\" src=\"https://cdn.plot.ly/plotly-2.24.1.min.js\"></script>                <div id=\"6e00d351-cade-46e7-ade1-b929ee4c9679\" class=\"plotly-graph-div\" style=\"height:525px; width:100%;\"></div>            <script type=\"text/javascript\">                                    window.PLOTLYENV=window.PLOTLYENV || {};                                    if (document.getElementById(\"6e00d351-cade-46e7-ade1-b929ee4c9679\")) {                    Plotly.newPlot(                        \"6e00d351-cade-46e7-ade1-b929ee4c9679\",                        [{\"coloraxis\":\"coloraxis\",\"name\":\"0\",\"z\":[[0.835636556148529,0.5853539705276489,0.5105841755867004,0.7843375205993652,0.86441570520401,0.7026583552360535,0.896992564201355,0.5868825316429138,0.42486512660980225,-0.16337497532367706,0.4626849293708801,0.27605384588241577],[-0.05292004346847534,-0.3177313506603241,-0.48105794191360474,-0.7838066816329956,-0.6360208988189697,-0.77586829662323,0.9681804776191711,0.8119114637374878,-0.7510465383529663,-0.6878447532653809,-0.6429883241653442,-0.9985854625701904],[-0.6598325967788696,0.915250301361084,0.546149730682373,-0.4874397814273834,0.7720561623573303,-0.7541061639785767,-0.847244918346405,-0.6948986649513245,-0.1557510942220688,0.24442270398139954,-0.9106622934341431,-0.9439151287078857],[0.6486896276473999,-0.5592911243438721,0.5935595631599426,0.7843035459518433,-0.8150345683097839,0.6130048036575317,0.16785870492458344,0.35195860266685486,-0.6837263107299805,0.22237689793109894,-0.9929219484329224,0.6535820364952087],[0.5740950703620911,0.364013135433197,0.09609055519104004,0.9359625577926636,-0.9228776097297668,0.6191075444221497,-0.3357264995574951,-0.998464822769165,0.6448630094528198,0.8468657732009888,-0.7557655572891235,0.952796995639801],[0.732654333114624,0.5324169993400574,0.973267138004303,0.7239245772361755,0.255389541387558,0.8158414363861084,0.6655792593955994,0.9287099838256836,-0.5660437345504761,-0.8908745050430298,0.9834232926368713,-0.9981179237365723],[0.9698691368103027,0.7439671754837036,-0.3563932776451111,0.6022984981536865,0.9708114862442017,-0.9278275966644287,-0.9962316155433655,0.8345208168029785,0.9714326858520508,0.8158543705940247,0.5902574062347412,0.8199344277381897],[0.9820225834846497,0.9859328269958496,0.5152459740638733,-0.5610515475273132,0.9663667678833008,0.9495159983634949,-0.520481288433075,0.31047534942626953,0.9859084486961365,0.7797458171844482,0.6738535761833191,0.3919741213321686],[-0.906204104423523,0.11750981956720352,0.8077876567840576,0.4169308543205261,0.9829014539718628,0.9902304410934448,0.7847102880477905,0.9945629835128784,0.9868025779724121,-0.26804444193840027,-0.9908867478370667,0.745792806148529],[0.9906190633773804,-0.18231117725372314,0.9757838249206543,0.9986750483512878,0.2544330358505249,-0.9544062614440918,0.586924135684967,-0.23537994921207428,0.9550504088401794,0.25511959195137024,0.9929869771003723,0.09052564948797226],[0.970727264881134,0.695609450340271,0.6280025243759155,0.7902863621711731,0.9343841671943665,0.9895793795585632,0.9436282515525818,-0.10834958404302597,-0.3431113362312317,0.9986708760261536,0.508673369884491,0.9949508309364319],[0.8283135890960693,0.9432438015937805,0.9491766691207886,0.9995353817939758,0.5712319612503052,0.805523693561554,0.6781868934631348,0.827257513999939,0.8314798474311829,0.8778656721115112,0.9944959282875061,0.9973866939544678]],\"type\":\"heatmap\",\"xaxis\":\"x\",\"yaxis\":\"y\",\"hovertemplate\":\"Head: %{x}\\u003cbr\\u003eLayer: %{y}\\u003cbr\\u003ecolor: %{z}\\u003cextra\\u003e\\u003c\\u002fextra\\u003e\"}],                        {\"template\":{\"data\":{\"histogram2dcontour\":[{\"type\":\"histogram2dcontour\",\"colorbar\":{\"outlinewidth\":0,\"ticks\":\"\"},\"colorscale\":[[0.0,\"#0d0887\"],[0.1111111111111111,\"#46039f\"],[0.2222222222222222,\"#7201a8\"],[0.3333333333333333,\"#9c179e\"],[0.4444444444444444,\"#bd3786\"],[0.5555555555555556,\"#d8576b\"],[0.6666666666666666,\"#ed7953\"],[0.7777777777777778,\"#fb9f3a\"],[0.8888888888888888,\"#fdca26\"],[1.0,\"#f0f921\"]]}],\"choropleth\":[{\"type\":\"choropleth\",\"colorbar\":{\"outlinewidth\":0,\"ticks\":\"\"}}],\"histogram2d\":[{\"type\":\"histogram2d\",\"colorbar\":{\"outlinewidth\":0,\"ticks\":\"\"},\"colorscale\":[[0.0,\"#0d0887\"],[0.1111111111111111,\"#46039f\"],[0.2222222222222222,\"#7201a8\"],[0.3333333333333333,\"#9c179e\"],[0.4444444444444444,\"#bd3786\"],[0.5555555555555556,\"#d8576b\"],[0.6666666666666666,\"#ed7953\"],[0.7777777777777778,\"#fb9f3a\"],[0.8888888888888888,\"#fdca26\"],[1.0,\"#f0f921\"]]}],\"heatmap\":[{\"type\":\"heatmap\",\"colorbar\":{\"outlinewidth\":0,\"ticks\":\"\"},\"colorscale\":[[0.0,\"#0d0887\"],[0.1111111111111111,\"#46039f\"],[0.2222222222222222,\"#7201a8\"],[0.3333333333333333,\"#9c179e\"],[0.4444444444444444,\"#bd3786\"],[0.5555555555555556,\"#d8576b\"],[0.6666666666666666,\"#ed7953\"],[0.7777777777777778,\"#fb9f3a\"],[0.8888888888888888,\"#fdca26\"],[1.0,\"#f0f921\"]]}],\"heatmapgl\":[{\"type\":\"heatmapgl\",\"colorbar\":{\"outlinewidth\":0,\"ticks\":\"\"},\"colorscale\":[[0.0,\"#0d0887\"],[0.1111111111111111,\"#46039f\"],[0.2222222222222222,\"#7201a8\"],[0.3333333333333333,\"#9c179e\"],[0.4444444444444444,\"#bd3786\"],[0.5555555555555556,\"#d8576b\"],[0.6666666666666666,\"#ed7953\"],[0.7777777777777778,\"#fb9f3a\"],[0.8888888888888888,\"#fdca26\"],[1.0,\"#f0f921\"]]}],\"contourcarpet\":[{\"type\":\"contourcarpet\",\"colorbar\":{\"outlinewidth\":0,\"ticks\":\"\"}}],\"contour\":[{\"type\":\"contour\",\"colorbar\":{\"outlinewidth\":0,\"ticks\":\"\"},\"colorscale\":[[0.0,\"#0d0887\"],[0.1111111111111111,\"#46039f\"],[0.2222222222222222,\"#7201a8\"],[0.3333333333333333,\"#9c179e\"],[0.4444444444444444,\"#bd3786\"],[0.5555555555555556,\"#d8576b\"],[0.6666666666666666,\"#ed7953\"],[0.7777777777777778,\"#fb9f3a\"],[0.8888888888888888,\"#fdca26\"],[1.0,\"#f0f921\"]]}],\"surface\":[{\"type\":\"surface\",\"colorbar\":{\"outlinewidth\":0,\"ticks\":\"\"},\"colorscale\":[[0.0,\"#0d0887\"],[0.1111111111111111,\"#46039f\"],[0.2222222222222222,\"#7201a8\"],[0.3333333333333333,\"#9c179e\"],[0.4444444444444444,\"#bd3786\"],[0.5555555555555556,\"#d8576b\"],[0.6666666666666666,\"#ed7953\"],[0.7777777777777778,\"#fb9f3a\"],[0.8888888888888888,\"#fdca26\"],[1.0,\"#f0f921\"]]}],\"mesh3d\":[{\"type\":\"mesh3d\",\"colorbar\":{\"outlinewidth\":0,\"ticks\":\"\"}}],\"scatter\":[{\"fillpattern\":{\"fillmode\":\"overlay\",\"size\":10,\"solidity\":0.2},\"type\":\"scatter\"}],\"parcoords\":[{\"type\":\"parcoords\",\"line\":{\"colorbar\":{\"outlinewidth\":0,\"ticks\":\"\"}}}],\"scatterpolargl\":[{\"type\":\"scatterpolargl\",\"marker\":{\"colorbar\":{\"outlinewidth\":0,\"ticks\":\"\"}}}],\"bar\":[{\"error_x\":{\"color\":\"#2a3f5f\"},\"error_y\":{\"color\":\"#2a3f5f\"},\"marker\":{\"line\":{\"color\":\"#E5ECF6\",\"width\":0.5},\"pattern\":{\"fillmode\":\"overlay\",\"size\":10,\"solidity\":0.2}},\"type\":\"bar\"}],\"scattergeo\":[{\"type\":\"scattergeo\",\"marker\":{\"colorbar\":{\"outlinewidth\":0,\"ticks\":\"\"}}}],\"scatterpolar\":[{\"type\":\"scatterpolar\",\"marker\":{\"colorbar\":{\"outlinewidth\":0,\"ticks\":\"\"}}}],\"histogram\":[{\"marker\":{\"pattern\":{\"fillmode\":\"overlay\",\"size\":10,\"solidity\":0.2}},\"type\":\"histogram\"}],\"scattergl\":[{\"type\":\"scattergl\",\"marker\":{\"colorbar\":{\"outlinewidth\":0,\"ticks\":\"\"}}}],\"scatter3d\":[{\"type\":\"scatter3d\",\"line\":{\"colorbar\":{\"outlinewidth\":0,\"ticks\":\"\"}},\"marker\":{\"colorbar\":{\"outlinewidth\":0,\"ticks\":\"\"}}}],\"scattermapbox\":[{\"type\":\"scattermapbox\",\"marker\":{\"colorbar\":{\"outlinewidth\":0,\"ticks\":\"\"}}}],\"scatterternary\":[{\"type\":\"scatterternary\",\"marker\":{\"colorbar\":{\"outlinewidth\":0,\"ticks\":\"\"}}}],\"scattercarpet\":[{\"type\":\"scattercarpet\",\"marker\":{\"colorbar\":{\"outlinewidth\":0,\"ticks\":\"\"}}}],\"carpet\":[{\"aaxis\":{\"endlinecolor\":\"#2a3f5f\",\"gridcolor\":\"white\",\"linecolor\":\"white\",\"minorgridcolor\":\"white\",\"startlinecolor\":\"#2a3f5f\"},\"baxis\":{\"endlinecolor\":\"#2a3f5f\",\"gridcolor\":\"white\",\"linecolor\":\"white\",\"minorgridcolor\":\"white\",\"startlinecolor\":\"#2a3f5f\"},\"type\":\"carpet\"}],\"table\":[{\"cells\":{\"fill\":{\"color\":\"#EBF0F8\"},\"line\":{\"color\":\"white\"}},\"header\":{\"fill\":{\"color\":\"#C8D4E3\"},\"line\":{\"color\":\"white\"}},\"type\":\"table\"}],\"barpolar\":[{\"marker\":{\"line\":{\"color\":\"#E5ECF6\",\"width\":0.5},\"pattern\":{\"fillmode\":\"overlay\",\"size\":10,\"solidity\":0.2}},\"type\":\"barpolar\"}],\"pie\":[{\"automargin\":true,\"type\":\"pie\"}]},\"layout\":{\"autotypenumbers\":\"strict\",\"colorway\":[\"#636efa\",\"#EF553B\",\"#00cc96\",\"#ab63fa\",\"#FFA15A\",\"#19d3f3\",\"#FF6692\",\"#B6E880\",\"#FF97FF\",\"#FECB52\"],\"font\":{\"color\":\"#2a3f5f\"},\"hovermode\":\"closest\",\"hoverlabel\":{\"align\":\"left\"},\"paper_bgcolor\":\"white\",\"plot_bgcolor\":\"#E5ECF6\",\"polar\":{\"bgcolor\":\"#E5ECF6\",\"angularaxis\":{\"gridcolor\":\"white\",\"linecolor\":\"white\",\"ticks\":\"\"},\"radialaxis\":{\"gridcolor\":\"white\",\"linecolor\":\"white\",\"ticks\":\"\"}},\"ternary\":{\"bgcolor\":\"#E5ECF6\",\"aaxis\":{\"gridcolor\":\"white\",\"linecolor\":\"white\",\"ticks\":\"\"},\"baxis\":{\"gridcolor\":\"white\",\"linecolor\":\"white\",\"ticks\":\"\"},\"caxis\":{\"gridcolor\":\"white\",\"linecolor\":\"white\",\"ticks\":\"\"}},\"coloraxis\":{\"colorbar\":{\"outlinewidth\":0,\"ticks\":\"\"}},\"colorscale\":{\"sequential\":[[0.0,\"#0d0887\"],[0.1111111111111111,\"#46039f\"],[0.2222222222222222,\"#7201a8\"],[0.3333333333333333,\"#9c179e\"],[0.4444444444444444,\"#bd3786\"],[0.5555555555555556,\"#d8576b\"],[0.6666666666666666,\"#ed7953\"],[0.7777777777777778,\"#fb9f3a\"],[0.8888888888888888,\"#fdca26\"],[1.0,\"#f0f921\"]],\"sequentialminus\":[[0.0,\"#0d0887\"],[0.1111111111111111,\"#46039f\"],[0.2222222222222222,\"#7201a8\"],[0.3333333333333333,\"#9c179e\"],[0.4444444444444444,\"#bd3786\"],[0.5555555555555556,\"#d8576b\"],[0.6666666666666666,\"#ed7953\"],[0.7777777777777778,\"#fb9f3a\"],[0.8888888888888888,\"#fdca26\"],[1.0,\"#f0f921\"]],\"diverging\":[[0,\"#8e0152\"],[0.1,\"#c51b7d\"],[0.2,\"#de77ae\"],[0.3,\"#f1b6da\"],[0.4,\"#fde0ef\"],[0.5,\"#f7f7f7\"],[0.6,\"#e6f5d0\"],[0.7,\"#b8e186\"],[0.8,\"#7fbc41\"],[0.9,\"#4d9221\"],[1,\"#276419\"]]},\"xaxis\":{\"gridcolor\":\"white\",\"linecolor\":\"white\",\"ticks\":\"\",\"title\":{\"standoff\":15},\"zerolinecolor\":\"white\",\"automargin\":true,\"zerolinewidth\":2},\"yaxis\":{\"gridcolor\":\"white\",\"linecolor\":\"white\",\"ticks\":\"\",\"title\":{\"standoff\":15},\"zerolinecolor\":\"white\",\"automargin\":true,\"zerolinewidth\":2},\"scene\":{\"xaxis\":{\"backgroundcolor\":\"#E5ECF6\",\"gridcolor\":\"white\",\"linecolor\":\"white\",\"showbackground\":true,\"ticks\":\"\",\"zerolinecolor\":\"white\",\"gridwidth\":2},\"yaxis\":{\"backgroundcolor\":\"#E5ECF6\",\"gridcolor\":\"white\",\"linecolor\":\"white\",\"showbackground\":true,\"ticks\":\"\",\"zerolinecolor\":\"white\",\"gridwidth\":2},\"zaxis\":{\"backgroundcolor\":\"#E5ECF6\",\"gridcolor\":\"white\",\"linecolor\":\"white\",\"showbackground\":true,\"ticks\":\"\",\"zerolinecolor\":\"white\",\"gridwidth\":2}},\"shapedefaults\":{\"line\":{\"color\":\"#2a3f5f\"}},\"annotationdefaults\":{\"arrowcolor\":\"#2a3f5f\",\"arrowhead\":0,\"arrowwidth\":1},\"geo\":{\"bgcolor\":\"white\",\"landcolor\":\"#E5ECF6\",\"subunitcolor\":\"white\",\"showland\":true,\"showlakes\":true,\"lakecolor\":\"white\"},\"title\":{\"x\":0.05},\"mapbox\":{\"style\":\"light\"}}},\"xaxis\":{\"anchor\":\"y\",\"domain\":[0.0,1.0],\"scaleanchor\":\"y\",\"constrain\":\"domain\",\"title\":{\"text\":\"Head\"}},\"yaxis\":{\"anchor\":\"x\",\"domain\":[0.0,1.0],\"autorange\":\"reversed\",\"constrain\":\"domain\",\"title\":{\"text\":\"Layer\"}},\"coloraxis\":{\"colorscale\":[[0.0,\"rgb(103,0,31)\"],[0.1,\"rgb(178,24,43)\"],[0.2,\"rgb(214,96,77)\"],[0.3,\"rgb(244,165,130)\"],[0.4,\"rgb(253,219,199)\"],[0.5,\"rgb(247,247,247)\"],[0.6,\"rgb(209,229,240)\"],[0.7,\"rgb(146,197,222)\"],[0.8,\"rgb(67,147,195)\"],[0.9,\"rgb(33,102,172)\"],[1.0,\"rgb(5,48,97)\"]],\"cmid\":0.0,\"cmin\":-1.0,\"cmax\":1.0},\"title\":{\"text\":\"OV Copying Score for each head in GPT-2 Small\"}},                        {\"responsive\": true}                    ).then(function(){\n",
       "                            \n",
       "var gd = document.getElementById('6e00d351-cade-46e7-ade1-b929ee4c9679');\n",
       "var x = new MutationObserver(function (mutations, observer) {{\n",
       "        var display = window.getComputedStyle(gd).display;\n",
       "        if (!display || display === 'none') {{\n",
       "            console.log([gd, 'removed!']);\n",
       "            Plotly.purge(gd);\n",
       "            observer.disconnect();\n",
       "        }}\n",
       "}});\n",
       "\n",
       "// Listen for the removal of the full notebook cells\n",
       "var notebookContainer = gd.closest('#notebook-container');\n",
       "if (notebookContainer) {{\n",
       "    x.observe(notebookContainer, {childList: true});\n",
       "}}\n",
       "\n",
       "// Listen for the clearing of the current output cell\n",
       "var outputEl = gd.closest('.output');\n",
       "if (outputEl) {{\n",
       "    x.observe(outputEl, {childList: true});\n",
       "}}\n",
       "\n",
       "                        })                };                            </script>        </div>\n",
       "</body>\n",
       "</html>"
      ]
     },
     "metadata": {},
     "output_type": "display_data"
    }
   ],
   "source": [
    "full_OV_copying_score = full_OV_circuit_eigenvalues.sum(dim=-1).real / full_OV_circuit_eigenvalues.abs().sum(dim=-1)\n",
    "imshow(utils.to_numpy(full_OV_copying_score), xaxis=\"Head\", yaxis=\"Layer\", title=\"OV Copying Score for each head in GPT-2 Small\", zmax=1.0, zmin=-1.0)"
   ]
  },
  {
   "cell_type": "markdown",
   "metadata": {
    "id": "ISPm4hA8Htgd"
   },
   "source": [
    "Interestingly, these are highly (but not perfectly!) correlated. I'm not sure what to read from this, or what's up with the weird outlier heads!"
   ]
  },
  {
   "cell_type": "code",
   "execution_count": 54,
   "metadata": {
    "colab": {
     "base_uri": "https://localhost:8080/",
     "height": 542
    },
    "id": "pl78QGfuHtgd",
    "outputId": "60e5f811-be4a-4881-ac65-49b7f7c06fc6"
   },
   "outputs": [
    {
     "data": {
      "text/html": [
       "<html>\n",
       "<head><meta charset=\"utf-8\" /></head>\n",
       "<body>\n",
       "    <div>            <script src=\"https://cdnjs.cloudflare.com/ajax/libs/mathjax/2.7.5/MathJax.js?config=TeX-AMS-MML_SVG\"></script><script type=\"text/javascript\">if (window.MathJax && window.MathJax.Hub && window.MathJax.Hub.Config) {window.MathJax.Hub.Config({SVG: {font: \"STIX-Web\"}});}</script>                <script type=\"text/javascript\">window.PlotlyConfig = {MathJaxConfig: 'local'};</script>\n",
       "        <script charset=\"utf-8\" src=\"https://cdn.plot.ly/plotly-2.24.1.min.js\"></script>                <div id=\"eda8f58c-21fe-4bf2-b3c8-19b9b001ff27\" class=\"plotly-graph-div\" style=\"height:525px; width:100%;\"></div>            <script type=\"text/javascript\">                                    window.PLOTLYENV=window.PLOTLYENV || {};                                    if (document.getElementById(\"eda8f58c-21fe-4bf2-b3c8-19b9b001ff27\")) {                    Plotly.newPlot(                        \"eda8f58c-21fe-4bf2-b3c8-19b9b001ff27\",                        [{\"hovertemplate\":\"\\u003cb\\u003e%{hovertext}\\u003c\\u002fb\\u003e\\u003cbr\\u003e\\u003cbr\\u003eFull OV Copying Score=%{x}\\u003cbr\\u003eOV Copying Score=%{y}\\u003cextra\\u003e\\u003c\\u002fextra\\u003e\",\"hovertext\":[\"L0H0\",\"L0H1\",\"L0H2\",\"L0H3\",\"L0H4\",\"L0H5\",\"L0H6\",\"L0H7\",\"L0H8\",\"L0H9\",\"L0H10\",\"L0H11\",\"L1H0\",\"L1H1\",\"L1H2\",\"L1H3\",\"L1H4\",\"L1H5\",\"L1H6\",\"L1H7\",\"L1H8\",\"L1H9\",\"L1H10\",\"L1H11\",\"L2H0\",\"L2H1\",\"L2H2\",\"L2H3\",\"L2H4\",\"L2H5\",\"L2H6\",\"L2H7\",\"L2H8\",\"L2H9\",\"L2H10\",\"L2H11\",\"L3H0\",\"L3H1\",\"L3H2\",\"L3H3\",\"L3H4\",\"L3H5\",\"L3H6\",\"L3H7\",\"L3H8\",\"L3H9\",\"L3H10\",\"L3H11\",\"L4H0\",\"L4H1\",\"L4H2\",\"L4H3\",\"L4H4\",\"L4H5\",\"L4H6\",\"L4H7\",\"L4H8\",\"L4H9\",\"L4H10\",\"L4H11\",\"L5H0\",\"L5H1\",\"L5H2\",\"L5H3\",\"L5H4\",\"L5H5\",\"L5H6\",\"L5H7\",\"L5H8\",\"L5H9\",\"L5H10\",\"L5H11\",\"L6H0\",\"L6H1\",\"L6H2\",\"L6H3\",\"L6H4\",\"L6H5\",\"L6H6\",\"L6H7\",\"L6H8\",\"L6H9\",\"L6H10\",\"L6H11\",\"L7H0\",\"L7H1\",\"L7H2\",\"L7H3\",\"L7H4\",\"L7H5\",\"L7H6\",\"L7H7\",\"L7H8\",\"L7H9\",\"L7H10\",\"L7H11\",\"L8H0\",\"L8H1\",\"L8H2\",\"L8H3\",\"L8H4\",\"L8H5\",\"L8H6\",\"L8H7\",\"L8H8\",\"L8H9\",\"L8H10\",\"L8H11\",\"L9H0\",\"L9H1\",\"L9H2\",\"L9H3\",\"L9H4\",\"L9H5\",\"L9H6\",\"L9H7\",\"L9H8\",\"L9H9\",\"L9H10\",\"L9H11\",\"L10H0\",\"L10H1\",\"L10H2\",\"L10H3\",\"L10H4\",\"L10H5\",\"L10H6\",\"L10H7\",\"L10H8\",\"L10H9\",\"L10H10\",\"L10H11\",\"L11H0\",\"L11H1\",\"L11H2\",\"L11H3\",\"L11H4\",\"L11H5\",\"L11H6\",\"L11H7\",\"L11H8\",\"L11H9\",\"L11H10\",\"L11H11\"],\"legendgroup\":\"\",\"marker\":{\"color\":\"#636efa\",\"symbol\":\"circle\"},\"mode\":\"markers\",\"name\":\"\",\"orientation\":\"v\",\"showlegend\":false,\"x\":[0.835636556148529,0.5853539705276489,0.5105841755867004,0.7843375205993652,0.86441570520401,0.7026583552360535,0.896992564201355,0.5868825316429138,0.42486512660980225,-0.16337497532367706,0.4626849293708801,0.27605384588241577,-0.05292004346847534,-0.3177313506603241,-0.48105794191360474,-0.7838066816329956,-0.6360208988189697,-0.77586829662323,0.9681804776191711,0.8119114637374878,-0.7510465383529663,-0.6878447532653809,-0.6429883241653442,-0.9985854625701904,-0.6598325967788696,0.915250301361084,0.546149730682373,-0.4874397814273834,0.7720561623573303,-0.7541061639785767,-0.847244918346405,-0.6948986649513245,-0.1557510942220688,0.24442270398139954,-0.9106622934341431,-0.9439151287078857,0.6486896276473999,-0.5592911243438721,0.5935595631599426,0.7843035459518433,-0.8150345683097839,0.6130048036575317,0.16785870492458344,0.35195860266685486,-0.6837263107299805,0.22237689793109894,-0.9929219484329224,0.6535820364952087,0.5740950703620911,0.364013135433197,0.09609055519104004,0.9359625577926636,-0.9228776097297668,0.6191075444221497,-0.3357264995574951,-0.998464822769165,0.6448630094528198,0.8468657732009888,-0.7557655572891235,0.952796995639801,0.732654333114624,0.5324169993400574,0.973267138004303,0.7239245772361755,0.255389541387558,0.8158414363861084,0.6655792593955994,0.9287099838256836,-0.5660437345504761,-0.8908745050430298,0.9834232926368713,-0.9981179237365723,0.9698691368103027,0.7439671754837036,-0.3563932776451111,0.6022984981536865,0.9708114862442017,-0.9278275966644287,-0.9962316155433655,0.8345208168029785,0.9714326858520508,0.8158543705940247,0.5902574062347412,0.8199344277381897,0.9820225834846497,0.9859328269958496,0.5152459740638733,-0.5610515475273132,0.9663667678833008,0.9495159983634949,-0.520481288433075,0.31047534942626953,0.9859084486961365,0.7797458171844482,0.6738535761833191,0.3919741213321686,-0.906204104423523,0.11750981956720352,0.8077876567840576,0.4169308543205261,0.9829014539718628,0.9902304410934448,0.7847102880477905,0.9945629835128784,0.9868025779724121,-0.26804444193840027,-0.9908867478370667,0.745792806148529,0.9906190633773804,-0.18231117725372314,0.9757838249206543,0.9986750483512878,0.2544330358505249,-0.9544062614440918,0.586924135684967,-0.23537994921207428,0.9550504088401794,0.25511959195137024,0.9929869771003723,0.09052564948797226,0.970727264881134,0.695609450340271,0.6280025243759155,0.7902863621711731,0.9343841671943665,0.9895793795585632,0.9436282515525818,-0.10834958404302597,-0.3431113362312317,0.9986708760261536,0.508673369884491,0.9949508309364319,0.8283135890960693,0.9432438015937805,0.9491766691207886,0.9995353817939758,0.5712319612503052,0.805523693561554,0.6781868934631348,0.827257513999939,0.8314798474311829,0.8778656721115112,0.9944959282875061,0.9973866939544678],\"xaxis\":\"x\",\"y\":[0.7775010466575623,0.3527267873287201,0.25961846113204956,0.6670256853103638,0.838425874710083,0.558443009853363,0.8444746136665344,0.41379091143608093,0.24488945305347443,0.02815747819840908,0.35840973258018494,0.16288262605667114,-0.45419126749038696,-0.6529326438903809,-0.5484569072723389,-0.7990369200706482,-0.7736425399780273,-0.8522580862045288,0.977432370185852,0.6626250743865967,-0.7303223609924316,-0.7007021903991699,-0.69466233253479,-0.9996723532676697,-0.7837163209915161,0.8967757225036621,0.47509536147117615,-0.6671972870826721,0.7881463766098022,-0.8547749519348145,-0.9054183959960938,-0.5749383568763733,-0.3217511475086212,-0.028593694791197777,-0.9247616529464722,-0.9699268341064453,0.5864036679267883,-0.7614348530769348,0.5971696376800537,0.7854393720626831,-0.8788883686065674,0.39087462425231934,0.04473845660686493,0.11028008162975311,-0.8169987797737122,0.22129526734352112,-0.9939577579498291,0.5774402022361755,0.5254791975021362,0.30490127205848694,-0.1072913259267807,0.9433151483535767,-0.9314429759979248,0.5273632407188416,-0.42647117376327515,-0.9984428882598877,0.5296754837036133,0.8604294657707214,-0.88950514793396,0.9556970000267029,0.6629188060760498,0.4295697510242462,0.9736858010292053,0.6555481553077698,0.12201876938343048,0.7442768216133118,0.5037954449653625,0.95253586769104,-0.6507166624069214,-0.9316278100013733,0.9791510701179504,-0.9972586035728455,0.9613032937049866,0.7501777410507202,-0.38066616654396057,0.6429786086082458,0.9557769298553467,-0.9428837895393372,-0.99480801820755,0.7852987051010132,0.9657301306724548,0.7073015570640564,0.36872273683547974,0.8128010034561157,0.9659484028816223,0.9730120897293091,0.3190062940120697,-0.3029051423072815,0.9790952801704407,0.9357923865318298,-0.5550315380096436,-0.005466550122946501,0.9867776036262512,0.8249568343162537,0.566429853439331,0.10005278885364532,-0.9464487433433533,-0.25471994280815125,0.6522324681282043,0.14152516424655914,0.9884141683578491,0.9860584735870361,0.6949270963668823,0.9901810884475708,0.9791203141212463,-0.2359551340341568,-0.9820711016654968,0.6506687998771667,0.9895945191383362,-0.29178154468536377,0.9714024066925049,0.9951602816581726,0.187837615609169,-0.946093738079071,0.4780190885066986,-0.24891921877861023,0.9437099695205688,0.11866209656000137,0.9941242933273315,-0.38088202476501465,0.9564487338066101,0.5542721748352051,0.4211805462837219,0.6628789901733398,0.8659592866897583,0.9937118887901306,0.9069075584411621,0.39811083674430847,-0.4134219288825989,0.9971914887428284,0.34596654772758484,0.9938657283782959,0.5891267657279968,0.9313739538192749,0.9268401265144348,0.9993563890457153,0.6227541565895081,0.8463948965072632,0.6584345102310181,0.8423122763633728,0.2978495657444,0.8728678226470947,0.9963144659996033,0.9867526292800903],\"yaxis\":\"y\",\"type\":\"scatter\"}],                        {\"template\":{\"data\":{\"histogram2dcontour\":[{\"type\":\"histogram2dcontour\",\"colorbar\":{\"outlinewidth\":0,\"ticks\":\"\"},\"colorscale\":[[0.0,\"#0d0887\"],[0.1111111111111111,\"#46039f\"],[0.2222222222222222,\"#7201a8\"],[0.3333333333333333,\"#9c179e\"],[0.4444444444444444,\"#bd3786\"],[0.5555555555555556,\"#d8576b\"],[0.6666666666666666,\"#ed7953\"],[0.7777777777777778,\"#fb9f3a\"],[0.8888888888888888,\"#fdca26\"],[1.0,\"#f0f921\"]]}],\"choropleth\":[{\"type\":\"choropleth\",\"colorbar\":{\"outlinewidth\":0,\"ticks\":\"\"}}],\"histogram2d\":[{\"type\":\"histogram2d\",\"colorbar\":{\"outlinewidth\":0,\"ticks\":\"\"},\"colorscale\":[[0.0,\"#0d0887\"],[0.1111111111111111,\"#46039f\"],[0.2222222222222222,\"#7201a8\"],[0.3333333333333333,\"#9c179e\"],[0.4444444444444444,\"#bd3786\"],[0.5555555555555556,\"#d8576b\"],[0.6666666666666666,\"#ed7953\"],[0.7777777777777778,\"#fb9f3a\"],[0.8888888888888888,\"#fdca26\"],[1.0,\"#f0f921\"]]}],\"heatmap\":[{\"type\":\"heatmap\",\"colorbar\":{\"outlinewidth\":0,\"ticks\":\"\"},\"colorscale\":[[0.0,\"#0d0887\"],[0.1111111111111111,\"#46039f\"],[0.2222222222222222,\"#7201a8\"],[0.3333333333333333,\"#9c179e\"],[0.4444444444444444,\"#bd3786\"],[0.5555555555555556,\"#d8576b\"],[0.6666666666666666,\"#ed7953\"],[0.7777777777777778,\"#fb9f3a\"],[0.8888888888888888,\"#fdca26\"],[1.0,\"#f0f921\"]]}],\"heatmapgl\":[{\"type\":\"heatmapgl\",\"colorbar\":{\"outlinewidth\":0,\"ticks\":\"\"},\"colorscale\":[[0.0,\"#0d0887\"],[0.1111111111111111,\"#46039f\"],[0.2222222222222222,\"#7201a8\"],[0.3333333333333333,\"#9c179e\"],[0.4444444444444444,\"#bd3786\"],[0.5555555555555556,\"#d8576b\"],[0.6666666666666666,\"#ed7953\"],[0.7777777777777778,\"#fb9f3a\"],[0.8888888888888888,\"#fdca26\"],[1.0,\"#f0f921\"]]}],\"contourcarpet\":[{\"type\":\"contourcarpet\",\"colorbar\":{\"outlinewidth\":0,\"ticks\":\"\"}}],\"contour\":[{\"type\":\"contour\",\"colorbar\":{\"outlinewidth\":0,\"ticks\":\"\"},\"colorscale\":[[0.0,\"#0d0887\"],[0.1111111111111111,\"#46039f\"],[0.2222222222222222,\"#7201a8\"],[0.3333333333333333,\"#9c179e\"],[0.4444444444444444,\"#bd3786\"],[0.5555555555555556,\"#d8576b\"],[0.6666666666666666,\"#ed7953\"],[0.7777777777777778,\"#fb9f3a\"],[0.8888888888888888,\"#fdca26\"],[1.0,\"#f0f921\"]]}],\"surface\":[{\"type\":\"surface\",\"colorbar\":{\"outlinewidth\":0,\"ticks\":\"\"},\"colorscale\":[[0.0,\"#0d0887\"],[0.1111111111111111,\"#46039f\"],[0.2222222222222222,\"#7201a8\"],[0.3333333333333333,\"#9c179e\"],[0.4444444444444444,\"#bd3786\"],[0.5555555555555556,\"#d8576b\"],[0.6666666666666666,\"#ed7953\"],[0.7777777777777778,\"#fb9f3a\"],[0.8888888888888888,\"#fdca26\"],[1.0,\"#f0f921\"]]}],\"mesh3d\":[{\"type\":\"mesh3d\",\"colorbar\":{\"outlinewidth\":0,\"ticks\":\"\"}}],\"scatter\":[{\"fillpattern\":{\"fillmode\":\"overlay\",\"size\":10,\"solidity\":0.2},\"type\":\"scatter\"}],\"parcoords\":[{\"type\":\"parcoords\",\"line\":{\"colorbar\":{\"outlinewidth\":0,\"ticks\":\"\"}}}],\"scatterpolargl\":[{\"type\":\"scatterpolargl\",\"marker\":{\"colorbar\":{\"outlinewidth\":0,\"ticks\":\"\"}}}],\"bar\":[{\"error_x\":{\"color\":\"#2a3f5f\"},\"error_y\":{\"color\":\"#2a3f5f\"},\"marker\":{\"line\":{\"color\":\"#E5ECF6\",\"width\":0.5},\"pattern\":{\"fillmode\":\"overlay\",\"size\":10,\"solidity\":0.2}},\"type\":\"bar\"}],\"scattergeo\":[{\"type\":\"scattergeo\",\"marker\":{\"colorbar\":{\"outlinewidth\":0,\"ticks\":\"\"}}}],\"scatterpolar\":[{\"type\":\"scatterpolar\",\"marker\":{\"colorbar\":{\"outlinewidth\":0,\"ticks\":\"\"}}}],\"histogram\":[{\"marker\":{\"pattern\":{\"fillmode\":\"overlay\",\"size\":10,\"solidity\":0.2}},\"type\":\"histogram\"}],\"scattergl\":[{\"type\":\"scattergl\",\"marker\":{\"colorbar\":{\"outlinewidth\":0,\"ticks\":\"\"}}}],\"scatter3d\":[{\"type\":\"scatter3d\",\"line\":{\"colorbar\":{\"outlinewidth\":0,\"ticks\":\"\"}},\"marker\":{\"colorbar\":{\"outlinewidth\":0,\"ticks\":\"\"}}}],\"scattermapbox\":[{\"type\":\"scattermapbox\",\"marker\":{\"colorbar\":{\"outlinewidth\":0,\"ticks\":\"\"}}}],\"scatterternary\":[{\"type\":\"scatterternary\",\"marker\":{\"colorbar\":{\"outlinewidth\":0,\"ticks\":\"\"}}}],\"scattercarpet\":[{\"type\":\"scattercarpet\",\"marker\":{\"colorbar\":{\"outlinewidth\":0,\"ticks\":\"\"}}}],\"carpet\":[{\"aaxis\":{\"endlinecolor\":\"#2a3f5f\",\"gridcolor\":\"white\",\"linecolor\":\"white\",\"minorgridcolor\":\"white\",\"startlinecolor\":\"#2a3f5f\"},\"baxis\":{\"endlinecolor\":\"#2a3f5f\",\"gridcolor\":\"white\",\"linecolor\":\"white\",\"minorgridcolor\":\"white\",\"startlinecolor\":\"#2a3f5f\"},\"type\":\"carpet\"}],\"table\":[{\"cells\":{\"fill\":{\"color\":\"#EBF0F8\"},\"line\":{\"color\":\"white\"}},\"header\":{\"fill\":{\"color\":\"#C8D4E3\"},\"line\":{\"color\":\"white\"}},\"type\":\"table\"}],\"barpolar\":[{\"marker\":{\"line\":{\"color\":\"#E5ECF6\",\"width\":0.5},\"pattern\":{\"fillmode\":\"overlay\",\"size\":10,\"solidity\":0.2}},\"type\":\"barpolar\"}],\"pie\":[{\"automargin\":true,\"type\":\"pie\"}]},\"layout\":{\"autotypenumbers\":\"strict\",\"colorway\":[\"#636efa\",\"#EF553B\",\"#00cc96\",\"#ab63fa\",\"#FFA15A\",\"#19d3f3\",\"#FF6692\",\"#B6E880\",\"#FF97FF\",\"#FECB52\"],\"font\":{\"color\":\"#2a3f5f\"},\"hovermode\":\"closest\",\"hoverlabel\":{\"align\":\"left\"},\"paper_bgcolor\":\"white\",\"plot_bgcolor\":\"#E5ECF6\",\"polar\":{\"bgcolor\":\"#E5ECF6\",\"angularaxis\":{\"gridcolor\":\"white\",\"linecolor\":\"white\",\"ticks\":\"\"},\"radialaxis\":{\"gridcolor\":\"white\",\"linecolor\":\"white\",\"ticks\":\"\"}},\"ternary\":{\"bgcolor\":\"#E5ECF6\",\"aaxis\":{\"gridcolor\":\"white\",\"linecolor\":\"white\",\"ticks\":\"\"},\"baxis\":{\"gridcolor\":\"white\",\"linecolor\":\"white\",\"ticks\":\"\"},\"caxis\":{\"gridcolor\":\"white\",\"linecolor\":\"white\",\"ticks\":\"\"}},\"coloraxis\":{\"colorbar\":{\"outlinewidth\":0,\"ticks\":\"\"}},\"colorscale\":{\"sequential\":[[0.0,\"#0d0887\"],[0.1111111111111111,\"#46039f\"],[0.2222222222222222,\"#7201a8\"],[0.3333333333333333,\"#9c179e\"],[0.4444444444444444,\"#bd3786\"],[0.5555555555555556,\"#d8576b\"],[0.6666666666666666,\"#ed7953\"],[0.7777777777777778,\"#fb9f3a\"],[0.8888888888888888,\"#fdca26\"],[1.0,\"#f0f921\"]],\"sequentialminus\":[[0.0,\"#0d0887\"],[0.1111111111111111,\"#46039f\"],[0.2222222222222222,\"#7201a8\"],[0.3333333333333333,\"#9c179e\"],[0.4444444444444444,\"#bd3786\"],[0.5555555555555556,\"#d8576b\"],[0.6666666666666666,\"#ed7953\"],[0.7777777777777778,\"#fb9f3a\"],[0.8888888888888888,\"#fdca26\"],[1.0,\"#f0f921\"]],\"diverging\":[[0,\"#8e0152\"],[0.1,\"#c51b7d\"],[0.2,\"#de77ae\"],[0.3,\"#f1b6da\"],[0.4,\"#fde0ef\"],[0.5,\"#f7f7f7\"],[0.6,\"#e6f5d0\"],[0.7,\"#b8e186\"],[0.8,\"#7fbc41\"],[0.9,\"#4d9221\"],[1,\"#276419\"]]},\"xaxis\":{\"gridcolor\":\"white\",\"linecolor\":\"white\",\"ticks\":\"\",\"title\":{\"standoff\":15},\"zerolinecolor\":\"white\",\"automargin\":true,\"zerolinewidth\":2},\"yaxis\":{\"gridcolor\":\"white\",\"linecolor\":\"white\",\"ticks\":\"\",\"title\":{\"standoff\":15},\"zerolinecolor\":\"white\",\"automargin\":true,\"zerolinewidth\":2},\"scene\":{\"xaxis\":{\"backgroundcolor\":\"#E5ECF6\",\"gridcolor\":\"white\",\"linecolor\":\"white\",\"showbackground\":true,\"ticks\":\"\",\"zerolinecolor\":\"white\",\"gridwidth\":2},\"yaxis\":{\"backgroundcolor\":\"#E5ECF6\",\"gridcolor\":\"white\",\"linecolor\":\"white\",\"showbackground\":true,\"ticks\":\"\",\"zerolinecolor\":\"white\",\"gridwidth\":2},\"zaxis\":{\"backgroundcolor\":\"#E5ECF6\",\"gridcolor\":\"white\",\"linecolor\":\"white\",\"showbackground\":true,\"ticks\":\"\",\"zerolinecolor\":\"white\",\"gridwidth\":2}},\"shapedefaults\":{\"line\":{\"color\":\"#2a3f5f\"}},\"annotationdefaults\":{\"arrowcolor\":\"#2a3f5f\",\"arrowhead\":0,\"arrowwidth\":1},\"geo\":{\"bgcolor\":\"white\",\"landcolor\":\"#E5ECF6\",\"subunitcolor\":\"white\",\"showland\":true,\"showlakes\":true,\"lakecolor\":\"white\"},\"title\":{\"x\":0.05},\"mapbox\":{\"style\":\"light\"}}},\"xaxis\":{\"anchor\":\"y\",\"domain\":[0.0,1.0],\"title\":{\"text\":\"Full OV Copying Score\"}},\"yaxis\":{\"anchor\":\"x\",\"domain\":[0.0,1.0],\"title\":{\"text\":\"OV Copying Score\"}},\"legend\":{\"tracegroupgap\":0},\"title\":{\"text\":\"OV Copying Score for each head in GPT-2 Small\"}},                        {\"responsive\": true}                    ).then(function(){\n",
       "                            \n",
       "var gd = document.getElementById('eda8f58c-21fe-4bf2-b3c8-19b9b001ff27');\n",
       "var x = new MutationObserver(function (mutations, observer) {{\n",
       "        var display = window.getComputedStyle(gd).display;\n",
       "        if (!display || display === 'none') {{\n",
       "            console.log([gd, 'removed!']);\n",
       "            Plotly.purge(gd);\n",
       "            observer.disconnect();\n",
       "        }}\n",
       "}});\n",
       "\n",
       "// Listen for the removal of the full notebook cells\n",
       "var notebookContainer = gd.closest('#notebook-container');\n",
       "if (notebookContainer) {{\n",
       "    x.observe(notebookContainer, {childList: true});\n",
       "}}\n",
       "\n",
       "// Listen for the clearing of the current output cell\n",
       "var outputEl = gd.closest('.output');\n",
       "if (outputEl) {{\n",
       "    x.observe(outputEl, {childList: true});\n",
       "}}\n",
       "\n",
       "                        })                };                            </script>        </div>\n",
       "</body>\n",
       "</html>"
      ]
     },
     "metadata": {},
     "output_type": "display_data"
    }
   ],
   "source": [
    "scatter(x=full_OV_copying_score.flatten(), y=OV_copying_score.flatten(), hover_name=[f\"L{layer}H{head}\" for layer in range(12) for head in range(12)], title=\"OV Copying Score for each head in GPT-2 Small\", xaxis=\"Full OV Copying Score\", yaxis=\"OV Copying Score\")"
   ]
  },
  {
   "cell_type": "code",
   "execution_count": 55,
   "metadata": {
    "colab": {
     "base_uri": "https://localhost:8080/"
    },
    "id": "jBmhSpr6Htgd",
    "outputId": "02538a5c-54e0-4a3a-bd5a-816540e047e1"
   },
   "outputs": [
    {
     "name": "stdout",
     "output_type": "stream",
     "text": [
      "Token 256 - the most common pair of ASCII characters: | t|\n",
      "De-Tokenizing the example tokens: <|endoftext|>The first thing you need to figure out is *how* things are tokenized. `model.to_str_tokens` splits a string into the tokens *as a list of substrings*, and so lets you explore what the text looks like. To demonstrate this, let's use it on this paragraph.\n"
     ]
    }
   ],
   "source": [
    "print(f\"Token 256 - the most common pair of ASCII characters: |{model.to_string(256)}|\")\n",
    "# Squeeze means to remove dimensions of length 1.\n",
    "# Here, that removes the dummy batch dimension so it's a rank 1 tensor and returns a string\n",
    "# Rank 2 tensors map to a list of strings\n",
    "print(f\"De-Tokenizing the example tokens: {model.to_string(example_text_tokens.squeeze())}\")"
   ]
  },
  {
   "cell_type": "markdown",
   "metadata": {
    "id": "A49J-Ru6Htgd"
   },
   "source": [
    "## Generating Text"
   ]
  },
  {
   "cell_type": "markdown",
   "metadata": {
    "id": "pL-knaZpHtgd"
   },
   "source": [
    "TransformerLens also has basic text generation functionality, which can be useful for generally exploring what the model is capable of (thanks to Ansh Radhakrishnan for adding this!). This is pretty rough functionality, and where possible I recommend using more established libraries like HuggingFace for this."
   ]
  },
  {
   "cell_type": "code",
   "execution_count": 56,
   "metadata": {
    "colab": {
     "base_uri": "https://localhost:8080/",
     "height": 85,
     "referenced_widgets": [
      "a857714c204843c98b114756c49d590e",
      "99547bd6e38f4de1917c1314ef2e9676",
      "f889553de26447cb9e528b90a79dc8a4",
      "42e190f57d8f4e9981a0978d5a5cb22f",
      "b5244527316c44bea582e85d2e3cc472",
      "f194599f62e7455da898c9f154abf9da",
      "d43ec9fb2eb248848c623ec0c538cb4b",
      "9c1227dd4b5441f4b6eaceb1bea279c8",
      "412e09bd76004b43a7f9dcc45a4121d8",
      "1ac9004218db446586e38cc3d25d21f2",
      "1971d33dfbdd4dad941f88d25d1eed3b"
     ]
    },
    "id": "AXNLg2jOHtgd",
    "outputId": "63e25957-aa37-436b-fed8-cb8be1656f41"
   },
   "outputs": [
    {
     "data": {
      "application/vnd.jupyter.widget-view+json": {
       "model_id": "ba30eb770b354784a3dacbbb4840687c",
       "version_major": 2,
       "version_minor": 0
      },
      "text/plain": [
       "  0%|          | 0/50 [00:00<?, ?it/s]"
      ]
     },
     "metadata": {},
     "output_type": "display_data"
    },
    {
     "data": {
      "text/plain": [
       "'(CNN) President Barack Obama caught in embarrassing new scandal\\n\\nThe latest scandal is that Obama\\'s former chief of staff, David Petraeus, once served in Afghanistan and received some highly classified correspondence with the Russians.\\n\\nIn an email to friends, Obama said he was \"for sure\" Petraeus had somehow \"'"
      ]
     },
     "execution_count": 56,
     "metadata": {},
     "output_type": "execute_result"
    }
   ],
   "source": [
    "model.generate(\"(CNN) President Barack Obama caught in embarrassing new scandal\\n\", max_new_tokens=50, temperature=0.7, prepend_bos=True)"
   ]
  },
  {
   "cell_type": "markdown",
   "metadata": {
    "id": "3XJPbgXuHtge"
   },
   "source": [
    "## Hook Points\n",
    "\n",
    "The key part of TransformerLens that lets us access and edit intermediate activations are the HookPoints around every model activation. Importantly, this technique will work for *any* model architecture, not just transformers, so long as you're able to edit the model code to add in HookPoints! This is essentially a lightweight library bundled with TransformerLens that should let you take an arbitrary model and make it easier to study."
   ]
  },
  {
   "cell_type": "markdown",
   "metadata": {
    "id": "D5QHzrAtHtge"
   },
   "source": [
    "This is implemented by having a HookPoint layer. Each transformer component has a HookPoint for every activation, which wraps around that activation. The HookPoint acts as an identity function, but has a variety of helper functions that allows us to put PyTorch hooks in to edit and access the relevant activation.\n",
    "\n",
    "There is also a `HookedRootModule` class - this is a utility class that the root module should inherit from (root module = the model we run) - it has several utility functions for using hooks well, notably `reset_hooks`, `run_with_cache` and `run_with_hooks`.\n",
    "\n",
    "The default interface is the `run_with_hooks` function on the root module, which lets us run a forwards pass on the model, and pass on a list of hooks paired with layer names to run on that pass.\n",
    "\n",
    "The syntax for a hook is `function(activation, hook)` where `activation` is the activation the hook is wrapped around, and `hook` is the `HookPoint` class the function is attached to. If the function returns a new activation or edits the activation in-place, that replaces the old one, if it returns None then the activation remains as is.\n"
   ]
  },
  {
   "cell_type": "markdown",
   "metadata": {
    "id": "tJdG_OODHtge"
   },
   "source": [
    "### Toy Example"
   ]
  },
  {
   "cell_type": "markdown",
   "metadata": {
    "id": "3Vdwk_aAHtge"
   },
   "source": [
    "\n",
    "Here's a simple example of defining a small network with HookPoints:\n",
    "\n",
    "We define a basic network with two layers that each take a scalar input $x$, square it, and add a constant:\n",
    "$x_0=x$, $x_1=x_0^2+3$, $x_2=x_1^2-4$.\n",
    "\n",
    "We wrap the input, each layer's output, and the intermediate value of each layer (the square) in a hook point.\n",
    "\n"
   ]
  },
  {
   "cell_type": "code",
   "execution_count": 57,
   "metadata": {
    "id": "R1_ZYJKUHtge"
   },
   "outputs": [],
   "source": [
    "\n",
    "from transformer_lens.hook_points import HookedRootModule, HookPoint\n",
    "\n",
    "\n",
    "class SquareThenAdd(nn.Module):\n",
    "    def __init__(self, offset):\n",
    "        super().__init__()\n",
    "        self.offset = nn.Parameter(torch.tensor(offset))\n",
    "        self.hook_square = HookPoint()\n",
    "\n",
    "    def forward(self, x):\n",
    "        # The hook_square doesn't change the value, but lets us access it\n",
    "        square = self.hook_square(x * x)\n",
    "        return self.offset + square\n",
    "\n",
    "\n",
    "class TwoLayerModel(HookedRootModule):\n",
    "    def __init__(self):\n",
    "        super().__init__()\n",
    "        self.layer1 = SquareThenAdd(3.0)\n",
    "        self.layer2 = SquareThenAdd(-4.0)\n",
    "        self.hook_in = HookPoint()\n",
    "        self.hook_mid = HookPoint()\n",
    "        self.hook_out = HookPoint()\n",
    "\n",
    "        # We need to call the setup function of HookedRootModule to build an\n",
    "        # internal dictionary of modules and hooks, and to give each hook a name\n",
    "        super().setup()\n",
    "\n",
    "    def forward(self, x):\n",
    "        # We wrap the input and each layer's output in a hook - they leave the\n",
    "        # value unchanged (unless there's a hook added to explicitly change it),\n",
    "        # but allow us to access it.\n",
    "        x_in = self.hook_in(x)\n",
    "        x_mid = self.hook_mid(self.layer1(x_in))\n",
    "        x_out = self.hook_out(self.layer2(x_mid))\n",
    "        return x_out\n",
    "\n",
    "\n",
    "model = TwoLayerModel()\n"
   ]
  },
  {
   "cell_type": "markdown",
   "metadata": {
    "id": "nLCR4jaYHtge"
   },
   "source": [
    "\n",
    "We can add a cache, to save the activation at each hook point\n",
    "\n",
    "(There's a custom `run_with_cache` function on the root module as a convenience, which is a wrapper around model.forward that return model_out, cache_object - we could also manually add hooks with `run_with_hooks` that store activations in a global caching dictionary. This is often useful if we only want to store, eg, subsets or functions of some activations.)\n"
   ]
  },
  {
   "cell_type": "code",
   "execution_count": 58,
   "metadata": {
    "colab": {
     "base_uri": "https://localhost:8080/"
    },
    "id": "_Y6itylkHtge",
    "outputId": "816c7c98-7c98-4a78-ded9-d05dda32d963"
   },
   "outputs": [
    {
     "name": "stdout",
     "output_type": "stream",
     "text": [
      "Model output: 780.0\n",
      "Value cached at hook hook_in 5.0\n",
      "Value cached at hook layer1.hook_square 25.0\n",
      "Value cached at hook hook_mid 28.0\n",
      "Value cached at hook layer2.hook_square 784.0\n",
      "Value cached at hook hook_out 780.0\n"
     ]
    }
   ],
   "source": [
    "\n",
    "out, cache = model.run_with_cache(torch.tensor(5.0))\n",
    "print(\"Model output:\", out.item())\n",
    "for key in cache:\n",
    "    print(f\"Value cached at hook {key}\", cache[key].item())\n",
    "\n"
   ]
  },
  {
   "cell_type": "markdown",
   "metadata": {
    "id": "-wlJZ--GHtge"
   },
   "source": [
    "\n",
    "We can also use hooks to intervene on activations - eg, we can set the intermediate value in layer 2 to zero to change the output to -5\n"
   ]
  },
  {
   "cell_type": "code",
   "execution_count": 59,
   "metadata": {
    "colab": {
     "base_uri": "https://localhost:8080/"
    },
    "id": "q_WYtGUvHtge",
    "outputId": "053f8f42-3917-44e1-e629-abb52226ca5c"
   },
   "outputs": [
    {
     "name": "stdout",
     "output_type": "stream",
     "text": [
      "layer2.hook_square\n",
      "Output after intervening on layer2.hook_scaled -4.0\n"
     ]
    }
   ],
   "source": [
    "\n",
    "def set_to_zero_hook(tensor, hook):\n",
    "    print(hook.name)\n",
    "    return torch.tensor(0.0)\n",
    "\n",
    "\n",
    "print(\n",
    "    \"Output after intervening on layer2.hook_scaled\",\n",
    "    model.run_with_hooks(\n",
    "        torch.tensor(5.0), fwd_hooks=[(\"layer2.hook_square\", set_to_zero_hook)]\n",
    "    ).item(),\n",
    ")"
   ]
  },
  {
   "cell_type": "markdown",
   "metadata": {
    "id": "hRrSHcc9Htge"
   },
   "source": [
    "## Loading Pre-Trained Checkpoints\n",
    "\n",
    "There are a lot of interesting questions combining mechanistic interpretability and training dynamics - analysing model capabilities and the underlying circuits that make them possible, and how these change as we train the model.\n",
    "\n",
    "TransformerLens supports these by having several model families with checkpoints throughout training. `HookedTransformer.from_pretrained` can load a checkpoint of a model with the `checkpoint_index` (the label 0 to `num_checkpoints-1`) or `checkpoint_value` (the step or token number, depending on how the checkpoints were labelled)."
   ]
  },
  {
   "cell_type": "markdown",
   "metadata": {
    "id": "VOJMLXGwHtge"
   },
   "source": [
    "\n",
    "Available models:\n",
    "* All of my interpretability-friendly models have checkpoints available, including:\n",
    "    * The toy models - `attn-only`, `solu`, `gelu` 1L to 4L\n",
    "        * These have ~200 checkpoints, taken on a piecewise linear schedule (more checkpoints near the start of training), up to 22B tokens. Labelled by number of tokens seen.\n",
    "    * The SoLU models trained on 80% Web Text and 20% Python Code (`solu-6l` to `solu-12l`)\n",
    "        * Same checkpoint schedule as the toy models, this time up to 30B tokens\n",
    "    * The SoLU models trained on the pile (`solu-1l-pile` to `solu-12l-pile`)\n",
    "        * These have ~100 checkpoints, taken on a linear schedule, up to 15B tokens. Labelled by number of steps.\n",
    "        * The 12L training crashed around 11B tokens, so is truncated.\n",
    "* The Stanford Centre for Research of Foundation Models trained 5 GPT-2 Small sized and 5 GPT-2 Medium sized models (`stanford-gpt2-small-a` to `e` and `stanford-gpt2-medium-a` to `e`)\n",
    "    * 600 checkpoints, taken on a piecewise linear schedule, labelled by the number of steps."
   ]
  },
  {
   "cell_type": "markdown",
   "metadata": {
    "id": "WOig3c7aHtgf"
   },
   "source": [
    "The checkpoint structure and labels is somewhat messy and ad-hoc, so I mostly recommend using the `checkpoint_index` syntax (where you can just count from 0 to the number of checkpoints) rather than `checkpoint_value` syntax (where you need to know the checkpoint schedule, and whether it was labelled with the number of tokens or steps). The helper function `get_checkpoint_labels` tells you the checkpoint schedule for a given model - ie what point was each checkpoint taken at, and what type of label was used.\n",
    "\n",
    "Here are graphs of the schedules for several checkpointed models: (note that the first 3 use a log scale, latter 2 use a linear scale)"
   ]
  },
  {
   "cell_type": "code",
   "execution_count": 60,
   "metadata": {
    "colab": {
     "base_uri": "https://localhost:8080/",
     "height": 1000
    },
    "id": "DpaaBGwRHtgf",
    "outputId": "af70a8c6-1eb6-494c-ee91-dd79c389ceea"
   },
   "outputs": [
    {
     "data": {
      "text/html": [
       "<html>\n",
       "<head><meta charset=\"utf-8\" /></head>\n",
       "<body>\n",
       "    <div>            <script src=\"https://cdnjs.cloudflare.com/ajax/libs/mathjax/2.7.5/MathJax.js?config=TeX-AMS-MML_SVG\"></script><script type=\"text/javascript\">if (window.MathJax && window.MathJax.Hub && window.MathJax.Hub.Config) {window.MathJax.Hub.Config({SVG: {font: \"STIX-Web\"}});}</script>                <script type=\"text/javascript\">window.PlotlyConfig = {MathJaxConfig: 'local'};</script>\n",
       "        <script charset=\"utf-8\" src=\"https://cdn.plot.ly/plotly-2.24.1.min.js\"></script>                <div id=\"bbda1289-c9f6-4e46-a17e-45f331537fcc\" class=\"plotly-graph-div\" style=\"height:525px; width:100%;\"></div>            <script type=\"text/javascript\">                                    window.PLOTLYENV=window.PLOTLYENV || {};                                    if (document.getElementById(\"bbda1289-c9f6-4e46-a17e-45f331537fcc\")) {                    Plotly.newPlot(                        \"bbda1289-c9f6-4e46-a17e-45f331537fcc\",                        [{\"hovertemplate\":\"variable=0\\u003cbr\\u003eindex=%{x}\\u003cbr\\u003evalue=%{y}\\u003cextra\\u003e\\u003c\\u002fextra\\u003e\",\"legendgroup\":\"0\",\"line\":{\"color\":\"#636efa\",\"dash\":\"solid\"},\"marker\":{\"symbol\":\"circle\"},\"mode\":\"markers+lines\",\"name\":\"0\",\"orientation\":\"v\",\"showlegend\":true,\"x\":[0,1,2,3,4,5,6,7,8,9,10,11,12,13,14,15,16,17,18,19,20,21,22,23,24,25,26,27,28,29,30,31,32,33,34,35,36,37,38,39,40,41,42,43,44,45,46,47,48,49,50,51,52,53,54,55,56,57,58,59,60,61,62,63,64,65,66,67,68,69,70,71,72,73,74,75,76,77,78,79,80,81,82,83,84,85,86,87,88,89,90,91,92,93,94,95,96,97,98,99,100,101,102,103,104,105,106,107,108,109,110,111,112,113,114,115,116,117,118,119,120,121,122,123,124,125,126,127,128,129,130,131,132,133,134,135,136,137,138,139,140,141,142,143,144,145,146,147,148,149,150,151,152,153,154,155,156,157,158,159,160,161,162],\"xaxis\":\"x\",\"y\":[262144,2621440,4718592,7077888,9175040,11272192,13631488,15728640,18087936,20185088,22282240,33292288,44302336,55312384,66322432,77332480,88342528,99352576,110362624,121372672,132382720,143392768,154402816,165412864,176422912,187432960,198443008,209453056,220463104,264503296,308281344,352321536,396361728,440401920,484442112,528482304,572522496,616300544,660340736,704380928,748421120,792461312,836501504,880279552,924319744,968359936,1012400128,1056440320,1100480512,1144520704,1188298752,1232338944,1276379136,1320419328,1364459520,1408499712,1452277760,1496317952,1540358144,1584398336,1628438528,1672478720,1716518912,1760296960,1804337152,1848377344,1892417536,1936457728,1980497920,2024275968,2068316160,2112356352,2156396544,2200436736,2420375552,2640314368,2860515328,3080454144,3300392960,3520331776,3740270592,3960471552,4180410368,4400349184,4620288000,4840488960,5060427776,5280366592,5500305408,5720506368,5940445184,6160384000,6380322816,6600523776,6820462592,7040401408,7260340224,7480279040,7700480000,7920418816,8140357632,8360296448,8580497408,8800436224,9020375040,9240313856,9460514816,9680453632,9900392448,10120331264,10340270080,10560471040,10780409856,11000348672,11220287488,11440488448,11660427264,11880366080,12100304896,12320505856,12540444672,12760383488,12980322304,13200523264,13420462080,13640400896,13860339712,14080278528,14300479488,14520418304,14740357120,14960295936,15180496896,15400435712,15620374528,15840313344,16060514304,16280453120,16500391936,16720330752,16940269568,17160470528,17380409344,17600348160,17820286976,18040487936,18260426752,18480365568,18700304384,18920505344,19140444160,19360382976,19580321792,19800522752,20020461568,20240400384,20460339200,20680278016,20900478976,21120417792,21340356608,21560295424,21780496384],\"yaxis\":\"y\",\"type\":\"scatter\"}],                        {\"template\":{\"data\":{\"histogram2dcontour\":[{\"type\":\"histogram2dcontour\",\"colorbar\":{\"outlinewidth\":0,\"ticks\":\"\"},\"colorscale\":[[0.0,\"#0d0887\"],[0.1111111111111111,\"#46039f\"],[0.2222222222222222,\"#7201a8\"],[0.3333333333333333,\"#9c179e\"],[0.4444444444444444,\"#bd3786\"],[0.5555555555555556,\"#d8576b\"],[0.6666666666666666,\"#ed7953\"],[0.7777777777777778,\"#fb9f3a\"],[0.8888888888888888,\"#fdca26\"],[1.0,\"#f0f921\"]]}],\"choropleth\":[{\"type\":\"choropleth\",\"colorbar\":{\"outlinewidth\":0,\"ticks\":\"\"}}],\"histogram2d\":[{\"type\":\"histogram2d\",\"colorbar\":{\"outlinewidth\":0,\"ticks\":\"\"},\"colorscale\":[[0.0,\"#0d0887\"],[0.1111111111111111,\"#46039f\"],[0.2222222222222222,\"#7201a8\"],[0.3333333333333333,\"#9c179e\"],[0.4444444444444444,\"#bd3786\"],[0.5555555555555556,\"#d8576b\"],[0.6666666666666666,\"#ed7953\"],[0.7777777777777778,\"#fb9f3a\"],[0.8888888888888888,\"#fdca26\"],[1.0,\"#f0f921\"]]}],\"heatmap\":[{\"type\":\"heatmap\",\"colorbar\":{\"outlinewidth\":0,\"ticks\":\"\"},\"colorscale\":[[0.0,\"#0d0887\"],[0.1111111111111111,\"#46039f\"],[0.2222222222222222,\"#7201a8\"],[0.3333333333333333,\"#9c179e\"],[0.4444444444444444,\"#bd3786\"],[0.5555555555555556,\"#d8576b\"],[0.6666666666666666,\"#ed7953\"],[0.7777777777777778,\"#fb9f3a\"],[0.8888888888888888,\"#fdca26\"],[1.0,\"#f0f921\"]]}],\"heatmapgl\":[{\"type\":\"heatmapgl\",\"colorbar\":{\"outlinewidth\":0,\"ticks\":\"\"},\"colorscale\":[[0.0,\"#0d0887\"],[0.1111111111111111,\"#46039f\"],[0.2222222222222222,\"#7201a8\"],[0.3333333333333333,\"#9c179e\"],[0.4444444444444444,\"#bd3786\"],[0.5555555555555556,\"#d8576b\"],[0.6666666666666666,\"#ed7953\"],[0.7777777777777778,\"#fb9f3a\"],[0.8888888888888888,\"#fdca26\"],[1.0,\"#f0f921\"]]}],\"contourcarpet\":[{\"type\":\"contourcarpet\",\"colorbar\":{\"outlinewidth\":0,\"ticks\":\"\"}}],\"contour\":[{\"type\":\"contour\",\"colorbar\":{\"outlinewidth\":0,\"ticks\":\"\"},\"colorscale\":[[0.0,\"#0d0887\"],[0.1111111111111111,\"#46039f\"],[0.2222222222222222,\"#7201a8\"],[0.3333333333333333,\"#9c179e\"],[0.4444444444444444,\"#bd3786\"],[0.5555555555555556,\"#d8576b\"],[0.6666666666666666,\"#ed7953\"],[0.7777777777777778,\"#fb9f3a\"],[0.8888888888888888,\"#fdca26\"],[1.0,\"#f0f921\"]]}],\"surface\":[{\"type\":\"surface\",\"colorbar\":{\"outlinewidth\":0,\"ticks\":\"\"},\"colorscale\":[[0.0,\"#0d0887\"],[0.1111111111111111,\"#46039f\"],[0.2222222222222222,\"#7201a8\"],[0.3333333333333333,\"#9c179e\"],[0.4444444444444444,\"#bd3786\"],[0.5555555555555556,\"#d8576b\"],[0.6666666666666666,\"#ed7953\"],[0.7777777777777778,\"#fb9f3a\"],[0.8888888888888888,\"#fdca26\"],[1.0,\"#f0f921\"]]}],\"mesh3d\":[{\"type\":\"mesh3d\",\"colorbar\":{\"outlinewidth\":0,\"ticks\":\"\"}}],\"scatter\":[{\"fillpattern\":{\"fillmode\":\"overlay\",\"size\":10,\"solidity\":0.2},\"type\":\"scatter\"}],\"parcoords\":[{\"type\":\"parcoords\",\"line\":{\"colorbar\":{\"outlinewidth\":0,\"ticks\":\"\"}}}],\"scatterpolargl\":[{\"type\":\"scatterpolargl\",\"marker\":{\"colorbar\":{\"outlinewidth\":0,\"ticks\":\"\"}}}],\"bar\":[{\"error_x\":{\"color\":\"#2a3f5f\"},\"error_y\":{\"color\":\"#2a3f5f\"},\"marker\":{\"line\":{\"color\":\"#E5ECF6\",\"width\":0.5},\"pattern\":{\"fillmode\":\"overlay\",\"size\":10,\"solidity\":0.2}},\"type\":\"bar\"}],\"scattergeo\":[{\"type\":\"scattergeo\",\"marker\":{\"colorbar\":{\"outlinewidth\":0,\"ticks\":\"\"}}}],\"scatterpolar\":[{\"type\":\"scatterpolar\",\"marker\":{\"colorbar\":{\"outlinewidth\":0,\"ticks\":\"\"}}}],\"histogram\":[{\"marker\":{\"pattern\":{\"fillmode\":\"overlay\",\"size\":10,\"solidity\":0.2}},\"type\":\"histogram\"}],\"scattergl\":[{\"type\":\"scattergl\",\"marker\":{\"colorbar\":{\"outlinewidth\":0,\"ticks\":\"\"}}}],\"scatter3d\":[{\"type\":\"scatter3d\",\"line\":{\"colorbar\":{\"outlinewidth\":0,\"ticks\":\"\"}},\"marker\":{\"colorbar\":{\"outlinewidth\":0,\"ticks\":\"\"}}}],\"scattermapbox\":[{\"type\":\"scattermapbox\",\"marker\":{\"colorbar\":{\"outlinewidth\":0,\"ticks\":\"\"}}}],\"scatterternary\":[{\"type\":\"scatterternary\",\"marker\":{\"colorbar\":{\"outlinewidth\":0,\"ticks\":\"\"}}}],\"scattercarpet\":[{\"type\":\"scattercarpet\",\"marker\":{\"colorbar\":{\"outlinewidth\":0,\"ticks\":\"\"}}}],\"carpet\":[{\"aaxis\":{\"endlinecolor\":\"#2a3f5f\",\"gridcolor\":\"white\",\"linecolor\":\"white\",\"minorgridcolor\":\"white\",\"startlinecolor\":\"#2a3f5f\"},\"baxis\":{\"endlinecolor\":\"#2a3f5f\",\"gridcolor\":\"white\",\"linecolor\":\"white\",\"minorgridcolor\":\"white\",\"startlinecolor\":\"#2a3f5f\"},\"type\":\"carpet\"}],\"table\":[{\"cells\":{\"fill\":{\"color\":\"#EBF0F8\"},\"line\":{\"color\":\"white\"}},\"header\":{\"fill\":{\"color\":\"#C8D4E3\"},\"line\":{\"color\":\"white\"}},\"type\":\"table\"}],\"barpolar\":[{\"marker\":{\"line\":{\"color\":\"#E5ECF6\",\"width\":0.5},\"pattern\":{\"fillmode\":\"overlay\",\"size\":10,\"solidity\":0.2}},\"type\":\"barpolar\"}],\"pie\":[{\"automargin\":true,\"type\":\"pie\"}]},\"layout\":{\"autotypenumbers\":\"strict\",\"colorway\":[\"#636efa\",\"#EF553B\",\"#00cc96\",\"#ab63fa\",\"#FFA15A\",\"#19d3f3\",\"#FF6692\",\"#B6E880\",\"#FF97FF\",\"#FECB52\"],\"font\":{\"color\":\"#2a3f5f\"},\"hovermode\":\"closest\",\"hoverlabel\":{\"align\":\"left\"},\"paper_bgcolor\":\"white\",\"plot_bgcolor\":\"#E5ECF6\",\"polar\":{\"bgcolor\":\"#E5ECF6\",\"angularaxis\":{\"gridcolor\":\"white\",\"linecolor\":\"white\",\"ticks\":\"\"},\"radialaxis\":{\"gridcolor\":\"white\",\"linecolor\":\"white\",\"ticks\":\"\"}},\"ternary\":{\"bgcolor\":\"#E5ECF6\",\"aaxis\":{\"gridcolor\":\"white\",\"linecolor\":\"white\",\"ticks\":\"\"},\"baxis\":{\"gridcolor\":\"white\",\"linecolor\":\"white\",\"ticks\":\"\"},\"caxis\":{\"gridcolor\":\"white\",\"linecolor\":\"white\",\"ticks\":\"\"}},\"coloraxis\":{\"colorbar\":{\"outlinewidth\":0,\"ticks\":\"\"}},\"colorscale\":{\"sequential\":[[0.0,\"#0d0887\"],[0.1111111111111111,\"#46039f\"],[0.2222222222222222,\"#7201a8\"],[0.3333333333333333,\"#9c179e\"],[0.4444444444444444,\"#bd3786\"],[0.5555555555555556,\"#d8576b\"],[0.6666666666666666,\"#ed7953\"],[0.7777777777777778,\"#fb9f3a\"],[0.8888888888888888,\"#fdca26\"],[1.0,\"#f0f921\"]],\"sequentialminus\":[[0.0,\"#0d0887\"],[0.1111111111111111,\"#46039f\"],[0.2222222222222222,\"#7201a8\"],[0.3333333333333333,\"#9c179e\"],[0.4444444444444444,\"#bd3786\"],[0.5555555555555556,\"#d8576b\"],[0.6666666666666666,\"#ed7953\"],[0.7777777777777778,\"#fb9f3a\"],[0.8888888888888888,\"#fdca26\"],[1.0,\"#f0f921\"]],\"diverging\":[[0,\"#8e0152\"],[0.1,\"#c51b7d\"],[0.2,\"#de77ae\"],[0.3,\"#f1b6da\"],[0.4,\"#fde0ef\"],[0.5,\"#f7f7f7\"],[0.6,\"#e6f5d0\"],[0.7,\"#b8e186\"],[0.8,\"#7fbc41\"],[0.9,\"#4d9221\"],[1,\"#276419\"]]},\"xaxis\":{\"gridcolor\":\"white\",\"linecolor\":\"white\",\"ticks\":\"\",\"title\":{\"standoff\":15},\"zerolinecolor\":\"white\",\"automargin\":true,\"zerolinewidth\":2},\"yaxis\":{\"gridcolor\":\"white\",\"linecolor\":\"white\",\"ticks\":\"\",\"title\":{\"standoff\":15},\"zerolinecolor\":\"white\",\"automargin\":true,\"zerolinewidth\":2},\"scene\":{\"xaxis\":{\"backgroundcolor\":\"#E5ECF6\",\"gridcolor\":\"white\",\"linecolor\":\"white\",\"showbackground\":true,\"ticks\":\"\",\"zerolinecolor\":\"white\",\"gridwidth\":2},\"yaxis\":{\"backgroundcolor\":\"#E5ECF6\",\"gridcolor\":\"white\",\"linecolor\":\"white\",\"showbackground\":true,\"ticks\":\"\",\"zerolinecolor\":\"white\",\"gridwidth\":2},\"zaxis\":{\"backgroundcolor\":\"#E5ECF6\",\"gridcolor\":\"white\",\"linecolor\":\"white\",\"showbackground\":true,\"ticks\":\"\",\"zerolinecolor\":\"white\",\"gridwidth\":2}},\"shapedefaults\":{\"line\":{\"color\":\"#2a3f5f\"}},\"annotationdefaults\":{\"arrowcolor\":\"#2a3f5f\",\"arrowhead\":0,\"arrowwidth\":1},\"geo\":{\"bgcolor\":\"white\",\"landcolor\":\"#E5ECF6\",\"subunitcolor\":\"white\",\"showland\":true,\"showlakes\":true,\"lakecolor\":\"white\"},\"title\":{\"x\":0.05},\"mapbox\":{\"style\":\"light\"}}},\"xaxis\":{\"anchor\":\"y\",\"domain\":[0.0,1.0],\"title\":{\"text\":\"index\"}},\"yaxis\":{\"anchor\":\"x\",\"domain\":[0.0,1.0],\"title\":{\"text\":\"value\"},\"type\":\"log\"},\"legend\":{\"title\":{\"text\":\"variable\"},\"tracegroupgap\":0},\"title\":{\"text\":\"Checkpoint Values for attn-only-2l (Log scale)\"}},                        {\"responsive\": true}                    ).then(function(){\n",
       "                            \n",
       "var gd = document.getElementById('bbda1289-c9f6-4e46-a17e-45f331537fcc');\n",
       "var x = new MutationObserver(function (mutations, observer) {{\n",
       "        var display = window.getComputedStyle(gd).display;\n",
       "        if (!display || display === 'none') {{\n",
       "            console.log([gd, 'removed!']);\n",
       "            Plotly.purge(gd);\n",
       "            observer.disconnect();\n",
       "        }}\n",
       "}});\n",
       "\n",
       "// Listen for the removal of the full notebook cells\n",
       "var notebookContainer = gd.closest('#notebook-container');\n",
       "if (notebookContainer) {{\n",
       "    x.observe(notebookContainer, {childList: true});\n",
       "}}\n",
       "\n",
       "// Listen for the clearing of the current output cell\n",
       "var outputEl = gd.closest('.output');\n",
       "if (outputEl) {{\n",
       "    x.observe(outputEl, {childList: true});\n",
       "}}\n",
       "\n",
       "                        })                };                            </script>        </div>\n",
       "</body>\n",
       "</html>"
      ]
     },
     "metadata": {},
     "output_type": "display_data"
    },
    {
     "data": {
      "text/html": [
       "<html>\n",
       "<head><meta charset=\"utf-8\" /></head>\n",
       "<body>\n",
       "    <div>            <script src=\"https://cdnjs.cloudflare.com/ajax/libs/mathjax/2.7.5/MathJax.js?config=TeX-AMS-MML_SVG\"></script><script type=\"text/javascript\">if (window.MathJax && window.MathJax.Hub && window.MathJax.Hub.Config) {window.MathJax.Hub.Config({SVG: {font: \"STIX-Web\"}});}</script>                <script type=\"text/javascript\">window.PlotlyConfig = {MathJaxConfig: 'local'};</script>\n",
       "        <script charset=\"utf-8\" src=\"https://cdn.plot.ly/plotly-2.24.1.min.js\"></script>                <div id=\"bdb7fc56-8d04-4cdd-999b-e01f273a8f35\" class=\"plotly-graph-div\" style=\"height:525px; width:100%;\"></div>            <script type=\"text/javascript\">                                    window.PLOTLYENV=window.PLOTLYENV || {};                                    if (document.getElementById(\"bdb7fc56-8d04-4cdd-999b-e01f273a8f35\")) {                    Plotly.newPlot(                        \"bdb7fc56-8d04-4cdd-999b-e01f273a8f35\",                        [{\"hovertemplate\":\"variable=0\\u003cbr\\u003eindex=%{x}\\u003cbr\\u003evalue=%{y}\\u003cextra\\u003e\\u003c\\u002fextra\\u003e\",\"legendgroup\":\"0\",\"line\":{\"color\":\"#636efa\",\"dash\":\"solid\"},\"marker\":{\"symbol\":\"circle\"},\"mode\":\"markers+lines\",\"name\":\"0\",\"orientation\":\"v\",\"showlegend\":true,\"x\":[0,1,2,3,4,5,6,7,8,9,10,11,12,13,14,15,16,17,18,19,20,21,22,23,24,25,26,27,28,29,30,31,32,33,34,35,36,37,38,39,40,41,42,43,44,45,46,47,48,49,50,51,52,53,54,55,56,57,58,59,60,61,62,63,64,65,66,67,68,69,70,71,72,73,74,75,76,77,78,79,80,81,82,83,84,85,86,87,88,89,90,91,92,93,94,95,96,97,98,99,100,101,102,103,104,105,106,107,108,109,110,111,112,113,114,115,116,117,118,119,120,121,122,123,124,125,126,127,128,129,130,131,132,133,134,135,136,137,138,139,140,141,142,143,144,145,146,147,148,149,150,151,152,153,154,155,156,157,158,159,160,161,162],\"xaxis\":\"x\",\"y\":[196608,3342336,6291456,9240576,12386304,15335424,18284544,21233664,24379392,27328512,30277632,45219840,60358656,75300864,90243072,105381888,120324096,135266304,150208512,165347328,180289536,195231744,210370560,225312768,240254976,255197184,270336000,285278208,300220416,360382464,420347904,480313344,540278784,600244224,660209664,720371712,780337152,840302592,900268032,960233472,1020198912,1080360960,1140326400,1200291840,1260257280,1320222720,1380384768,1440350208,1500315648,1560281088,1620246528,1680211968,1740374016,1800339456,1860304896,1920270336,1980235776,2040201216,2100363264,2160328704,2220294144,2280259584,2340225024,2400387072,2460352512,2520317952,2580283392,2640248832,2700214272,2760376320,2820341760,2880307200,2940272640,3000238080,3300261888,3600285696,3900309504,4200333312,4500357120,4800380928,5100208128,5400231936,5700255744,6000279552,6300303360,6600327168,6900350976,7200374784,7500201984,7800225792,8100249600,8400273408,8700297216,9000321024,9300344832,9600368640,9900392448,10200219648,10500243456,10800267264,11100291072,11400314880,11700338688,12000362496,12300386304,12600213504,12900237312,13200261120,13500284928,13800308736,14100332544,14400356352,14700380160,15000207360,15300231168,15600254976,15900278784,16200302592,16500326400,16800350208,17100374016,17400201216,17700225024,18000248832,18300272640,18600296448,18900320256,19200344064,19500367872,19800391680,20100218880,20400242688,20700266496,21000290304,21300314112,21600337920,21900361728,22200385536,22500212736,22800236544,23100260352,23400284160,23700307968,24000331776,24300355584,24600379392,24900206592,25200230400,25500254208,25800278016,26100301824,26400325632,26700349440,27000373248,27300200448,27600224256,27900248064,28200271872,28500295680,28800319488,29100343296,29400367104,29700390912],\"yaxis\":\"y\",\"type\":\"scatter\"}],                        {\"template\":{\"data\":{\"histogram2dcontour\":[{\"type\":\"histogram2dcontour\",\"colorbar\":{\"outlinewidth\":0,\"ticks\":\"\"},\"colorscale\":[[0.0,\"#0d0887\"],[0.1111111111111111,\"#46039f\"],[0.2222222222222222,\"#7201a8\"],[0.3333333333333333,\"#9c179e\"],[0.4444444444444444,\"#bd3786\"],[0.5555555555555556,\"#d8576b\"],[0.6666666666666666,\"#ed7953\"],[0.7777777777777778,\"#fb9f3a\"],[0.8888888888888888,\"#fdca26\"],[1.0,\"#f0f921\"]]}],\"choropleth\":[{\"type\":\"choropleth\",\"colorbar\":{\"outlinewidth\":0,\"ticks\":\"\"}}],\"histogram2d\":[{\"type\":\"histogram2d\",\"colorbar\":{\"outlinewidth\":0,\"ticks\":\"\"},\"colorscale\":[[0.0,\"#0d0887\"],[0.1111111111111111,\"#46039f\"],[0.2222222222222222,\"#7201a8\"],[0.3333333333333333,\"#9c179e\"],[0.4444444444444444,\"#bd3786\"],[0.5555555555555556,\"#d8576b\"],[0.6666666666666666,\"#ed7953\"],[0.7777777777777778,\"#fb9f3a\"],[0.8888888888888888,\"#fdca26\"],[1.0,\"#f0f921\"]]}],\"heatmap\":[{\"type\":\"heatmap\",\"colorbar\":{\"outlinewidth\":0,\"ticks\":\"\"},\"colorscale\":[[0.0,\"#0d0887\"],[0.1111111111111111,\"#46039f\"],[0.2222222222222222,\"#7201a8\"],[0.3333333333333333,\"#9c179e\"],[0.4444444444444444,\"#bd3786\"],[0.5555555555555556,\"#d8576b\"],[0.6666666666666666,\"#ed7953\"],[0.7777777777777778,\"#fb9f3a\"],[0.8888888888888888,\"#fdca26\"],[1.0,\"#f0f921\"]]}],\"heatmapgl\":[{\"type\":\"heatmapgl\",\"colorbar\":{\"outlinewidth\":0,\"ticks\":\"\"},\"colorscale\":[[0.0,\"#0d0887\"],[0.1111111111111111,\"#46039f\"],[0.2222222222222222,\"#7201a8\"],[0.3333333333333333,\"#9c179e\"],[0.4444444444444444,\"#bd3786\"],[0.5555555555555556,\"#d8576b\"],[0.6666666666666666,\"#ed7953\"],[0.7777777777777778,\"#fb9f3a\"],[0.8888888888888888,\"#fdca26\"],[1.0,\"#f0f921\"]]}],\"contourcarpet\":[{\"type\":\"contourcarpet\",\"colorbar\":{\"outlinewidth\":0,\"ticks\":\"\"}}],\"contour\":[{\"type\":\"contour\",\"colorbar\":{\"outlinewidth\":0,\"ticks\":\"\"},\"colorscale\":[[0.0,\"#0d0887\"],[0.1111111111111111,\"#46039f\"],[0.2222222222222222,\"#7201a8\"],[0.3333333333333333,\"#9c179e\"],[0.4444444444444444,\"#bd3786\"],[0.5555555555555556,\"#d8576b\"],[0.6666666666666666,\"#ed7953\"],[0.7777777777777778,\"#fb9f3a\"],[0.8888888888888888,\"#fdca26\"],[1.0,\"#f0f921\"]]}],\"surface\":[{\"type\":\"surface\",\"colorbar\":{\"outlinewidth\":0,\"ticks\":\"\"},\"colorscale\":[[0.0,\"#0d0887\"],[0.1111111111111111,\"#46039f\"],[0.2222222222222222,\"#7201a8\"],[0.3333333333333333,\"#9c179e\"],[0.4444444444444444,\"#bd3786\"],[0.5555555555555556,\"#d8576b\"],[0.6666666666666666,\"#ed7953\"],[0.7777777777777778,\"#fb9f3a\"],[0.8888888888888888,\"#fdca26\"],[1.0,\"#f0f921\"]]}],\"mesh3d\":[{\"type\":\"mesh3d\",\"colorbar\":{\"outlinewidth\":0,\"ticks\":\"\"}}],\"scatter\":[{\"fillpattern\":{\"fillmode\":\"overlay\",\"size\":10,\"solidity\":0.2},\"type\":\"scatter\"}],\"parcoords\":[{\"type\":\"parcoords\",\"line\":{\"colorbar\":{\"outlinewidth\":0,\"ticks\":\"\"}}}],\"scatterpolargl\":[{\"type\":\"scatterpolargl\",\"marker\":{\"colorbar\":{\"outlinewidth\":0,\"ticks\":\"\"}}}],\"bar\":[{\"error_x\":{\"color\":\"#2a3f5f\"},\"error_y\":{\"color\":\"#2a3f5f\"},\"marker\":{\"line\":{\"color\":\"#E5ECF6\",\"width\":0.5},\"pattern\":{\"fillmode\":\"overlay\",\"size\":10,\"solidity\":0.2}},\"type\":\"bar\"}],\"scattergeo\":[{\"type\":\"scattergeo\",\"marker\":{\"colorbar\":{\"outlinewidth\":0,\"ticks\":\"\"}}}],\"scatterpolar\":[{\"type\":\"scatterpolar\",\"marker\":{\"colorbar\":{\"outlinewidth\":0,\"ticks\":\"\"}}}],\"histogram\":[{\"marker\":{\"pattern\":{\"fillmode\":\"overlay\",\"size\":10,\"solidity\":0.2}},\"type\":\"histogram\"}],\"scattergl\":[{\"type\":\"scattergl\",\"marker\":{\"colorbar\":{\"outlinewidth\":0,\"ticks\":\"\"}}}],\"scatter3d\":[{\"type\":\"scatter3d\",\"line\":{\"colorbar\":{\"outlinewidth\":0,\"ticks\":\"\"}},\"marker\":{\"colorbar\":{\"outlinewidth\":0,\"ticks\":\"\"}}}],\"scattermapbox\":[{\"type\":\"scattermapbox\",\"marker\":{\"colorbar\":{\"outlinewidth\":0,\"ticks\":\"\"}}}],\"scatterternary\":[{\"type\":\"scatterternary\",\"marker\":{\"colorbar\":{\"outlinewidth\":0,\"ticks\":\"\"}}}],\"scattercarpet\":[{\"type\":\"scattercarpet\",\"marker\":{\"colorbar\":{\"outlinewidth\":0,\"ticks\":\"\"}}}],\"carpet\":[{\"aaxis\":{\"endlinecolor\":\"#2a3f5f\",\"gridcolor\":\"white\",\"linecolor\":\"white\",\"minorgridcolor\":\"white\",\"startlinecolor\":\"#2a3f5f\"},\"baxis\":{\"endlinecolor\":\"#2a3f5f\",\"gridcolor\":\"white\",\"linecolor\":\"white\",\"minorgridcolor\":\"white\",\"startlinecolor\":\"#2a3f5f\"},\"type\":\"carpet\"}],\"table\":[{\"cells\":{\"fill\":{\"color\":\"#EBF0F8\"},\"line\":{\"color\":\"white\"}},\"header\":{\"fill\":{\"color\":\"#C8D4E3\"},\"line\":{\"color\":\"white\"}},\"type\":\"table\"}],\"barpolar\":[{\"marker\":{\"line\":{\"color\":\"#E5ECF6\",\"width\":0.5},\"pattern\":{\"fillmode\":\"overlay\",\"size\":10,\"solidity\":0.2}},\"type\":\"barpolar\"}],\"pie\":[{\"automargin\":true,\"type\":\"pie\"}]},\"layout\":{\"autotypenumbers\":\"strict\",\"colorway\":[\"#636efa\",\"#EF553B\",\"#00cc96\",\"#ab63fa\",\"#FFA15A\",\"#19d3f3\",\"#FF6692\",\"#B6E880\",\"#FF97FF\",\"#FECB52\"],\"font\":{\"color\":\"#2a3f5f\"},\"hovermode\":\"closest\",\"hoverlabel\":{\"align\":\"left\"},\"paper_bgcolor\":\"white\",\"plot_bgcolor\":\"#E5ECF6\",\"polar\":{\"bgcolor\":\"#E5ECF6\",\"angularaxis\":{\"gridcolor\":\"white\",\"linecolor\":\"white\",\"ticks\":\"\"},\"radialaxis\":{\"gridcolor\":\"white\",\"linecolor\":\"white\",\"ticks\":\"\"}},\"ternary\":{\"bgcolor\":\"#E5ECF6\",\"aaxis\":{\"gridcolor\":\"white\",\"linecolor\":\"white\",\"ticks\":\"\"},\"baxis\":{\"gridcolor\":\"white\",\"linecolor\":\"white\",\"ticks\":\"\"},\"caxis\":{\"gridcolor\":\"white\",\"linecolor\":\"white\",\"ticks\":\"\"}},\"coloraxis\":{\"colorbar\":{\"outlinewidth\":0,\"ticks\":\"\"}},\"colorscale\":{\"sequential\":[[0.0,\"#0d0887\"],[0.1111111111111111,\"#46039f\"],[0.2222222222222222,\"#7201a8\"],[0.3333333333333333,\"#9c179e\"],[0.4444444444444444,\"#bd3786\"],[0.5555555555555556,\"#d8576b\"],[0.6666666666666666,\"#ed7953\"],[0.7777777777777778,\"#fb9f3a\"],[0.8888888888888888,\"#fdca26\"],[1.0,\"#f0f921\"]],\"sequentialminus\":[[0.0,\"#0d0887\"],[0.1111111111111111,\"#46039f\"],[0.2222222222222222,\"#7201a8\"],[0.3333333333333333,\"#9c179e\"],[0.4444444444444444,\"#bd3786\"],[0.5555555555555556,\"#d8576b\"],[0.6666666666666666,\"#ed7953\"],[0.7777777777777778,\"#fb9f3a\"],[0.8888888888888888,\"#fdca26\"],[1.0,\"#f0f921\"]],\"diverging\":[[0,\"#8e0152\"],[0.1,\"#c51b7d\"],[0.2,\"#de77ae\"],[0.3,\"#f1b6da\"],[0.4,\"#fde0ef\"],[0.5,\"#f7f7f7\"],[0.6,\"#e6f5d0\"],[0.7,\"#b8e186\"],[0.8,\"#7fbc41\"],[0.9,\"#4d9221\"],[1,\"#276419\"]]},\"xaxis\":{\"gridcolor\":\"white\",\"linecolor\":\"white\",\"ticks\":\"\",\"title\":{\"standoff\":15},\"zerolinecolor\":\"white\",\"automargin\":true,\"zerolinewidth\":2},\"yaxis\":{\"gridcolor\":\"white\",\"linecolor\":\"white\",\"ticks\":\"\",\"title\":{\"standoff\":15},\"zerolinecolor\":\"white\",\"automargin\":true,\"zerolinewidth\":2},\"scene\":{\"xaxis\":{\"backgroundcolor\":\"#E5ECF6\",\"gridcolor\":\"white\",\"linecolor\":\"white\",\"showbackground\":true,\"ticks\":\"\",\"zerolinecolor\":\"white\",\"gridwidth\":2},\"yaxis\":{\"backgroundcolor\":\"#E5ECF6\",\"gridcolor\":\"white\",\"linecolor\":\"white\",\"showbackground\":true,\"ticks\":\"\",\"zerolinecolor\":\"white\",\"gridwidth\":2},\"zaxis\":{\"backgroundcolor\":\"#E5ECF6\",\"gridcolor\":\"white\",\"linecolor\":\"white\",\"showbackground\":true,\"ticks\":\"\",\"zerolinecolor\":\"white\",\"gridwidth\":2}},\"shapedefaults\":{\"line\":{\"color\":\"#2a3f5f\"}},\"annotationdefaults\":{\"arrowcolor\":\"#2a3f5f\",\"arrowhead\":0,\"arrowwidth\":1},\"geo\":{\"bgcolor\":\"white\",\"landcolor\":\"#E5ECF6\",\"subunitcolor\":\"white\",\"showland\":true,\"showlakes\":true,\"lakecolor\":\"white\"},\"title\":{\"x\":0.05},\"mapbox\":{\"style\":\"light\"}}},\"xaxis\":{\"anchor\":\"y\",\"domain\":[0.0,1.0],\"title\":{\"text\":\"index\"}},\"yaxis\":{\"anchor\":\"x\",\"domain\":[0.0,1.0],\"title\":{\"text\":\"value\"},\"type\":\"log\"},\"legend\":{\"title\":{\"text\":\"variable\"},\"tracegroupgap\":0},\"title\":{\"text\":\"Checkpoint Values for solu-12l (Log scale)\"}},                        {\"responsive\": true}                    ).then(function(){\n",
       "                            \n",
       "var gd = document.getElementById('bdb7fc56-8d04-4cdd-999b-e01f273a8f35');\n",
       "var x = new MutationObserver(function (mutations, observer) {{\n",
       "        var display = window.getComputedStyle(gd).display;\n",
       "        if (!display || display === 'none') {{\n",
       "            console.log([gd, 'removed!']);\n",
       "            Plotly.purge(gd);\n",
       "            observer.disconnect();\n",
       "        }}\n",
       "}});\n",
       "\n",
       "// Listen for the removal of the full notebook cells\n",
       "var notebookContainer = gd.closest('#notebook-container');\n",
       "if (notebookContainer) {{\n",
       "    x.observe(notebookContainer, {childList: true});\n",
       "}}\n",
       "\n",
       "// Listen for the clearing of the current output cell\n",
       "var outputEl = gd.closest('.output');\n",
       "if (outputEl) {{\n",
       "    x.observe(outputEl, {childList: true});\n",
       "}}\n",
       "\n",
       "                        })                };                            </script>        </div>\n",
       "</body>\n",
       "</html>"
      ]
     },
     "metadata": {},
     "output_type": "display_data"
    },
    {
     "data": {
      "text/html": [
       "<html>\n",
       "<head><meta charset=\"utf-8\" /></head>\n",
       "<body>\n",
       "    <div>            <script src=\"https://cdnjs.cloudflare.com/ajax/libs/mathjax/2.7.5/MathJax.js?config=TeX-AMS-MML_SVG\"></script><script type=\"text/javascript\">if (window.MathJax && window.MathJax.Hub && window.MathJax.Hub.Config) {window.MathJax.Hub.Config({SVG: {font: \"STIX-Web\"}});}</script>                <script type=\"text/javascript\">window.PlotlyConfig = {MathJaxConfig: 'local'};</script>\n",
       "        <script charset=\"utf-8\" src=\"https://cdn.plot.ly/plotly-2.24.1.min.js\"></script>                <div id=\"c6b7be38-96c2-49e7-b273-9fb5ce5516b4\" class=\"plotly-graph-div\" style=\"height:525px; width:100%;\"></div>            <script type=\"text/javascript\">                                    window.PLOTLYENV=window.PLOTLYENV || {};                                    if (document.getElementById(\"c6b7be38-96c2-49e7-b273-9fb5ce5516b4\")) {                    Plotly.newPlot(                        \"c6b7be38-96c2-49e7-b273-9fb5ce5516b4\",                        [{\"hovertemplate\":\"variable=0\\u003cbr\\u003eindex=%{x}\\u003cbr\\u003evalue=%{y}\\u003cextra\\u003e\\u003c\\u002fextra\\u003e\",\"legendgroup\":\"0\",\"line\":{\"color\":\"#636efa\",\"dash\":\"solid\"},\"marker\":{\"symbol\":\"circle\"},\"mode\":\"markers+lines\",\"name\":\"0\",\"orientation\":\"v\",\"showlegend\":true,\"x\":[0,1,2,3,4,5,6,7,8,9,10,11,12,13,14,15,16,17,18,19,20,21,22,23,24,25,26,27,28,29,30,31,32,33,34,35,36,37,38,39,40,41,42,43,44,45,46,47,48,49,50,51,52,53,54,55,56,57,58,59,60,61,62,63,64,65,66,67,68,69,70,71,72,73,74,75,76,77,78,79,80,81,82,83,84,85,86,87,88,89,90,91,92,93,94,95,96,97,98,99,100,101,102,103,104,105,106,107,108,109,110,111,112,113,114,115,116,117,118,119,120,121,122,123,124,125,126,127,128,129,130,131,132,133,134,135,136,137,138,139,140,141,142,143,144,145,146,147,148,149,150,151,152,153,154,155,156,157,158,159,160,161,162,163,164,165,166,167,168,169,170,171,172,173,174,175,176,177,178,179,180,181,182,183,184,185,186,187,188,189,190,191,192,193,194,195,196,197,198,199,200,201,202,203,204,205,206,207,208,209,210,211,212,213,214,215,216,217,218,219,220,221,222,223,224,225,226,227,228,229,230,231,232,233,234,235,236,237,238,239,240,241,242,243,244,245,246,247,248,249,250,251,252,253,254,255,256,257,258,259,260,261,262,263,264,265,266,267,268,269,270,271,272,273,274,275,276,277,278,279,280,281,282,283,284,285,286,287,288,289,290,291,292,293,294,295,296,297,298,299,300,301,302,303,304,305,306,307,308,309,310,311,312,313,314,315,316,317,318,319,320,321,322,323,324,325,326,327,328,329,330,331,332,333,334,335,336,337,338,339,340,341,342,343,344,345,346,347,348,349,350,351,352,353,354,355,356,357,358,359,360,361,362,363,364,365,366,367,368,369,370,371,372,373,374,375,376,377,378,379,380,381,382,383,384,385,386,387,388,389,390,391,392,393,394,395,396,397,398,399,400,401,402,403,404,405,406,407,408,409,410,411,412,413,414,415,416,417,418,419,420,421,422,423,424,425,426,427,428,429,430,431,432,433,434,435,436,437,438,439,440,441,442,443,444,445,446,447,448,449,450,451,452,453,454,455,456,457,458,459,460,461,462,463,464,465,466,467,468,469,470,471,472,473,474,475,476,477,478,479,480,481,482,483,484,485,486,487,488,489,490,491,492,493,494,495,496,497,498,499,500,501,502,503,504,505,506,507,508,509,510,511,512,513,514,515,516,517,518,519,520,521,522,523,524,525,526,527,528,529,530,531,532,533,534,535,536,537,538,539,540,541,542,543,544,545,546,547,548,549,550,551,552,553,554,555,556,557,558,559,560,561,562,563,564,565,566,567,568,569,570,571,572,573,574,575,576,577,578,579,580,581,582,583,584,585,586,587,588,589,590,591,592,593,594,595,596,597,598,599,600,601,602,603,604,605,606,607,608],\"xaxis\":\"x\",\"y\":[0,10,20,30,40,50,60,70,80,90,100,150,200,250,300,350,400,450,500,550,600,650,700,750,800,850,900,950,1000,1050,1100,1150,1200,1250,1300,1350,1400,1450,1500,1550,1600,1650,1700,1750,1800,1850,1900,1950,2000,2100,2200,2300,2400,2500,2600,2700,2800,2900,3000,3100,3200,3300,3400,3500,3600,3700,3800,3900,4000,4100,4200,4300,4400,4500,4600,4700,4800,4900,5000,5100,5200,5300,5400,5500,5600,5700,5800,5900,6000,6100,6200,6300,6400,6500,6600,6700,6800,6900,7000,7100,7200,7300,7400,7500,7600,7700,7800,7900,8000,8100,8200,8300,8400,8500,8600,8700,8800,8900,9000,9100,9200,9300,9400,9500,9600,9700,9800,9900,10000,10100,10200,10300,10400,10500,10600,10700,10800,10900,11000,11100,11200,11300,11400,11500,11600,11700,11800,11900,12000,12100,12200,12300,12400,12500,12600,12700,12800,12900,13000,13100,13200,13300,13400,13500,13600,13700,13800,13900,14000,14100,14200,14300,14400,14500,14600,14700,14800,14900,15000,15100,15200,15300,15400,15500,15600,15700,15800,15900,16000,16100,16200,16300,16400,16500,16600,16700,16800,16900,17000,17100,17200,17300,17400,17500,17600,17700,17800,17900,18000,18100,18200,18300,18400,18500,18600,18700,18800,18900,19000,19100,19200,19300,19400,19500,19600,19700,19800,19900,20000,21000,22000,23000,24000,25000,26000,27000,28000,29000,30000,31000,32000,33000,34000,35000,36000,37000,38000,39000,40000,41000,42000,43000,44000,45000,46000,47000,48000,49000,50000,51000,52000,53000,54000,55000,56000,57000,58000,59000,60000,61000,62000,63000,64000,65000,66000,67000,68000,69000,70000,71000,72000,73000,74000,75000,76000,77000,78000,79000,80000,81000,82000,83000,84000,85000,86000,87000,88000,89000,90000,91000,92000,93000,94000,95000,96000,97000,98000,99000,100000,101000,102000,103000,104000,105000,106000,107000,108000,109000,110000,111000,112000,113000,114000,115000,116000,117000,118000,119000,120000,121000,122000,123000,124000,125000,126000,127000,128000,129000,130000,131000,132000,133000,134000,135000,136000,137000,138000,139000,140000,141000,142000,143000,144000,145000,146000,147000,148000,149000,150000,151000,152000,153000,154000,155000,156000,157000,158000,159000,160000,161000,162000,163000,164000,165000,166000,167000,168000,169000,170000,171000,172000,173000,174000,175000,176000,177000,178000,179000,180000,181000,182000,183000,184000,185000,186000,187000,188000,189000,190000,191000,192000,193000,194000,195000,196000,197000,198000,199000,200000,201000,202000,203000,204000,205000,206000,207000,208000,209000,210000,211000,212000,213000,214000,215000,216000,217000,218000,219000,220000,221000,222000,223000,224000,225000,226000,227000,228000,229000,230000,231000,232000,233000,234000,235000,236000,237000,238000,239000,240000,241000,242000,243000,244000,245000,246000,247000,248000,249000,250000,251000,252000,253000,254000,255000,256000,257000,258000,259000,260000,261000,262000,263000,264000,265000,266000,267000,268000,269000,270000,271000,272000,273000,274000,275000,276000,277000,278000,279000,280000,281000,282000,283000,284000,285000,286000,287000,288000,289000,290000,291000,292000,293000,294000,295000,296000,297000,298000,299000,300000,301000,302000,303000,304000,305000,306000,307000,308000,309000,310000,311000,312000,313000,314000,315000,316000,317000,318000,319000,320000,321000,322000,323000,324000,325000,326000,327000,328000,329000,330000,331000,332000,333000,334000,335000,336000,337000,338000,339000,340000,341000,342000,343000,344000,345000,346000,347000,348000,349000,350000,351000,352000,353000,354000,355000,356000,357000,358000,359000,360000,361000,362000,363000,364000,365000,366000,367000,368000,369000,370000,371000,372000,373000,374000,375000,376000,377000,378000,379000,380000,381000,382000,383000,384000,385000,386000,387000,388000,389000,390000,391000,392000,393000,394000,395000,396000,397000,398000,399000,400000],\"yaxis\":\"y\",\"type\":\"scatter\"}],                        {\"template\":{\"data\":{\"histogram2dcontour\":[{\"type\":\"histogram2dcontour\",\"colorbar\":{\"outlinewidth\":0,\"ticks\":\"\"},\"colorscale\":[[0.0,\"#0d0887\"],[0.1111111111111111,\"#46039f\"],[0.2222222222222222,\"#7201a8\"],[0.3333333333333333,\"#9c179e\"],[0.4444444444444444,\"#bd3786\"],[0.5555555555555556,\"#d8576b\"],[0.6666666666666666,\"#ed7953\"],[0.7777777777777778,\"#fb9f3a\"],[0.8888888888888888,\"#fdca26\"],[1.0,\"#f0f921\"]]}],\"choropleth\":[{\"type\":\"choropleth\",\"colorbar\":{\"outlinewidth\":0,\"ticks\":\"\"}}],\"histogram2d\":[{\"type\":\"histogram2d\",\"colorbar\":{\"outlinewidth\":0,\"ticks\":\"\"},\"colorscale\":[[0.0,\"#0d0887\"],[0.1111111111111111,\"#46039f\"],[0.2222222222222222,\"#7201a8\"],[0.3333333333333333,\"#9c179e\"],[0.4444444444444444,\"#bd3786\"],[0.5555555555555556,\"#d8576b\"],[0.6666666666666666,\"#ed7953\"],[0.7777777777777778,\"#fb9f3a\"],[0.8888888888888888,\"#fdca26\"],[1.0,\"#f0f921\"]]}],\"heatmap\":[{\"type\":\"heatmap\",\"colorbar\":{\"outlinewidth\":0,\"ticks\":\"\"},\"colorscale\":[[0.0,\"#0d0887\"],[0.1111111111111111,\"#46039f\"],[0.2222222222222222,\"#7201a8\"],[0.3333333333333333,\"#9c179e\"],[0.4444444444444444,\"#bd3786\"],[0.5555555555555556,\"#d8576b\"],[0.6666666666666666,\"#ed7953\"],[0.7777777777777778,\"#fb9f3a\"],[0.8888888888888888,\"#fdca26\"],[1.0,\"#f0f921\"]]}],\"heatmapgl\":[{\"type\":\"heatmapgl\",\"colorbar\":{\"outlinewidth\":0,\"ticks\":\"\"},\"colorscale\":[[0.0,\"#0d0887\"],[0.1111111111111111,\"#46039f\"],[0.2222222222222222,\"#7201a8\"],[0.3333333333333333,\"#9c179e\"],[0.4444444444444444,\"#bd3786\"],[0.5555555555555556,\"#d8576b\"],[0.6666666666666666,\"#ed7953\"],[0.7777777777777778,\"#fb9f3a\"],[0.8888888888888888,\"#fdca26\"],[1.0,\"#f0f921\"]]}],\"contourcarpet\":[{\"type\":\"contourcarpet\",\"colorbar\":{\"outlinewidth\":0,\"ticks\":\"\"}}],\"contour\":[{\"type\":\"contour\",\"colorbar\":{\"outlinewidth\":0,\"ticks\":\"\"},\"colorscale\":[[0.0,\"#0d0887\"],[0.1111111111111111,\"#46039f\"],[0.2222222222222222,\"#7201a8\"],[0.3333333333333333,\"#9c179e\"],[0.4444444444444444,\"#bd3786\"],[0.5555555555555556,\"#d8576b\"],[0.6666666666666666,\"#ed7953\"],[0.7777777777777778,\"#fb9f3a\"],[0.8888888888888888,\"#fdca26\"],[1.0,\"#f0f921\"]]}],\"surface\":[{\"type\":\"surface\",\"colorbar\":{\"outlinewidth\":0,\"ticks\":\"\"},\"colorscale\":[[0.0,\"#0d0887\"],[0.1111111111111111,\"#46039f\"],[0.2222222222222222,\"#7201a8\"],[0.3333333333333333,\"#9c179e\"],[0.4444444444444444,\"#bd3786\"],[0.5555555555555556,\"#d8576b\"],[0.6666666666666666,\"#ed7953\"],[0.7777777777777778,\"#fb9f3a\"],[0.8888888888888888,\"#fdca26\"],[1.0,\"#f0f921\"]]}],\"mesh3d\":[{\"type\":\"mesh3d\",\"colorbar\":{\"outlinewidth\":0,\"ticks\":\"\"}}],\"scatter\":[{\"fillpattern\":{\"fillmode\":\"overlay\",\"size\":10,\"solidity\":0.2},\"type\":\"scatter\"}],\"parcoords\":[{\"type\":\"parcoords\",\"line\":{\"colorbar\":{\"outlinewidth\":0,\"ticks\":\"\"}}}],\"scatterpolargl\":[{\"type\":\"scatterpolargl\",\"marker\":{\"colorbar\":{\"outlinewidth\":0,\"ticks\":\"\"}}}],\"bar\":[{\"error_x\":{\"color\":\"#2a3f5f\"},\"error_y\":{\"color\":\"#2a3f5f\"},\"marker\":{\"line\":{\"color\":\"#E5ECF6\",\"width\":0.5},\"pattern\":{\"fillmode\":\"overlay\",\"size\":10,\"solidity\":0.2}},\"type\":\"bar\"}],\"scattergeo\":[{\"type\":\"scattergeo\",\"marker\":{\"colorbar\":{\"outlinewidth\":0,\"ticks\":\"\"}}}],\"scatterpolar\":[{\"type\":\"scatterpolar\",\"marker\":{\"colorbar\":{\"outlinewidth\":0,\"ticks\":\"\"}}}],\"histogram\":[{\"marker\":{\"pattern\":{\"fillmode\":\"overlay\",\"size\":10,\"solidity\":0.2}},\"type\":\"histogram\"}],\"scattergl\":[{\"type\":\"scattergl\",\"marker\":{\"colorbar\":{\"outlinewidth\":0,\"ticks\":\"\"}}}],\"scatter3d\":[{\"type\":\"scatter3d\",\"line\":{\"colorbar\":{\"outlinewidth\":0,\"ticks\":\"\"}},\"marker\":{\"colorbar\":{\"outlinewidth\":0,\"ticks\":\"\"}}}],\"scattermapbox\":[{\"type\":\"scattermapbox\",\"marker\":{\"colorbar\":{\"outlinewidth\":0,\"ticks\":\"\"}}}],\"scatterternary\":[{\"type\":\"scatterternary\",\"marker\":{\"colorbar\":{\"outlinewidth\":0,\"ticks\":\"\"}}}],\"scattercarpet\":[{\"type\":\"scattercarpet\",\"marker\":{\"colorbar\":{\"outlinewidth\":0,\"ticks\":\"\"}}}],\"carpet\":[{\"aaxis\":{\"endlinecolor\":\"#2a3f5f\",\"gridcolor\":\"white\",\"linecolor\":\"white\",\"minorgridcolor\":\"white\",\"startlinecolor\":\"#2a3f5f\"},\"baxis\":{\"endlinecolor\":\"#2a3f5f\",\"gridcolor\":\"white\",\"linecolor\":\"white\",\"minorgridcolor\":\"white\",\"startlinecolor\":\"#2a3f5f\"},\"type\":\"carpet\"}],\"table\":[{\"cells\":{\"fill\":{\"color\":\"#EBF0F8\"},\"line\":{\"color\":\"white\"}},\"header\":{\"fill\":{\"color\":\"#C8D4E3\"},\"line\":{\"color\":\"white\"}},\"type\":\"table\"}],\"barpolar\":[{\"marker\":{\"line\":{\"color\":\"#E5ECF6\",\"width\":0.5},\"pattern\":{\"fillmode\":\"overlay\",\"size\":10,\"solidity\":0.2}},\"type\":\"barpolar\"}],\"pie\":[{\"automargin\":true,\"type\":\"pie\"}]},\"layout\":{\"autotypenumbers\":\"strict\",\"colorway\":[\"#636efa\",\"#EF553B\",\"#00cc96\",\"#ab63fa\",\"#FFA15A\",\"#19d3f3\",\"#FF6692\",\"#B6E880\",\"#FF97FF\",\"#FECB52\"],\"font\":{\"color\":\"#2a3f5f\"},\"hovermode\":\"closest\",\"hoverlabel\":{\"align\":\"left\"},\"paper_bgcolor\":\"white\",\"plot_bgcolor\":\"#E5ECF6\",\"polar\":{\"bgcolor\":\"#E5ECF6\",\"angularaxis\":{\"gridcolor\":\"white\",\"linecolor\":\"white\",\"ticks\":\"\"},\"radialaxis\":{\"gridcolor\":\"white\",\"linecolor\":\"white\",\"ticks\":\"\"}},\"ternary\":{\"bgcolor\":\"#E5ECF6\",\"aaxis\":{\"gridcolor\":\"white\",\"linecolor\":\"white\",\"ticks\":\"\"},\"baxis\":{\"gridcolor\":\"white\",\"linecolor\":\"white\",\"ticks\":\"\"},\"caxis\":{\"gridcolor\":\"white\",\"linecolor\":\"white\",\"ticks\":\"\"}},\"coloraxis\":{\"colorbar\":{\"outlinewidth\":0,\"ticks\":\"\"}},\"colorscale\":{\"sequential\":[[0.0,\"#0d0887\"],[0.1111111111111111,\"#46039f\"],[0.2222222222222222,\"#7201a8\"],[0.3333333333333333,\"#9c179e\"],[0.4444444444444444,\"#bd3786\"],[0.5555555555555556,\"#d8576b\"],[0.6666666666666666,\"#ed7953\"],[0.7777777777777778,\"#fb9f3a\"],[0.8888888888888888,\"#fdca26\"],[1.0,\"#f0f921\"]],\"sequentialminus\":[[0.0,\"#0d0887\"],[0.1111111111111111,\"#46039f\"],[0.2222222222222222,\"#7201a8\"],[0.3333333333333333,\"#9c179e\"],[0.4444444444444444,\"#bd3786\"],[0.5555555555555556,\"#d8576b\"],[0.6666666666666666,\"#ed7953\"],[0.7777777777777778,\"#fb9f3a\"],[0.8888888888888888,\"#fdca26\"],[1.0,\"#f0f921\"]],\"diverging\":[[0,\"#8e0152\"],[0.1,\"#c51b7d\"],[0.2,\"#de77ae\"],[0.3,\"#f1b6da\"],[0.4,\"#fde0ef\"],[0.5,\"#f7f7f7\"],[0.6,\"#e6f5d0\"],[0.7,\"#b8e186\"],[0.8,\"#7fbc41\"],[0.9,\"#4d9221\"],[1,\"#276419\"]]},\"xaxis\":{\"gridcolor\":\"white\",\"linecolor\":\"white\",\"ticks\":\"\",\"title\":{\"standoff\":15},\"zerolinecolor\":\"white\",\"automargin\":true,\"zerolinewidth\":2},\"yaxis\":{\"gridcolor\":\"white\",\"linecolor\":\"white\",\"ticks\":\"\",\"title\":{\"standoff\":15},\"zerolinecolor\":\"white\",\"automargin\":true,\"zerolinewidth\":2},\"scene\":{\"xaxis\":{\"backgroundcolor\":\"#E5ECF6\",\"gridcolor\":\"white\",\"linecolor\":\"white\",\"showbackground\":true,\"ticks\":\"\",\"zerolinecolor\":\"white\",\"gridwidth\":2},\"yaxis\":{\"backgroundcolor\":\"#E5ECF6\",\"gridcolor\":\"white\",\"linecolor\":\"white\",\"showbackground\":true,\"ticks\":\"\",\"zerolinecolor\":\"white\",\"gridwidth\":2},\"zaxis\":{\"backgroundcolor\":\"#E5ECF6\",\"gridcolor\":\"white\",\"linecolor\":\"white\",\"showbackground\":true,\"ticks\":\"\",\"zerolinecolor\":\"white\",\"gridwidth\":2}},\"shapedefaults\":{\"line\":{\"color\":\"#2a3f5f\"}},\"annotationdefaults\":{\"arrowcolor\":\"#2a3f5f\",\"arrowhead\":0,\"arrowwidth\":1},\"geo\":{\"bgcolor\":\"white\",\"landcolor\":\"#E5ECF6\",\"subunitcolor\":\"white\",\"showland\":true,\"showlakes\":true,\"lakecolor\":\"white\"},\"title\":{\"x\":0.05},\"mapbox\":{\"style\":\"light\"}}},\"xaxis\":{\"anchor\":\"y\",\"domain\":[0.0,1.0],\"title\":{\"text\":\"index\"}},\"yaxis\":{\"anchor\":\"x\",\"domain\":[0.0,1.0],\"title\":{\"text\":\"value\"},\"type\":\"log\"},\"legend\":{\"title\":{\"text\":\"variable\"},\"tracegroupgap\":0},\"title\":{\"text\":\"Checkpoint Values for stanford-gpt2-small-a (Log scale)\"}},                        {\"responsive\": true}                    ).then(function(){\n",
       "                            \n",
       "var gd = document.getElementById('c6b7be38-96c2-49e7-b273-9fb5ce5516b4');\n",
       "var x = new MutationObserver(function (mutations, observer) {{\n",
       "        var display = window.getComputedStyle(gd).display;\n",
       "        if (!display || display === 'none') {{\n",
       "            console.log([gd, 'removed!']);\n",
       "            Plotly.purge(gd);\n",
       "            observer.disconnect();\n",
       "        }}\n",
       "}});\n",
       "\n",
       "// Listen for the removal of the full notebook cells\n",
       "var notebookContainer = gd.closest('#notebook-container');\n",
       "if (notebookContainer) {{\n",
       "    x.observe(notebookContainer, {childList: true});\n",
       "}}\n",
       "\n",
       "// Listen for the clearing of the current output cell\n",
       "var outputEl = gd.closest('.output');\n",
       "if (outputEl) {{\n",
       "    x.observe(outputEl, {childList: true});\n",
       "}}\n",
       "\n",
       "                        })                };                            </script>        </div>\n",
       "</body>\n",
       "</html>"
      ]
     },
     "metadata": {},
     "output_type": "display_data"
    },
    {
     "data": {
      "text/html": [
       "<html>\n",
       "<head><meta charset=\"utf-8\" /></head>\n",
       "<body>\n",
       "    <div>            <script src=\"https://cdnjs.cloudflare.com/ajax/libs/mathjax/2.7.5/MathJax.js?config=TeX-AMS-MML_SVG\"></script><script type=\"text/javascript\">if (window.MathJax && window.MathJax.Hub && window.MathJax.Hub.Config) {window.MathJax.Hub.Config({SVG: {font: \"STIX-Web\"}});}</script>                <script type=\"text/javascript\">window.PlotlyConfig = {MathJaxConfig: 'local'};</script>\n",
       "        <script charset=\"utf-8\" src=\"https://cdn.plot.ly/plotly-2.24.1.min.js\"></script>                <div id=\"c229ce70-7a7f-4549-843d-58dcefab650c\" class=\"plotly-graph-div\" style=\"height:525px; width:100%;\"></div>            <script type=\"text/javascript\">                                    window.PLOTLYENV=window.PLOTLYENV || {};                                    if (document.getElementById(\"c229ce70-7a7f-4549-843d-58dcefab650c\")) {                    Plotly.newPlot(                        \"c229ce70-7a7f-4549-843d-58dcefab650c\",                        [{\"hovertemplate\":\"variable=0\\u003cbr\\u003eindex=%{x}\\u003cbr\\u003evalue=%{y}\\u003cextra\\u003e\\u003c\\u002fextra\\u003e\",\"legendgroup\":\"0\",\"line\":{\"color\":\"#636efa\",\"dash\":\"solid\"},\"marker\":{\"symbol\":\"circle\"},\"mode\":\"markers+lines\",\"name\":\"0\",\"orientation\":\"v\",\"showlegend\":true,\"x\":[0,1,2,3,4,5,6,7,8,9,10,11,12,13,14,15,16,17,18,19,20,21,22,23,24,25,26,27,28,29,30,31,32,33,34,35,36,37,38,39,40,41,42,43,44,45,46,47,48,49],\"xaxis\":\"x\",\"y\":[832,1664,2496,3328,4160,4992,5824,6656,7488,8320,9152,9984,10816,11648,12480,13312,14144,14976,15808,16640,17472,18304,19136,19968,20800,21632,22464,23296,24128,24960,25792,26624,27456,28288,29120,29952,30784,31616,32448,33280,34112,34944,35776,36608,37440,38272,39104,39936,40768,41600],\"yaxis\":\"y\",\"type\":\"scatter\"}],                        {\"template\":{\"data\":{\"histogram2dcontour\":[{\"type\":\"histogram2dcontour\",\"colorbar\":{\"outlinewidth\":0,\"ticks\":\"\"},\"colorscale\":[[0.0,\"#0d0887\"],[0.1111111111111111,\"#46039f\"],[0.2222222222222222,\"#7201a8\"],[0.3333333333333333,\"#9c179e\"],[0.4444444444444444,\"#bd3786\"],[0.5555555555555556,\"#d8576b\"],[0.6666666666666666,\"#ed7953\"],[0.7777777777777778,\"#fb9f3a\"],[0.8888888888888888,\"#fdca26\"],[1.0,\"#f0f921\"]]}],\"choropleth\":[{\"type\":\"choropleth\",\"colorbar\":{\"outlinewidth\":0,\"ticks\":\"\"}}],\"histogram2d\":[{\"type\":\"histogram2d\",\"colorbar\":{\"outlinewidth\":0,\"ticks\":\"\"},\"colorscale\":[[0.0,\"#0d0887\"],[0.1111111111111111,\"#46039f\"],[0.2222222222222222,\"#7201a8\"],[0.3333333333333333,\"#9c179e\"],[0.4444444444444444,\"#bd3786\"],[0.5555555555555556,\"#d8576b\"],[0.6666666666666666,\"#ed7953\"],[0.7777777777777778,\"#fb9f3a\"],[0.8888888888888888,\"#fdca26\"],[1.0,\"#f0f921\"]]}],\"heatmap\":[{\"type\":\"heatmap\",\"colorbar\":{\"outlinewidth\":0,\"ticks\":\"\"},\"colorscale\":[[0.0,\"#0d0887\"],[0.1111111111111111,\"#46039f\"],[0.2222222222222222,\"#7201a8\"],[0.3333333333333333,\"#9c179e\"],[0.4444444444444444,\"#bd3786\"],[0.5555555555555556,\"#d8576b\"],[0.6666666666666666,\"#ed7953\"],[0.7777777777777778,\"#fb9f3a\"],[0.8888888888888888,\"#fdca26\"],[1.0,\"#f0f921\"]]}],\"heatmapgl\":[{\"type\":\"heatmapgl\",\"colorbar\":{\"outlinewidth\":0,\"ticks\":\"\"},\"colorscale\":[[0.0,\"#0d0887\"],[0.1111111111111111,\"#46039f\"],[0.2222222222222222,\"#7201a8\"],[0.3333333333333333,\"#9c179e\"],[0.4444444444444444,\"#bd3786\"],[0.5555555555555556,\"#d8576b\"],[0.6666666666666666,\"#ed7953\"],[0.7777777777777778,\"#fb9f3a\"],[0.8888888888888888,\"#fdca26\"],[1.0,\"#f0f921\"]]}],\"contourcarpet\":[{\"type\":\"contourcarpet\",\"colorbar\":{\"outlinewidth\":0,\"ticks\":\"\"}}],\"contour\":[{\"type\":\"contour\",\"colorbar\":{\"outlinewidth\":0,\"ticks\":\"\"},\"colorscale\":[[0.0,\"#0d0887\"],[0.1111111111111111,\"#46039f\"],[0.2222222222222222,\"#7201a8\"],[0.3333333333333333,\"#9c179e\"],[0.4444444444444444,\"#bd3786\"],[0.5555555555555556,\"#d8576b\"],[0.6666666666666666,\"#ed7953\"],[0.7777777777777778,\"#fb9f3a\"],[0.8888888888888888,\"#fdca26\"],[1.0,\"#f0f921\"]]}],\"surface\":[{\"type\":\"surface\",\"colorbar\":{\"outlinewidth\":0,\"ticks\":\"\"},\"colorscale\":[[0.0,\"#0d0887\"],[0.1111111111111111,\"#46039f\"],[0.2222222222222222,\"#7201a8\"],[0.3333333333333333,\"#9c179e\"],[0.4444444444444444,\"#bd3786\"],[0.5555555555555556,\"#d8576b\"],[0.6666666666666666,\"#ed7953\"],[0.7777777777777778,\"#fb9f3a\"],[0.8888888888888888,\"#fdca26\"],[1.0,\"#f0f921\"]]}],\"mesh3d\":[{\"type\":\"mesh3d\",\"colorbar\":{\"outlinewidth\":0,\"ticks\":\"\"}}],\"scatter\":[{\"fillpattern\":{\"fillmode\":\"overlay\",\"size\":10,\"solidity\":0.2},\"type\":\"scatter\"}],\"parcoords\":[{\"type\":\"parcoords\",\"line\":{\"colorbar\":{\"outlinewidth\":0,\"ticks\":\"\"}}}],\"scatterpolargl\":[{\"type\":\"scatterpolargl\",\"marker\":{\"colorbar\":{\"outlinewidth\":0,\"ticks\":\"\"}}}],\"bar\":[{\"error_x\":{\"color\":\"#2a3f5f\"},\"error_y\":{\"color\":\"#2a3f5f\"},\"marker\":{\"line\":{\"color\":\"#E5ECF6\",\"width\":0.5},\"pattern\":{\"fillmode\":\"overlay\",\"size\":10,\"solidity\":0.2}},\"type\":\"bar\"}],\"scattergeo\":[{\"type\":\"scattergeo\",\"marker\":{\"colorbar\":{\"outlinewidth\":0,\"ticks\":\"\"}}}],\"scatterpolar\":[{\"type\":\"scatterpolar\",\"marker\":{\"colorbar\":{\"outlinewidth\":0,\"ticks\":\"\"}}}],\"histogram\":[{\"marker\":{\"pattern\":{\"fillmode\":\"overlay\",\"size\":10,\"solidity\":0.2}},\"type\":\"histogram\"}],\"scattergl\":[{\"type\":\"scattergl\",\"marker\":{\"colorbar\":{\"outlinewidth\":0,\"ticks\":\"\"}}}],\"scatter3d\":[{\"type\":\"scatter3d\",\"line\":{\"colorbar\":{\"outlinewidth\":0,\"ticks\":\"\"}},\"marker\":{\"colorbar\":{\"outlinewidth\":0,\"ticks\":\"\"}}}],\"scattermapbox\":[{\"type\":\"scattermapbox\",\"marker\":{\"colorbar\":{\"outlinewidth\":0,\"ticks\":\"\"}}}],\"scatterternary\":[{\"type\":\"scatterternary\",\"marker\":{\"colorbar\":{\"outlinewidth\":0,\"ticks\":\"\"}}}],\"scattercarpet\":[{\"type\":\"scattercarpet\",\"marker\":{\"colorbar\":{\"outlinewidth\":0,\"ticks\":\"\"}}}],\"carpet\":[{\"aaxis\":{\"endlinecolor\":\"#2a3f5f\",\"gridcolor\":\"white\",\"linecolor\":\"white\",\"minorgridcolor\":\"white\",\"startlinecolor\":\"#2a3f5f\"},\"baxis\":{\"endlinecolor\":\"#2a3f5f\",\"gridcolor\":\"white\",\"linecolor\":\"white\",\"minorgridcolor\":\"white\",\"startlinecolor\":\"#2a3f5f\"},\"type\":\"carpet\"}],\"table\":[{\"cells\":{\"fill\":{\"color\":\"#EBF0F8\"},\"line\":{\"color\":\"white\"}},\"header\":{\"fill\":{\"color\":\"#C8D4E3\"},\"line\":{\"color\":\"white\"}},\"type\":\"table\"}],\"barpolar\":[{\"marker\":{\"line\":{\"color\":\"#E5ECF6\",\"width\":0.5},\"pattern\":{\"fillmode\":\"overlay\",\"size\":10,\"solidity\":0.2}},\"type\":\"barpolar\"}],\"pie\":[{\"automargin\":true,\"type\":\"pie\"}]},\"layout\":{\"autotypenumbers\":\"strict\",\"colorway\":[\"#636efa\",\"#EF553B\",\"#00cc96\",\"#ab63fa\",\"#FFA15A\",\"#19d3f3\",\"#FF6692\",\"#B6E880\",\"#FF97FF\",\"#FECB52\"],\"font\":{\"color\":\"#2a3f5f\"},\"hovermode\":\"closest\",\"hoverlabel\":{\"align\":\"left\"},\"paper_bgcolor\":\"white\",\"plot_bgcolor\":\"#E5ECF6\",\"polar\":{\"bgcolor\":\"#E5ECF6\",\"angularaxis\":{\"gridcolor\":\"white\",\"linecolor\":\"white\",\"ticks\":\"\"},\"radialaxis\":{\"gridcolor\":\"white\",\"linecolor\":\"white\",\"ticks\":\"\"}},\"ternary\":{\"bgcolor\":\"#E5ECF6\",\"aaxis\":{\"gridcolor\":\"white\",\"linecolor\":\"white\",\"ticks\":\"\"},\"baxis\":{\"gridcolor\":\"white\",\"linecolor\":\"white\",\"ticks\":\"\"},\"caxis\":{\"gridcolor\":\"white\",\"linecolor\":\"white\",\"ticks\":\"\"}},\"coloraxis\":{\"colorbar\":{\"outlinewidth\":0,\"ticks\":\"\"}},\"colorscale\":{\"sequential\":[[0.0,\"#0d0887\"],[0.1111111111111111,\"#46039f\"],[0.2222222222222222,\"#7201a8\"],[0.3333333333333333,\"#9c179e\"],[0.4444444444444444,\"#bd3786\"],[0.5555555555555556,\"#d8576b\"],[0.6666666666666666,\"#ed7953\"],[0.7777777777777778,\"#fb9f3a\"],[0.8888888888888888,\"#fdca26\"],[1.0,\"#f0f921\"]],\"sequentialminus\":[[0.0,\"#0d0887\"],[0.1111111111111111,\"#46039f\"],[0.2222222222222222,\"#7201a8\"],[0.3333333333333333,\"#9c179e\"],[0.4444444444444444,\"#bd3786\"],[0.5555555555555556,\"#d8576b\"],[0.6666666666666666,\"#ed7953\"],[0.7777777777777778,\"#fb9f3a\"],[0.8888888888888888,\"#fdca26\"],[1.0,\"#f0f921\"]],\"diverging\":[[0,\"#8e0152\"],[0.1,\"#c51b7d\"],[0.2,\"#de77ae\"],[0.3,\"#f1b6da\"],[0.4,\"#fde0ef\"],[0.5,\"#f7f7f7\"],[0.6,\"#e6f5d0\"],[0.7,\"#b8e186\"],[0.8,\"#7fbc41\"],[0.9,\"#4d9221\"],[1,\"#276419\"]]},\"xaxis\":{\"gridcolor\":\"white\",\"linecolor\":\"white\",\"ticks\":\"\",\"title\":{\"standoff\":15},\"zerolinecolor\":\"white\",\"automargin\":true,\"zerolinewidth\":2},\"yaxis\":{\"gridcolor\":\"white\",\"linecolor\":\"white\",\"ticks\":\"\",\"title\":{\"standoff\":15},\"zerolinecolor\":\"white\",\"automargin\":true,\"zerolinewidth\":2},\"scene\":{\"xaxis\":{\"backgroundcolor\":\"#E5ECF6\",\"gridcolor\":\"white\",\"linecolor\":\"white\",\"showbackground\":true,\"ticks\":\"\",\"zerolinecolor\":\"white\",\"gridwidth\":2},\"yaxis\":{\"backgroundcolor\":\"#E5ECF6\",\"gridcolor\":\"white\",\"linecolor\":\"white\",\"showbackground\":true,\"ticks\":\"\",\"zerolinecolor\":\"white\",\"gridwidth\":2},\"zaxis\":{\"backgroundcolor\":\"#E5ECF6\",\"gridcolor\":\"white\",\"linecolor\":\"white\",\"showbackground\":true,\"ticks\":\"\",\"zerolinecolor\":\"white\",\"gridwidth\":2}},\"shapedefaults\":{\"line\":{\"color\":\"#2a3f5f\"}},\"annotationdefaults\":{\"arrowcolor\":\"#2a3f5f\",\"arrowhead\":0,\"arrowwidth\":1},\"geo\":{\"bgcolor\":\"white\",\"landcolor\":\"#E5ECF6\",\"subunitcolor\":\"white\",\"showland\":true,\"showlakes\":true,\"lakecolor\":\"white\"},\"title\":{\"x\":0.05},\"mapbox\":{\"style\":\"light\"}}},\"xaxis\":{\"anchor\":\"y\",\"domain\":[0.0,1.0],\"title\":{\"text\":\"index\"}},\"yaxis\":{\"anchor\":\"x\",\"domain\":[0.0,1.0],\"title\":{\"text\":\"value\"}},\"legend\":{\"title\":{\"text\":\"variable\"},\"tracegroupgap\":0},\"title\":{\"text\":\"Checkpoint Values for solu-1l-pile (Linear scale)\"}},                        {\"responsive\": true}                    ).then(function(){\n",
       "                            \n",
       "var gd = document.getElementById('c229ce70-7a7f-4549-843d-58dcefab650c');\n",
       "var x = new MutationObserver(function (mutations, observer) {{\n",
       "        var display = window.getComputedStyle(gd).display;\n",
       "        if (!display || display === 'none') {{\n",
       "            console.log([gd, 'removed!']);\n",
       "            Plotly.purge(gd);\n",
       "            observer.disconnect();\n",
       "        }}\n",
       "}});\n",
       "\n",
       "// Listen for the removal of the full notebook cells\n",
       "var notebookContainer = gd.closest('#notebook-container');\n",
       "if (notebookContainer) {{\n",
       "    x.observe(notebookContainer, {childList: true});\n",
       "}}\n",
       "\n",
       "// Listen for the clearing of the current output cell\n",
       "var outputEl = gd.closest('.output');\n",
       "if (outputEl) {{\n",
       "    x.observe(outputEl, {childList: true});\n",
       "}}\n",
       "\n",
       "                        })                };                            </script>        </div>\n",
       "</body>\n",
       "</html>"
      ]
     },
     "metadata": {},
     "output_type": "display_data"
    },
    {
     "data": {
      "text/html": [
       "<html>\n",
       "<head><meta charset=\"utf-8\" /></head>\n",
       "<body>\n",
       "    <div>            <script src=\"https://cdnjs.cloudflare.com/ajax/libs/mathjax/2.7.5/MathJax.js?config=TeX-AMS-MML_SVG\"></script><script type=\"text/javascript\">if (window.MathJax && window.MathJax.Hub && window.MathJax.Hub.Config) {window.MathJax.Hub.Config({SVG: {font: \"STIX-Web\"}});}</script>                <script type=\"text/javascript\">window.PlotlyConfig = {MathJaxConfig: 'local'};</script>\n",
       "        <script charset=\"utf-8\" src=\"https://cdn.plot.ly/plotly-2.24.1.min.js\"></script>                <div id=\"17534c6e-c42c-4cac-b497-41aca31cc7b7\" class=\"plotly-graph-div\" style=\"height:525px; width:100%;\"></div>            <script type=\"text/javascript\">                                    window.PLOTLYENV=window.PLOTLYENV || {};                                    if (document.getElementById(\"17534c6e-c42c-4cac-b497-41aca31cc7b7\")) {                    Plotly.newPlot(                        \"17534c6e-c42c-4cac-b497-41aca31cc7b7\",                        [{\"hovertemplate\":\"variable=0\\u003cbr\\u003eindex=%{x}\\u003cbr\\u003evalue=%{y}\\u003cextra\\u003e\\u003c\\u002fextra\\u003e\",\"legendgroup\":\"0\",\"line\":{\"color\":\"#636efa\",\"dash\":\"solid\"},\"marker\":{\"symbol\":\"circle\"},\"mode\":\"markers+lines\",\"name\":\"0\",\"orientation\":\"v\",\"showlegend\":true,\"x\":[0,1,2,3,4,5,6,7,8,9,10,11,12,13,14,15,16,17,18,19,20,21,22,23,24,25,26,27,28,29,30,31,32,33,34,35,36,37,38,39,40,41,42,43,44,45,46,47,48,49,50,51,52,53,54,55,56,57,58,59,60,61,62,63,64,65,66,67,68,69,70,71,72,73,74,75,76,77,78,79,80,81,82,83,84,85,86,87,88,89,90,91,92,93,94,95,96,97,98,99],\"xaxis\":\"x\",\"y\":[326,652,978,1304,1630,1956,2282,2608,2934,3260,3586,3912,4238,4564,4890,5216,5542,5868,6194,6520,6846,7172,7498,7824,8150,8476,8802,9128,9454,9780,10106,10432,10758,11084,11410,11736,12062,12388,12714,13040,13366,13692,14018,14344,14670,14996,15322,15648,15974,16300,16626,16952,17278,17604,17930,18256,18582,18908,19234,19560,19886,20212,20538,20864,21190,21516,21842,22168,22494,22820,23146,23472,23798,24124,24450,24776,25102,25428,25754,26080,26406,26732,27058,27384,27710,28036,28362,28688,29014,29340,29666,29992,30318,30644,30970,31296,31622,31948,32274,32600],\"yaxis\":\"y\",\"type\":\"scatter\"}],                        {\"template\":{\"data\":{\"histogram2dcontour\":[{\"type\":\"histogram2dcontour\",\"colorbar\":{\"outlinewidth\":0,\"ticks\":\"\"},\"colorscale\":[[0.0,\"#0d0887\"],[0.1111111111111111,\"#46039f\"],[0.2222222222222222,\"#7201a8\"],[0.3333333333333333,\"#9c179e\"],[0.4444444444444444,\"#bd3786\"],[0.5555555555555556,\"#d8576b\"],[0.6666666666666666,\"#ed7953\"],[0.7777777777777778,\"#fb9f3a\"],[0.8888888888888888,\"#fdca26\"],[1.0,\"#f0f921\"]]}],\"choropleth\":[{\"type\":\"choropleth\",\"colorbar\":{\"outlinewidth\":0,\"ticks\":\"\"}}],\"histogram2d\":[{\"type\":\"histogram2d\",\"colorbar\":{\"outlinewidth\":0,\"ticks\":\"\"},\"colorscale\":[[0.0,\"#0d0887\"],[0.1111111111111111,\"#46039f\"],[0.2222222222222222,\"#7201a8\"],[0.3333333333333333,\"#9c179e\"],[0.4444444444444444,\"#bd3786\"],[0.5555555555555556,\"#d8576b\"],[0.6666666666666666,\"#ed7953\"],[0.7777777777777778,\"#fb9f3a\"],[0.8888888888888888,\"#fdca26\"],[1.0,\"#f0f921\"]]}],\"heatmap\":[{\"type\":\"heatmap\",\"colorbar\":{\"outlinewidth\":0,\"ticks\":\"\"},\"colorscale\":[[0.0,\"#0d0887\"],[0.1111111111111111,\"#46039f\"],[0.2222222222222222,\"#7201a8\"],[0.3333333333333333,\"#9c179e\"],[0.4444444444444444,\"#bd3786\"],[0.5555555555555556,\"#d8576b\"],[0.6666666666666666,\"#ed7953\"],[0.7777777777777778,\"#fb9f3a\"],[0.8888888888888888,\"#fdca26\"],[1.0,\"#f0f921\"]]}],\"heatmapgl\":[{\"type\":\"heatmapgl\",\"colorbar\":{\"outlinewidth\":0,\"ticks\":\"\"},\"colorscale\":[[0.0,\"#0d0887\"],[0.1111111111111111,\"#46039f\"],[0.2222222222222222,\"#7201a8\"],[0.3333333333333333,\"#9c179e\"],[0.4444444444444444,\"#bd3786\"],[0.5555555555555556,\"#d8576b\"],[0.6666666666666666,\"#ed7953\"],[0.7777777777777778,\"#fb9f3a\"],[0.8888888888888888,\"#fdca26\"],[1.0,\"#f0f921\"]]}],\"contourcarpet\":[{\"type\":\"contourcarpet\",\"colorbar\":{\"outlinewidth\":0,\"ticks\":\"\"}}],\"contour\":[{\"type\":\"contour\",\"colorbar\":{\"outlinewidth\":0,\"ticks\":\"\"},\"colorscale\":[[0.0,\"#0d0887\"],[0.1111111111111111,\"#46039f\"],[0.2222222222222222,\"#7201a8\"],[0.3333333333333333,\"#9c179e\"],[0.4444444444444444,\"#bd3786\"],[0.5555555555555556,\"#d8576b\"],[0.6666666666666666,\"#ed7953\"],[0.7777777777777778,\"#fb9f3a\"],[0.8888888888888888,\"#fdca26\"],[1.0,\"#f0f921\"]]}],\"surface\":[{\"type\":\"surface\",\"colorbar\":{\"outlinewidth\":0,\"ticks\":\"\"},\"colorscale\":[[0.0,\"#0d0887\"],[0.1111111111111111,\"#46039f\"],[0.2222222222222222,\"#7201a8\"],[0.3333333333333333,\"#9c179e\"],[0.4444444444444444,\"#bd3786\"],[0.5555555555555556,\"#d8576b\"],[0.6666666666666666,\"#ed7953\"],[0.7777777777777778,\"#fb9f3a\"],[0.8888888888888888,\"#fdca26\"],[1.0,\"#f0f921\"]]}],\"mesh3d\":[{\"type\":\"mesh3d\",\"colorbar\":{\"outlinewidth\":0,\"ticks\":\"\"}}],\"scatter\":[{\"fillpattern\":{\"fillmode\":\"overlay\",\"size\":10,\"solidity\":0.2},\"type\":\"scatter\"}],\"parcoords\":[{\"type\":\"parcoords\",\"line\":{\"colorbar\":{\"outlinewidth\":0,\"ticks\":\"\"}}}],\"scatterpolargl\":[{\"type\":\"scatterpolargl\",\"marker\":{\"colorbar\":{\"outlinewidth\":0,\"ticks\":\"\"}}}],\"bar\":[{\"error_x\":{\"color\":\"#2a3f5f\"},\"error_y\":{\"color\":\"#2a3f5f\"},\"marker\":{\"line\":{\"color\":\"#E5ECF6\",\"width\":0.5},\"pattern\":{\"fillmode\":\"overlay\",\"size\":10,\"solidity\":0.2}},\"type\":\"bar\"}],\"scattergeo\":[{\"type\":\"scattergeo\",\"marker\":{\"colorbar\":{\"outlinewidth\":0,\"ticks\":\"\"}}}],\"scatterpolar\":[{\"type\":\"scatterpolar\",\"marker\":{\"colorbar\":{\"outlinewidth\":0,\"ticks\":\"\"}}}],\"histogram\":[{\"marker\":{\"pattern\":{\"fillmode\":\"overlay\",\"size\":10,\"solidity\":0.2}},\"type\":\"histogram\"}],\"scattergl\":[{\"type\":\"scattergl\",\"marker\":{\"colorbar\":{\"outlinewidth\":0,\"ticks\":\"\"}}}],\"scatter3d\":[{\"type\":\"scatter3d\",\"line\":{\"colorbar\":{\"outlinewidth\":0,\"ticks\":\"\"}},\"marker\":{\"colorbar\":{\"outlinewidth\":0,\"ticks\":\"\"}}}],\"scattermapbox\":[{\"type\":\"scattermapbox\",\"marker\":{\"colorbar\":{\"outlinewidth\":0,\"ticks\":\"\"}}}],\"scatterternary\":[{\"type\":\"scatterternary\",\"marker\":{\"colorbar\":{\"outlinewidth\":0,\"ticks\":\"\"}}}],\"scattercarpet\":[{\"type\":\"scattercarpet\",\"marker\":{\"colorbar\":{\"outlinewidth\":0,\"ticks\":\"\"}}}],\"carpet\":[{\"aaxis\":{\"endlinecolor\":\"#2a3f5f\",\"gridcolor\":\"white\",\"linecolor\":\"white\",\"minorgridcolor\":\"white\",\"startlinecolor\":\"#2a3f5f\"},\"baxis\":{\"endlinecolor\":\"#2a3f5f\",\"gridcolor\":\"white\",\"linecolor\":\"white\",\"minorgridcolor\":\"white\",\"startlinecolor\":\"#2a3f5f\"},\"type\":\"carpet\"}],\"table\":[{\"cells\":{\"fill\":{\"color\":\"#EBF0F8\"},\"line\":{\"color\":\"white\"}},\"header\":{\"fill\":{\"color\":\"#C8D4E3\"},\"line\":{\"color\":\"white\"}},\"type\":\"table\"}],\"barpolar\":[{\"marker\":{\"line\":{\"color\":\"#E5ECF6\",\"width\":0.5},\"pattern\":{\"fillmode\":\"overlay\",\"size\":10,\"solidity\":0.2}},\"type\":\"barpolar\"}],\"pie\":[{\"automargin\":true,\"type\":\"pie\"}]},\"layout\":{\"autotypenumbers\":\"strict\",\"colorway\":[\"#636efa\",\"#EF553B\",\"#00cc96\",\"#ab63fa\",\"#FFA15A\",\"#19d3f3\",\"#FF6692\",\"#B6E880\",\"#FF97FF\",\"#FECB52\"],\"font\":{\"color\":\"#2a3f5f\"},\"hovermode\":\"closest\",\"hoverlabel\":{\"align\":\"left\"},\"paper_bgcolor\":\"white\",\"plot_bgcolor\":\"#E5ECF6\",\"polar\":{\"bgcolor\":\"#E5ECF6\",\"angularaxis\":{\"gridcolor\":\"white\",\"linecolor\":\"white\",\"ticks\":\"\"},\"radialaxis\":{\"gridcolor\":\"white\",\"linecolor\":\"white\",\"ticks\":\"\"}},\"ternary\":{\"bgcolor\":\"#E5ECF6\",\"aaxis\":{\"gridcolor\":\"white\",\"linecolor\":\"white\",\"ticks\":\"\"},\"baxis\":{\"gridcolor\":\"white\",\"linecolor\":\"white\",\"ticks\":\"\"},\"caxis\":{\"gridcolor\":\"white\",\"linecolor\":\"white\",\"ticks\":\"\"}},\"coloraxis\":{\"colorbar\":{\"outlinewidth\":0,\"ticks\":\"\"}},\"colorscale\":{\"sequential\":[[0.0,\"#0d0887\"],[0.1111111111111111,\"#46039f\"],[0.2222222222222222,\"#7201a8\"],[0.3333333333333333,\"#9c179e\"],[0.4444444444444444,\"#bd3786\"],[0.5555555555555556,\"#d8576b\"],[0.6666666666666666,\"#ed7953\"],[0.7777777777777778,\"#fb9f3a\"],[0.8888888888888888,\"#fdca26\"],[1.0,\"#f0f921\"]],\"sequentialminus\":[[0.0,\"#0d0887\"],[0.1111111111111111,\"#46039f\"],[0.2222222222222222,\"#7201a8\"],[0.3333333333333333,\"#9c179e\"],[0.4444444444444444,\"#bd3786\"],[0.5555555555555556,\"#d8576b\"],[0.6666666666666666,\"#ed7953\"],[0.7777777777777778,\"#fb9f3a\"],[0.8888888888888888,\"#fdca26\"],[1.0,\"#f0f921\"]],\"diverging\":[[0,\"#8e0152\"],[0.1,\"#c51b7d\"],[0.2,\"#de77ae\"],[0.3,\"#f1b6da\"],[0.4,\"#fde0ef\"],[0.5,\"#f7f7f7\"],[0.6,\"#e6f5d0\"],[0.7,\"#b8e186\"],[0.8,\"#7fbc41\"],[0.9,\"#4d9221\"],[1,\"#276419\"]]},\"xaxis\":{\"gridcolor\":\"white\",\"linecolor\":\"white\",\"ticks\":\"\",\"title\":{\"standoff\":15},\"zerolinecolor\":\"white\",\"automargin\":true,\"zerolinewidth\":2},\"yaxis\":{\"gridcolor\":\"white\",\"linecolor\":\"white\",\"ticks\":\"\",\"title\":{\"standoff\":15},\"zerolinecolor\":\"white\",\"automargin\":true,\"zerolinewidth\":2},\"scene\":{\"xaxis\":{\"backgroundcolor\":\"#E5ECF6\",\"gridcolor\":\"white\",\"linecolor\":\"white\",\"showbackground\":true,\"ticks\":\"\",\"zerolinecolor\":\"white\",\"gridwidth\":2},\"yaxis\":{\"backgroundcolor\":\"#E5ECF6\",\"gridcolor\":\"white\",\"linecolor\":\"white\",\"showbackground\":true,\"ticks\":\"\",\"zerolinecolor\":\"white\",\"gridwidth\":2},\"zaxis\":{\"backgroundcolor\":\"#E5ECF6\",\"gridcolor\":\"white\",\"linecolor\":\"white\",\"showbackground\":true,\"ticks\":\"\",\"zerolinecolor\":\"white\",\"gridwidth\":2}},\"shapedefaults\":{\"line\":{\"color\":\"#2a3f5f\"}},\"annotationdefaults\":{\"arrowcolor\":\"#2a3f5f\",\"arrowhead\":0,\"arrowwidth\":1},\"geo\":{\"bgcolor\":\"white\",\"landcolor\":\"#E5ECF6\",\"subunitcolor\":\"white\",\"showland\":true,\"showlakes\":true,\"lakecolor\":\"white\"},\"title\":{\"x\":0.05},\"mapbox\":{\"style\":\"light\"}}},\"xaxis\":{\"anchor\":\"y\",\"domain\":[0.0,1.0],\"title\":{\"text\":\"index\"}},\"yaxis\":{\"anchor\":\"x\",\"domain\":[0.0,1.0],\"title\":{\"text\":\"value\"}},\"legend\":{\"title\":{\"text\":\"variable\"},\"tracegroupgap\":0},\"title\":{\"text\":\"Checkpoint Values for solu-6l-pile (Linear scale)\"}},                        {\"responsive\": true}                    ).then(function(){\n",
       "                            \n",
       "var gd = document.getElementById('17534c6e-c42c-4cac-b497-41aca31cc7b7');\n",
       "var x = new MutationObserver(function (mutations, observer) {{\n",
       "        var display = window.getComputedStyle(gd).display;\n",
       "        if (!display || display === 'none') {{\n",
       "            console.log([gd, 'removed!']);\n",
       "            Plotly.purge(gd);\n",
       "            observer.disconnect();\n",
       "        }}\n",
       "}});\n",
       "\n",
       "// Listen for the removal of the full notebook cells\n",
       "var notebookContainer = gd.closest('#notebook-container');\n",
       "if (notebookContainer) {{\n",
       "    x.observe(notebookContainer, {childList: true});\n",
       "}}\n",
       "\n",
       "// Listen for the clearing of the current output cell\n",
       "var outputEl = gd.closest('.output');\n",
       "if (outputEl) {{\n",
       "    x.observe(outputEl, {childList: true});\n",
       "}}\n",
       "\n",
       "                        })                };                            </script>        </div>\n",
       "</body>\n",
       "</html>"
      ]
     },
     "metadata": {},
     "output_type": "display_data"
    }
   ],
   "source": [
    "from transformer_lens.loading_from_pretrained import get_checkpoint_labels\n",
    "for model_name in [\"attn-only-2l\", \"solu-12l\", \"stanford-gpt2-small-a\"]:\n",
    "    checkpoint_labels, checkpoint_label_type = get_checkpoint_labels(model_name)\n",
    "    line(checkpoint_labels, xaxis=\"Checkpoint Index\", yaxis=f\"Checkpoint Value ({checkpoint_label_type})\", title=f\"Checkpoint Values for {model_name} (Log scale)\", log_y=True, markers=True)\n",
    "for model_name in [\"solu-1l-pile\", \"solu-6l-pile\"]:\n",
    "    checkpoint_labels, checkpoint_label_type = get_checkpoint_labels(model_name)\n",
    "    line(checkpoint_labels, xaxis=\"Checkpoint Index\", yaxis=f\"Checkpoint Value ({checkpoint_label_type})\", title=f\"Checkpoint Values for {model_name} (Linear scale)\", log_y=False, markers=True)"
   ]
  },
  {
   "cell_type": "markdown",
   "metadata": {
    "id": "BZoUl3mgHtgf"
   },
   "source": [
    "### Example: Induction Head Phase Transition"
   ]
  },
  {
   "cell_type": "markdown",
   "metadata": {
    "id": "LWroAsHgHtgf"
   },
   "source": [
    "One of the more interesting results analysing circuit formation during training is the [induction head phase transition](https://transformer-circuits.pub/2022/in-context-learning-and-induction-heads/index.html). They find a pretty dramatic shift in models during training - there's a brief period where models go from not having induction heads to having them, which leads to the models suddenly becoming much better at in-context learning (using far back tokens to predict the next token, eg over 500 words back). This is enough of a big deal that it leads to a visible *bump* in the loss curve, where the model's rate of improvement briefly increases."
   ]
  },
  {
   "cell_type": "markdown",
   "metadata": {
    "id": "LmD1mXN_Htgf"
   },
   "source": [
    "As a brief demonstration of the existence of the phase transition, let's load some checkpoints of a two layer model, and see whether they have induction heads. An easy test, as we used above, is to give the model a repeated sequence of random tokens, and to check how good its loss is on the second half. `evals.induction_loss` is a rough util that runs this test on a model.\n",
    "(Note - this is deliberately a rough, non-rigorous test for the purposes of demonstration, eg `evals.induction_loss` by default just runs it on 4 sequences of 384 tokens repeated twice. These results totally don't do the paper justice - go check it out if you want to see the full results!)"
   ]
  },
  {
   "cell_type": "markdown",
   "metadata": {
    "id": "p_d1D7wdHtgf"
   },
   "source": [
    "In the interests of time and memory, let's look at a handful of checkpoints (chosen to be around the phase change), indices `[10, 25, 35, 60, -1]`. These are roughly 22M, 200M, 500M, 1.6B and 21.8B tokens through training, respectively. (I generally recommend looking things up based on indices, rather than checkpoint value!)."
   ]
  },
  {
   "cell_type": "code",
   "execution_count": 61,
   "metadata": {
    "id": "LsnyEfHvHtgf"
   },
   "outputs": [],
   "source": [
    "from transformer_lens import evals\n",
    "# We use the two layer model with SoLU activations, chosen fairly arbitrarily as being both small (so fast to download and keep in memory) and pretty good at the induction task.\n",
    "model_name = \"solu-2l\"\n",
    "# We can load a model from a checkpoint by specifying the checkpoint_index, -1 means the final checkpoint\n",
    "checkpoint_indices = [10, 25, 35, 60, -1]\n",
    "checkpointed_models = []\n",
    "tokens_trained_on = []\n",
    "induction_losses = []"
   ]
  },
  {
   "cell_type": "markdown",
   "metadata": {
    "id": "Gog4WCppHtgf"
   },
   "source": [
    "We load the models, cache them in a list, and"
   ]
  },
  {
   "cell_type": "code",
   "execution_count": 62,
   "metadata": {
    "colab": {
     "base_uri": "https://localhost:8080/",
     "height": 657,
     "referenced_widgets": [
      "ff3ed36a1bbf4b428d750d962943f74d",
      "340e12863a6d4b0e8dad3e84aa9b738d",
      "86e9cf5aed1648678bcdf477a8d3bbe4",
      "3b7e18ee54db44e29439e9aea40a8ddb",
      "2804faa5f4c9438985359f9999e93036",
      "1093830dc6404743bccb59e4a77e8cce",
      "93afb30ba7fa4f2dafe97b51a4ce7472",
      "b1441d52555e44dba97fe1498aa50569",
      "2b3f0930909741d9a1d23d7fbb1d66ca",
      "fefa7d321507416899ea86c124fc975b",
      "17421497b9c64658a75971c5b10b222e",
      "34639a433bbc47c4892c96f8e9c5ee70",
      "5b30c8a4a77546a3bd1608d893b79d9e",
      "44d15defeb914afc9dc9e3a4424c3248",
      "598700b6124f4f31a45da925d0e463e5",
      "1852997351df4d07b1aca54c754e42cc",
      "5f3e2f157a10427284781f8bdffd23ec",
      "6525e633782c4211a7363b772cbbb4f4",
      "2efd4acccc9d42a9a7a3c1a7b769300e",
      "1312062edbb745be8720d6bc03063503",
      "30ef9c85bd3940a9b6b011ef25ee3705",
      "b1dab55ea27448fbbb9bd134c6f35058",
      "95d81f77634c4983800f1286e17174c6",
      "0a2262238c844a00bad879887b9d9bb4",
      "03ab15a378e14d9bb1cd34d567eea085",
      "32a39cae02244a3693f500a518fa8e07",
      "3ffd3082962a4a67bbedd5e01fc6f3a8",
      "d03b59febe304740af96bb478921b99c",
      "ebb57a05ee9d45138d961c5d07ac100d",
      "79dae33f60864446b3f0f9e7af939eeb",
      "fe9a21c4b3004033960bd3125a858b24",
      "51e5210adbcc4ea5a140384fc0b533e9",
      "d0d4ba53bd2142bbaaba8f26593dd9b0",
      "13f1cc0c6162450c96e593e047512254",
      "88c18ee41ed4406693c8c555c15987e0",
      "8476a4344c3d4527a08344ca87b00bde",
      "9c5a64fc274a4213befcd1d4953426d1",
      "97a18bba3cf740e78bbfc45bcd33cdd2",
      "a58e045e41f44ee685634bf6be8e18eb",
      "745a3a8e649e4a0d86ef8e2c1e1c75bc",
      "052c3ba9bb2a4e14ad137a2b284ab20f",
      "92874f0b2b134e62b3a567a56bf14cf0",
      "91220297f7454dce8a53261daf991f75",
      "b642afbd34844728ae6f0b448a5b164d",
      "41c99bb6c6ce4ff8812ed0f0e596479b",
      "2dc23f15fa00458b9a26107311eeb9d1",
      "ebd8886c8964434383da300b8e726538",
      "b33d8226816c40ab897c51a6dd43a69a",
      "2a1490f9218048418bf2136d2339796b",
      "5bb7e4b866594ef6a6b1ce2661b18dc0",
      "9ef9f520315348e2a5c357587b5672f8",
      "327542ae2f014320a4d074a825ebf704",
      "cbd51c4771fd4cd1b2fcefacfe96ee36",
      "6dea9147a3c2400287759c058b2f7093",
      "03d69f9deb8346c99c7a5ab44608cbe6",
      "be0f68a3e1694465bf0008f613931572",
      "ccdf4b0f5a664844802139d39a48535e",
      "25bf9f8e3fae46b1b683ea4751030abb",
      "ffa93cab391d429ba298dd0467b025fb",
      "9b8d88721c874c45bdee28d8e5a213ea",
      "adc0adaef8d44047b7afb976e536e345",
      "da3d214ee9424430be1ba41b0a257d67",
      "04c4ccf0cc4d4b938b8c151fdf4076e7",
      "58ab3c1063ec4488be5645132b0cc0ae",
      "1ca7f970fe5f4c68b7e3dfcd0bb31724",
      "2343fb0846774e67bad7c56ab3da6620",
      "39053f1165ac4660b4d79b69fd8d4f9e",
      "7e0c7a0b36d74e0eab762299909c30f2",
      "7789fa89caec45929fe006ac0725e89e",
      "2473c1f588b047d48ce6dd95495f26b9",
      "bdb1d4e4e81a48118c0cf26f6662802d",
      "4465a4d3f5aa4590bf9bfe70daf245ed",
      "b509aac35f6d479fa8c5904cf06ae466",
      "fbeff95f8ef64319863d3ffaccb1dd81",
      "bf72a134d5a0454480bd34b21a57f451",
      "67d532e0407e44c9b1fed3e611f72fa1",
      "6bb478d5d258403a892d5c8a8e642000"
     ]
    },
    "id": "x4LbZKMpHtgf",
    "outputId": "e338e3c0-524d-425c-e999-ff4f3e68918c"
   },
   "outputs": [
    {
     "name": "stdout",
     "output_type": "stream",
     "text": [
      "Loaded pretrained model solu-2l into HookedTransformer\n",
      "Loaded pretrained model solu-2l into HookedTransformer\n",
      "Loaded pretrained model solu-2l into HookedTransformer\n",
      "Loaded pretrained model solu-2l into HookedTransformer\n",
      "Loaded pretrained model solu-2l into HookedTransformer\n"
     ]
    }
   ],
   "source": [
    "for index in checkpoint_indices:\n",
    "    # Load the model from the relevant checkpoint by index\n",
    "    model_for_this_checkpoint = HookedTransformer.from_pretrained(model_name, checkpoint_index=index)\n",
    "    checkpointed_models.append(model_for_this_checkpoint)\n",
    "\n",
    "    tokens_seen_for_this_checkpoint = model_for_this_checkpoint.cfg.checkpoint_value\n",
    "    tokens_trained_on.append(tokens_seen_for_this_checkpoint)\n",
    "\n",
    "    induction_loss_for_this_checkpoint = evals.induction_loss(model_for_this_checkpoint).item()\n",
    "    induction_losses.append(induction_loss_for_this_checkpoint)"
   ]
  },
  {
   "cell_type": "markdown",
   "metadata": {
    "id": "mEuNhF1tHtgf"
   },
   "source": [
    "We can plot this, and see there's a sharp shift from ~200-500M tokens trained on (note the log scale on the x axis). Interestingly, this is notably earlier than the phase transition in the paper, I'm not sure what's up with that.\n",
    "\n",
    "(To contextualise the numbers, the tokens in the random sequence are uniformly chosen from the first 20,000 tokens (out of ~48,000 total), so random performance is at least $\\ln(20000)\\approx 10$. A naive strategy like \"randomly choose a token that's already appeared in the first half of the sequence (384 elements)\" would get $\\ln(384)\\approx 5.95$, so the model is doing pretty well here.)"
   ]
  },
  {
   "cell_type": "code",
   "execution_count": 63,
   "metadata": {
    "id": "9Ny0SbnyHtgg"
   },
   "outputs": [
    {
     "data": {
      "text/html": [
       "<html>\n",
       "<head><meta charset=\"utf-8\" /></head>\n",
       "<body>\n",
       "    <div>            <script src=\"https://cdnjs.cloudflare.com/ajax/libs/mathjax/2.7.5/MathJax.js?config=TeX-AMS-MML_SVG\"></script><script type=\"text/javascript\">if (window.MathJax && window.MathJax.Hub && window.MathJax.Hub.Config) {window.MathJax.Hub.Config({SVG: {font: \"STIX-Web\"}});}</script>                <script type=\"text/javascript\">window.PlotlyConfig = {MathJaxConfig: 'local'};</script>\n",
       "        <script charset=\"utf-8\" src=\"https://cdn.plot.ly/plotly-2.24.1.min.js\"></script>                <div id=\"4cdeb095-32c6-4c5a-9690-011a803a8017\" class=\"plotly-graph-div\" style=\"height:525px; width:100%;\"></div>            <script type=\"text/javascript\">                                    window.PLOTLYENV=window.PLOTLYENV || {};                                    if (document.getElementById(\"4cdeb095-32c6-4c5a-9690-011a803a8017\")) {                    Plotly.newPlot(                        \"4cdeb095-32c6-4c5a-9690-011a803a8017\",                        [{\"hovertemplate\":\"Tokens Trained On=%{x}\\u003cbr\\u003eindex=%{y}\\u003cextra\\u003e\\u003c\\u002fextra\\u003e\",\"legendgroup\":\"\",\"line\":{\"color\":\"#636efa\",\"dash\":\"solid\"},\"marker\":{\"symbol\":\"circle\"},\"mode\":\"markers+lines\",\"name\":\"\",\"orientation\":\"h\",\"showlegend\":false,\"x\":[22282240,187432960,528482304,1628438528,21780496384],\"xaxis\":\"x\",\"y\":[0,1,2,3,4],\"yaxis\":\"y\",\"type\":\"scatter\"}],                        {\"template\":{\"data\":{\"histogram2dcontour\":[{\"type\":\"histogram2dcontour\",\"colorbar\":{\"outlinewidth\":0,\"ticks\":\"\"},\"colorscale\":[[0.0,\"#0d0887\"],[0.1111111111111111,\"#46039f\"],[0.2222222222222222,\"#7201a8\"],[0.3333333333333333,\"#9c179e\"],[0.4444444444444444,\"#bd3786\"],[0.5555555555555556,\"#d8576b\"],[0.6666666666666666,\"#ed7953\"],[0.7777777777777778,\"#fb9f3a\"],[0.8888888888888888,\"#fdca26\"],[1.0,\"#f0f921\"]]}],\"choropleth\":[{\"type\":\"choropleth\",\"colorbar\":{\"outlinewidth\":0,\"ticks\":\"\"}}],\"histogram2d\":[{\"type\":\"histogram2d\",\"colorbar\":{\"outlinewidth\":0,\"ticks\":\"\"},\"colorscale\":[[0.0,\"#0d0887\"],[0.1111111111111111,\"#46039f\"],[0.2222222222222222,\"#7201a8\"],[0.3333333333333333,\"#9c179e\"],[0.4444444444444444,\"#bd3786\"],[0.5555555555555556,\"#d8576b\"],[0.6666666666666666,\"#ed7953\"],[0.7777777777777778,\"#fb9f3a\"],[0.8888888888888888,\"#fdca26\"],[1.0,\"#f0f921\"]]}],\"heatmap\":[{\"type\":\"heatmap\",\"colorbar\":{\"outlinewidth\":0,\"ticks\":\"\"},\"colorscale\":[[0.0,\"#0d0887\"],[0.1111111111111111,\"#46039f\"],[0.2222222222222222,\"#7201a8\"],[0.3333333333333333,\"#9c179e\"],[0.4444444444444444,\"#bd3786\"],[0.5555555555555556,\"#d8576b\"],[0.6666666666666666,\"#ed7953\"],[0.7777777777777778,\"#fb9f3a\"],[0.8888888888888888,\"#fdca26\"],[1.0,\"#f0f921\"]]}],\"heatmapgl\":[{\"type\":\"heatmapgl\",\"colorbar\":{\"outlinewidth\":0,\"ticks\":\"\"},\"colorscale\":[[0.0,\"#0d0887\"],[0.1111111111111111,\"#46039f\"],[0.2222222222222222,\"#7201a8\"],[0.3333333333333333,\"#9c179e\"],[0.4444444444444444,\"#bd3786\"],[0.5555555555555556,\"#d8576b\"],[0.6666666666666666,\"#ed7953\"],[0.7777777777777778,\"#fb9f3a\"],[0.8888888888888888,\"#fdca26\"],[1.0,\"#f0f921\"]]}],\"contourcarpet\":[{\"type\":\"contourcarpet\",\"colorbar\":{\"outlinewidth\":0,\"ticks\":\"\"}}],\"contour\":[{\"type\":\"contour\",\"colorbar\":{\"outlinewidth\":0,\"ticks\":\"\"},\"colorscale\":[[0.0,\"#0d0887\"],[0.1111111111111111,\"#46039f\"],[0.2222222222222222,\"#7201a8\"],[0.3333333333333333,\"#9c179e\"],[0.4444444444444444,\"#bd3786\"],[0.5555555555555556,\"#d8576b\"],[0.6666666666666666,\"#ed7953\"],[0.7777777777777778,\"#fb9f3a\"],[0.8888888888888888,\"#fdca26\"],[1.0,\"#f0f921\"]]}],\"surface\":[{\"type\":\"surface\",\"colorbar\":{\"outlinewidth\":0,\"ticks\":\"\"},\"colorscale\":[[0.0,\"#0d0887\"],[0.1111111111111111,\"#46039f\"],[0.2222222222222222,\"#7201a8\"],[0.3333333333333333,\"#9c179e\"],[0.4444444444444444,\"#bd3786\"],[0.5555555555555556,\"#d8576b\"],[0.6666666666666666,\"#ed7953\"],[0.7777777777777778,\"#fb9f3a\"],[0.8888888888888888,\"#fdca26\"],[1.0,\"#f0f921\"]]}],\"mesh3d\":[{\"type\":\"mesh3d\",\"colorbar\":{\"outlinewidth\":0,\"ticks\":\"\"}}],\"scatter\":[{\"fillpattern\":{\"fillmode\":\"overlay\",\"size\":10,\"solidity\":0.2},\"type\":\"scatter\"}],\"parcoords\":[{\"type\":\"parcoords\",\"line\":{\"colorbar\":{\"outlinewidth\":0,\"ticks\":\"\"}}}],\"scatterpolargl\":[{\"type\":\"scatterpolargl\",\"marker\":{\"colorbar\":{\"outlinewidth\":0,\"ticks\":\"\"}}}],\"bar\":[{\"error_x\":{\"color\":\"#2a3f5f\"},\"error_y\":{\"color\":\"#2a3f5f\"},\"marker\":{\"line\":{\"color\":\"#E5ECF6\",\"width\":0.5},\"pattern\":{\"fillmode\":\"overlay\",\"size\":10,\"solidity\":0.2}},\"type\":\"bar\"}],\"scattergeo\":[{\"type\":\"scattergeo\",\"marker\":{\"colorbar\":{\"outlinewidth\":0,\"ticks\":\"\"}}}],\"scatterpolar\":[{\"type\":\"scatterpolar\",\"marker\":{\"colorbar\":{\"outlinewidth\":0,\"ticks\":\"\"}}}],\"histogram\":[{\"marker\":{\"pattern\":{\"fillmode\":\"overlay\",\"size\":10,\"solidity\":0.2}},\"type\":\"histogram\"}],\"scattergl\":[{\"type\":\"scattergl\",\"marker\":{\"colorbar\":{\"outlinewidth\":0,\"ticks\":\"\"}}}],\"scatter3d\":[{\"type\":\"scatter3d\",\"line\":{\"colorbar\":{\"outlinewidth\":0,\"ticks\":\"\"}},\"marker\":{\"colorbar\":{\"outlinewidth\":0,\"ticks\":\"\"}}}],\"scattermapbox\":[{\"type\":\"scattermapbox\",\"marker\":{\"colorbar\":{\"outlinewidth\":0,\"ticks\":\"\"}}}],\"scatterternary\":[{\"type\":\"scatterternary\",\"marker\":{\"colorbar\":{\"outlinewidth\":0,\"ticks\":\"\"}}}],\"scattercarpet\":[{\"type\":\"scattercarpet\",\"marker\":{\"colorbar\":{\"outlinewidth\":0,\"ticks\":\"\"}}}],\"carpet\":[{\"aaxis\":{\"endlinecolor\":\"#2a3f5f\",\"gridcolor\":\"white\",\"linecolor\":\"white\",\"minorgridcolor\":\"white\",\"startlinecolor\":\"#2a3f5f\"},\"baxis\":{\"endlinecolor\":\"#2a3f5f\",\"gridcolor\":\"white\",\"linecolor\":\"white\",\"minorgridcolor\":\"white\",\"startlinecolor\":\"#2a3f5f\"},\"type\":\"carpet\"}],\"table\":[{\"cells\":{\"fill\":{\"color\":\"#EBF0F8\"},\"line\":{\"color\":\"white\"}},\"header\":{\"fill\":{\"color\":\"#C8D4E3\"},\"line\":{\"color\":\"white\"}},\"type\":\"table\"}],\"barpolar\":[{\"marker\":{\"line\":{\"color\":\"#E5ECF6\",\"width\":0.5},\"pattern\":{\"fillmode\":\"overlay\",\"size\":10,\"solidity\":0.2}},\"type\":\"barpolar\"}],\"pie\":[{\"automargin\":true,\"type\":\"pie\"}]},\"layout\":{\"autotypenumbers\":\"strict\",\"colorway\":[\"#636efa\",\"#EF553B\",\"#00cc96\",\"#ab63fa\",\"#FFA15A\",\"#19d3f3\",\"#FF6692\",\"#B6E880\",\"#FF97FF\",\"#FECB52\"],\"font\":{\"color\":\"#2a3f5f\"},\"hovermode\":\"closest\",\"hoverlabel\":{\"align\":\"left\"},\"paper_bgcolor\":\"white\",\"plot_bgcolor\":\"#E5ECF6\",\"polar\":{\"bgcolor\":\"#E5ECF6\",\"angularaxis\":{\"gridcolor\":\"white\",\"linecolor\":\"white\",\"ticks\":\"\"},\"radialaxis\":{\"gridcolor\":\"white\",\"linecolor\":\"white\",\"ticks\":\"\"}},\"ternary\":{\"bgcolor\":\"#E5ECF6\",\"aaxis\":{\"gridcolor\":\"white\",\"linecolor\":\"white\",\"ticks\":\"\"},\"baxis\":{\"gridcolor\":\"white\",\"linecolor\":\"white\",\"ticks\":\"\"},\"caxis\":{\"gridcolor\":\"white\",\"linecolor\":\"white\",\"ticks\":\"\"}},\"coloraxis\":{\"colorbar\":{\"outlinewidth\":0,\"ticks\":\"\"}},\"colorscale\":{\"sequential\":[[0.0,\"#0d0887\"],[0.1111111111111111,\"#46039f\"],[0.2222222222222222,\"#7201a8\"],[0.3333333333333333,\"#9c179e\"],[0.4444444444444444,\"#bd3786\"],[0.5555555555555556,\"#d8576b\"],[0.6666666666666666,\"#ed7953\"],[0.7777777777777778,\"#fb9f3a\"],[0.8888888888888888,\"#fdca26\"],[1.0,\"#f0f921\"]],\"sequentialminus\":[[0.0,\"#0d0887\"],[0.1111111111111111,\"#46039f\"],[0.2222222222222222,\"#7201a8\"],[0.3333333333333333,\"#9c179e\"],[0.4444444444444444,\"#bd3786\"],[0.5555555555555556,\"#d8576b\"],[0.6666666666666666,\"#ed7953\"],[0.7777777777777778,\"#fb9f3a\"],[0.8888888888888888,\"#fdca26\"],[1.0,\"#f0f921\"]],\"diverging\":[[0,\"#8e0152\"],[0.1,\"#c51b7d\"],[0.2,\"#de77ae\"],[0.3,\"#f1b6da\"],[0.4,\"#fde0ef\"],[0.5,\"#f7f7f7\"],[0.6,\"#e6f5d0\"],[0.7,\"#b8e186\"],[0.8,\"#7fbc41\"],[0.9,\"#4d9221\"],[1,\"#276419\"]]},\"xaxis\":{\"gridcolor\":\"white\",\"linecolor\":\"white\",\"ticks\":\"\",\"title\":{\"standoff\":15},\"zerolinecolor\":\"white\",\"automargin\":true,\"zerolinewidth\":2},\"yaxis\":{\"gridcolor\":\"white\",\"linecolor\":\"white\",\"ticks\":\"\",\"title\":{\"standoff\":15},\"zerolinecolor\":\"white\",\"automargin\":true,\"zerolinewidth\":2},\"scene\":{\"xaxis\":{\"backgroundcolor\":\"#E5ECF6\",\"gridcolor\":\"white\",\"linecolor\":\"white\",\"showbackground\":true,\"ticks\":\"\",\"zerolinecolor\":\"white\",\"gridwidth\":2},\"yaxis\":{\"backgroundcolor\":\"#E5ECF6\",\"gridcolor\":\"white\",\"linecolor\":\"white\",\"showbackground\":true,\"ticks\":\"\",\"zerolinecolor\":\"white\",\"gridwidth\":2},\"zaxis\":{\"backgroundcolor\":\"#E5ECF6\",\"gridcolor\":\"white\",\"linecolor\":\"white\",\"showbackground\":true,\"ticks\":\"\",\"zerolinecolor\":\"white\",\"gridwidth\":2}},\"shapedefaults\":{\"line\":{\"color\":\"#2a3f5f\"}},\"annotationdefaults\":{\"arrowcolor\":\"#2a3f5f\",\"arrowhead\":0,\"arrowwidth\":1},\"geo\":{\"bgcolor\":\"white\",\"landcolor\":\"#E5ECF6\",\"subunitcolor\":\"white\",\"showland\":true,\"showlakes\":true,\"lakecolor\":\"white\"},\"title\":{\"x\":0.05},\"mapbox\":{\"style\":\"light\"}}},\"xaxis\":{\"anchor\":\"y\",\"domain\":[0.0,1.0],\"title\":{\"text\":\"Tokens Trained On\"},\"type\":\"log\"},\"yaxis\":{\"anchor\":\"x\",\"domain\":[0.0,1.0],\"title\":{\"text\":\"index\"}},\"legend\":{\"tracegroupgap\":0},\"title\":{\"text\":\"Induction Loss over training: solu-2l\"}},                        {\"responsive\": true}                    ).then(function(){\n",
       "                            \n",
       "var gd = document.getElementById('4cdeb095-32c6-4c5a-9690-011a803a8017');\n",
       "var x = new MutationObserver(function (mutations, observer) {{\n",
       "        var display = window.getComputedStyle(gd).display;\n",
       "        if (!display || display === 'none') {{\n",
       "            console.log([gd, 'removed!']);\n",
       "            Plotly.purge(gd);\n",
       "            observer.disconnect();\n",
       "        }}\n",
       "}});\n",
       "\n",
       "// Listen for the removal of the full notebook cells\n",
       "var notebookContainer = gd.closest('#notebook-container');\n",
       "if (notebookContainer) {{\n",
       "    x.observe(notebookContainer, {childList: true});\n",
       "}}\n",
       "\n",
       "// Listen for the clearing of the current output cell\n",
       "var outputEl = gd.closest('.output');\n",
       "if (outputEl) {{\n",
       "    x.observe(outputEl, {childList: true});\n",
       "}}\n",
       "\n",
       "                        })                };                            </script>        </div>\n",
       "</body>\n",
       "</html>"
      ]
     },
     "metadata": {},
     "output_type": "display_data"
    }
   ],
   "source": [
    "line(induction_losses, x=tokens_trained_on, xaxis=\"Tokens Trained On\", yaxis=\"Induction Loss\", title=\"Induction Loss over training: solu-2l\", markers=True, log_x=True)"
   ]
  }
 ],
 "metadata": {
  "accelerator": "GPU",
  "colab": {
   "gpuType": "V100",
   "machine_shape": "hm",
   "provenance": []
  },
  "kernelspec": {
   "display_name": "Python 3 (ipykernel)",
   "language": "python",
   "name": "python3"
  },
  "language_info": {
   "codemirror_mode": {
    "name": "ipython",
    "version": 3
   },
   "file_extension": ".py",
   "mimetype": "text/x-python",
   "name": "python",
   "nbconvert_exporter": "python",
   "pygments_lexer": "ipython3",
   "version": "3.8.10"
  },
  "vscode": {
   "interpreter": {
    "hash": "eb812820b5094695c8a581672e17220e30dd2c15d704c018326e3cc2e1a566f1"
   }
  },
  "widgets": {
   "application/vnd.jupyter.widget-state+json": {
    "01af42f1af174302b30945884422f5dc": {
     "model_module": "@jupyter-widgets/controls",
     "model_module_version": "1.5.0",
     "model_name": "HTMLModel",
     "state": {
      "_dom_classes": [],
      "_model_module": "@jupyter-widgets/controls",
      "_model_module_version": "1.5.0",
      "_model_name": "HTMLModel",
      "_view_count": null,
      "_view_module": "@jupyter-widgets/controls",
      "_view_module_version": "1.5.0",
      "_view_name": "HTMLView",
      "description": "",
      "description_tooltip": null,
      "layout": "IPY_MODEL_f3142dd3f2144f4a86ce2441bda78553",
      "placeholder": "​",
      "style": "IPY_MODEL_e60d7d68f9744e13976347f1b2f80131",
      "value": "Downloading (…)olve/main/merges.txt: 100%"
     }
    },
    "03ab15a378e14d9bb1cd34d567eea085": {
     "model_module": "@jupyter-widgets/controls",
     "model_module_version": "1.5.0",
     "model_name": "FloatProgressModel",
     "state": {
      "_dom_classes": [],
      "_model_module": "@jupyter-widgets/controls",
      "_model_module_version": "1.5.0",
      "_model_name": "FloatProgressModel",
      "_view_count": null,
      "_view_module": "@jupyter-widgets/controls",
      "_view_module_version": "1.5.0",
      "_view_name": "ProgressView",
      "bar_style": "success",
      "description": "",
      "description_tooltip": null,
      "layout": "IPY_MODEL_79dae33f60864446b3f0f9e7af939eeb",
      "max": 51,
      "min": 0,
      "orientation": "horizontal",
      "style": "IPY_MODEL_fe9a21c4b3004033960bd3125a858b24",
      "value": 51
     }
    },
    "03d69f9deb8346c99c7a5ab44608cbe6": {
     "model_module": "@jupyter-widgets/controls",
     "model_module_version": "1.5.0",
     "model_name": "DescriptionStyleModel",
     "state": {
      "_model_module": "@jupyter-widgets/controls",
      "_model_module_version": "1.5.0",
      "_model_name": "DescriptionStyleModel",
      "_view_count": null,
      "_view_module": "@jupyter-widgets/base",
      "_view_module_version": "1.2.0",
      "_view_name": "StyleView",
      "description_width": ""
     }
    },
    "03fe9892ab934d4692f44b04d560cd68": {
     "model_module": "@jupyter-widgets/base",
     "model_module_version": "1.2.0",
     "model_name": "LayoutModel",
     "state": {
      "_model_module": "@jupyter-widgets/base",
      "_model_module_version": "1.2.0",
      "_model_name": "LayoutModel",
      "_view_count": null,
      "_view_module": "@jupyter-widgets/base",
      "_view_module_version": "1.2.0",
      "_view_name": "LayoutView",
      "align_content": null,
      "align_items": null,
      "align_self": null,
      "border": null,
      "bottom": null,
      "display": null,
      "flex": null,
      "flex_flow": null,
      "grid_area": null,
      "grid_auto_columns": null,
      "grid_auto_flow": null,
      "grid_auto_rows": null,
      "grid_column": null,
      "grid_gap": null,
      "grid_row": null,
      "grid_template_areas": null,
      "grid_template_columns": null,
      "grid_template_rows": null,
      "height": null,
      "justify_content": null,
      "justify_items": null,
      "left": null,
      "margin": null,
      "max_height": null,
      "max_width": null,
      "min_height": null,
      "min_width": null,
      "object_fit": null,
      "object_position": null,
      "order": null,
      "overflow": null,
      "overflow_x": null,
      "overflow_y": null,
      "padding": null,
      "right": null,
      "top": null,
      "visibility": null,
      "width": null
     }
    },
    "04c4ccf0cc4d4b938b8c151fdf4076e7": {
     "model_module": "@jupyter-widgets/base",
     "model_module_version": "1.2.0",
     "model_name": "LayoutModel",
     "state": {
      "_model_module": "@jupyter-widgets/base",
      "_model_module_version": "1.2.0",
      "_model_name": "LayoutModel",
      "_view_count": null,
      "_view_module": "@jupyter-widgets/base",
      "_view_module_version": "1.2.0",
      "_view_name": "LayoutView",
      "align_content": null,
      "align_items": null,
      "align_self": null,
      "border": null,
      "bottom": null,
      "display": null,
      "flex": null,
      "flex_flow": null,
      "grid_area": null,
      "grid_auto_columns": null,
      "grid_auto_flow": null,
      "grid_auto_rows": null,
      "grid_column": null,
      "grid_gap": null,
      "grid_row": null,
      "grid_template_areas": null,
      "grid_template_columns": null,
      "grid_template_rows": null,
      "height": null,
      "justify_content": null,
      "justify_items": null,
      "left": null,
      "margin": null,
      "max_height": null,
      "max_width": null,
      "min_height": null,
      "min_width": null,
      "object_fit": null,
      "object_position": null,
      "order": null,
      "overflow": null,
      "overflow_x": null,
      "overflow_y": null,
      "padding": null,
      "right": null,
      "top": null,
      "visibility": null,
      "width": null
     }
    },
    "052c3ba9bb2a4e14ad137a2b284ab20f": {
     "model_module": "@jupyter-widgets/base",
     "model_module_version": "1.2.0",
     "model_name": "LayoutModel",
     "state": {
      "_model_module": "@jupyter-widgets/base",
      "_model_module_version": "1.2.0",
      "_model_name": "LayoutModel",
      "_view_count": null,
      "_view_module": "@jupyter-widgets/base",
      "_view_module_version": "1.2.0",
      "_view_name": "LayoutView",
      "align_content": null,
      "align_items": null,
      "align_self": null,
      "border": null,
      "bottom": null,
      "display": null,
      "flex": null,
      "flex_flow": null,
      "grid_area": null,
      "grid_auto_columns": null,
      "grid_auto_flow": null,
      "grid_auto_rows": null,
      "grid_column": null,
      "grid_gap": null,
      "grid_row": null,
      "grid_template_areas": null,
      "grid_template_columns": null,
      "grid_template_rows": null,
      "height": null,
      "justify_content": null,
      "justify_items": null,
      "left": null,
      "margin": null,
      "max_height": null,
      "max_width": null,
      "min_height": null,
      "min_width": null,
      "object_fit": null,
      "object_position": null,
      "order": null,
      "overflow": null,
      "overflow_x": null,
      "overflow_y": null,
      "padding": null,
      "right": null,
      "top": null,
      "visibility": null,
      "width": null
     }
    },
    "0a2262238c844a00bad879887b9d9bb4": {
     "model_module": "@jupyter-widgets/controls",
     "model_module_version": "1.5.0",
     "model_name": "HTMLModel",
     "state": {
      "_dom_classes": [],
      "_model_module": "@jupyter-widgets/controls",
      "_model_module_version": "1.5.0",
      "_model_name": "HTMLModel",
      "_view_count": null,
      "_view_module": "@jupyter-widgets/controls",
      "_view_module_version": "1.5.0",
      "_view_name": "HTMLView",
      "description": "",
      "description_tooltip": null,
      "layout": "IPY_MODEL_d03b59febe304740af96bb478921b99c",
      "placeholder": "​",
      "style": "IPY_MODEL_ebb57a05ee9d45138d961c5d07ac100d",
      "value": "Downloading (…)okenizer_config.json: 100%"
     }
    },
    "0acc92423b164755b293206ce74ec3ee": {
     "model_module": "@jupyter-widgets/base",
     "model_module_version": "1.2.0",
     "model_name": "LayoutModel",
     "state": {
      "_model_module": "@jupyter-widgets/base",
      "_model_module_version": "1.2.0",
      "_model_name": "LayoutModel",
      "_view_count": null,
      "_view_module": "@jupyter-widgets/base",
      "_view_module_version": "1.2.0",
      "_view_name": "LayoutView",
      "align_content": null,
      "align_items": null,
      "align_self": null,
      "border": null,
      "bottom": null,
      "display": null,
      "flex": null,
      "flex_flow": null,
      "grid_area": null,
      "grid_auto_columns": null,
      "grid_auto_flow": null,
      "grid_auto_rows": null,
      "grid_column": null,
      "grid_gap": null,
      "grid_row": null,
      "grid_template_areas": null,
      "grid_template_columns": null,
      "grid_template_rows": null,
      "height": null,
      "justify_content": null,
      "justify_items": null,
      "left": null,
      "margin": null,
      "max_height": null,
      "max_width": null,
      "min_height": null,
      "min_width": null,
      "object_fit": null,
      "object_position": null,
      "order": null,
      "overflow": null,
      "overflow_x": null,
      "overflow_y": null,
      "padding": null,
      "right": null,
      "top": null,
      "visibility": null,
      "width": null
     }
    },
    "0e2e04c9d88140eabfa8ae59a1af29c7": {
     "model_module": "@jupyter-widgets/base",
     "model_module_version": "1.2.0",
     "model_name": "LayoutModel",
     "state": {
      "_model_module": "@jupyter-widgets/base",
      "_model_module_version": "1.2.0",
      "_model_name": "LayoutModel",
      "_view_count": null,
      "_view_module": "@jupyter-widgets/base",
      "_view_module_version": "1.2.0",
      "_view_name": "LayoutView",
      "align_content": null,
      "align_items": null,
      "align_self": null,
      "border": null,
      "bottom": null,
      "display": null,
      "flex": null,
      "flex_flow": null,
      "grid_area": null,
      "grid_auto_columns": null,
      "grid_auto_flow": null,
      "grid_auto_rows": null,
      "grid_column": null,
      "grid_gap": null,
      "grid_row": null,
      "grid_template_areas": null,
      "grid_template_columns": null,
      "grid_template_rows": null,
      "height": null,
      "justify_content": null,
      "justify_items": null,
      "left": null,
      "margin": null,
      "max_height": null,
      "max_width": null,
      "min_height": null,
      "min_width": null,
      "object_fit": null,
      "object_position": null,
      "order": null,
      "overflow": null,
      "overflow_x": null,
      "overflow_y": null,
      "padding": null,
      "right": null,
      "top": null,
      "visibility": null,
      "width": null
     }
    },
    "0e7a77a2ff63483c87bfc0da47039766": {
     "model_module": "@jupyter-widgets/controls",
     "model_module_version": "1.5.0",
     "model_name": "DescriptionStyleModel",
     "state": {
      "_model_module": "@jupyter-widgets/controls",
      "_model_module_version": "1.5.0",
      "_model_name": "DescriptionStyleModel",
      "_view_count": null,
      "_view_module": "@jupyter-widgets/base",
      "_view_module_version": "1.2.0",
      "_view_name": "StyleView",
      "description_width": ""
     }
    },
    "1093830dc6404743bccb59e4a77e8cce": {
     "model_module": "@jupyter-widgets/base",
     "model_module_version": "1.2.0",
     "model_name": "LayoutModel",
     "state": {
      "_model_module": "@jupyter-widgets/base",
      "_model_module_version": "1.2.0",
      "_model_name": "LayoutModel",
      "_view_count": null,
      "_view_module": "@jupyter-widgets/base",
      "_view_module_version": "1.2.0",
      "_view_name": "LayoutView",
      "align_content": null,
      "align_items": null,
      "align_self": null,
      "border": null,
      "bottom": null,
      "display": null,
      "flex": null,
      "flex_flow": null,
      "grid_area": null,
      "grid_auto_columns": null,
      "grid_auto_flow": null,
      "grid_auto_rows": null,
      "grid_column": null,
      "grid_gap": null,
      "grid_row": null,
      "grid_template_areas": null,
      "grid_template_columns": null,
      "grid_template_rows": null,
      "height": null,
      "justify_content": null,
      "justify_items": null,
      "left": null,
      "margin": null,
      "max_height": null,
      "max_width": null,
      "min_height": null,
      "min_width": null,
      "object_fit": null,
      "object_position": null,
      "order": null,
      "overflow": null,
      "overflow_x": null,
      "overflow_y": null,
      "padding": null,
      "right": null,
      "top": null,
      "visibility": null,
      "width": null
     }
    },
    "1269e01bf4194614a1019f9c9f4a8f02": {
     "model_module": "@jupyter-widgets/base",
     "model_module_version": "1.2.0",
     "model_name": "LayoutModel",
     "state": {
      "_model_module": "@jupyter-widgets/base",
      "_model_module_version": "1.2.0",
      "_model_name": "LayoutModel",
      "_view_count": null,
      "_view_module": "@jupyter-widgets/base",
      "_view_module_version": "1.2.0",
      "_view_name": "LayoutView",
      "align_content": null,
      "align_items": null,
      "align_self": null,
      "border": null,
      "bottom": null,
      "display": null,
      "flex": null,
      "flex_flow": null,
      "grid_area": null,
      "grid_auto_columns": null,
      "grid_auto_flow": null,
      "grid_auto_rows": null,
      "grid_column": null,
      "grid_gap": null,
      "grid_row": null,
      "grid_template_areas": null,
      "grid_template_columns": null,
      "grid_template_rows": null,
      "height": null,
      "justify_content": null,
      "justify_items": null,
      "left": null,
      "margin": null,
      "max_height": null,
      "max_width": null,
      "min_height": null,
      "min_width": null,
      "object_fit": null,
      "object_position": null,
      "order": null,
      "overflow": null,
      "overflow_x": null,
      "overflow_y": null,
      "padding": null,
      "right": null,
      "top": null,
      "visibility": null,
      "width": null
     }
    },
    "1312062edbb745be8720d6bc03063503": {
     "model_module": "@jupyter-widgets/controls",
     "model_module_version": "1.5.0",
     "model_name": "ProgressStyleModel",
     "state": {
      "_model_module": "@jupyter-widgets/controls",
      "_model_module_version": "1.5.0",
      "_model_name": "ProgressStyleModel",
      "_view_count": null,
      "_view_module": "@jupyter-widgets/base",
      "_view_module_version": "1.2.0",
      "_view_name": "StyleView",
      "bar_color": null,
      "description_width": ""
     }
    },
    "13f1cc0c6162450c96e593e047512254": {
     "model_module": "@jupyter-widgets/controls",
     "model_module_version": "1.5.0",
     "model_name": "HBoxModel",
     "state": {
      "_dom_classes": [],
      "_model_module": "@jupyter-widgets/controls",
      "_model_module_version": "1.5.0",
      "_model_name": "HBoxModel",
      "_view_count": null,
      "_view_module": "@jupyter-widgets/controls",
      "_view_module_version": "1.5.0",
      "_view_name": "HBoxView",
      "box_style": "",
      "children": [
       "IPY_MODEL_88c18ee41ed4406693c8c555c15987e0",
       "IPY_MODEL_8476a4344c3d4527a08344ca87b00bde",
       "IPY_MODEL_9c5a64fc274a4213befcd1d4953426d1"
      ],
      "layout": "IPY_MODEL_97a18bba3cf740e78bbfc45bcd33cdd2"
     }
    },
    "168799932aad460fa33df1c892d16ac9": {
     "model_module": "@jupyter-widgets/controls",
     "model_module_version": "1.5.0",
     "model_name": "DescriptionStyleModel",
     "state": {
      "_model_module": "@jupyter-widgets/controls",
      "_model_module_version": "1.5.0",
      "_model_name": "DescriptionStyleModel",
      "_view_count": null,
      "_view_module": "@jupyter-widgets/base",
      "_view_module_version": "1.2.0",
      "_view_name": "StyleView",
      "description_width": ""
     }
    },
    "16975fdf494a4a9fb0d118ef13212260": {
     "model_module": "@jupyter-widgets/base",
     "model_module_version": "1.2.0",
     "model_name": "LayoutModel",
     "state": {
      "_model_module": "@jupyter-widgets/base",
      "_model_module_version": "1.2.0",
      "_model_name": "LayoutModel",
      "_view_count": null,
      "_view_module": "@jupyter-widgets/base",
      "_view_module_version": "1.2.0",
      "_view_name": "LayoutView",
      "align_content": null,
      "align_items": null,
      "align_self": null,
      "border": null,
      "bottom": null,
      "display": null,
      "flex": null,
      "flex_flow": null,
      "grid_area": null,
      "grid_auto_columns": null,
      "grid_auto_flow": null,
      "grid_auto_rows": null,
      "grid_column": null,
      "grid_gap": null,
      "grid_row": null,
      "grid_template_areas": null,
      "grid_template_columns": null,
      "grid_template_rows": null,
      "height": null,
      "justify_content": null,
      "justify_items": null,
      "left": null,
      "margin": null,
      "max_height": null,
      "max_width": null,
      "min_height": null,
      "min_width": null,
      "object_fit": null,
      "object_position": null,
      "order": null,
      "overflow": null,
      "overflow_x": null,
      "overflow_y": null,
      "padding": null,
      "right": null,
      "top": null,
      "visibility": null,
      "width": null
     }
    },
    "17421497b9c64658a75971c5b10b222e": {
     "model_module": "@jupyter-widgets/controls",
     "model_module_version": "1.5.0",
     "model_name": "DescriptionStyleModel",
     "state": {
      "_model_module": "@jupyter-widgets/controls",
      "_model_module_version": "1.5.0",
      "_model_name": "DescriptionStyleModel",
      "_view_count": null,
      "_view_module": "@jupyter-widgets/base",
      "_view_module_version": "1.2.0",
      "_view_name": "StyleView",
      "description_width": ""
     }
    },
    "1790e9531aff46a39a5829b21412d748": {
     "model_module": "@jupyter-widgets/base",
     "model_module_version": "1.2.0",
     "model_name": "LayoutModel",
     "state": {
      "_model_module": "@jupyter-widgets/base",
      "_model_module_version": "1.2.0",
      "_model_name": "LayoutModel",
      "_view_count": null,
      "_view_module": "@jupyter-widgets/base",
      "_view_module_version": "1.2.0",
      "_view_name": "LayoutView",
      "align_content": null,
      "align_items": null,
      "align_self": null,
      "border": null,
      "bottom": null,
      "display": null,
      "flex": null,
      "flex_flow": null,
      "grid_area": null,
      "grid_auto_columns": null,
      "grid_auto_flow": null,
      "grid_auto_rows": null,
      "grid_column": null,
      "grid_gap": null,
      "grid_row": null,
      "grid_template_areas": null,
      "grid_template_columns": null,
      "grid_template_rows": null,
      "height": null,
      "justify_content": null,
      "justify_items": null,
      "left": null,
      "margin": null,
      "max_height": null,
      "max_width": null,
      "min_height": null,
      "min_width": null,
      "object_fit": null,
      "object_position": null,
      "order": null,
      "overflow": null,
      "overflow_x": null,
      "overflow_y": null,
      "padding": null,
      "right": null,
      "top": null,
      "visibility": null,
      "width": null
     }
    },
    "17a6af69f58c4e6a943b0f66cbd523dc": {
     "model_module": "@jupyter-widgets/controls",
     "model_module_version": "1.5.0",
     "model_name": "HTMLModel",
     "state": {
      "_dom_classes": [],
      "_model_module": "@jupyter-widgets/controls",
      "_model_module_version": "1.5.0",
      "_model_name": "HTMLModel",
      "_view_count": null,
      "_view_module": "@jupyter-widgets/controls",
      "_view_module_version": "1.5.0",
      "_view_name": "HTMLView",
      "description": "",
      "description_tooltip": null,
      "layout": "IPY_MODEL_7235495678d04b57ad017a2bd36ccb51",
      "placeholder": "​",
      "style": "IPY_MODEL_a21fcf3d86894bb9b58cb708fe3c30e6",
      "value": " 762/762 [00:00&lt;00:00, 56.7kB/s]"
     }
    },
    "1852997351df4d07b1aca54c754e42cc": {
     "model_module": "@jupyter-widgets/base",
     "model_module_version": "1.2.0",
     "model_name": "LayoutModel",
     "state": {
      "_model_module": "@jupyter-widgets/base",
      "_model_module_version": "1.2.0",
      "_model_name": "LayoutModel",
      "_view_count": null,
      "_view_module": "@jupyter-widgets/base",
      "_view_module_version": "1.2.0",
      "_view_name": "LayoutView",
      "align_content": null,
      "align_items": null,
      "align_self": null,
      "border": null,
      "bottom": null,
      "display": null,
      "flex": null,
      "flex_flow": null,
      "grid_area": null,
      "grid_auto_columns": null,
      "grid_auto_flow": null,
      "grid_auto_rows": null,
      "grid_column": null,
      "grid_gap": null,
      "grid_row": null,
      "grid_template_areas": null,
      "grid_template_columns": null,
      "grid_template_rows": null,
      "height": null,
      "justify_content": null,
      "justify_items": null,
      "left": null,
      "margin": null,
      "max_height": null,
      "max_width": null,
      "min_height": null,
      "min_width": null,
      "object_fit": null,
      "object_position": null,
      "order": null,
      "overflow": null,
      "overflow_x": null,
      "overflow_y": null,
      "padding": null,
      "right": null,
      "top": null,
      "visibility": null,
      "width": null
     }
    },
    "1971d33dfbdd4dad941f88d25d1eed3b": {
     "model_module": "@jupyter-widgets/controls",
     "model_module_version": "1.5.0",
     "model_name": "DescriptionStyleModel",
     "state": {
      "_model_module": "@jupyter-widgets/controls",
      "_model_module_version": "1.5.0",
      "_model_name": "DescriptionStyleModel",
      "_view_count": null,
      "_view_module": "@jupyter-widgets/base",
      "_view_module_version": "1.2.0",
      "_view_name": "StyleView",
      "description_width": ""
     }
    },
    "19fe76e1e87d410b8776fe35d84fe05d": {
     "model_module": "@jupyter-widgets/controls",
     "model_module_version": "1.5.0",
     "model_name": "FloatProgressModel",
     "state": {
      "_dom_classes": [],
      "_model_module": "@jupyter-widgets/controls",
      "_model_module_version": "1.5.0",
      "_model_name": "FloatProgressModel",
      "_view_count": null,
      "_view_module": "@jupyter-widgets/controls",
      "_view_module_version": "1.5.0",
      "_view_name": "ProgressView",
      "bar_style": "success",
      "description": "",
      "description_tooltip": null,
      "layout": "IPY_MODEL_e4efe8ce5d1a401580347dccca3a01f4",
      "max": 124,
      "min": 0,
      "orientation": "horizontal",
      "style": "IPY_MODEL_581c1f8bc6b84c8783906946836f1ecd",
      "value": 124
     }
    },
    "1ac9004218db446586e38cc3d25d21f2": {
     "model_module": "@jupyter-widgets/base",
     "model_module_version": "1.2.0",
     "model_name": "LayoutModel",
     "state": {
      "_model_module": "@jupyter-widgets/base",
      "_model_module_version": "1.2.0",
      "_model_name": "LayoutModel",
      "_view_count": null,
      "_view_module": "@jupyter-widgets/base",
      "_view_module_version": "1.2.0",
      "_view_name": "LayoutView",
      "align_content": null,
      "align_items": null,
      "align_self": null,
      "border": null,
      "bottom": null,
      "display": null,
      "flex": null,
      "flex_flow": null,
      "grid_area": null,
      "grid_auto_columns": null,
      "grid_auto_flow": null,
      "grid_auto_rows": null,
      "grid_column": null,
      "grid_gap": null,
      "grid_row": null,
      "grid_template_areas": null,
      "grid_template_columns": null,
      "grid_template_rows": null,
      "height": null,
      "justify_content": null,
      "justify_items": null,
      "left": null,
      "margin": null,
      "max_height": null,
      "max_width": null,
      "min_height": null,
      "min_width": null,
      "object_fit": null,
      "object_position": null,
      "order": null,
      "overflow": null,
      "overflow_x": null,
      "overflow_y": null,
      "padding": null,
      "right": null,
      "top": null,
      "visibility": null,
      "width": null
     }
    },
    "1ca7f970fe5f4c68b7e3dfcd0bb31724": {
     "model_module": "@jupyter-widgets/base",
     "model_module_version": "1.2.0",
     "model_name": "LayoutModel",
     "state": {
      "_model_module": "@jupyter-widgets/base",
      "_model_module_version": "1.2.0",
      "_model_name": "LayoutModel",
      "_view_count": null,
      "_view_module": "@jupyter-widgets/base",
      "_view_module_version": "1.2.0",
      "_view_name": "LayoutView",
      "align_content": null,
      "align_items": null,
      "align_self": null,
      "border": null,
      "bottom": null,
      "display": null,
      "flex": null,
      "flex_flow": null,
      "grid_area": null,
      "grid_auto_columns": null,
      "grid_auto_flow": null,
      "grid_auto_rows": null,
      "grid_column": null,
      "grid_gap": null,
      "grid_row": null,
      "grid_template_areas": null,
      "grid_template_columns": null,
      "grid_template_rows": null,
      "height": null,
      "justify_content": null,
      "justify_items": null,
      "left": null,
      "margin": null,
      "max_height": null,
      "max_width": null,
      "min_height": null,
      "min_width": null,
      "object_fit": null,
      "object_position": null,
      "order": null,
      "overflow": null,
      "overflow_x": null,
      "overflow_y": null,
      "padding": null,
      "right": null,
      "top": null,
      "visibility": null,
      "width": null
     }
    },
    "22a34f1f3d7f4bdcacc37d3496f8001e": {
     "model_module": "@jupyter-widgets/base",
     "model_module_version": "1.2.0",
     "model_name": "LayoutModel",
     "state": {
      "_model_module": "@jupyter-widgets/base",
      "_model_module_version": "1.2.0",
      "_model_name": "LayoutModel",
      "_view_count": null,
      "_view_module": "@jupyter-widgets/base",
      "_view_module_version": "1.2.0",
      "_view_name": "LayoutView",
      "align_content": null,
      "align_items": null,
      "align_self": null,
      "border": null,
      "bottom": null,
      "display": null,
      "flex": null,
      "flex_flow": null,
      "grid_area": null,
      "grid_auto_columns": null,
      "grid_auto_flow": null,
      "grid_auto_rows": null,
      "grid_column": null,
      "grid_gap": null,
      "grid_row": null,
      "grid_template_areas": null,
      "grid_template_columns": null,
      "grid_template_rows": null,
      "height": null,
      "justify_content": null,
      "justify_items": null,
      "left": null,
      "margin": null,
      "max_height": null,
      "max_width": null,
      "min_height": null,
      "min_width": null,
      "object_fit": null,
      "object_position": null,
      "order": null,
      "overflow": null,
      "overflow_x": null,
      "overflow_y": null,
      "padding": null,
      "right": null,
      "top": null,
      "visibility": null,
      "width": null
     }
    },
    "2343fb0846774e67bad7c56ab3da6620": {
     "model_module": "@jupyter-widgets/controls",
     "model_module_version": "1.5.0",
     "model_name": "DescriptionStyleModel",
     "state": {
      "_model_module": "@jupyter-widgets/controls",
      "_model_module_version": "1.5.0",
      "_model_name": "DescriptionStyleModel",
      "_view_count": null,
      "_view_module": "@jupyter-widgets/base",
      "_view_module_version": "1.2.0",
      "_view_name": "StyleView",
      "description_width": ""
     }
    },
    "2473c1f588b047d48ce6dd95495f26b9": {
     "model_module": "@jupyter-widgets/controls",
     "model_module_version": "1.5.0",
     "model_name": "HTMLModel",
     "state": {
      "_dom_classes": [],
      "_model_module": "@jupyter-widgets/controls",
      "_model_module_version": "1.5.0",
      "_model_name": "HTMLModel",
      "_view_count": null,
      "_view_module": "@jupyter-widgets/controls",
      "_view_module_version": "1.5.0",
      "_view_name": "HTMLView",
      "description": "",
      "description_tooltip": null,
      "layout": "IPY_MODEL_67d532e0407e44c9b1fed3e611f72fa1",
      "placeholder": "​",
      "style": "IPY_MODEL_6bb478d5d258403a892d5c8a8e642000",
      "value": " 227M/227M [00:10&lt;00:00, 23.0MB/s]"
     }
    },
    "25bf9f8e3fae46b1b683ea4751030abb": {
     "model_module": "@jupyter-widgets/controls",
     "model_module_version": "1.5.0",
     "model_name": "FloatProgressModel",
     "state": {
      "_dom_classes": [],
      "_model_module": "@jupyter-widgets/controls",
      "_model_module_version": "1.5.0",
      "_model_name": "FloatProgressModel",
      "_view_count": null,
      "_view_module": "@jupyter-widgets/controls",
      "_view_module_version": "1.5.0",
      "_view_name": "ProgressView",
      "bar_style": "success",
      "description": "",
      "description_tooltip": null,
      "layout": "IPY_MODEL_04c4ccf0cc4d4b938b8c151fdf4076e7",
      "max": 227146782,
      "min": 0,
      "orientation": "horizontal",
      "style": "IPY_MODEL_58ab3c1063ec4488be5645132b0cc0ae",
      "value": 227146782
     }
    },
    "2804faa5f4c9438985359f9999e93036": {
     "model_module": "@jupyter-widgets/base",
     "model_module_version": "1.2.0",
     "model_name": "LayoutModel",
     "state": {
      "_model_module": "@jupyter-widgets/base",
      "_model_module_version": "1.2.0",
      "_model_name": "LayoutModel",
      "_view_count": null,
      "_view_module": "@jupyter-widgets/base",
      "_view_module_version": "1.2.0",
      "_view_name": "LayoutView",
      "align_content": null,
      "align_items": null,
      "align_self": null,
      "border": null,
      "bottom": null,
      "display": null,
      "flex": null,
      "flex_flow": null,
      "grid_area": null,
      "grid_auto_columns": null,
      "grid_auto_flow": null,
      "grid_auto_rows": null,
      "grid_column": null,
      "grid_gap": null,
      "grid_row": null,
      "grid_template_areas": null,
      "grid_template_columns": null,
      "grid_template_rows": null,
      "height": null,
      "justify_content": null,
      "justify_items": null,
      "left": null,
      "margin": null,
      "max_height": null,
      "max_width": null,
      "min_height": null,
      "min_width": null,
      "object_fit": null,
      "object_position": null,
      "order": null,
      "overflow": null,
      "overflow_x": null,
      "overflow_y": null,
      "padding": null,
      "right": null,
      "top": null,
      "visibility": null,
      "width": null
     }
    },
    "29cf51ae355f4ef5962b739b8b75b59b": {
     "model_module": "@jupyter-widgets/controls",
     "model_module_version": "1.5.0",
     "model_name": "HTMLModel",
     "state": {
      "_dom_classes": [],
      "_model_module": "@jupyter-widgets/controls",
      "_model_module_version": "1.5.0",
      "_model_name": "HTMLModel",
      "_view_count": null,
      "_view_module": "@jupyter-widgets/controls",
      "_view_module_version": "1.5.0",
      "_view_name": "HTMLView",
      "description": "",
      "description_tooltip": null,
      "layout": "IPY_MODEL_0acc92423b164755b293206ce74ec3ee",
      "placeholder": "​",
      "style": "IPY_MODEL_c6d823ba5c414f899b4f6289ee612bc0",
      "value": "Downloading (…)/main/tokenizer.json: 100%"
     }
    },
    "2a1490f9218048418bf2136d2339796b": {
     "model_module": "@jupyter-widgets/base",
     "model_module_version": "1.2.0",
     "model_name": "LayoutModel",
     "state": {
      "_model_module": "@jupyter-widgets/base",
      "_model_module_version": "1.2.0",
      "_model_name": "LayoutModel",
      "_view_count": null,
      "_view_module": "@jupyter-widgets/base",
      "_view_module_version": "1.2.0",
      "_view_name": "LayoutView",
      "align_content": null,
      "align_items": null,
      "align_self": null,
      "border": null,
      "bottom": null,
      "display": null,
      "flex": null,
      "flex_flow": null,
      "grid_area": null,
      "grid_auto_columns": null,
      "grid_auto_flow": null,
      "grid_auto_rows": null,
      "grid_column": null,
      "grid_gap": null,
      "grid_row": null,
      "grid_template_areas": null,
      "grid_template_columns": null,
      "grid_template_rows": null,
      "height": null,
      "justify_content": null,
      "justify_items": null,
      "left": null,
      "margin": null,
      "max_height": null,
      "max_width": null,
      "min_height": null,
      "min_width": null,
      "object_fit": null,
      "object_position": null,
      "order": null,
      "overflow": null,
      "overflow_x": null,
      "overflow_y": null,
      "padding": null,
      "right": null,
      "top": null,
      "visibility": null,
      "width": null
     }
    },
    "2b3f0930909741d9a1d23d7fbb1d66ca": {
     "model_module": "@jupyter-widgets/controls",
     "model_module_version": "1.5.0",
     "model_name": "ProgressStyleModel",
     "state": {
      "_model_module": "@jupyter-widgets/controls",
      "_model_module_version": "1.5.0",
      "_model_name": "ProgressStyleModel",
      "_view_count": null,
      "_view_module": "@jupyter-widgets/base",
      "_view_module_version": "1.2.0",
      "_view_name": "StyleView",
      "bar_color": null,
      "description_width": ""
     }
    },
    "2be1145356c74ef1a474382cc4075775": {
     "model_module": "@jupyter-widgets/controls",
     "model_module_version": "1.5.0",
     "model_name": "ProgressStyleModel",
     "state": {
      "_model_module": "@jupyter-widgets/controls",
      "_model_module_version": "1.5.0",
      "_model_name": "ProgressStyleModel",
      "_view_count": null,
      "_view_module": "@jupyter-widgets/base",
      "_view_module_version": "1.2.0",
      "_view_name": "StyleView",
      "bar_color": null,
      "description_width": ""
     }
    },
    "2cb7ee4f883a46cdbcd507664c81c6fc": {
     "model_module": "@jupyter-widgets/controls",
     "model_module_version": "1.5.0",
     "model_name": "HTMLModel",
     "state": {
      "_dom_classes": [],
      "_model_module": "@jupyter-widgets/controls",
      "_model_module_version": "1.5.0",
      "_model_name": "HTMLModel",
      "_view_count": null,
      "_view_module": "@jupyter-widgets/controls",
      "_view_module_version": "1.5.0",
      "_view_name": "HTMLView",
      "description": "",
      "description_tooltip": null,
      "layout": "IPY_MODEL_2e7a009bd1ba439f9773a8a3bb08d76c",
      "placeholder": "​",
      "style": "IPY_MODEL_dab14c7ae47a4069afe947aa2e60ffc6",
      "value": "Downloading (…)lve/main/config.json: 100%"
     }
    },
    "2dc23f15fa00458b9a26107311eeb9d1": {
     "model_module": "@jupyter-widgets/controls",
     "model_module_version": "1.5.0",
     "model_name": "HTMLModel",
     "state": {
      "_dom_classes": [],
      "_model_module": "@jupyter-widgets/controls",
      "_model_module_version": "1.5.0",
      "_model_name": "HTMLModel",
      "_view_count": null,
      "_view_module": "@jupyter-widgets/controls",
      "_view_module_version": "1.5.0",
      "_view_name": "HTMLView",
      "description": "",
      "description_tooltip": null,
      "layout": "IPY_MODEL_5bb7e4b866594ef6a6b1ce2661b18dc0",
      "placeholder": "​",
      "style": "IPY_MODEL_9ef9f520315348e2a5c357587b5672f8",
      "value": "Downloading (…)cial_tokens_map.json: 100%"
     }
    },
    "2e7a009bd1ba439f9773a8a3bb08d76c": {
     "model_module": "@jupyter-widgets/base",
     "model_module_version": "1.2.0",
     "model_name": "LayoutModel",
     "state": {
      "_model_module": "@jupyter-widgets/base",
      "_model_module_version": "1.2.0",
      "_model_name": "LayoutModel",
      "_view_count": null,
      "_view_module": "@jupyter-widgets/base",
      "_view_module_version": "1.2.0",
      "_view_name": "LayoutView",
      "align_content": null,
      "align_items": null,
      "align_self": null,
      "border": null,
      "bottom": null,
      "display": null,
      "flex": null,
      "flex_flow": null,
      "grid_area": null,
      "grid_auto_columns": null,
      "grid_auto_flow": null,
      "grid_auto_rows": null,
      "grid_column": null,
      "grid_gap": null,
      "grid_row": null,
      "grid_template_areas": null,
      "grid_template_columns": null,
      "grid_template_rows": null,
      "height": null,
      "justify_content": null,
      "justify_items": null,
      "left": null,
      "margin": null,
      "max_height": null,
      "max_width": null,
      "min_height": null,
      "min_width": null,
      "object_fit": null,
      "object_position": null,
      "order": null,
      "overflow": null,
      "overflow_x": null,
      "overflow_y": null,
      "padding": null,
      "right": null,
      "top": null,
      "visibility": null,
      "width": null
     }
    },
    "2efd4acccc9d42a9a7a3c1a7b769300e": {
     "model_module": "@jupyter-widgets/base",
     "model_module_version": "1.2.0",
     "model_name": "LayoutModel",
     "state": {
      "_model_module": "@jupyter-widgets/base",
      "_model_module_version": "1.2.0",
      "_model_name": "LayoutModel",
      "_view_count": null,
      "_view_module": "@jupyter-widgets/base",
      "_view_module_version": "1.2.0",
      "_view_name": "LayoutView",
      "align_content": null,
      "align_items": null,
      "align_self": null,
      "border": null,
      "bottom": null,
      "display": null,
      "flex": null,
      "flex_flow": null,
      "grid_area": null,
      "grid_auto_columns": null,
      "grid_auto_flow": null,
      "grid_auto_rows": null,
      "grid_column": null,
      "grid_gap": null,
      "grid_row": null,
      "grid_template_areas": null,
      "grid_template_columns": null,
      "grid_template_rows": null,
      "height": null,
      "justify_content": null,
      "justify_items": null,
      "left": null,
      "margin": null,
      "max_height": null,
      "max_width": null,
      "min_height": null,
      "min_width": null,
      "object_fit": null,
      "object_position": null,
      "order": null,
      "overflow": null,
      "overflow_x": null,
      "overflow_y": null,
      "padding": null,
      "right": null,
      "top": null,
      "visibility": null,
      "width": null
     }
    },
    "306af263209e4d13a70f6807461910fa": {
     "model_module": "@jupyter-widgets/base",
     "model_module_version": "1.2.0",
     "model_name": "LayoutModel",
     "state": {
      "_model_module": "@jupyter-widgets/base",
      "_model_module_version": "1.2.0",
      "_model_name": "LayoutModel",
      "_view_count": null,
      "_view_module": "@jupyter-widgets/base",
      "_view_module_version": "1.2.0",
      "_view_name": "LayoutView",
      "align_content": null,
      "align_items": null,
      "align_self": null,
      "border": null,
      "bottom": null,
      "display": null,
      "flex": null,
      "flex_flow": null,
      "grid_area": null,
      "grid_auto_columns": null,
      "grid_auto_flow": null,
      "grid_auto_rows": null,
      "grid_column": null,
      "grid_gap": null,
      "grid_row": null,
      "grid_template_areas": null,
      "grid_template_columns": null,
      "grid_template_rows": null,
      "height": null,
      "justify_content": null,
      "justify_items": null,
      "left": null,
      "margin": null,
      "max_height": null,
      "max_width": null,
      "min_height": null,
      "min_width": null,
      "object_fit": null,
      "object_position": null,
      "order": null,
      "overflow": null,
      "overflow_x": null,
      "overflow_y": null,
      "padding": null,
      "right": null,
      "top": null,
      "visibility": null,
      "width": null
     }
    },
    "30ef9c85bd3940a9b6b011ef25ee3705": {
     "model_module": "@jupyter-widgets/base",
     "model_module_version": "1.2.0",
     "model_name": "LayoutModel",
     "state": {
      "_model_module": "@jupyter-widgets/base",
      "_model_module_version": "1.2.0",
      "_model_name": "LayoutModel",
      "_view_count": null,
      "_view_module": "@jupyter-widgets/base",
      "_view_module_version": "1.2.0",
      "_view_name": "LayoutView",
      "align_content": null,
      "align_items": null,
      "align_self": null,
      "border": null,
      "bottom": null,
      "display": null,
      "flex": null,
      "flex_flow": null,
      "grid_area": null,
      "grid_auto_columns": null,
      "grid_auto_flow": null,
      "grid_auto_rows": null,
      "grid_column": null,
      "grid_gap": null,
      "grid_row": null,
      "grid_template_areas": null,
      "grid_template_columns": null,
      "grid_template_rows": null,
      "height": null,
      "justify_content": null,
      "justify_items": null,
      "left": null,
      "margin": null,
      "max_height": null,
      "max_width": null,
      "min_height": null,
      "min_width": null,
      "object_fit": null,
      "object_position": null,
      "order": null,
      "overflow": null,
      "overflow_x": null,
      "overflow_y": null,
      "padding": null,
      "right": null,
      "top": null,
      "visibility": null,
      "width": null
     }
    },
    "327542ae2f014320a4d074a825ebf704": {
     "model_module": "@jupyter-widgets/base",
     "model_module_version": "1.2.0",
     "model_name": "LayoutModel",
     "state": {
      "_model_module": "@jupyter-widgets/base",
      "_model_module_version": "1.2.0",
      "_model_name": "LayoutModel",
      "_view_count": null,
      "_view_module": "@jupyter-widgets/base",
      "_view_module_version": "1.2.0",
      "_view_name": "LayoutView",
      "align_content": null,
      "align_items": null,
      "align_self": null,
      "border": null,
      "bottom": null,
      "display": null,
      "flex": null,
      "flex_flow": null,
      "grid_area": null,
      "grid_auto_columns": null,
      "grid_auto_flow": null,
      "grid_auto_rows": null,
      "grid_column": null,
      "grid_gap": null,
      "grid_row": null,
      "grid_template_areas": null,
      "grid_template_columns": null,
      "grid_template_rows": null,
      "height": null,
      "justify_content": null,
      "justify_items": null,
      "left": null,
      "margin": null,
      "max_height": null,
      "max_width": null,
      "min_height": null,
      "min_width": null,
      "object_fit": null,
      "object_position": null,
      "order": null,
      "overflow": null,
      "overflow_x": null,
      "overflow_y": null,
      "padding": null,
      "right": null,
      "top": null,
      "visibility": null,
      "width": null
     }
    },
    "32a39cae02244a3693f500a518fa8e07": {
     "model_module": "@jupyter-widgets/controls",
     "model_module_version": "1.5.0",
     "model_name": "HTMLModel",
     "state": {
      "_dom_classes": [],
      "_model_module": "@jupyter-widgets/controls",
      "_model_module_version": "1.5.0",
      "_model_name": "HTMLModel",
      "_view_count": null,
      "_view_module": "@jupyter-widgets/controls",
      "_view_module_version": "1.5.0",
      "_view_name": "HTMLView",
      "description": "",
      "description_tooltip": null,
      "layout": "IPY_MODEL_51e5210adbcc4ea5a140384fc0b533e9",
      "placeholder": "​",
      "style": "IPY_MODEL_d0d4ba53bd2142bbaaba8f26593dd9b0",
      "value": " 51.0/51.0 [00:00&lt;00:00, 2.49kB/s]"
     }
    },
    "340e12863a6d4b0e8dad3e84aa9b738d": {
     "model_module": "@jupyter-widgets/controls",
     "model_module_version": "1.5.0",
     "model_name": "HTMLModel",
     "state": {
      "_dom_classes": [],
      "_model_module": "@jupyter-widgets/controls",
      "_model_module_version": "1.5.0",
      "_model_name": "HTMLModel",
      "_view_count": null,
      "_view_module": "@jupyter-widgets/controls",
      "_view_module_version": "1.5.0",
      "_view_name": "HTMLView",
      "description": "",
      "description_tooltip": null,
      "layout": "IPY_MODEL_1093830dc6404743bccb59e4a77e8cce",
      "placeholder": "​",
      "style": "IPY_MODEL_93afb30ba7fa4f2dafe97b51a4ce7472",
      "value": "Downloading (…)lve/main/config.json: 100%"
     }
    },
    "34639a433bbc47c4892c96f8e9c5ee70": {
     "model_module": "@jupyter-widgets/controls",
     "model_module_version": "1.5.0",
     "model_name": "HBoxModel",
     "state": {
      "_dom_classes": [],
      "_model_module": "@jupyter-widgets/controls",
      "_model_module_version": "1.5.0",
      "_model_name": "HBoxModel",
      "_view_count": null,
      "_view_module": "@jupyter-widgets/controls",
      "_view_module_version": "1.5.0",
      "_view_name": "HBoxView",
      "box_style": "",
      "children": [
       "IPY_MODEL_5b30c8a4a77546a3bd1608d893b79d9e",
       "IPY_MODEL_44d15defeb914afc9dc9e3a4424c3248",
       "IPY_MODEL_598700b6124f4f31a45da925d0e463e5"
      ],
      "layout": "IPY_MODEL_1852997351df4d07b1aca54c754e42cc"
     }
    },
    "35f2bae35b234526bfd8a4bb663c26b7": {
     "model_module": "@jupyter-widgets/controls",
     "model_module_version": "1.5.0",
     "model_name": "HTMLModel",
     "state": {
      "_dom_classes": [],
      "_model_module": "@jupyter-widgets/controls",
      "_model_module_version": "1.5.0",
      "_model_name": "HTMLModel",
      "_view_count": null,
      "_view_module": "@jupyter-widgets/controls",
      "_view_module_version": "1.5.0",
      "_view_name": "HTMLView",
      "description": "",
      "description_tooltip": null,
      "layout": "IPY_MODEL_5a7326d6658d4a598aca84cf3561c2b7",
      "placeholder": "​",
      "style": "IPY_MODEL_168799932aad460fa33df1c892d16ac9",
      "value": "Downloading (…)neration_config.json: 100%"
     }
    },
    "36f3dc38d10b43f1a55c498c40b63187": {
     "model_module": "@jupyter-widgets/base",
     "model_module_version": "1.2.0",
     "model_name": "LayoutModel",
     "state": {
      "_model_module": "@jupyter-widgets/base",
      "_model_module_version": "1.2.0",
      "_model_name": "LayoutModel",
      "_view_count": null,
      "_view_module": "@jupyter-widgets/base",
      "_view_module_version": "1.2.0",
      "_view_name": "LayoutView",
      "align_content": null,
      "align_items": null,
      "align_self": null,
      "border": null,
      "bottom": null,
      "display": null,
      "flex": null,
      "flex_flow": null,
      "grid_area": null,
      "grid_auto_columns": null,
      "grid_auto_flow": null,
      "grid_auto_rows": null,
      "grid_column": null,
      "grid_gap": null,
      "grid_row": null,
      "grid_template_areas": null,
      "grid_template_columns": null,
      "grid_template_rows": null,
      "height": null,
      "justify_content": null,
      "justify_items": null,
      "left": null,
      "margin": null,
      "max_height": null,
      "max_width": null,
      "min_height": null,
      "min_width": null,
      "object_fit": null,
      "object_position": null,
      "order": null,
      "overflow": null,
      "overflow_x": null,
      "overflow_y": null,
      "padding": null,
      "right": null,
      "top": null,
      "visibility": null,
      "width": null
     }
    },
    "39053f1165ac4660b4d79b69fd8d4f9e": {
     "model_module": "@jupyter-widgets/controls",
     "model_module_version": "1.5.0",
     "model_name": "HBoxModel",
     "state": {
      "_dom_classes": [],
      "_model_module": "@jupyter-widgets/controls",
      "_model_module_version": "1.5.0",
      "_model_name": "HBoxModel",
      "_view_count": null,
      "_view_module": "@jupyter-widgets/controls",
      "_view_module_version": "1.5.0",
      "_view_name": "HBoxView",
      "box_style": "",
      "children": [
       "IPY_MODEL_7e0c7a0b36d74e0eab762299909c30f2",
       "IPY_MODEL_7789fa89caec45929fe006ac0725e89e",
       "IPY_MODEL_2473c1f588b047d48ce6dd95495f26b9"
      ],
      "layout": "IPY_MODEL_bdb1d4e4e81a48118c0cf26f6662802d"
     }
    },
    "39289e84fcb04e5e8b9ada300f36b9e7": {
     "model_module": "@jupyter-widgets/controls",
     "model_module_version": "1.5.0",
     "model_name": "ProgressStyleModel",
     "state": {
      "_model_module": "@jupyter-widgets/controls",
      "_model_module_version": "1.5.0",
      "_model_name": "ProgressStyleModel",
      "_view_count": null,
      "_view_module": "@jupyter-widgets/base",
      "_view_module_version": "1.2.0",
      "_view_name": "StyleView",
      "bar_color": null,
      "description_width": ""
     }
    },
    "3b7e18ee54db44e29439e9aea40a8ddb": {
     "model_module": "@jupyter-widgets/controls",
     "model_module_version": "1.5.0",
     "model_name": "HTMLModel",
     "state": {
      "_dom_classes": [],
      "_model_module": "@jupyter-widgets/controls",
      "_model_module_version": "1.5.0",
      "_model_name": "HTMLModel",
      "_view_count": null,
      "_view_module": "@jupyter-widgets/controls",
      "_view_module_version": "1.5.0",
      "_view_name": "HTMLView",
      "description": "",
      "description_tooltip": null,
      "layout": "IPY_MODEL_fefa7d321507416899ea86c124fc975b",
      "placeholder": "​",
      "style": "IPY_MODEL_17421497b9c64658a75971c5b10b222e",
      "value": " 1.27k/1.27k [00:00&lt;00:00, 99.8kB/s]"
     }
    },
    "3dee40b28cb041db814919990e0ba640": {
     "model_module": "@jupyter-widgets/base",
     "model_module_version": "1.2.0",
     "model_name": "LayoutModel",
     "state": {
      "_model_module": "@jupyter-widgets/base",
      "_model_module_version": "1.2.0",
      "_model_name": "LayoutModel",
      "_view_count": null,
      "_view_module": "@jupyter-widgets/base",
      "_view_module_version": "1.2.0",
      "_view_name": "LayoutView",
      "align_content": null,
      "align_items": null,
      "align_self": null,
      "border": null,
      "bottom": null,
      "display": null,
      "flex": null,
      "flex_flow": null,
      "grid_area": null,
      "grid_auto_columns": null,
      "grid_auto_flow": null,
      "grid_auto_rows": null,
      "grid_column": null,
      "grid_gap": null,
      "grid_row": null,
      "grid_template_areas": null,
      "grid_template_columns": null,
      "grid_template_rows": null,
      "height": null,
      "justify_content": null,
      "justify_items": null,
      "left": null,
      "margin": null,
      "max_height": null,
      "max_width": null,
      "min_height": null,
      "min_width": null,
      "object_fit": null,
      "object_position": null,
      "order": null,
      "overflow": null,
      "overflow_x": null,
      "overflow_y": null,
      "padding": null,
      "right": null,
      "top": null,
      "visibility": null,
      "width": null
     }
    },
    "3f9e5708942c46568a04dfec55e238f7": {
     "model_module": "@jupyter-widgets/base",
     "model_module_version": "1.2.0",
     "model_name": "LayoutModel",
     "state": {
      "_model_module": "@jupyter-widgets/base",
      "_model_module_version": "1.2.0",
      "_model_name": "LayoutModel",
      "_view_count": null,
      "_view_module": "@jupyter-widgets/base",
      "_view_module_version": "1.2.0",
      "_view_name": "LayoutView",
      "align_content": null,
      "align_items": null,
      "align_self": null,
      "border": null,
      "bottom": null,
      "display": null,
      "flex": null,
      "flex_flow": null,
      "grid_area": null,
      "grid_auto_columns": null,
      "grid_auto_flow": null,
      "grid_auto_rows": null,
      "grid_column": null,
      "grid_gap": null,
      "grid_row": null,
      "grid_template_areas": null,
      "grid_template_columns": null,
      "grid_template_rows": null,
      "height": null,
      "justify_content": null,
      "justify_items": null,
      "left": null,
      "margin": null,
      "max_height": null,
      "max_width": null,
      "min_height": null,
      "min_width": null,
      "object_fit": null,
      "object_position": null,
      "order": null,
      "overflow": null,
      "overflow_x": null,
      "overflow_y": null,
      "padding": null,
      "right": null,
      "top": null,
      "visibility": null,
      "width": null
     }
    },
    "3ffd3082962a4a67bbedd5e01fc6f3a8": {
     "model_module": "@jupyter-widgets/base",
     "model_module_version": "1.2.0",
     "model_name": "LayoutModel",
     "state": {
      "_model_module": "@jupyter-widgets/base",
      "_model_module_version": "1.2.0",
      "_model_name": "LayoutModel",
      "_view_count": null,
      "_view_module": "@jupyter-widgets/base",
      "_view_module_version": "1.2.0",
      "_view_name": "LayoutView",
      "align_content": null,
      "align_items": null,
      "align_self": null,
      "border": null,
      "bottom": null,
      "display": null,
      "flex": null,
      "flex_flow": null,
      "grid_area": null,
      "grid_auto_columns": null,
      "grid_auto_flow": null,
      "grid_auto_rows": null,
      "grid_column": null,
      "grid_gap": null,
      "grid_row": null,
      "grid_template_areas": null,
      "grid_template_columns": null,
      "grid_template_rows": null,
      "height": null,
      "justify_content": null,
      "justify_items": null,
      "left": null,
      "margin": null,
      "max_height": null,
      "max_width": null,
      "min_height": null,
      "min_width": null,
      "object_fit": null,
      "object_position": null,
      "order": null,
      "overflow": null,
      "overflow_x": null,
      "overflow_y": null,
      "padding": null,
      "right": null,
      "top": null,
      "visibility": null,
      "width": null
     }
    },
    "403185cd1d8348968eeddb13e89cd809": {
     "model_module": "@jupyter-widgets/controls",
     "model_module_version": "1.5.0",
     "model_name": "FloatProgressModel",
     "state": {
      "_dom_classes": [],
      "_model_module": "@jupyter-widgets/controls",
      "_model_module_version": "1.5.0",
      "_model_name": "FloatProgressModel",
      "_view_count": null,
      "_view_module": "@jupyter-widgets/controls",
      "_view_module_version": "1.5.0",
      "_view_name": "ProgressView",
      "bar_style": "success",
      "description": "",
      "description_tooltip": null,
      "layout": "IPY_MODEL_03fe9892ab934d4692f44b04d560cd68",
      "max": 352824413,
      "min": 0,
      "orientation": "horizontal",
      "style": "IPY_MODEL_4667bbbada824e609211d81c35d42543",
      "value": 352824413
     }
    },
    "4101c7a0d82d4c79817e6e910be41a13": {
     "model_module": "@jupyter-widgets/controls",
     "model_module_version": "1.5.0",
     "model_name": "ProgressStyleModel",
     "state": {
      "_model_module": "@jupyter-widgets/controls",
      "_model_module_version": "1.5.0",
      "_model_name": "ProgressStyleModel",
      "_view_count": null,
      "_view_module": "@jupyter-widgets/base",
      "_view_module_version": "1.2.0",
      "_view_name": "StyleView",
      "bar_color": null,
      "description_width": ""
     }
    },
    "412e09bd76004b43a7f9dcc45a4121d8": {
     "model_module": "@jupyter-widgets/controls",
     "model_module_version": "1.5.0",
     "model_name": "ProgressStyleModel",
     "state": {
      "_model_module": "@jupyter-widgets/controls",
      "_model_module_version": "1.5.0",
      "_model_name": "ProgressStyleModel",
      "_view_count": null,
      "_view_module": "@jupyter-widgets/base",
      "_view_module_version": "1.2.0",
      "_view_name": "StyleView",
      "bar_color": null,
      "description_width": ""
     }
    },
    "41c99bb6c6ce4ff8812ed0f0e596479b": {
     "model_module": "@jupyter-widgets/controls",
     "model_module_version": "1.5.0",
     "model_name": "HBoxModel",
     "state": {
      "_dom_classes": [],
      "_model_module": "@jupyter-widgets/controls",
      "_model_module_version": "1.5.0",
      "_model_name": "HBoxModel",
      "_view_count": null,
      "_view_module": "@jupyter-widgets/controls",
      "_view_module_version": "1.5.0",
      "_view_name": "HBoxView",
      "box_style": "",
      "children": [
       "IPY_MODEL_2dc23f15fa00458b9a26107311eeb9d1",
       "IPY_MODEL_ebd8886c8964434383da300b8e726538",
       "IPY_MODEL_b33d8226816c40ab897c51a6dd43a69a"
      ],
      "layout": "IPY_MODEL_2a1490f9218048418bf2136d2339796b"
     }
    },
    "42e190f57d8f4e9981a0978d5a5cb22f": {
     "model_module": "@jupyter-widgets/controls",
     "model_module_version": "1.5.0",
     "model_name": "HTMLModel",
     "state": {
      "_dom_classes": [],
      "_model_module": "@jupyter-widgets/controls",
      "_model_module_version": "1.5.0",
      "_model_name": "HTMLModel",
      "_view_count": null,
      "_view_module": "@jupyter-widgets/controls",
      "_view_module_version": "1.5.0",
      "_view_name": "HTMLView",
      "description": "",
      "description_tooltip": null,
      "layout": "IPY_MODEL_1ac9004218db446586e38cc3d25d21f2",
      "placeholder": "​",
      "style": "IPY_MODEL_1971d33dfbdd4dad941f88d25d1eed3b",
      "value": " 50/50 [00:01&lt;00:00, 38.88it/s]"
     }
    },
    "4465a4d3f5aa4590bf9bfe70daf245ed": {
     "model_module": "@jupyter-widgets/base",
     "model_module_version": "1.2.0",
     "model_name": "LayoutModel",
     "state": {
      "_model_module": "@jupyter-widgets/base",
      "_model_module_version": "1.2.0",
      "_model_name": "LayoutModel",
      "_view_count": null,
      "_view_module": "@jupyter-widgets/base",
      "_view_module_version": "1.2.0",
      "_view_name": "LayoutView",
      "align_content": null,
      "align_items": null,
      "align_self": null,
      "border": null,
      "bottom": null,
      "display": null,
      "flex": null,
      "flex_flow": null,
      "grid_area": null,
      "grid_auto_columns": null,
      "grid_auto_flow": null,
      "grid_auto_rows": null,
      "grid_column": null,
      "grid_gap": null,
      "grid_row": null,
      "grid_template_areas": null,
      "grid_template_columns": null,
      "grid_template_rows": null,
      "height": null,
      "justify_content": null,
      "justify_items": null,
      "left": null,
      "margin": null,
      "max_height": null,
      "max_width": null,
      "min_height": null,
      "min_width": null,
      "object_fit": null,
      "object_position": null,
      "order": null,
      "overflow": null,
      "overflow_x": null,
      "overflow_y": null,
      "padding": null,
      "right": null,
      "top": null,
      "visibility": null,
      "width": null
     }
    },
    "44d15defeb914afc9dc9e3a4424c3248": {
     "model_module": "@jupyter-widgets/controls",
     "model_module_version": "1.5.0",
     "model_name": "FloatProgressModel",
     "state": {
      "_dom_classes": [],
      "_model_module": "@jupyter-widgets/controls",
      "_model_module_version": "1.5.0",
      "_model_name": "FloatProgressModel",
      "_view_count": null,
      "_view_module": "@jupyter-widgets/controls",
      "_view_module_version": "1.5.0",
      "_view_name": "ProgressView",
      "bar_style": "success",
      "description": "",
      "description_tooltip": null,
      "layout": "IPY_MODEL_2efd4acccc9d42a9a7a3c1a7b769300e",
      "max": 227146782,
      "min": 0,
      "orientation": "horizontal",
      "style": "IPY_MODEL_1312062edbb745be8720d6bc03063503",
      "value": 227146782
     }
    },
    "4667bbbada824e609211d81c35d42543": {
     "model_module": "@jupyter-widgets/controls",
     "model_module_version": "1.5.0",
     "model_name": "ProgressStyleModel",
     "state": {
      "_model_module": "@jupyter-widgets/controls",
      "_model_module_version": "1.5.0",
      "_model_name": "ProgressStyleModel",
      "_view_count": null,
      "_view_module": "@jupyter-widgets/base",
      "_view_module_version": "1.2.0",
      "_view_name": "StyleView",
      "bar_color": null,
      "description_width": ""
     }
    },
    "4833ce1cced84c3586c3583fa5910105": {
     "model_module": "@jupyter-widgets/controls",
     "model_module_version": "1.5.0",
     "model_name": "HTMLModel",
     "state": {
      "_dom_classes": [],
      "_model_module": "@jupyter-widgets/controls",
      "_model_module_version": "1.5.0",
      "_model_name": "HTMLModel",
      "_view_count": null,
      "_view_module": "@jupyter-widgets/controls",
      "_view_module_version": "1.5.0",
      "_view_name": "HTMLView",
      "description": "",
      "description_tooltip": null,
      "layout": "IPY_MODEL_5c5d9da626ba43a0ba1b42dccedae03a",
      "placeholder": "​",
      "style": "IPY_MODEL_798d895255544782baf378538de39f70",
      "value": " 124/124 [00:00&lt;00:00, 8.54kB/s]"
     }
    },
    "48c6f44ebd4f42dc9c4c95d87fe34f5b": {
     "model_module": "@jupyter-widgets/controls",
     "model_module_version": "1.5.0",
     "model_name": "DescriptionStyleModel",
     "state": {
      "_model_module": "@jupyter-widgets/controls",
      "_model_module_version": "1.5.0",
      "_model_name": "DescriptionStyleModel",
      "_view_count": null,
      "_view_module": "@jupyter-widgets/base",
      "_view_module_version": "1.2.0",
      "_view_name": "StyleView",
      "description_width": ""
     }
    },
    "4b5569b857f84acf9a8bdb46d58a672a": {
     "model_module": "@jupyter-widgets/base",
     "model_module_version": "1.2.0",
     "model_name": "LayoutModel",
     "state": {
      "_model_module": "@jupyter-widgets/base",
      "_model_module_version": "1.2.0",
      "_model_name": "LayoutModel",
      "_view_count": null,
      "_view_module": "@jupyter-widgets/base",
      "_view_module_version": "1.2.0",
      "_view_name": "LayoutView",
      "align_content": null,
      "align_items": null,
      "align_self": null,
      "border": null,
      "bottom": null,
      "display": null,
      "flex": null,
      "flex_flow": null,
      "grid_area": null,
      "grid_auto_columns": null,
      "grid_auto_flow": null,
      "grid_auto_rows": null,
      "grid_column": null,
      "grid_gap": null,
      "grid_row": null,
      "grid_template_areas": null,
      "grid_template_columns": null,
      "grid_template_rows": null,
      "height": null,
      "justify_content": null,
      "justify_items": null,
      "left": null,
      "margin": null,
      "max_height": null,
      "max_width": null,
      "min_height": null,
      "min_width": null,
      "object_fit": null,
      "object_position": null,
      "order": null,
      "overflow": null,
      "overflow_x": null,
      "overflow_y": null,
      "padding": null,
      "right": null,
      "top": null,
      "visibility": null,
      "width": null
     }
    },
    "4e68110f58d740a280b92998aeaeece2": {
     "model_module": "@jupyter-widgets/base",
     "model_module_version": "1.2.0",
     "model_name": "LayoutModel",
     "state": {
      "_model_module": "@jupyter-widgets/base",
      "_model_module_version": "1.2.0",
      "_model_name": "LayoutModel",
      "_view_count": null,
      "_view_module": "@jupyter-widgets/base",
      "_view_module_version": "1.2.0",
      "_view_name": "LayoutView",
      "align_content": null,
      "align_items": null,
      "align_self": null,
      "border": null,
      "bottom": null,
      "display": null,
      "flex": null,
      "flex_flow": null,
      "grid_area": null,
      "grid_auto_columns": null,
      "grid_auto_flow": null,
      "grid_auto_rows": null,
      "grid_column": null,
      "grid_gap": null,
      "grid_row": null,
      "grid_template_areas": null,
      "grid_template_columns": null,
      "grid_template_rows": null,
      "height": null,
      "justify_content": null,
      "justify_items": null,
      "left": null,
      "margin": null,
      "max_height": null,
      "max_width": null,
      "min_height": null,
      "min_width": null,
      "object_fit": null,
      "object_position": null,
      "order": null,
      "overflow": null,
      "overflow_x": null,
      "overflow_y": null,
      "padding": null,
      "right": null,
      "top": null,
      "visibility": null,
      "width": null
     }
    },
    "507a9293c7c048138980bf2810154e00": {
     "model_module": "@jupyter-widgets/base",
     "model_module_version": "1.2.0",
     "model_name": "LayoutModel",
     "state": {
      "_model_module": "@jupyter-widgets/base",
      "_model_module_version": "1.2.0",
      "_model_name": "LayoutModel",
      "_view_count": null,
      "_view_module": "@jupyter-widgets/base",
      "_view_module_version": "1.2.0",
      "_view_name": "LayoutView",
      "align_content": null,
      "align_items": null,
      "align_self": null,
      "border": null,
      "bottom": null,
      "display": null,
      "flex": null,
      "flex_flow": null,
      "grid_area": null,
      "grid_auto_columns": null,
      "grid_auto_flow": null,
      "grid_auto_rows": null,
      "grid_column": null,
      "grid_gap": null,
      "grid_row": null,
      "grid_template_areas": null,
      "grid_template_columns": null,
      "grid_template_rows": null,
      "height": null,
      "justify_content": null,
      "justify_items": null,
      "left": null,
      "margin": null,
      "max_height": null,
      "max_width": null,
      "min_height": null,
      "min_width": null,
      "object_fit": null,
      "object_position": null,
      "order": null,
      "overflow": null,
      "overflow_x": null,
      "overflow_y": null,
      "padding": null,
      "right": null,
      "top": null,
      "visibility": null,
      "width": null
     }
    },
    "51e5210adbcc4ea5a140384fc0b533e9": {
     "model_module": "@jupyter-widgets/base",
     "model_module_version": "1.2.0",
     "model_name": "LayoutModel",
     "state": {
      "_model_module": "@jupyter-widgets/base",
      "_model_module_version": "1.2.0",
      "_model_name": "LayoutModel",
      "_view_count": null,
      "_view_module": "@jupyter-widgets/base",
      "_view_module_version": "1.2.0",
      "_view_name": "LayoutView",
      "align_content": null,
      "align_items": null,
      "align_self": null,
      "border": null,
      "bottom": null,
      "display": null,
      "flex": null,
      "flex_flow": null,
      "grid_area": null,
      "grid_auto_columns": null,
      "grid_auto_flow": null,
      "grid_auto_rows": null,
      "grid_column": null,
      "grid_gap": null,
      "grid_row": null,
      "grid_template_areas": null,
      "grid_template_columns": null,
      "grid_template_rows": null,
      "height": null,
      "justify_content": null,
      "justify_items": null,
      "left": null,
      "margin": null,
      "max_height": null,
      "max_width": null,
      "min_height": null,
      "min_width": null,
      "object_fit": null,
      "object_position": null,
      "order": null,
      "overflow": null,
      "overflow_x": null,
      "overflow_y": null,
      "padding": null,
      "right": null,
      "top": null,
      "visibility": null,
      "width": null
     }
    },
    "52fd5282d8d849e396767297e65cc27a": {
     "model_module": "@jupyter-widgets/controls",
     "model_module_version": "1.5.0",
     "model_name": "FloatProgressModel",
     "state": {
      "_dom_classes": [],
      "_model_module": "@jupyter-widgets/controls",
      "_model_module_version": "1.5.0",
      "_model_name": "FloatProgressModel",
      "_view_count": null,
      "_view_module": "@jupyter-widgets/controls",
      "_view_module_version": "1.5.0",
      "_view_name": "ProgressView",
      "bar_style": "success",
      "description": "",
      "description_tooltip": null,
      "layout": "IPY_MODEL_22a34f1f3d7f4bdcacc37d3496f8001e",
      "max": 762,
      "min": 0,
      "orientation": "horizontal",
      "style": "IPY_MODEL_39289e84fcb04e5e8b9ada300f36b9e7",
      "value": 762
     }
    },
    "581c1f8bc6b84c8783906946836f1ecd": {
     "model_module": "@jupyter-widgets/controls",
     "model_module_version": "1.5.0",
     "model_name": "ProgressStyleModel",
     "state": {
      "_model_module": "@jupyter-widgets/controls",
      "_model_module_version": "1.5.0",
      "_model_name": "ProgressStyleModel",
      "_view_count": null,
      "_view_module": "@jupyter-widgets/base",
      "_view_module_version": "1.2.0",
      "_view_name": "StyleView",
      "bar_color": null,
      "description_width": ""
     }
    },
    "58ab3c1063ec4488be5645132b0cc0ae": {
     "model_module": "@jupyter-widgets/controls",
     "model_module_version": "1.5.0",
     "model_name": "ProgressStyleModel",
     "state": {
      "_model_module": "@jupyter-widgets/controls",
      "_model_module_version": "1.5.0",
      "_model_name": "ProgressStyleModel",
      "_view_count": null,
      "_view_module": "@jupyter-widgets/base",
      "_view_module_version": "1.2.0",
      "_view_name": "StyleView",
      "bar_color": null,
      "description_width": ""
     }
    },
    "5961ae20f2c84f20979a117c3967e2ec": {
     "model_module": "@jupyter-widgets/base",
     "model_module_version": "1.2.0",
     "model_name": "LayoutModel",
     "state": {
      "_model_module": "@jupyter-widgets/base",
      "_model_module_version": "1.2.0",
      "_model_name": "LayoutModel",
      "_view_count": null,
      "_view_module": "@jupyter-widgets/base",
      "_view_module_version": "1.2.0",
      "_view_name": "LayoutView",
      "align_content": null,
      "align_items": null,
      "align_self": null,
      "border": null,
      "bottom": null,
      "display": null,
      "flex": null,
      "flex_flow": null,
      "grid_area": null,
      "grid_auto_columns": null,
      "grid_auto_flow": null,
      "grid_auto_rows": null,
      "grid_column": null,
      "grid_gap": null,
      "grid_row": null,
      "grid_template_areas": null,
      "grid_template_columns": null,
      "grid_template_rows": null,
      "height": null,
      "justify_content": null,
      "justify_items": null,
      "left": null,
      "margin": null,
      "max_height": null,
      "max_width": null,
      "min_height": null,
      "min_width": null,
      "object_fit": null,
      "object_position": null,
      "order": null,
      "overflow": null,
      "overflow_x": null,
      "overflow_y": null,
      "padding": null,
      "right": null,
      "top": null,
      "visibility": null,
      "width": null
     }
    },
    "598700b6124f4f31a45da925d0e463e5": {
     "model_module": "@jupyter-widgets/controls",
     "model_module_version": "1.5.0",
     "model_name": "HTMLModel",
     "state": {
      "_dom_classes": [],
      "_model_module": "@jupyter-widgets/controls",
      "_model_module_version": "1.5.0",
      "_model_name": "HTMLModel",
      "_view_count": null,
      "_view_module": "@jupyter-widgets/controls",
      "_view_module_version": "1.5.0",
      "_view_name": "HTMLView",
      "description": "",
      "description_tooltip": null,
      "layout": "IPY_MODEL_30ef9c85bd3940a9b6b011ef25ee3705",
      "placeholder": "​",
      "style": "IPY_MODEL_b1dab55ea27448fbbb9bd134c6f35058",
      "value": " 227M/227M [00:10&lt;00:00, 24.1MB/s]"
     }
    },
    "5a1055b8e2124e0daab3c67ba2958297": {
     "model_module": "@jupyter-widgets/controls",
     "model_module_version": "1.5.0",
     "model_name": "HTMLModel",
     "state": {
      "_dom_classes": [],
      "_model_module": "@jupyter-widgets/controls",
      "_model_module_version": "1.5.0",
      "_model_name": "HTMLModel",
      "_view_count": null,
      "_view_module": "@jupyter-widgets/controls",
      "_view_module_version": "1.5.0",
      "_view_name": "HTMLView",
      "description": "",
      "description_tooltip": null,
      "layout": "IPY_MODEL_36f3dc38d10b43f1a55c498c40b63187",
      "placeholder": "​",
      "style": "IPY_MODEL_8e64f65a405d4c01bc2c0946067ac9b4",
      "value": " 456k/456k [00:00&lt;00:00, 28.4MB/s]"
     }
    },
    "5a7326d6658d4a598aca84cf3561c2b7": {
     "model_module": "@jupyter-widgets/base",
     "model_module_version": "1.2.0",
     "model_name": "LayoutModel",
     "state": {
      "_model_module": "@jupyter-widgets/base",
      "_model_module_version": "1.2.0",
      "_model_name": "LayoutModel",
      "_view_count": null,
      "_view_module": "@jupyter-widgets/base",
      "_view_module_version": "1.2.0",
      "_view_name": "LayoutView",
      "align_content": null,
      "align_items": null,
      "align_self": null,
      "border": null,
      "bottom": null,
      "display": null,
      "flex": null,
      "flex_flow": null,
      "grid_area": null,
      "grid_auto_columns": null,
      "grid_auto_flow": null,
      "grid_auto_rows": null,
      "grid_column": null,
      "grid_gap": null,
      "grid_row": null,
      "grid_template_areas": null,
      "grid_template_columns": null,
      "grid_template_rows": null,
      "height": null,
      "justify_content": null,
      "justify_items": null,
      "left": null,
      "margin": null,
      "max_height": null,
      "max_width": null,
      "min_height": null,
      "min_width": null,
      "object_fit": null,
      "object_position": null,
      "order": null,
      "overflow": null,
      "overflow_x": null,
      "overflow_y": null,
      "padding": null,
      "right": null,
      "top": null,
      "visibility": null,
      "width": null
     }
    },
    "5ab85cd3c4484df5b1e041edd1c1298d": {
     "model_module": "@jupyter-widgets/base",
     "model_module_version": "1.2.0",
     "model_name": "LayoutModel",
     "state": {
      "_model_module": "@jupyter-widgets/base",
      "_model_module_version": "1.2.0",
      "_model_name": "LayoutModel",
      "_view_count": null,
      "_view_module": "@jupyter-widgets/base",
      "_view_module_version": "1.2.0",
      "_view_name": "LayoutView",
      "align_content": null,
      "align_items": null,
      "align_self": null,
      "border": null,
      "bottom": null,
      "display": null,
      "flex": null,
      "flex_flow": null,
      "grid_area": null,
      "grid_auto_columns": null,
      "grid_auto_flow": null,
      "grid_auto_rows": null,
      "grid_column": null,
      "grid_gap": null,
      "grid_row": null,
      "grid_template_areas": null,
      "grid_template_columns": null,
      "grid_template_rows": null,
      "height": null,
      "justify_content": null,
      "justify_items": null,
      "left": null,
      "margin": null,
      "max_height": null,
      "max_width": null,
      "min_height": null,
      "min_width": null,
      "object_fit": null,
      "object_position": null,
      "order": null,
      "overflow": null,
      "overflow_x": null,
      "overflow_y": null,
      "padding": null,
      "right": null,
      "top": null,
      "visibility": null,
      "width": null
     }
    },
    "5aeffa6d0459417aa51a7222c95e0a1a": {
     "model_module": "@jupyter-widgets/base",
     "model_module_version": "1.2.0",
     "model_name": "LayoutModel",
     "state": {
      "_model_module": "@jupyter-widgets/base",
      "_model_module_version": "1.2.0",
      "_model_name": "LayoutModel",
      "_view_count": null,
      "_view_module": "@jupyter-widgets/base",
      "_view_module_version": "1.2.0",
      "_view_name": "LayoutView",
      "align_content": null,
      "align_items": null,
      "align_self": null,
      "border": null,
      "bottom": null,
      "display": null,
      "flex": null,
      "flex_flow": null,
      "grid_area": null,
      "grid_auto_columns": null,
      "grid_auto_flow": null,
      "grid_auto_rows": null,
      "grid_column": null,
      "grid_gap": null,
      "grid_row": null,
      "grid_template_areas": null,
      "grid_template_columns": null,
      "grid_template_rows": null,
      "height": null,
      "justify_content": null,
      "justify_items": null,
      "left": null,
      "margin": null,
      "max_height": null,
      "max_width": null,
      "min_height": null,
      "min_width": null,
      "object_fit": null,
      "object_position": null,
      "order": null,
      "overflow": null,
      "overflow_x": null,
      "overflow_y": null,
      "padding": null,
      "right": null,
      "top": null,
      "visibility": null,
      "width": null
     }
    },
    "5b30c8a4a77546a3bd1608d893b79d9e": {
     "model_module": "@jupyter-widgets/controls",
     "model_module_version": "1.5.0",
     "model_name": "HTMLModel",
     "state": {
      "_dom_classes": [],
      "_model_module": "@jupyter-widgets/controls",
      "_model_module_version": "1.5.0",
      "_model_name": "HTMLModel",
      "_view_count": null,
      "_view_module": "@jupyter-widgets/controls",
      "_view_module_version": "1.5.0",
      "_view_name": "HTMLView",
      "description": "",
      "description_tooltip": null,
      "layout": "IPY_MODEL_5f3e2f157a10427284781f8bdffd23ec",
      "placeholder": "​",
      "style": "IPY_MODEL_6525e633782c4211a7363b772cbbb4f4",
      "value": "Downloading (…)ens_000022282240.pth: 100%"
     }
    },
    "5bb7e4b866594ef6a6b1ce2661b18dc0": {
     "model_module": "@jupyter-widgets/base",
     "model_module_version": "1.2.0",
     "model_name": "LayoutModel",
     "state": {
      "_model_module": "@jupyter-widgets/base",
      "_model_module_version": "1.2.0",
      "_model_name": "LayoutModel",
      "_view_count": null,
      "_view_module": "@jupyter-widgets/base",
      "_view_module_version": "1.2.0",
      "_view_name": "LayoutView",
      "align_content": null,
      "align_items": null,
      "align_self": null,
      "border": null,
      "bottom": null,
      "display": null,
      "flex": null,
      "flex_flow": null,
      "grid_area": null,
      "grid_auto_columns": null,
      "grid_auto_flow": null,
      "grid_auto_rows": null,
      "grid_column": null,
      "grid_gap": null,
      "grid_row": null,
      "grid_template_areas": null,
      "grid_template_columns": null,
      "grid_template_rows": null,
      "height": null,
      "justify_content": null,
      "justify_items": null,
      "left": null,
      "margin": null,
      "max_height": null,
      "max_width": null,
      "min_height": null,
      "min_width": null,
      "object_fit": null,
      "object_position": null,
      "order": null,
      "overflow": null,
      "overflow_x": null,
      "overflow_y": null,
      "padding": null,
      "right": null,
      "top": null,
      "visibility": null,
      "width": null
     }
    },
    "5c5d9da626ba43a0ba1b42dccedae03a": {
     "model_module": "@jupyter-widgets/base",
     "model_module_version": "1.2.0",
     "model_name": "LayoutModel",
     "state": {
      "_model_module": "@jupyter-widgets/base",
      "_model_module_version": "1.2.0",
      "_model_name": "LayoutModel",
      "_view_count": null,
      "_view_module": "@jupyter-widgets/base",
      "_view_module_version": "1.2.0",
      "_view_name": "LayoutView",
      "align_content": null,
      "align_items": null,
      "align_self": null,
      "border": null,
      "bottom": null,
      "display": null,
      "flex": null,
      "flex_flow": null,
      "grid_area": null,
      "grid_auto_columns": null,
      "grid_auto_flow": null,
      "grid_auto_rows": null,
      "grid_column": null,
      "grid_gap": null,
      "grid_row": null,
      "grid_template_areas": null,
      "grid_template_columns": null,
      "grid_template_rows": null,
      "height": null,
      "justify_content": null,
      "justify_items": null,
      "left": null,
      "margin": null,
      "max_height": null,
      "max_width": null,
      "min_height": null,
      "min_width": null,
      "object_fit": null,
      "object_position": null,
      "order": null,
      "overflow": null,
      "overflow_x": null,
      "overflow_y": null,
      "padding": null,
      "right": null,
      "top": null,
      "visibility": null,
      "width": null
     }
    },
    "5d91537e170b467b8cc899ef446057a7": {
     "model_module": "@jupyter-widgets/controls",
     "model_module_version": "1.5.0",
     "model_name": "HTMLModel",
     "state": {
      "_dom_classes": [],
      "_model_module": "@jupyter-widgets/controls",
      "_model_module_version": "1.5.0",
      "_model_name": "HTMLModel",
      "_view_count": null,
      "_view_module": "@jupyter-widgets/controls",
      "_view_module_version": "1.5.0",
      "_view_name": "HTMLView",
      "description": "",
      "description_tooltip": null,
      "layout": "IPY_MODEL_1790e9531aff46a39a5829b21412d748",
      "placeholder": "​",
      "style": "IPY_MODEL_ba4314d5b5564a0a81d5129599448f2d",
      "value": " 1.04M/1.04M [00:00&lt;00:00, 1.52MB/s]"
     }
    },
    "5f3e2f157a10427284781f8bdffd23ec": {
     "model_module": "@jupyter-widgets/base",
     "model_module_version": "1.2.0",
     "model_name": "LayoutModel",
     "state": {
      "_model_module": "@jupyter-widgets/base",
      "_model_module_version": "1.2.0",
      "_model_name": "LayoutModel",
      "_view_count": null,
      "_view_module": "@jupyter-widgets/base",
      "_view_module_version": "1.2.0",
      "_view_name": "LayoutView",
      "align_content": null,
      "align_items": null,
      "align_self": null,
      "border": null,
      "bottom": null,
      "display": null,
      "flex": null,
      "flex_flow": null,
      "grid_area": null,
      "grid_auto_columns": null,
      "grid_auto_flow": null,
      "grid_auto_rows": null,
      "grid_column": null,
      "grid_gap": null,
      "grid_row": null,
      "grid_template_areas": null,
      "grid_template_columns": null,
      "grid_template_rows": null,
      "height": null,
      "justify_content": null,
      "justify_items": null,
      "left": null,
      "margin": null,
      "max_height": null,
      "max_width": null,
      "min_height": null,
      "min_width": null,
      "object_fit": null,
      "object_position": null,
      "order": null,
      "overflow": null,
      "overflow_x": null,
      "overflow_y": null,
      "padding": null,
      "right": null,
      "top": null,
      "visibility": null,
      "width": null
     }
    },
    "6193f787c84d4f378aa03be401a0839d": {
     "model_module": "@jupyter-widgets/controls",
     "model_module_version": "1.5.0",
     "model_name": "HTMLModel",
     "state": {
      "_dom_classes": [],
      "_model_module": "@jupyter-widgets/controls",
      "_model_module_version": "1.5.0",
      "_model_name": "HTMLModel",
      "_view_count": null,
      "_view_module": "@jupyter-widgets/controls",
      "_view_module_version": "1.5.0",
      "_view_name": "HTMLView",
      "description": "",
      "description_tooltip": null,
      "layout": "IPY_MODEL_b7cb407cfb56443ca1cb119d88ccf6d4",
      "placeholder": "​",
      "style": "IPY_MODEL_db2cacec957c4fb38dabc926dbf011e5",
      "value": " 12/12 [00:08&lt;00:00,  1.54it/s]"
     }
    },
    "62822330588248a3b568bd686541656d": {
     "model_module": "@jupyter-widgets/controls",
     "model_module_version": "1.5.0",
     "model_name": "DescriptionStyleModel",
     "state": {
      "_model_module": "@jupyter-widgets/controls",
      "_model_module_version": "1.5.0",
      "_model_name": "DescriptionStyleModel",
      "_view_count": null,
      "_view_module": "@jupyter-widgets/base",
      "_view_module_version": "1.2.0",
      "_view_name": "StyleView",
      "description_width": ""
     }
    },
    "6525e633782c4211a7363b772cbbb4f4": {
     "model_module": "@jupyter-widgets/controls",
     "model_module_version": "1.5.0",
     "model_name": "DescriptionStyleModel",
     "state": {
      "_model_module": "@jupyter-widgets/controls",
      "_model_module_version": "1.5.0",
      "_model_name": "DescriptionStyleModel",
      "_view_count": null,
      "_view_module": "@jupyter-widgets/base",
      "_view_module_version": "1.2.0",
      "_view_name": "StyleView",
      "description_width": ""
     }
    },
    "67d532e0407e44c9b1fed3e611f72fa1": {
     "model_module": "@jupyter-widgets/base",
     "model_module_version": "1.2.0",
     "model_name": "LayoutModel",
     "state": {
      "_model_module": "@jupyter-widgets/base",
      "_model_module_version": "1.2.0",
      "_model_name": "LayoutModel",
      "_view_count": null,
      "_view_module": "@jupyter-widgets/base",
      "_view_module_version": "1.2.0",
      "_view_name": "LayoutView",
      "align_content": null,
      "align_items": null,
      "align_self": null,
      "border": null,
      "bottom": null,
      "display": null,
      "flex": null,
      "flex_flow": null,
      "grid_area": null,
      "grid_auto_columns": null,
      "grid_auto_flow": null,
      "grid_auto_rows": null,
      "grid_column": null,
      "grid_gap": null,
      "grid_row": null,
      "grid_template_areas": null,
      "grid_template_columns": null,
      "grid_template_rows": null,
      "height": null,
      "justify_content": null,
      "justify_items": null,
      "left": null,
      "margin": null,
      "max_height": null,
      "max_width": null,
      "min_height": null,
      "min_width": null,
      "object_fit": null,
      "object_position": null,
      "order": null,
      "overflow": null,
      "overflow_x": null,
      "overflow_y": null,
      "padding": null,
      "right": null,
      "top": null,
      "visibility": null,
      "width": null
     }
    },
    "6ac40b6e795542c3a2c7446bf5e2a50b": {
     "model_module": "@jupyter-widgets/controls",
     "model_module_version": "1.5.0",
     "model_name": "HBoxModel",
     "state": {
      "_dom_classes": [],
      "_model_module": "@jupyter-widgets/controls",
      "_model_module_version": "1.5.0",
      "_model_name": "HBoxModel",
      "_view_count": null,
      "_view_module": "@jupyter-widgets/controls",
      "_view_module_version": "1.5.0",
      "_view_name": "HBoxView",
      "box_style": "",
      "children": [
       "IPY_MODEL_2cb7ee4f883a46cdbcd507664c81c6fc",
       "IPY_MODEL_52fd5282d8d849e396767297e65cc27a",
       "IPY_MODEL_17a6af69f58c4e6a943b0f66cbd523dc"
      ],
      "layout": "IPY_MODEL_0e2e04c9d88140eabfa8ae59a1af29c7"
     }
    },
    "6bb478d5d258403a892d5c8a8e642000": {
     "model_module": "@jupyter-widgets/controls",
     "model_module_version": "1.5.0",
     "model_name": "DescriptionStyleModel",
     "state": {
      "_model_module": "@jupyter-widgets/controls",
      "_model_module_version": "1.5.0",
      "_model_name": "DescriptionStyleModel",
      "_view_count": null,
      "_view_module": "@jupyter-widgets/base",
      "_view_module_version": "1.2.0",
      "_view_name": "StyleView",
      "description_width": ""
     }
    },
    "6dea9147a3c2400287759c058b2f7093": {
     "model_module": "@jupyter-widgets/base",
     "model_module_version": "1.2.0",
     "model_name": "LayoutModel",
     "state": {
      "_model_module": "@jupyter-widgets/base",
      "_model_module_version": "1.2.0",
      "_model_name": "LayoutModel",
      "_view_count": null,
      "_view_module": "@jupyter-widgets/base",
      "_view_module_version": "1.2.0",
      "_view_name": "LayoutView",
      "align_content": null,
      "align_items": null,
      "align_self": null,
      "border": null,
      "bottom": null,
      "display": null,
      "flex": null,
      "flex_flow": null,
      "grid_area": null,
      "grid_auto_columns": null,
      "grid_auto_flow": null,
      "grid_auto_rows": null,
      "grid_column": null,
      "grid_gap": null,
      "grid_row": null,
      "grid_template_areas": null,
      "grid_template_columns": null,
      "grid_template_rows": null,
      "height": null,
      "justify_content": null,
      "justify_items": null,
      "left": null,
      "margin": null,
      "max_height": null,
      "max_width": null,
      "min_height": null,
      "min_width": null,
      "object_fit": null,
      "object_position": null,
      "order": null,
      "overflow": null,
      "overflow_x": null,
      "overflow_y": null,
      "padding": null,
      "right": null,
      "top": null,
      "visibility": null,
      "width": null
     }
    },
    "7235495678d04b57ad017a2bd36ccb51": {
     "model_module": "@jupyter-widgets/base",
     "model_module_version": "1.2.0",
     "model_name": "LayoutModel",
     "state": {
      "_model_module": "@jupyter-widgets/base",
      "_model_module_version": "1.2.0",
      "_model_name": "LayoutModel",
      "_view_count": null,
      "_view_module": "@jupyter-widgets/base",
      "_view_module_version": "1.2.0",
      "_view_name": "LayoutView",
      "align_content": null,
      "align_items": null,
      "align_self": null,
      "border": null,
      "bottom": null,
      "display": null,
      "flex": null,
      "flex_flow": null,
      "grid_area": null,
      "grid_auto_columns": null,
      "grid_auto_flow": null,
      "grid_auto_rows": null,
      "grid_column": null,
      "grid_gap": null,
      "grid_row": null,
      "grid_template_areas": null,
      "grid_template_columns": null,
      "grid_template_rows": null,
      "height": null,
      "justify_content": null,
      "justify_items": null,
      "left": null,
      "margin": null,
      "max_height": null,
      "max_width": null,
      "min_height": null,
      "min_width": null,
      "object_fit": null,
      "object_position": null,
      "order": null,
      "overflow": null,
      "overflow_x": null,
      "overflow_y": null,
      "padding": null,
      "right": null,
      "top": null,
      "visibility": null,
      "width": null
     }
    },
    "745a3a8e649e4a0d86ef8e2c1e1c75bc": {
     "model_module": "@jupyter-widgets/controls",
     "model_module_version": "1.5.0",
     "model_name": "DescriptionStyleModel",
     "state": {
      "_model_module": "@jupyter-widgets/controls",
      "_model_module_version": "1.5.0",
      "_model_name": "DescriptionStyleModel",
      "_view_count": null,
      "_view_module": "@jupyter-widgets/base",
      "_view_module_version": "1.2.0",
      "_view_name": "StyleView",
      "description_width": ""
     }
    },
    "7789fa89caec45929fe006ac0725e89e": {
     "model_module": "@jupyter-widgets/controls",
     "model_module_version": "1.5.0",
     "model_name": "FloatProgressModel",
     "state": {
      "_dom_classes": [],
      "_model_module": "@jupyter-widgets/controls",
      "_model_module_version": "1.5.0",
      "_model_name": "FloatProgressModel",
      "_view_count": null,
      "_view_module": "@jupyter-widgets/controls",
      "_view_module_version": "1.5.0",
      "_view_name": "ProgressView",
      "bar_style": "success",
      "description": "",
      "description_tooltip": null,
      "layout": "IPY_MODEL_fbeff95f8ef64319863d3ffaccb1dd81",
      "max": 227146782,
      "min": 0,
      "orientation": "horizontal",
      "style": "IPY_MODEL_bf72a134d5a0454480bd34b21a57f451",
      "value": 227146782
     }
    },
    "798d895255544782baf378538de39f70": {
     "model_module": "@jupyter-widgets/controls",
     "model_module_version": "1.5.0",
     "model_name": "DescriptionStyleModel",
     "state": {
      "_model_module": "@jupyter-widgets/controls",
      "_model_module_version": "1.5.0",
      "_model_name": "DescriptionStyleModel",
      "_view_count": null,
      "_view_module": "@jupyter-widgets/base",
      "_view_module_version": "1.2.0",
      "_view_name": "StyleView",
      "description_width": ""
     }
    },
    "79dae33f60864446b3f0f9e7af939eeb": {
     "model_module": "@jupyter-widgets/base",
     "model_module_version": "1.2.0",
     "model_name": "LayoutModel",
     "state": {
      "_model_module": "@jupyter-widgets/base",
      "_model_module_version": "1.2.0",
      "_model_name": "LayoutModel",
      "_view_count": null,
      "_view_module": "@jupyter-widgets/base",
      "_view_module_version": "1.2.0",
      "_view_name": "LayoutView",
      "align_content": null,
      "align_items": null,
      "align_self": null,
      "border": null,
      "bottom": null,
      "display": null,
      "flex": null,
      "flex_flow": null,
      "grid_area": null,
      "grid_auto_columns": null,
      "grid_auto_flow": null,
      "grid_auto_rows": null,
      "grid_column": null,
      "grid_gap": null,
      "grid_row": null,
      "grid_template_areas": null,
      "grid_template_columns": null,
      "grid_template_rows": null,
      "height": null,
      "justify_content": null,
      "justify_items": null,
      "left": null,
      "margin": null,
      "max_height": null,
      "max_width": null,
      "min_height": null,
      "min_width": null,
      "object_fit": null,
      "object_position": null,
      "order": null,
      "overflow": null,
      "overflow_x": null,
      "overflow_y": null,
      "padding": null,
      "right": null,
      "top": null,
      "visibility": null,
      "width": null
     }
    },
    "7b522340dd884311ae35112a13d7e379": {
     "model_module": "@jupyter-widgets/base",
     "model_module_version": "1.2.0",
     "model_name": "LayoutModel",
     "state": {
      "_model_module": "@jupyter-widgets/base",
      "_model_module_version": "1.2.0",
      "_model_name": "LayoutModel",
      "_view_count": null,
      "_view_module": "@jupyter-widgets/base",
      "_view_module_version": "1.2.0",
      "_view_name": "LayoutView",
      "align_content": null,
      "align_items": null,
      "align_self": null,
      "border": null,
      "bottom": null,
      "display": null,
      "flex": null,
      "flex_flow": null,
      "grid_area": null,
      "grid_auto_columns": null,
      "grid_auto_flow": null,
      "grid_auto_rows": null,
      "grid_column": null,
      "grid_gap": null,
      "grid_row": null,
      "grid_template_areas": null,
      "grid_template_columns": null,
      "grid_template_rows": null,
      "height": null,
      "justify_content": null,
      "justify_items": null,
      "left": null,
      "margin": null,
      "max_height": null,
      "max_width": null,
      "min_height": null,
      "min_width": null,
      "object_fit": null,
      "object_position": null,
      "order": null,
      "overflow": null,
      "overflow_x": null,
      "overflow_y": null,
      "padding": null,
      "right": null,
      "top": null,
      "visibility": null,
      "width": null
     }
    },
    "7e0c7a0b36d74e0eab762299909c30f2": {
     "model_module": "@jupyter-widgets/controls",
     "model_module_version": "1.5.0",
     "model_name": "HTMLModel",
     "state": {
      "_dom_classes": [],
      "_model_module": "@jupyter-widgets/controls",
      "_model_module_version": "1.5.0",
      "_model_name": "HTMLModel",
      "_view_count": null,
      "_view_module": "@jupyter-widgets/controls",
      "_view_module_version": "1.5.0",
      "_view_name": "HTMLView",
      "description": "",
      "description_tooltip": null,
      "layout": "IPY_MODEL_4465a4d3f5aa4590bf9bfe70daf245ed",
      "placeholder": "​",
      "style": "IPY_MODEL_b509aac35f6d479fa8c5904cf06ae466",
      "value": "Downloading (…)ens_000528482304.pth: 100%"
     }
    },
    "7f0f1b1c5cc34696a86b82036649182c": {
     "model_module": "@jupyter-widgets/controls",
     "model_module_version": "1.5.0",
     "model_name": "HTMLModel",
     "state": {
      "_dom_classes": [],
      "_model_module": "@jupyter-widgets/controls",
      "_model_module_version": "1.5.0",
      "_model_name": "HTMLModel",
      "_view_count": null,
      "_view_module": "@jupyter-widgets/controls",
      "_view_module_version": "1.5.0",
      "_view_name": "HTMLView",
      "description": "",
      "description_tooltip": null,
      "layout": "IPY_MODEL_4e68110f58d740a280b92998aeaeece2",
      "placeholder": "​",
      "style": "IPY_MODEL_48c6f44ebd4f42dc9c4c95d87fe34f5b",
      "value": " 1.36M/1.36M [00:00&lt;00:00, 3.92MB/s]"
     }
    },
    "8476a4344c3d4527a08344ca87b00bde": {
     "model_module": "@jupyter-widgets/controls",
     "model_module_version": "1.5.0",
     "model_name": "FloatProgressModel",
     "state": {
      "_dom_classes": [],
      "_model_module": "@jupyter-widgets/controls",
      "_model_module_version": "1.5.0",
      "_model_name": "FloatProgressModel",
      "_view_count": null,
      "_view_module": "@jupyter-widgets/controls",
      "_view_module_version": "1.5.0",
      "_view_name": "ProgressView",
      "bar_style": "success",
      "description": "",
      "description_tooltip": null,
      "layout": "IPY_MODEL_052c3ba9bb2a4e14ad137a2b284ab20f",
      "max": 2042045,
      "min": 0,
      "orientation": "horizontal",
      "style": "IPY_MODEL_92874f0b2b134e62b3a567a56bf14cf0",
      "value": 2042045
     }
    },
    "86e9cf5aed1648678bcdf477a8d3bbe4": {
     "model_module": "@jupyter-widgets/controls",
     "model_module_version": "1.5.0",
     "model_name": "FloatProgressModel",
     "state": {
      "_dom_classes": [],
      "_model_module": "@jupyter-widgets/controls",
      "_model_module_version": "1.5.0",
      "_model_name": "FloatProgressModel",
      "_view_count": null,
      "_view_module": "@jupyter-widgets/controls",
      "_view_module_version": "1.5.0",
      "_view_name": "ProgressView",
      "bar_style": "success",
      "description": "",
      "description_tooltip": null,
      "layout": "IPY_MODEL_b1441d52555e44dba97fe1498aa50569",
      "max": 1270,
      "min": 0,
      "orientation": "horizontal",
      "style": "IPY_MODEL_2b3f0930909741d9a1d23d7fbb1d66ca",
      "value": 1270
     }
    },
    "88c18ee41ed4406693c8c555c15987e0": {
     "model_module": "@jupyter-widgets/controls",
     "model_module_version": "1.5.0",
     "model_name": "HTMLModel",
     "state": {
      "_dom_classes": [],
      "_model_module": "@jupyter-widgets/controls",
      "_model_module_version": "1.5.0",
      "_model_name": "HTMLModel",
      "_view_count": null,
      "_view_module": "@jupyter-widgets/controls",
      "_view_module_version": "1.5.0",
      "_view_name": "HTMLView",
      "description": "",
      "description_tooltip": null,
      "layout": "IPY_MODEL_a58e045e41f44ee685634bf6be8e18eb",
      "placeholder": "​",
      "style": "IPY_MODEL_745a3a8e649e4a0d86ef8e2c1e1c75bc",
      "value": "Downloading (…)/main/tokenizer.json: 100%"
     }
    },
    "8b92786d7c654951ac442a88b98636d5": {
     "model_module": "@jupyter-widgets/controls",
     "model_module_version": "1.5.0",
     "model_name": "HBoxModel",
     "state": {
      "_dom_classes": [],
      "_model_module": "@jupyter-widgets/controls",
      "_model_module_version": "1.5.0",
      "_model_name": "HBoxModel",
      "_view_count": null,
      "_view_module": "@jupyter-widgets/controls",
      "_view_module_version": "1.5.0",
      "_view_name": "HBoxView",
      "box_style": "",
      "children": [
       "IPY_MODEL_df43b8d21806405d801c7b20d75166c8",
       "IPY_MODEL_403185cd1d8348968eeddb13e89cd809",
       "IPY_MODEL_f935d9ce46b04408b4784a73ec6cf90f"
      ],
      "layout": "IPY_MODEL_5961ae20f2c84f20979a117c3967e2ec"
     }
    },
    "8e64f65a405d4c01bc2c0946067ac9b4": {
     "model_module": "@jupyter-widgets/controls",
     "model_module_version": "1.5.0",
     "model_name": "DescriptionStyleModel",
     "state": {
      "_model_module": "@jupyter-widgets/controls",
      "_model_module_version": "1.5.0",
      "_model_name": "DescriptionStyleModel",
      "_view_count": null,
      "_view_module": "@jupyter-widgets/base",
      "_view_module_version": "1.2.0",
      "_view_name": "StyleView",
      "description_width": ""
     }
    },
    "91220297f7454dce8a53261daf991f75": {
     "model_module": "@jupyter-widgets/base",
     "model_module_version": "1.2.0",
     "model_name": "LayoutModel",
     "state": {
      "_model_module": "@jupyter-widgets/base",
      "_model_module_version": "1.2.0",
      "_model_name": "LayoutModel",
      "_view_count": null,
      "_view_module": "@jupyter-widgets/base",
      "_view_module_version": "1.2.0",
      "_view_name": "LayoutView",
      "align_content": null,
      "align_items": null,
      "align_self": null,
      "border": null,
      "bottom": null,
      "display": null,
      "flex": null,
      "flex_flow": null,
      "grid_area": null,
      "grid_auto_columns": null,
      "grid_auto_flow": null,
      "grid_auto_rows": null,
      "grid_column": null,
      "grid_gap": null,
      "grid_row": null,
      "grid_template_areas": null,
      "grid_template_columns": null,
      "grid_template_rows": null,
      "height": null,
      "justify_content": null,
      "justify_items": null,
      "left": null,
      "margin": null,
      "max_height": null,
      "max_width": null,
      "min_height": null,
      "min_width": null,
      "object_fit": null,
      "object_position": null,
      "order": null,
      "overflow": null,
      "overflow_x": null,
      "overflow_y": null,
      "padding": null,
      "right": null,
      "top": null,
      "visibility": null,
      "width": null
     }
    },
    "916335de2cbd47828f9aae4cefe1fced": {
     "model_module": "@jupyter-widgets/controls",
     "model_module_version": "1.5.0",
     "model_name": "FloatProgressModel",
     "state": {
      "_dom_classes": [],
      "_model_module": "@jupyter-widgets/controls",
      "_model_module_version": "1.5.0",
      "_model_name": "FloatProgressModel",
      "_view_count": null,
      "_view_module": "@jupyter-widgets/controls",
      "_view_module_version": "1.5.0",
      "_view_name": "ProgressView",
      "bar_style": "success",
      "description": "",
      "description_tooltip": null,
      "layout": "IPY_MODEL_4b5569b857f84acf9a8bdb46d58a672a",
      "max": 12,
      "min": 0,
      "orientation": "horizontal",
      "style": "IPY_MODEL_4101c7a0d82d4c79817e6e910be41a13",
      "value": 12
     }
    },
    "92874f0b2b134e62b3a567a56bf14cf0": {
     "model_module": "@jupyter-widgets/controls",
     "model_module_version": "1.5.0",
     "model_name": "ProgressStyleModel",
     "state": {
      "_model_module": "@jupyter-widgets/controls",
      "_model_module_version": "1.5.0",
      "_model_name": "ProgressStyleModel",
      "_view_count": null,
      "_view_module": "@jupyter-widgets/base",
      "_view_module_version": "1.2.0",
      "_view_name": "StyleView",
      "bar_color": null,
      "description_width": ""
     }
    },
    "93afb30ba7fa4f2dafe97b51a4ce7472": {
     "model_module": "@jupyter-widgets/controls",
     "model_module_version": "1.5.0",
     "model_name": "DescriptionStyleModel",
     "state": {
      "_model_module": "@jupyter-widgets/controls",
      "_model_module_version": "1.5.0",
      "_model_name": "DescriptionStyleModel",
      "_view_count": null,
      "_view_module": "@jupyter-widgets/base",
      "_view_module_version": "1.2.0",
      "_view_name": "StyleView",
      "description_width": ""
     }
    },
    "95d81f77634c4983800f1286e17174c6": {
     "model_module": "@jupyter-widgets/controls",
     "model_module_version": "1.5.0",
     "model_name": "HBoxModel",
     "state": {
      "_dom_classes": [],
      "_model_module": "@jupyter-widgets/controls",
      "_model_module_version": "1.5.0",
      "_model_name": "HBoxModel",
      "_view_count": null,
      "_view_module": "@jupyter-widgets/controls",
      "_view_module_version": "1.5.0",
      "_view_name": "HBoxView",
      "box_style": "",
      "children": [
       "IPY_MODEL_0a2262238c844a00bad879887b9d9bb4",
       "IPY_MODEL_03ab15a378e14d9bb1cd34d567eea085",
       "IPY_MODEL_32a39cae02244a3693f500a518fa8e07"
      ],
      "layout": "IPY_MODEL_3ffd3082962a4a67bbedd5e01fc6f3a8"
     }
    },
    "97a18bba3cf740e78bbfc45bcd33cdd2": {
     "model_module": "@jupyter-widgets/base",
     "model_module_version": "1.2.0",
     "model_name": "LayoutModel",
     "state": {
      "_model_module": "@jupyter-widgets/base",
      "_model_module_version": "1.2.0",
      "_model_name": "LayoutModel",
      "_view_count": null,
      "_view_module": "@jupyter-widgets/base",
      "_view_module_version": "1.2.0",
      "_view_name": "LayoutView",
      "align_content": null,
      "align_items": null,
      "align_self": null,
      "border": null,
      "bottom": null,
      "display": null,
      "flex": null,
      "flex_flow": null,
      "grid_area": null,
      "grid_auto_columns": null,
      "grid_auto_flow": null,
      "grid_auto_rows": null,
      "grid_column": null,
      "grid_gap": null,
      "grid_row": null,
      "grid_template_areas": null,
      "grid_template_columns": null,
      "grid_template_rows": null,
      "height": null,
      "justify_content": null,
      "justify_items": null,
      "left": null,
      "margin": null,
      "max_height": null,
      "max_width": null,
      "min_height": null,
      "min_width": null,
      "object_fit": null,
      "object_position": null,
      "order": null,
      "overflow": null,
      "overflow_x": null,
      "overflow_y": null,
      "padding": null,
      "right": null,
      "top": null,
      "visibility": null,
      "width": null
     }
    },
    "989bde8e399f4be2b0fd98ba59401927": {
     "model_module": "@jupyter-widgets/controls",
     "model_module_version": "1.5.0",
     "model_name": "FloatProgressModel",
     "state": {
      "_dom_classes": [],
      "_model_module": "@jupyter-widgets/controls",
      "_model_module_version": "1.5.0",
      "_model_name": "FloatProgressModel",
      "_view_count": null,
      "_view_module": "@jupyter-widgets/controls",
      "_view_module_version": "1.5.0",
      "_view_name": "ProgressView",
      "bar_style": "success",
      "description": "",
      "description_tooltip": null,
      "layout": "IPY_MODEL_5ab85cd3c4484df5b1e041edd1c1298d",
      "max": 456318,
      "min": 0,
      "orientation": "horizontal",
      "style": "IPY_MODEL_2be1145356c74ef1a474382cc4075775",
      "value": 456318
     }
    },
    "99547bd6e38f4de1917c1314ef2e9676": {
     "model_module": "@jupyter-widgets/controls",
     "model_module_version": "1.5.0",
     "model_name": "HTMLModel",
     "state": {
      "_dom_classes": [],
      "_model_module": "@jupyter-widgets/controls",
      "_model_module_version": "1.5.0",
      "_model_name": "HTMLModel",
      "_view_count": null,
      "_view_module": "@jupyter-widgets/controls",
      "_view_module_version": "1.5.0",
      "_view_name": "HTMLView",
      "description": "",
      "description_tooltip": null,
      "layout": "IPY_MODEL_f194599f62e7455da898c9f154abf9da",
      "placeholder": "​",
      "style": "IPY_MODEL_d43ec9fb2eb248848c623ec0c538cb4b",
      "value": "100%"
     }
    },
    "9b8d88721c874c45bdee28d8e5a213ea": {
     "model_module": "@jupyter-widgets/base",
     "model_module_version": "1.2.0",
     "model_name": "LayoutModel",
     "state": {
      "_model_module": "@jupyter-widgets/base",
      "_model_module_version": "1.2.0",
      "_model_name": "LayoutModel",
      "_view_count": null,
      "_view_module": "@jupyter-widgets/base",
      "_view_module_version": "1.2.0",
      "_view_name": "LayoutView",
      "align_content": null,
      "align_items": null,
      "align_self": null,
      "border": null,
      "bottom": null,
      "display": null,
      "flex": null,
      "flex_flow": null,
      "grid_area": null,
      "grid_auto_columns": null,
      "grid_auto_flow": null,
      "grid_auto_rows": null,
      "grid_column": null,
      "grid_gap": null,
      "grid_row": null,
      "grid_template_areas": null,
      "grid_template_columns": null,
      "grid_template_rows": null,
      "height": null,
      "justify_content": null,
      "justify_items": null,
      "left": null,
      "margin": null,
      "max_height": null,
      "max_width": null,
      "min_height": null,
      "min_width": null,
      "object_fit": null,
      "object_position": null,
      "order": null,
      "overflow": null,
      "overflow_x": null,
      "overflow_y": null,
      "padding": null,
      "right": null,
      "top": null,
      "visibility": null,
      "width": null
     }
    },
    "9c1227dd4b5441f4b6eaceb1bea279c8": {
     "model_module": "@jupyter-widgets/base",
     "model_module_version": "1.2.0",
     "model_name": "LayoutModel",
     "state": {
      "_model_module": "@jupyter-widgets/base",
      "_model_module_version": "1.2.0",
      "_model_name": "LayoutModel",
      "_view_count": null,
      "_view_module": "@jupyter-widgets/base",
      "_view_module_version": "1.2.0",
      "_view_name": "LayoutView",
      "align_content": null,
      "align_items": null,
      "align_self": null,
      "border": null,
      "bottom": null,
      "display": null,
      "flex": null,
      "flex_flow": null,
      "grid_area": null,
      "grid_auto_columns": null,
      "grid_auto_flow": null,
      "grid_auto_rows": null,
      "grid_column": null,
      "grid_gap": null,
      "grid_row": null,
      "grid_template_areas": null,
      "grid_template_columns": null,
      "grid_template_rows": null,
      "height": null,
      "justify_content": null,
      "justify_items": null,
      "left": null,
      "margin": null,
      "max_height": null,
      "max_width": null,
      "min_height": null,
      "min_width": null,
      "object_fit": null,
      "object_position": null,
      "order": null,
      "overflow": null,
      "overflow_x": null,
      "overflow_y": null,
      "padding": null,
      "right": null,
      "top": null,
      "visibility": null,
      "width": null
     }
    },
    "9c5a64fc274a4213befcd1d4953426d1": {
     "model_module": "@jupyter-widgets/controls",
     "model_module_version": "1.5.0",
     "model_name": "HTMLModel",
     "state": {
      "_dom_classes": [],
      "_model_module": "@jupyter-widgets/controls",
      "_model_module_version": "1.5.0",
      "_model_name": "HTMLModel",
      "_view_count": null,
      "_view_module": "@jupyter-widgets/controls",
      "_view_module_version": "1.5.0",
      "_view_name": "HTMLView",
      "description": "",
      "description_tooltip": null,
      "layout": "IPY_MODEL_91220297f7454dce8a53261daf991f75",
      "placeholder": "​",
      "style": "IPY_MODEL_b642afbd34844728ae6f0b448a5b164d",
      "value": " 2.04M/2.04M [00:00&lt;00:00, 2.41MB/s]"
     }
    },
    "9e2b2d1264e44da38835c12aeb7d9ceb": {
     "model_module": "@jupyter-widgets/controls",
     "model_module_version": "1.5.0",
     "model_name": "HTMLModel",
     "state": {
      "_dom_classes": [],
      "_model_module": "@jupyter-widgets/controls",
      "_model_module_version": "1.5.0",
      "_model_name": "HTMLModel",
      "_view_count": null,
      "_view_module": "@jupyter-widgets/controls",
      "_view_module_version": "1.5.0",
      "_view_name": "HTMLView",
      "description": "",
      "description_tooltip": null,
      "layout": "IPY_MODEL_3dee40b28cb041db814919990e0ba640",
      "placeholder": "​",
      "style": "IPY_MODEL_0e7a77a2ff63483c87bfc0da47039766",
      "value": "Downloading (…)olve/main/vocab.json: 100%"
     }
    },
    "9ea8bda0af564af1a5cbad9c3a79346c": {
     "model_module": "@jupyter-widgets/base",
     "model_module_version": "1.2.0",
     "model_name": "LayoutModel",
     "state": {
      "_model_module": "@jupyter-widgets/base",
      "_model_module_version": "1.2.0",
      "_model_name": "LayoutModel",
      "_view_count": null,
      "_view_module": "@jupyter-widgets/base",
      "_view_module_version": "1.2.0",
      "_view_name": "LayoutView",
      "align_content": null,
      "align_items": null,
      "align_self": null,
      "border": null,
      "bottom": null,
      "display": null,
      "flex": null,
      "flex_flow": null,
      "grid_area": null,
      "grid_auto_columns": null,
      "grid_auto_flow": null,
      "grid_auto_rows": null,
      "grid_column": null,
      "grid_gap": null,
      "grid_row": null,
      "grid_template_areas": null,
      "grid_template_columns": null,
      "grid_template_rows": null,
      "height": null,
      "justify_content": null,
      "justify_items": null,
      "left": null,
      "margin": null,
      "max_height": null,
      "max_width": null,
      "min_height": null,
      "min_width": null,
      "object_fit": null,
      "object_position": null,
      "order": null,
      "overflow": null,
      "overflow_x": null,
      "overflow_y": null,
      "padding": null,
      "right": null,
      "top": null,
      "visibility": null,
      "width": null
     }
    },
    "9ef9f520315348e2a5c357587b5672f8": {
     "model_module": "@jupyter-widgets/controls",
     "model_module_version": "1.5.0",
     "model_name": "DescriptionStyleModel",
     "state": {
      "_model_module": "@jupyter-widgets/controls",
      "_model_module_version": "1.5.0",
      "_model_name": "DescriptionStyleModel",
      "_view_count": null,
      "_view_module": "@jupyter-widgets/base",
      "_view_module_version": "1.2.0",
      "_view_name": "StyleView",
      "description_width": ""
     }
    },
    "a21fcf3d86894bb9b58cb708fe3c30e6": {
     "model_module": "@jupyter-widgets/controls",
     "model_module_version": "1.5.0",
     "model_name": "DescriptionStyleModel",
     "state": {
      "_model_module": "@jupyter-widgets/controls",
      "_model_module_version": "1.5.0",
      "_model_name": "DescriptionStyleModel",
      "_view_count": null,
      "_view_module": "@jupyter-widgets/base",
      "_view_module_version": "1.2.0",
      "_view_name": "StyleView",
      "description_width": ""
     }
    },
    "a420b36b477a4ef5bc6eefff88be7550": {
     "model_module": "@jupyter-widgets/controls",
     "model_module_version": "1.5.0",
     "model_name": "ProgressStyleModel",
     "state": {
      "_model_module": "@jupyter-widgets/controls",
      "_model_module_version": "1.5.0",
      "_model_name": "ProgressStyleModel",
      "_view_count": null,
      "_view_module": "@jupyter-widgets/base",
      "_view_module_version": "1.2.0",
      "_view_name": "StyleView",
      "bar_color": null,
      "description_width": ""
     }
    },
    "a429acd06c724cfeb8cbfedafff0b9cd": {
     "model_module": "@jupyter-widgets/controls",
     "model_module_version": "1.5.0",
     "model_name": "FloatProgressModel",
     "state": {
      "_dom_classes": [],
      "_model_module": "@jupyter-widgets/controls",
      "_model_module_version": "1.5.0",
      "_model_name": "FloatProgressModel",
      "_view_count": null,
      "_view_module": "@jupyter-widgets/controls",
      "_view_module_version": "1.5.0",
      "_view_name": "ProgressView",
      "bar_style": "success",
      "description": "",
      "description_tooltip": null,
      "layout": "IPY_MODEL_c1d1a7db064240d2997ca40173410f1e",
      "max": 1355256,
      "min": 0,
      "orientation": "horizontal",
      "style": "IPY_MODEL_e3d6ee23114a42a0ba1ecabae9f08c34",
      "value": 1355256
     }
    },
    "a58e045e41f44ee685634bf6be8e18eb": {
     "model_module": "@jupyter-widgets/base",
     "model_module_version": "1.2.0",
     "model_name": "LayoutModel",
     "state": {
      "_model_module": "@jupyter-widgets/base",
      "_model_module_version": "1.2.0",
      "_model_name": "LayoutModel",
      "_view_count": null,
      "_view_module": "@jupyter-widgets/base",
      "_view_module_version": "1.2.0",
      "_view_name": "LayoutView",
      "align_content": null,
      "align_items": null,
      "align_self": null,
      "border": null,
      "bottom": null,
      "display": null,
      "flex": null,
      "flex_flow": null,
      "grid_area": null,
      "grid_auto_columns": null,
      "grid_auto_flow": null,
      "grid_auto_rows": null,
      "grid_column": null,
      "grid_gap": null,
      "grid_row": null,
      "grid_template_areas": null,
      "grid_template_columns": null,
      "grid_template_rows": null,
      "height": null,
      "justify_content": null,
      "justify_items": null,
      "left": null,
      "margin": null,
      "max_height": null,
      "max_width": null,
      "min_height": null,
      "min_width": null,
      "object_fit": null,
      "object_position": null,
      "order": null,
      "overflow": null,
      "overflow_x": null,
      "overflow_y": null,
      "padding": null,
      "right": null,
      "top": null,
      "visibility": null,
      "width": null
     }
    },
    "a857714c204843c98b114756c49d590e": {
     "model_module": "@jupyter-widgets/controls",
     "model_module_version": "1.5.0",
     "model_name": "HBoxModel",
     "state": {
      "_dom_classes": [],
      "_model_module": "@jupyter-widgets/controls",
      "_model_module_version": "1.5.0",
      "_model_name": "HBoxModel",
      "_view_count": null,
      "_view_module": "@jupyter-widgets/controls",
      "_view_module_version": "1.5.0",
      "_view_name": "HBoxView",
      "box_style": "",
      "children": [
       "IPY_MODEL_99547bd6e38f4de1917c1314ef2e9676",
       "IPY_MODEL_f889553de26447cb9e528b90a79dc8a4",
       "IPY_MODEL_42e190f57d8f4e9981a0978d5a5cb22f"
      ],
      "layout": "IPY_MODEL_b5244527316c44bea582e85d2e3cc472"
     }
    },
    "adc0adaef8d44047b7afb976e536e345": {
     "model_module": "@jupyter-widgets/base",
     "model_module_version": "1.2.0",
     "model_name": "LayoutModel",
     "state": {
      "_model_module": "@jupyter-widgets/base",
      "_model_module_version": "1.2.0",
      "_model_name": "LayoutModel",
      "_view_count": null,
      "_view_module": "@jupyter-widgets/base",
      "_view_module_version": "1.2.0",
      "_view_name": "LayoutView",
      "align_content": null,
      "align_items": null,
      "align_self": null,
      "border": null,
      "bottom": null,
      "display": null,
      "flex": null,
      "flex_flow": null,
      "grid_area": null,
      "grid_auto_columns": null,
      "grid_auto_flow": null,
      "grid_auto_rows": null,
      "grid_column": null,
      "grid_gap": null,
      "grid_row": null,
      "grid_template_areas": null,
      "grid_template_columns": null,
      "grid_template_rows": null,
      "height": null,
      "justify_content": null,
      "justify_items": null,
      "left": null,
      "margin": null,
      "max_height": null,
      "max_width": null,
      "min_height": null,
      "min_width": null,
      "object_fit": null,
      "object_position": null,
      "order": null,
      "overflow": null,
      "overflow_x": null,
      "overflow_y": null,
      "padding": null,
      "right": null,
      "top": null,
      "visibility": null,
      "width": null
     }
    },
    "b1441d52555e44dba97fe1498aa50569": {
     "model_module": "@jupyter-widgets/base",
     "model_module_version": "1.2.0",
     "model_name": "LayoutModel",
     "state": {
      "_model_module": "@jupyter-widgets/base",
      "_model_module_version": "1.2.0",
      "_model_name": "LayoutModel",
      "_view_count": null,
      "_view_module": "@jupyter-widgets/base",
      "_view_module_version": "1.2.0",
      "_view_name": "LayoutView",
      "align_content": null,
      "align_items": null,
      "align_self": null,
      "border": null,
      "bottom": null,
      "display": null,
      "flex": null,
      "flex_flow": null,
      "grid_area": null,
      "grid_auto_columns": null,
      "grid_auto_flow": null,
      "grid_auto_rows": null,
      "grid_column": null,
      "grid_gap": null,
      "grid_row": null,
      "grid_template_areas": null,
      "grid_template_columns": null,
      "grid_template_rows": null,
      "height": null,
      "justify_content": null,
      "justify_items": null,
      "left": null,
      "margin": null,
      "max_height": null,
      "max_width": null,
      "min_height": null,
      "min_width": null,
      "object_fit": null,
      "object_position": null,
      "order": null,
      "overflow": null,
      "overflow_x": null,
      "overflow_y": null,
      "padding": null,
      "right": null,
      "top": null,
      "visibility": null,
      "width": null
     }
    },
    "b1dab55ea27448fbbb9bd134c6f35058": {
     "model_module": "@jupyter-widgets/controls",
     "model_module_version": "1.5.0",
     "model_name": "DescriptionStyleModel",
     "state": {
      "_model_module": "@jupyter-widgets/controls",
      "_model_module_version": "1.5.0",
      "_model_name": "DescriptionStyleModel",
      "_view_count": null,
      "_view_module": "@jupyter-widgets/base",
      "_view_module_version": "1.2.0",
      "_view_name": "StyleView",
      "description_width": ""
     }
    },
    "b33d8226816c40ab897c51a6dd43a69a": {
     "model_module": "@jupyter-widgets/controls",
     "model_module_version": "1.5.0",
     "model_name": "HTMLModel",
     "state": {
      "_dom_classes": [],
      "_model_module": "@jupyter-widgets/controls",
      "_model_module_version": "1.5.0",
      "_model_name": "HTMLModel",
      "_view_count": null,
      "_view_module": "@jupyter-widgets/controls",
      "_view_module_version": "1.5.0",
      "_view_name": "HTMLView",
      "description": "",
      "description_tooltip": null,
      "layout": "IPY_MODEL_6dea9147a3c2400287759c058b2f7093",
      "placeholder": "​",
      "style": "IPY_MODEL_03d69f9deb8346c99c7a5ab44608cbe6",
      "value": " 81.0/81.0 [00:00&lt;00:00, 2.89kB/s]"
     }
    },
    "b509aac35f6d479fa8c5904cf06ae466": {
     "model_module": "@jupyter-widgets/controls",
     "model_module_version": "1.5.0",
     "model_name": "DescriptionStyleModel",
     "state": {
      "_model_module": "@jupyter-widgets/controls",
      "_model_module_version": "1.5.0",
      "_model_name": "DescriptionStyleModel",
      "_view_count": null,
      "_view_module": "@jupyter-widgets/base",
      "_view_module_version": "1.2.0",
      "_view_name": "StyleView",
      "description_width": ""
     }
    },
    "b5244527316c44bea582e85d2e3cc472": {
     "model_module": "@jupyter-widgets/base",
     "model_module_version": "1.2.0",
     "model_name": "LayoutModel",
     "state": {
      "_model_module": "@jupyter-widgets/base",
      "_model_module_version": "1.2.0",
      "_model_name": "LayoutModel",
      "_view_count": null,
      "_view_module": "@jupyter-widgets/base",
      "_view_module_version": "1.2.0",
      "_view_name": "LayoutView",
      "align_content": null,
      "align_items": null,
      "align_self": null,
      "border": null,
      "bottom": null,
      "display": null,
      "flex": null,
      "flex_flow": null,
      "grid_area": null,
      "grid_auto_columns": null,
      "grid_auto_flow": null,
      "grid_auto_rows": null,
      "grid_column": null,
      "grid_gap": null,
      "grid_row": null,
      "grid_template_areas": null,
      "grid_template_columns": null,
      "grid_template_rows": null,
      "height": null,
      "justify_content": null,
      "justify_items": null,
      "left": null,
      "margin": null,
      "max_height": null,
      "max_width": null,
      "min_height": null,
      "min_width": null,
      "object_fit": null,
      "object_position": null,
      "order": null,
      "overflow": null,
      "overflow_x": null,
      "overflow_y": null,
      "padding": null,
      "right": null,
      "top": null,
      "visibility": null,
      "width": null
     }
    },
    "b642afbd34844728ae6f0b448a5b164d": {
     "model_module": "@jupyter-widgets/controls",
     "model_module_version": "1.5.0",
     "model_name": "DescriptionStyleModel",
     "state": {
      "_model_module": "@jupyter-widgets/controls",
      "_model_module_version": "1.5.0",
      "_model_name": "DescriptionStyleModel",
      "_view_count": null,
      "_view_module": "@jupyter-widgets/base",
      "_view_module_version": "1.2.0",
      "_view_name": "StyleView",
      "description_width": ""
     }
    },
    "b7cb407cfb56443ca1cb119d88ccf6d4": {
     "model_module": "@jupyter-widgets/base",
     "model_module_version": "1.2.0",
     "model_name": "LayoutModel",
     "state": {
      "_model_module": "@jupyter-widgets/base",
      "_model_module_version": "1.2.0",
      "_model_name": "LayoutModel",
      "_view_count": null,
      "_view_module": "@jupyter-widgets/base",
      "_view_module_version": "1.2.0",
      "_view_name": "LayoutView",
      "align_content": null,
      "align_items": null,
      "align_self": null,
      "border": null,
      "bottom": null,
      "display": null,
      "flex": null,
      "flex_flow": null,
      "grid_area": null,
      "grid_auto_columns": null,
      "grid_auto_flow": null,
      "grid_auto_rows": null,
      "grid_column": null,
      "grid_gap": null,
      "grid_row": null,
      "grid_template_areas": null,
      "grid_template_columns": null,
      "grid_template_rows": null,
      "height": null,
      "justify_content": null,
      "justify_items": null,
      "left": null,
      "margin": null,
      "max_height": null,
      "max_width": null,
      "min_height": null,
      "min_width": null,
      "object_fit": null,
      "object_position": null,
      "order": null,
      "overflow": null,
      "overflow_x": null,
      "overflow_y": null,
      "padding": null,
      "right": null,
      "top": null,
      "visibility": null,
      "width": null
     }
    },
    "ba4314d5b5564a0a81d5129599448f2d": {
     "model_module": "@jupyter-widgets/controls",
     "model_module_version": "1.5.0",
     "model_name": "DescriptionStyleModel",
     "state": {
      "_model_module": "@jupyter-widgets/controls",
      "_model_module_version": "1.5.0",
      "_model_name": "DescriptionStyleModel",
      "_view_count": null,
      "_view_module": "@jupyter-widgets/base",
      "_view_module_version": "1.2.0",
      "_view_name": "StyleView",
      "description_width": ""
     }
    },
    "bdb1d4e4e81a48118c0cf26f6662802d": {
     "model_module": "@jupyter-widgets/base",
     "model_module_version": "1.2.0",
     "model_name": "LayoutModel",
     "state": {
      "_model_module": "@jupyter-widgets/base",
      "_model_module_version": "1.2.0",
      "_model_name": "LayoutModel",
      "_view_count": null,
      "_view_module": "@jupyter-widgets/base",
      "_view_module_version": "1.2.0",
      "_view_name": "LayoutView",
      "align_content": null,
      "align_items": null,
      "align_self": null,
      "border": null,
      "bottom": null,
      "display": null,
      "flex": null,
      "flex_flow": null,
      "grid_area": null,
      "grid_auto_columns": null,
      "grid_auto_flow": null,
      "grid_auto_rows": null,
      "grid_column": null,
      "grid_gap": null,
      "grid_row": null,
      "grid_template_areas": null,
      "grid_template_columns": null,
      "grid_template_rows": null,
      "height": null,
      "justify_content": null,
      "justify_items": null,
      "left": null,
      "margin": null,
      "max_height": null,
      "max_width": null,
      "min_height": null,
      "min_width": null,
      "object_fit": null,
      "object_position": null,
      "order": null,
      "overflow": null,
      "overflow_x": null,
      "overflow_y": null,
      "padding": null,
      "right": null,
      "top": null,
      "visibility": null,
      "width": null
     }
    },
    "be0f68a3e1694465bf0008f613931572": {
     "model_module": "@jupyter-widgets/controls",
     "model_module_version": "1.5.0",
     "model_name": "HBoxModel",
     "state": {
      "_dom_classes": [],
      "_model_module": "@jupyter-widgets/controls",
      "_model_module_version": "1.5.0",
      "_model_name": "HBoxModel",
      "_view_count": null,
      "_view_module": "@jupyter-widgets/controls",
      "_view_module_version": "1.5.0",
      "_view_name": "HBoxView",
      "box_style": "",
      "children": [
       "IPY_MODEL_ccdf4b0f5a664844802139d39a48535e",
       "IPY_MODEL_25bf9f8e3fae46b1b683ea4751030abb",
       "IPY_MODEL_ffa93cab391d429ba298dd0467b025fb"
      ],
      "layout": "IPY_MODEL_9b8d88721c874c45bdee28d8e5a213ea"
     }
    },
    "bf72a134d5a0454480bd34b21a57f451": {
     "model_module": "@jupyter-widgets/controls",
     "model_module_version": "1.5.0",
     "model_name": "ProgressStyleModel",
     "state": {
      "_model_module": "@jupyter-widgets/controls",
      "_model_module_version": "1.5.0",
      "_model_name": "ProgressStyleModel",
      "_view_count": null,
      "_view_module": "@jupyter-widgets/base",
      "_view_module_version": "1.2.0",
      "_view_name": "StyleView",
      "bar_color": null,
      "description_width": ""
     }
    },
    "c0fef71bfc964de9a426d2cc3f65226c": {
     "model_module": "@jupyter-widgets/controls",
     "model_module_version": "1.5.0",
     "model_name": "HBoxModel",
     "state": {
      "_dom_classes": [],
      "_model_module": "@jupyter-widgets/controls",
      "_model_module_version": "1.5.0",
      "_model_name": "HBoxModel",
      "_view_count": null,
      "_view_module": "@jupyter-widgets/controls",
      "_view_module_version": "1.5.0",
      "_view_name": "HBoxView",
      "box_style": "",
      "children": [
       "IPY_MODEL_35f2bae35b234526bfd8a4bb663c26b7",
       "IPY_MODEL_19fe76e1e87d410b8776fe35d84fe05d",
       "IPY_MODEL_4833ce1cced84c3586c3583fa5910105"
      ],
      "layout": "IPY_MODEL_306af263209e4d13a70f6807461910fa"
     }
    },
    "c1d1a7db064240d2997ca40173410f1e": {
     "model_module": "@jupyter-widgets/base",
     "model_module_version": "1.2.0",
     "model_name": "LayoutModel",
     "state": {
      "_model_module": "@jupyter-widgets/base",
      "_model_module_version": "1.2.0",
      "_model_name": "LayoutModel",
      "_view_count": null,
      "_view_module": "@jupyter-widgets/base",
      "_view_module_version": "1.2.0",
      "_view_name": "LayoutView",
      "align_content": null,
      "align_items": null,
      "align_self": null,
      "border": null,
      "bottom": null,
      "display": null,
      "flex": null,
      "flex_flow": null,
      "grid_area": null,
      "grid_auto_columns": null,
      "grid_auto_flow": null,
      "grid_auto_rows": null,
      "grid_column": null,
      "grid_gap": null,
      "grid_row": null,
      "grid_template_areas": null,
      "grid_template_columns": null,
      "grid_template_rows": null,
      "height": null,
      "justify_content": null,
      "justify_items": null,
      "left": null,
      "margin": null,
      "max_height": null,
      "max_width": null,
      "min_height": null,
      "min_width": null,
      "object_fit": null,
      "object_position": null,
      "order": null,
      "overflow": null,
      "overflow_x": null,
      "overflow_y": null,
      "padding": null,
      "right": null,
      "top": null,
      "visibility": null,
      "width": null
     }
    },
    "c6d823ba5c414f899b4f6289ee612bc0": {
     "model_module": "@jupyter-widgets/controls",
     "model_module_version": "1.5.0",
     "model_name": "DescriptionStyleModel",
     "state": {
      "_model_module": "@jupyter-widgets/controls",
      "_model_module_version": "1.5.0",
      "_model_name": "DescriptionStyleModel",
      "_view_count": null,
      "_view_module": "@jupyter-widgets/base",
      "_view_module_version": "1.2.0",
      "_view_name": "StyleView",
      "description_width": ""
     }
    },
    "c75b25519f0d4a96b913315750e5296f": {
     "model_module": "@jupyter-widgets/controls",
     "model_module_version": "1.5.0",
     "model_name": "HBoxModel",
     "state": {
      "_dom_classes": [],
      "_model_module": "@jupyter-widgets/controls",
      "_model_module_version": "1.5.0",
      "_model_name": "HBoxModel",
      "_view_count": null,
      "_view_module": "@jupyter-widgets/controls",
      "_view_module_version": "1.5.0",
      "_view_name": "HBoxView",
      "box_style": "",
      "children": [
       "IPY_MODEL_9e2b2d1264e44da38835c12aeb7d9ceb",
       "IPY_MODEL_e16dd3e1e2b04a80a8d5aee6f2f6b6ed",
       "IPY_MODEL_5d91537e170b467b8cc899ef446057a7"
      ],
      "layout": "IPY_MODEL_ee83b698a58b4033a4238290050d707c"
     }
    },
    "cbd51c4771fd4cd1b2fcefacfe96ee36": {
     "model_module": "@jupyter-widgets/controls",
     "model_module_version": "1.5.0",
     "model_name": "ProgressStyleModel",
     "state": {
      "_model_module": "@jupyter-widgets/controls",
      "_model_module_version": "1.5.0",
      "_model_name": "ProgressStyleModel",
      "_view_count": null,
      "_view_module": "@jupyter-widgets/base",
      "_view_module_version": "1.2.0",
      "_view_name": "StyleView",
      "bar_color": null,
      "description_width": ""
     }
    },
    "ccdf4b0f5a664844802139d39a48535e": {
     "model_module": "@jupyter-widgets/controls",
     "model_module_version": "1.5.0",
     "model_name": "HTMLModel",
     "state": {
      "_dom_classes": [],
      "_model_module": "@jupyter-widgets/controls",
      "_model_module_version": "1.5.0",
      "_model_name": "HTMLModel",
      "_view_count": null,
      "_view_module": "@jupyter-widgets/controls",
      "_view_module_version": "1.5.0",
      "_view_name": "HTMLView",
      "description": "",
      "description_tooltip": null,
      "layout": "IPY_MODEL_adc0adaef8d44047b7afb976e536e345",
      "placeholder": "​",
      "style": "IPY_MODEL_da3d214ee9424430be1ba41b0a257d67",
      "value": "Downloading (…)ens_000187432960.pth: 100%"
     }
    },
    "ceda71e78f4e46399d38d8ad3c2a34e1": {
     "model_module": "@jupyter-widgets/controls",
     "model_module_version": "1.5.0",
     "model_name": "HBoxModel",
     "state": {
      "_dom_classes": [],
      "_model_module": "@jupyter-widgets/controls",
      "_model_module_version": "1.5.0",
      "_model_name": "HBoxModel",
      "_view_count": null,
      "_view_module": "@jupyter-widgets/controls",
      "_view_module_version": "1.5.0",
      "_view_name": "HBoxView",
      "box_style": "",
      "children": [
       "IPY_MODEL_29cf51ae355f4ef5962b739b8b75b59b",
       "IPY_MODEL_a429acd06c724cfeb8cbfedafff0b9cd",
       "IPY_MODEL_7f0f1b1c5cc34696a86b82036649182c"
      ],
      "layout": "IPY_MODEL_9ea8bda0af564af1a5cbad9c3a79346c"
     }
    },
    "cf21da6e0522425683885a3a412c4dde": {
     "model_module": "@jupyter-widgets/controls",
     "model_module_version": "1.5.0",
     "model_name": "HBoxModel",
     "state": {
      "_dom_classes": [],
      "_model_module": "@jupyter-widgets/controls",
      "_model_module_version": "1.5.0",
      "_model_name": "HBoxModel",
      "_view_count": null,
      "_view_module": "@jupyter-widgets/controls",
      "_view_module_version": "1.5.0",
      "_view_name": "HBoxView",
      "box_style": "",
      "children": [
       "IPY_MODEL_01af42f1af174302b30945884422f5dc",
       "IPY_MODEL_989bde8e399f4be2b0fd98ba59401927",
       "IPY_MODEL_5a1055b8e2124e0daab3c67ba2958297"
      ],
      "layout": "IPY_MODEL_3f9e5708942c46568a04dfec55e238f7"
     }
    },
    "d03b59febe304740af96bb478921b99c": {
     "model_module": "@jupyter-widgets/base",
     "model_module_version": "1.2.0",
     "model_name": "LayoutModel",
     "state": {
      "_model_module": "@jupyter-widgets/base",
      "_model_module_version": "1.2.0",
      "_model_name": "LayoutModel",
      "_view_count": null,
      "_view_module": "@jupyter-widgets/base",
      "_view_module_version": "1.2.0",
      "_view_name": "LayoutView",
      "align_content": null,
      "align_items": null,
      "align_self": null,
      "border": null,
      "bottom": null,
      "display": null,
      "flex": null,
      "flex_flow": null,
      "grid_area": null,
      "grid_auto_columns": null,
      "grid_auto_flow": null,
      "grid_auto_rows": null,
      "grid_column": null,
      "grid_gap": null,
      "grid_row": null,
      "grid_template_areas": null,
      "grid_template_columns": null,
      "grid_template_rows": null,
      "height": null,
      "justify_content": null,
      "justify_items": null,
      "left": null,
      "margin": null,
      "max_height": null,
      "max_width": null,
      "min_height": null,
      "min_width": null,
      "object_fit": null,
      "object_position": null,
      "order": null,
      "overflow": null,
      "overflow_x": null,
      "overflow_y": null,
      "padding": null,
      "right": null,
      "top": null,
      "visibility": null,
      "width": null
     }
    },
    "d0d4ba53bd2142bbaaba8f26593dd9b0": {
     "model_module": "@jupyter-widgets/controls",
     "model_module_version": "1.5.0",
     "model_name": "DescriptionStyleModel",
     "state": {
      "_model_module": "@jupyter-widgets/controls",
      "_model_module_version": "1.5.0",
      "_model_name": "DescriptionStyleModel",
      "_view_count": null,
      "_view_module": "@jupyter-widgets/base",
      "_view_module_version": "1.2.0",
      "_view_name": "StyleView",
      "description_width": ""
     }
    },
    "d40f4e52ad79421fb2196bcb87d9003b": {
     "model_module": "@jupyter-widgets/controls",
     "model_module_version": "1.5.0",
     "model_name": "DescriptionStyleModel",
     "state": {
      "_model_module": "@jupyter-widgets/controls",
      "_model_module_version": "1.5.0",
      "_model_name": "DescriptionStyleModel",
      "_view_count": null,
      "_view_module": "@jupyter-widgets/base",
      "_view_module_version": "1.2.0",
      "_view_name": "StyleView",
      "description_width": ""
     }
    },
    "d43ec9fb2eb248848c623ec0c538cb4b": {
     "model_module": "@jupyter-widgets/controls",
     "model_module_version": "1.5.0",
     "model_name": "DescriptionStyleModel",
     "state": {
      "_model_module": "@jupyter-widgets/controls",
      "_model_module_version": "1.5.0",
      "_model_name": "DescriptionStyleModel",
      "_view_count": null,
      "_view_module": "@jupyter-widgets/base",
      "_view_module_version": "1.2.0",
      "_view_name": "StyleView",
      "description_width": ""
     }
    },
    "da3d214ee9424430be1ba41b0a257d67": {
     "model_module": "@jupyter-widgets/controls",
     "model_module_version": "1.5.0",
     "model_name": "DescriptionStyleModel",
     "state": {
      "_model_module": "@jupyter-widgets/controls",
      "_model_module_version": "1.5.0",
      "_model_name": "DescriptionStyleModel",
      "_view_count": null,
      "_view_module": "@jupyter-widgets/base",
      "_view_module_version": "1.2.0",
      "_view_name": "StyleView",
      "description_width": ""
     }
    },
    "dab14c7ae47a4069afe947aa2e60ffc6": {
     "model_module": "@jupyter-widgets/controls",
     "model_module_version": "1.5.0",
     "model_name": "DescriptionStyleModel",
     "state": {
      "_model_module": "@jupyter-widgets/controls",
      "_model_module_version": "1.5.0",
      "_model_name": "DescriptionStyleModel",
      "_view_count": null,
      "_view_module": "@jupyter-widgets/base",
      "_view_module_version": "1.2.0",
      "_view_name": "StyleView",
      "description_width": ""
     }
    },
    "db2cacec957c4fb38dabc926dbf011e5": {
     "model_module": "@jupyter-widgets/controls",
     "model_module_version": "1.5.0",
     "model_name": "DescriptionStyleModel",
     "state": {
      "_model_module": "@jupyter-widgets/controls",
      "_model_module_version": "1.5.0",
      "_model_name": "DescriptionStyleModel",
      "_view_count": null,
      "_view_module": "@jupyter-widgets/base",
      "_view_module_version": "1.2.0",
      "_view_name": "StyleView",
      "description_width": ""
     }
    },
    "dbd65f77f255464e92b787a2894dab6a": {
     "model_module": "@jupyter-widgets/controls",
     "model_module_version": "1.5.0",
     "model_name": "HBoxModel",
     "state": {
      "_dom_classes": [],
      "_model_module": "@jupyter-widgets/controls",
      "_model_module_version": "1.5.0",
      "_model_name": "HBoxModel",
      "_view_count": null,
      "_view_module": "@jupyter-widgets/controls",
      "_view_module_version": "1.5.0",
      "_view_name": "HBoxView",
      "box_style": "",
      "children": [
       "IPY_MODEL_dfcc07ffacfe49779d7d0b7335c57962",
       "IPY_MODEL_916335de2cbd47828f9aae4cefe1fced",
       "IPY_MODEL_6193f787c84d4f378aa03be401a0839d"
      ],
      "layout": "IPY_MODEL_507a9293c7c048138980bf2810154e00"
     }
    },
    "df43b8d21806405d801c7b20d75166c8": {
     "model_module": "@jupyter-widgets/controls",
     "model_module_version": "1.5.0",
     "model_name": "HTMLModel",
     "state": {
      "_dom_classes": [],
      "_model_module": "@jupyter-widgets/controls",
      "_model_module_version": "1.5.0",
      "_model_name": "HTMLModel",
      "_view_count": null,
      "_view_module": "@jupyter-widgets/controls",
      "_view_module_version": "1.5.0",
      "_view_name": "HTMLView",
      "description": "",
      "description_tooltip": null,
      "layout": "IPY_MODEL_1269e01bf4194614a1019f9c9f4a8f02",
      "placeholder": "​",
      "style": "IPY_MODEL_e7e664024fa34fa1a82b20fa6a96d6bf",
      "value": "Downloading model.safetensors: 100%"
     }
    },
    "dfcc07ffacfe49779d7d0b7335c57962": {
     "model_module": "@jupyter-widgets/controls",
     "model_module_version": "1.5.0",
     "model_name": "HTMLModel",
     "state": {
      "_dom_classes": [],
      "_model_module": "@jupyter-widgets/controls",
      "_model_module_version": "1.5.0",
      "_model_name": "HTMLModel",
      "_view_count": null,
      "_view_module": "@jupyter-widgets/controls",
      "_view_module_version": "1.5.0",
      "_view_name": "HTMLView",
      "description": "",
      "description_tooltip": null,
      "layout": "IPY_MODEL_5aeffa6d0459417aa51a7222c95e0a1a",
      "placeholder": "​",
      "style": "IPY_MODEL_d40f4e52ad79421fb2196bcb87d9003b",
      "value": "100%"
     }
    },
    "e16dd3e1e2b04a80a8d5aee6f2f6b6ed": {
     "model_module": "@jupyter-widgets/controls",
     "model_module_version": "1.5.0",
     "model_name": "FloatProgressModel",
     "state": {
      "_dom_classes": [],
      "_model_module": "@jupyter-widgets/controls",
      "_model_module_version": "1.5.0",
      "_model_name": "FloatProgressModel",
      "_view_count": null,
      "_view_module": "@jupyter-widgets/controls",
      "_view_module_version": "1.5.0",
      "_view_name": "ProgressView",
      "bar_style": "success",
      "description": "",
      "description_tooltip": null,
      "layout": "IPY_MODEL_16975fdf494a4a9fb0d118ef13212260",
      "max": 1042301,
      "min": 0,
      "orientation": "horizontal",
      "style": "IPY_MODEL_a420b36b477a4ef5bc6eefff88be7550",
      "value": 1042301
     }
    },
    "e3d6ee23114a42a0ba1ecabae9f08c34": {
     "model_module": "@jupyter-widgets/controls",
     "model_module_version": "1.5.0",
     "model_name": "ProgressStyleModel",
     "state": {
      "_model_module": "@jupyter-widgets/controls",
      "_model_module_version": "1.5.0",
      "_model_name": "ProgressStyleModel",
      "_view_count": null,
      "_view_module": "@jupyter-widgets/base",
      "_view_module_version": "1.2.0",
      "_view_name": "StyleView",
      "bar_color": null,
      "description_width": ""
     }
    },
    "e4efe8ce5d1a401580347dccca3a01f4": {
     "model_module": "@jupyter-widgets/base",
     "model_module_version": "1.2.0",
     "model_name": "LayoutModel",
     "state": {
      "_model_module": "@jupyter-widgets/base",
      "_model_module_version": "1.2.0",
      "_model_name": "LayoutModel",
      "_view_count": null,
      "_view_module": "@jupyter-widgets/base",
      "_view_module_version": "1.2.0",
      "_view_name": "LayoutView",
      "align_content": null,
      "align_items": null,
      "align_self": null,
      "border": null,
      "bottom": null,
      "display": null,
      "flex": null,
      "flex_flow": null,
      "grid_area": null,
      "grid_auto_columns": null,
      "grid_auto_flow": null,
      "grid_auto_rows": null,
      "grid_column": null,
      "grid_gap": null,
      "grid_row": null,
      "grid_template_areas": null,
      "grid_template_columns": null,
      "grid_template_rows": null,
      "height": null,
      "justify_content": null,
      "justify_items": null,
      "left": null,
      "margin": null,
      "max_height": null,
      "max_width": null,
      "min_height": null,
      "min_width": null,
      "object_fit": null,
      "object_position": null,
      "order": null,
      "overflow": null,
      "overflow_x": null,
      "overflow_y": null,
      "padding": null,
      "right": null,
      "top": null,
      "visibility": null,
      "width": null
     }
    },
    "e60d7d68f9744e13976347f1b2f80131": {
     "model_module": "@jupyter-widgets/controls",
     "model_module_version": "1.5.0",
     "model_name": "DescriptionStyleModel",
     "state": {
      "_model_module": "@jupyter-widgets/controls",
      "_model_module_version": "1.5.0",
      "_model_name": "DescriptionStyleModel",
      "_view_count": null,
      "_view_module": "@jupyter-widgets/base",
      "_view_module_version": "1.2.0",
      "_view_name": "StyleView",
      "description_width": ""
     }
    },
    "e7e664024fa34fa1a82b20fa6a96d6bf": {
     "model_module": "@jupyter-widgets/controls",
     "model_module_version": "1.5.0",
     "model_name": "DescriptionStyleModel",
     "state": {
      "_model_module": "@jupyter-widgets/controls",
      "_model_module_version": "1.5.0",
      "_model_name": "DescriptionStyleModel",
      "_view_count": null,
      "_view_module": "@jupyter-widgets/base",
      "_view_module_version": "1.2.0",
      "_view_name": "StyleView",
      "description_width": ""
     }
    },
    "ebb57a05ee9d45138d961c5d07ac100d": {
     "model_module": "@jupyter-widgets/controls",
     "model_module_version": "1.5.0",
     "model_name": "DescriptionStyleModel",
     "state": {
      "_model_module": "@jupyter-widgets/controls",
      "_model_module_version": "1.5.0",
      "_model_name": "DescriptionStyleModel",
      "_view_count": null,
      "_view_module": "@jupyter-widgets/base",
      "_view_module_version": "1.2.0",
      "_view_name": "StyleView",
      "description_width": ""
     }
    },
    "ebd8886c8964434383da300b8e726538": {
     "model_module": "@jupyter-widgets/controls",
     "model_module_version": "1.5.0",
     "model_name": "FloatProgressModel",
     "state": {
      "_dom_classes": [],
      "_model_module": "@jupyter-widgets/controls",
      "_model_module_version": "1.5.0",
      "_model_name": "FloatProgressModel",
      "_view_count": null,
      "_view_module": "@jupyter-widgets/controls",
      "_view_module_version": "1.5.0",
      "_view_name": "ProgressView",
      "bar_style": "success",
      "description": "",
      "description_tooltip": null,
      "layout": "IPY_MODEL_327542ae2f014320a4d074a825ebf704",
      "max": 81,
      "min": 0,
      "orientation": "horizontal",
      "style": "IPY_MODEL_cbd51c4771fd4cd1b2fcefacfe96ee36",
      "value": 81
     }
    },
    "ee83b698a58b4033a4238290050d707c": {
     "model_module": "@jupyter-widgets/base",
     "model_module_version": "1.2.0",
     "model_name": "LayoutModel",
     "state": {
      "_model_module": "@jupyter-widgets/base",
      "_model_module_version": "1.2.0",
      "_model_name": "LayoutModel",
      "_view_count": null,
      "_view_module": "@jupyter-widgets/base",
      "_view_module_version": "1.2.0",
      "_view_name": "LayoutView",
      "align_content": null,
      "align_items": null,
      "align_self": null,
      "border": null,
      "bottom": null,
      "display": null,
      "flex": null,
      "flex_flow": null,
      "grid_area": null,
      "grid_auto_columns": null,
      "grid_auto_flow": null,
      "grid_auto_rows": null,
      "grid_column": null,
      "grid_gap": null,
      "grid_row": null,
      "grid_template_areas": null,
      "grid_template_columns": null,
      "grid_template_rows": null,
      "height": null,
      "justify_content": null,
      "justify_items": null,
      "left": null,
      "margin": null,
      "max_height": null,
      "max_width": null,
      "min_height": null,
      "min_width": null,
      "object_fit": null,
      "object_position": null,
      "order": null,
      "overflow": null,
      "overflow_x": null,
      "overflow_y": null,
      "padding": null,
      "right": null,
      "top": null,
      "visibility": null,
      "width": null
     }
    },
    "f194599f62e7455da898c9f154abf9da": {
     "model_module": "@jupyter-widgets/base",
     "model_module_version": "1.2.0",
     "model_name": "LayoutModel",
     "state": {
      "_model_module": "@jupyter-widgets/base",
      "_model_module_version": "1.2.0",
      "_model_name": "LayoutModel",
      "_view_count": null,
      "_view_module": "@jupyter-widgets/base",
      "_view_module_version": "1.2.0",
      "_view_name": "LayoutView",
      "align_content": null,
      "align_items": null,
      "align_self": null,
      "border": null,
      "bottom": null,
      "display": null,
      "flex": null,
      "flex_flow": null,
      "grid_area": null,
      "grid_auto_columns": null,
      "grid_auto_flow": null,
      "grid_auto_rows": null,
      "grid_column": null,
      "grid_gap": null,
      "grid_row": null,
      "grid_template_areas": null,
      "grid_template_columns": null,
      "grid_template_rows": null,
      "height": null,
      "justify_content": null,
      "justify_items": null,
      "left": null,
      "margin": null,
      "max_height": null,
      "max_width": null,
      "min_height": null,
      "min_width": null,
      "object_fit": null,
      "object_position": null,
      "order": null,
      "overflow": null,
      "overflow_x": null,
      "overflow_y": null,
      "padding": null,
      "right": null,
      "top": null,
      "visibility": null,
      "width": null
     }
    },
    "f3142dd3f2144f4a86ce2441bda78553": {
     "model_module": "@jupyter-widgets/base",
     "model_module_version": "1.2.0",
     "model_name": "LayoutModel",
     "state": {
      "_model_module": "@jupyter-widgets/base",
      "_model_module_version": "1.2.0",
      "_model_name": "LayoutModel",
      "_view_count": null,
      "_view_module": "@jupyter-widgets/base",
      "_view_module_version": "1.2.0",
      "_view_name": "LayoutView",
      "align_content": null,
      "align_items": null,
      "align_self": null,
      "border": null,
      "bottom": null,
      "display": null,
      "flex": null,
      "flex_flow": null,
      "grid_area": null,
      "grid_auto_columns": null,
      "grid_auto_flow": null,
      "grid_auto_rows": null,
      "grid_column": null,
      "grid_gap": null,
      "grid_row": null,
      "grid_template_areas": null,
      "grid_template_columns": null,
      "grid_template_rows": null,
      "height": null,
      "justify_content": null,
      "justify_items": null,
      "left": null,
      "margin": null,
      "max_height": null,
      "max_width": null,
      "min_height": null,
      "min_width": null,
      "object_fit": null,
      "object_position": null,
      "order": null,
      "overflow": null,
      "overflow_x": null,
      "overflow_y": null,
      "padding": null,
      "right": null,
      "top": null,
      "visibility": null,
      "width": null
     }
    },
    "f889553de26447cb9e528b90a79dc8a4": {
     "model_module": "@jupyter-widgets/controls",
     "model_module_version": "1.5.0",
     "model_name": "FloatProgressModel",
     "state": {
      "_dom_classes": [],
      "_model_module": "@jupyter-widgets/controls",
      "_model_module_version": "1.5.0",
      "_model_name": "FloatProgressModel",
      "_view_count": null,
      "_view_module": "@jupyter-widgets/controls",
      "_view_module_version": "1.5.0",
      "_view_name": "ProgressView",
      "bar_style": "success",
      "description": "",
      "description_tooltip": null,
      "layout": "IPY_MODEL_9c1227dd4b5441f4b6eaceb1bea279c8",
      "max": 50,
      "min": 0,
      "orientation": "horizontal",
      "style": "IPY_MODEL_412e09bd76004b43a7f9dcc45a4121d8",
      "value": 50
     }
    },
    "f935d9ce46b04408b4784a73ec6cf90f": {
     "model_module": "@jupyter-widgets/controls",
     "model_module_version": "1.5.0",
     "model_name": "HTMLModel",
     "state": {
      "_dom_classes": [],
      "_model_module": "@jupyter-widgets/controls",
      "_model_module_version": "1.5.0",
      "_model_name": "HTMLModel",
      "_view_count": null,
      "_view_module": "@jupyter-widgets/controls",
      "_view_module_version": "1.5.0",
      "_view_name": "HTMLView",
      "description": "",
      "description_tooltip": null,
      "layout": "IPY_MODEL_7b522340dd884311ae35112a13d7e379",
      "placeholder": "​",
      "style": "IPY_MODEL_62822330588248a3b568bd686541656d",
      "value": " 353M/353M [00:03&lt;00:00, 103MB/s]"
     }
    },
    "fbeff95f8ef64319863d3ffaccb1dd81": {
     "model_module": "@jupyter-widgets/base",
     "model_module_version": "1.2.0",
     "model_name": "LayoutModel",
     "state": {
      "_model_module": "@jupyter-widgets/base",
      "_model_module_version": "1.2.0",
      "_model_name": "LayoutModel",
      "_view_count": null,
      "_view_module": "@jupyter-widgets/base",
      "_view_module_version": "1.2.0",
      "_view_name": "LayoutView",
      "align_content": null,
      "align_items": null,
      "align_self": null,
      "border": null,
      "bottom": null,
      "display": null,
      "flex": null,
      "flex_flow": null,
      "grid_area": null,
      "grid_auto_columns": null,
      "grid_auto_flow": null,
      "grid_auto_rows": null,
      "grid_column": null,
      "grid_gap": null,
      "grid_row": null,
      "grid_template_areas": null,
      "grid_template_columns": null,
      "grid_template_rows": null,
      "height": null,
      "justify_content": null,
      "justify_items": null,
      "left": null,
      "margin": null,
      "max_height": null,
      "max_width": null,
      "min_height": null,
      "min_width": null,
      "object_fit": null,
      "object_position": null,
      "order": null,
      "overflow": null,
      "overflow_x": null,
      "overflow_y": null,
      "padding": null,
      "right": null,
      "top": null,
      "visibility": null,
      "width": null
     }
    },
    "fe9a21c4b3004033960bd3125a858b24": {
     "model_module": "@jupyter-widgets/controls",
     "model_module_version": "1.5.0",
     "model_name": "ProgressStyleModel",
     "state": {
      "_model_module": "@jupyter-widgets/controls",
      "_model_module_version": "1.5.0",
      "_model_name": "ProgressStyleModel",
      "_view_count": null,
      "_view_module": "@jupyter-widgets/base",
      "_view_module_version": "1.2.0",
      "_view_name": "StyleView",
      "bar_color": null,
      "description_width": ""
     }
    },
    "fefa7d321507416899ea86c124fc975b": {
     "model_module": "@jupyter-widgets/base",
     "model_module_version": "1.2.0",
     "model_name": "LayoutModel",
     "state": {
      "_model_module": "@jupyter-widgets/base",
      "_model_module_version": "1.2.0",
      "_model_name": "LayoutModel",
      "_view_count": null,
      "_view_module": "@jupyter-widgets/base",
      "_view_module_version": "1.2.0",
      "_view_name": "LayoutView",
      "align_content": null,
      "align_items": null,
      "align_self": null,
      "border": null,
      "bottom": null,
      "display": null,
      "flex": null,
      "flex_flow": null,
      "grid_area": null,
      "grid_auto_columns": null,
      "grid_auto_flow": null,
      "grid_auto_rows": null,
      "grid_column": null,
      "grid_gap": null,
      "grid_row": null,
      "grid_template_areas": null,
      "grid_template_columns": null,
      "grid_template_rows": null,
      "height": null,
      "justify_content": null,
      "justify_items": null,
      "left": null,
      "margin": null,
      "max_height": null,
      "max_width": null,
      "min_height": null,
      "min_width": null,
      "object_fit": null,
      "object_position": null,
      "order": null,
      "overflow": null,
      "overflow_x": null,
      "overflow_y": null,
      "padding": null,
      "right": null,
      "top": null,
      "visibility": null,
      "width": null
     }
    },
    "ff3ed36a1bbf4b428d750d962943f74d": {
     "model_module": "@jupyter-widgets/controls",
     "model_module_version": "1.5.0",
     "model_name": "HBoxModel",
     "state": {
      "_dom_classes": [],
      "_model_module": "@jupyter-widgets/controls",
      "_model_module_version": "1.5.0",
      "_model_name": "HBoxModel",
      "_view_count": null,
      "_view_module": "@jupyter-widgets/controls",
      "_view_module_version": "1.5.0",
      "_view_name": "HBoxView",
      "box_style": "",
      "children": [
       "IPY_MODEL_340e12863a6d4b0e8dad3e84aa9b738d",
       "IPY_MODEL_86e9cf5aed1648678bcdf477a8d3bbe4",
       "IPY_MODEL_3b7e18ee54db44e29439e9aea40a8ddb"
      ],
      "layout": "IPY_MODEL_2804faa5f4c9438985359f9999e93036"
     }
    },
    "ffa93cab391d429ba298dd0467b025fb": {
     "model_module": "@jupyter-widgets/controls",
     "model_module_version": "1.5.0",
     "model_name": "HTMLModel",
     "state": {
      "_dom_classes": [],
      "_model_module": "@jupyter-widgets/controls",
      "_model_module_version": "1.5.0",
      "_model_name": "HTMLModel",
      "_view_count": null,
      "_view_module": "@jupyter-widgets/controls",
      "_view_module_version": "1.5.0",
      "_view_name": "HTMLView",
      "description": "",
      "description_tooltip": null,
      "layout": "IPY_MODEL_1ca7f970fe5f4c68b7e3dfcd0bb31724",
      "placeholder": "​",
      "style": "IPY_MODEL_2343fb0846774e67bad7c56ab3da6620",
      "value": " 227M/227M [00:12&lt;00:00, 22.4MB/s]"
     }
    }
   }
  }
 },
 "nbformat": 4,
 "nbformat_minor": 1
}
